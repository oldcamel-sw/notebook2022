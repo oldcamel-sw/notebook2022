{
 "cells": [
  {
   "cell_type": "code",
   "execution_count": 2,
   "id": "c97b9576",
   "metadata": {},
   "outputs": [],
   "source": [
    "from IPython.display import Image"
   ]
  },
  {
   "cell_type": "markdown",
   "id": "0590c719",
   "metadata": {},
   "source": [
    "## 6.1 파이프라인을 사용한 효율적인 워크플로\n",
    "\n",
    "### 6.1.1 위스콘신 유방암 데이터셋"
   ]
  },
  {
   "cell_type": "code",
   "execution_count": 3,
   "id": "72518bcc",
   "metadata": {},
   "outputs": [
    {
     "data": {
      "text/html": [
       "<div>\n",
       "<style scoped>\n",
       "    .dataframe tbody tr th:only-of-type {\n",
       "        vertical-align: middle;\n",
       "    }\n",
       "\n",
       "    .dataframe tbody tr th {\n",
       "        vertical-align: top;\n",
       "    }\n",
       "\n",
       "    .dataframe thead th {\n",
       "        text-align: right;\n",
       "    }\n",
       "</style>\n",
       "<table border=\"1\" class=\"dataframe\">\n",
       "  <thead>\n",
       "    <tr style=\"text-align: right;\">\n",
       "      <th></th>\n",
       "      <th>0</th>\n",
       "      <th>1</th>\n",
       "      <th>2</th>\n",
       "      <th>3</th>\n",
       "      <th>4</th>\n",
       "      <th>5</th>\n",
       "      <th>6</th>\n",
       "      <th>7</th>\n",
       "      <th>8</th>\n",
       "      <th>9</th>\n",
       "      <th>...</th>\n",
       "      <th>22</th>\n",
       "      <th>23</th>\n",
       "      <th>24</th>\n",
       "      <th>25</th>\n",
       "      <th>26</th>\n",
       "      <th>27</th>\n",
       "      <th>28</th>\n",
       "      <th>29</th>\n",
       "      <th>30</th>\n",
       "      <th>31</th>\n",
       "    </tr>\n",
       "  </thead>\n",
       "  <tbody>\n",
       "    <tr>\n",
       "      <th>0</th>\n",
       "      <td>842302</td>\n",
       "      <td>M</td>\n",
       "      <td>17.99</td>\n",
       "      <td>10.38</td>\n",
       "      <td>122.80</td>\n",
       "      <td>1001.0</td>\n",
       "      <td>0.11840</td>\n",
       "      <td>0.27760</td>\n",
       "      <td>0.3001</td>\n",
       "      <td>0.14710</td>\n",
       "      <td>...</td>\n",
       "      <td>25.38</td>\n",
       "      <td>17.33</td>\n",
       "      <td>184.60</td>\n",
       "      <td>2019.0</td>\n",
       "      <td>0.1622</td>\n",
       "      <td>0.6656</td>\n",
       "      <td>0.7119</td>\n",
       "      <td>0.2654</td>\n",
       "      <td>0.4601</td>\n",
       "      <td>0.11890</td>\n",
       "    </tr>\n",
       "    <tr>\n",
       "      <th>1</th>\n",
       "      <td>842517</td>\n",
       "      <td>M</td>\n",
       "      <td>20.57</td>\n",
       "      <td>17.77</td>\n",
       "      <td>132.90</td>\n",
       "      <td>1326.0</td>\n",
       "      <td>0.08474</td>\n",
       "      <td>0.07864</td>\n",
       "      <td>0.0869</td>\n",
       "      <td>0.07017</td>\n",
       "      <td>...</td>\n",
       "      <td>24.99</td>\n",
       "      <td>23.41</td>\n",
       "      <td>158.80</td>\n",
       "      <td>1956.0</td>\n",
       "      <td>0.1238</td>\n",
       "      <td>0.1866</td>\n",
       "      <td>0.2416</td>\n",
       "      <td>0.1860</td>\n",
       "      <td>0.2750</td>\n",
       "      <td>0.08902</td>\n",
       "    </tr>\n",
       "    <tr>\n",
       "      <th>2</th>\n",
       "      <td>84300903</td>\n",
       "      <td>M</td>\n",
       "      <td>19.69</td>\n",
       "      <td>21.25</td>\n",
       "      <td>130.00</td>\n",
       "      <td>1203.0</td>\n",
       "      <td>0.10960</td>\n",
       "      <td>0.15990</td>\n",
       "      <td>0.1974</td>\n",
       "      <td>0.12790</td>\n",
       "      <td>...</td>\n",
       "      <td>23.57</td>\n",
       "      <td>25.53</td>\n",
       "      <td>152.50</td>\n",
       "      <td>1709.0</td>\n",
       "      <td>0.1444</td>\n",
       "      <td>0.4245</td>\n",
       "      <td>0.4504</td>\n",
       "      <td>0.2430</td>\n",
       "      <td>0.3613</td>\n",
       "      <td>0.08758</td>\n",
       "    </tr>\n",
       "    <tr>\n",
       "      <th>3</th>\n",
       "      <td>84348301</td>\n",
       "      <td>M</td>\n",
       "      <td>11.42</td>\n",
       "      <td>20.38</td>\n",
       "      <td>77.58</td>\n",
       "      <td>386.1</td>\n",
       "      <td>0.14250</td>\n",
       "      <td>0.28390</td>\n",
       "      <td>0.2414</td>\n",
       "      <td>0.10520</td>\n",
       "      <td>...</td>\n",
       "      <td>14.91</td>\n",
       "      <td>26.50</td>\n",
       "      <td>98.87</td>\n",
       "      <td>567.7</td>\n",
       "      <td>0.2098</td>\n",
       "      <td>0.8663</td>\n",
       "      <td>0.6869</td>\n",
       "      <td>0.2575</td>\n",
       "      <td>0.6638</td>\n",
       "      <td>0.17300</td>\n",
       "    </tr>\n",
       "    <tr>\n",
       "      <th>4</th>\n",
       "      <td>84358402</td>\n",
       "      <td>M</td>\n",
       "      <td>20.29</td>\n",
       "      <td>14.34</td>\n",
       "      <td>135.10</td>\n",
       "      <td>1297.0</td>\n",
       "      <td>0.10030</td>\n",
       "      <td>0.13280</td>\n",
       "      <td>0.1980</td>\n",
       "      <td>0.10430</td>\n",
       "      <td>...</td>\n",
       "      <td>22.54</td>\n",
       "      <td>16.67</td>\n",
       "      <td>152.20</td>\n",
       "      <td>1575.0</td>\n",
       "      <td>0.1374</td>\n",
       "      <td>0.2050</td>\n",
       "      <td>0.4000</td>\n",
       "      <td>0.1625</td>\n",
       "      <td>0.2364</td>\n",
       "      <td>0.07678</td>\n",
       "    </tr>\n",
       "  </tbody>\n",
       "</table>\n",
       "<p>5 rows × 32 columns</p>\n",
       "</div>"
      ],
      "text/plain": [
       "         0  1      2      3       4       5        6        7       8   \\\n",
       "0    842302  M  17.99  10.38  122.80  1001.0  0.11840  0.27760  0.3001   \n",
       "1    842517  M  20.57  17.77  132.90  1326.0  0.08474  0.07864  0.0869   \n",
       "2  84300903  M  19.69  21.25  130.00  1203.0  0.10960  0.15990  0.1974   \n",
       "3  84348301  M  11.42  20.38   77.58   386.1  0.14250  0.28390  0.2414   \n",
       "4  84358402  M  20.29  14.34  135.10  1297.0  0.10030  0.13280  0.1980   \n",
       "\n",
       "        9   ...     22     23      24      25      26      27      28      29  \\\n",
       "0  0.14710  ...  25.38  17.33  184.60  2019.0  0.1622  0.6656  0.7119  0.2654   \n",
       "1  0.07017  ...  24.99  23.41  158.80  1956.0  0.1238  0.1866  0.2416  0.1860   \n",
       "2  0.12790  ...  23.57  25.53  152.50  1709.0  0.1444  0.4245  0.4504  0.2430   \n",
       "3  0.10520  ...  14.91  26.50   98.87   567.7  0.2098  0.8663  0.6869  0.2575   \n",
       "4  0.10430  ...  22.54  16.67  152.20  1575.0  0.1374  0.2050  0.4000  0.1625   \n",
       "\n",
       "       30       31  \n",
       "0  0.4601  0.11890  \n",
       "1  0.2750  0.08902  \n",
       "2  0.3613  0.08758  \n",
       "3  0.6638  0.17300  \n",
       "4  0.2364  0.07678  \n",
       "\n",
       "[5 rows x 32 columns]"
      ]
     },
     "execution_count": 3,
     "metadata": {},
     "output_type": "execute_result"
    }
   ],
   "source": [
    "import pandas as pd\n",
    "\n",
    "df = pd.read_csv('https://archive.ics.uci.edu/ml/'\n",
    "                 'machine-learning-databases'\n",
    "                 '/breast-cancer-wisconsin/wdbc.data', header=None)\n",
    "\n",
    "df.head()"
   ]
  },
  {
   "cell_type": "code",
   "execution_count": 4,
   "id": "710e8e69",
   "metadata": {},
   "outputs": [
    {
     "data": {
      "text/plain": [
       "(569, 32)"
      ]
     },
     "execution_count": 4,
     "metadata": {},
     "output_type": "execute_result"
    }
   ],
   "source": [
    "df.shape"
   ]
  },
  {
   "cell_type": "code",
   "execution_count": 5,
   "id": "d828bcad",
   "metadata": {},
   "outputs": [
    {
     "data": {
      "text/plain": [
       "B    357\n",
       "M    212\n",
       "Name: 1, dtype: int64"
      ]
     },
     "execution_count": 5,
     "metadata": {},
     "output_type": "execute_result"
    }
   ],
   "source": [
    "df[1].value_counts()"
   ]
  },
  {
   "cell_type": "code",
   "execution_count": 6,
   "id": "e3c2cba3",
   "metadata": {},
   "outputs": [
    {
     "data": {
      "text/plain": [
       "array(['B', 'M'], dtype=object)"
      ]
     },
     "execution_count": 6,
     "metadata": {},
     "output_type": "execute_result"
    }
   ],
   "source": [
    "# class label(1번 열)을 'M'과 'B'에서 정수로 변환\n",
    "from sklearn.preprocessing import LabelEncoder\n",
    "\n",
    "X = df.loc[:, 2:].values\n",
    "y = df.loc[:, 1].values\n",
    "le = LabelEncoder()\n",
    "y = le.fit_transform(y)\n",
    "le.classes_"
   ]
  },
  {
   "cell_type": "code",
   "execution_count": 7,
   "id": "3b46bc0a",
   "metadata": {},
   "outputs": [
    {
     "data": {
      "text/plain": [
       "array([1, 0])"
      ]
     },
     "execution_count": 7,
     "metadata": {},
     "output_type": "execute_result"
    }
   ],
   "source": [
    "# 매핑 확인\n",
    "le.transform(['M', 'B'])"
   ]
  },
  {
   "cell_type": "code",
   "execution_count": 8,
   "id": "47ca6edc",
   "metadata": {},
   "outputs": [],
   "source": [
    "# split\n",
    "from sklearn.model_selection import train_test_split\n",
    "\n",
    "X_train, X_test, y_train, y_test = \\\n",
    "    train_test_split(X, y,\n",
    "                     test_size=0.20,\n",
    "                     stratify=y,\n",
    "                     random_state=1)"
   ]
  },
  {
   "cell_type": "markdown",
   "id": "3d94039e",
   "metadata": {},
   "source": [
    "### 6.1.2 파이프라인으로 변환기와 추정기 연결\n",
    "- StandardScaler, PCA, LogisticRegression을 한 번에 연결"
   ]
  },
  {
   "cell_type": "code",
   "execution_count": 10,
   "id": "17409346",
   "metadata": {},
   "outputs": [
    {
     "name": "stdout",
     "output_type": "stream",
     "text": [
      "테스트 정확도: 0.956\n"
     ]
    }
   ],
   "source": [
    "from sklearn.preprocessing import StandardScaler\n",
    "from sklearn.decomposition import PCA\n",
    "from sklearn.linear_model import LogisticRegression\n",
    "from sklearn.pipeline import make_pipeline\n",
    "\n",
    "pipe_lr = make_pipeline(StandardScaler(),\n",
    "                       PCA(n_components=2),\n",
    "                       LogisticRegression(random_state=1))\n",
    "\n",
    "pipe_lr.fit(X_train, y_train)\n",
    "y_pred = pipe_lr.predict(X_test)\n",
    "print('테스트 정확도: %.3f' % pipe_lr.score(X_test, y_test))"
   ]
  },
  {
   "cell_type": "code",
   "execution_count": 11,
   "id": "8170043b",
   "metadata": {},
   "outputs": [
    {
     "data": {
      "text/html": [
       "<style>#sk-930689d9-7e24-4233-a133-8f734fa49b94 {color: black;background-color: white;}#sk-930689d9-7e24-4233-a133-8f734fa49b94 pre{padding: 0;}#sk-930689d9-7e24-4233-a133-8f734fa49b94 div.sk-toggleable {background-color: white;}#sk-930689d9-7e24-4233-a133-8f734fa49b94 label.sk-toggleable__label {cursor: pointer;display: block;width: 100%;margin-bottom: 0;padding: 0.2em 0.3em;box-sizing: border-box;text-align: center;}#sk-930689d9-7e24-4233-a133-8f734fa49b94 div.sk-toggleable__content {max-height: 0;max-width: 0;overflow: hidden;text-align: left;background-color: #f0f8ff;}#sk-930689d9-7e24-4233-a133-8f734fa49b94 div.sk-toggleable__content pre {margin: 0.2em;color: black;border-radius: 0.25em;background-color: #f0f8ff;}#sk-930689d9-7e24-4233-a133-8f734fa49b94 input.sk-toggleable__control:checked~div.sk-toggleable__content {max-height: 200px;max-width: 100%;overflow: auto;}#sk-930689d9-7e24-4233-a133-8f734fa49b94 div.sk-estimator input.sk-toggleable__control:checked~label.sk-toggleable__label {background-color: #d4ebff;}#sk-930689d9-7e24-4233-a133-8f734fa49b94 div.sk-label input.sk-toggleable__control:checked~label.sk-toggleable__label {background-color: #d4ebff;}#sk-930689d9-7e24-4233-a133-8f734fa49b94 input.sk-hidden--visually {border: 0;clip: rect(1px 1px 1px 1px);clip: rect(1px, 1px, 1px, 1px);height: 1px;margin: -1px;overflow: hidden;padding: 0;position: absolute;width: 1px;}#sk-930689d9-7e24-4233-a133-8f734fa49b94 div.sk-estimator {font-family: monospace;background-color: #f0f8ff;margin: 0.25em 0.25em;border: 1px dotted black;border-radius: 0.25em;box-sizing: border-box;}#sk-930689d9-7e24-4233-a133-8f734fa49b94 div.sk-estimator:hover {background-color: #d4ebff;}#sk-930689d9-7e24-4233-a133-8f734fa49b94 div.sk-parallel-item::after {content: \"\";width: 100%;border-bottom: 1px solid gray;flex-grow: 1;}#sk-930689d9-7e24-4233-a133-8f734fa49b94 div.sk-label:hover label.sk-toggleable__label {background-color: #d4ebff;}#sk-930689d9-7e24-4233-a133-8f734fa49b94 div.sk-serial::before {content: \"\";position: absolute;border-left: 1px solid gray;box-sizing: border-box;top: 2em;bottom: 0;left: 50%;}#sk-930689d9-7e24-4233-a133-8f734fa49b94 div.sk-serial {display: flex;flex-direction: column;align-items: center;background-color: white;}#sk-930689d9-7e24-4233-a133-8f734fa49b94 div.sk-item {z-index: 1;}#sk-930689d9-7e24-4233-a133-8f734fa49b94 div.sk-parallel {display: flex;align-items: stretch;justify-content: center;background-color: white;}#sk-930689d9-7e24-4233-a133-8f734fa49b94 div.sk-parallel-item {display: flex;flex-direction: column;position: relative;background-color: white;}#sk-930689d9-7e24-4233-a133-8f734fa49b94 div.sk-parallel-item:first-child::after {align-self: flex-end;width: 50%;}#sk-930689d9-7e24-4233-a133-8f734fa49b94 div.sk-parallel-item:last-child::after {align-self: flex-start;width: 50%;}#sk-930689d9-7e24-4233-a133-8f734fa49b94 div.sk-parallel-item:only-child::after {width: 0;}#sk-930689d9-7e24-4233-a133-8f734fa49b94 div.sk-dashed-wrapped {border: 1px dashed gray;margin: 0.2em;box-sizing: border-box;padding-bottom: 0.1em;background-color: white;position: relative;}#sk-930689d9-7e24-4233-a133-8f734fa49b94 div.sk-label label {font-family: monospace;font-weight: bold;background-color: white;display: inline-block;line-height: 1.2em;}#sk-930689d9-7e24-4233-a133-8f734fa49b94 div.sk-label-container {position: relative;z-index: 2;text-align: center;}#sk-930689d9-7e24-4233-a133-8f734fa49b94 div.sk-container {display: inline-block;position: relative;}</style><div id=\"sk-930689d9-7e24-4233-a133-8f734fa49b94\" class\"sk-top-container\"><div class=\"sk-container\"><div class=\"sk-item sk-dashed-wrapped\"><div class=\"sk-label-container\"><div class=\"sk-label sk-toggleable\"><input class=\"sk-toggleable__control sk-hidden--visually\" id=\"9592dd20-95f0-430b-bdcf-1236398fd814\" type=\"checkbox\" ><label class=\"sk-toggleable__label\" for=\"9592dd20-95f0-430b-bdcf-1236398fd814\">Pipeline</label><div class=\"sk-toggleable__content\"><pre>Pipeline(steps=[('standardscaler', StandardScaler()),\n",
       "                ('pca', PCA(n_components=2)),\n",
       "                ('logisticregression', LogisticRegression(random_state=1))])</pre></div></div></div><div class=\"sk-serial\"><div class=\"sk-item\"><div class=\"sk-estimator sk-toggleable\"><input class=\"sk-toggleable__control sk-hidden--visually\" id=\"5d6ebf1c-3907-4545-9953-638a418ddf02\" type=\"checkbox\" ><label class=\"sk-toggleable__label\" for=\"5d6ebf1c-3907-4545-9953-638a418ddf02\">StandardScaler</label><div class=\"sk-toggleable__content\"><pre>StandardScaler()</pre></div></div></div><div class=\"sk-item\"><div class=\"sk-estimator sk-toggleable\"><input class=\"sk-toggleable__control sk-hidden--visually\" id=\"a028085b-10a2-4316-a1ef-9fa0efadfee2\" type=\"checkbox\" ><label class=\"sk-toggleable__label\" for=\"a028085b-10a2-4316-a1ef-9fa0efadfee2\">PCA</label><div class=\"sk-toggleable__content\"><pre>PCA(n_components=2)</pre></div></div></div><div class=\"sk-item\"><div class=\"sk-estimator sk-toggleable\"><input class=\"sk-toggleable__control sk-hidden--visually\" id=\"5bfe5a60-c3b7-4b21-bbf2-c6bc7deb0199\" type=\"checkbox\" ><label class=\"sk-toggleable__label\" for=\"5bfe5a60-c3b7-4b21-bbf2-c6bc7deb0199\">LogisticRegression</label><div class=\"sk-toggleable__content\"><pre>LogisticRegression(random_state=1)</pre></div></div></div></div></div></div></div>"
      ],
      "text/plain": [
       "Pipeline(steps=[('standardscaler', StandardScaler()),\n",
       "                ('pca', PCA(n_components=2)),\n",
       "                ('logisticregression', LogisticRegression(random_state=1))])"
      ]
     },
     "execution_count": 11,
     "metadata": {},
     "output_type": "execute_result"
    }
   ],
   "source": [
    "import matplotlib.pyplot as plt\n",
    "from sklearn import set_config\n",
    "\n",
    "set_config(display='diagram')\n",
    "pipe_lr"
   ]
  },
  {
   "cell_type": "code",
   "execution_count": 10,
   "id": "6ef9a1a6",
   "metadata": {
    "colab": {
     "base_uri": "https://localhost:8080/",
     "height": 399
    },
    "id": "HlvW4t-nXex8",
    "outputId": "16b9d14c-776a-419e-8ca6-ff09eba43da4",
    "scrolled": false
   },
   "outputs": [
    {
     "data": {
      "text/html": [
       "<img src=\"https://git.io/JtsTr\" width=\"500\"/>"
      ],
      "text/plain": [
       "<IPython.core.display.Image object>"
      ]
     },
     "execution_count": 10,
     "metadata": {},
     "output_type": "execute_result"
    }
   ],
   "source": [
    "Image(url='https://git.io/JtsTr', width=500) "
   ]
  },
  {
   "cell_type": "markdown",
   "id": "cfa15899",
   "metadata": {},
   "source": [
    "> make_pipeline 함수는 여러 개의 사이킷런 변환기(입력에 대해 fit 메서드와 transform 메서드를 지원하는 객체)와 그 뒤에 fit 메서드와 predict 메서드를 구현한 사이킷런 추정기를 연결할 수 있다.<br>\n",
    "\n",
    "> 파이프라인의 중간 단계 횟수는 제한이 없으나, 마지막 요소는 '추정기'가 되어야 한다."
   ]
  },
  {
   "cell_type": "markdown",
   "id": "8262c58d",
   "metadata": {},
   "source": [
    "## 6.2 k-겹 교차 검증을 사용한 모델 성능 평가\n",
    "- 모델이 너무 간단하면 과소적합(높은 편향)이 문제가 되고, 너무 복잡하면 훈련 데이터에 과대적합(높은 분산)될 수 있다.\n",
    "- holdout cross-validation과 k-fold cross-validation은 '모델의 일반화 성능, 즉 처음 본 데이터에 모델이 얼마나 잘 동작하는지 신뢰할 만한 추정을 하도록 도와준다.'"
   ]
  },
  {
   "cell_type": "markdown",
   "id": "29e96294",
   "metadata": {},
   "source": [
    "### 6.2.1 홀드아웃 방법"
   ]
  },
  {
   "cell_type": "code",
   "execution_count": 11,
   "id": "b5ddb458",
   "metadata": {
    "colab": {
     "base_uri": "https://localhost:8080/",
     "height": 399
    },
    "id": "HlvW4t-nXex8",
    "outputId": "16b9d14c-776a-419e-8ca6-ff09eba43da4",
    "scrolled": false
   },
   "outputs": [
    {
     "data": {
      "text/html": [
       "<img src=\"https://git.io/JtsTo\" width=\"500\"/>"
      ],
      "text/plain": [
       "<IPython.core.display.Image object>"
      ]
     },
     "execution_count": 11,
     "metadata": {},
     "output_type": "execute_result"
    }
   ],
   "source": [
    "Image(url='https://git.io/JtsTo', width=500)"
   ]
  },
  {
   "cell_type": "markdown",
   "id": "e2786a2d",
   "metadata": {},
   "source": [
    "> 데이터를 훈련과 테스트로 나누고, 훈련 데이터셋을 이용해서 모델을 설계한 다음에 테스트 데이터셋을 일반화 성능 평가용으로 사용한다. 근데 보통 여기서 끝나지 않고, 테스트 모델을 가지고 모델을 추가 학습 시킨다. 그러다보면 결국 테스트 데이터도 훈련 데이터가 되는 것이고, 모델은 전체 데이터셋에 대해 과대적합되는 것이다.<br>\n",
    "\n",
    "> **홀드아웃 방법은 데이터를 훈련 데이터셋, 검증 데이터셋, 테스트 데이터셋 세 부분으로 나누는 것이다.**\n",
    "<br>\n",
    "\n",
    "- 훈련 데이터셋은 모델 훈련, 검증 데이터셋은 모델 선택, 테스트 데이터셋은 일반화 성능 평가\n",
    "    - 모델 하이퍼 파라미터의 변경이나 튜닝은 검증 데이터셋을 기반으로 평가해서 조정한다."
   ]
  },
  {
   "cell_type": "markdown",
   "id": "181ad455",
   "metadata": {},
   "source": [
    "- 위 방법의 한 가지 단점은.. 검증 데이터셋이 어떤 샘플로 이루어져 있느냐에 따라 성능 추정이 민감할 수 있다는 것이다.\n",
    "- 그래서 등장하는 게 **k-fold cross-validation**이다.<br>\n",
    "\n",
    "> 훈련 데이터셋을 $k$개의 fold로 랜덤하게 나눈다 => $k-1$개의 폴드로 모델을 훈련하고, 나머지 하나의 폴드로 성능을 평가한다. => 이 과정을 $k$번 반복하여 $k$개의 모델과 성능 추정을 얻는다. => 모델의 평균 성능을 계산한다. => 위 과정을 반복하면서 모델을 튜닝하고 최적의 하이퍼파라미터 값을 찾는다 => 만족스런 하이퍼파라미터 값을 찾고 나면 전체 훈련 데이터셋을 사용하여 모델을 다시 훈련한다 => 그 다음 독립적인 테스트 데이터셋을 사용하여 최종 성능 추정을 한다. <br>\n",
    "\n",
    "- 중복을 허용하지 않는 리샘플링으로 fold를 나누기 때문에, 모든 샘플 포인트가 '검증'에 사용되는 장점이 있다 => 홀드아웃 방법보다 모델 성능의 추정에 분산이 낮다.\n",
    "    - Class imbalance가 있을 때는 StratifiedKFold를 사용한다."
   ]
  },
  {
   "cell_type": "code",
   "execution_count": 12,
   "id": "c586ea5a",
   "metadata": {},
   "outputs": [
    {
     "data": {
      "text/html": [
       "<img src=\"https://git.io/JtsT6\" width=\"500\"/>"
      ],
      "text/plain": [
       "<IPython.core.display.Image object>"
      ]
     },
     "execution_count": 12,
     "metadata": {},
     "output_type": "execute_result"
    }
   ],
   "source": [
    "Image(url='https://git.io/JtsT6', width=500) "
   ]
  },
  {
   "cell_type": "markdown",
   "id": "4df67e07",
   "metadata": {},
   "source": [
    "> Ron Kahavi는 **\"여러 종류의 실제 데이터셋에서 수행한 실험을 통해 k=10일 때의 교차 검증이 가장 뛰어난 편향-분산 트레이드오프를 가진다고\"** 말했다.<br>\n",
    "\n",
    "- 아주 작은 데이터셋을 다룰 때는 *LOOCV(Leave-One-Out Cross-Validation)*이라는 기법도 사용된다. 이건 폴드 개수가 훈련 샘플 개수와 같은 거다($k=n$). 하나의 훈련 샘플이 각 반복에서 테스트로 사용된다."
   ]
  },
  {
   "cell_type": "code",
   "execution_count": 13,
   "id": "aebbbb35",
   "metadata": {},
   "outputs": [
    {
     "name": "stdout",
     "output_type": "stream",
     "text": [
      "폴드:  1, 클래스 분포: [256 153], 정확도: 0.935\n",
      "폴드:  2, 클래스 분포: [256 153], 정확도: 0.935\n",
      "폴드:  3, 클래스 분포: [256 153], 정확도: 0.957\n",
      "폴드:  4, 클래스 분포: [256 153], 정확도: 0.957\n",
      "폴드:  5, 클래스 분포: [256 153], 정확도: 0.935\n",
      "폴드:  6, 클래스 분포: [257 153], 정확도: 0.956\n",
      "폴드:  7, 클래스 분포: [257 153], 정확도: 0.978\n",
      "폴드:  8, 클래스 분포: [257 153], 정확도: 0.933\n",
      "폴드:  9, 클래스 분포: [257 153], 정확도: 0.956\n",
      "폴드: 10, 클래스 분포: [257 153], 정확도: 0.956\n",
      "\n",
      "CV 정확도: 0.950 +/- 0.014\n"
     ]
    }
   ],
   "source": [
    "# stratified k-fold\n",
    "import numpy as np\n",
    "from sklearn.model_selection import StratifiedKFold\n",
    "\n",
    "kfold = StratifiedKFold(n_splits=10).split(X_train, y_train)\n",
    "\n",
    "scores = []\n",
    "for k, (train, test) in enumerate(kfold): # k번째 교차검증, (훈련인덱스, 검증인덱스)\n",
    "    pipe_lr.fit(X_train[train], y_train[train]) # X_train[훈련인덱스], y_train[훈련인덱스]  ==> 훈련폴드에서 model fitting 하는 것\n",
    "    score = pipe_lr.score(X_train[test], y_train[test]) #X_train[검증인덱스], y_train[검증인덱스]  ==> 검증폴드에서 model assessing 하는 것\n",
    "    scores.append(score)\n",
    "    print('폴드: %2d, 클래스 분포: %s, 정확도: %.3f' %\n",
    "         (k+1, np.bincount(y_train[train]), score))\n",
    "\n",
    "print('\\nCV 정확도: %.3f +/- %.3f' % (np.mean(scores),\n",
    "                                  np.std(scores)))"
   ]
  },
  {
   "cell_type": "code",
   "execution_count": 14,
   "id": "f4cc002b",
   "metadata": {},
   "outputs": [
    {
     "name": "stdout",
     "output_type": "stream",
     "text": [
      "CV 정확도 점수: [0.93478261 0.93478261 0.95652174 0.95652174 0.93478261 0.95555556\n",
      " 0.97777778 0.93333333 0.95555556 0.95555556]\n",
      "CV 정확도: 0.950 +/- 0.014\n"
     ]
    }
   ],
   "source": [
    "# sklearn의 corss_val_score 사용하는 간단한 모델 평가법\n",
    "from sklearn.model_selection import cross_val_score\n",
    "\n",
    "scores = cross_val_score(estimator=pipe_lr,\n",
    "                        X=X_train,\n",
    "                        y=y_train,\n",
    "                        cv=10,\n",
    "                        n_jobs=1)\n",
    "print('CV 정확도 점수: %s' % scores)\n",
    "print('CV 정확도: %.3f +/- %.3f' % (np.mean(scores),\n",
    "                                np.std(scores)))"
   ]
  },
  {
   "cell_type": "markdown",
   "id": "f96b24b6",
   "metadata": {},
   "source": [
    "- cross_val_score가 검증에 사용하는 기본 측정 지표는 회귀일 때는 $R^2$, 분류일 때는 정확도다."
   ]
  },
  {
   "cell_type": "markdown",
   "id": "d37ae7f8",
   "metadata": {},
   "source": [
    "## 6.3 학습 곡선과 검증 곡선을 사용한 알고리즘 디버깅\n",
    "\n",
    "### 6.3.1 학습 곡선으로 편향과 분산 문제 분석"
   ]
  },
  {
   "cell_type": "code",
   "execution_count": 15,
   "id": "d29ab843",
   "metadata": {},
   "outputs": [
    {
     "data": {
      "text/html": [
       "<img src=\"https://git.io/JtsTi\" width=\"600\"/>"
      ],
      "text/plain": [
       "<IPython.core.display.Image object>"
      ]
     },
     "execution_count": 15,
     "metadata": {},
     "output_type": "execute_result"
    }
   ],
   "source": [
    "Image(url='https://git.io/JtsTi', width=600)"
   ]
  },
  {
   "cell_type": "markdown",
   "id": "572d78cf",
   "metadata": {},
   "source": [
    "- 왼쪽 위는 훈련 정확도와 교차검증 정확도 모두 낮다. (높은 편향)\n",
    "    - 훈련 데이터에 과소적합 되어 있다.\n",
    "    - 일반적인 해결법은 '모델의 파라미터 개수를 늘리는 것' => 추가적인 특성을 수집하거나 생성; SVM이나 LogisticRegression에서 규제 강도를 줄인다.\n",
    "- 오른쪽 위는 훈련 정확도와 교차검증 정확도 사이에 큰 차이가 있다. (높은 분산)\n",
    "    - 훈련 데이터에 과대적합 되어있다.\n",
    "    - 더 많은 훈련 데이터를 모으거나, 모델 복잡도를 낮추거나, 규제를 증가시킨다.<br><br>\n",
    "    \n",
    "> **실전에서는 데이터를 모으는 게 비싸거나 불가능할 때도 많다. \"모델의 훈련 정확도와 검증 정확도를 훈련 데이터셋의 크기 함수로 그래프를 그려 보면 모델에 높은 분산의 문제가 있는지, 높은 편향의 문제가 있는지 쉽게 볼 수 있다. 더 많은 데이터를 모으는 것이 문제를 해결할 수 있을지 판단이 가능해진다.**"
   ]
  },
  {
   "cell_type": "code",
   "execution_count": 1,
   "id": "49563bb5",
   "metadata": {},
   "outputs": [
    {
     "ename": "NameError",
     "evalue": "name 'make_pipeline' is not defined",
     "output_type": "error",
     "traceback": [
      "\u001b[0;31m---------------------------------------------------------------------------\u001b[0m",
      "\u001b[0;31mNameError\u001b[0m                                 Traceback (most recent call last)",
      "\u001b[0;32m/var/folders/hh/14z5pty92_s51gdc2n406w6w0000gn/T/ipykernel_46387/3671172035.py\u001b[0m in \u001b[0;36m<module>\u001b[0;34m\u001b[0m\n\u001b[1;32m      3\u001b[0m \u001b[0;32mfrom\u001b[0m \u001b[0msklearn\u001b[0m\u001b[0;34m.\u001b[0m\u001b[0mmodel_selection\u001b[0m \u001b[0;32mimport\u001b[0m \u001b[0mlearning_curve\u001b[0m\u001b[0;34m\u001b[0m\u001b[0;34m\u001b[0m\u001b[0m\n\u001b[1;32m      4\u001b[0m \u001b[0;34m\u001b[0m\u001b[0m\n\u001b[0;32m----> 5\u001b[0;31m pipe_lr = make_pipeline(StandardScaler(),\n\u001b[0m\u001b[1;32m      6\u001b[0m                        LogisticRegression(penalty='l2',\n\u001b[1;32m      7\u001b[0m                                           \u001b[0mrandom_state\u001b[0m\u001b[0;34m=\u001b[0m\u001b[0;36m1\u001b[0m\u001b[0;34m,\u001b[0m\u001b[0;34m\u001b[0m\u001b[0;34m\u001b[0m\u001b[0m\n",
      "\u001b[0;31mNameError\u001b[0m: name 'make_pipeline' is not defined"
     ]
    }
   ],
   "source": [
    "# 학습 곡선으로 모델 평가\n",
    "import matplotlib.pyplot as plt\n",
    "from sklearn.model_selection import learning_curve\n",
    "\n",
    "pipe_lr = make_pipeline(StandardScaler(),\n",
    "                       LogisticRegression(penalty='l2',\n",
    "                                          random_state=1,\n",
    "                                         max_iter=10000))\n",
    "\n",
    "train_sizes, train_scores, test_scores =\\\n",
    "    learning_curve(estimator=pipe_lr,\n",
    "                  X=X_train,\n",
    "                  y=y_train,\n",
    "                  train_sizes=np.linspace(0.1, 1.0, 10),\n",
    "                  cv=10,\n",
    "                  n_jobs=1)\n",
    "    # 훈련 데이터셋의 사이즈를 0.1배율에서 1배율까지 바꿔가면서,\n",
    "        # 각 사이즈마다 10겹 교차검증을 수행한다.\n",
    "        # 그리고 10겹 교차검증을 하면서 검증데이터셋에 대한 정확도뿐 아니라, 훈련데이터셋에 대한 정확도도 scoring한다.\n",
    "        \n",
    "        # 예를 들어.. train_size=0.1이면 총 455개 데이터샘플 중 45개를 전체세트로 생각하는 거다.\n",
    "        # 40개로 훈련하고, 5개로 검증하는 걸 10번 반복한다.\n",
    "            # 모델의 훈련데이터에 대한 정확도와 검증데이터에 대한 정확도를 모두 반환한다.\n",
    "            \n",
    "            # 위에는 train_size 비율도 10개로 나눈 다음, 각각의 세트에 대해\n",
    "            # 10겹 교차검증을 수행했다.\n",
    "            # 그러니까 scroing 테이블은 10x10이 된다.\n",
    "            # 테이블의 1열은 train_size를 45로 놓고 10겹 교차검증 했을 때의 정확도!\n",
    "\n",
    "train_mean = np.mean(train_scores, axis=1)\n",
    "train_std = np.std(train_scores, axis=1)\n",
    "test_mean = np.mean(test_scores, axis=1)\n",
    "test_std = np.std(test_scores, axis=1)\n",
    "\n",
    "plt.plot(train_sizes, train_mean,\n",
    "        color='blue', marker='o',\n",
    "        markersize=5, label='Training accuracy')\n",
    "\n",
    "plt.fill_between(train_sizes,\n",
    "                train_mean + train_std,\n",
    "                train_mean - train_std ,\n",
    "                alpha=0.15, color='blue')\n",
    "\n",
    "plt.plot(train_sizes, test_mean,\n",
    "        color='green', linestyle='--',\n",
    "        marker='s', markersize=5,\n",
    "        label='Validation accuracy')\n",
    "\n",
    "plt.fill_between(train_sizes,\n",
    "                test_mean + test_std,\n",
    "                test_mean - test_std,\n",
    "                alpha=0.15, color='green')\n",
    "\n",
    "plt.grid()\n",
    "plt.xlabel('Number of training examples')\n",
    "plt.ylabel('Accuracy')\n",
    "plt.legend(loc='lower right')\n",
    "plt.ylim([0.8, 1.03])\n",
    "plt.tight_layout()\n",
    "\n",
    "plt.show()"
   ]
  },
  {
   "cell_type": "markdown",
   "id": "201dee5f",
   "metadata": {},
   "source": [
    "- 위에서 보듯이, 모델 훈련에 250개 이상의 샘플을 사용할 때 훈련과 검증 데이터셋 모두에서 잘 작동한다.\n",
    "    - 250개보다 줄어들면 훈련 정확도가 증가하면서 검증 정확도와의 차이가 커진다 => 과대적합이 증가한다는 뜻이다."
   ]
  },
  {
   "cell_type": "markdown",
   "id": "fc2ea661",
   "metadata": {},
   "source": [
    "### 6.3.2 검증 곡선으로 과대적합과 과소적합 조사\n",
    "- 검증 곡선은 학습 곡선과 관련이 있지만, **샘플 크기의 함수로 훈련 정확도와 테스트 정확도를 그리는 대신 모델 파라미터 값의 함수로 그린다.**\n",
    "    - e.g. 로지스틱 회귀의 규제 매개변수 C에 대한 값으로 그린다"
   ]
  },
  {
   "cell_type": "code",
   "execution_count": 17,
   "id": "649642c7",
   "metadata": {},
   "outputs": [
    {
     "data": {
      "image/png": "[encoded data removed]",
      "text/plain": [
       "<Figure size 432x288 with 1 Axes>"
      ]
     },
     "metadata": {
      "needs_background": "light"
     },
     "output_type": "display_data"
    }
   ],
   "source": [
    "from sklearn.model_selection import validation_curve\n",
    "\n",
    "param_range = [0.001, 0.01, 0.1, 1.0, 10.0, 100.0]\n",
    "train_scores, test_scores = \\\n",
    "    validation_curve(estimator=pipe_lr,\n",
    "                    X=X_train,\n",
    "                    y=y_train,\n",
    "                    param_name='logisticregression__C',\n",
    "                    param_range=param_range,\n",
    "                    cv=10)\n",
    "\n",
    "train_mean = np.mean(train_scores, axis=1)\n",
    "train_std = np.std(train_scores, axis=1)\n",
    "test_mean = np.mean(test_scores, axis=1)\n",
    "test_std = np.std(test_scores, axis=1)\n",
    "\n",
    "plt.plot(param_range, train_mean,\n",
    "        color='blue', marker='o',\n",
    "        markersize=5, label='Training accuracy')\n",
    "\n",
    "plt.fill_between(param_range,\n",
    "                train_mean + train_std,\n",
    "                train_mean - train_std,\n",
    "                alpha=0.15, color='blue')\n",
    "\n",
    "plt.plot(param_range, test_mean,\n",
    "        color='green', linestyle='--',\n",
    "        marker='s', markersize=5,\n",
    "        label='Validation accuracy')\n",
    "\n",
    "plt.fill_between(param_range,\n",
    "                test_mean + test_std,\n",
    "                test_mean - test_std,\n",
    "                alpha=0.15, color='green')\n",
    "\n",
    "plt.grid()\n",
    "plt.xscale('log')\n",
    "plt.legend(loc='lower right')\n",
    "plt.xlabel('Parameter C')\n",
    "plt.ylabel('Accuracy')\n",
    "plt.ylim([0.8, 1.0])\n",
    "plt.tight_layout()\n",
    "\n",
    "plt.show()"
   ]
  },
  {
   "cell_type": "markdown",
   "id": "8e1a8f67",
   "metadata": {},
   "source": [
    "- 규제 강도를 높이면(C 값을 줄이면) 모델이 데이터에 조금 과소적합된다.\n",
    "- 규제 강도가 낮아지는 큰 C값에서는 모델이 데이터에 조금 과대적합된다.\n",
    "- 이 경우 적절한 C값은 0.01과 0.1 사이다."
   ]
  },
  {
   "cell_type": "markdown",
   "id": "63bf8a37",
   "metadata": {},
   "source": [
    "## 6.4 그리드 서치를 사용한 머신 러닝 모델 세부 튜닝\n",
    "\n",
    "- 머신 러닝의 두 종류의 파라미터\n",
    "    - 훈련 데이터에서 학습되는 파라미터: 예를 들어 로지스틱 회귀의 가중치\n",
    "    - 별도로 최적화되는 학습 알고리즘의 파라미터: 모델의 튜닝 파라미터, aka 하이퍼파라미터; 예를 들어 로지스틱 회귀의 규제 매개변수나 결정 트리의 깊이 매개변수\n",
    "\n",
    "### 6.4.1 그리드 서치를 사용한 하이퍼파라미터 튜닝\n",
    "- 앞에서는 validation curve를 사용해 C값을 튜닝했는데,\n",
    "    - 그리드 서치는 **\"여러 하이퍼파라미터 값에 대한 최적의 조합\"**을 찾는다."
   ]
  },
  {
   "cell_type": "code",
   "execution_count": 18,
   "id": "b6a54493",
   "metadata": {},
   "outputs": [
    {
     "name": "stdout",
     "output_type": "stream",
     "text": [
      "0.9846859903381642\n",
      "{'svc__C': 100.0, 'svc__gamma': 0.001, 'svc__kernel': 'rbf'}\n"
     ]
    }
   ],
   "source": [
    "from sklearn.model_selection import GridSearchCV\n",
    "from sklearn.svm import SVC\n",
    "\n",
    "pipe_svc = make_pipeline(StandardScaler(),\n",
    "                        SVC(random_state=1))\n",
    "\n",
    "param_range = np.logspace(-4, 3, 8)\n",
    "\n",
    "param_grid = [{'svc__C': param_range,\n",
    "              'svc__kernel': ['linear']},\n",
    "             {'svc__C': param_range,\n",
    "             'svc__gamma': param_range,\n",
    "             'svc__kernel': ['rbf']}]\n",
    "\n",
    "gs = GridSearchCV(estimator=pipe_svc,\n",
    "                 param_grid=param_grid,\n",
    "                 scoring='accuracy',\n",
    "                 refit=True,\n",
    "                 cv=10,\n",
    "                 n_jobs=-1)\n",
    "gs = gs.fit(X_train, y_train)\n",
    "print(gs.best_score_)\n",
    "print(gs.best_params_)"
   ]
  },
  {
   "cell_type": "code",
   "execution_count": 19,
   "id": "f817740f",
   "metadata": {},
   "outputs": [],
   "source": [
    "clf = gs.best_estimator_\n",
    "    # refit=True로 지정했기 때문에 이후에 다시 clf.fit(X_train, y_train)할 필요가 없다."
   ]
  },
  {
   "cell_type": "code",
   "execution_count": 20,
   "id": "d552f51f",
   "metadata": {},
   "outputs": [
    {
     "name": "stdout",
     "output_type": "stream",
     "text": [
      "테스트 정확도: 0.974\n"
     ]
    }
   ],
   "source": [
    "print('테스트 정확도: %.3f' % clf.score(X_test, y_test))"
   ]
  },
  {
   "cell_type": "markdown",
   "id": "f44cec88",
   "metadata": {},
   "source": [
    "> 매개변수 탐색 범위가 넓거나 규제 매개변수 C와 같이 연속적인 값을 탐색해야 하는 경우에 RandomizedSearchCV가 더 효율적입니다. 이 클래스는 n_iter 매개변수로 탐색 횟수를 조정할 수 있어 컴퓨팅 자원에 맞게 탐색을 실행할 수 있습니다. "
   ]
  },
  {
   "cell_type": "code",
   "execution_count": 21,
   "id": "e646fabb",
   "metadata": {},
   "outputs": [
    {
     "name": "stdout",
     "output_type": "stream",
     "text": [
      "0.9824637681159419\n",
      "{'svc__C': 210.6644070836221, 'svc__gamma': 0.0006861724481510375, 'svc__kernel': 'rbf'}\n"
     ]
    }
   ],
   "source": [
    "from sklearn.model_selection import RandomizedSearchCV\n",
    "from sklearn.utils.fixes import loguniform\n",
    "\n",
    "distribution = loguniform(0.0001, 1000.0)\n",
    "\n",
    "param_dist = [{'svc__C': distribution,\n",
    "              'svc__kernel': ['linear']},\n",
    "             {'svc__C': distribution,\n",
    "             'svc__gamma': distribution,\n",
    "             'svc__kernel': ['rbf']}]\n",
    "\n",
    "rs = RandomizedSearchCV(estimator=pipe_svc,\n",
    "                       param_distributions=param_dist,\n",
    "                       n_iter=30,\n",
    "                       cv=10,\n",
    "                       random_state=1,\n",
    "                       n_jobs=1)\n",
    "rs = rs.fit(X_train, y_train)\n",
    "print(rs.best_score_)\n",
    "print(rs.best_params_)"
   ]
  },
  {
   "cell_type": "markdown",
   "id": "06bc7fe8",
   "metadata": {},
   "source": [
    "### 6.4.2 중첩 교차 검증을 사용한 알고리즘 선택\n",
    "- GridSearch와 k-fold cv는 \"머신 러닝 모델의 성능을 세부 튜닝\"하기에 좋다.\n",
    "- **\"여러 종류의 머신 러닝 알고리즘을 비교하려면\"** 중첩 교차 검증(nested cv) 방법이 권장된다.\n",
    "    - 바깥족 k-fold cv 루프가 데이터를 훈련 폴드와 테스트 폴드로 나누고; 안쪽 루프는 훈련 폴드를 '안쪽 훈련폴드와 안쪽 검증폴드'로 나눠서 k-fold cv를 수행하며 모델을 세부튜닝한다."
   ]
  },
  {
   "cell_type": "code",
   "execution_count": 22,
   "id": "d7bb5a87",
   "metadata": {},
   "outputs": [
    {
     "data": {
      "text/html": [
       "<img src=\"https://git.io/JtsTP\" width=\"500\"/>"
      ],
      "text/plain": [
       "<IPython.core.display.Image object>"
      ]
     },
     "execution_count": 22,
     "metadata": {},
     "output_type": "execute_result"
    }
   ],
   "source": [
    "Image(url='https://git.io/JtsTP', width=500) "
   ]
  },
  {
   "cell_type": "code",
   "execution_count": 23,
   "id": "8bef1f08",
   "metadata": {
    "scrolled": true
   },
   "outputs": [
    {
     "name": "stdout",
     "output_type": "stream",
     "text": [
      "CV 정확도: 0.974 +/- 0.015\n"
     ]
    }
   ],
   "source": [
    "gs = GridSearchCV(estimator=pipe_svc,\n",
    "                 param_grid=param_grid,\n",
    "                 scoring='accuracy',\n",
    "                 cv=2)\n",
    "\n",
    "scores = cross_val_score(gs, X_train, y_train,\n",
    "                        scoring='accuracy', cv=5)\n",
    "\n",
    "# 순서대로 하면..\n",
    "    # cross_val_score가 전체 데이터셋을 5-fold로 나눈다.\n",
    "    # 훈련 폴드에서 사용할 모델이 'gs'다.\n",
    "    # gs는 어떤 모델이냐면..\n",
    "        # 훈련 폴드를 2-fold로 나눈 다음에, pipe_svc를 param_grid로\n",
    "        # 최적의 조합, 즉 가장 높은 정확도를 지닌 param 조합으로 튜닝된\n",
    "        # 모델이다.\n",
    "        \n",
    "    # 여기서 각각의 gs가 어떤 param으로 튜닝됐는지 알려면 어떻게 해야 되지?\n",
    "\n",
    "print('CV 정확도: %.3f +/- %.3f' % (np.mean(scores),\n",
    "                                np.std(scores)))"
   ]
  },
  {
   "cell_type": "code",
   "execution_count": 24,
   "id": "15fe6dad",
   "metadata": {},
   "outputs": [
    {
     "name": "stdout",
     "output_type": "stream",
     "text": [
      "CV 정확도: 0.934 +/- 0.016\n"
     ]
    }
   ],
   "source": [
    "from sklearn.tree import DecisionTreeClassifier\n",
    "\n",
    "gs = GridSearchCV(estimator=DecisionTreeClassifier(random_state=0),\n",
    "                 param_grid=[{'max_depth': [1,2,3,4,5,6,7,None]}],\n",
    "                 scoring='accuracy',\n",
    "                 cv=2)\n",
    "\n",
    "scores = cross_val_score(gs, X_train, y_train,\n",
    "                        scoring='accuracy', cv=5)\n",
    "\n",
    "print('CV 정확도: %.3f +/- %.3f' % (np.mean(scores),\n",
    "                                np.std(scores)))"
   ]
  },
  {
   "cell_type": "markdown",
   "id": "5f471156",
   "metadata": {},
   "source": [
    "## 6.5 여러 가지 성능 평가 지표\n",
    "\n",
    "### 6.5.1 오차 행렬"
   ]
  },
  {
   "cell_type": "code",
   "execution_count": 25,
   "id": "1d526b77",
   "metadata": {},
   "outputs": [
    {
     "data": {
      "text/html": [
       "<img src=\"https://git.io/JtsT1\" width=\"300\"/>"
      ],
      "text/plain": [
       "<IPython.core.display.Image object>"
      ]
     },
     "execution_count": 25,
     "metadata": {},
     "output_type": "execute_result"
    }
   ],
   "source": [
    "Image(url='https://git.io/JtsT1', width=300) "
   ]
  },
  {
   "cell_type": "code",
   "execution_count": 26,
   "id": "690a8e6f",
   "metadata": {},
   "outputs": [
    {
     "name": "stdout",
     "output_type": "stream",
     "text": [
      "[[71  1]\n",
      " [ 2 40]]\n"
     ]
    }
   ],
   "source": [
    "from sklearn.metrics import confusion_matrix\n",
    "\n",
    "pipe_svc.fit(X_train, y_train)\n",
    "y_pred = pipe_svc.predict(X_test)\n",
    "confmat = confusion_matrix(y_true=y_test, y_pred=y_pred)\n",
    "print(confmat)"
   ]
  },
  {
   "cell_type": "code",
   "execution_count": 27,
   "id": "91175fd7",
   "metadata": {},
   "outputs": [
    {
     "data": {
      "image/png": "[encoded data removed]",
      "text/plain": [
       "<Figure size 180x180 with 1 Axes>"
      ]
     },
     "metadata": {
      "needs_background": "light"
     },
     "output_type": "display_data"
    }
   ],
   "source": [
    "fig, ax = plt.subplots(figsize=(2.5, 2.5))\n",
    "ax.matshow(confmat, cmap=plt.cm.Blues, alpha=0.3)\n",
    "for i in range(confmat.shape[0]):\n",
    "    for j in range(confmat.shape[1]):\n",
    "        ax.text(x=j, y=i, s=confmat[i, j], va='center', ha='center')\n",
    "        \n",
    "plt.xlabel('Predicted label')\n",
    "plt.ylabel('True label')\n",
    "\n",
    "plt.tight_layout()\n",
    "\n",
    "plt.show()"
   ]
  },
  {
   "cell_type": "code",
   "execution_count": 28,
   "id": "3964d15e",
   "metadata": {},
   "outputs": [
    {
     "data": {
      "image/png": "[encoded data removed]",
      "text/plain": [
       "<Figure size 432x288 with 2 Axes>"
      ]
     },
     "metadata": {
      "needs_background": "light"
     },
     "output_type": "display_data"
    }
   ],
   "source": [
    "from sklearn.metrics import plot_confusion_matrix\n",
    "\n",
    "plot_confusion_matrix(pipe_svc, X_test, y_test)\n",
    "\n",
    "plt.show()"
   ]
  },
  {
   "cell_type": "code",
   "execution_count": 29,
   "id": "f470e226",
   "metadata": {},
   "outputs": [
    {
     "data": {
      "image/png": "[encoded data removed]",
      "text/plain": [
       "<Figure size 432x288 with 2 Axes>"
      ]
     },
     "metadata": {
      "needs_background": "light"
     },
     "output_type": "display_data"
    }
   ],
   "source": [
    "plot_confusion_matrix(pipe_svc, X_test, y_test,\n",
    "                     normalize='all')\n",
    "\n",
    "plt.show()"
   ]
  },
  {
   "cell_type": "markdown",
   "id": "d11ca390",
   "metadata": {},
   "source": [
    "### 6.5.2 분류 모델의 정밀도와 재현율 최적화"
   ]
  },
  {
   "cell_type": "markdown",
   "id": "ec552df3",
   "metadata": {},
   "source": [
    "- 예측 오차(ERR): 전체 데이터샘플 중 \"잘못 분류한 비율\", 틀린 비율\n",
    "- 정확도(ACC): 전체 데이터샘플 중 \"올바르게 분류한 비율\", 맞춘 비율 = 1 - ERR<br><br>\n",
    "\n",
    "- 정밀도(PRE) = $\\dfrac{TP}{TP+FP}$\n",
    "    - 내가 양성이라고 분류한 것 중 양성인 비율"
   ]
  },
  {
   "cell_type": "markdown",
   "id": "b67f3417",
   "metadata": {},
   "source": [
    "- 클래스 비율이 다른 경우 유용한 지표\n",
    "    - True Positive Rate(TPR) = $\\dfrac{TP}{P} = \\dfrac{TP}{FN+TP}$\n",
    "        - 양성을 양성으로 올바르게 분류한 비율 = TPR = 재현율(recall) = 민감도(sensitivity)\n",
    "    - False Positive Rate(FPR) = $\\dfrac{FP}{N} = \\dfrac{FP}{FP+TN}$\n",
    "        - 음성을 양성으로 잘못 분류한 비율 = FPR = 특이도(specificity)"
   ]
  },
  {
   "cell_type": "markdown",
   "id": "d2cbe101",
   "metadata": {},
   "source": [
    "> - 악성 종양 감지 문제(class imbalance)에서 재현율을 최적화하면 '악성 종양을 감지하지 못할 확률을 최소화'하는 데 도움이 된다.<br>\n",
    "> - 하지만 건강한 환자임에도 악성 종양으로 예측하는 비용이 발성한다.<br>\n",
    "> - 반대로 정밀도를 최적화하면 환자가 악성 종양을 가졌는지 정확히 예측하게 되지만, 악성 종양 환자를 자주 놓치는 결과를 초래한다."
   ]
  },
  {
   "cell_type": "markdown",
   "id": "972ad351",
   "metadata": {},
   "source": [
    "- PRE와 REC의 최적화로 인한 장단점의 균형을 맞추기 위한 scoring이 F1-score다.\n",
    "    - $F1 = 2 \\cdot \\dfrac{Precision \\times Recall}{Precision + Recall}$"
   ]
  },
  {
   "cell_type": "code",
   "execution_count": 30,
   "id": "0b9d671e",
   "metadata": {},
   "outputs": [
    {
     "name": "stdout",
     "output_type": "stream",
     "text": [
      "정밀도: 0.976\n",
      "재현율: 0.952\n",
      "F1: 0.964\n"
     ]
    }
   ],
   "source": [
    "from sklearn.metrics import precision_score, recall_score, f1_score\n",
    "\n",
    "print('정밀도: %.3f' % precision_score(y_test, y_pred))\n",
    "print('재현율: %.3f' % recall_score(y_test, y_pred))\n",
    "print('F1: %.3f' % f1_score(y_test, y_pred))"
   ]
  },
  {
   "cell_type": "markdown",
   "id": "09f89b5d",
   "metadata": {},
   "source": [
    "- 사이킷런에서 양성 클래스는 레이블이 1인 클래스다.\n",
    "- 양성 레이블을 바꾸고 싶다면 make_scorer 함수를 사용해서 자신만의 함수를 만들 수 있다. 그리고 나면 GridSearchCV의 scoring 매개변수에 전달할 수도 있다."
   ]
  },
  {
   "cell_type": "code",
   "execution_count": 31,
   "id": "8d72f1ec",
   "metadata": {
    "scrolled": true
   },
   "outputs": [
    {
     "name": "stdout",
     "output_type": "stream",
     "text": [
      "0.9861994953378878\n",
      "{'svc__C': 10.0, 'svc__gamma': 0.01, 'svc__kernel': 'rbf'}\n"
     ]
    }
   ],
   "source": [
    "# f1_score를 GridSearchCV의 scoring parameter로 설정하기!\n",
    "from sklearn.metrics import make_scorer\n",
    "\n",
    "scorer = make_scorer(f1_score, pos_label=0)\n",
    "\n",
    "c_gamma_range = [0.01, 0.1, 1.0, 10.0]\n",
    "\n",
    "param_grid = [{'svc__C': c_gamma_range,\n",
    "               'svc__kernel': ['linear']},\n",
    "              {'svc__C': c_gamma_range,\n",
    "               'svc__gamma': c_gamma_range,\n",
    "               'svc__kernel': ['rbf']}]\n",
    "\n",
    "gs = GridSearchCV(estimator=pipe_svc,\n",
    "                  param_grid=param_grid,\n",
    "                  scoring=scorer,\n",
    "                  cv=10,\n",
    "                  n_jobs=-1)\n",
    "gs = gs.fit(X_train, y_train)\n",
    "print(gs.best_score_)\n",
    "print(gs.best_params_)"
   ]
  },
  {
   "cell_type": "markdown",
   "id": "6cb128dd",
   "metadata": {},
   "source": [
    "### 6.5.3 ROC 곡선 그리기\n",
    "- ROC 그래프는 분류기의 임계값을 바꿔가며 계산된 FPR(특이도)과 TPR(재현율)을 기반으로 분류 모델을 선택하게 도와주는 도구다.\n",
    "- ROC 그래프의 대각선은 '랜덤 추측'이고, 대각선 아래 위치한 분류 모델은 랜덤 추측보다도 나쁜 모델이다.\n",
    "- 완벽한 분류기의 그래프는 TPR이 1이고 FPR이 0인 왼쪽 위 구석이다.\n",
    "- ROC 곡선의 아래 면적인 AUC(Area Under the Curve)를 계산해서 분류 모델의 성능을 종합할 수 있다."
   ]
  },
  {
   "cell_type": "code",
   "execution_count": 32,
   "id": "16f7b55a",
   "metadata": {},
   "outputs": [
    {
     "data": {
      "image/png": "[encoded data removed]",
      "text/plain": [
       "<Figure size 504x360 with 1 Axes>"
      ]
     },
     "metadata": {
      "needs_background": "light"
     },
     "output_type": "display_data"
    }
   ],
   "source": [
    "# ROC 곡선\n",
    "from sklearn.metrics import roc_curve, auc\n",
    "from distutils.version import LooseVersion as Version\n",
    "from scipy import __version__ as scipy_version\n",
    "\n",
    "if scipy_version >= Version('1.4.1'):\n",
    "    from numpy import interp\n",
    "else:\n",
    "    from scipy import interp\n",
    "    \n",
    "\n",
    "pipe_lr = make_pipeline(StandardScaler(),\n",
    "                       PCA(n_components=2),\n",
    "                       LogisticRegression(penalty='l2',\n",
    "                                         random_state=1,\n",
    "                                         C=100.0))\n",
    "X_train2 = X_train[:, [4, 14]]\n",
    "\n",
    "cv = list(StratifiedKFold(n_splits=3).split(X_train, y_train))\n",
    "\n",
    "fig = plt.figure(figsize=(7, 5))\n",
    "\n",
    "mean_tpr = 0.0\n",
    "mean_fpr = np.linspace(0, 1, 100)\n",
    "\n",
    "for i, (train, test) in enumerate(cv):\n",
    "    probas = pipe_lr.fit(X_train2[train],\n",
    "                        y_train[train]).predict_proba(X_train2[test])\n",
    "    fpr, tpr, thresholds = roc_curve(y_train[test],\n",
    "                                    probas[:, 1],\n",
    "                                    pos_label=1)\n",
    "    mean_tpr += interp(mean_fpr, fpr, tpr)\n",
    "    mean_tpr[0] = 0.0\n",
    "    roc_auc = auc(fpr, tpr)\n",
    "    plt.plot(fpr, tpr,\n",
    "            label='ROC fold %d (area = %0.2f)' % (i+1, roc_auc))\n",
    "\n",
    "plt.plot([0, 1], [0, 1], linestyle='--',\n",
    "        color=(0.6, 0.6, 0.6), label='Random guessing')\n",
    "\n",
    "mean_tpr /= len(cv)\n",
    "mean_tpr[-1] = 1.0\n",
    "mean_auc = auc(mean_fpr, mean_tpr)\n",
    "plt.plot(mean_fpr, mean_tpr, 'k--',\n",
    "        label='Mean ROC (area = %0.2f)' % mean_auc, lw=2)\n",
    "plt.plot([0,0,1], [0,1,1], linestyle=':',\n",
    "        color='black', label='Perfect performance')\n",
    "\n",
    "plt.xlim([-0.05, 1.05])\n",
    "plt.ylim([-0.05, 1.05])\n",
    "plt.xlabel('False positive rate')\n",
    "plt.ylabel('False positive rate')\n",
    "plt.legend(loc='lower right')\n",
    "\n",
    "plt.tight_layout()\n",
    "plt.show()"
   ]
  },
  {
   "cell_type": "markdown",
   "id": "eb84dda9",
   "metadata": {},
   "source": [
    "- plot_roc_curve()와 plot_precision_recall_curve()를 사용하면 ROC 곡선과 정밀도-재현율 곡선을 쉽게 그릴 수 있다."
   ]
  },
  {
   "cell_type": "code",
   "execution_count": 33,
   "id": "c68990cc",
   "metadata": {},
   "outputs": [
    {
     "data": {
      "image/png": "[encoded data removed]",
      "text/plain": [
       "<Figure size 504x360 with 1 Axes>"
      ]
     },
     "metadata": {
      "needs_background": "light"
     },
     "output_type": "display_data"
    }
   ],
   "source": [
    "# plot_roc_curve() 함수에 모델과 테스트 데이터를 전달하면 RocCurveDisply 객체를 반환하는데, 이 객체에 fpr과 tpr값이 저장되어 있다.\n",
    "\n",
    "from sklearn.metrics import plot_roc_curve\n",
    "\n",
    "fig, ax = plt.subplots(figsize=(7, 5))\n",
    "\n",
    "mean_tpr = 0.0\n",
    "mean_fpr = np.linspace(0, 1, 100)\n",
    "\n",
    "for i, (train, test) in enumerate(cv):\n",
    "    pipe_lr.fit(X_train2[train], y_train[train])\n",
    "    roc_disp = plot_roc_curve(pipe_lr, \n",
    "                              X_train2[test], y_train[test], \n",
    "                              name=f'Fold {i}', ax=ax)\n",
    "    mean_tpr += interp(mean_fpr, roc_disp.fpr, roc_disp.tpr)\n",
    "    mean_tpr[0] = 0.0\n",
    "\n",
    "plt.plot([0, 1], [0, 1],\n",
    "         linestyle='--', color=(0.6, 0.6, 0.6),\n",
    "         label='Random guessing')\n",
    "\n",
    "mean_tpr /= len(cv)\n",
    "mean_tpr[-1] = 1.0\n",
    "mean_auc = auc(mean_fpr, mean_tpr)\n",
    "plt.plot(mean_fpr, mean_tpr, 'k--',\n",
    "         label='Mean ROC (area = %0.2f)' % mean_auc, lw=2)\n",
    "\n",
    "plt.plot([0, 0, 1], [0, 1, 1],\n",
    "         linestyle=':', color='black',\n",
    "         label='Perfect performance')\n",
    "\n",
    "plt.xlim([-0.05, 1.05])\n",
    "plt.ylim([-0.05, 1.05])\n",
    "plt.xlabel('False positive rate')\n",
    "plt.ylabel('True positive rate')\n",
    "plt.legend(loc=\"lower right\")\n",
    "\n",
    "plt.show()"
   ]
  },
  {
   "cell_type": "code",
   "execution_count": 34,
   "id": "3afaf288",
   "metadata": {},
   "outputs": [
    {
     "data": {
      "image/png": "[encoded data removed]",
      "text/plain": [
       "<Figure size 504x360 with 1 Axes>"
      ]
     },
     "metadata": {
      "needs_background": "light"
     },
     "output_type": "display_data"
    }
   ],
   "source": [
    "# 정밀도-재현율 커브\n",
    "from sklearn.metrics import plot_precision_recall_curve\n",
    "\n",
    "fig, ax = plt.subplots(figsize=(7, 5))\n",
    "\n",
    "mean_precision = 0.0\n",
    "mean_recall = np.linspace(0, 1, 100)\n",
    "\n",
    "for i, (train, test) in enumerate(cv):\n",
    "    pipe_lr.fit(X_train2[train], y_train[train])\n",
    "    pr_disp = plot_precision_recall_curve(\n",
    "        pipe_lr, X_train2[test], y_train[test], \n",
    "        name=f'Fold {i}', ax=ax)\n",
    "    mean_precision += interp(mean_recall, pr_disp.recall[::-1], \n",
    "                             pr_disp.precision[::-1])\n",
    "\n",
    "plt.plot([0, 1], [1, 0],\n",
    "         linestyle='--', color=(0.6, 0.6, 0.6),\n",
    "         label='Random guessing')\n",
    "\n",
    "mean_precision /= len(cv)\n",
    "mean_auc = auc(mean_recall, mean_precision)\n",
    "plt.plot(mean_recall, mean_precision, 'k--',\n",
    "         label='Mean ROC (area = %0.2f)' % mean_auc, lw=2)\n",
    "\n",
    "plt.plot([0, 1, 1], [1, 1, 0],\n",
    "         linestyle=':', color='black',\n",
    "         label='Perfect performance')\n",
    "\n",
    "plt.xlim([-0.05, 1.05])\n",
    "plt.ylim([-0.05, 1.05])\n",
    "plt.xlabel('Recall')\n",
    "plt.ylabel('Precision')\n",
    "plt.legend(loc=\"lower left\")\n",
    "\n",
    "plt.show()"
   ]
  },
  {
   "cell_type": "markdown",
   "id": "81417391",
   "metadata": {},
   "source": [
    "### 6.5.4 다중 분류의 성능 지표"
   ]
  },
  {
   "cell_type": "markdown",
   "id": "b52e979d",
   "metadata": {},
   "source": [
    "- 이진 분류가 아니라 다중 분류의 경우.. 'macro'와 'micro' 평균 방식을 쓴다.\n",
    "- 예를 들어 정밀도의 경우..\n",
    "    - $PRE_{micro} = \\dfrac {TP_1 + \\dots + TP_k}{TP_1 + \\dots + TP_k + FP_1 + \\dots + FP_k}$<br><br>\n",
    "    \n",
    "    - $PRE_{macro} = \\dfrac {PRE_1 + \\dots + PRE_k}{k}$"
   ]
  },
  {
   "cell_type": "markdown",
   "id": "788dd47a",
   "metadata": {},
   "source": [
    "- 마이크로 평균은 각 샘플이나 예측에 동일한 가중치를 부여하고자 할 때 사용한다.\n",
    "- 매크로 평균은 모든 클래스에 동일한 가중치를 부여하여 분류기의 전반적인 성능을 평가한다."
   ]
  },
  {
   "cell_type": "code",
   "execution_count": 35,
   "id": "755db6c1",
   "metadata": {},
   "outputs": [],
   "source": [
    "pre_scorer = make_scorer(score_func=precision_score,\n",
    "                        pos_label=1,\n",
    "                        greater_is_better=True,\n",
    "                        average='micro')"
   ]
  },
  {
   "cell_type": "markdown",
   "id": "79d31f78",
   "metadata": {},
   "source": [
    "## 6.6 불균형한 클래스 다루기"
   ]
  },
  {
   "cell_type": "code",
   "execution_count": 36,
   "id": "9a4901ac",
   "metadata": {},
   "outputs": [
    {
     "data": {
      "text/plain": [
       "array([357,  40])"
      ]
     },
     "execution_count": 36,
     "metadata": {},
     "output_type": "execute_result"
    }
   ],
   "source": [
    "# 불균형 데이터셋 만들기 (악성종양 1, 양성종양 0)\n",
    "X_imb = np.vstack((X[y == 0], X[y == 1][:40]))\n",
    "y_imb = np.hstack((y[y == 0], y[y == 1][:40]))\n",
    "\n",
    "np.bincount(y_imb)"
   ]
  },
  {
   "cell_type": "code",
   "execution_count": 37,
   "id": "3d1a682a",
   "metadata": {},
   "outputs": [
    {
     "data": {
      "text/plain": [
       "89.92443324937027"
      ]
     },
     "execution_count": 37,
     "metadata": {},
     "output_type": "execute_result"
    }
   ],
   "source": [
    "# y pred를 모두 0, 즉 모두 양성종양이라고 예측해도 정확도는 90% 남짓이다\n",
    "y_pred = np.zeros(y_imb.shape[0])\n",
    "np.mean(y_pred == y_imb) * 100"
   ]
  },
  {
   "cell_type": "markdown",
   "id": "96f019d8",
   "metadata": {},
   "source": [
    "- 이럴 때 해결책은 여러 가지가 있다.\n",
    "    - 먼저, 애플리케이션의 목적에 따라 정밀도, 재현율, ROC 곡선 등을 참고할 수도 있다.\n",
    "    - 아니면 알고리즘의 훈련 과정에서 '소수 클래스에서 발생한 예측 오류에 큰 벌칙을 부여'할 수도 있다.\n",
    "        - 분류기의 class_weight 메서드를 class_weight='balanced'로 설정할 수 있다.\n",
    "    - 또는 언더샘플링, 오버샘플링 등을 통해 인공적으로 샘플을 조정하는 방법이 있다."
   ]
  },
  {
   "cell_type": "code",
   "execution_count": 38,
   "id": "7573bf62",
   "metadata": {},
   "outputs": [
    {
     "name": "stdout",
     "output_type": "stream",
     "text": [
      "샘플링하기 전 클래스 1의 샘플 개수: 40\n",
      "샘플링한 후 클래스 1의 샘플 개수 357\n"
     ]
    }
   ],
   "source": [
    "from sklearn.utils import resample\n",
    "\n",
    "print('샘플링하기 전 클래스 1의 샘플 개수:', X_imb[y_imb == 1].shape[0])\n",
    "\n",
    "X_upsampled, y_upsampled = resample(X_imb[y_imb == 1],\n",
    "                                   y_imb[y_imb == 1],\n",
    "                                    replace=True,\n",
    "                                   n_samples=X_imb[y_imb == 0].shape[0],\n",
    "                                   random_state=123)\n",
    "\n",
    "print('샘플링한 후 클래스 1의 샘플 개수', X_upsampled.shape[0])"
   ]
  },
  {
   "cell_type": "code",
   "execution_count": 39,
   "id": "e3df9561",
   "metadata": {},
   "outputs": [],
   "source": [
    "X_bal = np.vstack((X[y == 0], X_upsampled))\n",
    "y_bal = np.hstack((y[y == 0], y_upsampled))"
   ]
  },
  {
   "cell_type": "code",
   "execution_count": 40,
   "id": "4c36f941",
   "metadata": {},
   "outputs": [
    {
     "data": {
      "text/plain": [
       "50.0"
      ]
     },
     "execution_count": 40,
     "metadata": {},
     "output_type": "execute_result"
    }
   ],
   "source": [
    "y_pred = np.zeros(y_bal.shape[0])\n",
    "np.mean(y_pred == y_bal) * 100"
   ]
  },
  {
   "cell_type": "code",
   "execution_count": null,
   "id": "4ef800bd",
   "metadata": {},
   "outputs": [],
   "source": []
  },
  {
   "cell_type": "markdown",
   "id": "b86b25ca",
   "metadata": {},
   "source": [
    "## 7.1 앙상블 학습"
   ]
  },
  {
   "cell_type": "code",
   "execution_count": 41,
   "id": "315cfbfb",
   "metadata": {},
   "outputs": [
    {
     "data": {
      "text/html": [
       "<img src=\"https://git.io/Jtskl\" width=\"500\"/>"
      ],
      "text/plain": [
       "<IPython.core.display.Image object>"
      ]
     },
     "execution_count": 41,
     "metadata": {},
     "output_type": "execute_result"
    }
   ],
   "source": [
    "Image(url='https://git.io/Jtskl', width=500) "
   ]
  },
  {
   "cell_type": "markdown",
   "id": "f59064c9",
   "metadata": {},
   "source": [
    "- 과반수 투표나 다수결 투표로 레이블 예측하려면, 개별 분류기 $C_j$의 예측 레이블을 모아 가장 많은 표를 받은 레이블 $\\hat y$를 선택한다.\n",
    "    - $\\hat y = mode\\{C_1(\\boldsymbol x),C_2(\\boldsymbol x),\\dots,C_m(\\boldsymbol x)\\}$"
   ]
  },
  {
   "cell_type": "markdown",
   "id": "f01c5815",
   "metadata": {},
   "source": [
    "## 7.2 다수결 투표를 사용한 분류 앙상블\n",
    "\n",
    "### 7.2.1 간단한 다수결 투표 분류기 구현\n",
    "\n",
    "- 여기서 구현할 알고리즘은 개별 분류기에 가중치를 적용한 메타 분류기를 구축하는 것이다.\n",
    "- 가중치가 적용된 다수결 투표의 수학적 표현은 다음과 같다:\n",
    "$$ \\hat y = \\underset{i}{\\operatorname{argmax}} \\; \\sum^m_{j=1} w_j \\chi_A (C_j(\\boldsymbol x) = i) $$<br>\n",
    "- 여기서 $w_j$는 개별 분류기 $C_j$에 연관된 가중치고, $\\hat y$는 앙상블이 예측한 클래스 레이블이다.\n",
    "- A는 a set of unique class labels\n",
    "- $\\chi$는 특성함수(characteristic function) 또는 지시함수(indicator function)이다.\n",
    "    - 예를 들어.. j번째 분류기의 예측 클래스가 i 이면 $(C_j(\\boldsymbol x) = i)$ 가 1을 반환하게 하는 함수다."
   ]
  },
  {
   "cell_type": "code",
   "execution_count": 42,
   "id": "1e6a857c",
   "metadata": {},
   "outputs": [
    {
     "data": {
      "text/plain": [
       "1"
      ]
     },
     "execution_count": 42,
     "metadata": {},
     "output_type": "execute_result"
    }
   ],
   "source": [
    "# argmax와 bincount 함수로 가중치가 적용된 다수결 투표를 구현할 수 있음\n",
    "import numpy as np\n",
    "\n",
    "np.argmax(np.bincount([0, 0, 1],\n",
    "                     weights=[0.2, 0.2, 0.6]))"
   ]
  },
  {
   "cell_type": "markdown",
   "id": "8a32f5bf",
   "metadata": {},
   "source": [
    "- 위의 앙상블 식은 다수결 투표에서 '클래스 레이블'을 사용하는데,\n",
    "- 사실 가능하다면 레이블이 아니라 '예측 클래스 확률'을 사용하는 게 좋다. -->> predict_proba 메서드!\n",
    "- 확률을 사용하여 클래스 레이블을 예측하는 다수결 투표의 수학적 표현은 다음과 같다:\n",
    "$$ \\hat y = \\underset{i}{\\operatorname{argmax}} \\; \\sum^m_{j=1} w_j p_{ij} $$ <br>\n",
    "\n",
    "- 여기서 $P_{ij}$는 클래스 레이블 $i$에 대한 $j$번째 분류기의 예측 확률이다."
   ]
  },
  {
   "cell_type": "code",
   "execution_count": 47,
   "id": "3b4c4cf6",
   "metadata": {},
   "outputs": [
    {
     "name": "stdout",
     "output_type": "stream",
     "text": [
      "[0.58 0.42]\n"
     ]
    },
    {
     "data": {
      "text/plain": [
       "0"
      ]
     },
     "execution_count": 47,
     "metadata": {},
     "output_type": "execute_result"
    }
   ],
   "source": [
    "# average와 argmax 함수로 확률 기반의 가중치 적용된 다수결 투표 구현\n",
    "ex = np.array([[0.9, 0.1],\n",
    "               [0.8, 0.2],\n",
    "               [0.4, 0.6]])\n",
    "\n",
    "p = np.average(ex,\n",
    "               axis=0,\n",
    "               weights=[0.2, 0.2, 0.6])\n",
    "\n",
    "print(p)\n",
    "    # 3개의 분류기로 이진 클래스 예측을 했을 때,\n",
    "    # 0번 클래스일 확률은 0.58, 1번 클래스일 확률은 0.42\n",
    "np.argmax(p)"
   ]
  },
  {
   "cell_type": "code",
   "execution_count": 10,
   "id": "a2077194",
   "metadata": {},
   "outputs": [],
   "source": [
    "# 알고리즘 구현\n",
    "from sklearn.base import BaseEstimator\n",
    "from sklearn.base import ClassifierMixin\n",
    "from sklearn.preprocessing import LabelEncoder\n",
    "from sklearn.base import clone\n",
    "from sklearn.pipeline import _name_estimators\n",
    "import numpy as np\n",
    "import operator\n",
    "\n",
    "\n",
    "    # BaseEstimator와 ClassifierMixin 클래스를 상속하여\n",
    "    # 기본적인 기능들을 자동으로 갖췄다.\n",
    "        # 예를 들어, 분류기의 매개변수를 설정하고 반환하는 get_params와 set_params\n",
    "        # 그리고 예측 정확도를 계산하는 score 메서드 등\n",
    "class MajorityVoteClassifier(BaseEstimator, ClassifierMixin):\n",
    "    \"\"\"다수결 투표 앙상블 분류기\n",
    "    \n",
    "    매개변수\n",
    "    ----------\n",
    "    classifiers : 배열 타입, 크기 = [n_classifiers]\n",
    "      앙상블에 사용할 분류기\n",
    "    \n",
    "    vote : str, {'classlabel', 'probability'}\n",
    "      기본값: 'classlabel'\n",
    "      'classlabel'이면 예측은 다수인 클래스 레이블의 인덱스가 된다.\n",
    "      'probability'면 확률 합이 가장 큰 인덱스로 클래스 레이블을 예측한다.\n",
    "      \n",
    "    weights : 배열 타입, 크기 = [n_classifiers]\n",
    "      선택 사항, 기본값: None\n",
    "      'int' 또는 'float' 값의 리스트가 주어지면 분류기에 이 가중치가 적용된다.\n",
    "      'weights=None'이면 모든 분류기를 동일하게 취급한다\n",
    "    \"\"\"\n",
    "    def __init__(self, classifiers, vote='classlabel', weights=None):\n",
    "        \n",
    "        self.classifiers = classifiers\n",
    "        self.named_classifiers = {key: value for key, value in\\\n",
    "                                 _name_estimators(classifiers)}\n",
    "        self.vote = vote\n",
    "        self.weights = weights\n",
    "\n",
    "    def fit(self, X, y):\n",
    "        if self.vote not in {'probability', 'classlbael'}:\n",
    "            raise ValueError(\"vote는 'probability' 또는 'classlabel'이어야 합니다\"\n",
    "                             \"; (vote=%r)이 입력되었습니다.\"\n",
    "                             % self.vote)\n",
    "        if self.weights and len(self.weights) != len(self.classifiers):\n",
    "            raise ValueError('분류기와 가중치 개수는 같아야 합니다'\n",
    "                             '; 가중치 %d 개, 분류기 %d 개'\n",
    "                             % (len(self.weights), len(self.classifiers)))\n",
    "            \n",
    "        # self.predict 메서드에서 np.argmax를 호출할 때\n",
    "        # 클래스 레이블이 0부터 시작되어야 하므로 LabelEncoder를 사용한다.\n",
    "        self.lablenc_ = LabelEncoder()\n",
    "        self.lablenc_.fit(y)\n",
    "        self.classes_ = self.lablenc_.classes_\n",
    "        self.classifiers_ = []\n",
    "        for clf in self.classifiers:\n",
    "            fitted_clf = clone(clf).fit(X, self.lablenc_.transform(y))\n",
    "            self.classifiers_.append(fitted_clf)\n",
    "            # init할 때 받은 classifier를 fit하는 중에\n",
    "            # 클래스 레이블에 labelencoder까지 해준다.\n",
    "                # fitted_clf는 self.classifiers_에 담아둔다.\n",
    "        return self\n",
    "    \n",
    "    def predict(self, X):\n",
    "        if self.vote == 'probability':\n",
    "            maj_vote = np.argmax(self.predict_proba(X), axis=1)\n",
    "        else:\n",
    "            # 'classlabel' 투표\n",
    "            # clf.predict 메서드를 사용해서 결과를 모은다\n",
    "            predictions = np.asarray([clf.predict(X) for clf in self.classifiers_].T)\n",
    "            \n",
    "            maj_vote = np.apply_along_axis(lambda x: np.argmax(np.bincount(x, weights=self.weights)),\n",
    "                                           axis=1,\n",
    "                                           arr=predictions)\n",
    "        \n",
    "        maj_vote = self.lablenc_.inverse_transform(maj_vote)\n",
    "        return maj_vote\n",
    "    \n",
    "    def predict_proba(self, X):\n",
    "        probas = np.asarray([clf.predict_proba(X)\n",
    "                             for clf in self.classifiers_])\n",
    "        avg_proba = np.average(probas, axis=0,\n",
    "                               weights=self.weights)\n",
    "        return avg_proba\n",
    "    \n",
    "    def get_params(self, deep=True):\n",
    "        if not deep:\n",
    "            return super(MajorityVoteClassifier,\n",
    "                         self).get_params(deep=False)\n",
    "        else:\n",
    "            out = self.named_classifiers.copy()\n",
    "            for name, step in self.named_classifiers.itmes():\n",
    "                for key, value in step.get_params(deep=True).itmems():\n",
    "                    out['%s__%s' % (name, key)] = value\n",
    "                return out"
   ]
  },
  {
   "cell_type": "markdown",
   "id": "0055b42d",
   "metadata": {},
   "source": [
    "### 7.2.2 다수결 투표 방식을 사용하여 예측 만들기"
   ]
  },
  {
   "cell_type": "code",
   "execution_count": null,
   "id": "2407df75",
   "metadata": {},
   "outputs": [],
   "source": []
  },
  {
   "cell_type": "code",
   "execution_count": null,
   "id": "1a893111",
   "metadata": {},
   "outputs": [],
   "source": []
  },
  {
   "cell_type": "code",
   "execution_count": null,
   "id": "b2624d72",
   "metadata": {},
   "outputs": [],
   "source": []
  },
  {
   "cell_type": "code",
   "execution_count": null,
   "id": "7d6e11c5",
   "metadata": {},
   "outputs": [],
   "source": []
  },
  {
   "cell_type": "code",
   "execution_count": null,
   "id": "d871c865",
   "metadata": {},
   "outputs": [],
   "source": []
  },
  {
   "cell_type": "code",
   "execution_count": null,
   "id": "e9c18b97",
   "metadata": {},
   "outputs": [],
   "source": []
  },
  {
   "cell_type": "code",
   "execution_count": null,
   "id": "44c14c90",
   "metadata": {},
   "outputs": [],
   "source": []
  },
  {
   "cell_type": "code",
   "execution_count": null,
   "id": "14ba1ce2",
   "metadata": {},
   "outputs": [],
   "source": []
  },
  {
   "cell_type": "code",
   "execution_count": null,
   "id": "ee54ae74",
   "metadata": {},
   "outputs": [],
   "source": []
  },
  {
   "cell_type": "code",
   "execution_count": null,
   "id": "ec3dff3f",
   "metadata": {},
   "outputs": [],
   "source": []
  },
  {
   "cell_type": "code",
   "execution_count": null,
   "id": "26d683fe",
   "metadata": {},
   "outputs": [],
   "source": []
  },
  {
   "cell_type": "code",
   "execution_count": null,
   "id": "6b017fd0",
   "metadata": {},
   "outputs": [],
   "source": []
  },
  {
   "cell_type": "code",
   "execution_count": null,
   "id": "39e4edf3",
   "metadata": {},
   "outputs": [],
   "source": []
  },
  {
   "cell_type": "code",
   "execution_count": null,
   "id": "395108b7",
   "metadata": {},
   "outputs": [],
   "source": []
  },
  {
   "cell_type": "code",
   "execution_count": null,
   "id": "7089b35a",
   "metadata": {},
   "outputs": [],
   "source": []
  },
  {
   "cell_type": "code",
   "execution_count": null,
   "id": "60284612",
   "metadata": {},
   "outputs": [],
   "source": []
  },
  {
   "cell_type": "code",
   "execution_count": null,
   "id": "14c8bb08",
   "metadata": {},
   "outputs": [],
   "source": []
  },
  {
   "cell_type": "code",
   "execution_count": null,
   "id": "f79e6d37",
   "metadata": {},
   "outputs": [],
   "source": []
  },
  {
   "cell_type": "code",
   "execution_count": null,
   "id": "d3b6b3bb",
   "metadata": {},
   "outputs": [],
   "source": []
  }
 ],
 "metadata": {
  "kernelspec": {
   "display_name": "Python 3 (ipykernel)",
   "language": "python",
   "name": "python3"
  },
  "language_info": {
   "codemirror_mode": {
    "name": "ipython",
    "version": 3
   },
   "file_extension": ".py",
   "mimetype": "text/x-python",
   "name": "python",
   "nbconvert_exporter": "python",
   "pygments_lexer": "ipython3",
   "version": "3.8.10"
  }
 },
 "nbformat": 4,
 "nbformat_minor": 5
}
