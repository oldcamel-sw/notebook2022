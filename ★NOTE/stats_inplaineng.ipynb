{
 "cells": [
  {
   "cell_type": "markdown",
   "id": "9677eff9",
   "metadata": {},
   "source": [
    "# Standard Error"
   ]
  },
  {
   "cell_type": "markdown",
   "id": "41a2294f",
   "metadata": {},
   "source": [
    "> - **A standard error is, in effect, the standard deviation of the sampling distribution of some statistic.**\n",
    "> - **A standard is the denominators in many inferential statistics. This is because the standard error is \"the measure of how much random variation we would expect from samples of equal size drawn from the same population.\"**"
   ]
  },
  {
   "cell_type": "markdown",
   "id": "9a9b021b",
   "metadata": {},
   "source": [
    "#### Sampling distribution\n",
    "- 표본통계량들의 분포.\n",
    "    - 표본평균들의 분포는 sampling distribution of the mean 이라고 불린다.\n",
    "- What's called?\n",
    "    - The mean of the sampling distribution of the mean: \"expected value of the mean.\" (표본평균의 분포의 기댓값 = 모평균)\n",
    "    - The standard deviation of the sampling distribution of the mean: \"standard error (of the mean).\" \n",
    "    \n",
    "> \"standard error of the mean\" teels us the \"average difference between the expected value of the mean(모평균) and an individual sample mean\"\n",
    "> - it provides a measure of how much error we can expect when we say that a sample mean represents the mean of the larger population.\n",
    "> - **Knowing how much error we can expect** when selecting a sample of a given size from a population is **critical in helping us determine whether our sample statistic, such as the sample mean, is meaningfully different from the population parameter**, such as the population mean. This is the foundation of all of the inferential statistics that are discussed in later chapters."
   ]
  },
  {
   "cell_type": "markdown",
   "id": "4c72dfd6",
   "metadata": {},
   "source": [
    "- 연구자가 하나의 표본을 얻었을 때, 이 표본으로부터 모집단에 대한 '추정'을 하려고 한다. 표본으로부터 모집단을 추정하려면, 모집단에 대한 이 표본의 대표성에 어느 정도의 'error'가 있는지 알기 위해 '표준오차'를 이용해야 한다. 그리고 우리는 하나의 표본으로부터 '표준오차'를 추정한다."
   ]
  },
  {
   "cell_type": "markdown",
   "id": "1c276133",
   "metadata": {},
   "source": [
    "- 예를 들어.. 미국 여성들의 신발 사이즈 평균을 알고 싶은 연구자인데, 100명의 여성의 신발 사이즈를 관측한 하나의 표본을 갖고 있다.\n",
    "    - 물론 이 표본평균이 모평균과 동일하다고 확신할 수는 없지만,\n",
    "    - 나의 표본이 완전히 랜덤하게 뽑혔다고 가정했을 때, my best guess is to expect my sample mean to be the population mean.\n",
    "- Critical Question here:\n",
    "    - **When I guess that the population of women in the US has an average shoe size of 6 (based on my sample average), how my error can I expect to hvae in this estimation?? In other words, what is the standard error?**\n",
    "> - To answer this question, 표본에서 2가지를 살펴봐야 한다.\n",
    "> - 1) 표본 크기가 얼마나 큰가? => 표본 크기가 클수록 표준오차가 줄어든다.\n",
    "> - 2) 표본표준편차는 얼마나 되는가? => 표본표준편차가 크다면 모표준편차도 크다고 생각할 수 있고, 따라서 표준오차도 클 것이라고 예상할 수 있다.\n",
    "\n",
    "그래서.. 표준오차를 구하는 수식은 다음과 같다:\n",
    "$$ \\sigma_{\\bar x} = \\dfrac{\\sigma}{\\sqrt{n}} $$\n",
    "$$\\text {OR.. 만약 모표준편차를 모른다면..}$$\n",
    "$$ s_{\\bar x} = \\dfrac{s}{\\sqrt{n}} $$\n",
    "\n",
    "- 결국 위 수식의 뜻은.. 표본의 크기가 크고 표본의 표준편차가 작을 수록, 표준오차는 작다 => 즉, 해당 표본을 가지고 모수를 예측할 때 'error'에 대한 리스크가 더 적다."
   ]
  },
  {
   "cell_type": "markdown",
   "id": "1228c377",
   "metadata": {},
   "source": [
    "#### 중심극한정리가 중요한 이유 하나\n",
    "- 예를 들어, 캘리포니아 성인의 평균 IQ점수를 알아내려고 성인 50명을 조사했더니 평균이 110점이 나왔다. 캘리포니아 통계청에 따르면 평균 IQ 점수는 100점이라고 한다.\n",
    "- 이 10점의 차이가 우연히 발생할 수 있는 차이인가? 모평균이 100이라고 할 때, 50의 크기를 가진 표본에서 표본평균으로 110을 얻을 확률은 얼마인가?\n",
    "    - sampling distribution of the mean이 normal distribution이라는 사실 위에서 그 확률을 구할 수 있다.\n",
    "    - Z score를 가지고.. we can determine the probability of randomly selecting a sample with a particular mean on a variable from a population with a given mean on the same variable.\n",
    "    - 근데.. *Dilemma here*..: **\"If we can use the standard error to generate z scores and probabilities, and these z scores and probabilities are based on the normal distribution, what do we do in those cases where we are using sample data and we have a small sample??**\n",
    "        - 이때 사용되는 게 t value(t distribution)다."
   ]
  },
  {
   "cell_type": "markdown",
   "id": "5cebeffc",
   "metadata": {},
   "source": [
    "- 예시)\n",
    "    - 미국인이 주당 평균 60분 운동한다고 한다. 연구자가 144명을 조사한 결과, 표본의 평균이 65분, 표본의 표준편차가 10분이었다.\n",
    "    - 모평균이 60분일 때, 표본평균 65분에 표본표준편차 10분인 샘플을 뽑을 확률은 얼마인가?\n",
    "    - $ t = \\dfrac {65-60}{10 / \\sqrt 144} $\n",
    "    - $ t = \\dfrac {5}{.83} $\n",
    "    - $ t = 6.02 $"
   ]
  },
  {
   "cell_type": "markdown",
   "id": "fc974eac",
   "metadata": {},
   "source": [
    "### 왜 추론통계에서 표준오차가 사용될까?\n",
    "> In inferential statistics, **we want to know whether something that we observe in our sample represents a similar phenomenon in the larger population** from which the sample was drawn.\n",
    "- 이 샘플이 모집단을 정확히 대표하지 않을 리스크가 얼마정도 되는지를 추론통계량에 반영해야 하는 것이다.\n",
    "$$ \\dfrac {\\text{size of sample statistic}}{\\text{standard error}} $$"
   ]
  },
  {
   "cell_type": "code",
   "execution_count": null,
   "id": "5a9bb3c6",
   "metadata": {},
   "outputs": [],
   "source": []
  },
  {
   "cell_type": "markdown",
   "id": "0accbfa6",
   "metadata": {},
   "source": [
    "# Measures of Effect"
   ]
  },
  {
   "cell_type": "markdown",
   "id": "d1b9258e",
   "metadata": {},
   "source": [
    "무언가 통계적 실험을 해보려면.. 실험 이전에 실험의 성공여부를 판가름할 기준, 즉 benchmark 같은 게 있어야 할 것이다. 그게 Null Hypothesis다\n",
    "> **The null hypothesis always refers to an \"absence of effect in the population.\"**"
   ]
  },
  {
   "cell_type": "code",
   "execution_count": null,
   "id": "2deff7b8",
   "metadata": {},
   "outputs": [],
   "source": []
  },
  {
   "cell_type": "markdown",
   "id": "32742792",
   "metadata": {},
   "source": [
    "# Correlation"
   ]
  },
  {
   "cell_type": "code",
   "execution_count": null,
   "id": "c53aea26",
   "metadata": {},
   "outputs": [],
   "source": []
  },
  {
   "cell_type": "code",
   "execution_count": null,
   "id": "496410d4",
   "metadata": {},
   "outputs": [],
   "source": []
  },
  {
   "cell_type": "code",
   "execution_count": null,
   "id": "12ab8436",
   "metadata": {},
   "outputs": [],
   "source": []
  },
  {
   "cell_type": "code",
   "execution_count": null,
   "id": "883afa2f",
   "metadata": {},
   "outputs": [],
   "source": []
  },
  {
   "cell_type": "code",
   "execution_count": null,
   "id": "e35acb3a",
   "metadata": {},
   "outputs": [],
   "source": []
  },
  {
   "cell_type": "code",
   "execution_count": null,
   "id": "3b076845",
   "metadata": {},
   "outputs": [],
   "source": []
  },
  {
   "cell_type": "code",
   "execution_count": null,
   "id": "5682ea72",
   "metadata": {},
   "outputs": [],
   "source": []
  },
  {
   "cell_type": "code",
   "execution_count": null,
   "id": "72ee69b6",
   "metadata": {},
   "outputs": [],
   "source": []
  },
  {
   "cell_type": "code",
   "execution_count": null,
   "id": "03fda05e",
   "metadata": {},
   "outputs": [],
   "source": []
  },
  {
   "cell_type": "code",
   "execution_count": null,
   "id": "7f48c84a",
   "metadata": {},
   "outputs": [],
   "source": []
  },
  {
   "cell_type": "code",
   "execution_count": null,
   "id": "b0d62d51",
   "metadata": {},
   "outputs": [],
   "source": []
  },
  {
   "cell_type": "code",
   "execution_count": null,
   "id": "95e35d30",
   "metadata": {},
   "outputs": [],
   "source": []
  },
  {
   "cell_type": "code",
   "execution_count": null,
   "id": "80e670fc",
   "metadata": {},
   "outputs": [],
   "source": []
  },
  {
   "cell_type": "code",
   "execution_count": null,
   "id": "f9d48348",
   "metadata": {},
   "outputs": [],
   "source": []
  },
  {
   "cell_type": "code",
   "execution_count": null,
   "id": "a7f4a11a",
   "metadata": {},
   "outputs": [],
   "source": []
  },
  {
   "cell_type": "code",
   "execution_count": null,
   "id": "4269777b",
   "metadata": {},
   "outputs": [],
   "source": []
  },
  {
   "cell_type": "code",
   "execution_count": null,
   "id": "6a9ce254",
   "metadata": {},
   "outputs": [],
   "source": []
  },
  {
   "cell_type": "code",
   "execution_count": null,
   "id": "0412bf79",
   "metadata": {},
   "outputs": [],
   "source": []
  },
  {
   "cell_type": "code",
   "execution_count": null,
   "id": "d0b84ea5",
   "metadata": {},
   "outputs": [],
   "source": []
  },
  {
   "cell_type": "code",
   "execution_count": null,
   "id": "d8e6a761",
   "metadata": {},
   "outputs": [],
   "source": []
  }
 ],
 "metadata": {
  "kernelspec": {
   "display_name": "Python 3 (ipykernel)",
   "language": "python",
   "name": "python3"
  },
  "language_info": {
   "codemirror_mode": {
    "name": "ipython",
    "version": 3
   },
   "file_extension": ".py",
   "mimetype": "text/x-python",
   "name": "python",
   "nbconvert_exporter": "python",
   "pygments_lexer": "ipython3",
   "version": "3.8.10"
  }
 },
 "nbformat": 4,
 "nbformat_minor": 5
}
