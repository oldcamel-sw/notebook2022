{
 "cells": [
  {
   "cell_type": "markdown",
   "id": "bc7dd233",
   "metadata": {
    "toc": true
   },
   "source": [
    "<h1>Table of Contents<span class=\"tocSkip\"></span></h1>\n",
    "<div class=\"toc\"><ul class=\"toc-item\"><li><span><a href=\"#[Ensemble-Classifier-직접-구현]\" data-toc-modified-id=\"[Ensemble-Classifier-직접-구현]-1\"><font color=\"blue\">[Ensemble Classifier 직접 구현]</font></a></span></li><li><span><a href=\"#[Bagging]\" data-toc-modified-id=\"[Bagging]-2\"><font color=\"blue\">[Bagging]</font></a></span></li><li><span><a href=\"#[RandomForest]\" data-toc-modified-id=\"[RandomForest]-3\"><font color=\"blue\">[RandomForest]</font></a></span><ul class=\"toc-item\"><li><ul class=\"toc-item\"><li><span><a href=\"#RandomForestRegressor\" data-toc-modified-id=\"RandomForestRegressor-3.0.1\">RandomForestRegressor</a></span></li></ul></li></ul></li><li><span><a href=\"#[Boosting]\" data-toc-modified-id=\"[Boosting]-4\"><font color=\"blue\">[Boosting]</font></a></span><ul class=\"toc-item\"><li><ul class=\"toc-item\"><li><ul class=\"toc-item\"><li><span><a href=\"#Boosting의-작동-원리\" data-toc-modified-id=\"Boosting의-작동-원리-4.0.0.1\">Boosting의 작동 원리</a></span></li><li><span><a href=\"#AdaBoost\" data-toc-modified-id=\"AdaBoost-4.0.0.2\">AdaBoost</a></span></li><li><span><a href=\"#GradientBoosting\" data-toc-modified-id=\"GradientBoosting-4.0.0.3\">GradientBoosting</a></span></li></ul></li></ul></li></ul></li><li><span><a href=\"#[Stacking]\" data-toc-modified-id=\"[Stacking]-5\"><font color=\"blue\">[Stacking]</font></a></span></li><li><span><a href=\"#[SHAP-Value]\" data-toc-modified-id=\"[SHAP-Value]-6\"><font color=\"blue\">[SHAP Value]</font></a></span></li></ul></div>"
   ]
  },
  {
   "cell_type": "code",
   "execution_count": 57,
   "id": "09a3d5bd",
   "metadata": {},
   "outputs": [],
   "source": [
    "import numpy as np\n",
    "import pandas as pd\n",
    "import seaborn as sns\n",
    "import statsmodels.api as sm\n",
    "import matplotlib.pyplot as plt\n",
    "plt.style.use('fivethirtyeight')\n",
    "sns.set_context(\"notebook\", font_scale=1.5)\n",
    "%matplotlib inline\n",
    "\n",
    "import warnings\n",
    "warnings.filterwarnings('ignore')\n",
    "\n",
    "from sklearn.datasets import load_iris\n",
    "from sklearn.tree import DecisionTreeClassifier\n",
    "from sklearn.metrics import accuracy_score\n",
    "from sklearn.model_selection import KFold\n",
    "from sklearn.model_selection import GridSearchCV, train_test_split\n",
    "from sklearn.model_selection import cross_val_score , cross_validate\n",
    "from sklearn.preprocessing import LabelEncoder\n",
    "from sklearn.preprocessing import OneHotEncoder\n",
    "from sklearn.preprocessing import StandardScaler\n",
    "from sklearn.preprocessing import MinMaxScaler"
   ]
  },
  {
   "cell_type": "markdown",
   "id": "4dbe1acc",
   "metadata": {},
   "source": [
    "# <font color='blue'>[Ensemble Classifier 직접 구현]</font>"
   ]
  },
  {
   "cell_type": "code",
   "execution_count": 71,
   "id": "e6189430",
   "metadata": {},
   "outputs": [],
   "source": [
    "from sklearn.base import BaseEstimator\n",
    "from sklearn.base import ClassifierMixin\n",
    "from sklearn.preprocessing import LabelEncoder\n",
    "from sklearn.base import clone\n",
    "from sklearn.pipeline import _name_estimators\n",
    "import numpy as np\n",
    "import operator\n",
    "\n",
    "\n",
    "class MajorityVoteClassifier(BaseEstimator, ClassifierMixin):\n",
    "    # BaseEstimator와 ClassifierMixin이 포함하는 기능은\n",
    "        # get_params, set_params, score 메서드 등이다.\n",
    "    \"\"\"\n",
    "    매개변수\n",
    "    ------\n",
    "    classifiers: 배열 타입, 크기 = [n_classifiers]\n",
    "      앙상블에 사용할 분류기\n",
    "    \n",
    "    vote: str, {'classlabel', 'probability'}\n",
    "      'classlabel' 이면 다수인 클래스 레이블로 예측 반환\n",
    "      'probability' 이면 예측을 확률값으로 반환\n",
    "    \n",
    "    weights: array-like, 크기 = [n_classifiers]\n",
    "      'int' 또는 'float' 값의 리스트가 주어지면 분류기가 이 중요도로 가중치된다.\n",
    "    \"\"\"\n",
    "    \n",
    "    def __init__(self, classifiers, vote='classlabel', weights=None):\n",
    "        self.classifiers = classifiers\n",
    "        self.named_classifiers = {key: value for\n",
    "                                  key, value in\n",
    "                                  _name_estimators(classifiers)}\n",
    "        self.vote = vote\n",
    "        self.weights = weights\n",
    "        \n",
    "    def fit(self, X, y):\n",
    "        if self.vote not in ('probability', 'classlabel'):\n",
    "            raise ValueError(\"vote는 'probability' 또는 'classlabel'이어야 합니다.\"\\\n",
    "                             \"; (vote=%r)이 입력되었습니다.\"\n",
    "                             % self.vote)\n",
    "            \n",
    "        if self.weights and len(self.weights) != len(self.classifiers):\n",
    "            raise ValueError(\"분류기와 가중치의 개수는 같아야 합니다.\"\n",
    "                             \"; 가중치 %d개, 분류기 %d 개\"\n",
    "                             % (len(self.weights), len(self.classifiers)))\n",
    "            \n",
    "        # self.predict 메서드에서 np.argmax를 호출할 때\n",
    "            # 클래스 레이블이 0부터 시작되어야 하므로 LabelEncoder 사용\n",
    "        self.lablenc_ = LabelEncoder()\n",
    "        self.lablenc_.fit(y)\n",
    "        \n",
    "        self.classes_ = self.lablenc_.classes_\n",
    "        self.classifiers_ = []\n",
    "        for clf in self.classifiers:\n",
    "            fitted_clf = clone(clf).fit(X,\n",
    "                                        self.lablenc_.transform(y))\n",
    "            self.classifiers_.append(fitted_clf)\n",
    "        return self\n",
    "\n",
    "    def predict(self, X):\n",
    "        if self.vote == 'probability':\n",
    "            maj_vote = np.argmax(self.predict_proba(X), axis=1)\n",
    "            \n",
    "        else:\n",
    "            predictions = np.asarray([clf.predict(X)\n",
    "                                      for clf in\n",
    "                                      self.classifiers_]).T\n",
    "            \n",
    "            maj_vote = np.apply_along_axis(\n",
    "                            lambda x:\n",
    "                            np.argmax(np.bincount(x,\n",
    "                                      weights=self.weights)),\n",
    "                            axis=1,\n",
    "                            arr=predictions)\n",
    "        maj_vote = self.lablenc_.inverse_transform(maj_vote)\n",
    "        return maj_vote\n",
    "    \n",
    "    def predict_proba(self, X):\n",
    "        probas = np.asarray([clf.predict_proba(X)\n",
    "                             for clf in self.classifiers_])\n",
    "        avg_proba = np.average(probas, axis=0, weights=self.weights)\n",
    "        return avg_proba\n",
    "    \n",
    "    def get_params(self, deep=True):\n",
    "        if not deep:\n",
    "            return super(MajorityVoteClassifier,\n",
    "                         self).get_params(deep=False)\n",
    "        else:\n",
    "            out = self.named_classifiers.copy()\n",
    "            for name, step in\\\n",
    "                    six.iteritems(self.named_classifiers):\n",
    "                for key, value in six.iteritems(\n",
    "                        step.get_params(deep=True)):\n",
    "                    out['%s__%s' % (name, key)] = value\n",
    "            return out"
   ]
  },
  {
   "cell_type": "code",
   "execution_count": 76,
   "id": "03149f48",
   "metadata": {},
   "outputs": [],
   "source": [
    "# iris data 에 대한 개별 분류기(DT, KNN, LR) 성능 비교\n",
    "from sklearn import datasets\n",
    "from sklearn.model_selection import train_test_split\n",
    "from sklearn.preprocessing import StandardScaler\n",
    "from sklearn.preprocessing import LabelEncoder\n",
    "\n",
    "iris = datasets.load_iris()\n",
    "X, y = iris.data[50:, [1,2]], iris.target[50:]\n",
    "le = LabelEncoder()\n",
    "y = le.fit_transform(y)\n",
    "\n",
    "X_train, X_test, y_train, y_test =\\\n",
    "        train_test_split(X, y, test_size=0.5,\n",
    "                         random_state=1, stratify=y)"
   ]
  },
  {
   "cell_type": "code",
   "execution_count": 79,
   "id": "c2fcbc55",
   "metadata": {},
   "outputs": [
    {
     "name": "stdout",
     "output_type": "stream",
     "text": [
      "10-겹 교차 검증:\n",
      "\n",
      "ROC AUC: 0.92 (+/- 0.15) [Logistic regression]\n",
      "ROC AUC: 0.87 (+/- 0.18) [Decision tree]\n",
      "ROC AUC: 0.85 (+/- 0.13) [KNN]\n"
     ]
    }
   ],
   "source": [
    "from sklearn.model_selection import cross_val_score\n",
    "from sklearn.linear_model import LogisticRegression\n",
    "from sklearn.tree import DecisionTreeClassifier\n",
    "from sklearn.neighbors import KNeighborsClassifier\n",
    "from sklearn.pipeline import Pipeline\n",
    "\n",
    "clf1 = LogisticRegression(penalty='l2', C=0.001, random_state=0)\n",
    "clf2 = DecisionTreeClassifier(max_depth=1, criterion='entropy',\n",
    "                              random_state=0)\n",
    "clf3 = KNeighborsClassifier(n_neighbors=1, p=2, metric='minkowski')\n",
    "\n",
    "pipe1 = Pipeline([['sc', StandardScaler()],\n",
    "                  ['clf', clf1]])\n",
    "pipe3 = Pipeline([['sc', StandardScaler()],\n",
    "                  ['clf', clf3]])\n",
    "clf_labels = ['Logistic regression', 'Decision tree', 'KNN']\n",
    "\n",
    "print('10-겹 교차 검증:\\n')\n",
    "for clf, label in zip([pipe1, clf2, pipe3], clf_labels):\n",
    "    scores = cross_val_score(estimator=clf, X=X_train,\n",
    "                             y=y_train, cv=10, scoring='roc_auc')\n",
    "    print(\"ROC AUC: %0.2f (+/- %0.2f) [%s]\"\n",
    "          % (scores.mean(), scores.std(), label))"
   ]
  },
  {
   "cell_type": "code",
   "execution_count": 80,
   "id": "f31e43b8",
   "metadata": {},
   "outputs": [
    {
     "name": "stdout",
     "output_type": "stream",
     "text": [
      "ROC AUC: 0.92 (+/- 0.15) [Logistic regression]\n",
      "ROC AUC: 0.87 (+/- 0.18) [Decision tree]\n",
      "ROC AUC: 0.85 (+/- 0.13) [KNN]\n",
      "ROC AUC: 0.98 (+/- 0.05) [Majority Voting]\n"
     ]
    }
   ],
   "source": [
    "# 직접 만든 분류기 실행\n",
    "mv_clf = MajorityVoteClassifier(\n",
    "                classifiers=[pipe1, clf2, pipe3])\n",
    "clf_labels += ['Majority Voting']\n",
    "all_clf = [pipe1, clf2, pipe3, mv_clf]\n",
    "for clf, label in zip(all_clf, clf_labels):\n",
    "    scores = cross_val_score(estimator=clf, X=X_train,\n",
    "                             y=y_train, cv=10, scoring='roc_auc')\n",
    "    print(\"ROC AUC: %0.2f (+/- %0.2f) [%s]\"\n",
    "          % (scores.mean(), scores.std(), label))"
   ]
  },
  {
   "cell_type": "code",
   "execution_count": null,
   "id": "589eff2b",
   "metadata": {},
   "outputs": [],
   "source": []
  },
  {
   "cell_type": "markdown",
   "id": "0c9e9b79",
   "metadata": {},
   "source": [
    "# <font color='blue'>[Bagging]</font>\n",
    "- 배깅은 위에서 구현한 MajorityVoteClassifier와 매우 밀접하게 작동하는 기법인데, 차이점은 개별 분류기를 동일한 훈련 데이터셋으로 학습하는 것이 아니라 원본 훈련 데이터셋에서 부트스트랩 샘플(중복을 허용한 랜덤 샘플)을 뽑아서 사용한다. (=> 그래서 배깅을 'bootstrap aggregating'이라고도 한다)\n",
    "    - 랜덤 포레스트는 개별 결정 트리를 학습할 때 '랜덤하게 특성의 부분 집합을 선택하는' 배깅의 특별한 경우다.\n",
    "    - 각각의 부트스트랩 샘플은 대략 63.2%의 unique values로 구성되게 된다.\n",
    "    - \"Bagging can improve the accuracy of unstable models that tend to overfit.\""
   ]
  },
  {
   "cell_type": "code",
   "execution_count": null,
   "id": "cc1ae856",
   "metadata": {},
   "outputs": [],
   "source": []
  },
  {
   "cell_type": "code",
   "execution_count": null,
   "id": "3550cdf6",
   "metadata": {},
   "outputs": [],
   "source": []
  },
  {
   "cell_type": "code",
   "execution_count": null,
   "id": "e4d95e66",
   "metadata": {},
   "outputs": [],
   "source": []
  },
  {
   "cell_type": "code",
   "execution_count": null,
   "id": "4c7e7ee2",
   "metadata": {},
   "outputs": [],
   "source": []
  },
  {
   "cell_type": "markdown",
   "id": "76321a6e",
   "metadata": {},
   "source": [
    "# <font color='blue'>[RandomForest]</font>\n",
    "\n",
    "- 여러 개의 (깊은) 결정 트리의 평균을 내는 것이다.\n",
    "- 개개의 트리는 분산이 높은 문제가 있지만, 앙상블 기법을 사용하면 일반화 성능을 높이고 과대적합의 위험을 줄여준다.<br><br>\n",
    "\n",
    "1. n개의 랜덤한 부트스트랩 샘플을 뽑는다. (훈련 데이터셋에서 중복을 허용하면서 랜덤하게 n개의 샘플을 선택한다)\n",
    "2. 부트스트랩 샘플에서 결정 트리를 학습한다. 각 노드에서 다음과 같이 한다.\n",
    "    - 중복을 허용하지 않고 랜덤하게 d개의 특성을 선택한다.\n",
    "    - 정보 이득과 같은 목적 함수를 기준으로 최선의 분할을 만드는 특성을 사용해서 노드를 분할한다.\n",
    "3. 단계 1~2를 k번 반복한다.\n",
    "4. 각 트리의 예측을 모아 majority voting으로 클래스 레이블을 할당한다."
   ]
  },
  {
   "cell_type": "markdown",
   "id": "4b3ed639",
   "metadata": {},
   "source": [
    "> 랜덤 포레스트는 결정 트리만큼 해석이 쉽진 않지만 하이퍼파라미터 튜닝에 많은 노력을 기울이지 않아도 된다는 장점이 있다. (일반적으로 가지치기를 할 필요가 없다.) 신경써야 하는 파라미터는 단계 3번의 랜덤 포레스트가 만들 트리 개수다. 보통 트리 개수가 많을수록 계산 비용이 증가하고 분류기의 성능이 좋아진다.<br>\n",
    "\n",
    "- Random Forest에서 최적화할 만한 다른 파라미터는 부트스트랩 샘플 크기 $n$이랑, 각 분할에서 무작위로 선택할 특성 개수 $d$이다.\n",
    "    - 샘플 크기가 작아지면 => 개별 트리의 다양성 증가하고 => 과대적합 영향이 줄어들지만 랜덤 포레스트의 전체적인 성능도 줄어든다.\n",
    "    - 샘플 크기가 늘어나면 과대적합 가능성이 늘어난다.\n",
    "    - 보통은 부트스트랩 샘플 크기를 원본 훈련 데이터셋의 샘플 개수와 동일하게 한다.\n",
    "    - 분할에 사용할 특성 개수 $d$는 훈련 데이터셋에 있는 전체 개수보다 작게 지정하곤 한다. 훈련 데이터셋 특성 개수의 제곱근을 취하기도 한다."
   ]
  },
  {
   "cell_type": "code",
   "execution_count": 68,
   "id": "74b611ba",
   "metadata": {
    "scrolled": true
   },
   "outputs": [
    {
     "data": {
      "image/png": "[encoded data removed]",
      "text/plain": [
       "<Figure size 432x288 with 1 Axes>"
      ]
     },
     "metadata": {
      "needs_background": "light"
     },
     "output_type": "display_data"
    }
   ],
   "source": [
    "# 실습\n",
    "from sklearn.ensemble import RandomForestClassifier\n",
    "\n",
    "forest = RandomForestClassifier(criterion='gini',\n",
    "                               n_estimators=25,\n",
    "                               random_state=1,\n",
    "                               n_jobs=2)\n",
    "    # n_estimators는 생성할 결정 트리 개수; n_jobs는 컴퓨터의 멀티 코어를 몇 개나 사용할지 지정\n",
    "forest.fit(X_train, y_train)\n",
    "\n",
    "plot_decision_regions(X_combined, y_combined,\n",
    "                     classifier=forest, test_idx=range(105,150))\n",
    "\n",
    "plt.xlabel('petal length [cm]')\n",
    "plt.ylabel('petal width [cm]')\n",
    "plt.legend(loc='upper left')\n",
    "plt.tight_layout()\n",
    "\n",
    "plt.show()"
   ]
  },
  {
   "cell_type": "markdown",
   "id": "ad40a1c5",
   "metadata": {},
   "source": [
    "### RandomForestRegressor"
   ]
  },
  {
   "cell_type": "code",
   "execution_count": 82,
   "id": "c697f69f",
   "metadata": {},
   "outputs": [],
   "source": [
    "from sklearn.model_selection import RandomizedSearchCV\n",
    "# Number of trees in random forest\n",
    "n_estimators = [int(x) for x in np.linspace(start = 200, stop = 2000, num = 10)]\n",
    "# Number of features to consider at every split\n",
    "max_features = ['auto', 'sqrt']\n",
    "# Maximum number of levels in tree\n",
    "max_depth = [int(x) for x in np.linspace(10, 110, num = 11)]\n",
    "max_depth.append(None)\n",
    "# Minimum number of samples required to split a node\n",
    "min_samples_split = [2, 5, 10]\n",
    "# Minimum number of samples required at each leaf node\n",
    "min_samples_leaf = [1, 2, 4]\n",
    "# Method of selecting samples for training each tree\n",
    "bootstrap = [True, False]\n",
    "# Create the random grid\n",
    "random_grid = {'n_estimators': n_estimators,\n",
    "               'max_features': max_features,\n",
    "               'max_depth': max_depth,\n",
    "               'min_samples_split': min_samples_split,\n",
    "               'min_samples_leaf': min_samples_leaf,\n",
    "               'bootstrap': bootstrap}"
   ]
  },
  {
   "cell_type": "code",
   "execution_count": 7,
   "id": "8b5884f6",
   "metadata": {},
   "outputs": [],
   "source": [
    "df = pd.read_csv('../pos_bigdata/3data/체질검사.csv')\n",
    "\n",
    "df_x = df.drop('FAT', axis=1)\n",
    "df_y = df['FAT']\n",
    "\n",
    "X_train, X_test, y_train, y_test = \\\n",
    "    train_test_split(df_x, df_x, test_size=0.3)"
   ]
  },
  {
   "cell_type": "code",
   "execution_count": 15,
   "id": "568c26ab",
   "metadata": {},
   "outputs": [
    {
     "name": "stdout",
     "output_type": "stream",
     "text": [
      "Fitting 3 folds for each of 100 candidates, totalling 300 fits\n"
     ]
    },
    {
     "data": {
      "text/plain": [
       "RandomizedSearchCV(cv=3, estimator=RandomForestRegressor(), n_iter=100,\n",
       "                   n_jobs=-1,\n",
       "                   param_distributions={'bootstrap': [True, False],\n",
       "                                        'max_depth': [10, 20, 30, 40, 50, 60,\n",
       "                                                      70, 80, 90, 100, 110,\n",
       "                                                      None],\n",
       "                                        'max_features': ['auto', 'sqrt'],\n",
       "                                        'min_samples_leaf': [1, 2, 4],\n",
       "                                        'min_samples_split': [2, 5, 10],\n",
       "                                        'n_estimators': [200, 400, 600, 800,\n",
       "                                                         1000, 1200, 1400, 1600,\n",
       "                                                         1800, 2000]},\n",
       "                   random_state=42, verbose=2)"
      ]
     },
     "execution_count": 15,
     "metadata": {},
     "output_type": "execute_result"
    }
   ],
   "source": [
    "from sklearn.ensemble import RandomForestRegressor\n",
    "# Use the random grid to search for best hyperparameters\n",
    "# First create the base model to tune\n",
    "rf = RandomForestRegressor()\n",
    "# Random search of parameters, using 3 fold cross validation, \n",
    "# search across 100 different combinations, and use all available cores\n",
    "rf_random = RandomizedSearchCV(estimator = rf, param_distributions = random_grid, n_iter = 100, cv = 3, verbose=2, random_state=42, n_jobs = -1, refit=True)\n",
    "# Fit the random search model\n",
    "rf_random.fit(X_train, y_train)"
   ]
  },
  {
   "cell_type": "code",
   "execution_count": 58,
   "id": "7f44ebc4",
   "metadata": {},
   "outputs": [
    {
     "data": {
      "text/html": [
       "<div>\n",
       "<style scoped>\n",
       "    .dataframe tbody tr th:only-of-type {\n",
       "        vertical-align: middle;\n",
       "    }\n",
       "\n",
       "    .dataframe tbody tr th {\n",
       "        vertical-align: top;\n",
       "    }\n",
       "\n",
       "    .dataframe thead th {\n",
       "        text-align: right;\n",
       "    }\n",
       "</style>\n",
       "<table border=\"1\" class=\"dataframe\">\n",
       "  <thead>\n",
       "    <tr style=\"text-align: right;\">\n",
       "      <th></th>\n",
       "      <th>params</th>\n",
       "      <th>mean_test_score</th>\n",
       "      <th>rank_test_score</th>\n",
       "    </tr>\n",
       "  </thead>\n",
       "  <tbody>\n",
       "    <tr>\n",
       "      <th>25</th>\n",
       "      <td>{'n_estimators': 400, 'min_samples_split': 2, ...</td>\n",
       "      <td>0.695176</td>\n",
       "      <td>1</td>\n",
       "    </tr>\n",
       "    <tr>\n",
       "      <th>17</th>\n",
       "      <td>{'n_estimators': 1000, 'min_samples_split': 2,...</td>\n",
       "      <td>0.688957</td>\n",
       "      <td>2</td>\n",
       "    </tr>\n",
       "    <tr>\n",
       "      <th>45</th>\n",
       "      <td>{'n_estimators': 1000, 'min_samples_split': 2,...</td>\n",
       "      <td>0.688705</td>\n",
       "      <td>3</td>\n",
       "    </tr>\n",
       "    <tr>\n",
       "      <th>49</th>\n",
       "      <td>{'n_estimators': 600, 'min_samples_split': 2, ...</td>\n",
       "      <td>0.685175</td>\n",
       "      <td>4</td>\n",
       "    </tr>\n",
       "    <tr>\n",
       "      <th>31</th>\n",
       "      <td>{'n_estimators': 800, 'min_samples_split': 2, ...</td>\n",
       "      <td>0.684976</td>\n",
       "      <td>5</td>\n",
       "    </tr>\n",
       "    <tr>\n",
       "      <th>...</th>\n",
       "      <td>...</td>\n",
       "      <td>...</td>\n",
       "      <td>...</td>\n",
       "    </tr>\n",
       "    <tr>\n",
       "      <th>51</th>\n",
       "      <td>{'n_estimators': 2000, 'min_samples_split': 10...</td>\n",
       "      <td>0.483063</td>\n",
       "      <td>96</td>\n",
       "    </tr>\n",
       "    <tr>\n",
       "      <th>18</th>\n",
       "      <td>{'n_estimators': 1800, 'min_samples_split': 10...</td>\n",
       "      <td>0.482981</td>\n",
       "      <td>97</td>\n",
       "    </tr>\n",
       "    <tr>\n",
       "      <th>83</th>\n",
       "      <td>{'n_estimators': 800, 'min_samples_split': 10,...</td>\n",
       "      <td>0.482968</td>\n",
       "      <td>98</td>\n",
       "    </tr>\n",
       "    <tr>\n",
       "      <th>44</th>\n",
       "      <td>{'n_estimators': 200, 'min_samples_split': 5, ...</td>\n",
       "      <td>0.430434</td>\n",
       "      <td>99</td>\n",
       "    </tr>\n",
       "    <tr>\n",
       "      <th>16</th>\n",
       "      <td>{'n_estimators': 600, 'min_samples_split': 5, ...</td>\n",
       "      <td>0.428163</td>\n",
       "      <td>100</td>\n",
       "    </tr>\n",
       "  </tbody>\n",
       "</table>\n",
       "<p>100 rows × 3 columns</p>\n",
       "</div>"
      ],
      "text/plain": [
       "                                               params  mean_test_score  \\\n",
       "25  {'n_estimators': 400, 'min_samples_split': 2, ...         0.695176   \n",
       "17  {'n_estimators': 1000, 'min_samples_split': 2,...         0.688957   \n",
       "45  {'n_estimators': 1000, 'min_samples_split': 2,...         0.688705   \n",
       "49  {'n_estimators': 600, 'min_samples_split': 2, ...         0.685175   \n",
       "31  {'n_estimators': 800, 'min_samples_split': 2, ...         0.684976   \n",
       "..                                                ...              ...   \n",
       "51  {'n_estimators': 2000, 'min_samples_split': 10...         0.483063   \n",
       "18  {'n_estimators': 1800, 'min_samples_split': 10...         0.482981   \n",
       "83  {'n_estimators': 800, 'min_samples_split': 10,...         0.482968   \n",
       "44  {'n_estimators': 200, 'min_samples_split': 5, ...         0.430434   \n",
       "16  {'n_estimators': 600, 'min_samples_split': 5, ...         0.428163   \n",
       "\n",
       "    rank_test_score  \n",
       "25                1  \n",
       "17                2  \n",
       "45                3  \n",
       "49                4  \n",
       "31                5  \n",
       "..              ...  \n",
       "51               96  \n",
       "18               97  \n",
       "83               98  \n",
       "44               99  \n",
       "16              100  \n",
       "\n",
       "[100 rows x 3 columns]"
      ]
     },
     "execution_count": 58,
     "metadata": {},
     "output_type": "execute_result"
    }
   ],
   "source": [
    "scores_df = pd.DataFrame(rf_random.cv_results_)\n",
    "scores_df[['params', 'mean_test_score', 'rank_test_score']].sort_values(by=['rank_test_score'])"
   ]
  },
  {
   "cell_type": "code",
   "execution_count": 60,
   "id": "b71ef5bb",
   "metadata": {},
   "outputs": [
    {
     "ename": "AttributeError",
     "evalue": "'RandomForestRegressor' object has no attribute 'estimator_'",
     "output_type": "error",
     "traceback": [
      "\u001b[0;31m---------------------------------------------------------------------------\u001b[0m",
      "\u001b[0;31mAttributeError\u001b[0m                            Traceback (most recent call last)",
      "\u001b[0;32m/var/folders/hh/14z5pty92_s51gdc2n406w6w0000gn/T/ipykernel_48804/1358794304.py\u001b[0m in \u001b[0;36m<module>\u001b[0;34m\u001b[0m\n\u001b[0;32m----> 1\u001b[0;31m export_graphviz(rf1.estimator_[0],\n\u001b[0m\u001b[1;32m      2\u001b[0m                 \u001b[0mout_file\u001b[0m\u001b[0;34m=\u001b[0m\u001b[0;34m'rfr_0.dot'\u001b[0m\u001b[0;34m,\u001b[0m\u001b[0;34m\u001b[0m\u001b[0;34m\u001b[0m\u001b[0m\n\u001b[1;32m      3\u001b[0m                 \u001b[0mfeature_names\u001b[0m\u001b[0;34m=\u001b[0m\u001b[0mX_train\u001b[0m\u001b[0;34m.\u001b[0m\u001b[0mcolumns\u001b[0m\u001b[0;34m,\u001b[0m\u001b[0;34m\u001b[0m\u001b[0;34m\u001b[0m\u001b[0m\n\u001b[1;32m      4\u001b[0m                 impurity=True, filled=True)\n\u001b[1;32m      5\u001b[0m \u001b[0;32mwith\u001b[0m \u001b[0mopen\u001b[0m\u001b[0;34m(\u001b[0m\u001b[0;34m'rfr_0.dot'\u001b[0m\u001b[0;34m)\u001b[0m \u001b[0;32mas\u001b[0m \u001b[0mf\u001b[0m\u001b[0;34m:\u001b[0m\u001b[0;34m\u001b[0m\u001b[0;34m\u001b[0m\u001b[0m\n",
      "\u001b[0;31mAttributeError\u001b[0m: 'RandomForestRegressor' object has no attribute 'estimator_'"
     ]
    }
   ],
   "source": [
    "export_graphviz(rf1.estimator_[0],\n",
    "                out_file='rfr_0.dot',\n",
    "                feature_names=X_train.columns,\n",
    "                impurity=True, filled=True)\n",
    "with open('rfr_0.dot') as f:\n",
    "    dot_graph = f.read()\n",
    "display(graphviz.Source(dot.graph))"
   ]
  },
  {
   "cell_type": "code",
   "execution_count": 62,
   "id": "7c878d64",
   "metadata": {},
   "outputs": [
    {
     "data": {
      "text/plain": [
       "<bound method BaseEstimator.get_params of RandomForestRegressor(bootstrap=False, max_features='sqrt', n_estimators=400)>"
      ]
     },
     "execution_count": 62,
     "metadata": {},
     "output_type": "execute_result"
    }
   ],
   "source": [
    "rf1.get_params"
   ]
  },
  {
   "cell_type": "code",
   "execution_count": 65,
   "id": "cc7700a2",
   "metadata": {},
   "outputs": [
    {
     "data": {
      "text/plain": [
       "RandomForestRegressor(bootstrap=False, max_features='sqrt', n_estimators=400)"
      ]
     },
     "execution_count": 65,
     "metadata": {},
     "output_type": "execute_result"
    }
   ],
   "source": [
    "rf_random.best_estimator_"
   ]
  },
  {
   "cell_type": "code",
   "execution_count": 66,
   "id": "8c3378ab",
   "metadata": {},
   "outputs": [],
   "source": [
    "rf1 = rf_random.best_estimator_"
   ]
  },
  {
   "cell_type": "code",
   "execution_count": 70,
   "id": "321bf100",
   "metadata": {
    "scrolled": true
   },
   "outputs": [
    {
     "data": {
      "text/html": [
       "<div>\n",
       "<style scoped>\n",
       "    .dataframe tbody tr th:only-of-type {\n",
       "        vertical-align: middle;\n",
       "    }\n",
       "\n",
       "    .dataframe tbody tr th {\n",
       "        vertical-align: top;\n",
       "    }\n",
       "\n",
       "    .dataframe thead th {\n",
       "        text-align: right;\n",
       "    }\n",
       "</style>\n",
       "<table border=\"1\" class=\"dataframe\">\n",
       "  <thead>\n",
       "    <tr style=\"text-align: right;\">\n",
       "      <th></th>\n",
       "      <th>Feature</th>\n",
       "      <th>Importance</th>\n",
       "    </tr>\n",
       "  </thead>\n",
       "  <tbody>\n",
       "    <tr>\n",
       "      <th>1</th>\n",
       "      <td>WEIGHT</td>\n",
       "      <td>0.219858</td>\n",
       "    </tr>\n",
       "    <tr>\n",
       "      <th>4</th>\n",
       "      <td>CHEST</td>\n",
       "      <td>0.148725</td>\n",
       "    </tr>\n",
       "    <tr>\n",
       "      <th>6</th>\n",
       "      <td>HIP</td>\n",
       "      <td>0.131409</td>\n",
       "    </tr>\n",
       "    <tr>\n",
       "      <th>5</th>\n",
       "      <td>ABDOMEN</td>\n",
       "      <td>0.122168</td>\n",
       "    </tr>\n",
       "    <tr>\n",
       "      <th>7</th>\n",
       "      <td>THIGH</td>\n",
       "      <td>0.088489</td>\n",
       "    </tr>\n",
       "    <tr>\n",
       "      <th>8</th>\n",
       "      <td>KNEE</td>\n",
       "      <td>0.066195</td>\n",
       "    </tr>\n",
       "    <tr>\n",
       "      <th>0</th>\n",
       "      <td>AGE</td>\n",
       "      <td>0.053736</td>\n",
       "    </tr>\n",
       "    <tr>\n",
       "      <th>3</th>\n",
       "      <td>NECK</td>\n",
       "      <td>0.052918</td>\n",
       "    </tr>\n",
       "    <tr>\n",
       "      <th>10</th>\n",
       "      <td>BICEPS</td>\n",
       "      <td>0.027760</td>\n",
       "    </tr>\n",
       "    <tr>\n",
       "      <th>12</th>\n",
       "      <td>WRIST</td>\n",
       "      <td>0.026710</td>\n",
       "    </tr>\n",
       "    <tr>\n",
       "      <th>9</th>\n",
       "      <td>ANKLE</td>\n",
       "      <td>0.024183</td>\n",
       "    </tr>\n",
       "    <tr>\n",
       "      <th>11</th>\n",
       "      <td>FOREARM</td>\n",
       "      <td>0.023488</td>\n",
       "    </tr>\n",
       "    <tr>\n",
       "      <th>2</th>\n",
       "      <td>HEIGHT</td>\n",
       "      <td>0.014361</td>\n",
       "    </tr>\n",
       "  </tbody>\n",
       "</table>\n",
       "</div>"
      ],
      "text/plain": [
       "    Feature  Importance\n",
       "1    WEIGHT    0.219858\n",
       "4     CHEST    0.148725\n",
       "6       HIP    0.131409\n",
       "5   ABDOMEN    0.122168\n",
       "7     THIGH    0.088489\n",
       "8      KNEE    0.066195\n",
       "0       AGE    0.053736\n",
       "3      NECK    0.052918\n",
       "10   BICEPS    0.027760\n",
       "12    WRIST    0.026710\n",
       "9     ANKLE    0.024183\n",
       "11  FOREARM    0.023488\n",
       "2    HEIGHT    0.014361"
      ]
     },
     "execution_count": 70,
     "metadata": {},
     "output_type": "execute_result"
    }
   ],
   "source": [
    "df_importance = pd.DataFrame()\n",
    "df_importance['Feature'] = X_train.columns\n",
    "df_importance['Importance'] = rf1.feature_importances_\n",
    "\n",
    "df_importance.sort_values(by=['Importance'], ascending=False)"
   ]
  },
  {
   "cell_type": "code",
   "execution_count": null,
   "id": "9595a8e2",
   "metadata": {},
   "outputs": [],
   "source": []
  },
  {
   "cell_type": "code",
   "execution_count": null,
   "id": "05f1ac07",
   "metadata": {},
   "outputs": [],
   "source": []
  },
  {
   "cell_type": "markdown",
   "id": "2aefdfe4",
   "metadata": {},
   "source": [
    "# <font color='blue'>[Boosting]</font>\n",
    "\n",
    "> **Boosting이란.. it means boosting 'weak learners' to 'strong learners.'** => 부스팅은 iterative process이다: *각각의 iteration마다 the training set is reweighted based on errors of weak learners.*\n",
    "> - Adaptive Boosting과 Gradient Boosting의 차이는:\n",
    "    - on how the weights are updated;\n",
    "    - and on how the classifiers are combined.\n",
    "\n",
    "#### Boosting의 작동 원리\n",
    "1. 훈련 데이터셋 $D$에서 중복을 허용하지 않고 랜덤한 부분 집합 $d_1$를 뽑아 약한 학습기 $C_1$(예를 들어 깊이가 1인 결정트리)를 훈련한다.\n",
    "2. 훈련 데이터셋에서 중복을 허용하지 않고 두 번째 랜덤한 훈련 부분 집합 $d_2$를 뽑고 이전에 잘못 분류된 샘플의 50%를 더해서 약한 학습기 $C_2$를 훈련한다.\n",
    "3. 훈련 데이터셋 $D$에서 $C_1$과 $C_2$에서 잘못 분류한 훈련 샘플 $d_3$를 찾아 세 번째 약한 학습기인 $C_3$를 훈련한다.\n",
    "4. 약한 학습기 $C_1$, $C_2$, $C_3$를 다수결 투표로 연결한다.\n",
    "\n",
    "#### AdaBoost\n",
    "training set의 가중치를 weak learner의 에러에 기반해 계속 업데이트하고, 모든 weak learner의 예측을 majority voting으로 합친다.\n",
    "\n",
    "\n",
    "#### GradientBoosting\n",
    "In contrast to AdaBoost, the output of gradient boosting is an additive models of multiple weak learners. (rather than the majority voting of the ensemble of models)\n",
    "- GB를 가동하면, 그 첫 번째 모델은 예를 들어 깊이가 1인 결정트리이고, 마지막 결과물은 깊이가 훨씬 더 깊은 결정트리가 되는 것이다.\n",
    "- GB의 작동 방식\n",
    "    1. Construct a base tree (just the root node).\n",
    "    2. Build next tree based on errors of the previous tree.\n",
    "    3. Combine tree from step 1 with trees from step 2. Go to step 2.\n",
    "    \n",
    "\n",
    "- AdaBoost와 달리 이전의 약한 학습기가 만든 '잔차오차(residual error)를 학습하는 새로운 학습기를 추가한다.\n",
    "\n",
    "- 장점\n",
    "    - 하이퍼파라미터 조정이 쉽고 성능이 뛰어남\n",
    "    - 데이터 scale 변환이 불필요\n",
    "- 단점\n",
    "    - 개별 트리 분석이 어렵고, 트리 개수가 늘어날수록 과대적합되는 경향이 있음\n",
    "    - 차원이 크고 희소한 데이터에서는 성능이 미흡\n",
    "    - 모델 성능이 하이퍼파라미터, 특히 학습률에 민감함"
   ]
  },
  {
   "cell_type": "code",
   "execution_count": null,
   "id": "644e07e5",
   "metadata": {},
   "outputs": [],
   "source": []
  },
  {
   "cell_type": "code",
   "execution_count": null,
   "id": "29bda200",
   "metadata": {},
   "outputs": [],
   "source": []
  },
  {
   "cell_type": "markdown",
   "id": "41307064",
   "metadata": {},
   "source": [
    "# <font color='blue'>[Stacking]</font>"
   ]
  },
  {
   "cell_type": "code",
   "execution_count": null,
   "id": "be784e7c",
   "metadata": {},
   "outputs": [],
   "source": []
  },
  {
   "cell_type": "code",
   "execution_count": null,
   "id": "4c4611e8",
   "metadata": {},
   "outputs": [],
   "source": []
  },
  {
   "cell_type": "code",
   "execution_count": null,
   "id": "c1d3d8fd",
   "metadata": {},
   "outputs": [],
   "source": []
  },
  {
   "cell_type": "code",
   "execution_count": null,
   "id": "8f346e10",
   "metadata": {},
   "outputs": [],
   "source": []
  },
  {
   "cell_type": "code",
   "execution_count": null,
   "id": "b79a39c7",
   "metadata": {},
   "outputs": [],
   "source": []
  },
  {
   "cell_type": "code",
   "execution_count": null,
   "id": "82b7d9eb",
   "metadata": {},
   "outputs": [],
   "source": []
  },
  {
   "cell_type": "code",
   "execution_count": null,
   "id": "d21f9714",
   "metadata": {},
   "outputs": [],
   "source": []
  },
  {
   "cell_type": "markdown",
   "id": "651d3330",
   "metadata": {},
   "source": [
    "# <font color='blue'>[SHAP Value]</font>"
   ]
  },
  {
   "cell_type": "code",
   "execution_count": null,
   "id": "04d33800",
   "metadata": {},
   "outputs": [],
   "source": []
  },
  {
   "cell_type": "code",
   "execution_count": null,
   "id": "24193277",
   "metadata": {},
   "outputs": [],
   "source": []
  },
  {
   "cell_type": "code",
   "execution_count": null,
   "id": "3f4d3d7f",
   "metadata": {},
   "outputs": [],
   "source": []
  },
  {
   "cell_type": "code",
   "execution_count": null,
   "id": "bcc1e6b9",
   "metadata": {},
   "outputs": [],
   "source": []
  },
  {
   "cell_type": "code",
   "execution_count": null,
   "id": "a2fc892a",
   "metadata": {},
   "outputs": [],
   "source": []
  },
  {
   "cell_type": "code",
   "execution_count": null,
   "id": "057efafb",
   "metadata": {},
   "outputs": [],
   "source": []
  },
  {
   "cell_type": "code",
   "execution_count": null,
   "id": "5417df16",
   "metadata": {},
   "outputs": [],
   "source": []
  },
  {
   "cell_type": "code",
   "execution_count": null,
   "id": "fe20e48d",
   "metadata": {},
   "outputs": [],
   "source": []
  },
  {
   "cell_type": "code",
   "execution_count": null,
   "id": "ab459835",
   "metadata": {},
   "outputs": [],
   "source": []
  },
  {
   "cell_type": "code",
   "execution_count": null,
   "id": "c441b9a1",
   "metadata": {},
   "outputs": [],
   "source": []
  },
  {
   "cell_type": "code",
   "execution_count": null,
   "id": "89e1d2ef",
   "metadata": {},
   "outputs": [],
   "source": []
  },
  {
   "cell_type": "code",
   "execution_count": null,
   "id": "9f2c49a8",
   "metadata": {},
   "outputs": [],
   "source": []
  }
 ],
 "metadata": {
  "kernelspec": {
   "display_name": "Python 3 (ipykernel)",
   "language": "python",
   "name": "python3"
  },
  "language_info": {
   "codemirror_mode": {
    "name": "ipython",
    "version": 3
   },
   "file_extension": ".py",
   "mimetype": "text/x-python",
   "name": "python",
   "nbconvert_exporter": "python",
   "pygments_lexer": "ipython3",
   "version": "3.8.10"
  },
  "toc": {
   "base_numbering": 1,
   "nav_menu": {},
   "number_sections": false,
   "sideBar": true,
   "skip_h1_title": false,
   "title_cell": "Table of Contents",
   "title_sidebar": "Contents",
   "toc_cell": true,
   "toc_position": {
    "height": "calc(100% - 180px)",
    "left": "10px",
    "top": "150px",
    "width": "196.1875px"
   },
   "toc_section_display": true,
   "toc_window_display": true
  }
 },
 "nbformat": 4,
 "nbformat_minor": 5
}
