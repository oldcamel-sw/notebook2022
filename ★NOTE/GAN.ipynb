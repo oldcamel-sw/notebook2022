{
 "cells": [
  {
   "cell_type": "markdown",
   "metadata": {
    "toc": true
   },
   "source": [
    "<h1>Table of Contents<span class=\"tocSkip\"></span></h1>\n",
    "<div class=\"toc\"><ul class=\"toc-item\"><li><span><a href=\"#Autoencoder\" data-toc-modified-id=\"Autoencoder-1\">Autoencoder</a></span></li><li><span><a href=\"#생성모델\" data-toc-modified-id=\"생성모델-2\">생성모델</a></span></li><li><span><a href=\"#생성모델-1:-VAE\" data-toc-modified-id=\"생성모델-1:-VAE-3\">생성모델 1: VAE</a></span></li><li><span><a href=\"#생성모델-기타:\" data-toc-modified-id=\"생성모델-기타:-4\">생성모델 기타:</a></span></li><li><span><a href=\"#생성모델:-GAN\" data-toc-modified-id=\"생성모델:-GAN-5\">생성모델: GAN</a></span></li></ul></div>"
   ]
  },
  {
   "cell_type": "code",
   "execution_count": 1,
   "metadata": {
    "ExecuteTime": {
     "end_time": "2021-09-22T13:37:47.297590Z",
     "start_time": "2021-09-22T13:37:47.270568Z"
    }
   },
   "outputs": [],
   "source": [
    "from IPython.display import Image"
   ]
  },
  {
   "cell_type": "code",
   "execution_count": 2,
   "metadata": {
    "ExecuteTime": {
     "end_time": "2021-09-22T13:37:51.685236Z",
     "start_time": "2021-09-22T13:37:47.685020Z"
    },
    "colab": {
     "base_uri": "https://localhost:8080/"
    },
    "id": "pcSMaWb1mo8w",
    "outputId": "1af7186e-ba02-4825-8a5e-5bb22265f46f"
   },
   "outputs": [
    {
     "name": "stdout",
     "output_type": "stream",
     "text": [
      "Init Plugin\n",
      "2.5.0\n",
      "GPU 여부: True\n",
      "/device:GPU:0Init Graph Optimizer\n",
      "Init Kernel\n",
      "Metal device set to: Apple M1\n",
      "\n"
     ]
    },
    {
     "name": "stderr",
     "output_type": "stream",
     "text": [
      "2021-09-22 22:37:51.682218: I tensorflow/core/common_runtime/pluggable_device/pluggable_device_factory.cc:305] Could not identify NUMA node of platform GPU ID 0, defaulting to 0. Your kernel may not have been built with NUMA support.\n",
      "2021-09-22 22:37:51.682613: I tensorflow/core/common_runtime/pluggable_device/pluggable_device_factory.cc:271] Created TensorFlow device (/device:GPU:0 with 0 MB memory) -> physical PluggableDevice (device: 0, name: METAL, pci bus id: <undefined>)\n"
     ]
    }
   ],
   "source": [
    "import tensorflow as tf\n",
    "print(tf.__version__)\n",
    "print('GPU 여부:', len(tf.config.list_physical_devices('GPU')) > 0)\n",
    "\n",
    "if tf.config.list_physical_devices('GPU'):\n",
    "    device_name = tf.test.gpu_device_name()\n",
    "else:\n",
    "    device_name = '/CPU:0'\n",
    "print(device_name)"
   ]
  },
  {
   "cell_type": "markdown",
   "metadata": {
    "id": "LvcwQCRxnHi1"
   },
   "source": [
    "GAN은 비지도학습! GAN의 주목적은 '훈련 데이터셋과 동일한 분포를 가진 새로운 데이터를 합성하는 것'이다.\n",
    "\n",
    "## Autoencoder\n",
    "기본 오토인코더는 새로운 형태의 데이터를 생성할 수는 없지만, GAN을 이해하는 데 도움이 됌.\n",
    "\n",
    "- 인코더는: d차원의 입력 특성 벡터 x를 받아서 p차원의 잠재 벡터(latent) z로 인코딩한다.\n",
    "    - 잠재벡터를 bottleneck(병목)이라고도 부른다. 오토인코더의 이런 성질을 과소완전(undercomplete)이라고도 부른다. 잠재 벡터의 차원이 더 큰 오토인코더도 있는데, 이런 경우 과대완전(overcomplete)이라고 부른다.\n",
    "    - 다시 말해 인코더는 $z=f(x)$ 함수이다.\n",
    "- 디코더는 저차원 잠재 벡터 z에서 $\\hat x$를 압축 해제한다.\n",
    "    - 디코더는 함수 $\\hat x = g(z)$ 이다.\n",
    "\n",
    "## 생성모델\n",
    "생성모델은 벡터 z를 받고 새로운 샘플 $\\tilde x$를 생성하는 모델이다. (생성하는 신경망을 생성자(generator)라고 부른다.)\n",
    "- 이게 오토인코더의 디코더와 거의 비슷한 개념인데; 다른 점은 디코더는 잠재 벡터 z를 받아서 입력 x를 재구성한 $\\hat x$를 반환한다는 것이고,\n",
    "- 생성모델은 새로운 샘플 $\\tilde x$를 생성한다는 것이다.\n",
    "<br><br>\n",
    "- 또 다른 차이점은 오토인코더에서는 z의 분포를 알지 못하지만, 생성모델에서는 z의 분포를 알고 있다는 것이다. 생성모델에서는 z의 분포를 알고 있기 때문에 새로운 샘플을 생성할 수 있는 것이다.\n",
    "\n",
    "## 생성모델 1: VAE\n",
    "- VAE는 오토인코더를 생성모델로 일반화한 버전이다.\n",
    "- VAE는 샘플 x를 입력 받으면 인코더 신경망이 잠재 벡터 분포의 평균과 분산을 계산한다. 그리고 잠재벡터의 분포가 표준정규분포가 되도록 신경망을 조정한다.\n",
    "- VAE 모델을 훈련한 후, 즉 잠재벡터를 생성한 후 인코더는 떼어내고 디코더 신경말을 이용해서 가우시안 분포에서 랜덤하게 샘플링한 z 벡터를 기반으로 새로운 샘플 $\\hat x$를 생성한다.\n",
    "\n",
    "## 생성모델 기타:\n",
    "- 자기회귀모델(autoregressive model)\n",
    "- 노멀라이징 플로 모델(normalizing flow model)\n",
    "\n",
    "## 생성모델: GAN\n",
    "GAN의 특징은.. 생성하는 신경망(생성자)와 판별하는 신경망(판별자= discriminator)를 가지고 있다는 점이다. 판별자는 진짜 이미지 x에서 합성 이미지 $\\hat x$를 감지하는 법을 학습하는 분류기다."
   ]
  },
  {
   "cell_type": "code",
   "execution_count": 4,
   "metadata": {
    "ExecuteTime": {
     "end_time": "2021-09-22T13:38:38.792826Z",
     "start_time": "2021-09-22T13:38:38.784462Z"
    },
    "id": "nQr3NECHo3jk"
   },
   "outputs": [
    {
     "data": {
      "text/html": [
       "<img src=\"https://git.io/JLAQ7\" width=\"500\"/>"
      ],
      "text/plain": [
       "<IPython.core.display.Image object>"
      ]
     },
     "execution_count": 4,
     "metadata": {},
     "output_type": "execute_result"
    }
   ],
   "source": [
    "Image(url='https://git.io/JLAQ7', width=500)"
   ]
  },
  {
   "cell_type": "code",
   "execution_count": 5,
   "metadata": {
    "ExecuteTime": {
     "end_time": "2021-09-22T13:43:49.928700Z",
     "start_time": "2021-09-22T13:43:49.921603Z"
    },
    "id": "bE-vktqQo3mf"
   },
   "outputs": [
    {
     "data": {
      "text/html": [
       "<img src=\"https://git.io/JLAQF\" width=\"550\"/>"
      ],
      "text/plain": [
       "<IPython.core.display.Image object>"
      ]
     },
     "execution_count": 5,
     "metadata": {},
     "output_type": "execute_result"
    }
   ],
   "source": [
    "Image(url='https://git.io/JLAQF', width=550)"
   ]
  },
  {
   "cell_type": "code",
   "execution_count": null,
   "metadata": {
    "id": "cPuUuXMYo3p3"
   },
   "outputs": [],
   "source": []
  },
  {
   "cell_type": "code",
   "execution_count": null,
   "metadata": {
    "id": "GyCcQakKo3sJ"
   },
   "outputs": [],
   "source": []
  },
  {
   "cell_type": "code",
   "execution_count": null,
   "metadata": {
    "id": "wRfqZSrwo3uj"
   },
   "outputs": [],
   "source": []
  },
  {
   "cell_type": "code",
   "execution_count": null,
   "metadata": {
    "id": "Gd9Qrwc5o3w4"
   },
   "outputs": [],
   "source": []
  },
  {
   "cell_type": "code",
   "execution_count": null,
   "metadata": {
    "id": "SwNOHXhYo3zV"
   },
   "outputs": [],
   "source": []
  },
  {
   "cell_type": "code",
   "execution_count": null,
   "metadata": {
    "id": "q1XfKS9hnHln"
   },
   "outputs": [],
   "source": []
  },
  {
   "cell_type": "code",
   "execution_count": null,
   "metadata": {
    "id": "V3J19b7mnHoD"
   },
   "outputs": [],
   "source": []
  },
  {
   "cell_type": "code",
   "execution_count": null,
   "metadata": {
    "id": "5jpI-5HwnHqU"
   },
   "outputs": [],
   "source": []
  },
  {
   "cell_type": "code",
   "execution_count": null,
   "metadata": {
    "id": "-rzJU9lvnHsx"
   },
   "outputs": [],
   "source": []
  },
  {
   "cell_type": "code",
   "execution_count": null,
   "metadata": {
    "id": "_ePQBgnVnHvQ"
   },
   "outputs": [],
   "source": []
  },
  {
   "cell_type": "code",
   "execution_count": null,
   "metadata": {
    "id": "3yR8JpInnHxu"
   },
   "outputs": [],
   "source": []
  },
  {
   "cell_type": "code",
   "execution_count": null,
   "metadata": {
    "id": "7NQPIFBQnHz0"
   },
   "outputs": [],
   "source": []
  },
  {
   "cell_type": "code",
   "execution_count": null,
   "metadata": {
    "id": "ujee9NvJnH2o"
   },
   "outputs": [],
   "source": []
  },
  {
   "cell_type": "code",
   "execution_count": null,
   "metadata": {
    "id": "UlCpW-EPnH5c"
   },
   "outputs": [],
   "source": []
  }
 ],
 "metadata": {
  "accelerator": "GPU",
  "colab": {
   "name": "Raschka_GAN.ipynb",
   "provenance": []
  },
  "kernelspec": {
   "display_name": "Python 3 (ipykernel)",
   "language": "python",
   "name": "python3"
  },
  "language_info": {
   "codemirror_mode": {
    "name": "ipython",
    "version": 3
   },
   "file_extension": ".py",
   "mimetype": "text/x-python",
   "name": "python",
   "nbconvert_exporter": "python",
   "pygments_lexer": "ipython3",
   "version": "3.8.6"
  },
  "toc": {
   "base_numbering": 1,
   "nav_menu": {},
   "number_sections": false,
   "sideBar": true,
   "skip_h1_title": false,
   "title_cell": "Table of Contents",
   "title_sidebar": "Contents",
   "toc_cell": true,
   "toc_position": {
    "height": "calc(100% - 180px)",
    "left": "10px",
    "top": "150px",
    "width": "165px"
   },
   "toc_section_display": true,
   "toc_window_display": false
  }
 },
 "nbformat": 4,
 "nbformat_minor": 1
}
