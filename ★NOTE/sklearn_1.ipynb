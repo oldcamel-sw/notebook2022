{
 "cells": [
  {
   "cell_type": "markdown",
   "id": "a59214db",
   "metadata": {},
   "source": [
    "## Linear Models\n",
    "\n",
    "- Ordinary least squares\n",
    "- Ridge regression and classification\n",
    "- Lasso\n",
    "- Multi-task Lasso\n",
    "- Elastic-Net\n",
    "- Multi-task Elastic-Net\n",
    "- Least angle regression\n",
    "- LARS Lasso\n",
    "- Orthogonal matching pursuit(OMP)\n",
    "- Bayesian regression\n",
    "- Logistic regression\n",
    "- Generalized linear regression\n",
    "- Stochastic gradient descent(SGD)\n",
    "- Perceptron\n",
    "- Passive aggressive algorithms\n",
    "- Robustness regression\n",
    "- Polynomial regression"
   ]
  },
  {
   "cell_type": "markdown",
   "id": "6d520669",
   "metadata": {},
   "source": [
    "### Ordinary Least Squares"
   ]
  },
  {
   "cell_type": "code",
   "execution_count": null,
   "id": "b9f3e277",
   "metadata": {},
   "outputs": [],
   "source": [
    "from sklearn import linear_model\n",
    "reg = linear_model.LinearRegression()\n",
    "reg.fit([[0, 0], [1, 1], [2,2]], [0, 1, 2])\n",
    "# fit을 하면 reg라는 모델이 coef와 intercept를 찾아내는 것이다."
   ]
  },
  {
   "cell_type": "code",
   "execution_count": null,
   "id": "c3351738",
   "metadata": {},
   "outputs": [],
   "source": [
    "reg.coef_"
   ]
  },
  {
   "cell_type": "markdown",
   "id": "01a4bb4a",
   "metadata": {},
   "source": [
    "#### diabetes example"
   ]
  },
  {
   "cell_type": "code",
   "execution_count": null,
   "id": "e707a01d",
   "metadata": {},
   "outputs": [],
   "source": [
    "import matplotlib.pyplot as plt\n",
    "import numpy as np\n",
    "from sklearn import datasets, linear_model\n",
    "from sklearn.metrics import mean_squared_error, r2_score"
   ]
  },
  {
   "cell_type": "code",
   "execution_count": null,
   "id": "2d0d78b1",
   "metadata": {},
   "outputs": [],
   "source": [
    "diabetes_X, diabetes_y = datasets.load_diabetes(return_X_y=True)\n",
    "\n",
    "# column index 2 열만 feature로 사용한다.\n",
    "diabetes_X = diabetes_X[:, np.newaxis, 2]\n",
    "# np.newaxis했을 때 차이점은 => (행,) 이 아니라 (행,1) vector가 된다.\n",
    "    # diabetes_X = diabetes_X[:, 2]\n",
    "    # diabetes_X.shape\n",
    "    \n",
    "# train test split\n",
    "diabetes_X_train = diabetes_X[:-20]\n",
    "diabetes_X_test = diabetes_X[-20:]\n",
    "diabetes_y_train = diabetes_y[:-20]\n",
    "diabetes_y_test = diabetes_y[-20:]\n",
    "\n",
    "# ln object\n",
    "regr = linear_model.LinearRegression()\n",
    "regr.fit(diabetes_X_train, diabetes_y_train)\n",
    "diabetes_y_pred = regr.predict(diabetes_X_test)\n",
    "\n",
    "# coefs\n",
    "print('Coefficients: \\n', regr.coef_)\n",
    "print('Mean squared error: %.2f'\n",
    "     % mean_squared_error(diabetes_y_test, diabetes_y_pred))\n",
    "print('Coefficient of determination: %.2f'\n",
    "     % r2_score(diabetes_y_test, diabetes_y_pred))\n",
    "\n",
    "# plot output\n",
    "plt.scatter(diabetes_X_test, diabetes_y_test, color='black')\n",
    "plt.plot(diabetes_X_test, diabetes_y_pred, color='blue', linewidth=3)\n",
    "\n",
    "plt.xticks(())\n",
    "plt.yticks(())\n",
    "\n",
    "plt.show()"
   ]
  },
  {
   "cell_type": "markdown",
   "id": "c0904ede",
   "metadata": {},
   "source": [
    "### Ridge\n",
    "\n",
    "- 회귀계수 축소 => 임의로 지정한 alpha값 만큼 coefficient size에 penalty를 준다.\n",
    "    - 결과적으로 coefficients become more robust to multi-collinearity.\n",
    "- RidgeClassifier는 binary target을 -1, 1로 convert한 후에 위에서와 동일하게 regression task로 문제를 푼다."
   ]
  },
  {
   "cell_type": "code",
   "execution_count": null,
   "id": "6d64a799",
   "metadata": {},
   "outputs": [],
   "source": [
    "from sklearn import linear_model\n",
    "reg = linear_model.Ridge(alpha=.5)\n",
    "reg.fit([[0,0],[0,0],[1,1]], [0,.1,1])"
   ]
  },
  {
   "cell_type": "code",
   "execution_count": null,
   "id": "62548d5e",
   "metadata": {},
   "outputs": [],
   "source": [
    "reg.coef_, reg.intercept_"
   ]
  },
  {
   "cell_type": "markdown",
   "id": "7b432289",
   "metadata": {},
   "source": [
    "## Examples - Interpreting Coefficients"
   ]
  },
  {
   "cell_type": "markdown",
   "id": "09fe6279",
   "metadata": {},
   "source": [
    "> In linear models, the target value is modeled as a linear combination of the features."
   ]
  },
  {
   "cell_type": "code",
   "execution_count": 1,
   "id": "6e205f2d",
   "metadata": {},
   "outputs": [],
   "source": [
    "import numpy as np\n",
    "import scipy as sp\n",
    "import pandas as pd\n",
    "import matplotlib.pyplot as plt\n",
    "import seaborn as sns\n",
    "from sklearn.datasets import fetch_openml"
   ]
  },
  {
   "cell_type": "code",
   "execution_count": 2,
   "id": "00ebfcea",
   "metadata": {},
   "outputs": [
    {
     "data": {
      "text/html": [
       "<div>\n",
       "<style scoped>\n",
       "    .dataframe tbody tr th:only-of-type {\n",
       "        vertical-align: middle;\n",
       "    }\n",
       "\n",
       "    .dataframe tbody tr th {\n",
       "        vertical-align: top;\n",
       "    }\n",
       "\n",
       "    .dataframe thead th {\n",
       "        text-align: right;\n",
       "    }\n",
       "</style>\n",
       "<table border=\"1\" class=\"dataframe\">\n",
       "  <thead>\n",
       "    <tr style=\"text-align: right;\">\n",
       "      <th></th>\n",
       "      <th>EDUCATION</th>\n",
       "      <th>SOUTH</th>\n",
       "      <th>SEX</th>\n",
       "      <th>EXPERIENCE</th>\n",
       "      <th>UNION</th>\n",
       "      <th>AGE</th>\n",
       "      <th>RACE</th>\n",
       "      <th>OCCUPATION</th>\n",
       "      <th>SECTOR</th>\n",
       "      <th>MARR</th>\n",
       "    </tr>\n",
       "  </thead>\n",
       "  <tbody>\n",
       "    <tr>\n",
       "      <th>0</th>\n",
       "      <td>8.0</td>\n",
       "      <td>no</td>\n",
       "      <td>female</td>\n",
       "      <td>21.0</td>\n",
       "      <td>not_member</td>\n",
       "      <td>35.0</td>\n",
       "      <td>Hispanic</td>\n",
       "      <td>Other</td>\n",
       "      <td>Manufacturing</td>\n",
       "      <td>Married</td>\n",
       "    </tr>\n",
       "    <tr>\n",
       "      <th>1</th>\n",
       "      <td>9.0</td>\n",
       "      <td>no</td>\n",
       "      <td>female</td>\n",
       "      <td>42.0</td>\n",
       "      <td>not_member</td>\n",
       "      <td>57.0</td>\n",
       "      <td>White</td>\n",
       "      <td>Other</td>\n",
       "      <td>Manufacturing</td>\n",
       "      <td>Married</td>\n",
       "    </tr>\n",
       "    <tr>\n",
       "      <th>2</th>\n",
       "      <td>12.0</td>\n",
       "      <td>no</td>\n",
       "      <td>male</td>\n",
       "      <td>1.0</td>\n",
       "      <td>not_member</td>\n",
       "      <td>19.0</td>\n",
       "      <td>White</td>\n",
       "      <td>Other</td>\n",
       "      <td>Manufacturing</td>\n",
       "      <td>Unmarried</td>\n",
       "    </tr>\n",
       "    <tr>\n",
       "      <th>3</th>\n",
       "      <td>12.0</td>\n",
       "      <td>no</td>\n",
       "      <td>male</td>\n",
       "      <td>4.0</td>\n",
       "      <td>not_member</td>\n",
       "      <td>22.0</td>\n",
       "      <td>White</td>\n",
       "      <td>Other</td>\n",
       "      <td>Other</td>\n",
       "      <td>Unmarried</td>\n",
       "    </tr>\n",
       "    <tr>\n",
       "      <th>4</th>\n",
       "      <td>12.0</td>\n",
       "      <td>no</td>\n",
       "      <td>male</td>\n",
       "      <td>17.0</td>\n",
       "      <td>not_member</td>\n",
       "      <td>35.0</td>\n",
       "      <td>White</td>\n",
       "      <td>Other</td>\n",
       "      <td>Other</td>\n",
       "      <td>Married</td>\n",
       "    </tr>\n",
       "    <tr>\n",
       "      <th>...</th>\n",
       "      <td>...</td>\n",
       "      <td>...</td>\n",
       "      <td>...</td>\n",
       "      <td>...</td>\n",
       "      <td>...</td>\n",
       "      <td>...</td>\n",
       "      <td>...</td>\n",
       "      <td>...</td>\n",
       "      <td>...</td>\n",
       "      <td>...</td>\n",
       "    </tr>\n",
       "    <tr>\n",
       "      <th>529</th>\n",
       "      <td>18.0</td>\n",
       "      <td>no</td>\n",
       "      <td>male</td>\n",
       "      <td>5.0</td>\n",
       "      <td>not_member</td>\n",
       "      <td>29.0</td>\n",
       "      <td>White</td>\n",
       "      <td>Professional</td>\n",
       "      <td>Other</td>\n",
       "      <td>Unmarried</td>\n",
       "    </tr>\n",
       "    <tr>\n",
       "      <th>530</th>\n",
       "      <td>12.0</td>\n",
       "      <td>no</td>\n",
       "      <td>female</td>\n",
       "      <td>33.0</td>\n",
       "      <td>not_member</td>\n",
       "      <td>51.0</td>\n",
       "      <td>Other</td>\n",
       "      <td>Professional</td>\n",
       "      <td>Other</td>\n",
       "      <td>Married</td>\n",
       "    </tr>\n",
       "    <tr>\n",
       "      <th>531</th>\n",
       "      <td>17.0</td>\n",
       "      <td>no</td>\n",
       "      <td>female</td>\n",
       "      <td>25.0</td>\n",
       "      <td>member</td>\n",
       "      <td>48.0</td>\n",
       "      <td>Other</td>\n",
       "      <td>Professional</td>\n",
       "      <td>Other</td>\n",
       "      <td>Married</td>\n",
       "    </tr>\n",
       "    <tr>\n",
       "      <th>532</th>\n",
       "      <td>12.0</td>\n",
       "      <td>yes</td>\n",
       "      <td>male</td>\n",
       "      <td>13.0</td>\n",
       "      <td>member</td>\n",
       "      <td>31.0</td>\n",
       "      <td>White</td>\n",
       "      <td>Professional</td>\n",
       "      <td>Other</td>\n",
       "      <td>Married</td>\n",
       "    </tr>\n",
       "    <tr>\n",
       "      <th>533</th>\n",
       "      <td>16.0</td>\n",
       "      <td>no</td>\n",
       "      <td>male</td>\n",
       "      <td>33.0</td>\n",
       "      <td>not_member</td>\n",
       "      <td>55.0</td>\n",
       "      <td>White</td>\n",
       "      <td>Professional</td>\n",
       "      <td>Manufacturing</td>\n",
       "      <td>Married</td>\n",
       "    </tr>\n",
       "  </tbody>\n",
       "</table>\n",
       "<p>534 rows × 10 columns</p>\n",
       "</div>"
      ],
      "text/plain": [
       "     EDUCATION SOUTH     SEX  EXPERIENCE       UNION   AGE      RACE  \\\n",
       "0          8.0    no  female        21.0  not_member  35.0  Hispanic   \n",
       "1          9.0    no  female        42.0  not_member  57.0     White   \n",
       "2         12.0    no    male         1.0  not_member  19.0     White   \n",
       "3         12.0    no    male         4.0  not_member  22.0     White   \n",
       "4         12.0    no    male        17.0  not_member  35.0     White   \n",
       "..         ...   ...     ...         ...         ...   ...       ...   \n",
       "529       18.0    no    male         5.0  not_member  29.0     White   \n",
       "530       12.0    no  female        33.0  not_member  51.0     Other   \n",
       "531       17.0    no  female        25.0      member  48.0     Other   \n",
       "532       12.0   yes    male        13.0      member  31.0     White   \n",
       "533       16.0    no    male        33.0  not_member  55.0     White   \n",
       "\n",
       "       OCCUPATION         SECTOR       MARR  \n",
       "0           Other  Manufacturing    Married  \n",
       "1           Other  Manufacturing    Married  \n",
       "2           Other  Manufacturing  Unmarried  \n",
       "3           Other          Other  Unmarried  \n",
       "4           Other          Other    Married  \n",
       "..            ...            ...        ...  \n",
       "529  Professional          Other  Unmarried  \n",
       "530  Professional          Other    Married  \n",
       "531  Professional          Other    Married  \n",
       "532  Professional          Other    Married  \n",
       "533  Professional  Manufacturing    Married  \n",
       "\n",
       "[534 rows x 10 columns]"
      ]
     },
     "execution_count": 2,
     "metadata": {},
     "output_type": "execute_result"
    }
   ],
   "source": [
    "survey = fetch_openml(data_id=534, as_frame=True)\n",
    "survey.data"
   ]
  },
  {
   "cell_type": "code",
   "execution_count": 3,
   "id": "d8a82e4c",
   "metadata": {},
   "outputs": [
    {
     "data": {
      "text/html": [
       "<div>\n",
       "<style scoped>\n",
       "    .dataframe tbody tr th:only-of-type {\n",
       "        vertical-align: middle;\n",
       "    }\n",
       "\n",
       "    .dataframe tbody tr th {\n",
       "        vertical-align: top;\n",
       "    }\n",
       "\n",
       "    .dataframe thead th {\n",
       "        text-align: right;\n",
       "    }\n",
       "</style>\n",
       "<table border=\"1\" class=\"dataframe\">\n",
       "  <thead>\n",
       "    <tr style=\"text-align: right;\">\n",
       "      <th></th>\n",
       "      <th>EDUCATION</th>\n",
       "      <th>SOUTH</th>\n",
       "      <th>SEX</th>\n",
       "      <th>EXPERIENCE</th>\n",
       "      <th>UNION</th>\n",
       "      <th>AGE</th>\n",
       "      <th>RACE</th>\n",
       "      <th>OCCUPATION</th>\n",
       "      <th>SECTOR</th>\n",
       "      <th>MARR</th>\n",
       "    </tr>\n",
       "  </thead>\n",
       "  <tbody>\n",
       "    <tr>\n",
       "      <th>count</th>\n",
       "      <td>534.000000</td>\n",
       "      <td>534</td>\n",
       "      <td>534</td>\n",
       "      <td>534.000000</td>\n",
       "      <td>534</td>\n",
       "      <td>534.000000</td>\n",
       "      <td>534</td>\n",
       "      <td>534</td>\n",
       "      <td>534</td>\n",
       "      <td>534</td>\n",
       "    </tr>\n",
       "    <tr>\n",
       "      <th>unique</th>\n",
       "      <td>NaN</td>\n",
       "      <td>2</td>\n",
       "      <td>2</td>\n",
       "      <td>NaN</td>\n",
       "      <td>2</td>\n",
       "      <td>NaN</td>\n",
       "      <td>3</td>\n",
       "      <td>6</td>\n",
       "      <td>3</td>\n",
       "      <td>2</td>\n",
       "    </tr>\n",
       "    <tr>\n",
       "      <th>top</th>\n",
       "      <td>NaN</td>\n",
       "      <td>no</td>\n",
       "      <td>male</td>\n",
       "      <td>NaN</td>\n",
       "      <td>not_member</td>\n",
       "      <td>NaN</td>\n",
       "      <td>White</td>\n",
       "      <td>Other</td>\n",
       "      <td>Other</td>\n",
       "      <td>Married</td>\n",
       "    </tr>\n",
       "    <tr>\n",
       "      <th>freq</th>\n",
       "      <td>NaN</td>\n",
       "      <td>378</td>\n",
       "      <td>289</td>\n",
       "      <td>NaN</td>\n",
       "      <td>438</td>\n",
       "      <td>NaN</td>\n",
       "      <td>440</td>\n",
       "      <td>156</td>\n",
       "      <td>411</td>\n",
       "      <td>350</td>\n",
       "    </tr>\n",
       "    <tr>\n",
       "      <th>mean</th>\n",
       "      <td>13.018727</td>\n",
       "      <td>NaN</td>\n",
       "      <td>NaN</td>\n",
       "      <td>17.822097</td>\n",
       "      <td>NaN</td>\n",
       "      <td>36.833333</td>\n",
       "      <td>NaN</td>\n",
       "      <td>NaN</td>\n",
       "      <td>NaN</td>\n",
       "      <td>NaN</td>\n",
       "    </tr>\n",
       "    <tr>\n",
       "      <th>std</th>\n",
       "      <td>2.615373</td>\n",
       "      <td>NaN</td>\n",
       "      <td>NaN</td>\n",
       "      <td>12.379710</td>\n",
       "      <td>NaN</td>\n",
       "      <td>11.726573</td>\n",
       "      <td>NaN</td>\n",
       "      <td>NaN</td>\n",
       "      <td>NaN</td>\n",
       "      <td>NaN</td>\n",
       "    </tr>\n",
       "    <tr>\n",
       "      <th>min</th>\n",
       "      <td>2.000000</td>\n",
       "      <td>NaN</td>\n",
       "      <td>NaN</td>\n",
       "      <td>0.000000</td>\n",
       "      <td>NaN</td>\n",
       "      <td>18.000000</td>\n",
       "      <td>NaN</td>\n",
       "      <td>NaN</td>\n",
       "      <td>NaN</td>\n",
       "      <td>NaN</td>\n",
       "    </tr>\n",
       "    <tr>\n",
       "      <th>25%</th>\n",
       "      <td>12.000000</td>\n",
       "      <td>NaN</td>\n",
       "      <td>NaN</td>\n",
       "      <td>8.000000</td>\n",
       "      <td>NaN</td>\n",
       "      <td>28.000000</td>\n",
       "      <td>NaN</td>\n",
       "      <td>NaN</td>\n",
       "      <td>NaN</td>\n",
       "      <td>NaN</td>\n",
       "    </tr>\n",
       "    <tr>\n",
       "      <th>50%</th>\n",
       "      <td>12.000000</td>\n",
       "      <td>NaN</td>\n",
       "      <td>NaN</td>\n",
       "      <td>15.000000</td>\n",
       "      <td>NaN</td>\n",
       "      <td>35.000000</td>\n",
       "      <td>NaN</td>\n",
       "      <td>NaN</td>\n",
       "      <td>NaN</td>\n",
       "      <td>NaN</td>\n",
       "    </tr>\n",
       "    <tr>\n",
       "      <th>75%</th>\n",
       "      <td>15.000000</td>\n",
       "      <td>NaN</td>\n",
       "      <td>NaN</td>\n",
       "      <td>26.000000</td>\n",
       "      <td>NaN</td>\n",
       "      <td>44.000000</td>\n",
       "      <td>NaN</td>\n",
       "      <td>NaN</td>\n",
       "      <td>NaN</td>\n",
       "      <td>NaN</td>\n",
       "    </tr>\n",
       "    <tr>\n",
       "      <th>max</th>\n",
       "      <td>18.000000</td>\n",
       "      <td>NaN</td>\n",
       "      <td>NaN</td>\n",
       "      <td>55.000000</td>\n",
       "      <td>NaN</td>\n",
       "      <td>64.000000</td>\n",
       "      <td>NaN</td>\n",
       "      <td>NaN</td>\n",
       "      <td>NaN</td>\n",
       "      <td>NaN</td>\n",
       "    </tr>\n",
       "  </tbody>\n",
       "</table>\n",
       "</div>"
      ],
      "text/plain": [
       "         EDUCATION SOUTH   SEX  EXPERIENCE       UNION         AGE   RACE  \\\n",
       "count   534.000000   534   534  534.000000         534  534.000000    534   \n",
       "unique         NaN     2     2         NaN           2         NaN      3   \n",
       "top            NaN    no  male         NaN  not_member         NaN  White   \n",
       "freq           NaN   378   289         NaN         438         NaN    440   \n",
       "mean     13.018727   NaN   NaN   17.822097         NaN   36.833333    NaN   \n",
       "std       2.615373   NaN   NaN   12.379710         NaN   11.726573    NaN   \n",
       "min       2.000000   NaN   NaN    0.000000         NaN   18.000000    NaN   \n",
       "25%      12.000000   NaN   NaN    8.000000         NaN   28.000000    NaN   \n",
       "50%      12.000000   NaN   NaN   15.000000         NaN   35.000000    NaN   \n",
       "75%      15.000000   NaN   NaN   26.000000         NaN   44.000000    NaN   \n",
       "max      18.000000   NaN   NaN   55.000000         NaN   64.000000    NaN   \n",
       "\n",
       "       OCCUPATION SECTOR     MARR  \n",
       "count         534    534      534  \n",
       "unique          6      3        2  \n",
       "top         Other  Other  Married  \n",
       "freq          156    411      350  \n",
       "mean          NaN    NaN      NaN  \n",
       "std           NaN    NaN      NaN  \n",
       "min           NaN    NaN      NaN  \n",
       "25%           NaN    NaN      NaN  \n",
       "50%           NaN    NaN      NaN  \n",
       "75%           NaN    NaN      NaN  \n",
       "max           NaN    NaN      NaN  "
      ]
     },
     "execution_count": 3,
     "metadata": {},
     "output_type": "execute_result"
    }
   ],
   "source": [
    "X = survey.data[survey.feature_names]\n",
    "X.describe(include=\"all\")"
   ]
  },
  {
   "cell_type": "code",
   "execution_count": 4,
   "id": "02773663",
   "metadata": {},
   "outputs": [
    {
     "data": {
      "text/plain": [
       "0    5.10\n",
       "1    4.95\n",
       "2    6.67\n",
       "3    4.00\n",
       "4    7.50\n",
       "Name: WAGE, dtype: float64"
      ]
     },
     "execution_count": 4,
     "metadata": {},
     "output_type": "execute_result"
    }
   ],
   "source": [
    "y = survey.target.values.ravel()\n",
    "survey.target.head()"
   ]
  },
  {
   "cell_type": "code",
   "execution_count": 5,
   "id": "378e15e3",
   "metadata": {},
   "outputs": [],
   "source": [
    "# train test split\n",
    "from sklearn.model_selection import train_test_split\n",
    "\n",
    "X_train, X_test, y_train, y_test = train_test_split(\n",
    "    X, y, random_state=42\n",
    ")"
   ]
  },
  {
   "cell_type": "code",
   "execution_count": 6,
   "id": "426abd5a",
   "metadata": {
    "scrolled": false
   },
   "outputs": [
    {
     "data": {
      "image/png": "[encoded data removed]",
      "text/plain": [
       "<Figure size 720x720 with 20 Axes>"
      ]
     },
     "metadata": {
      "needs_background": "light"
     },
     "output_type": "display_data"
    }
   ],
   "source": [
    "# visual insight\n",
    "train_dataset = X_train.copy()\n",
    "train_dataset.insert(0, \"Wage\", y_train)\n",
    "    # 0번째 열에, y_train에 있는 'wage' column을 추가\n",
    "_ = sns.pairplot(train_dataset, kind='reg', diag_kind='kde')"
   ]
  },
  {
   "cell_type": "markdown",
   "id": "0e74d9a8",
   "metadata": {},
   "source": [
    "#### one-hot-encoding\n",
    "- to avoid categorical features to be treated as ordered values, we need to one-hot-encode them."
   ]
  },
  {
   "cell_type": "code",
   "execution_count": 7,
   "id": "09a257eb",
   "metadata": {},
   "outputs": [
    {
     "name": "stdout",
     "output_type": "stream",
     "text": [
      "<class 'pandas.core.frame.DataFrame'>\n",
      "RangeIndex: 534 entries, 0 to 533\n",
      "Data columns (total 10 columns):\n",
      " #   Column      Non-Null Count  Dtype   \n",
      "---  ------      --------------  -----   \n",
      " 0   EDUCATION   534 non-null    float64 \n",
      " 1   SOUTH       534 non-null    category\n",
      " 2   SEX         534 non-null    category\n",
      " 3   EXPERIENCE  534 non-null    float64 \n",
      " 4   UNION       534 non-null    category\n",
      " 5   AGE         534 non-null    float64 \n",
      " 6   RACE        534 non-null    category\n",
      " 7   OCCUPATION  534 non-null    category\n",
      " 8   SECTOR      534 non-null    category\n",
      " 9   MARR        534 non-null    category\n",
      "dtypes: category(7), float64(3)\n",
      "memory usage: 17.2 KB\n"
     ]
    }
   ],
   "source": [
    "survey.data.info()"
   ]
  },
  {
   "cell_type": "code",
   "execution_count": 9,
   "id": "a41561ff",
   "metadata": {},
   "outputs": [],
   "source": [
    "from sklearn.compose import make_column_transformer\n",
    "from sklearn.preprocessing import OneHotEncoder\n",
    "\n",
    "categorical_columns = ['RACE', 'OCCUPATION', 'SECTOR',\n",
    "                      'MARR', 'UNION', 'SEX', 'SOUTH']\n",
    "numerical_columns = ['EDUCATION', 'EXPERIENCE', 'AGE']\n",
    "\n",
    "preprocessor = make_column_transformer(\n",
    "    (OneHotEncoder(drop='if_binary'), categorical_columns),\n",
    "    remainder='passthrough'\n",
    ")"
   ]
  },
  {
   "cell_type": "code",
   "execution_count": 14,
   "id": "e10a1fca",
   "metadata": {},
   "outputs": [],
   "source": [
    "from sklearn.pipeline import make_pipeline\n",
    "from sklearn.linear_model import Ridge\n",
    "from sklearn.compose import TransformedTargetRegressor\n",
    "\n",
    "model = make_pipeline(\n",
    "    preprocessor,\n",
    "    TransformedTargetRegressor(\n",
    "        regressor=Ridge(alpha=1e-10),  # very small regularization\n",
    "        func=np.log10,  # to model the logarithm of the WAGE\n",
    "        inverse_func=sp.special.exp10\n",
    "    )\n",
    ")"
   ]
  },
  {
   "cell_type": "code",
   "execution_count": 15,
   "id": "5dc1a070",
   "metadata": {},
   "outputs": [],
   "source": [
    "_ = model.fit(X_train, y_train)"
   ]
  },
  {
   "cell_type": "code",
   "execution_count": 26,
   "id": "e4c746c9",
   "metadata": {},
   "outputs": [
    {
     "data": {
      "image/png": "[encoded data removed]",
      "text/plain": [
       "<Figure size 360x360 with 1 Axes>"
      ]
     },
     "metadata": {
      "needs_background": "light"
     },
     "output_type": "display_data"
    }
   ],
   "source": [
    "from sklearn.metrics import median_absolute_error\n",
    "\n",
    "y_pred = model.predict(X_train)\n",
    "\n",
    "mae = median_absolute_error(y_train, y_pred)\n",
    "string_score = f'MAE on training set: {mae:.2f} $/hour'\n",
    "y_pred = model.predict(X_test)\n",
    "mae = median_absolute_error(y_test, y_pred)\n",
    "string_score += f'\\nMAE on testing set: {mae:.2f} $/hour'\n",
    "fig, ax = plt.subplots(figsize=(5, 5))\n",
    "plt.scatter(y_test, y_pred)\n",
    "ax.plot([0, 1], [0, 1], transform=ax.transAxes, ls=\"--\", c=\"red\")\n",
    "plt.text(3, 20, string_score)\n",
    "plt.title('Ridge model, small regularization')\n",
    "plt.ylabel('Model predictions')\n",
    "plt.xlabel('Truths')\n",
    "plt.xlim([0, 27])\n",
    "_ = plt.ylim([0, 27])"
   ]
  },
  {
   "cell_type": "markdown",
   "id": "acebf2b2",
   "metadata": {},
   "source": [
    "#### one-hot-encoding 예시 2"
   ]
  },
  {
   "cell_type": "code",
   "execution_count": 35,
   "id": "28cd5df7",
   "metadata": {},
   "outputs": [
    {
     "data": {
      "text/html": [
       "<div>\n",
       "<style scoped>\n",
       "    .dataframe tbody tr th:only-of-type {\n",
       "        vertical-align: middle;\n",
       "    }\n",
       "\n",
       "    .dataframe tbody tr th {\n",
       "        vertical-align: top;\n",
       "    }\n",
       "\n",
       "    .dataframe thead th {\n",
       "        text-align: right;\n",
       "    }\n",
       "</style>\n",
       "<table border=\"1\" class=\"dataframe\">\n",
       "  <thead>\n",
       "    <tr style=\"text-align: right;\">\n",
       "      <th></th>\n",
       "      <th>Fare</th>\n",
       "      <th>Embarked</th>\n",
       "      <th>Sex</th>\n",
       "      <th>Age</th>\n",
       "    </tr>\n",
       "  </thead>\n",
       "  <tbody>\n",
       "    <tr>\n",
       "      <th>0</th>\n",
       "      <td>7.2500</td>\n",
       "      <td>S</td>\n",
       "      <td>male</td>\n",
       "      <td>22.0</td>\n",
       "    </tr>\n",
       "    <tr>\n",
       "      <th>1</th>\n",
       "      <td>71.2833</td>\n",
       "      <td>C</td>\n",
       "      <td>female</td>\n",
       "      <td>38.0</td>\n",
       "    </tr>\n",
       "    <tr>\n",
       "      <th>2</th>\n",
       "      <td>7.9250</td>\n",
       "      <td>S</td>\n",
       "      <td>female</td>\n",
       "      <td>26.0</td>\n",
       "    </tr>\n",
       "    <tr>\n",
       "      <th>3</th>\n",
       "      <td>53.1000</td>\n",
       "      <td>S</td>\n",
       "      <td>female</td>\n",
       "      <td>35.0</td>\n",
       "    </tr>\n",
       "    <tr>\n",
       "      <th>4</th>\n",
       "      <td>8.0500</td>\n",
       "      <td>S</td>\n",
       "      <td>male</td>\n",
       "      <td>35.0</td>\n",
       "    </tr>\n",
       "    <tr>\n",
       "      <th>5</th>\n",
       "      <td>8.4583</td>\n",
       "      <td>Q</td>\n",
       "      <td>male</td>\n",
       "      <td>NaN</td>\n",
       "    </tr>\n",
       "  </tbody>\n",
       "</table>\n",
       "</div>"
      ],
      "text/plain": [
       "      Fare Embarked     Sex   Age\n",
       "0   7.2500        S    male  22.0\n",
       "1  71.2833        C  female  38.0\n",
       "2   7.9250        S  female  26.0\n",
       "3  53.1000        S  female  35.0\n",
       "4   8.0500        S    male  35.0\n",
       "5   8.4583        Q    male   NaN"
      ]
     },
     "execution_count": 35,
     "metadata": {},
     "output_type": "execute_result"
    }
   ],
   "source": [
    "import pandas as pd\n",
    "df = pd.read_csv('http://bit.ly/kaggletrain', nrows=6)\n",
    "cols = ['Fare', 'Embarked', 'Sex', 'Age']\n",
    "X = df[cols]\n",
    "X"
   ]
  },
  {
   "cell_type": "code",
   "execution_count": 46,
   "id": "0f9a5a56",
   "metadata": {},
   "outputs": [
    {
     "name": "stdout",
     "output_type": "stream",
     "text": [
      "<class 'pandas.core.frame.DataFrame'>\n",
      "RangeIndex: 6 entries, 0 to 5\n",
      "Data columns (total 4 columns):\n",
      " #   Column    Non-Null Count  Dtype  \n",
      "---  ------    --------------  -----  \n",
      " 0   Fare      6 non-null      float64\n",
      " 1   Embarked  6 non-null      object \n",
      " 2   Sex       6 non-null      object \n",
      " 3   Age       5 non-null      float64\n",
      "dtypes: float64(2), object(2)\n",
      "memory usage: 320.0+ bytes\n"
     ]
    }
   ],
   "source": [
    "X.info()"
   ]
  },
  {
   "cell_type": "code",
   "execution_count": 42,
   "id": "4812c890",
   "metadata": {},
   "outputs": [],
   "source": [
    "from sklearn.preprocessing import OneHotEncoder\n",
    "from sklearn.impute import SimpleImputer\n",
    "from sklearn.compose import make_column_transformer\n",
    "\n",
    "ohe = OneHotEncoder() # 범주형 변수를 \"이항변수화\"\n",
    "imp = SimpleImputer() # imputation: 결측값 대체"
   ]
  },
  {
   "cell_type": "markdown",
   "id": "f0ad3092",
   "metadata": {},
   "source": [
    "**single imputation**\n",
    "1. hot deck: 가장 많은 걸 넣는다 or 안변했을 것이다.\n",
    "2. mean imputation: 평균값을 넣는다\n",
    "3. regression imputation: 다른 값들로 회귀추정을 해서 넣는다.\n",
    "    - regression imp 같은 경우는 fitted value를 넣다보니 계수추정치에 대한 신뢰도가 과대평가되는 경향이 있다.\n",
    "4. stochastic regression imputation: 3번의 단점을 개선하기 위해 fitted value에 residual을 추가한 값을 넣는다.\n",
    "\n",
    "> 그런데.. \"결측대체값이면 관측값보다 더 약한 신뢰도를 가지게끔 만들어야 하는 거 아닌가???\" 라는 의문이 든다.\n",
    "\n",
    "**multiple imputation**\n",
    "- 이게 위의 문제점을 해결하기 위해 나온 방법이다. (자세히는 to-research)"
   ]
  },
  {
   "cell_type": "code",
   "execution_count": 57,
   "id": "ce610693",
   "metadata": {},
   "outputs": [],
   "source": [
    "ct = make_column_transformer(\n",
    "    (ohe, ['Embarked', 'Sex']), # categorical을 dummy 변수로 변환\n",
    "    (imp, ['Age']),\n",
    "    remainder='passthrough'\n",
    ")\n",
    "# column order: Embarked(3 cols), Sex(2 cols), Age(1 col), Fare(1 col)"
   ]
  },
  {
   "cell_type": "code",
   "execution_count": 58,
   "id": "e1591909",
   "metadata": {},
   "outputs": [
    {
     "data": {
      "text/plain": [
       "array([[ 0.    ,  0.    ,  1.    ,  0.    ,  1.    , 22.    ,  7.25  ],\n",
       "       [ 1.    ,  0.    ,  0.    ,  1.    ,  0.    , 38.    , 71.2833],\n",
       "       [ 0.    ,  0.    ,  1.    ,  1.    ,  0.    , 26.    ,  7.925 ],\n",
       "       [ 0.    ,  0.    ,  1.    ,  1.    ,  0.    , 35.    , 53.1   ],\n",
       "       [ 0.    ,  0.    ,  1.    ,  0.    ,  1.    , 35.    ,  8.05  ],\n",
       "       [ 0.    ,  1.    ,  0.    ,  0.    ,  1.    , 31.2   ,  8.4583]])"
      ]
     },
     "execution_count": 58,
     "metadata": {},
     "output_type": "execute_result"
    }
   ],
   "source": [
    "ct.fit_transform(X)"
   ]
  },
  {
   "cell_type": "code",
   "execution_count": null,
   "id": "31fb9734",
   "metadata": {},
   "outputs": [],
   "source": []
  },
  {
   "cell_type": "markdown",
   "id": "58c6fbdf",
   "metadata": {},
   "source": [
    "### Lasso"
   ]
  },
  {
   "cell_type": "code",
   "execution_count": null,
   "id": "7e1eb1e7",
   "metadata": {},
   "outputs": [],
   "source": []
  },
  {
   "cell_type": "code",
   "execution_count": null,
   "id": "c1396893",
   "metadata": {},
   "outputs": [],
   "source": []
  },
  {
   "cell_type": "code",
   "execution_count": null,
   "id": "3c4540c9",
   "metadata": {},
   "outputs": [],
   "source": []
  },
  {
   "cell_type": "code",
   "execution_count": null,
   "id": "fb45c6f1",
   "metadata": {},
   "outputs": [],
   "source": []
  },
  {
   "cell_type": "code",
   "execution_count": null,
   "id": "05781cbb",
   "metadata": {},
   "outputs": [],
   "source": []
  },
  {
   "cell_type": "code",
   "execution_count": null,
   "id": "50eae1eb",
   "metadata": {},
   "outputs": [],
   "source": []
  },
  {
   "cell_type": "code",
   "execution_count": null,
   "id": "9f86e3ab",
   "metadata": {},
   "outputs": [],
   "source": []
  },
  {
   "cell_type": "code",
   "execution_count": null,
   "id": "59ee8225",
   "metadata": {},
   "outputs": [],
   "source": []
  },
  {
   "cell_type": "code",
   "execution_count": null,
   "id": "05f0e300",
   "metadata": {},
   "outputs": [],
   "source": []
  },
  {
   "cell_type": "code",
   "execution_count": null,
   "id": "627d3094",
   "metadata": {},
   "outputs": [],
   "source": []
  },
  {
   "cell_type": "code",
   "execution_count": null,
   "id": "a82bcb72",
   "metadata": {},
   "outputs": [],
   "source": []
  }
 ],
 "metadata": {
  "kernelspec": {
   "display_name": "Python 3 (ipykernel)",
   "language": "python",
   "name": "python3"
  },
  "language_info": {
   "codemirror_mode": {
    "name": "ipython",
    "version": 3
   },
   "file_extension": ".py",
   "mimetype": "text/x-python",
   "name": "python",
   "nbconvert_exporter": "python",
   "pygments_lexer": "ipython3",
   "version": "3.8.10"
  }
 },
 "nbformat": 4,
 "nbformat_minor": 5
}
