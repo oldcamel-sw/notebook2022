{
 "cells": [
  {
   "cell_type": "code",
   "execution_count": 1,
   "id": "625e893e",
   "metadata": {},
   "outputs": [],
   "source": [
    "from IPython.display import Image"
   ]
  },
  {
   "cell_type": "markdown",
   "id": "05ddab4e",
   "metadata": {},
   "source": [
    "### 4.1.1 테이블 형태 데이터에서 누락된 값 식별"
   ]
  },
  {
   "cell_type": "code",
   "execution_count": 2,
   "id": "a0a2f11f",
   "metadata": {},
   "outputs": [
    {
     "data": {
      "text/html": [
       "<div>\n",
       "<style scoped>\n",
       "    .dataframe tbody tr th:only-of-type {\n",
       "        vertical-align: middle;\n",
       "    }\n",
       "\n",
       "    .dataframe tbody tr th {\n",
       "        vertical-align: top;\n",
       "    }\n",
       "\n",
       "    .dataframe thead th {\n",
       "        text-align: right;\n",
       "    }\n",
       "</style>\n",
       "<table border=\"1\" class=\"dataframe\">\n",
       "  <thead>\n",
       "    <tr style=\"text-align: right;\">\n",
       "      <th></th>\n",
       "      <th>A</th>\n",
       "      <th>B</th>\n",
       "      <th>C</th>\n",
       "      <th>D</th>\n",
       "    </tr>\n",
       "  </thead>\n",
       "  <tbody>\n",
       "    <tr>\n",
       "      <th>0</th>\n",
       "      <td>1.0</td>\n",
       "      <td>2.0</td>\n",
       "      <td>3.0</td>\n",
       "      <td>4.0</td>\n",
       "    </tr>\n",
       "    <tr>\n",
       "      <th>1</th>\n",
       "      <td>5.0</td>\n",
       "      <td>6.0</td>\n",
       "      <td>NaN</td>\n",
       "      <td>8.0</td>\n",
       "    </tr>\n",
       "    <tr>\n",
       "      <th>2</th>\n",
       "      <td>10.0</td>\n",
       "      <td>11.0</td>\n",
       "      <td>12.0</td>\n",
       "      <td>NaN</td>\n",
       "    </tr>\n",
       "  </tbody>\n",
       "</table>\n",
       "</div>"
      ],
      "text/plain": [
       "      A     B     C    D\n",
       "0   1.0   2.0   3.0  4.0\n",
       "1   5.0   6.0   NaN  8.0\n",
       "2  10.0  11.0  12.0  NaN"
      ]
     },
     "execution_count": 2,
     "metadata": {},
     "output_type": "execute_result"
    }
   ],
   "source": [
    "import pandas as pd\n",
    "from io import StringIO\n",
    "import sys\n",
    "\n",
    "csv_data = \\\n",
    "'''A,B,C,D\n",
    "1.0,2.0,3.0,4.0\n",
    "5.0,6.0,,8.0\n",
    "10.0,11.0,12.0,'''\n",
    "\n",
    "df = pd.read_csv(StringIO(csv_data))\n",
    "df"
   ]
  },
  {
   "cell_type": "code",
   "execution_count": 3,
   "id": "3f476efb",
   "metadata": {},
   "outputs": [
    {
     "data": {
      "text/plain": [
       "A    0\n",
       "B    0\n",
       "C    1\n",
       "D    1\n",
       "dtype: int64"
      ]
     },
     "execution_count": 3,
     "metadata": {},
     "output_type": "execute_result"
    }
   ],
   "source": [
    "df.isnull().sum()\n",
    "# df.isnull().sum().sum() 하면 null 값 총합이 나옴"
   ]
  },
  {
   "cell_type": "code",
   "execution_count": 4,
   "id": "8921957b",
   "metadata": {},
   "outputs": [
    {
     "data": {
      "text/plain": [
       "array([[ 1.,  2.,  3.,  4.],\n",
       "       [ 5.,  6., nan,  8.],\n",
       "       [10., 11., 12., nan]])"
      ]
     },
     "execution_count": 4,
     "metadata": {},
     "output_type": "execute_result"
    }
   ],
   "source": [
    "df.values # .values returns ndarray"
   ]
  },
  {
   "cell_type": "markdown",
   "id": "e734fd3a",
   "metadata": {},
   "source": [
    "### 4.1.2 누락된 값이 있는 훈련 샘플이나 특성 제외"
   ]
  },
  {
   "cell_type": "code",
   "execution_count": 5,
   "id": "775739ea",
   "metadata": {},
   "outputs": [
    {
     "data": {
      "text/html": [
       "<div>\n",
       "<style scoped>\n",
       "    .dataframe tbody tr th:only-of-type {\n",
       "        vertical-align: middle;\n",
       "    }\n",
       "\n",
       "    .dataframe tbody tr th {\n",
       "        vertical-align: top;\n",
       "    }\n",
       "\n",
       "    .dataframe thead th {\n",
       "        text-align: right;\n",
       "    }\n",
       "</style>\n",
       "<table border=\"1\" class=\"dataframe\">\n",
       "  <thead>\n",
       "    <tr style=\"text-align: right;\">\n",
       "      <th></th>\n",
       "      <th>A</th>\n",
       "      <th>B</th>\n",
       "      <th>C</th>\n",
       "      <th>D</th>\n",
       "    </tr>\n",
       "  </thead>\n",
       "  <tbody>\n",
       "    <tr>\n",
       "      <th>0</th>\n",
       "      <td>1.0</td>\n",
       "      <td>2.0</td>\n",
       "      <td>3.0</td>\n",
       "      <td>4.0</td>\n",
       "    </tr>\n",
       "  </tbody>\n",
       "</table>\n",
       "</div>"
      ],
      "text/plain": [
       "     A    B    C    D\n",
       "0  1.0  2.0  3.0  4.0"
      ]
     },
     "execution_count": 5,
     "metadata": {},
     "output_type": "execute_result"
    }
   ],
   "source": [
    "# 누락된 값이 있는 행을 삭제한다.\n",
    "df.dropna(axis=0)"
   ]
  },
  {
   "cell_type": "code",
   "execution_count": 6,
   "id": "be918cca",
   "metadata": {},
   "outputs": [
    {
     "data": {
      "text/html": [
       "<div>\n",
       "<style scoped>\n",
       "    .dataframe tbody tr th:only-of-type {\n",
       "        vertical-align: middle;\n",
       "    }\n",
       "\n",
       "    .dataframe tbody tr th {\n",
       "        vertical-align: top;\n",
       "    }\n",
       "\n",
       "    .dataframe thead th {\n",
       "        text-align: right;\n",
       "    }\n",
       "</style>\n",
       "<table border=\"1\" class=\"dataframe\">\n",
       "  <thead>\n",
       "    <tr style=\"text-align: right;\">\n",
       "      <th></th>\n",
       "      <th>A</th>\n",
       "      <th>B</th>\n",
       "    </tr>\n",
       "  </thead>\n",
       "  <tbody>\n",
       "    <tr>\n",
       "      <th>0</th>\n",
       "      <td>1.0</td>\n",
       "      <td>2.0</td>\n",
       "    </tr>\n",
       "    <tr>\n",
       "      <th>1</th>\n",
       "      <td>5.0</td>\n",
       "      <td>6.0</td>\n",
       "    </tr>\n",
       "    <tr>\n",
       "      <th>2</th>\n",
       "      <td>10.0</td>\n",
       "      <td>11.0</td>\n",
       "    </tr>\n",
       "  </tbody>\n",
       "</table>\n",
       "</div>"
      ],
      "text/plain": [
       "      A     B\n",
       "0   1.0   2.0\n",
       "1   5.0   6.0\n",
       "2  10.0  11.0"
      ]
     },
     "execution_count": 6,
     "metadata": {},
     "output_type": "execute_result"
    }
   ],
   "source": [
    "# 누락된 값이 있는 열을 삭제한다.\n",
    "df.dropna(axis=1)"
   ]
  },
  {
   "cell_type": "code",
   "execution_count": 7,
   "id": "f00d7e99",
   "metadata": {},
   "outputs": [
    {
     "data": {
      "text/html": [
       "<div>\n",
       "<style scoped>\n",
       "    .dataframe tbody tr th:only-of-type {\n",
       "        vertical-align: middle;\n",
       "    }\n",
       "\n",
       "    .dataframe tbody tr th {\n",
       "        vertical-align: top;\n",
       "    }\n",
       "\n",
       "    .dataframe thead th {\n",
       "        text-align: right;\n",
       "    }\n",
       "</style>\n",
       "<table border=\"1\" class=\"dataframe\">\n",
       "  <thead>\n",
       "    <tr style=\"text-align: right;\">\n",
       "      <th></th>\n",
       "      <th>A</th>\n",
       "      <th>B</th>\n",
       "      <th>C</th>\n",
       "      <th>D</th>\n",
       "    </tr>\n",
       "  </thead>\n",
       "  <tbody>\n",
       "    <tr>\n",
       "      <th>0</th>\n",
       "      <td>1.0</td>\n",
       "      <td>2.0</td>\n",
       "      <td>3.0</td>\n",
       "      <td>4.0</td>\n",
       "    </tr>\n",
       "    <tr>\n",
       "      <th>1</th>\n",
       "      <td>5.0</td>\n",
       "      <td>6.0</td>\n",
       "      <td>NaN</td>\n",
       "      <td>8.0</td>\n",
       "    </tr>\n",
       "    <tr>\n",
       "      <th>2</th>\n",
       "      <td>10.0</td>\n",
       "      <td>11.0</td>\n",
       "      <td>12.0</td>\n",
       "      <td>NaN</td>\n",
       "    </tr>\n",
       "  </tbody>\n",
       "</table>\n",
       "</div>"
      ],
      "text/plain": [
       "      A     B     C    D\n",
       "0   1.0   2.0   3.0  4.0\n",
       "1   5.0   6.0   NaN  8.0\n",
       "2  10.0  11.0  12.0  NaN"
      ]
     },
     "execution_count": 7,
     "metadata": {},
     "output_type": "execute_result"
    }
   ],
   "source": [
    "# 모든 열이 NaN인 행을 삭제한다.\n",
    "df.dropna(how='all')"
   ]
  },
  {
   "cell_type": "code",
   "execution_count": 8,
   "id": "21f3157c",
   "metadata": {},
   "outputs": [
    {
     "data": {
      "text/html": [
       "<div>\n",
       "<style scoped>\n",
       "    .dataframe tbody tr th:only-of-type {\n",
       "        vertical-align: middle;\n",
       "    }\n",
       "\n",
       "    .dataframe tbody tr th {\n",
       "        vertical-align: top;\n",
       "    }\n",
       "\n",
       "    .dataframe thead th {\n",
       "        text-align: right;\n",
       "    }\n",
       "</style>\n",
       "<table border=\"1\" class=\"dataframe\">\n",
       "  <thead>\n",
       "    <tr style=\"text-align: right;\">\n",
       "      <th></th>\n",
       "      <th>A</th>\n",
       "      <th>B</th>\n",
       "      <th>C</th>\n",
       "      <th>D</th>\n",
       "    </tr>\n",
       "  </thead>\n",
       "  <tbody>\n",
       "    <tr>\n",
       "      <th>0</th>\n",
       "      <td>1.0</td>\n",
       "      <td>2.0</td>\n",
       "      <td>3.0</td>\n",
       "      <td>4.0</td>\n",
       "    </tr>\n",
       "  </tbody>\n",
       "</table>\n",
       "</div>"
      ],
      "text/plain": [
       "     A    B    C    D\n",
       "0  1.0  2.0  3.0  4.0"
      ]
     },
     "execution_count": 8,
     "metadata": {},
     "output_type": "execute_result"
    }
   ],
   "source": [
    "# NaN 아닌 값이 네 개보다 작은 행을 삭제한다.\n",
    "df.dropna(thresh=4)"
   ]
  },
  {
   "cell_type": "code",
   "execution_count": 9,
   "id": "8ef43088",
   "metadata": {},
   "outputs": [
    {
     "data": {
      "text/html": [
       "<div>\n",
       "<style scoped>\n",
       "    .dataframe tbody tr th:only-of-type {\n",
       "        vertical-align: middle;\n",
       "    }\n",
       "\n",
       "    .dataframe tbody tr th {\n",
       "        vertical-align: top;\n",
       "    }\n",
       "\n",
       "    .dataframe thead th {\n",
       "        text-align: right;\n",
       "    }\n",
       "</style>\n",
       "<table border=\"1\" class=\"dataframe\">\n",
       "  <thead>\n",
       "    <tr style=\"text-align: right;\">\n",
       "      <th></th>\n",
       "      <th>A</th>\n",
       "      <th>B</th>\n",
       "      <th>C</th>\n",
       "      <th>D</th>\n",
       "    </tr>\n",
       "  </thead>\n",
       "  <tbody>\n",
       "    <tr>\n",
       "      <th>0</th>\n",
       "      <td>1.0</td>\n",
       "      <td>2.0</td>\n",
       "      <td>3.0</td>\n",
       "      <td>4.0</td>\n",
       "    </tr>\n",
       "    <tr>\n",
       "      <th>2</th>\n",
       "      <td>10.0</td>\n",
       "      <td>11.0</td>\n",
       "      <td>12.0</td>\n",
       "      <td>NaN</td>\n",
       "    </tr>\n",
       "  </tbody>\n",
       "</table>\n",
       "</div>"
      ],
      "text/plain": [
       "      A     B     C    D\n",
       "0   1.0   2.0   3.0  4.0\n",
       "2  10.0  11.0  12.0  NaN"
      ]
     },
     "execution_count": 9,
     "metadata": {},
     "output_type": "execute_result"
    }
   ],
   "source": [
    "# 특정 열에 NaN이 있는 행만 삭제한다 (여기서는 'C'열)\n",
    "df.dropna(subset=['C'])"
   ]
  },
  {
   "cell_type": "markdown",
   "id": "5b4e6530",
   "metadata": {},
   "source": [
    "### 4.1.3 누락된 값 대체"
   ]
  },
  {
   "cell_type": "code",
   "execution_count": 10,
   "id": "09cefc21",
   "metadata": {},
   "outputs": [
    {
     "data": {
      "text/plain": [
       "array([[ 1.,  2.,  3.,  4.],\n",
       "       [ 5.,  6., nan,  8.],\n",
       "       [10., 11., 12., nan]])"
      ]
     },
     "execution_count": 10,
     "metadata": {},
     "output_type": "execute_result"
    }
   ],
   "source": [
    "# 원래 배열\n",
    "df.values"
   ]
  },
  {
   "cell_type": "code",
   "execution_count": 11,
   "id": "1fd69066",
   "metadata": {},
   "outputs": [
    {
     "data": {
      "text/plain": [
       "array([[ 1. ,  2. ,  3. ,  4. ],\n",
       "       [ 5. ,  6. ,  7.5,  8. ],\n",
       "       [10. , 11. , 12. ,  6. ]])"
      ]
     },
     "execution_count": 11,
     "metadata": {},
     "output_type": "execute_result"
    }
   ],
   "source": [
    "# 행의 평균으로 누락된 값 대체하기\n",
    "from sklearn.impute import SimpleImputer\n",
    "import numpy as np\n",
    "\n",
    "imr = SimpleImputer(missing_values=np.nan, strategy='mean')\n",
    "imr = imr.fit(df.values)\n",
    "imputed_data = imr.transform(df.values)\n",
    "imputed_data\n",
    "\n",
    "# strategy = mean, median, most_frequent, constant 중 지정 가능\n",
    "# axis 변수 설정 못함! axis=0 이 기본 세팅 => 행 방향(아래로 내려오는 방향)으로 계산"
   ]
  },
  {
   "cell_type": "code",
   "execution_count": 12,
   "id": "e2a4823f",
   "metadata": {},
   "outputs": [
    {
     "data": {
      "text/plain": [
       "array([[ 1.        ,  2.        ,  3.        ,  4.        ],\n",
       "       [ 5.        ,  6.        ,  6.33333333,  8.        ],\n",
       "       [10.        , 11.        , 12.        , 11.        ]])"
      ]
     },
     "execution_count": 12,
     "metadata": {},
     "output_type": "execute_result"
    }
   ],
   "source": [
    "# axis=1 방향으로 대체하려면 FunctionTransformer 사용해야됌\n",
    "from sklearn.preprocessing import FunctionTransformer\n",
    "\n",
    "ftr_imr = FunctionTransformer(lambda X: imr.fit_transform(X.T).T)\n",
    "imputed_data = ftr_imr.fit_transform(df.values)\n",
    "imputed_data"
   ]
  },
  {
   "cell_type": "markdown",
   "id": "c24f86ed",
   "metadata": {
    "id": "2RCBFeEkMq2Y"
   },
   "source": [
    "`SimpleImputer` 클래스의 `add_indicator` 매개변수를 `True`로 지정하면 `indicator_` 속성이 추가되고 `transform()` 메서드가 누락된 값의 위치를 포함된 배열을 반환합니다."
   ]
  },
  {
   "cell_type": "code",
   "execution_count": 13,
   "id": "f0930240",
   "metadata": {
    "colab": {
     "base_uri": "https://localhost:8080/"
    },
    "id": "P_QdmhS-Mq2Y",
    "outputId": "3e8f463d-67e7-43aa-d31a-df3cd2b5cb5e",
    "scrolled": true
   },
   "outputs": [
    {
     "data": {
      "text/plain": [
       "array([[ 1. ,  2. ,  3. ,  4. ,  0. ,  0. ],\n",
       "       [ 5. ,  6. ,  7.5,  8. ,  1. ,  0. ],\n",
       "       [10. , 11. , 12. ,  6. ,  0. ,  1. ]])"
      ]
     },
     "execution_count": 13,
     "metadata": {},
     "output_type": "execute_result"
    }
   ],
   "source": [
    "imr = SimpleImputer(add_indicator=True)\n",
    "imputed_data = imr.fit_transform(df.values)\n",
    "imputed_data"
   ]
  },
  {
   "cell_type": "markdown",
   "id": "46b74406",
   "metadata": {
    "id": "GdPdZ482Mq2Y"
   },
   "source": [
    "추가된 `indicator_` 속성은 `MissingIndicator` 클래스의 객체입니다."
   ]
  },
  {
   "cell_type": "code",
   "execution_count": 14,
   "id": "272769cf",
   "metadata": {
    "colab": {
     "base_uri": "https://localhost:8080/"
    },
    "id": "JLVqXIVkMq2Y",
    "outputId": "a707de91-9ffb-45b7-f56b-0b223f7b5836",
    "scrolled": true
   },
   "outputs": [
    {
     "data": {
      "text/plain": [
       "MissingIndicator(error_on_new=False)"
      ]
     },
     "execution_count": 14,
     "metadata": {},
     "output_type": "execute_result"
    }
   ],
   "source": [
    "imr.indicator_"
   ]
  },
  {
   "cell_type": "markdown",
   "id": "2ea7d187",
   "metadata": {
    "id": "ueN0CnpjMq2Y"
   },
   "source": [
    "`MissingIndicator` 객체의 `features_` 속성은 누락된 값이 있는 특성의 인덱스를 담고 있습니다."
   ]
  },
  {
   "cell_type": "code",
   "execution_count": 15,
   "id": "7ac6a55f",
   "metadata": {
    "colab": {
     "base_uri": "https://localhost:8080/"
    },
    "id": "cdiUcNKiMq2Z",
    "outputId": "0e78a69b-78dd-4d8d-a52a-b05de4473af9"
   },
   "outputs": [
    {
     "data": {
      "text/plain": [
       "array([2, 3])"
      ]
     },
     "execution_count": 15,
     "metadata": {},
     "output_type": "execute_result"
    }
   ],
   "source": [
    "imr.indicator_.features_"
   ]
  },
  {
   "cell_type": "markdown",
   "id": "1b2522ef",
   "metadata": {
    "id": "pfMmBdGlMq2Z"
   },
   "source": [
    "`MissingIndicator` 객체의 `fit_transform()` 메서드를 호출하면 `features_` 속성에 담긴 특성에서 누락된 값의 위치를 나타내는 배열을 반환합니다. 여기에서는 세 번째, 네 번째 특성의 누락된 값의 위치입니다. 이 배열의 값이 `SimpleImputer` 객체의 `transfrom()` 메서드가 반환한 배열의 마지막 두 열에 해당합니다."
   ]
  },
  {
   "cell_type": "code",
   "execution_count": 16,
   "id": "e0b4ecf0",
   "metadata": {
    "colab": {
     "base_uri": "https://localhost:8080/"
    },
    "id": "FCVHbIJjMq2Z",
    "outputId": "0f39de25-f9c2-47e4-aef8-fa83508dc634"
   },
   "outputs": [
    {
     "data": {
      "text/plain": [
       "array([[False, False],\n",
       "       [ True, False],\n",
       "       [False,  True]])"
      ]
     },
     "execution_count": 16,
     "metadata": {},
     "output_type": "execute_result"
    }
   ],
   "source": [
    "imr.indicator_.fit_transform(df.values)"
   ]
  },
  {
   "cell_type": "code",
   "execution_count": 17,
   "id": "7a854483",
   "metadata": {
    "colab": {
     "base_uri": "https://localhost:8080/"
    },
    "id": "bka20kH5Mq2Z",
    "outputId": "bcd27de0-57bb-466f-f5e3-e9439d2d0f60",
    "scrolled": true
   },
   "outputs": [
    {
     "data": {
      "text/plain": [
       "array([[ 1.,  2.,  3.,  4.],\n",
       "       [ 5.,  6., nan,  8.],\n",
       "       [10., 11., 12., nan]])"
      ]
     },
     "execution_count": 17,
     "metadata": {},
     "output_type": "execute_result"
    }
   ],
   "source": [
    "# 사이킷런 0.24 버전에서 추가되었습니다.\n",
    "imr.inverse_transform(imputed_data)"
   ]
  },
  {
   "cell_type": "markdown",
   "id": "2074fe9e",
   "metadata": {
    "id": "VLIH95sZMq2Z"
   },
   "source": [
    "`SimpleImputer`는 한 특성의 통곗값을 사용하여 누락된 값을 채웁니다. 이와 달리 `IterativeImputer` 클래스는 다른 특성을 사용하여 누락된 값을 예측합니다. 먼저 `initial_strategy` 매개변수에 지정된 방식으로 누락된 값을 초기화합니다. 그다음 누락된 값이 있는 한 특성을 타깃으로 삼고 다른 특성을 사용해 모델을 훈련하여 예측합니다. 이런 식으로 누락된 값이 있는 모든 특성을 순회합니다.\n",
    "\n",
    "`initial_strategy` 매개변수에 지정할 수 있는 값은 `SimpleImputer`와 동일하게 `'mean'`, `'median'`, `'most_frequent'`, `'constant'`가 가능합니다.\n",
    "\n",
    "예측할 특성을 선택하는 순서는 누락된 값이 가장 적은 특성부터 선택하는 `'ascending'`, 누락된 값이 가장 큰 특성부터 선택하는 `'descending'`, 왼쪽에서 오른쪽으로 선택하는 `'roman'`, 오른쪽에서 왼쪽으로 선택하는 `'arabic'`, 랜덤하게 고르는 `'random'`이 있습니다. 기본값은 `'ascending'`입니다.\n",
    "\n",
    "특성 예측은 종료 조건을 만족할 때까지 반복합니다. 각 반복 단계에서 이전 단계와 절댓값 차이 중 가장 큰 값이 누락된 값을 제외하고 가장 큰 절댓값에 `tol` 매개변수를 곱한 것보다 작을 경우 종료합니다. `tol` 매개변수 기본값은 1e-3입니다. 또는 `max_iter` 매개변수에서 지정한 횟수에 도달할 때 종료합니다. `max_iter`의 기본값은 10입니다.\n",
    "\n",
    "예측에 사용하는 모델은 `estimator` 매개변수에서 지정할 수 있으며 기본적으로 `BayesianRidge` 클래스를 사용합니다. 예측에 사용할 특성 개수는 `n_nearest_features`에서 지정할 수 있으며 상관 계수가 높은 특성을 우선하여 랜덤하게 선택합니다. 기본값은 `None`으로 모든 특성을 사용합니다."
   ]
  },
  {
   "cell_type": "code",
   "execution_count": 18,
   "id": "c9104307",
   "metadata": {
    "colab": {
     "base_uri": "https://localhost:8080/"
    },
    "id": "iuTQp_czMq2Z",
    "outputId": "01935bee-7f43-4ac9-c5b9-0216684a73d7",
    "scrolled": true
   },
   "outputs": [
    {
     "data": {
      "text/plain": [
       "array([[ 1.        ,  2.        ,  3.        ,  4.        ],\n",
       "       [ 5.        ,  6.        ,  7.00047063,  8.        ],\n",
       "       [10.        , 11.        , 12.        , 12.99964527]])"
      ]
     },
     "execution_count": 18,
     "metadata": {},
     "output_type": "execute_result"
    }
   ],
   "source": [
    "from sklearn.experimental import enable_iterative_imputer\n",
    "from sklearn.impute import IterativeImputer\n",
    "\n",
    "iimr = IterativeImputer()\n",
    "iimr.fit_transform(df.values)"
   ]
  },
  {
   "cell_type": "markdown",
   "id": "0699c109",
   "metadata": {
    "id": "lDqqS971Mq2a"
   },
   "source": [
    "`KNNImputer` 클래스는 K-최근접 이웃 방법을 사용해 누락된 값을 채웁니다. 최근접 이웃의 개수는 `n_neighbors` 매개변수로 지정하며 기본값은 5입니다. 샘플 개수가 `n_neighbors` 보다 작으면 `SimpleImputer(strategy='mean')`과 결과가 같습니다."
   ]
  },
  {
   "cell_type": "code",
   "execution_count": 19,
   "id": "352c2e7a",
   "metadata": {
    "colab": {
     "base_uri": "https://localhost:8080/"
    },
    "id": "hyPQKItLMq2a",
    "outputId": "5996a6b2-a899-43cb-8a48-7890335df99e"
   },
   "outputs": [
    {
     "data": {
      "text/plain": [
       "array([[ 1. ,  2. ,  3. ,  4. ],\n",
       "       [ 5. ,  6. ,  7.5,  8. ],\n",
       "       [10. , 11. , 12. ,  6. ]])"
      ]
     },
     "execution_count": 19,
     "metadata": {},
     "output_type": "execute_result"
    }
   ],
   "source": [
    "from sklearn.impute import KNNImputer\n",
    "\n",
    "kimr = KNNImputer()\n",
    "kimr.fit_transform(df.values)"
   ]
  },
  {
   "cell_type": "code",
   "execution_count": 20,
   "id": "d0740365",
   "metadata": {
    "colab": {
     "base_uri": "https://localhost:8080/",
     "height": 138
    },
    "id": "3VYSAQbNMq2a",
    "outputId": "32033061-73fc-4db6-a627-667866342162",
    "scrolled": true
   },
   "outputs": [
    {
     "data": {
      "text/html": [
       "<div>\n",
       "<style scoped>\n",
       "    .dataframe tbody tr th:only-of-type {\n",
       "        vertical-align: middle;\n",
       "    }\n",
       "\n",
       "    .dataframe tbody tr th {\n",
       "        vertical-align: top;\n",
       "    }\n",
       "\n",
       "    .dataframe thead th {\n",
       "        text-align: right;\n",
       "    }\n",
       "</style>\n",
       "<table border=\"1\" class=\"dataframe\">\n",
       "  <thead>\n",
       "    <tr style=\"text-align: right;\">\n",
       "      <th></th>\n",
       "      <th>A</th>\n",
       "      <th>B</th>\n",
       "      <th>C</th>\n",
       "      <th>D</th>\n",
       "    </tr>\n",
       "  </thead>\n",
       "  <tbody>\n",
       "    <tr>\n",
       "      <th>0</th>\n",
       "      <td>1.0</td>\n",
       "      <td>2.0</td>\n",
       "      <td>3.0</td>\n",
       "      <td>4.0</td>\n",
       "    </tr>\n",
       "    <tr>\n",
       "      <th>1</th>\n",
       "      <td>5.0</td>\n",
       "      <td>6.0</td>\n",
       "      <td>7.5</td>\n",
       "      <td>8.0</td>\n",
       "    </tr>\n",
       "    <tr>\n",
       "      <th>2</th>\n",
       "      <td>10.0</td>\n",
       "      <td>11.0</td>\n",
       "      <td>12.0</td>\n",
       "      <td>6.0</td>\n",
       "    </tr>\n",
       "  </tbody>\n",
       "</table>\n",
       "</div>"
      ],
      "text/plain": [
       "      A     B     C    D\n",
       "0   1.0   2.0   3.0  4.0\n",
       "1   5.0   6.0   7.5  8.0\n",
       "2  10.0  11.0  12.0  6.0"
      ]
     },
     "execution_count": 20,
     "metadata": {},
     "output_type": "execute_result"
    }
   ],
   "source": [
    "df.fillna(df.mean())"
   ]
  },
  {
   "cell_type": "markdown",
   "id": "427b1480",
   "metadata": {
    "id": "JN7-WTpsMq2a"
   },
   "source": [
    "`fillna()` 메서드의 `method` 매개변수를 사용하여 누락된 값을 채울 수도 있습니다. `bfill` 또는 `backfill`은 누락된 값을 다음 행의 값으로 채웁니다. `ffill` 또는 `pad`는 누락된 값을 이전 행의 값으로 채웁니다."
   ]
  },
  {
   "cell_type": "code",
   "execution_count": 21,
   "id": "c8e323a7",
   "metadata": {
    "colab": {
     "base_uri": "https://localhost:8080/",
     "height": 138
    },
    "id": "o9uFQkZHMq2a",
    "outputId": "84ccfefc-e146-4c31-a26c-fc73abcc75f9",
    "scrolled": true
   },
   "outputs": [
    {
     "data": {
      "text/html": [
       "<div>\n",
       "<style scoped>\n",
       "    .dataframe tbody tr th:only-of-type {\n",
       "        vertical-align: middle;\n",
       "    }\n",
       "\n",
       "    .dataframe tbody tr th {\n",
       "        vertical-align: top;\n",
       "    }\n",
       "\n",
       "    .dataframe thead th {\n",
       "        text-align: right;\n",
       "    }\n",
       "</style>\n",
       "<table border=\"1\" class=\"dataframe\">\n",
       "  <thead>\n",
       "    <tr style=\"text-align: right;\">\n",
       "      <th></th>\n",
       "      <th>A</th>\n",
       "      <th>B</th>\n",
       "      <th>C</th>\n",
       "      <th>D</th>\n",
       "    </tr>\n",
       "  </thead>\n",
       "  <tbody>\n",
       "    <tr>\n",
       "      <th>0</th>\n",
       "      <td>1.0</td>\n",
       "      <td>2.0</td>\n",
       "      <td>3.0</td>\n",
       "      <td>4.0</td>\n",
       "    </tr>\n",
       "    <tr>\n",
       "      <th>1</th>\n",
       "      <td>5.0</td>\n",
       "      <td>6.0</td>\n",
       "      <td>12.0</td>\n",
       "      <td>8.0</td>\n",
       "    </tr>\n",
       "    <tr>\n",
       "      <th>2</th>\n",
       "      <td>10.0</td>\n",
       "      <td>11.0</td>\n",
       "      <td>12.0</td>\n",
       "      <td>NaN</td>\n",
       "    </tr>\n",
       "  </tbody>\n",
       "</table>\n",
       "</div>"
      ],
      "text/plain": [
       "      A     B     C    D\n",
       "0   1.0   2.0   3.0  4.0\n",
       "1   5.0   6.0  12.0  8.0\n",
       "2  10.0  11.0  12.0  NaN"
      ]
     },
     "execution_count": 21,
     "metadata": {},
     "output_type": "execute_result"
    }
   ],
   "source": [
    "df.fillna(method='bfill') # method='backfill'와 같습니다"
   ]
  },
  {
   "cell_type": "code",
   "execution_count": 22,
   "id": "c28dbc7f",
   "metadata": {
    "colab": {
     "base_uri": "https://localhost:8080/",
     "height": 138
    },
    "id": "WGw6iY8pMq2a",
    "outputId": "ee1350c4-9d47-4b4b-e73b-08bf58c0c111"
   },
   "outputs": [
    {
     "data": {
      "text/html": [
       "<div>\n",
       "<style scoped>\n",
       "    .dataframe tbody tr th:only-of-type {\n",
       "        vertical-align: middle;\n",
       "    }\n",
       "\n",
       "    .dataframe tbody tr th {\n",
       "        vertical-align: top;\n",
       "    }\n",
       "\n",
       "    .dataframe thead th {\n",
       "        text-align: right;\n",
       "    }\n",
       "</style>\n",
       "<table border=\"1\" class=\"dataframe\">\n",
       "  <thead>\n",
       "    <tr style=\"text-align: right;\">\n",
       "      <th></th>\n",
       "      <th>A</th>\n",
       "      <th>B</th>\n",
       "      <th>C</th>\n",
       "      <th>D</th>\n",
       "    </tr>\n",
       "  </thead>\n",
       "  <tbody>\n",
       "    <tr>\n",
       "      <th>0</th>\n",
       "      <td>1.0</td>\n",
       "      <td>2.0</td>\n",
       "      <td>3.0</td>\n",
       "      <td>4.0</td>\n",
       "    </tr>\n",
       "    <tr>\n",
       "      <th>1</th>\n",
       "      <td>5.0</td>\n",
       "      <td>6.0</td>\n",
       "      <td>3.0</td>\n",
       "      <td>8.0</td>\n",
       "    </tr>\n",
       "    <tr>\n",
       "      <th>2</th>\n",
       "      <td>10.0</td>\n",
       "      <td>11.0</td>\n",
       "      <td>12.0</td>\n",
       "      <td>8.0</td>\n",
       "    </tr>\n",
       "  </tbody>\n",
       "</table>\n",
       "</div>"
      ],
      "text/plain": [
       "      A     B     C    D\n",
       "0   1.0   2.0   3.0  4.0\n",
       "1   5.0   6.0   3.0  8.0\n",
       "2  10.0  11.0  12.0  8.0"
      ]
     },
     "execution_count": 22,
     "metadata": {},
     "output_type": "execute_result"
    }
   ],
   "source": [
    "df.fillna(method='ffill') # method='pad'와 같습니다"
   ]
  },
  {
   "cell_type": "markdown",
   "id": "f27ae420",
   "metadata": {
    "id": "AtatT0P8Mq2b"
   },
   "source": [
    "`axis=1`로 지정하면 행이 아니라 열을 사용합니다. 예를 들어 다음처럼 지정하면 이전 열의 값으로 누락된 값을 채웁니다."
   ]
  },
  {
   "cell_type": "code",
   "execution_count": 23,
   "id": "75c0b433",
   "metadata": {
    "colab": {
     "base_uri": "https://localhost:8080/",
     "height": 138
    },
    "id": "zDA7-B5mMq2b",
    "outputId": "ecf017d1-0eb9-4d36-8b96-14471c8c7e13"
   },
   "outputs": [
    {
     "data": {
      "text/html": [
       "<div>\n",
       "<style scoped>\n",
       "    .dataframe tbody tr th:only-of-type {\n",
       "        vertical-align: middle;\n",
       "    }\n",
       "\n",
       "    .dataframe tbody tr th {\n",
       "        vertical-align: top;\n",
       "    }\n",
       "\n",
       "    .dataframe thead th {\n",
       "        text-align: right;\n",
       "    }\n",
       "</style>\n",
       "<table border=\"1\" class=\"dataframe\">\n",
       "  <thead>\n",
       "    <tr style=\"text-align: right;\">\n",
       "      <th></th>\n",
       "      <th>A</th>\n",
       "      <th>B</th>\n",
       "      <th>C</th>\n",
       "      <th>D</th>\n",
       "    </tr>\n",
       "  </thead>\n",
       "  <tbody>\n",
       "    <tr>\n",
       "      <th>0</th>\n",
       "      <td>1.0</td>\n",
       "      <td>2.0</td>\n",
       "      <td>3.0</td>\n",
       "      <td>4.0</td>\n",
       "    </tr>\n",
       "    <tr>\n",
       "      <th>1</th>\n",
       "      <td>5.0</td>\n",
       "      <td>6.0</td>\n",
       "      <td>6.0</td>\n",
       "      <td>8.0</td>\n",
       "    </tr>\n",
       "    <tr>\n",
       "      <th>2</th>\n",
       "      <td>10.0</td>\n",
       "      <td>11.0</td>\n",
       "      <td>12.0</td>\n",
       "      <td>12.0</td>\n",
       "    </tr>\n",
       "  </tbody>\n",
       "</table>\n",
       "</div>"
      ],
      "text/plain": [
       "      A     B     C     D\n",
       "0   1.0   2.0   3.0   4.0\n",
       "1   5.0   6.0   6.0   8.0\n",
       "2  10.0  11.0  12.0  12.0"
      ]
     },
     "execution_count": 23,
     "metadata": {},
     "output_type": "execute_result"
    }
   ],
   "source": [
    "df.fillna(method='ffill', axis=1)"
   ]
  },
  {
   "cell_type": "markdown",
   "id": "c30db535",
   "metadata": {},
   "source": [
    "### 4.1.4 사이킷런 추정기 API 익히기"
   ]
  },
  {
   "cell_type": "markdown",
   "id": "381540b7",
   "metadata": {},
   "source": [
    "- SimpleImputer의 클래스는 'transformer'다.\n",
    "    - 이 클래스의 주요 메서드 두 개는 fit과 transform.\n",
    "    - fit을 사용하여 훈련 데이터에서 모델 파라미터를 학습하고,\n",
    "    - transform을 사용하여 학습한 파라미터로 데이터를 변환한다."
   ]
  },
  {
   "cell_type": "markdown",
   "id": "b9ff015d",
   "metadata": {},
   "source": [
    "## 4.2 범주형 데이터 다루기"
   ]
  },
  {
   "cell_type": "code",
   "execution_count": 24,
   "id": "d2b1eb4d",
   "metadata": {},
   "outputs": [
    {
     "data": {
      "text/html": [
       "<div>\n",
       "<style scoped>\n",
       "    .dataframe tbody tr th:only-of-type {\n",
       "        vertical-align: middle;\n",
       "    }\n",
       "\n",
       "    .dataframe tbody tr th {\n",
       "        vertical-align: top;\n",
       "    }\n",
       "\n",
       "    .dataframe thead th {\n",
       "        text-align: right;\n",
       "    }\n",
       "</style>\n",
       "<table border=\"1\" class=\"dataframe\">\n",
       "  <thead>\n",
       "    <tr style=\"text-align: right;\">\n",
       "      <th></th>\n",
       "      <th>color</th>\n",
       "      <th>size</th>\n",
       "      <th>price</th>\n",
       "      <th>classlabel</th>\n",
       "    </tr>\n",
       "  </thead>\n",
       "  <tbody>\n",
       "    <tr>\n",
       "      <th>0</th>\n",
       "      <td>green</td>\n",
       "      <td>M</td>\n",
       "      <td>10.1</td>\n",
       "      <td>class2</td>\n",
       "    </tr>\n",
       "    <tr>\n",
       "      <th>1</th>\n",
       "      <td>red</td>\n",
       "      <td>L</td>\n",
       "      <td>13.5</td>\n",
       "      <td>class1</td>\n",
       "    </tr>\n",
       "    <tr>\n",
       "      <th>2</th>\n",
       "      <td>blue</td>\n",
       "      <td>XL</td>\n",
       "      <td>15.3</td>\n",
       "      <td>class2</td>\n",
       "    </tr>\n",
       "  </tbody>\n",
       "</table>\n",
       "</div>"
      ],
      "text/plain": [
       "   color size  price classlabel\n",
       "0  green    M   10.1     class2\n",
       "1    red    L   13.5     class1\n",
       "2   blue   XL   15.3     class2"
      ]
     },
     "execution_count": 24,
     "metadata": {},
     "output_type": "execute_result"
    }
   ],
   "source": [
    "import pandas as pd\n",
    "\n",
    "df = pd.DataFrame([['green', 'M', 10.1, 'class2'],\n",
    "                   ['red', 'L', 13.5, 'class1'],\n",
    "                   ['blue', 'XL', 15.3, 'class2']])\n",
    "df.columns = ['color', 'size', 'price','classlabel']\n",
    "df"
   ]
  },
  {
   "cell_type": "markdown",
   "id": "44d9b290",
   "metadata": {},
   "source": [
    "### 4.2.1 순서가 있는 특성 매핑\n",
    "- 순서 특성을 올바르게 인식하려면 범주형의 문자열을 정수로 바꿔야 한다. => 매핑 함수를 직접 만들어야 한다."
   ]
  },
  {
   "cell_type": "code",
   "execution_count": 25,
   "id": "fcf61d70",
   "metadata": {},
   "outputs": [
    {
     "data": {
      "text/html": [
       "<div>\n",
       "<style scoped>\n",
       "    .dataframe tbody tr th:only-of-type {\n",
       "        vertical-align: middle;\n",
       "    }\n",
       "\n",
       "    .dataframe tbody tr th {\n",
       "        vertical-align: top;\n",
       "    }\n",
       "\n",
       "    .dataframe thead th {\n",
       "        text-align: right;\n",
       "    }\n",
       "</style>\n",
       "<table border=\"1\" class=\"dataframe\">\n",
       "  <thead>\n",
       "    <tr style=\"text-align: right;\">\n",
       "      <th></th>\n",
       "      <th>color</th>\n",
       "      <th>size</th>\n",
       "      <th>price</th>\n",
       "      <th>classlabel</th>\n",
       "    </tr>\n",
       "  </thead>\n",
       "  <tbody>\n",
       "    <tr>\n",
       "      <th>0</th>\n",
       "      <td>green</td>\n",
       "      <td>1</td>\n",
       "      <td>10.1</td>\n",
       "      <td>class2</td>\n",
       "    </tr>\n",
       "    <tr>\n",
       "      <th>1</th>\n",
       "      <td>red</td>\n",
       "      <td>2</td>\n",
       "      <td>13.5</td>\n",
       "      <td>class1</td>\n",
       "    </tr>\n",
       "    <tr>\n",
       "      <th>2</th>\n",
       "      <td>blue</td>\n",
       "      <td>3</td>\n",
       "      <td>15.3</td>\n",
       "      <td>class2</td>\n",
       "    </tr>\n",
       "  </tbody>\n",
       "</table>\n",
       "</div>"
      ],
      "text/plain": [
       "   color  size  price classlabel\n",
       "0  green     1   10.1     class2\n",
       "1    red     2   13.5     class1\n",
       "2   blue     3   15.3     class2"
      ]
     },
     "execution_count": 25,
     "metadata": {},
     "output_type": "execute_result"
    }
   ],
   "source": [
    "size_mapping = {'XL': 3,\n",
    "               'L': 2,\n",
    "               'M': 1}\n",
    "\n",
    "df['size'] = df['size'].map(size_mapping)\n",
    "df"
   ]
  },
  {
   "cell_type": "code",
   "execution_count": 26,
   "id": "d8d767c4",
   "metadata": {},
   "outputs": [
    {
     "data": {
      "text/plain": [
       "0     M\n",
       "1     L\n",
       "2    XL\n",
       "Name: size, dtype: object"
      ]
     },
     "execution_count": 26,
     "metadata": {},
     "output_type": "execute_result"
    }
   ],
   "source": [
    "# 아래는 inverse_mapping, 즉 원래대로 돌려놓는 매핑이다.\n",
    "inv_size_mapping = {v: k for k, v in size_mapping.items()}\n",
    "df['size'].map(inv_size_mapping)"
   ]
  },
  {
   "cell_type": "markdown",
   "id": "729e362a",
   "metadata": {},
   "source": [
    "### 4.2.2 클래스 레이블 인코딩"
   ]
  },
  {
   "cell_type": "code",
   "execution_count": 27,
   "id": "bb91e664",
   "metadata": {},
   "outputs": [
    {
     "data": {
      "text/plain": [
       "{'class1': 0, 'class2': 1}"
      ]
     },
     "execution_count": 27,
     "metadata": {},
     "output_type": "execute_result"
    }
   ],
   "source": [
    "import numpy as np\n",
    "\n",
    "# 클래스 레이블을 정수로 바꾸기 위해 매핑 딕셔너리 만들기\n",
    "class_mapping = {label: idx for idx, label in\\\n",
    "                enumerate(np.unique(df['classlabel']))}\n",
    "class_mapping"
   ]
  },
  {
   "cell_type": "code",
   "execution_count": 28,
   "id": "4e2b2c0a",
   "metadata": {},
   "outputs": [
    {
     "data": {
      "text/html": [
       "<div>\n",
       "<style scoped>\n",
       "    .dataframe tbody tr th:only-of-type {\n",
       "        vertical-align: middle;\n",
       "    }\n",
       "\n",
       "    .dataframe tbody tr th {\n",
       "        vertical-align: top;\n",
       "    }\n",
       "\n",
       "    .dataframe thead th {\n",
       "        text-align: right;\n",
       "    }\n",
       "</style>\n",
       "<table border=\"1\" class=\"dataframe\">\n",
       "  <thead>\n",
       "    <tr style=\"text-align: right;\">\n",
       "      <th></th>\n",
       "      <th>color</th>\n",
       "      <th>size</th>\n",
       "      <th>price</th>\n",
       "      <th>classlabel</th>\n",
       "    </tr>\n",
       "  </thead>\n",
       "  <tbody>\n",
       "    <tr>\n",
       "      <th>0</th>\n",
       "      <td>green</td>\n",
       "      <td>1</td>\n",
       "      <td>10.1</td>\n",
       "      <td>1</td>\n",
       "    </tr>\n",
       "    <tr>\n",
       "      <th>1</th>\n",
       "      <td>red</td>\n",
       "      <td>2</td>\n",
       "      <td>13.5</td>\n",
       "      <td>0</td>\n",
       "    </tr>\n",
       "    <tr>\n",
       "      <th>2</th>\n",
       "      <td>blue</td>\n",
       "      <td>3</td>\n",
       "      <td>15.3</td>\n",
       "      <td>1</td>\n",
       "    </tr>\n",
       "  </tbody>\n",
       "</table>\n",
       "</div>"
      ],
      "text/plain": [
       "   color  size  price  classlabel\n",
       "0  green     1   10.1           1\n",
       "1    red     2   13.5           0\n",
       "2   blue     3   15.3           1"
      ]
     },
     "execution_count": 28,
     "metadata": {},
     "output_type": "execute_result"
    }
   ],
   "source": [
    "# 클래스 레이블을 문자열에서 정수로 바꾸기\n",
    "df['classlabel'] = df['classlabel'].map(class_mapping)\n",
    "df"
   ]
  },
  {
   "cell_type": "code",
   "execution_count": 29,
   "id": "ffc468e7",
   "metadata": {},
   "outputs": [
    {
     "data": {
      "text/html": [
       "<div>\n",
       "<style scoped>\n",
       "    .dataframe tbody tr th:only-of-type {\n",
       "        vertical-align: middle;\n",
       "    }\n",
       "\n",
       "    .dataframe tbody tr th {\n",
       "        vertical-align: top;\n",
       "    }\n",
       "\n",
       "    .dataframe thead th {\n",
       "        text-align: right;\n",
       "    }\n",
       "</style>\n",
       "<table border=\"1\" class=\"dataframe\">\n",
       "  <thead>\n",
       "    <tr style=\"text-align: right;\">\n",
       "      <th></th>\n",
       "      <th>color</th>\n",
       "      <th>size</th>\n",
       "      <th>price</th>\n",
       "      <th>classlabel</th>\n",
       "    </tr>\n",
       "  </thead>\n",
       "  <tbody>\n",
       "    <tr>\n",
       "      <th>0</th>\n",
       "      <td>green</td>\n",
       "      <td>1</td>\n",
       "      <td>10.1</td>\n",
       "      <td>class2</td>\n",
       "    </tr>\n",
       "    <tr>\n",
       "      <th>1</th>\n",
       "      <td>red</td>\n",
       "      <td>2</td>\n",
       "      <td>13.5</td>\n",
       "      <td>class1</td>\n",
       "    </tr>\n",
       "    <tr>\n",
       "      <th>2</th>\n",
       "      <td>blue</td>\n",
       "      <td>3</td>\n",
       "      <td>15.3</td>\n",
       "      <td>class2</td>\n",
       "    </tr>\n",
       "  </tbody>\n",
       "</table>\n",
       "</div>"
      ],
      "text/plain": [
       "   color  size  price classlabel\n",
       "0  green     1   10.1     class2\n",
       "1    red     2   13.5     class1\n",
       "2   blue     3   15.3     class2"
      ]
     },
     "execution_count": 29,
     "metadata": {},
     "output_type": "execute_result"
    }
   ],
   "source": [
    "# 클래스 레이블 거꾸로 매핑하기\n",
    "inv_class_mapping = {v: k for k, v in class_mapping.items()}\n",
    "df['classlabel'] = df['classlabel'].map(inv_class_mapping)\n",
    "df"
   ]
  },
  {
   "cell_type": "code",
   "execution_count": 30,
   "id": "0b90b95f",
   "metadata": {},
   "outputs": [
    {
     "data": {
      "text/plain": [
       "array([1, 0, 1])"
      ]
     },
     "execution_count": 30,
     "metadata": {},
     "output_type": "execute_result"
    }
   ],
   "source": [
    "from sklearn.preprocessing import LabelEncoder\n",
    "\n",
    "# 사이킷런의 LabelEncoder를 사용한 레이블 인코딩\n",
    "class_le = LabelEncoder()\n",
    "y = class_le.fit_transform(df['classlabel'].values)\n",
    "y"
   ]
  },
  {
   "cell_type": "code",
   "execution_count": 31,
   "id": "c05dd23e",
   "metadata": {},
   "outputs": [
    {
     "data": {
      "text/plain": [
       "array(['class2', 'class1', 'class2'], dtype=object)"
      ]
     },
     "execution_count": 31,
     "metadata": {},
     "output_type": "execute_result"
    }
   ],
   "source": [
    "# 거꾸로 매핑\n",
    "class_le.inverse_transform(y)"
   ]
  },
  {
   "cell_type": "code",
   "execution_count": 32,
   "id": "1942c65f",
   "metadata": {},
   "outputs": [
    {
     "data": {
      "text/plain": [
       "array(['class1', 'class2'], dtype=object)"
      ]
     },
     "execution_count": 32,
     "metadata": {},
     "output_type": "execute_result"
    }
   ],
   "source": [
    "class_le.classes_"
   ]
  },
  {
   "cell_type": "markdown",
   "id": "68b52a8a",
   "metadata": {},
   "source": [
    "### 4.2.3 순서가 없는 특성에 원-핫 인코딩 적용"
   ]
  },
  {
   "cell_type": "markdown",
   "id": "667ee09f",
   "metadata": {},
   "source": [
    "> 앞에서 한 거 요약\n",
    "> - 순서가 있는 특성 매핑하기 위해 dictionary mapping 활용\n",
    "> - 순서가 없는 클래스 레이블을 정수로 바꾸기 위해 sklearn의 LabelEncoder 활용\n",
    "> - **순서가 없는 특성**을 매핑하기 위해 One-Hot Encoding이라는 기법도 있음!"
   ]
  },
  {
   "cell_type": "code",
   "execution_count": 33,
   "id": "e5abff15",
   "metadata": {},
   "outputs": [
    {
     "data": {
      "text/plain": [
       "array([[1, 1, 10.1],\n",
       "       [2, 2, 13.5],\n",
       "       [0, 3, 15.3]], dtype=object)"
      ]
     },
     "execution_count": 33,
     "metadata": {},
     "output_type": "execute_result"
    }
   ],
   "source": [
    "X = df[['color', 'size', 'price']].values\n",
    "color_le = LabelEncoder()\n",
    "X[:, 0] = color_le.fit_transform(X[:, 0])\n",
    "X\n",
    "\n",
    "# .values를 한 이유는 LabelEncoder가 입력 값으로 클래스 레이블을 기대하기 때문에 ndarray로 줘야 한다.\n",
    "\n",
    "# 근데..!!!!\n",
    "    # 이렇게 하고 분류기에 넣으면, 분류기는 color 특성에 '순서가 있다고 판단'하게 된다."
   ]
  },
  {
   "cell_type": "code",
   "execution_count": 34,
   "id": "0b782dbe",
   "metadata": {},
   "outputs": [
    {
     "data": {
      "text/plain": [
       "array([[0., 1., 0.],\n",
       "       [0., 0., 1.],\n",
       "       [1., 0., 0.]])"
      ]
     },
     "execution_count": 34,
     "metadata": {},
     "output_type": "execute_result"
    }
   ],
   "source": [
    "# \"순서가 없는 특성\"을 매핑하기 위한 일반적인 방법이 One-Hot Encoding이다.\n",
    "from sklearn.preprocessing import OneHotEncoder\n",
    "\n",
    "X = df[['color', 'size', 'price']].values\n",
    "color_ohe = OneHotEncoder()\n",
    "color_ohe.fit_transform(X[:, 0].reshape(-1, 1)).toarray()\n",
    "    # 배열의 다른 두 열을 수정하지 않기 위해 하나의 열(X[:, 0].reshape(-1, 1))에만 적용했다."
   ]
  },
  {
   "cell_type": "code",
   "execution_count": 35,
   "id": "327112f3",
   "metadata": {},
   "outputs": [
    {
     "data": {
      "text/plain": [
       "array([[0.0, 1.0, 0.0, 1, 10.1],\n",
       "       [0.0, 0.0, 1.0, 2, 13.5],\n",
       "       [1.0, 0.0, 0.0, 3, 15.3]], dtype=object)"
      ]
     },
     "execution_count": 35,
     "metadata": {},
     "output_type": "execute_result"
    }
   ],
   "source": [
    "# 여러 개의 특성이 있는 배열에서 특정 열만 변환하려면 ColumnTransformer를 사용한다.\n",
    "from sklearn.compose import ColumnTransformer\n",
    "\n",
    "X = df[['color', 'size', 'price']].values\n",
    "c_transf = ColumnTransformer([ ( 'onehot', OneHotEncoder(), [0]),\n",
    "                               ( 'nothing', 'passthrough', [1, 2])])\n",
    "c_transf.fit_transform(X)"
   ]
  },
  {
   "cell_type": "code",
   "execution_count": 36,
   "id": "ede3d25d",
   "metadata": {},
   "outputs": [
    {
     "data": {
      "text/html": [
       "<div>\n",
       "<style scoped>\n",
       "    .dataframe tbody tr th:only-of-type {\n",
       "        vertical-align: middle;\n",
       "    }\n",
       "\n",
       "    .dataframe tbody tr th {\n",
       "        vertical-align: top;\n",
       "    }\n",
       "\n",
       "    .dataframe thead th {\n",
       "        text-align: right;\n",
       "    }\n",
       "</style>\n",
       "<table border=\"1\" class=\"dataframe\">\n",
       "  <thead>\n",
       "    <tr style=\"text-align: right;\">\n",
       "      <th></th>\n",
       "      <th>price</th>\n",
       "      <th>color</th>\n",
       "      <th>size_2</th>\n",
       "      <th>size_3</th>\n",
       "    </tr>\n",
       "  </thead>\n",
       "  <tbody>\n",
       "    <tr>\n",
       "      <th>0</th>\n",
       "      <td>10.1</td>\n",
       "      <td>green</td>\n",
       "      <td>0</td>\n",
       "      <td>0</td>\n",
       "    </tr>\n",
       "    <tr>\n",
       "      <th>1</th>\n",
       "      <td>13.5</td>\n",
       "      <td>red</td>\n",
       "      <td>1</td>\n",
       "      <td>0</td>\n",
       "    </tr>\n",
       "    <tr>\n",
       "      <th>2</th>\n",
       "      <td>15.3</td>\n",
       "      <td>blue</td>\n",
       "      <td>0</td>\n",
       "      <td>1</td>\n",
       "    </tr>\n",
       "  </tbody>\n",
       "</table>\n",
       "</div>"
      ],
      "text/plain": [
       "   price  color  size_2  size_3\n",
       "0   10.1  green       0       0\n",
       "1   13.5    red       1       0\n",
       "2   15.3   blue       0       1"
      ]
     },
     "execution_count": 36,
     "metadata": {},
     "output_type": "execute_result"
    }
   ],
   "source": [
    "# one-hot encoding via pandas\n",
    "pd.get_dummies(df[['price', 'color', 'size']], columns=['size'], drop_first=True)"
   ]
  },
  {
   "cell_type": "markdown",
   "id": "847eb947",
   "metadata": {},
   "source": [
    "## 4.3 데이터셋을 훈련 데이터셋과 테스트 데이터셋으로 나누기"
   ]
  },
  {
   "cell_type": "code",
   "execution_count": 37,
   "id": "3d2d9ee8",
   "metadata": {},
   "outputs": [
    {
     "name": "stdout",
     "output_type": "stream",
     "text": [
      "Class labels [1 2 3]\n"
     ]
    },
    {
     "data": {
      "text/html": [
       "<div>\n",
       "<style scoped>\n",
       "    .dataframe tbody tr th:only-of-type {\n",
       "        vertical-align: middle;\n",
       "    }\n",
       "\n",
       "    .dataframe tbody tr th {\n",
       "        vertical-align: top;\n",
       "    }\n",
       "\n",
       "    .dataframe thead th {\n",
       "        text-align: right;\n",
       "    }\n",
       "</style>\n",
       "<table border=\"1\" class=\"dataframe\">\n",
       "  <thead>\n",
       "    <tr style=\"text-align: right;\">\n",
       "      <th></th>\n",
       "      <th>Class label</th>\n",
       "      <th>Alcohol</th>\n",
       "      <th>Malic acid</th>\n",
       "      <th>Ash</th>\n",
       "      <th>Alcalinity of ash</th>\n",
       "      <th>Magnesium</th>\n",
       "      <th>Total phenols</th>\n",
       "      <th>Flavanoids</th>\n",
       "      <th>Nonflavanoid phenols</th>\n",
       "      <th>Proanthocyanins</th>\n",
       "      <th>Color intensity</th>\n",
       "      <th>Hue</th>\n",
       "      <th>OD280/OD315 of diluted wines</th>\n",
       "      <th>Proline</th>\n",
       "    </tr>\n",
       "  </thead>\n",
       "  <tbody>\n",
       "    <tr>\n",
       "      <th>0</th>\n",
       "      <td>1</td>\n",
       "      <td>14.23</td>\n",
       "      <td>1.71</td>\n",
       "      <td>2.43</td>\n",
       "      <td>15.6</td>\n",
       "      <td>127</td>\n",
       "      <td>2.80</td>\n",
       "      <td>3.06</td>\n",
       "      <td>0.28</td>\n",
       "      <td>2.29</td>\n",
       "      <td>5.64</td>\n",
       "      <td>1.04</td>\n",
       "      <td>3.92</td>\n",
       "      <td>1065</td>\n",
       "    </tr>\n",
       "    <tr>\n",
       "      <th>1</th>\n",
       "      <td>1</td>\n",
       "      <td>13.20</td>\n",
       "      <td>1.78</td>\n",
       "      <td>2.14</td>\n",
       "      <td>11.2</td>\n",
       "      <td>100</td>\n",
       "      <td>2.65</td>\n",
       "      <td>2.76</td>\n",
       "      <td>0.26</td>\n",
       "      <td>1.28</td>\n",
       "      <td>4.38</td>\n",
       "      <td>1.05</td>\n",
       "      <td>3.40</td>\n",
       "      <td>1050</td>\n",
       "    </tr>\n",
       "    <tr>\n",
       "      <th>2</th>\n",
       "      <td>1</td>\n",
       "      <td>13.16</td>\n",
       "      <td>2.36</td>\n",
       "      <td>2.67</td>\n",
       "      <td>18.6</td>\n",
       "      <td>101</td>\n",
       "      <td>2.80</td>\n",
       "      <td>3.24</td>\n",
       "      <td>0.30</td>\n",
       "      <td>2.81</td>\n",
       "      <td>5.68</td>\n",
       "      <td>1.03</td>\n",
       "      <td>3.17</td>\n",
       "      <td>1185</td>\n",
       "    </tr>\n",
       "    <tr>\n",
       "      <th>3</th>\n",
       "      <td>1</td>\n",
       "      <td>14.37</td>\n",
       "      <td>1.95</td>\n",
       "      <td>2.50</td>\n",
       "      <td>16.8</td>\n",
       "      <td>113</td>\n",
       "      <td>3.85</td>\n",
       "      <td>3.49</td>\n",
       "      <td>0.24</td>\n",
       "      <td>2.18</td>\n",
       "      <td>7.80</td>\n",
       "      <td>0.86</td>\n",
       "      <td>3.45</td>\n",
       "      <td>1480</td>\n",
       "    </tr>\n",
       "    <tr>\n",
       "      <th>4</th>\n",
       "      <td>1</td>\n",
       "      <td>13.24</td>\n",
       "      <td>2.59</td>\n",
       "      <td>2.87</td>\n",
       "      <td>21.0</td>\n",
       "      <td>118</td>\n",
       "      <td>2.80</td>\n",
       "      <td>2.69</td>\n",
       "      <td>0.39</td>\n",
       "      <td>1.82</td>\n",
       "      <td>4.32</td>\n",
       "      <td>1.04</td>\n",
       "      <td>2.93</td>\n",
       "      <td>735</td>\n",
       "    </tr>\n",
       "  </tbody>\n",
       "</table>\n",
       "</div>"
      ],
      "text/plain": [
       "   Class label  Alcohol  Malic acid   Ash  Alcalinity of ash  Magnesium  \\\n",
       "0            1    14.23        1.71  2.43               15.6        127   \n",
       "1            1    13.20        1.78  2.14               11.2        100   \n",
       "2            1    13.16        2.36  2.67               18.6        101   \n",
       "3            1    14.37        1.95  2.50               16.8        113   \n",
       "4            1    13.24        2.59  2.87               21.0        118   \n",
       "\n",
       "   Total phenols  Flavanoids  Nonflavanoid phenols  Proanthocyanins  \\\n",
       "0           2.80        3.06                  0.28             2.29   \n",
       "1           2.65        2.76                  0.26             1.28   \n",
       "2           2.80        3.24                  0.30             2.81   \n",
       "3           3.85        3.49                  0.24             2.18   \n",
       "4           2.80        2.69                  0.39             1.82   \n",
       "\n",
       "   Color intensity   Hue  OD280/OD315 of diluted wines  Proline  \n",
       "0             5.64  1.04                          3.92     1065  \n",
       "1             4.38  1.05                          3.40     1050  \n",
       "2             5.68  1.03                          3.17     1185  \n",
       "3             7.80  0.86                          3.45     1480  \n",
       "4             4.32  1.04                          2.93      735  "
      ]
     },
     "execution_count": 37,
     "metadata": {},
     "output_type": "execute_result"
    }
   ],
   "source": [
    "df_wine = pd.read_csv('https://archive.ics.uci.edu/'\n",
    "                      'ml/machine-learning-databases/wine/wine.data',\n",
    "                      header=None)\n",
    "\n",
    "df_wine.columns = ['Class label', 'Alcohol', 'Malic acid', 'Ash',\n",
    "                   'Alcalinity of ash', 'Magnesium', 'Total phenols',\n",
    "                   'Flavanoids', 'Nonflavanoid phenols',\n",
    "                   'Proanthocyanins', 'Color intensity', 'Hue',\n",
    "                   'OD280/OD315 of diluted wines', 'Proline']\n",
    "\n",
    "print('Class labels', np.unique(df_wine['Class label']))\n",
    "df_wine.head()"
   ]
  },
  {
   "cell_type": "code",
   "execution_count": 38,
   "id": "11adcd7d",
   "metadata": {},
   "outputs": [],
   "source": [
    "from sklearn.model_selection import train_test_split\n",
    "\n",
    "X, y = df_wine.iloc[:, 1:].values, df_wine.iloc[:, 0].values\n",
    "\n",
    "X_train, X_test, y_train, y_test = train_test_split(X, y,\n",
    "                                                   test_size=0.3,\n",
    "                                                   random_state=0,\n",
    "                                                   stratify=y)"
   ]
  },
  {
   "cell_type": "markdown",
   "id": "4f3b160e",
   "metadata": {},
   "source": [
    "## 4.4 특성 스케일 맞추기\n",
    "- Decision Tree와 Random Forest는 특성 스케일 조정을 걱정할 필요 없는 몇 안되는 알고리즘 중 하나다.\n",
    "- 대부분의 머신 러닝과 최적화 알고리즘은 특성 스케일이 같을 때 훨씬 성능이 좋다."
   ]
  },
  {
   "cell_type": "markdown",
   "id": "4e10c63c",
   "metadata": {},
   "source": [
    "**용어가 뒤바뀌어 사용될 때가 있지만 일반적인 경우에..**<br>\n",
    "- 정규화(normalization)\n",
    "    - 특성 스케일을 [0, 1]의 범위로 맞추는 것\n",
    "    - 정해진 범위의 값이 필요할 때 유용하게 사용된다.\n",
    "    - 최소-최대 스케일 변환(min-max scaling)\n",
    "    - $x^{(i)}_{norm} = \\dfrac{x^{(i)} - x_{min}}{x_{max} - x_{min}}$\n",
    "        - $x^{(i)}$는 특정 샘플, $x_{min}$은 특성 중 가장 작은 값, $x_{max}$는 특성 중 가장 큰 값 <br><br>\n",
    "        \n",
    "- 표준화(standardization)\n",
    "    - 특성을 평균 0, 표준 편차 1인 표준정규분포의 형태로 만드는 기법\n",
    "    - 경사 하강법 같은 최적화 알고리즘에 많이 사용된다. 표준정규분포 형태는 '가중치를 더 쉽게 학습할 수 있도록 만든다.'\n",
    "    - $x^{(i)}_{std} = \\dfrac{x^{(i)} - \\mu_x}{\\sigma_x}$"
   ]
  },
  {
   "cell_type": "code",
   "execution_count": 39,
   "id": "12cbe250",
   "metadata": {},
   "outputs": [],
   "source": [
    "# min-max scaling\n",
    "from sklearn.preprocessing import MinMaxScaler\n",
    "\n",
    "mms = MinMaxScaler()\n",
    "X_train_norm = mms.fit_transform(X_train)\n",
    "X_test_norm = mms.transform(X_test)"
   ]
  },
  {
   "cell_type": "code",
   "execution_count": 40,
   "id": "9f171167",
   "metadata": {},
   "outputs": [],
   "source": [
    "# standardization\n",
    "from sklearn.preprocessing import StandardScaler\n",
    "\n",
    "stdsc = StandardScaler()\n",
    "X_train_std = stdsc.fit_transform(X_train)\n",
    "X_test_std = stdsc.transform(X_test)"
   ]
  },
  {
   "cell_type": "markdown",
   "id": "5957d038",
   "metadata": {},
   "source": [
    "`RobustScaler`는 중간값(q2) 값을 빼고 1사분위(q1)와 3사분위(q3)의 차이로 나누어 데이터의 스케일을 조정합니다.\n",
    "\n",
    "$ x_{robust}^{(i)} = \\dfrac{x^{(i)} - q_2}{q_3 - q_1}$"
   ]
  },
  {
   "cell_type": "code",
   "execution_count": 41,
   "id": "7bb67c5b",
   "metadata": {},
   "outputs": [],
   "source": [
    "from sklearn.preprocessing import RobustScaler\n",
    "rbs = RobustScaler()\n",
    "X_train_robust = rbs.fit_transform(X_train)\n",
    "X_test_robust = rbs.fit(X_test)"
   ]
  },
  {
   "cell_type": "markdown",
   "id": "4babd3c4",
   "metadata": {
    "id": "YAT1GxwzMq2j"
   },
   "source": [
    "`MaxAbsScaler`는 각 특성별로 데이터를 최대 절댓값으로 나눕니다. 따라서 각 특성의 최댓값은 1이 됩니다. 전체 특성은 [-1, 1] 범위로 변경됩니다."
   ]
  },
  {
   "cell_type": "code",
   "execution_count": 42,
   "id": "4dfa215c",
   "metadata": {
    "id": "HhQvsTHAMq2k"
   },
   "outputs": [],
   "source": [
    "from sklearn.preprocessing import MaxAbsScaler\n",
    "mas = MaxAbsScaler()\n",
    "X_train_maxabs = mas.fit_transform(X_train)\n",
    "X_test_maxabs = mas.transform(X_test)"
   ]
  },
  {
   "cell_type": "markdown",
   "id": "177e8997",
   "metadata": {
    "id": "hB_yqD6-Mq2l"
   },
   "source": [
    "마지막으로 `Normalizer` 클래스와 `normalize()` 함수는 특성이 아니라 샘플별로 정규화를 수행합니다. 또한 희소 행렬도 처리할 수 있습니다. 기본적으로 샘플의 L2 노름이 1이 되도록 정규화합니다."
   ]
  },
  {
   "cell_type": "code",
   "execution_count": 43,
   "id": "37f2d14e",
   "metadata": {},
   "outputs": [],
   "source": [
    "from sklearn.preprocessing import Normalizer\n",
    "\n",
    "nrm = Normalizer()\n",
    "X_train_l2 = nrm.fit_transform(X_train)"
   ]
  },
  {
   "cell_type": "markdown",
   "id": "ed968845",
   "metadata": {},
   "source": [
    "**L2 Norm**<br>\n",
    "$ \\lVert \\boldsymbol{x} \\rVert_2 = \\sqrt{x_1^2 + x_2^2 + \\cdots + x_n^2} $<br><br>\n",
    "\n",
    "**L1 Norm**<br>\n",
    "$ \\lVert \\boldsymbol{x} \\rVert_1 = \\lvert x_1 \\rvert + \\lvert x_2 \\rvert + \\cdots + \\lvert x_n \\rvert $"
   ]
  },
  {
   "cell_type": "markdown",
   "id": "211dc83e",
   "metadata": {},
   "source": [
    "## 4.5 유용한 특성 선택\n",
    "\n",
    "- train set에 대한 overfitting을 방지하기 위한 방법은 여러 가지가 있다. (일반화 오차를 감소하기 위한 기법)\n",
    "    - 더 많은 훈련 데이터를 모은다\n",
    "    - 규제를 통해 복잡도를 제한한다\n",
    "    - 파라미터 개수가 적은 간단한 모델을 선택한다\n",
    "    - 데이터 차원을 줄인다"
   ]
  },
  {
   "cell_type": "markdown",
   "id": "14fe0898",
   "metadata": {},
   "source": [
    "### 4.5.1 모델 복잡도 제한을 위한 L1 규제와 L2 규제"
   ]
  },
  {
   "cell_type": "markdown",
   "id": "5bc5c325",
   "metadata": {},
   "source": [
    "$L2: \\lVert \\boldsymbol w \\rVert_2^2 = \\sum_{j=1}^m w_j^2$\n",
    "\n",
    "$L1: \\lVert \\boldsymbol w \\rVert_1 = \\sum_{j=1}^m \\lvert w_j \\rvert$"
   ]
  },
  {
   "cell_type": "code",
   "execution_count": 44,
   "id": "37ef1404",
   "metadata": {
    "colab": {
     "base_uri": "https://localhost:8080/",
     "height": 404
    },
    "id": "ULk6PzD4Mq2m",
    "outputId": "34276084-a996-4191-faff-a9fee078f367"
   },
   "outputs": [
    {
     "data": {
      "text/html": [
       "<img src=\"https://git.io/JtY8I\" width=\"350\"/>"
      ],
      "text/plain": [
       "<IPython.core.display.Image object>"
      ]
     },
     "execution_count": 44,
     "metadata": {},
     "output_type": "execute_result"
    }
   ],
   "source": [
    "Image(url='https://git.io/JtY8I', width=350) "
   ]
  },
  {
   "cell_type": "code",
   "execution_count": 45,
   "id": "e2c30ecc",
   "metadata": {
    "colab": {
     "base_uri": "https://localhost:8080/",
     "height": 413
    },
    "id": "tPDHh1jQMq2n",
    "outputId": "1e4655f9-4e9e-440b-cb25-cce30fbc1b33",
    "scrolled": true
   },
   "outputs": [
    {
     "data": {
      "text/html": [
       "<img src=\"https://git.io/JtY8L\" width=\"350\"/>"
      ],
      "text/plain": [
       "<IPython.core.display.Image object>"
      ]
     },
     "execution_count": 45,
     "metadata": {},
     "output_type": "execute_result"
    }
   ],
   "source": [
    "Image(url='https://git.io/JtY8L', width=350) "
   ]
  },
  {
   "cell_type": "markdown",
   "id": "cbd1db0d",
   "metadata": {},
   "source": [
    "### 4.5.3 L1 규제를 사용한 희소성"
   ]
  },
  {
   "cell_type": "code",
   "execution_count": 46,
   "id": "94999d40",
   "metadata": {},
   "outputs": [
    {
     "data": {
      "text/html": [
       "<img src=\"https://git.io/JtY8t\" width=\"400\"/>"
      ],
      "text/plain": [
       "<IPython.core.display.Image object>"
      ]
     },
     "execution_count": 46,
     "metadata": {},
     "output_type": "execute_result"
    }
   ],
   "source": [
    "Image(url='https://git.io/JtY8t', width=400) "
   ]
  },
  {
   "cell_type": "markdown",
   "id": "56351a4b",
   "metadata": {},
   "source": [
    "- L1 규제의 특징은..\n",
    "    - 비용 함수의 포물선과 L1 다이아몬드의 경계가 만나는 최적점이 \"축에 가깝게 위치할 가능성이 높다는 것\"\n",
    "    - 그래서 L1 규제는 보통 희소한 특성 벡터를 만든다. (대부분의 특성 가중치가 0이 된다)\n",
    "    - 관련 없는 특성이 많은 고차원 데이터셋일 경우 이런 희소성이 도움이 될 수 있다."
   ]
  },
  {
   "cell_type": "code",
   "execution_count": 47,
   "id": "9ea1d0ce",
   "metadata": {},
   "outputs": [
    {
     "data": {
      "text/plain": [
       "LogisticRegression(penalty='l1', solver='liblinear')"
      ]
     },
     "execution_count": 47,
     "metadata": {},
     "output_type": "execute_result"
    }
   ],
   "source": [
    "# L1 규제 사용 예시\n",
    "from sklearn.linear_model import LogisticRegression\n",
    "LogisticRegression(penalty='l1', solver='liblinear')"
   ]
  },
  {
   "cell_type": "code",
   "execution_count": 48,
   "id": "d58b1386",
   "metadata": {},
   "outputs": [
    {
     "name": "stdout",
     "output_type": "stream",
     "text": [
      "훈련 정확도: 1.0\n",
      "테스트 정확도: 1.0\n"
     ]
    }
   ],
   "source": [
    "# 표준화 전처리된 wine 데이터에 적용해보기\n",
    "lr = LogisticRegression(penalty='l1', C=1.0, solver='liblinear', random_state=1)\n",
    "    # 규제 효과를 높이거나 낮추려면 C값을 증가시키거나 감소시키면 됌! (C=1.0이 기본값)\n",
    "lr.fit(X_train_std, y_train)\n",
    "print('훈련 정확도:', lr.score(X_train_std, y_train))\n",
    "print('테스트 정확도:', lr.score(X_test_std, y_test))"
   ]
  },
  {
   "cell_type": "code",
   "execution_count": 49,
   "id": "9bfbfb43",
   "metadata": {},
   "outputs": [
    {
     "data": {
      "text/plain": [
       "array([-1.26392152, -1.21596534, -2.37040177])"
      ]
     },
     "execution_count": 49,
     "metadata": {},
     "output_type": "execute_result"
    }
   ],
   "source": [
    "lr.intercept_\n",
    "    # OvR 방식을 사용하기 때문에 절편이 3개다.\n",
    "    # wine 데이터셋의 y 레이블이 3가지 종류다."
   ]
  },
  {
   "cell_type": "code",
   "execution_count": 50,
   "id": "4c8a86a4",
   "metadata": {},
   "outputs": [
    {
     "data": {
      "text/plain": [
       "(23,)"
      ]
     },
     "execution_count": 50,
     "metadata": {},
     "output_type": "execute_result"
    }
   ],
   "source": [
    "lr.coef_[lr.coef_!=0].shape"
   ]
  },
  {
   "cell_type": "code",
   "execution_count": 51,
   "id": "ac7e9927",
   "metadata": {},
   "outputs": [
    {
     "data": {
      "text/plain": [
       "array([[ 1.24567209,  0.18072301,  0.74682115, -1.16438451,  0.        ,\n",
       "         0.        ,  1.1595535 ,  0.        ,  0.        ,  0.        ,\n",
       "         0.        ,  0.55864751,  2.50891241],\n",
       "       [-1.53644846, -0.38769843, -0.99485417,  0.36489012, -0.05989298,\n",
       "         0.        ,  0.66853184,  0.        ,  0.        , -1.93460212,\n",
       "         1.23246414,  0.        , -2.23212696],\n",
       "       [ 0.1355558 ,  0.16880291,  0.35718019,  0.        ,  0.        ,\n",
       "         0.        , -2.43768478,  0.        ,  0.        ,  1.5635432 ,\n",
       "        -0.81834553, -0.4930494 ,  0.        ]])"
      ]
     },
     "execution_count": 51,
     "metadata": {},
     "output_type": "execute_result"
    }
   ],
   "source": [
    "lr.coef_\n",
    "    # 꽤 많은 특성이 0으로 처리됐다."
   ]
  },
  {
   "cell_type": "code",
   "execution_count": 52,
   "id": "59ad4a0f",
   "metadata": {},
   "outputs": [
    {
     "data": {
      "image/png": "[encoded data removed]",
      "text/plain": [
       "<Figure size 432x288 with 1 Axes>"
      ]
     },
     "metadata": {
      "needs_background": "light"
     },
     "output_type": "display_data"
    }
   ],
   "source": [
    "# 규제 강도에 따른 특성의 가중치 변화를 그래프로 나타내기\n",
    "import matplotlib.pyplot as plt\n",
    "\n",
    "fig = plt.figure()\n",
    "ax = plt.subplot(111)\n",
    "    \n",
    "colors = ['blue', 'green', 'red', 'cyan', \n",
    "          'magenta', 'yellow', 'black', \n",
    "          'pink', 'lightgreen', 'lightblue', \n",
    "          'gray', 'indigo', 'orange']\n",
    "\n",
    "weights, params = [], []\n",
    "for c in np.arange(-4., 6.):\n",
    "    lr = LogisticRegression(penalty='l1', C=10.**c, solver='liblinear', \n",
    "                            multi_class='ovr', random_state=0)\n",
    "    lr.fit(X_train_std, y_train)\n",
    "    weights.append(lr.coef_[1])\n",
    "    params.append(10**c)\n",
    "\n",
    "weights = np.array(weights)\n",
    "\n",
    "for column, color in zip(range(weights.shape[1]), colors):\n",
    "    plt.plot(params, weights[:, column],\n",
    "             label=df_wine.columns[column + 1],\n",
    "             color=color)\n",
    "plt.axhline(0, color='black', linestyle='--', linewidth=3)\n",
    "plt.xlim([10**(-5), 10**5])\n",
    "plt.ylabel('weight coefficient')\n",
    "plt.xlabel('C')\n",
    "plt.xscale('log')\n",
    "plt.legend(loc='upper left')\n",
    "ax.legend(loc='upper center', \n",
    "          bbox_to_anchor=(1.38, 1.03),\n",
    "          ncol=1, fancybox=True)\n",
    "# plt.savefig('images/04_07.png', dpi=300, \n",
    "#             bbox_inches='tight', pad_inches=0.2)\n",
    "plt.show()"
   ]
  },
  {
   "cell_type": "markdown",
   "id": "b72ec7b7",
   "metadata": {},
   "source": [
    "- 위에서 볼 수 있듯이 L1규제는 C가 낮아질수록(규제가 강해질수록) 모든 가중치가 0에 수렴한다."
   ]
  },
  {
   "cell_type": "markdown",
   "id": "d34709db",
   "metadata": {},
   "source": [
    "### 4.5.4 순차 특성 선택 알고리즘\n",
    "- 특성 선택을 통한 차원축소도 모델 복잡도를 낮추고 과대적합을 피하는 방법 중 하나다.\n",
    "    - 특히.. 규제를 쓸 수 없는 모델에서 유용하다.\n",
    "- 차원 축소 기법에는 두 개의 주요 카테고리가 있다.\n",
    "    - 특성 선택(feature selection): 원본 특성에서 일부를 선택하는 것\n",
    "    - 특성 추출(feature extraction): 일련의 특성에서 얻은 정보로 새로운 특성을 만드는 것"
   ]
  },
  {
   "cell_type": "markdown",
   "id": "e541fdb2",
   "metadata": {},
   "source": [
    "> - 순차 특성 선택(sequential feature selection)은 '탐욕적 탐색 알고리즘(greedy search algorithm)'으로 초기 $d$차원의 특성 공간을 $k < d$인 $k$차원의 특성 부분 공간으로 축소한다.<br>\n",
    "> - 전통적 순차특성선택 알고리즘으로 순차 후진 선택(Sequential Backward Selection, SBS)가 있다."
   ]
  },
  {
   "cell_type": "markdown",
   "id": "ebd2b89b",
   "metadata": {},
   "source": [
    "- SBS는 새로운 특성의 부분 공간이 목표하는 특성 개수가 될 때까지 전체 특성에서 순차적으로 특성을 제거한다.\n",
    "    - 각 단계에서 어떤 특성을 제거할지 판단하기 위해 최대화할 기준 함수를 정의한다.<br>\n",
    "    \n",
    "1. 알고리즘을 $k=d$로 초기화한다. $d$는 전체 특성 공간 $\\boldsymbol X_d$의 차원이다.\n",
    "2. 조건 $\\boldsymbol x^- = argmax\\;J(\\boldsymbol X_k - \\boldsymbol x)$를 최대화하는 특성 $\\boldsymbol x^-$를 결정한다.\n",
    "3. 특성 집합에서 특성 $\\boldsymbol x^-$를 제거한다.\n",
    "4. $k$가 목표하는 특성 개수가 되면 종료한다. 아니면 단계2로 돌아간다."
   ]
  },
  {
   "cell_type": "code",
   "execution_count": 53,
   "id": "41c66fe8",
   "metadata": {},
   "outputs": [],
   "source": [
    "# SBS 구현하기\n",
    "from sklearn.base import clone\n",
    "from itertools import combinations\n",
    "import numpy as np\n",
    "from sklearn.metrics import accuracy_score\n",
    "from sklearn.model_selection import train_test_split\n",
    "\n",
    "\n",
    "class SBS():\n",
    "    def __init__(self, estimator, k_features, scoring=accuracy_score,\n",
    "                test_size=0.25, random_state=1):\n",
    "        self.scoring = scoring\n",
    "        self.estimator = clone(estimator)\n",
    "        self.k_features = k_features\n",
    "        self.test_size = test_size\n",
    "        self.random_state = random_state\n",
    "        \n",
    "    def fit(self, X, y):\n",
    "        X_train, X_test, y_train, y_test = \\\n",
    "            train_test_split(X, y, test_size=self.test_size,\n",
    "                            random_state=self.random_state)\n",
    "        \n",
    "        dim = X_train.shape[1]\n",
    "        self.indices_ = tuple(range(dim))\n",
    "            # self.indicies_ = (0, 1, 2, ..., 11, 12) *feature개수 13개\n",
    "        self.subsets_ = [self.indices_]\n",
    "        score = self._calc_score(X_train, y_train,\n",
    "                                X_test, y_test, self.indices_)\n",
    "        self.scores_ = [score]\n",
    "        \n",
    "        while dim > self.k_features:\n",
    "            scores = []\n",
    "            subsets = []\n",
    "            \n",
    "            for p in combinations(self.indices_, r=dim - 1):\n",
    "                score = self._calc_score(X_train, y_train,\n",
    "                                        X_test, y_test, p)\n",
    "                scores.append(score) # 각 feature 조합의 score\n",
    "                subsets.append(p)  # feature의 조합\n",
    "            \n",
    "            best = np.argmax(scores)  # score리스트에서 score가 가장 높은 행의 index 반환\n",
    "            self.indices_ = subsets[best]  # subsets[best] = 가장 점수가 높은 feature 조합. => self.indices_가 된다. => 이 self.indices_는 dim - 1개의 feature 조합이고, 이게 다시 for문 위로 올라간다.\n",
    "            self.subsets_.append(self.indices_) #이 feature 조합을 self.subsets_에 저장한다.\n",
    "            dim -= 1\n",
    "            \n",
    "            self.scores_.append(scores[best])\n",
    "        self.k_score_ = self.scores_[-1]  # k개의 feature가 남았을 때의 score는 scores_ 리스트에 마지막으로 입력된 score다.\n",
    "        \n",
    "        return self\n",
    "    \n",
    "    def transform(self, X):\n",
    "        return X[:, self.indices_]\n",
    "    \n",
    "    def _calc_score(self, X_train, y_train, X_test, y_test, indices):\n",
    "        self.estimator.fit(X_train[:, indices], y_train)\n",
    "        y_pred = self.estimator.predict(X_test[:, indices])\n",
    "        score = self.scoring(y_test, y_pred)\n",
    "        return score"
   ]
  },
  {
   "cell_type": "code",
   "execution_count": 54,
   "id": "f945d79c",
   "metadata": {},
   "outputs": [
    {
     "data": {
      "image/png": "[encoded data removed]",
      "text/plain": [
       "<Figure size 432x288 with 1 Axes>"
      ]
     },
     "metadata": {
      "needs_background": "light"
     },
     "output_type": "display_data"
    }
   ],
   "source": [
    "import matplotlib.pyplot as plt\n",
    "from sklearn.neighbors import KNeighborsClassifier\n",
    "\n",
    "knn = KNeighborsClassifier(n_neighbors=5)\n",
    "\n",
    "# 특성을 선택한다\n",
    "sbs = SBS(knn, k_features=1)\n",
    "sbs.fit(X_train_std, y_train)\n",
    "\n",
    "# 선택한 특성의 성능을 출력한다\n",
    "k_feat = [len(k) for k in sbs.subsets_]  # subsets_ 리스트에 담긴 원소들은 feature 조합의 원소 갯수다. => 이게 그래프의 x축이 된다.\n",
    "\n",
    "plt.plot(k_feat, sbs.scores_, marker='o')  # feature 조합 원소 갯수에 따라서 scores_ 가 어떻게 바뀌는지 보여준다\n",
    "plt.ylim([0.7, 1.02])\n",
    "plt.ylabel('Accuracy')\n",
    "plt.xlabel('Number of features')\n",
    "plt.grid()\n",
    "plt.tight_layout()\n",
    "\n",
    "plt.show()"
   ]
  },
  {
   "cell_type": "code",
   "execution_count": 55,
   "id": "0e849c74",
   "metadata": {},
   "outputs": [
    {
     "name": "stdout",
     "output_type": "stream",
     "text": [
      "Index(['Alcohol', 'Malic acid', 'OD280/OD315 of diluted wines'], dtype='object')\n"
     ]
    }
   ],
   "source": [
    "k3 = list(sbs.subsets_[10])\n",
    "print(df_wine.columns[1:][k3])\n",
    "    # columns[1:]한 이유는 1번 칼럼이 class label이기 때문!"
   ]
  },
  {
   "cell_type": "code",
   "execution_count": 56,
   "id": "daa1ba57",
   "metadata": {},
   "outputs": [
    {
     "name": "stdout",
     "output_type": "stream",
     "text": [
      "훈련 정확도: 0.967741935483871\n",
      "테스트 정확도: 0.9629629629629629\n"
     ]
    }
   ],
   "source": [
    "knn.fit(X_train_std, y_train)\n",
    "print('훈련 정확도:', knn.score(X_train_std, y_train))\n",
    "print('테스트 정확도:', knn.score(X_test_std, y_test))"
   ]
  },
  {
   "cell_type": "code",
   "execution_count": 57,
   "id": "acfdfdd9",
   "metadata": {},
   "outputs": [
    {
     "name": "stdout",
     "output_type": "stream",
     "text": [
      "훈련 정확도: 0.9516129032258065\n",
      "테스트 정확도: 0.9259259259259259\n"
     ]
    }
   ],
   "source": [
    "knn.fit(X_train_std[:, k3], y_train)\n",
    "print('훈련 정확도:', knn.score(X_train_std[:, k3], y_train))\n",
    "print('테스트 정확도:', knn.score(X_test_std[:, k3], y_test))"
   ]
  },
  {
   "cell_type": "markdown",
   "id": "ae2399e6",
   "metadata": {},
   "source": [
    "## 4.6 랜덤 포레스트의 특성 중요도 사용"
   ]
  },
  {
   "cell_type": "code",
   "execution_count": 58,
   "id": "a91cf69b",
   "metadata": {},
   "outputs": [
    {
     "name": "stdout",
     "output_type": "stream",
     "text": [
      " 1) Proline                        0.185453\n",
      " 2) Flavanoids                     0.174751\n",
      " 3) Color intensity                0.143920\n",
      " 4) OD280/OD315 of diluted wines   0.136162\n",
      " 5) Alcohol                        0.118529\n",
      " 6) Hue                            0.058739\n",
      " 7) Total phenols                  0.050872\n",
      " 8) Magnesium                      0.031357\n",
      " 9) Malic acid                     0.025648\n",
      "10) Proanthocyanins                0.025570\n",
      "11) Alcalinity of ash              0.022366\n",
      "12) Nonflavanoid phenols           0.013354\n",
      "13) Ash                            0.013279\n"
     ]
    },
    {
     "data": {
      "image/png": "[encoded data removed]",
      "text/plain": [
       "<Figure size 432x288 with 1 Axes>"
      ]
     },
     "metadata": {
      "needs_background": "light"
     },
     "output_type": "display_data"
    }
   ],
   "source": [
    "# wine 데이터셋에서 500개의 트리를 가진 랜덤 포레스트를 훈련하고 각각의 중요도에 따라 13개의 특성에 순위를 매겨보자\n",
    "from sklearn.ensemble import RandomForestClassifier\n",
    "\n",
    "feat_labels = df_wine.columns[1:]\n",
    "forest = RandomForestClassifier(n_estimators=500, random_state=1)\n",
    "\n",
    "forest.fit(X_train, y_train)\n",
    "importances = forest.feature_importances_\n",
    "\n",
    "indices = np.argsort(importances)[::-1]  # [::-1]은 ascending=False\n",
    "\n",
    "for f in range(X_train.shape[1]):\n",
    "    print(\"%2d) %-*s %f\" % (f + 1, 30,\n",
    "                           feat_labels[indices[f]],\n",
    "                           importances[indices[f]]))\n",
    "\n",
    "plt.title('Feature Importance')\n",
    "plt.bar(range(X_train.shape[1]),\n",
    "       importances[indices],\n",
    "       align='center')\n",
    "\n",
    "plt.xticks(range(X_train.shape[1]),\n",
    "          feat_labels[indices], rotation=90)\n",
    "plt.xlim([-1, X_train.shape[1]])\n",
    "plt.tight_layout()\n",
    "\n",
    "plt.show()"
   ]
  },
  {
   "cell_type": "markdown",
   "id": "ea58ca54",
   "metadata": {},
   "source": [
    "> **\"랜덤 포레스트에서 두 개 이상의 특성이 매우 상관관계가 높다면 하나의 특성은 매우 높은 순위를 갖지만 다른 특성 정보는 완전히 무시될 수도 있다.\"**"
   ]
  },
  {
   "cell_type": "code",
   "execution_count": 59,
   "id": "4bc577dd",
   "metadata": {},
   "outputs": [
    {
     "name": "stdout",
     "output_type": "stream",
     "text": [
      "이 임계 조건을 만족하는 샘플의 수: 5\n"
     ]
    }
   ],
   "source": [
    "# SelectFromModel은 특성중요도가 threshold(0.1) 이상인 특성들을 선택해주는 클래스다.\n",
    "from sklearn.feature_selection import SelectFromModel\n",
    "\n",
    "sfm = SelectFromModel(forest, threshold=0.1, prefit=True)\n",
    "X_selected = sfm.transform(X_train)\n",
    "print('이 임계 조건을 만족하는 샘플의 수:',\n",
    "     X_selected.shape[1])"
   ]
  },
  {
   "cell_type": "code",
   "execution_count": 60,
   "id": "31bf0fc6",
   "metadata": {},
   "outputs": [
    {
     "name": "stdout",
     "output_type": "stream",
     "text": [
      " 1) Proline                        0.185453\n",
      " 2) Flavanoids                     0.174751\n",
      " 3) Color intensity                0.143920\n",
      " 4) OD280/OD315 of diluted wines   0.136162\n",
      " 5) Alcohol                        0.118529\n"
     ]
    }
   ],
   "source": [
    "for f in range(X_selected.shape[1]):\n",
    "    print(\"%2d) %-*s %f\" % (f + 1, 30, \n",
    "                            feat_labels[indices[f]], \n",
    "                            importances[indices[f]]))"
   ]
  },
  {
   "cell_type": "markdown",
   "id": "fe47f566",
   "metadata": {},
   "source": [
    "- RFE 라는 클래스도 있다. 이건 처음에 모든 특성을 사용하여 모델을 만들고, 특성 중요도가 가장 낮은 특성을 제거해서 나머지 특성으로 새로운 모델을 만들고, 이걸 미리 정의한 특성 개수가 남을 때까지 계속 하는 기법이다."
   ]
  },
  {
   "cell_type": "code",
   "execution_count": 61,
   "id": "81732b14",
   "metadata": {},
   "outputs": [
    {
     "data": {
      "text/plain": [
       "RFE(estimator=RandomForestClassifier(n_estimators=500, random_state=1),\n",
       "    n_features_to_select=5)"
      ]
     },
     "execution_count": 61,
     "metadata": {},
     "output_type": "execute_result"
    }
   ],
   "source": [
    "from sklearn.feature_selection import RFE\n",
    "\n",
    "rfe = RFE(forest, n_features_to_select=5)\n",
    "rfe.fit(X_train, y_train)"
   ]
  },
  {
   "cell_type": "code",
   "execution_count": 62,
   "id": "83c59b37",
   "metadata": {},
   "outputs": [
    {
     "data": {
      "text/plain": [
       "array([1, 5, 9, 6, 4, 3, 1, 8, 7, 1, 2, 1, 1])"
      ]
     },
     "execution_count": 62,
     "metadata": {},
     "output_type": "execute_result"
    }
   ],
   "source": [
    "# 1은 모델이 최종적으로 선택한 5가지 특성이다. 2는 마지막에 짤린 특성.\n",
    "rfe.ranking_"
   ]
  },
  {
   "cell_type": "code",
   "execution_count": 63,
   "id": "01483664",
   "metadata": {},
   "outputs": [],
   "source": [
    "# support_는 최종 선택된 특성을 boolean으로 반환한다.\n",
    "f_mask = rfe.support_"
   ]
  },
  {
   "cell_type": "code",
   "execution_count": 64,
   "id": "2fa401dc",
   "metadata": {},
   "outputs": [
    {
     "name": "stdout",
     "output_type": "stream",
     "text": [
      " 5) Proline                        0.261512\n",
      " 5) Color intensity                0.216477\n",
      " 5) Flavanoids                     0.212259\n",
      " 5) OD280/OD315 of diluted wines   0.188924\n",
      " 5) Alcohol                        0.120828\n"
     ]
    }
   ],
   "source": [
    "# 훈련된 기반 모델(random forest)는 estimator_ 속성에 저장되어 있다.\n",
    "    # 이 모델의 특성 중요도를 추출해보자\n",
    "importances = rfe.estimator_.feature_importances_\n",
    "indices = np.argsort(importances)[::-1]\n",
    "\n",
    "for i in indices:\n",
    "    print(\"%2d) %-*s %f\" % (f + 1, 30,\n",
    "                           feat_labels[f_mask][i],\n",
    "                           importances[i]))"
   ]
  },
  {
   "cell_type": "markdown",
   "id": "cd1ec843",
   "metadata": {},
   "source": [
    "## 5.1 주성분 분석을 통한 비지도 차원 축소"
   ]
  },
  {
   "cell_type": "markdown",
   "id": "ca744e1a",
   "metadata": {},
   "source": [
    "**SBS 같은 특성 선택 알고리즘은 \"원본 특성을 유지\"하지만, 특성 추출은 새로운 특성 공간으로 데이터를 변환하거나 투영한다.**<br>\n",
    "> - PCA: 비지도 차원 축소<br>\n",
    "> - LDA: 지도 차원 축소<br>\n",
    "> - 커널 PCA: 비선형 차원 축소"
   ]
  },
  {
   "cell_type": "markdown",
   "id": "5132734d",
   "metadata": {},
   "source": [
    "### 5.1.1 주성분 분석의 주요 단계"
   ]
  },
  {
   "cell_type": "code",
   "execution_count": 65,
   "id": "ce85d274",
   "metadata": {},
   "outputs": [
    {
     "data": {
      "text/html": [
       "<img src=\"https://git.io/JtsvW\" width=\"400\"/>"
      ],
      "text/plain": [
       "<IPython.core.display.Image object>"
      ]
     },
     "execution_count": 65,
     "metadata": {},
     "output_type": "execute_result"
    }
   ],
   "source": [
    "Image(url='https://git.io/JtsvW', width=400) "
   ]
  },
  {
   "cell_type": "markdown",
   "id": "61b5d14a",
   "metadata": {},
   "source": [
    "- 훈련 샘플의 특성 벡터 $\\boldsymbol x = [x_1, x_2, ..., x_d]$가 있을 때,\n",
    "    - 이 특성 벡터의 차원을 축소하기 위해 $d \\times k$ 차원의 변환 행렬 $\\boldsymbol W$를 만든다.\n",
    "    - 이 변환행렬과 특성 벡터 $\\boldsymbol x$를 새로운 $k$ 차원의 특성 부분 공간으로 매핑한다.<br><br>\n",
    "\n",
    "$$ \\boldsymbol x \\boldsymbol W = \\boldsymbol z$$"
   ]
  },
  {
   "cell_type": "markdown",
   "id": "c0ab0c23",
   "metadata": {},
   "source": [
    "- PCA 방향은 데이터 스케일에 매우 민감하다.\n",
    "    - 특성의 스케일이 다르고 모든 특성의 중요도를 동일하게 취급하려면 PCA를 적용하기 전에 특성을 표준화 전처리해야 한다.<br>\n",
    "    \n",
    "1. $d$ 차원 데이터셋을 표준화 전처리한다.\n",
    "2. 공분산 행렬(covariance matrix)을 만든다.\n",
    "3. 공분산 행렬을 고유 벡터(eigenvector)와 고윳값(eigenvalue)으로 분해한다.\n",
    "4. 고윳값을 내림차순으로 정렬하고 그에 해당하는 고유 벡터의 순위를 매긴다.\n",
    "5. 고윳값이 가장 큰 $k$개의 고유 벡터를 선택한다. 여기서 $k$는 새로운 특성 부분 공간의 차원이다. ($k\\leq d$)\n",
    "6. 최상위 $k$개의 고유 벡터로 투영 행렬(projection matrix) $\\boldsymbol W$를 만든다.\n",
    "7. 투영 행렬 $\\boldsymbol W$를 사용해서 $d$차원 입력 데이터셋 $\\boldsymbol X$를 새로운 $k$ 차원의 특성 부분 공간으로 변환한다."
   ]
  },
  {
   "cell_type": "markdown",
   "id": "abdf6844",
   "metadata": {},
   "source": [
    "### 5.1.2 주성분 추출 단계"
   ]
  },
  {
   "cell_type": "markdown",
   "id": "fae442f2",
   "metadata": {},
   "source": [
    "#### 1~4단계를 파이썬으로 직접 구현해보자"
   ]
  },
  {
   "cell_type": "code",
   "execution_count": 66,
   "id": "99242101",
   "metadata": {},
   "outputs": [
    {
     "data": {
      "text/html": [
       "<div>\n",
       "<style scoped>\n",
       "    .dataframe tbody tr th:only-of-type {\n",
       "        vertical-align: middle;\n",
       "    }\n",
       "\n",
       "    .dataframe tbody tr th {\n",
       "        vertical-align: top;\n",
       "    }\n",
       "\n",
       "    .dataframe thead th {\n",
       "        text-align: right;\n",
       "    }\n",
       "</style>\n",
       "<table border=\"1\" class=\"dataframe\">\n",
       "  <thead>\n",
       "    <tr style=\"text-align: right;\">\n",
       "      <th></th>\n",
       "      <th>Class label</th>\n",
       "      <th>Alcohol</th>\n",
       "      <th>Malic acid</th>\n",
       "      <th>Ash</th>\n",
       "      <th>Alcalinity of ash</th>\n",
       "      <th>Magnesium</th>\n",
       "      <th>Total phenols</th>\n",
       "      <th>Flavanoids</th>\n",
       "      <th>Nonflavanoid phenols</th>\n",
       "      <th>Proanthocyanins</th>\n",
       "      <th>Color intensity</th>\n",
       "      <th>Hue</th>\n",
       "      <th>OD280/OD315 of diluted wines</th>\n",
       "      <th>Proline</th>\n",
       "    </tr>\n",
       "  </thead>\n",
       "  <tbody>\n",
       "    <tr>\n",
       "      <th>0</th>\n",
       "      <td>1</td>\n",
       "      <td>14.23</td>\n",
       "      <td>1.71</td>\n",
       "      <td>2.43</td>\n",
       "      <td>15.6</td>\n",
       "      <td>127</td>\n",
       "      <td>2.80</td>\n",
       "      <td>3.06</td>\n",
       "      <td>0.28</td>\n",
       "      <td>2.29</td>\n",
       "      <td>5.64</td>\n",
       "      <td>1.04</td>\n",
       "      <td>3.92</td>\n",
       "      <td>1065</td>\n",
       "    </tr>\n",
       "    <tr>\n",
       "      <th>1</th>\n",
       "      <td>1</td>\n",
       "      <td>13.20</td>\n",
       "      <td>1.78</td>\n",
       "      <td>2.14</td>\n",
       "      <td>11.2</td>\n",
       "      <td>100</td>\n",
       "      <td>2.65</td>\n",
       "      <td>2.76</td>\n",
       "      <td>0.26</td>\n",
       "      <td>1.28</td>\n",
       "      <td>4.38</td>\n",
       "      <td>1.05</td>\n",
       "      <td>3.40</td>\n",
       "      <td>1050</td>\n",
       "    </tr>\n",
       "    <tr>\n",
       "      <th>2</th>\n",
       "      <td>1</td>\n",
       "      <td>13.16</td>\n",
       "      <td>2.36</td>\n",
       "      <td>2.67</td>\n",
       "      <td>18.6</td>\n",
       "      <td>101</td>\n",
       "      <td>2.80</td>\n",
       "      <td>3.24</td>\n",
       "      <td>0.30</td>\n",
       "      <td>2.81</td>\n",
       "      <td>5.68</td>\n",
       "      <td>1.03</td>\n",
       "      <td>3.17</td>\n",
       "      <td>1185</td>\n",
       "    </tr>\n",
       "    <tr>\n",
       "      <th>3</th>\n",
       "      <td>1</td>\n",
       "      <td>14.37</td>\n",
       "      <td>1.95</td>\n",
       "      <td>2.50</td>\n",
       "      <td>16.8</td>\n",
       "      <td>113</td>\n",
       "      <td>3.85</td>\n",
       "      <td>3.49</td>\n",
       "      <td>0.24</td>\n",
       "      <td>2.18</td>\n",
       "      <td>7.80</td>\n",
       "      <td>0.86</td>\n",
       "      <td>3.45</td>\n",
       "      <td>1480</td>\n",
       "    </tr>\n",
       "    <tr>\n",
       "      <th>4</th>\n",
       "      <td>1</td>\n",
       "      <td>13.24</td>\n",
       "      <td>2.59</td>\n",
       "      <td>2.87</td>\n",
       "      <td>21.0</td>\n",
       "      <td>118</td>\n",
       "      <td>2.80</td>\n",
       "      <td>2.69</td>\n",
       "      <td>0.39</td>\n",
       "      <td>1.82</td>\n",
       "      <td>4.32</td>\n",
       "      <td>1.04</td>\n",
       "      <td>2.93</td>\n",
       "      <td>735</td>\n",
       "    </tr>\n",
       "  </tbody>\n",
       "</table>\n",
       "</div>"
      ],
      "text/plain": [
       "   Class label  Alcohol  Malic acid   Ash  Alcalinity of ash  Magnesium  \\\n",
       "0            1    14.23        1.71  2.43               15.6        127   \n",
       "1            1    13.20        1.78  2.14               11.2        100   \n",
       "2            1    13.16        2.36  2.67               18.6        101   \n",
       "3            1    14.37        1.95  2.50               16.8        113   \n",
       "4            1    13.24        2.59  2.87               21.0        118   \n",
       "\n",
       "   Total phenols  Flavanoids  Nonflavanoid phenols  Proanthocyanins  \\\n",
       "0           2.80        3.06                  0.28             2.29   \n",
       "1           2.65        2.76                  0.26             1.28   \n",
       "2           2.80        3.24                  0.30             2.81   \n",
       "3           3.85        3.49                  0.24             2.18   \n",
       "4           2.80        2.69                  0.39             1.82   \n",
       "\n",
       "   Color intensity   Hue  OD280/OD315 of diluted wines  Proline  \n",
       "0             5.64  1.04                          3.92     1065  \n",
       "1             4.38  1.05                          3.40     1050  \n",
       "2             5.68  1.03                          3.17     1185  \n",
       "3             7.80  0.86                          3.45     1480  \n",
       "4             4.32  1.04                          2.93      735  "
      ]
     },
     "execution_count": 66,
     "metadata": {},
     "output_type": "execute_result"
    }
   ],
   "source": [
    "import pandas as pd\n",
    "df_wine = pd.read_csv('https://archive.ics.uci.edu/ml/'\n",
    "                      'machine-learning-databases/wine/wine.data',\n",
    "                      header=None)\n",
    "\n",
    "df_wine.columns = ['Class label', 'Alcohol', 'Malic acid', 'Ash',\n",
    "                   'Alcalinity of ash', 'Magnesium', 'Total phenols',\n",
    "                   'Flavanoids', 'Nonflavanoid phenols',\n",
    "                   'Proanthocyanins', 'Color intensity', 'Hue',\n",
    "                   'OD280/OD315 of diluted wines', 'Proline']\n",
    "\n",
    "df_wine.head()"
   ]
  },
  {
   "cell_type": "code",
   "execution_count": 67,
   "id": "bfc92f90",
   "metadata": {},
   "outputs": [],
   "source": [
    "# train test split\n",
    "from sklearn.model_selection import train_test_split\n",
    "\n",
    "X, y = df_wine.iloc[:, 1:].values, df_wine.iloc[:, 0].values\n",
    "\n",
    "X_train, X_test, y_train, y_test = \\\n",
    "    train_test_split(X, y, test_size=0.3,\n",
    "                    stratify=y, random_state=0)"
   ]
  },
  {
   "cell_type": "code",
   "execution_count": 68,
   "id": "207cfdac",
   "metadata": {},
   "outputs": [],
   "source": [
    "# standardization\n",
    "from sklearn.preprocessing import StandardScaler\n",
    "\n",
    "sc = StandardScaler()\n",
    "X_train_std = sc.fit_transform(X_train)\n",
    "X_test_std = sc.transform(X_test)"
   ]
  },
  {
   "cell_type": "code",
   "execution_count": 69,
   "id": "260bbb41",
   "metadata": {},
   "outputs": [
    {
     "name": "stdout",
     "output_type": "stream",
     "text": [
      "\n",
      "고윳값 \n",
      "[4.84274532 2.41602459 1.54845825 0.96120438 0.84166161 0.6620634\n",
      " 0.51828472 0.34650377 0.3131368  0.10754642 0.21357215 0.15362835\n",
      " 0.1808613 ]\n"
     ]
    }
   ],
   "source": [
    "# 공분산 행렬의 고윳값 분해\n",
    "import numpy as np\n",
    "cov_mat = np.cov(X_train_std.T)\n",
    "eigen_vals, eigen_vecs = np.linalg.eig(cov_mat)\n",
    "\n",
    "print('\\n고윳값 \\n%s' % eigen_vals)\n",
    "\n",
    "    # 사이킷런의 PCA 클래스는 직접 고윳값과 고유 벡터를 계산하는 대신 특이값분해(singular value decomposition) 방식을 사용하여 주성분을 구한다."
   ]
  },
  {
   "cell_type": "markdown",
   "id": "0b48d3d0",
   "metadata": {},
   "source": [
    "- 고윳값을 크기에 따라 내림차순으로 정렬하기 이전에,\n",
    "    - 고윳값의 '설명된 분산 비율(explained variance ratio)'를 시각화해보자\n",
    "    - 고윳값 $\\lambda_j$의 설명된 분산 비율은 전체 고윳값의 합에서 고윳값 $\\lambda_j$의 비율이다.<br><br>\n",
    "    \n",
    "$$ Explained\\;Variance\\;Ratio\\;=\\; \\dfrac {\\lambda_j}{\\sum^d_{j=1}\\lambda_j}$$"
   ]
  },
  {
   "cell_type": "code",
   "execution_count": 70,
   "id": "4709e73e",
   "metadata": {},
   "outputs": [],
   "source": [
    "# cumsum으로 explained variance ratio 계산하고, step 함수로 시각화한다\n",
    "tot = sum(eigen_vals)\n",
    "var_exp = [(i / tot) for i in sorted(eigen_vals, reverse=True)]\n",
    "cum_var_exp = np.cumsum(var_exp)"
   ]
  },
  {
   "cell_type": "code",
   "execution_count": 71,
   "id": "b64cab93",
   "metadata": {},
   "outputs": [
    {
     "data": {
      "image/png": "[encoded data removed]",
      "text/plain": [
       "<Figure size 432x288 with 1 Axes>"
      ]
     },
     "metadata": {
      "needs_background": "light"
     },
     "output_type": "display_data"
    }
   ],
   "source": [
    "import matplotlib.pyplot as plt\n",
    "\n",
    "plt.bar(range(1, 14), var_exp, alpha=0.5, align='center',\n",
    "       label='Individual explained variance')\n",
    "plt.step(range(1, 14), cum_var_exp, where='mid',\n",
    "        label='Cumulative explained variance')\n",
    "plt.ylabel('Explained variance ratio')\n",
    "plt.xlabel('Principal component index')\n",
    "plt.legend(loc='best')\n",
    "plt.tight_layout()\n",
    "\n",
    "plt.show()"
   ]
  },
  {
   "cell_type": "markdown",
   "id": "263b780d",
   "metadata": {},
   "source": [
    "> - 기억할 것!<br>\n",
    "> - PCA는 비지도 학습이다. 레이블 데이터는 사용하지 않았다. 위 그래프는 \"어떤 주성분이 특성 간의 공분산 관계를 가장 잘 설명하는지\"를 나타낸다."
   ]
  },
  {
   "cell_type": "code",
   "execution_count": 72,
   "id": "dfc53b24",
   "metadata": {},
   "outputs": [],
   "source": [
    "# (고윳값, 고유벡터) 튜플의 리스트를 만든다\n",
    "eigen_pairs = [(np.abs(eigen_vals[i]), eigen_vecs[:, i])\n",
    "              for i in range(len(eigen_vals))]\n",
    "\n",
    "# 높은 값에서 낮은 값으로 (고윳값, 고유벡터) 튜플을 정렬한다\n",
    "eigen_pairs.sort(key=lambda k: k[0], reverse=True)"
   ]
  },
  {
   "cell_type": "code",
   "execution_count": 73,
   "id": "d91751a8",
   "metadata": {},
   "outputs": [
    {
     "name": "stdout",
     "output_type": "stream",
     "text": [
      "투영 행렬 W:\n",
      " [[-0.13724218  0.50303478]\n",
      " [ 0.24724326  0.16487119]\n",
      " [-0.02545159  0.24456476]\n",
      " [ 0.20694508 -0.11352904]\n",
      " [-0.15436582  0.28974518]\n",
      " [-0.39376952  0.05080104]\n",
      " [-0.41735106 -0.02287338]\n",
      " [ 0.30572896  0.09048885]\n",
      " [-0.30668347  0.00835233]\n",
      " [ 0.07554066  0.54977581]\n",
      " [-0.32613263 -0.20716433]\n",
      " [-0.36861022 -0.24902536]\n",
      " [-0.29669651  0.38022942]]\n"
     ]
    }
   ],
   "source": [
    "w = np.hstack((eigen_pairs[0][1][:, np.newaxis],\n",
    "              eigen_pairs[1][1][:, np.newaxis]))\n",
    "print('투영 행렬 W:\\n', w)\n",
    "\n",
    "# eigen_pairs는 (eigen_val, eigen_vec(13차원)) 튜플의 리스트다.\n",
    "    # eigen_pairs[0] 하면 첫 번째 튜플이 선택되고,\n",
    "    # eigen_pairs[0][1] 하면 첫 번째 튜플의 eigen vec이 선택된다.\n",
    "    # eigen_pairs[0][1]은 shape이 (13,)의 1차원 배열인데, 여기다가 [:, np.newaxis]를 해주면 (13,1)의 13차원 열벡터가 된다."
   ]
  },
  {
   "cell_type": "markdown",
   "id": "14297c1a",
   "metadata": {},
   "source": [
    "- 위의 투영행렬 $\\boldsymbol W$은 가장 고윳값이 높은 고유벡터 2개를 이어 붙인 $13 \\times 2$차원의 행렬이다.\n",
    "    - 기존 특성벡터 $\\boldsymbol x$는 13차원인데, 이걸 2차원으로 줄이는 것이다."
   ]
  },
  {
   "cell_type": "code",
   "execution_count": 74,
   "id": "cc3e2a9e",
   "metadata": {},
   "outputs": [
    {
     "data": {
      "text/plain": [
       "array([2.38299011, 0.45458499])"
      ]
     },
     "execution_count": 74,
     "metadata": {},
     "output_type": "execute_result"
    }
   ],
   "source": [
    "X_train_std[0].dot(w)\n",
    "\n",
    "# 이게 무슨 뜻이냐면\n",
    "    # 특성 13개를 갖고 있던 X의 샘플 데이터 하나를 투영행렬과 내적하여\n",
    "    # 기존 샘플데이터를 2개 차원의 특성을 지닌 샘플데이터로 축소시킨 것이다."
   ]
  },
  {
   "cell_type": "code",
   "execution_count": 75,
   "id": "5cea4d01",
   "metadata": {},
   "outputs": [
    {
     "data": {
      "image/png": "[encoded data removed]",
      "text/plain": [
       "<Figure size 432x288 with 1 Axes>"
      ]
     },
     "metadata": {
      "needs_background": "light"
     },
     "output_type": "display_data"
    }
   ],
   "source": [
    "# 전체 X 훈련 데이터셋을 주성분에 투영한다\n",
    "X_train_pca = X_train_std.dot(w)\n",
    "colors = ['r', 'b', 'g']\n",
    "markers = ['s', 'x', 'o']\n",
    "\n",
    "for l, c, m in zip(np.unique(y_train), colors, markers):\n",
    "    plt.scatter(X_train_pca[y_train == l, 0],\n",
    "               X_train_pca[y_train == l, 1],\n",
    "               c=c, label=l, marker=m)    \n",
    "            # 각각의 레이블 데이터마다 (주성분1, 주성분2)의 좌표를 반환\n",
    "\n",
    "plt.xlabel('PC 1')\n",
    "plt.ylabel('PC 2')\n",
    "plt.legend(loc='lower left')\n",
    "plt.tight_layout()\n",
    "\n",
    "plt.show()"
   ]
  },
  {
   "cell_type": "markdown",
   "id": "862f2263",
   "metadata": {},
   "source": [
    "- 위 그래프는 기존 124x13 차원의 데이터를 124x2 차원의 데이터로 변환한 후, 2차원 산점도로 시각화한 것이다.\n",
    "- 데이터가 y축(두 번째 주성분)보다 x축(첫 번째 주성분)을 따라 더 넓게 퍼져있다.\n",
    "    - 전에 설명된 분산 그래프에서 1번째와 2번째 주성분의 explained variance 차이가 꽤 컸는데, 그게 똑같이 반영된 거다.\n",
    "- 딱봐도 이 데이터에 선형분류기를 쓰면 클래스들을 잘 분리할 수 있을 거 같다 => 다시 말해, 2차원으로 차원 축소가 꽤 성공적으로 이뤄졌다."
   ]
  },
  {
   "cell_type": "markdown",
   "id": "087b83e4",
   "metadata": {},
   "source": [
    "### 5.1.5 사이킷런의 주성분 분석"
   ]
  },
  {
   "cell_type": "markdown",
   "id": "667ca319",
   "metadata": {},
   "source": [
    "#### 앞의 내용을 사이킷런에서 똑같이 구현해보자"
   ]
  },
  {
   "cell_type": "code",
   "execution_count": 76,
   "id": "57da1085",
   "metadata": {},
   "outputs": [
    {
     "data": {
      "text/plain": [
       "array([0.36951469, 0.18434927, 0.11815159, 0.07334252, 0.06422108,\n",
       "       0.05051724, 0.03954654, 0.02643918, 0.02389319, 0.01629614,\n",
       "       0.01380021, 0.01172226, 0.00820609])"
      ]
     },
     "execution_count": 76,
     "metadata": {},
     "output_type": "execute_result"
    }
   ],
   "source": [
    "from sklearn.decomposition import PCA\n",
    "\n",
    "pca = PCA()\n",
    "X_train_pca = pca.fit_transform(X_train_std)\n",
    "pca.explained_variance_ratio_"
   ]
  },
  {
   "cell_type": "code",
   "execution_count": 77,
   "id": "26c288bc",
   "metadata": {},
   "outputs": [
    {
     "data": {
      "image/png": "[encoded data removed]",
      "text/plain": [
       "<Figure size 432x288 with 1 Axes>"
      ]
     },
     "metadata": {
      "needs_background": "light"
     },
     "output_type": "display_data"
    }
   ],
   "source": [
    "plt.bar(range(1, 14), pca.explained_variance_ratio_, alpha=0.5, align='center')\n",
    "plt.step(range(1, 14), np.cumsum(pca.explained_variance_ratio_), where='mid')\n",
    "plt.ylabel('Explained variance ratio')\n",
    "plt.xlabel('Principal components')\n",
    "\n",
    "plt.show()"
   ]
  },
  {
   "cell_type": "code",
   "execution_count": 78,
   "id": "af8afd71",
   "metadata": {},
   "outputs": [],
   "source": [
    "pca = PCA(n_components=2)\n",
    "X_train_pca = pca.fit_transform(X_train_std)\n",
    "X_test_pca = pca.transform(X_test_std)"
   ]
  },
  {
   "cell_type": "code",
   "execution_count": 79,
   "id": "8861713e",
   "metadata": {},
   "outputs": [
    {
     "data": {
      "image/png": "[encoded data removed]",
      "text/plain": [
       "<Figure size 432x288 with 1 Axes>"
      ]
     },
     "metadata": {
      "needs_background": "light"
     },
     "output_type": "display_data"
    }
   ],
   "source": [
    "plt.scatter(X_train_pca[:, 0], X_train_pca[:, 1])\n",
    "plt.xlabel('PC 1')\n",
    "plt.ylabel('PC 2')\n",
    "plt.show()"
   ]
  },
  {
   "cell_type": "markdown",
   "id": "b42af575",
   "metadata": {},
   "source": [
    "#### 이제 sklearn의 PCA로 훈련 데이터를 변환하고, 로지스틱 회귀 모델로 분류하고 결정경계를 만들어보자."
   ]
  },
  {
   "cell_type": "code",
   "execution_count": 84,
   "id": "d4f64d75",
   "metadata": {},
   "outputs": [],
   "source": [
    "from sklearn.linear_model import LogisticRegression\n",
    "\n",
    "pca = PCA(n_components=2)\n",
    "X_train_pca = pca.fit_transform(X_train_std)\n",
    "X_test_pca = pca.transform(X_test_std)\n",
    "\n",
    "lr = LogisticRegression(random_state=1)\n",
    "lr = lr.fit(X_train_pca, y_train)"
   ]
  },
  {
   "cell_type": "code",
   "execution_count": 87,
   "id": "784c0318",
   "metadata": {},
   "outputs": [
    {
     "name": "stderr",
     "output_type": "stream",
     "text": [
      "/Users/jihun/Documents/data_science/notebooks/mlbook_Raschka/plots_.py:44: UserWarning: You passed a edgecolor/edgecolors ('black') for an unfilled marker ('x').  Matplotlib is ignoring the edgecolor in favor of the facecolor.  This behavior may change in the future.\n"
     ]
    },
    {
     "data": {
      "image/png": "[encoded data removed]",
      "text/plain": [
       "<Figure size 432x288 with 1 Axes>"
      ]
     },
     "metadata": {
      "needs_background": "light"
     },
     "output_type": "display_data"
    }
   ],
   "source": [
    "from plots_ import plot_decision_regions\n",
    "\n",
    "plot_decision_regions(X_train_pca, y_train, classifier=lr)\n",
    "plt.xlabel('PC 1')\n",
    "plt.ylabel('PC 2')\n",
    "plt.legend(loc='lower left')\n",
    "plt.tight_layout()\n",
    "# plt.savefig('images/05_04.png', dpi=300)\n",
    "plt.show()"
   ]
  },
  {
   "cell_type": "code",
   "execution_count": 88,
   "id": "86774cbd",
   "metadata": {},
   "outputs": [
    {
     "name": "stderr",
     "output_type": "stream",
     "text": [
      "/Users/jihun/Documents/data_science/notebooks/mlbook_Raschka/plots_.py:44: UserWarning: You passed a edgecolor/edgecolors ('black') for an unfilled marker ('x').  Matplotlib is ignoring the edgecolor in favor of the facecolor.  This behavior may change in the future.\n"
     ]
    },
    {
     "data": {
      "image/png": "[encoded data removed]",
      "text/plain": [
       "<Figure size 432x288 with 1 Axes>"
      ]
     },
     "metadata": {
      "needs_background": "light"
     },
     "output_type": "display_data"
    }
   ],
   "source": [
    "plot_decision_regions(X_test_pca, y_test, classifier=lr)\n",
    "plt.xlabel('PC 1')\n",
    "plt.ylabel('PC 2')\n",
    "plt.legend(loc='lower left')\n",
    "plt.tight_layout()\n",
    "\n",
    "plt.show()"
   ]
  },
  {
   "cell_type": "code",
   "execution_count": 89,
   "id": "b486699e",
   "metadata": {},
   "outputs": [
    {
     "data": {
      "text/plain": [
       "array([0.36951469, 0.18434927, 0.11815159, 0.07334252, 0.06422108,\n",
       "       0.05051724, 0.03954654, 0.02643918, 0.02389319, 0.01629614,\n",
       "       0.01380021, 0.01172226, 0.00820609])"
      ]
     },
     "execution_count": 89,
     "metadata": {},
     "output_type": "execute_result"
    }
   ],
   "source": [
    "# 전체 주성분의 explained variance ratio를 알고 싶다면 n_components를 None으로 하면 된다.\n",
    "pca = PCA(n_components=None)\n",
    "X_train_pca = pca.fit_transform(X_train_std)\n",
    "pca.explained_variance_ratio_"
   ]
  },
  {
   "cell_type": "markdown",
   "id": "84761c60",
   "metadata": {
    "id": "bwBzhFTHEjGy"
   },
   "source": [
    "`n_components`에 (0, 1) 사이 실수를 입력하면 설명된 분산의 비율을 나타냅니다. 이 비율을 달성하기 위해 필요한 주성분 개수를 선택합니다."
   ]
  },
  {
   "cell_type": "code",
   "execution_count": 90,
   "id": "a26110c1",
   "metadata": {},
   "outputs": [
    {
     "name": "stdout",
     "output_type": "stream",
     "text": [
      "주성분 개수: 10\n",
      "설명된 분산 비율: 0.9662714406558744\n"
     ]
    }
   ],
   "source": [
    "pca = PCA(n_components=0.95)\n",
    "pca.fit(X_train_std)\n",
    "print('주성분 개수:', pca.n_components_)\n",
    "print('설명된 분산 비율:', np.sum(pca.explained_variance_ratio_))"
   ]
  },
  {
   "cell_type": "markdown",
   "id": "2576eb57",
   "metadata": {},
   "source": [
    "## 5.2 선형 판별 분석을 통한 지도 방식의 데이터 압축\n",
    "- Linear Discriminant Analysis(LDA)는 규제가 없는 모델에서 차원의 저주로 인한 과대적합 정도를 줄이고 계산 효율성을 높이기 위한 특성 추출의 기법으로 사용할 수 있다.<br>\n",
    "\n",
    "> \"PCA가 데이터셋에 있는 분산이 최대인 직교 성분 축을 찾으려고 하는 반면, LDA 목표는 클래스를 최적으로 구분할 수 있는 특성 부분 공간을 찾는 것이다.\""
   ]
  },
  {
   "cell_type": "markdown",
   "id": "148b85e9",
   "metadata": {},
   "source": [
    "### 5.2.1 주성분 분석 vs 선형 판별 분석"
   ]
  },
  {
   "cell_type": "code",
   "execution_count": 91,
   "id": "d41138bf",
   "metadata": {
    "colab": {
     "base_uri": "https://localhost:8080/",
     "height": 366
    },
    "id": "BwDzcypZEjG0",
    "outputId": "df66dbad-e6e5-4060-926c-21e3308d5603",
    "scrolled": true
   },
   "outputs": [
    {
     "data": {
      "text/html": [
       "<img src=\"https://git.io/Jtsv8\" width=\"350\"/>"
      ],
      "text/plain": [
       "<IPython.core.display.Image object>"
      ]
     },
     "execution_count": 91,
     "metadata": {},
     "output_type": "execute_result"
    }
   ],
   "source": [
    "Image(url='https://git.io/Jtsv8', width=350) "
   ]
  },
  {
   "cell_type": "markdown",
   "id": "da3a8633",
   "metadata": {},
   "source": [
    "**동작 방식**<br>\n",
    "1. $d$차원의 데이터셋을 표준화 전처리한다. ($d$는 특성 개수)\n",
    "2. 각 클래스에 대해 $d$차원의 평균 벡터를 계산한다.\n",
    "3. 클래스 간의 산포 행렬(scatter matrix) $\\boldsymbol S_B$와 클래스 내 산포 행렬 $\\boldsymbol S_w$를 구성한다.\n",
    "4. $\\boldsymbol S_W^{-1} \\boldsymbol S_B$ 행렬의 고유 벡터와 고윳값을 계산한다.\n",
    "5. 고윳값을 내림차순으로 정렬하여 고유 벡터의 순서를 매긴다.\n",
    "6. 고윳값이 가장 큰 $k$개의 고유 벡터를 선택하여 $d \\times k$ 차원의 변환 행렬 $\\boldsymbol W$를 구성한다. 이 행렬의 열이 고유 벡터다.\n",
    "7. 변환 행렬 $\\boldsymbol W$를 사용하여 샘플을 새로운 특성 부분 공간으로 투영한다."
   ]
  },
  {
   "cell_type": "markdown",
   "id": "72cdacd4",
   "metadata": {},
   "source": [
    "### 5.2.3 산포 행렬 계산"
   ]
  },
  {
   "cell_type": "markdown",
   "id": "fdcceab7",
   "metadata": {},
   "source": [
    "- 위에서 표준화한 wine 데이터셋 사용해서 평균 벡터 구하기\n",
    "    - 평균 벡터를 사용하여 클래스 간의 산포 행렬과 클래스 내 산포 행렬을 구성한다.\n",
    "    - 평균 벡터 $\\boldsymbol m_i$는 클래스 $i$의 샘플에 대한 특성의 평균값 $\\mu_m$을 저장한다."
   ]
  },
  {
   "cell_type": "markdown",
   "id": "ae3d0494",
   "metadata": {},
   "source": [
    "> 평균 벡터는.. <br>\n",
    "\n",
    "$$ \\boldsymbol m_i = \\dfrac{1}{n_i} \\sum_{\\boldsymbol x \\in D_i} \\boldsymbol x_m $$ <br>\n",
    "\n",
    "$$ \\boldsymbol m_i = \\begin{pmatrix} \\mu_{i,alcohol} \\\\ \\mu_{i,malicacid} \\\\ \\dots \\\\ \\mu_{i_proline} \\end{pmatrix},\\;\\; i \\in \\{1,2,3\\} $$"
   ]
  },
  {
   "cell_type": "code",
   "execution_count": 92,
   "id": "338a6178",
   "metadata": {},
   "outputs": [
    {
     "name": "stdout",
     "output_type": "stream",
     "text": [
      "MV 1: [ 0.9066 -0.3497  0.3201 -0.7189  0.5056  0.8807  0.9589 -0.5516  0.5416\n",
      "  0.2338  0.5897  0.6563  1.2075]\n",
      "\n",
      "MV 2: [-0.8749 -0.2848 -0.3735  0.3157 -0.3848 -0.0433  0.0635 -0.0946  0.0703\n",
      " -0.8286  0.3144  0.3608 -0.7253]\n",
      "\n",
      "MV 3: [ 0.1992  0.866   0.1682  0.4148 -0.0451 -1.0286 -1.2876  0.8287 -0.7795\n",
      "  0.9649 -1.209  -1.3622 -0.4013]\n",
      "\n"
     ]
    }
   ],
   "source": [
    "# 각 클래스에 대한 평균 벡터를 계산한다\n",
    "\n",
    "np.set_printoptions(precision=4)\n",
    "\n",
    "mean_vecs = []\n",
    "for label in range(1, 4):\n",
    "    mean_vecs.append(np.mean(X_train_std[y_train == label], axis=0))\n",
    "    print('MV %s: %s\\n' % (label, mean_vecs[label - 1]))"
   ]
  },
  {
   "cell_type": "markdown",
   "id": "f9ce689a",
   "metadata": {
    "id": "c-nwJBF5EjG1"
   },
   "source": [
    "#### 클래스 내 산포 행렬을 계산합니다:\n",
    "\n",
    "$\\boldsymbol S_W=\\sum_{i=1}^c \\boldsymbol S_i$\n",
    "\n",
    "$\\boldsymbol S_i=\\sum_{x\\in D_i}(\\boldsymbol x-\\boldsymbol m_i)^T(\\boldsymbol x-\\boldsymbol m_i)$"
   ]
  },
  {
   "cell_type": "code",
   "execution_count": 97,
   "id": "9f32747c",
   "metadata": {},
   "outputs": [
    {
     "name": "stdout",
     "output_type": "stream",
     "text": [
      "클래스 내의 산포 행렬: 13x13\n",
      "클래스 레이블 분포: [41 50 33]\n"
     ]
    }
   ],
   "source": [
    "d = 13 # 특성의 수\n",
    "S_W = np.zeros((d, d))\n",
    "for label, mv in zip(range(1, 4), mean_vecs):\n",
    "    class_scatter = np.zeros((d, d)) # 각 클래스에 대한 산포 행렬\n",
    "    for row in X_train_std[y_train == label]:\n",
    "        row, mv = row.reshape(d, 1), mv.reshape(d, 1) # 열 벡터로 만들기\n",
    "        class_scatter += (row - mv).dot((row - mv).T)\n",
    "    S_W += class_scatter  # 클래스 산포 행렬을 더한다.\n",
    "    \n",
    "print('클래스 내의 산포 행렬: %sx%s' % (S_W.shape[0], S_W.shape[1]))\n",
    "print('클래스 레이블 분포: %s' % np.bincount(y_train)[1:])"
   ]
  },
  {
   "cell_type": "markdown",
   "id": "b411a65e",
   "metadata": {},
   "source": [
    "- 근데 위에서 보듯이, 이 데이터셋이 클래스가 균일하게 분포되지 않은 데이터다.\n",
    "    - **산포 행렬의 계산은 훈련 데이터셋의 클래스 레이블이 균등하게 분포되어 있다고 가정**한다.\n",
    "    - 만약 균등하지 않다면 공분산 행렬을 사용하는 것이 낫다."
   ]
  },
  {
   "cell_type": "markdown",
   "id": "a45be52c",
   "metadata": {},
   "source": [
    "$\\sum_i=\\dfrac{1}{n_i}\\boldsymbol S_i=\\dfrac{1}{n_i}\\sum_{x\\in D_i}(\\boldsymbol x-\\boldsymbol m_i)^T(\\boldsymbol x-\\boldsymbol m_i)$ <br><br>\n",
    "\n",
    "- 산포 행렬을 샘플 개수 $n_i$로 나누면 사실 산포 행렬을 계산하는 것이 공분산 행렬 $\\sum_i$ 를 계산하는 것과 같아진다. **즉, 공분산 행렬은 산포 행렬의 정규화 버전이다.**"
   ]
  },
  {
   "cell_type": "code",
   "execution_count": 102,
   "id": "07d30e83",
   "metadata": {},
   "outputs": [
    {
     "name": "stdout",
     "output_type": "stream",
     "text": [
      "스케일 조정된 클래스 내의 산포 행렬: 13x13\n"
     ]
    }
   ],
   "source": [
    "d = 13\n",
    "S_W = np.zeros((d, d))\n",
    "for label, mv in zip(range(1, 4), mean_vecs):\n",
    "    class_scatter = np.cov(X_train_std[y_train == label].T)\n",
    "    S_W += class_scatter\n",
    "print('스케일 조정된 클래스 내의 산포 행렬: %sx%s' % (S_W.shape[0], S_W.shape[1]))"
   ]
  },
  {
   "cell_type": "markdown",
   "id": "17dfaa78",
   "metadata": {
    "id": "7dBT2KJKEjG1"
   },
   "source": [
    "#### 클래스 내 산포 행렬(또는 공분산 행렬)을 계산한 후 다음 단계는 클래스 간 산포 행렬을 계산하는 것이다\n",
    "\n",
    "$\\boldsymbol S_B=\\sum_{i=1}^c n_i(\\boldsymbol m_i-\\boldsymbol m)^T(\\boldsymbol m_i-\\boldsymbol m)$<br>\n",
    "\n",
    "- 여기서 $\\boldsymbol m$은 모든 클래스의 샘플을 포함하여 계산된 전체 평균이다."
   ]
  },
  {
   "cell_type": "code",
   "execution_count": 116,
   "id": "6fb7734a",
   "metadata": {},
   "outputs": [
    {
     "name": "stdout",
     "output_type": "stream",
     "text": [
      "클래스 간의 산포 행렬: 13x13\n"
     ]
    }
   ],
   "source": [
    "mean_overall = np.mean(X_train_std, axis=0)\n",
    "mean_overall = mean_overall.reshape(d, 1)\n",
    "d = 13\n",
    "S_B = np.zeros((d, d))\n",
    "for i, mean_vec in enumerate(mean_vecs):\n",
    "    n = X_train_std[y_train == i + 1, :].shape[0]\n",
    "    mean_vec = mean_vec.reshape(d, 1)\n",
    "    S_B += n * (mean_vec - mean_overall).dot((mean_vec - mean_overall).T)\n",
    "    \n",
    "print('클래스 간의 산포 행렬: %sx%s' % (S_B.shape[0], S_B.shape[1]))"
   ]
  },
  {
   "cell_type": "markdown",
   "id": "481adffa",
   "metadata": {},
   "source": [
    "### 5.2.4 새로운 특성 부분 공간을 위해 선형 판별 벡터 선택\n",
    "- 이제 다음 단계는..\n",
    "    - PCA라면 공분산 행렬에 대한 고윳값 분해를 하는 건데,\n",
    "    - LDA는 대신 행렬 $\\boldsymbol S_W^{-1} \\boldsymbol W_B$의 고윳값을 계산한다."
   ]
  },
  {
   "cell_type": "code",
   "execution_count": 129,
   "id": "865190be",
   "metadata": {},
   "outputs": [],
   "source": [
    "eigen_vals, eigen_vecs = np.linalg.eig(np.linalg.inv(S_W).dot(S_B))"
   ]
  },
  {
   "cell_type": "markdown",
   "id": "1bdf6655",
   "metadata": {},
   "source": [
    "- 고윳값의 역순으로 고유벡터를 정렬한다 (판별 벡터의 개수 = 클래스 개수 -1):"
   ]
  },
  {
   "cell_type": "code",
   "execution_count": 130,
   "id": "973d193b",
   "metadata": {},
   "outputs": [
    {
     "name": "stdout",
     "output_type": "stream",
     "text": [
      "내림차순의 고윳값:\n",
      "\n",
      "349.6178089059941\n",
      "172.76152218979385\n",
      "2.842170943040401e-14\n",
      "2.564925776858485e-14\n",
      "2.4338020883285312e-14\n",
      "2.4338020883285312e-14\n",
      "2.0175057173967873e-14\n",
      "1.4666248938581886e-14\n",
      "1.4666248938581886e-14\n",
      "6.749911050291042e-15\n",
      "6.749911050291042e-15\n",
      "4.473806353827043e-15\n",
      "1.1725209460862484e-15\n"
     ]
    }
   ],
   "source": [
    "# (고윳값, 고유벡터) 튜플의 리스트를 만든다\n",
    "eigen_pairs = [(np.abs(eigen_vals[i]), eigen_vecs[:, i])\n",
    "              for i in range(len(eigen_vals))]\n",
    "\n",
    "# (고윳값, 고유벡터) 튜플을 큰 값에서 작은 값 순서로 정렬한다\n",
    "eigen_pairs = sorted(eigen_pairs, key=lambda k: k[0], reverse=True)\n",
    "\n",
    "# 고윳값의 역순으로 올바르게 정렬되었는지 확인한다\n",
    "print('내림차순의 고윳값:\\n')\n",
    "for eigen_val in eigen_pairs:\n",
    "    print(eigen_val[0])"
   ]
  },
  {
   "cell_type": "code",
   "execution_count": 136,
   "id": "10c3f251",
   "metadata": {},
   "outputs": [
    {
     "data": {
      "image/png": "[encoded data removed]",
      "text/plain": [
       "<Figure size 432x288 with 1 Axes>"
      ]
     },
     "metadata": {
      "needs_background": "light"
     },
     "output_type": "display_data"
    }
   ],
   "source": [
    "tot = sum(eigen_vals.real)\n",
    "discr = [(i / tot) for i in sorted(eigen_vals.real, reverse=True)]\n",
    "cum_discr = np.cumsum(discr)\n",
    "\n",
    "plt.bar(range(1, 14), discr, alpha=0.5, align='center',\n",
    "       label='Individual \"discriminability\"')\n",
    "plt.step(range(1, 14), cum_discr, where='mid',\n",
    "       label='Cumulative \"discriminability\"')\n",
    "plt.ylabel('\"Discriminability\" ratio')\n",
    "plt.xlabel('Linear discriminants')\n",
    "plt.ylim([-0.1, 1.1])\n",
    "plt.legend(loc='best')\n",
    "plt.tight_layout()\n",
    "\n",
    "plt.show()"
   ]
  },
  {
   "cell_type": "code",
   "execution_count": 137,
   "id": "4b66c763",
   "metadata": {},
   "outputs": [
    {
     "name": "stdout",
     "output_type": "stream",
     "text": [
      "행렬 W:\n",
      " [[-0.1481 -0.4092]\n",
      " [ 0.0908 -0.1577]\n",
      " [-0.0168 -0.3537]\n",
      " [ 0.1484  0.3223]\n",
      " [-0.0163 -0.0817]\n",
      " [ 0.1913  0.0842]\n",
      " [-0.7338  0.2823]\n",
      " [-0.075  -0.0102]\n",
      " [ 0.0018  0.0907]\n",
      " [ 0.294  -0.2152]\n",
      " [-0.0328  0.2747]\n",
      " [-0.3547 -0.0124]\n",
      " [-0.3915 -0.5958]]\n"
     ]
    }
   ],
   "source": [
    "# 변환 행렬 W:\n",
    "w = np.hstack((eigen_pairs[0][1][:, np.newaxis].real,\n",
    "              eigen_pairs[1][1][:, np.newaxis].real))\n",
    "print('행렬 W:\\n', w)"
   ]
  },
  {
   "cell_type": "markdown",
   "id": "eadbe08e",
   "metadata": {},
   "source": [
    "### 5.2.5 새로운 특성 공간으로 샘플 투영\n",
    "- 변환 행렬을 훈련 데이터셋에 곱해서 데이터를 변환할 수 있다.<br><br>\n",
    "$$\\boldsymbol X'=\\boldsymbol X \\boldsymbol W$$"
   ]
  },
  {
   "cell_type": "code",
   "execution_count": 142,
   "id": "590b0165",
   "metadata": {},
   "outputs": [
    {
     "data": {
      "image/png": "[encoded data removed]",
      "text/plain": [
       "<Figure size 432x288 with 1 Axes>"
      ]
     },
     "metadata": {
      "needs_background": "light"
     },
     "output_type": "display_data"
    }
   ],
   "source": [
    "X_train_lda = X_train_std.dot(w)\n",
    "colors = ['r', 'b', 'g']\n",
    "markers = ['s', 'x', 'o']\n",
    "\n",
    "for l, c, m in zip(np.unique(y_train), colors, markers):\n",
    "    plt.scatter(X_train_lda[y_train == l, 0],\n",
    "               X_train_lda[y_train == l, 1] * (-1),\n",
    "               c=c, label=l, marker=m)\n",
    "\n",
    "plt.xlabel('LD 1')\n",
    "plt.ylabel('LD 2')\n",
    "plt.legend(loc='lower right')\n",
    "plt.tight_layout()\n",
    "\n",
    "plt.show()"
   ]
  },
  {
   "cell_type": "markdown",
   "id": "dcc94041",
   "metadata": {},
   "source": [
    "### 5.2.6 사이킷런의 LDA"
   ]
  },
  {
   "cell_type": "code",
   "execution_count": 143,
   "id": "2acee0cb",
   "metadata": {},
   "outputs": [],
   "source": [
    "# LDA로 차원 축소한 데이터에서 LogisticRegression 모델 성능 확인하기\n",
    "from sklearn.discriminant_analysis import LinearDiscriminantAnalysis as LDA\n",
    "\n",
    "lda = LDA(n_components=2)\n",
    "X_train_lda = lda.fit_transform(X_train_std, y_train)"
   ]
  },
  {
   "cell_type": "code",
   "execution_count": 144,
   "id": "bf2ede40",
   "metadata": {},
   "outputs": [
    {
     "name": "stderr",
     "output_type": "stream",
     "text": [
      "/Users/jihun/Documents/data_science/notebooks/mlbook_Raschka/plots_.py:44: UserWarning: You passed a edgecolor/edgecolors ('black') for an unfilled marker ('x').  Matplotlib is ignoring the edgecolor in favor of the facecolor.  This behavior may change in the future.\n"
     ]
    },
    {
     "data": {
      "image/png": "[encoded data removed]",
      "text/plain": [
       "<Figure size 432x288 with 1 Axes>"
      ]
     },
     "metadata": {
      "needs_background": "light"
     },
     "output_type": "display_data"
    }
   ],
   "source": [
    "from sklearn.linear_model import LogisticRegression\n",
    "\n",
    "lr = LogisticRegression(random_state=1)\n",
    "lr = lr.fit(X_train_lda, y_train)\n",
    "\n",
    "plot_decision_regions(X_train_lda, y_train, classifier=lr)\n",
    "plt.xlabel('LD 1')\n",
    "plt.ylabel('LD 2')\n",
    "plt.legend(loc='lower left')\n",
    "plt.tight_layout()\n",
    "\n",
    "plt.show()"
   ]
  },
  {
   "cell_type": "code",
   "execution_count": 146,
   "id": "0d4ece10",
   "metadata": {},
   "outputs": [
    {
     "name": "stderr",
     "output_type": "stream",
     "text": [
      "/Users/jihun/Documents/data_science/notebooks/mlbook_Raschka/plots_.py:44: UserWarning: You passed a edgecolor/edgecolors ('black') for an unfilled marker ('x').  Matplotlib is ignoring the edgecolor in favor of the facecolor.  This behavior may change in the future.\n"
     ]
    },
    {
     "data": {
      "image/png": "[encoded data removed]",
      "text/plain": [
       "<Figure size 432x288 with 1 Axes>"
      ]
     },
     "metadata": {
      "needs_background": "light"
     },
     "output_type": "display_data"
    }
   ],
   "source": [
    "# 테스트 세트에 대한 성능 확인\n",
    "X_test_lda = lda.transform(X_test_std)\n",
    "\n",
    "plot_decision_regions(X_test_lda, y_test, classifier=lr)\n",
    "plt.xlabel('LD 1')\n",
    "plt.ylabel('LD 2')\n",
    "plt.legend(loc='lower left')\n",
    "plt.tight_layout()\n",
    "\n",
    "plt.show()"
   ]
  },
  {
   "cell_type": "markdown",
   "id": "bc6f0a35",
   "metadata": {},
   "source": [
    "## 5.3 커널 PCA를 사용하여 비선형 매핑\n",
    "\n",
    "- 커널 PCA를 사용하여 선형적으로 구분되지 않는 데이터를 선형 분류기에 적합한 새로운 저차원 부분 공간으로 변환할 수 있다."
   ]
  },
  {
   "cell_type": "markdown",
   "id": "079442ac",
   "metadata": {},
   "source": [
    "### 5.3.1 커널 함수와 커널 트릭"
   ]
  },
  {
   "cell_type": "markdown",
   "id": "215e55b3",
   "metadata": {},
   "source": [
    "#### 3.5.2의 커널 SVM에서 나왔던 거 다시 보면..\n",
    "- 커널 방법의 기본 아이디어는\n",
    "    - $(x_1, x_2)$라는 특성에다가 커널 함수를 적용시켜서,\n",
    "    - $\\phi(x_1, x_2)\\;=\\;(z_1,z_2,z_3)\\;=\\;(x_1,x_2,\\;x_1^2 + x_2^2)$라는 고차원으로 매핑시키는 것이다.<br><br>\n",
    "\n",
    "- 근데 위 방법의 문제는 $x_1^2 + x_2^2$, 즉... $\\boldsymbol x^{(i)T} \\cdot \\boldsymbol x^{(j)}$ 라는 dot product의 계산 비용이 아주 비싸다는 것이다.\n",
    "    - 그래서 사용하는 게 '커널 트릭'이다. => 계산 비용 절감을 위한 커널 함수를 정의하는 것이다.\n",
    "    - 위의 dot product의 계산을 커널 함수를 푸는 것으로 바꾸는 거다.\n",
    "    - $$ \\kappa (\\boldsymbol x^{(i)},\\boldsymbol x^{(j)}) = \\phi(\\boldsymbol x^{(i)})^T \\phi(\\boldsymbol x^{(j)})$$"
   ]
  },
  {
   "cell_type": "markdown",
   "id": "fef02d10",
   "metadata": {},
   "source": [
    "- 가장 많이 사용되는 커널 중 하나는 방사 기저 함수(Radial Basis Function, RBF)다. 가우시안 커널(Gaussian Kernel)이라고도 불린다.<br>\n",
    "\n",
    "$$ \\kappa (\\boldsymbol x^{(i)}, \\boldsymbol x^{(j)})\\;=\\;exp \\bigg(- \\dfrac{||\\boldsymbol x^{(i)} - \\boldsymbol x^{(j)}||^2}{2\\sigma^2} \\bigg) $$<br><br>\n",
    "\n",
    "- 간단하게 아래와 같이 쓰기도 한다.\n",
    "$$ \\kappa (\\boldsymbol x^{(i)}, \\boldsymbol x^{(j)})\\;=\\;exp \\big(- \\gamma ||\\boldsymbol x^{(i)} - \\boldsymbol x^{(j)}||^2 \\big) $$"
   ]
  },
  {
   "cell_type": "markdown",
   "id": "fa6eb2f0",
   "metadata": {},
   "source": [
    "> 대략적으로 말하면 '커널'을 샘플 간의 '유사도 함수(similarity function)'로 해석할 수 있다."
   ]
  },
  {
   "cell_type": "markdown",
   "id": "39dd8624",
   "metadata": {},
   "source": [
    "#### 커널 PCA 설명"
   ]
  },
  {
   "cell_type": "markdown",
   "id": "c5c2d582",
   "metadata": {},
   "source": [
    "- 커널 PCA도 커널 SVM과 비슷하다.\n",
    "- 커널 PCA는 비선형 매핑을 수행하여 데이터를 고차원 공간으로 변환하고, 그 다음 고차원 공간에서 표준 PCA를 사용하여 샘플이 선형 분류기로 구분될 수 있는 저차원 공간으로 데이터를 투영한다. (샘플이 이 입력 공간에서 잘 구분될 수 있다고 가정한다)\n",
    "    - 이 방식이 계산 비용이 비싸기 때문에, 커널 PCA도 커널 SVM처럼 커널 트릭을 사용한다.\n",
    "    - 커널 트릭을 사용하면 \"원본 특성 공간에서 두 고차원 특성 벡터의 유사도를 계산할 수 있게 된다.\""
   ]
  },
  {
   "cell_type": "markdown",
   "id": "09b69711",
   "metadata": {},
   "source": [
    "**먼저 표준 PCA를 다시 생각해보자**"
   ]
  },
  {
   "cell_type": "markdown",
   "id": "cea18db0",
   "metadata": {},
   "source": [
    "1. 두 개의 특성 $k$와 $j$ 사이의 공분산은 다음과 같이 계산한다.\n",
    "    - $\\sigma_{jk} = \\dfrac{1}{n} \\sum^n_{i=1} (x^{(i)}_j - \\mu_j)(x^{(i)}_k - \\mu_k)$<br>\n",
    "\n",
    "2. 특성 평균을 0에 맞추었으므로 위 식을 다음과 같이 간단히 쓸 수 있다.\n",
    "    - $\\sigma_{jk} = \\dfrac{1}{n} \\sum^n_{i=1} x^{(i)}_j x^{(i)}_k$<br>\n",
    "    \n",
    "3. 이 식은 두 특성 간의 공분산을 의미한다. 공분산 행렬 $\\sum$를 계산하는 일반식으로 써보자.\n",
    "    - $\\sum = \\dfrac{1}{n} \\sum^n_{i=1} x^{(i)} x^{(i)^T}$<br>\n",
    "    \n",
    "4. 베른하르트 슐코프가 이 방식을 일반화하여 $\\phi$를 통한 비선형 특성 조합으로 원본 특성 공간의 샘플 사이의 점곱을 대체했다.\n",
    "    - $\\sum = \\dfrac{1}{n} \\sum^n_{i=1} \\phi(x^{(i)}) \\phi(x^{(i)})^T$<br>\n",
    "    \n",
    "5. 이 공분산 행렬에서 고유 벡터(주성분)를 얻기 위해서는 다음 식을 풀어야 한다.\n",
    "    - $\\sum \\boldsymbol \\nu = \\lambda \\boldsymbol \\nu$\n",
    "    - $\\Rightarrow \\dfrac{1}{n} \\sum^n_{i=1} \\phi(x^{(i)}) \\phi(x^{(i)})^T \\boldsymbol \\nu = \\lambda \\boldsymbol \\nu$\n",
    "    - $\\Rightarrow \\boldsymbol \\nu = \\dfrac{1}{n\\lambda} \\sum^n_{i=1} \\phi(x^{(i)}) \\phi(x^{(i)})^T \\boldsymbol \\nu = \\sum^n_{i=1} \\boldsymbol a^{(i)} \\phi(\\boldsymbol x^{(i)})$<br><br>\n",
    "    \n",
    "6. 위에서 $\\lambda$와 $\\boldsymbol \\nu$는 공분산 행렬 $\\sum$의 고윳값과 고유 벡터다. $\\boldsymbol a$는 커널(유사도) 행렬 $\\boldsymbol K$의 고유 벡터를 추출함으로써 구할 수 있다.\n",
    "\n",
    "7. 커널 행렬의 유도\n",
    "    - 먼저 공분산 행렬을 행렬 표기법으로 나타내자. X는 $n \\times k$차원 행렬이다.\n",
    "    - $\\sum = \\dfrac{1}{n} \\sum^n_{i=1} \\phi(x^{(i)}) \\phi(x^{(i)})^T = \\dfrac{1}{n} \\phi(\\boldsymbol X)^T \\phi(\\boldsymbol X)$<br><br>\n",
    "    \n",
    "    - 고유 벡터 식은 다음과 같이 쓸 수 있다.\n",
    "    - $\\boldsymbol \\nu = \\sum^n_{i=1} \\boldsymbol a^{(i)} \\phi(\\boldsymbol x^{(i)}) = \\phi(\\boldsymbol X)^T \\boldsymbol a$<br><br>\n",
    "    \n",
    "    - $\\sum \\boldsymbol \\nu = \\lambda \\boldsymbol \\nu$ 이기 때문에 다음을 얻는다.\n",
    "        - $\\dfrac{1}{n} \\phi(\\boldsymbol X)^T \\phi(\\boldsymbol X)\\phi(\\boldsymbol X)^T \\boldsymbol a = \\lambda \\phi(\\boldsymbol X)\\phi(\\boldsymbol X)^T \\boldsymbol a$\n",
    "        - $\\Rightarrow \\dfrac{1}{n} \\phi(\\boldsymbol X)\\phi(\\boldsymbol X)^T \\boldsymbol a = \\lambda \\boldsymbol a$\n",
    "        - $\\Rightarrow \\dfrac{1}{n} \\boldsymbol K \\boldsymbol a = \\lambda \\boldsymbol a$<br><br>\n",
    "        \n",
    "- 여기서 K는 유사도(커널) 행렬이다.<br>\n",
    "$$ \\boldsymbol K = \\phi(\\boldsymbol X)\\phi(\\boldsymbol X)^T $$"
   ]
  },
  {
   "cell_type": "markdown",
   "id": "21206aba",
   "metadata": {},
   "source": [
    "#### RBF 커널 PCA를 구현하기 위해 다음 3단계를 정의한다.\n",
    "1. 커널 (유사도) 행렬 $\\boldsymbol K$를 다음 식으로 계산한다.\n",
    "    - $\\kappa (\\boldsymbol x^{(i)}, \\boldsymbol x^{(j)})\\;=\\;exp \\big(- \\gamma ||\\boldsymbol x^{(i)} - \\boldsymbol x^{(j)}||^2 \\big)$\n",
    "    - 여기서 $\\gamma = \\dfrac{1}{2\\sigma^2}$\n",
    "    - 샘플의 모든 쌍에 대해 구한다.\n",
    "        - 예를 들어 100개의 훈련 샘플이 담긴 데이터넷이면, 각 쌍의 유사도를 담은 대칭 커널 행렬은 100x100 차원이 된다.<br><br>\n",
    "        \n",
    "2. 다음 식을 사용하여 커널 행렬 $\\boldsymbol K$를 중앙에 맞춘다.\n",
    "    - $\\boldsymbol K^{'} = \\boldsymbol K - 1_n \\boldsymbol K - \\boldsymbol K 1_n + 1_n \\boldsymbol K 1_n $\n",
    "    - $1_n$은 모든 값이 $\\dfrac{1}{n}$인 $n \\times n$차원 행렬이다. (커널 행렬과 같은 차원)<br><br>\n",
    "\n",
    "3. 고윳값 크기대로 내림차순으로 정렬하여 중앙에 맞춘 커널 행렬에서 최상위 $k$개의 고유 벡터를 고른다. 표준 PCA와 다르게 고유 벡터는 주성분 축이 아니며, 이미 이 축에 투영된 샘플이다."
   ]
  },
  {
   "cell_type": "markdown",
   "id": "2dda6ada",
   "metadata": {},
   "source": [
    "### 5.3.2 파이썬으로 커널 PCA 구현"
   ]
  },
  {
   "cell_type": "code",
   "execution_count": 150,
   "id": "fba00a76",
   "metadata": {},
   "outputs": [],
   "source": [
    "from scipy.spatial.distance import pdist, squareform\n",
    "from scipy.linalg import eigh\n",
    "import numpy as np\n",
    "\n",
    "from distutils.version import LooseVersion as Version\n",
    "from scipy import __version__ as scipy_version\n",
    "\n",
    "if scipy_version >= Version('1.4.1'):\n",
    "    from numpy import exp\n",
    "else:\n",
    "    from scipy import exp\n",
    "\n",
    "\n",
    "def rbf_kernel_pca(X, gamma, n_components):\n",
    "    \"\"\"\n",
    "    RBF 커널 PCA 구현\n",
    "    \n",
    "    매개변수\n",
    "    -----------\n",
    "    X: {넘파이 ndarray}, shape = [n_samples, n_features]\n",
    "    \n",
    "    gamma: float\n",
    "      RBF 커널 튜닝 매개변수\n",
    "    \n",
    "    n_components: int\n",
    "      반환할 주성분 개수\n",
    "    \n",
    "    반환값\n",
    "    -----------\n",
    "      X_pc: {넘파이 ndarray}, shape = [n_samples, k_features]\n",
    "        투영된 데이터셋\n",
    "    \"\"\"\n",
    "    # MxN 차원의 데이터셋에서 샘플 간의 유클리디안 거리의 제곱을 계산한다.\n",
    "    sq_dists = pdist(X, 'sqeuclidean')\n",
    "    \n",
    "    # 샘플 간의 거리를 정방 대칭 행렬로 변환한다.\n",
    "    mat_sq_dists = squareform(sq_dists)\n",
    "    \n",
    "    # 커널 행렬을 계산한다.\n",
    "    K = exp(-gamma * mat_sq_dists)\n",
    "    \n",
    "    # 커널 행렬을 중앙에 맞춥니다.\n",
    "    N = K.shape[0]\n",
    "    one_n = np.ones((N, N)) / N\n",
    "    K = K - one_n.dot(K) - K.dot(one_n) + one_n.dot(K).dot(one_n)\n",
    "    \n",
    "    # 중앙에 맞춰진 커널 행렬의 고윳값과 고유벡터를 구한다.\n",
    "        # scipy.linalg.eigh 함수는 오름차순으로 반환한다.\n",
    "    eigvals, eigvecs = eigh(K)\n",
    "    eigvals, eigvecs = eigvals[::-1], eigvecs[:, ::-1]\n",
    "    \n",
    "    # 최상위 k 개의 고유벡터를 선택한다. (결과값은 투영된 샘플이다)\n",
    "    X_pc = np.column_stack([eigvecs[:, i]\n",
    "                           for i in range(n_components)])\n",
    "    \n",
    "    return X_pc"
   ]
  },
  {
   "cell_type": "markdown",
   "id": "a3374f48",
   "metadata": {},
   "source": [
    "#### 예제 1: 반달 모양 구분하기"
   ]
  },
  {
   "cell_type": "code",
   "execution_count": 151,
   "id": "9ffc5506",
   "metadata": {},
   "outputs": [
    {
     "data": {
      "image/png": "[encoded data removed]",
      "text/plain": [
       "<Figure size 432x288 with 1 Axes>"
      ]
     },
     "metadata": {
      "needs_background": "light"
     },
     "output_type": "display_data"
    }
   ],
   "source": [
    "import matplotlib.pyplot as plt\n",
    "from sklearn.datasets import make_moons\n",
    "\n",
    "X, y = make_moons(n_samples=100, random_state=123)\n",
    "\n",
    "plt.scatter(X[y == 0, 0], X[y == 0, 1], color='red', marker='^', alpha=0.5)\n",
    "plt.scatter(X[y == 1, 0], X[y == 1, 1], color='blue', marker='o', alpha=0.5)\n",
    "\n",
    "plt.tight_layout()\n",
    "\n",
    "plt.show()"
   ]
  },
  {
   "cell_type": "code",
   "execution_count": 152,
   "id": "644f86e0",
   "metadata": {},
   "outputs": [
    {
     "data": {
      "image/png": "[encoded data removed]",
      "text/plain": [
       "<Figure size 504x216 with 2 Axes>"
      ]
     },
     "metadata": {
      "needs_background": "light"
     },
     "output_type": "display_data"
    }
   ],
   "source": [
    "from sklearn.decomposition import PCA\n",
    "\n",
    "scikit_pca = PCA(n_components=2)\n",
    "X_spca = scikit_pca.fit_transform(X)\n",
    "\n",
    "fig, ax = plt.subplots(nrows=1, ncols=2, figsize=(7, 3))\n",
    "\n",
    "ax[0].scatter(X_spca[y == 0, 0], X_spca[y == 0, 1],\n",
    "              color='red', marker='^', alpha=0.5)\n",
    "ax[0].scatter(X_spca[y == 1, 0], X_spca[y == 1, 1],\n",
    "              color='blue', marker='o', alpha=0.5)\n",
    "\n",
    "ax[1].scatter(X_spca[y == 0, 0], np.zeros((50, 1)) + 0.02,\n",
    "              color='red', marker='^', alpha=0.5)\n",
    "ax[1].scatter(X_spca[y == 1, 0], np.zeros((50, 1)) - 0.02,\n",
    "              color='blue', marker='o', alpha=0.5)\n",
    "\n",
    "ax[0].set_xlabel('PC1')\n",
    "ax[0].set_ylabel('PC2')\n",
    "ax[1].set_ylim([-1, 1])\n",
    "ax[1].set_yticks([])\n",
    "ax[1].set_xlabel('PC1')\n",
    "\n",
    "plt.tight_layout()\n",
    "\n",
    "plt.show()"
   ]
  },
  {
   "cell_type": "code",
   "execution_count": 153,
   "id": "5646c2c6",
   "metadata": {},
   "outputs": [
    {
     "data": {
      "image/png": "[encoded data removed]",
      "text/plain": [
       "<Figure size 504x216 with 2 Axes>"
      ]
     },
     "metadata": {
      "needs_background": "light"
     },
     "output_type": "display_data"
    }
   ],
   "source": [
    "X_kpca = rbf_kernel_pca(X, gamma=15, n_components=2)\n",
    "\n",
    "fig, ax = plt.subplots(nrows=1, ncols=2, figsize=(7, 3))\n",
    "ax[0].scatter(X_kpca[y==0, 0], X_kpca[y==0, 1], \n",
    "            color='red', marker='^', alpha=0.5)\n",
    "ax[0].scatter(X_kpca[y==1, 0], X_kpca[y==1, 1],\n",
    "            color='blue', marker='o', alpha=0.5)\n",
    "\n",
    "ax[1].scatter(X_kpca[y==0, 0], np.zeros((50, 1))+0.02, \n",
    "            color='red', marker='^', alpha=0.5)\n",
    "ax[1].scatter(X_kpca[y==1, 0], np.zeros((50, 1))-0.02,\n",
    "            color='blue', marker='o', alpha=0.5)\n",
    "\n",
    "ax[0].set_xlabel('PC1')\n",
    "ax[0].set_ylabel('PC2')\n",
    "ax[1].set_ylim([-1, 1])\n",
    "ax[1].set_yticks([])\n",
    "ax[1].set_xlabel('PC1')\n",
    "\n",
    "plt.tight_layout()\n",
    "\n",
    "plt.show()"
   ]
  },
  {
   "cell_type": "code",
   "execution_count": null,
   "id": "9f9d0a1c",
   "metadata": {},
   "outputs": [],
   "source": []
  },
  {
   "cell_type": "code",
   "execution_count": null,
   "id": "f3b01c32",
   "metadata": {},
   "outputs": [],
   "source": []
  },
  {
   "cell_type": "code",
   "execution_count": null,
   "id": "1139f66a",
   "metadata": {},
   "outputs": [],
   "source": []
  },
  {
   "cell_type": "code",
   "execution_count": null,
   "id": "33c8e69d",
   "metadata": {},
   "outputs": [],
   "source": []
  }
 ],
 "metadata": {
  "kernelspec": {
   "display_name": "Python 3 (ipykernel)",
   "language": "python",
   "name": "python3"
  },
  "language_info": {
   "codemirror_mode": {
    "name": "ipython",
    "version": 3
   },
   "file_extension": ".py",
   "mimetype": "text/x-python",
   "name": "python",
   "nbconvert_exporter": "python",
   "pygments_lexer": "ipython3",
   "version": "3.8.10"
  }
 },
 "nbformat": 4,
 "nbformat_minor": 5
}
