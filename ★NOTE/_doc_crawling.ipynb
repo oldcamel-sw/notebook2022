{
 "cells": [
  {
   "cell_type": "markdown",
   "id": "5212257f",
   "metadata": {},
   "source": [
    "## News"
   ]
  },
  {
   "cell_type": "code",
   "execution_count": 1,
   "id": "a9bef00f",
   "metadata": {},
   "outputs": [
    {
     "name": "stdout",
     "output_type": "stream",
     "text": [
      "파이썬\n",
      "https://search.naver.com/search.naver?where=nexearch&sm=top_hty&fbm=0&ie=utf8&query=파이썬\n",
      "데이터공방\n",
      "https://search.naver.com/search.naver?where=nexearch&sm=top_hty&fbm=0&ie=utf8&query=데이터공방\n",
      "코로나\n",
      "https://search.naver.com/search.naver?where=nexearch&sm=top_hty&fbm=0&ie=utf8&query=코로나\n",
      "강의\n",
      "https://search.naver.com/search.naver?where=nexearch&sm=top_hty&fbm=0&ie=utf8&query=강의\n"
     ]
    }
   ],
   "source": [
    "searching_words = ['파이썬', '데이터공방', '코로나', '강의']\n",
    "for word in searching_words:\n",
    "    print(word)\n",
    "    url = f'https://search.naver.com/search.naver?where=nexearch&sm=top_hty&fbm=0&ie=utf8&query={word}'\n",
    "    print(url)"
   ]
  },
  {
   "cell_type": "code",
   "execution_count": 8,
   "id": "a9ab685a",
   "metadata": {},
   "outputs": [],
   "source": [
    "from selenium import webdriver\n",
    "\n",
    "browser = webdriver.Chrome('./chromedriver')\n",
    "\n",
    "url = 'https://n.news.naver.com/article/277/0004834732'\n",
    "browser.get(url)\n",
    "\n",
    "#url에도 구조가 있다. \"주소\" 부분과 \"파라미터\" 부분.\n",
    "#예를 들어... 네이버에서 무언가를 검색할 때..\n",
    "\n",
    "#https://search.naver.com/search.naver?where=nexearch&sm=top_hty&fbm=0&ie=utf8&query=코로나\n",
    "# ? 기호 앞에가 주소이고, 뒤에가 파라미터다.\n",
    "# 파라미터에는..\n",
    "    # ~~?변수=값&변수=값&변수=값.... 이런 식의 진행.\n",
    "    # 저 위에서 query=코로나. query 변수의 값이 검색어라는 뜻"
   ]
  },
  {
   "cell_type": "code",
   "execution_count": 9,
   "id": "b136e7ec",
   "metadata": {},
   "outputs": [
    {
     "data": {
      "text/plain": [
       "[<h2 class=\"media_end_head_headline\">[車반도체 수급난]미래車 1대엔 반도체 2000개, 삼성반도체 더 중요해져</h2>]"
      ]
     },
     "execution_count": 9,
     "metadata": {},
     "output_type": "execute_result"
    }
   ],
   "source": [
    "# url의 html 정보 가져오기\n",
    "source = browser.page_source #지금 source은 string type\n",
    "\n",
    "from bs4 import BeautifulSoup as bs #source를 html을 읽을 수 있게 도와주는\n",
    "\n",
    "soup = bs(source, 'html.parser') #source를 html.parser에 정의된 기준으로 해석하라\n",
    "soup.select('h2') #soup 데이터 내에서 h3 태그 모두 찾기 => 리스트 형태로 나옴\n",
    "soup.select('.media_end_head_headline') # 마침표를 앞에 붙이면 \"클래스 속성 값\"을 찾는다\n",
    "soup.select('#dic_area') # 샾을 앞에 붙이면 \"id 속성 값\"을 찾는다\n",
    "                         # id 속성은 보통 유니크하게 쓰이기 때문에,\n",
    "                         # 크롤링하고자 하는 데이터에 id 속성이 있으면 '땡큐'하면 된다.\n",
    "\n",
    "soup.select('h2.media_end_head_headline') #태그 명은 h2이면서,\n",
    "                                          #클래스 속성은 media_end_head인 것 찾는다.\n",
    "    \n",
    "soup.select('div > h2') # div 태그를 부모로 갖고 있는 h2 태그 찾는다.\n",
    "soup.select('div.media_end_head_title > h2') # div 태그에 media_end_head_title이라는\n",
    "                                             # 클래스 속성을 부모로 갖는 h2 태그 찾는다."
   ]
  },
  {
   "cell_type": "code",
   "execution_count": 10,
   "id": "c000a545",
   "metadata": {},
   "outputs": [
    {
     "data": {
      "text/plain": [
       "'[車반도체 수급난]미래車 1대엔 반도체 2000개, 삼성반도체 더 중요해져'"
      ]
     },
     "execution_count": 10,
     "metadata": {},
     "output_type": "execute_result"
    }
   ],
   "source": [
    "# 태그에서 값 추출하기\n",
    "title = soup.select('.media_end_head_headline')[0]\n",
    "    #soup.select는 항상 list 형태로 나오기 때문에 끝에 [0]을 넣는 것.\n",
    "\n",
    "title.text #앞뒤에 있는 태그 기호를 모두 없애준다."
   ]
  },
  {
   "cell_type": "code",
   "execution_count": 11,
   "id": "fa81ad36",
   "metadata": {},
   "outputs": [
    {
     "data": {
      "text/plain": [
       "['media_end_head_headline']"
      ]
     },
     "execution_count": 11,
     "metadata": {},
     "output_type": "execute_result"
    }
   ],
   "source": [
    "# 만약 text가 아니라 속성 값을 추출하고 싶다면.. ['속성명']\n",
    "title['class']"
   ]
  },
  {
   "cell_type": "code",
   "execution_count": null,
   "id": "b79f60bf",
   "metadata": {},
   "outputs": [],
   "source": []
  },
  {
   "cell_type": "markdown",
   "id": "f1a2cd41",
   "metadata": {},
   "source": [
    "## "
   ]
  },
  {
   "cell_type": "code",
   "execution_count": 17,
   "id": "bf4d9a58",
   "metadata": {},
   "outputs": [],
   "source": [
    "import requests\n",
    "from io import BytesIO\n",
    "import pandas\n",
    "\n",
    "\n",
    "user_agent = \"Mozilla/5.0 (Windows NT 10.0; Win64; x64; rv:69.0) Gecko/20100101 Firefox/69.0\"\n",
    "\n",
    "fs_list = [\"연결 재무상태표\", \"연결 손익계산서\", \"연결 포괄손익계산서\", \"연결 자본변동표\", \"연결 현금흐름표\", \"재무상태표\"]\n",
    "\n",
    "def download_excel(rcp_no, dcm_no, period, company):\n",
    "    url = \"http://dart.fss.or.kr/pdf/download/excel.do?rcp_no={}&dcm_no={}&lang=ko\".format(rcp_no, dcm_no)\n",
    "    resp = requests.get(url, headers={\"user-agent\": user_agent})\n",
    "    table = BytesIO(resp.content)\n",
    "    for sheet in fs_list:\n",
    "        data = pandas.read_excel(table, sheet_name = sheet, skiprows = 5)\n",
    "        data.to_csv(period + \"_\" + company + \"_\" + sheet + \".csv\", encoding = \"euc-kr\")"
   ]
  },
  {
   "cell_type": "code",
   "execution_count": null,
   "id": "fb61ac63",
   "metadata": {},
   "outputs": [],
   "source": []
  },
  {
   "cell_type": "code",
   "execution_count": null,
   "id": "0b6dfee5",
   "metadata": {},
   "outputs": [],
   "source": []
  },
  {
   "cell_type": "code",
   "execution_count": null,
   "id": "a670c854",
   "metadata": {},
   "outputs": [],
   "source": []
  },
  {
   "cell_type": "code",
   "execution_count": null,
   "id": "4d8ee2d8",
   "metadata": {},
   "outputs": [],
   "source": []
  },
  {
   "cell_type": "code",
   "execution_count": null,
   "id": "be5f3979",
   "metadata": {},
   "outputs": [],
   "source": []
  },
  {
   "cell_type": "code",
   "execution_count": null,
   "id": "602ea953",
   "metadata": {},
   "outputs": [],
   "source": []
  }
 ],
 "metadata": {
  "kernelspec": {
   "display_name": "Python 3 (ipykernel)",
   "language": "python",
   "name": "python3"
  },
  "language_info": {
   "codemirror_mode": {
    "name": "ipython",
    "version": 3
   },
   "file_extension": ".py",
   "mimetype": "text/x-python",
   "name": "python",
   "nbconvert_exporter": "python",
   "pygments_lexer": "ipython3",
   "version": "3.8.10"
  }
 },
 "nbformat": 4,
 "nbformat_minor": 5
}
