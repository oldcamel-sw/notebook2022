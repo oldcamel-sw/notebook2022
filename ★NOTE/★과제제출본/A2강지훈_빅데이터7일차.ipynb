{
 "cells": [
  {
   "cell_type": "markdown",
   "id": "553490c8",
   "metadata": {
    "toc": true
   },
   "source": [
    "<h1>Table of Contents<span class=\"tocSkip\"></span></h1>\n",
    "<div class=\"toc\"><ul class=\"toc-item\"><li><span><a href=\"#1.-Load-data\" data-toc-modified-id=\"1.-Load-data-1\">1. Load data</a></span></li><li><span><a href=\"#2.-데이터-스플릿-/-전처리\" data-toc-modified-id=\"2.-데이터-스플릿-/-전처리-2\">2. 데이터 스플릿 / 전처리</a></span></li><li><span><a href=\"#3.-EDA\" data-toc-modified-id=\"3.-EDA-3\">3. EDA</a></span><ul class=\"toc-item\"><li><span><a href=\"#3-1.-다중회귀-모델을-구현해서-coeff-p-value를-확인해본다\" data-toc-modified-id=\"3-1.-다중회귀-모델을-구현해서-coeff-p-value를-확인해본다-3.1\">3-1. 다중회귀 모델을 구현해서 coeff p-value를 확인해본다</a></span></li><li><span><a href=\"#3-2.-변수간-다중공선성-확인-(VIF)\" data-toc-modified-id=\"3-2.-변수간-다중공선성-확인-(VIF)-3.2\">3-2. 변수간 다중공선성 확인 (VIF)</a></span></li></ul></li><li><span><a href=\"#4.-PCA-구현\" data-toc-modified-id=\"4.-PCA-구현-4\">4. PCA 구현</a></span></li><li><span><a href=\"#5.-차원-축소의-효과-탐색\" data-toc-modified-id=\"5.-차원-축소의-효과-탐색-5\">5. 차원 축소의 효과 탐색</a></span><ul class=\"toc-item\"><li><span><a href=\"#5-1.-10개-주성분으로-변환시킨-데이터셋으로-다중회귀모델-coeff-확인\" data-toc-modified-id=\"5-1.-10개-주성분으로-변환시킨-데이터셋으로-다중회귀모델-coeff-확인-5.1\">5-1. 10개 주성분으로 변환시킨 데이터셋으로 다중회귀모델 coeff 확인</a></span></li><li><span><a href=\"#5-2.-3개-주성분으로-변환시킨-데이터셋으로-다중회귀모델-coeff-확인\" data-toc-modified-id=\"5-2.-3개-주성분으로-변환시킨-데이터셋으로-다중회귀모델-coeff-확인-5.2\">5-2. 3개 주성분으로 변환시킨 데이터셋으로 다중회귀모델 coeff 확인</a></span></li><li><span><a href=\"#5-3.-Scatter-Plot----PC1~2,--PC1~3,--PC2~3\" data-toc-modified-id=\"5-3.-Scatter-Plot----PC1~2,--PC1~3,--PC2~3-5.3\">5-3. Scatter Plot -- PC1~2,  PC1~3,  PC2~3</a></span></li></ul></li><li><span><a href=\"#6.-분류-모델-구현-및-성능-확인\" data-toc-modified-id=\"6.-분류-모델-구현-및-성능-확인-6\">6. 분류 모델 구현 및 성능 확인</a></span><ul class=\"toc-item\"><li><span><a href=\"#6-1.-로지스틱-회귀-모형-성능-비교\" data-toc-modified-id=\"6-1.-로지스틱-회귀-모형-성능-비교-6.1\">6-1. 로지스틱 회귀 모형 성능 비교</a></span><ul class=\"toc-item\"><li><span><a href=\"#로지스틱-결론\" data-toc-modified-id=\"로지스틱-결론-6.1.1\">로지스틱 결론</a></span></li></ul></li><li><span><a href=\"#6-2.-Decision-Tree-성능-비교\" data-toc-modified-id=\"6-2.-Decision-Tree-성능-비교-6.2\">6-2. Decision Tree 성능 비교</a></span><ul class=\"toc-item\"><li><span><a href=\"#GridSearchCV-Score-비교\" data-toc-modified-id=\"GridSearchCV-Score-비교-6.2.1\">GridSearchCV Score 비교</a></span></li><li><span><a href=\"#테스트-데이터에-대한-성능-비교\" data-toc-modified-id=\"테스트-데이터에-대한-성능-비교-6.2.2\">테스트 데이터에 대한 성능 비교</a></span></li><li><span><a href=\"#Decision-tree-with-30개-변수-Graphviz-&amp;-Feature-Importance\" data-toc-modified-id=\"Decision-tree-with-30개-변수-Graphviz-&amp;-Feature-Importance-6.2.3\">Decision tree with 30개 변수 Graphviz &amp; Feature Importance</a></span></li><li><span><a href=\"#Decision-Tree-결론\" data-toc-modified-id=\"Decision-Tree-결론-6.2.4\">Decision Tree 결론</a></span></li></ul></li></ul></li><li><span><a href=\"#8월-26일자-업데이트\" data-toc-modified-id=\"8월-26일자-업데이트-7\">8월 26일자 업데이트</a></span></li><li><span><a href=\"#7.-Decision-Tree-Classification\" data-toc-modified-id=\"7.-Decision-Tree-Classification-8\">7. Decision Tree Classification</a></span><ul class=\"toc-item\"><li><span><a href=\"#7-1.-Decision-Tree-구현\" data-toc-modified-id=\"7-1.-Decision-Tree-구현-8.1\">7-1. Decision Tree 구현</a></span></li><li><span><a href=\"#7-2.-Decision-Tree-성능-분석\" data-toc-modified-id=\"7-2.-Decision-Tree-성능-분석-8.2\">7-2. Decision Tree 성능 분석</a></span><ul class=\"toc-item\"><li><span><a href=\"#Precision,-Recall,-Specificity\" data-toc-modified-id=\"Precision,-Recall,-Specificity-8.2.1\">Precision, Recall, Specificity</a></span></li><li><span><a href=\"#GridSearchCV---Recall\" data-toc-modified-id=\"GridSearchCV---Recall-8.2.2\">GridSearchCV - Recall</a></span></li><li><span><a href=\"#Comment\" data-toc-modified-id=\"Comment-8.2.3\">Comment</a></span></li></ul></li><li><span><a href=\"#7-3.-Decision-Tree-Feature-Importance-&amp;-Graphviz\" data-toc-modified-id=\"7-3.-Decision-Tree-Feature-Importance-&amp;-Graphviz-8.3\">7-3. Decision Tree Feature Importance &amp; Graphviz</a></span><ul class=\"toc-item\"><li><span><a href=\"#worst_perimeter만으로-학습시킨-모델을-가지고-예측했을-때도-성능에-큰-차이가-없다.\" data-toc-modified-id=\"worst_perimeter만으로-학습시킨-모델을-가지고-예측했을-때도-성능에-큰-차이가-없다.-8.3.1\">worst_perimeter만으로 학습시킨 모델을 가지고 예측했을 때도 성능에 큰 차이가 없다.</a></span></li></ul></li></ul></li><li><span><a href=\"#8.-Random-Forest-Classification\" data-toc-modified-id=\"8.-Random-Forest-Classification-9\">8. Random Forest Classification</a></span><ul class=\"toc-item\"><li><span><a href=\"#8-1.-RandomForest-구현\" data-toc-modified-id=\"8-1.-RandomForest-구현-9.1\">8-1. RandomForest 구현</a></span></li><li><span><a href=\"#8-2.-RandomForest-성능-분석\" data-toc-modified-id=\"8-2.-RandomForest-성능-분석-9.2\">8-2. RandomForest 성능 분석</a></span><ul class=\"toc-item\"><li><span><a href=\"#Comment\" data-toc-modified-id=\"Comment-9.2.1\">Comment</a></span></li></ul></li><li><span><a href=\"#8-3.-RandomForest-Feature-Importance\" data-toc-modified-id=\"8-3.-RandomForest-Feature-Importance-9.3\">8-3. RandomForest Feature Importance</a></span><ul class=\"toc-item\"><li><span><a href=\"#Comment\" data-toc-modified-id=\"Comment-9.3.1\">Comment</a></span></li></ul></li></ul></li><li><span><a href=\"#8월-27일자-업데이트\" data-toc-modified-id=\"8월-27일자-업데이트-10\">8월 27일자 업데이트</a></span></li><li><span><a href=\"#9.-SVM\" data-toc-modified-id=\"9.-SVM-11\">9. SVM</a></span><ul class=\"toc-item\"><li><span><a href=\"#9-1.-SVM-구현\" data-toc-modified-id=\"9-1.-SVM-구현-11.1\">9-1. SVM 구현</a></span></li><li><span><a href=\"#9-2.-SVM-성능-분석\" data-toc-modified-id=\"9-2.-SVM-성능-분석-11.2\">9-2. SVM 성능 분석</a></span><ul class=\"toc-item\"><li><span><a href=\"#C-값-세팅\" data-toc-modified-id=\"C-값-세팅-11.2.1\">C 값 세팅</a></span></li><li><span><a href=\"#Gamma-세팅\" data-toc-modified-id=\"Gamma-세팅-11.2.2\">Gamma 세팅</a></span></li><li><span><a href=\"#성능-확인\" data-toc-modified-id=\"성능-확인-11.2.3\">성능 확인</a></span></li></ul></li><li><span><a href=\"#9-3.-PCA-&amp;-SVM\" data-toc-modified-id=\"9-3.-PCA-&amp;-SVM-11.3\">9-3. PCA &amp; SVM</a></span></li></ul></li><li><span><a href=\"#8월-28일자-업데이트\" data-toc-modified-id=\"8월-28일자-업데이트-12\">8월 28일자 업데이트</a></span></li><li><span><a href=\"#10.-Neural-Network\" data-toc-modified-id=\"10.-Neural-Network-13\">10. Neural Network</a></span><ul class=\"toc-item\"><li><span><a href=\"#10-1.-Neural-Network-구현\" data-toc-modified-id=\"10-1.-Neural-Network-구현-13.1\">10-1. Neural Network 구현</a></span></li><li><span><a href=\"#10-2.-Neural-Network-성능-분석\" data-toc-modified-id=\"10-2.-Neural-Network-성능-분석-13.2\">10-2. Neural Network 성능 분석</a></span></li></ul></li><li><span><a href=\"#11.-KNN\" data-toc-modified-id=\"11.-KNN-14\">11. KNN</a></span><ul class=\"toc-item\"><li><span><a href=\"#11-1.-KNN-구현\" data-toc-modified-id=\"11-1.-KNN-구현-14.1\">11-1. KNN 구현</a></span></li><li><span><a href=\"#11-2.-KNN-성능-분석\" data-toc-modified-id=\"11-2.-KNN-성능-분석-14.2\">11-2. KNN 성능 분석</a></span></li></ul></li><li><span><a href=\"#12.-최종-모델-비교\" data-toc-modified-id=\"12.-최종-모델-비교-15\">12. 최종 모델 비교</a></span><ul class=\"toc-item\"><li><ul class=\"toc-item\"><li><ul class=\"toc-item\"><li><span><a href=\"#Explainability와-Interpretability가-가장-뛰어난-모델\" data-toc-modified-id=\"Explainability와-Interpretability가-가장-뛰어난-모델-15.0.0.1\">Explainability와 Interpretability가 가장 뛰어난 모델</a></span></li><li><span><a href=\"#정확도-순위\" data-toc-modified-id=\"정확도-순위-15.0.0.2\">정확도 순위</a></span></li><li><span><a href=\"#재현율-순위\" data-toc-modified-id=\"재현율-순위-15.0.0.3\">재현율 순위</a></span></li><li><span><a href=\"#정밀도-순위\" data-toc-modified-id=\"정밀도-순위-15.0.0.4\">정밀도 순위</a></span></li><li><span><a href=\"#특이도-순위\" data-toc-modified-id=\"특이도-순위-15.0.0.5\">특이도 순위</a></span></li><li><span><a href=\"#F1-Score-순위\" data-toc-modified-id=\"F1-Score-순위-15.0.0.6\">F1 Score 순위</a></span></li><li><span><a href=\"#Comment\" data-toc-modified-id=\"Comment-15.0.0.7\">Comment</a></span></li></ul></li></ul></li></ul></li></ul></div>"
   ]
  },
  {
   "cell_type": "code",
   "execution_count": 145,
   "id": "b104b03c",
   "metadata": {
    "ExecuteTime": {
     "end_time": "2021-08-28T14:14:20.006864Z",
     "start_time": "2021-08-28T14:14:19.922033Z"
    }
   },
   "outputs": [],
   "source": [
    "import pandas as pd\n",
    "import numpy as np\n",
    "\n",
    "import matplotlib.pyplot as plt\n",
    "import seaborn as sns\n",
    "%matplotlib inline\n",
    "plt.rcParams['axes.unicode_minus'] = False\n",
    "plt.rc('font', family='AppleGothic')\n",
    "\n",
    "import warnings\n",
    "warnings.filterwarnings('ignore')\n",
    "\n",
    "\n",
    "from sklearn.model_selection import train_test_split\n",
    "from sklearn.decomposition import PCA\n",
    "from sklearn.preprocessing import StandardScaler\n",
    "import statsmodels.api as sm\n",
    "from sklearn.model_selection import cross_val_score\n",
    "from sklearn.metrics import mean_absolute_error, mean_squared_error"
   ]
  },
  {
   "cell_type": "markdown",
   "id": "83adc463",
   "metadata": {},
   "source": [
    "- 데이터 표준화 이후, 주성분 분석을 실시하여 2차원(1 vs 2 주성분, 1 vs 3 주성분, …) 산점도를 그려라.(목표변수로 색 구분), + 주성분 naming\n",
    "- 데이터 : 유방암.CSV(변수: 31개, 자료 수: 320개)"
   ]
  },
  {
   "cell_type": "markdown",
   "id": "bdaea31d",
   "metadata": {},
   "source": [
    "radius : 반경, texture :gray-scale 값들의 표준편차, perimeter: 둘레, area : 면적, smoothness : 반경길이의 국소적 변화, compactness : 조그만 정도, concavity : 윤곽의 오목한 부분의 정도, points : 오목한 점의 수, symmetry : 대칭, dimension : 프랙탈 차원, _mean : 평균값, _se : 표준오차, _worst : 각 세포별 구분들에서 제일 큰 3개를 평균낸 값"
   ]
  },
  {
   "cell_type": "code",
   "execution_count": null,
   "id": "a6c9f872-9e19-47b1-8c0f-4c0b70dcf525",
   "metadata": {},
   "outputs": [],
   "source": []
  },
  {
   "cell_type": "markdown",
   "id": "ae52604f",
   "metadata": {},
   "source": [
    "# 1. Load data"
   ]
  },
  {
   "cell_type": "code",
   "execution_count": 218,
   "id": "07268db8",
   "metadata": {
    "ExecuteTime": {
     "end_time": "2021-08-28T15:14:33.610771Z",
     "start_time": "2021-08-28T15:14:33.571140Z"
    }
   },
   "outputs": [
    {
     "data": {
      "text/html": [
       "<div>\n",
       "<style scoped>\n",
       "    .dataframe tbody tr th:only-of-type {\n",
       "        vertical-align: middle;\n",
       "    }\n",
       "\n",
       "    .dataframe tbody tr th {\n",
       "        vertical-align: top;\n",
       "    }\n",
       "\n",
       "    .dataframe thead th {\n",
       "        text-align: right;\n",
       "    }\n",
       "</style>\n",
       "<table border=\"1\" class=\"dataframe\">\n",
       "  <thead>\n",
       "    <tr style=\"text-align: right;\">\n",
       "      <th></th>\n",
       "      <th>diagnosis</th>\n",
       "      <th>mean_radius</th>\n",
       "      <th>mean_texture</th>\n",
       "      <th>mean_perimeter</th>\n",
       "      <th>mean_area</th>\n",
       "      <th>mean_smoothness</th>\n",
       "      <th>mean_compactness</th>\n",
       "      <th>mean_concavity</th>\n",
       "      <th>mean_concave_points</th>\n",
       "      <th>mean_symmetry</th>\n",
       "      <th>...</th>\n",
       "      <th>worst_radius</th>\n",
       "      <th>worst_texture</th>\n",
       "      <th>worst_perimeter</th>\n",
       "      <th>worst_area</th>\n",
       "      <th>worst_smoothness</th>\n",
       "      <th>worst_compactness</th>\n",
       "      <th>worst_concavity</th>\n",
       "      <th>worst_concave_points</th>\n",
       "      <th>worst_symmetry</th>\n",
       "      <th>worst_fractal_dimension</th>\n",
       "    </tr>\n",
       "  </thead>\n",
       "  <tbody>\n",
       "    <tr>\n",
       "      <th>0</th>\n",
       "      <td>음성</td>\n",
       "      <td>15.12</td>\n",
       "      <td>16.68</td>\n",
       "      <td>98.78</td>\n",
       "      <td>716.6</td>\n",
       "      <td>0.08876</td>\n",
       "      <td>0.09588</td>\n",
       "      <td>0.07550</td>\n",
       "      <td>0.04079</td>\n",
       "      <td>0.1594</td>\n",
       "      <td>...</td>\n",
       "      <td>17.77</td>\n",
       "      <td>20.24</td>\n",
       "      <td>117.70</td>\n",
       "      <td>989.5</td>\n",
       "      <td>0.14910</td>\n",
       "      <td>0.3331</td>\n",
       "      <td>0.3327</td>\n",
       "      <td>0.12520</td>\n",
       "      <td>0.3415</td>\n",
       "      <td>0.09740</td>\n",
       "    </tr>\n",
       "    <tr>\n",
       "      <th>1</th>\n",
       "      <td>양성</td>\n",
       "      <td>10.80</td>\n",
       "      <td>9.71</td>\n",
       "      <td>68.77</td>\n",
       "      <td>357.6</td>\n",
       "      <td>0.09594</td>\n",
       "      <td>0.05736</td>\n",
       "      <td>0.02531</td>\n",
       "      <td>0.01698</td>\n",
       "      <td>0.1381</td>\n",
       "      <td>...</td>\n",
       "      <td>11.60</td>\n",
       "      <td>12.02</td>\n",
       "      <td>73.66</td>\n",
       "      <td>414.0</td>\n",
       "      <td>0.14360</td>\n",
       "      <td>0.1257</td>\n",
       "      <td>0.1047</td>\n",
       "      <td>0.04603</td>\n",
       "      <td>0.2090</td>\n",
       "      <td>0.07699</td>\n",
       "    </tr>\n",
       "    <tr>\n",
       "      <th>2</th>\n",
       "      <td>음성</td>\n",
       "      <td>18.31</td>\n",
       "      <td>18.58</td>\n",
       "      <td>118.60</td>\n",
       "      <td>1041.0</td>\n",
       "      <td>0.08588</td>\n",
       "      <td>0.08468</td>\n",
       "      <td>0.08169</td>\n",
       "      <td>0.05814</td>\n",
       "      <td>0.1621</td>\n",
       "      <td>...</td>\n",
       "      <td>21.31</td>\n",
       "      <td>26.36</td>\n",
       "      <td>139.20</td>\n",
       "      <td>1410.0</td>\n",
       "      <td>0.12340</td>\n",
       "      <td>0.2445</td>\n",
       "      <td>0.3538</td>\n",
       "      <td>0.15710</td>\n",
       "      <td>0.3206</td>\n",
       "      <td>0.06938</td>\n",
       "    </tr>\n",
       "    <tr>\n",
       "      <th>3</th>\n",
       "      <td>양성</td>\n",
       "      <td>14.92</td>\n",
       "      <td>14.93</td>\n",
       "      <td>96.45</td>\n",
       "      <td>686.9</td>\n",
       "      <td>0.08098</td>\n",
       "      <td>0.08549</td>\n",
       "      <td>0.05539</td>\n",
       "      <td>0.03221</td>\n",
       "      <td>0.1687</td>\n",
       "      <td>...</td>\n",
       "      <td>17.18</td>\n",
       "      <td>18.22</td>\n",
       "      <td>112.00</td>\n",
       "      <td>906.6</td>\n",
       "      <td>0.10650</td>\n",
       "      <td>0.2791</td>\n",
       "      <td>0.3151</td>\n",
       "      <td>0.11470</td>\n",
       "      <td>0.2688</td>\n",
       "      <td>0.08273</td>\n",
       "    </tr>\n",
       "    <tr>\n",
       "      <th>4</th>\n",
       "      <td>양성</td>\n",
       "      <td>12.89</td>\n",
       "      <td>13.12</td>\n",
       "      <td>81.89</td>\n",
       "      <td>515.9</td>\n",
       "      <td>0.06955</td>\n",
       "      <td>0.03729</td>\n",
       "      <td>0.02260</td>\n",
       "      <td>0.01171</td>\n",
       "      <td>0.1337</td>\n",
       "      <td>...</td>\n",
       "      <td>13.62</td>\n",
       "      <td>15.54</td>\n",
       "      <td>87.40</td>\n",
       "      <td>577.0</td>\n",
       "      <td>0.09616</td>\n",
       "      <td>0.1147</td>\n",
       "      <td>0.1186</td>\n",
       "      <td>0.05366</td>\n",
       "      <td>0.2309</td>\n",
       "      <td>0.06915</td>\n",
       "    </tr>\n",
       "  </tbody>\n",
       "</table>\n",
       "<p>5 rows × 31 columns</p>\n",
       "</div>"
      ],
      "text/plain": [
       "  diagnosis  mean_radius  mean_texture  mean_perimeter  mean_area  \\\n",
       "0        음성        15.12         16.68           98.78      716.6   \n",
       "1        양성        10.80          9.71           68.77      357.6   \n",
       "2        음성        18.31         18.58          118.60     1041.0   \n",
       "3        양성        14.92         14.93           96.45      686.9   \n",
       "4        양성        12.89         13.12           81.89      515.9   \n",
       "\n",
       "   mean_smoothness  mean_compactness  mean_concavity  mean_concave_points  \\\n",
       "0          0.08876           0.09588         0.07550              0.04079   \n",
       "1          0.09594           0.05736         0.02531              0.01698   \n",
       "2          0.08588           0.08468         0.08169              0.05814   \n",
       "3          0.08098           0.08549         0.05539              0.03221   \n",
       "4          0.06955           0.03729         0.02260              0.01171   \n",
       "\n",
       "   mean_symmetry  ...  worst_radius  worst_texture  worst_perimeter  \\\n",
       "0         0.1594  ...         17.77          20.24           117.70   \n",
       "1         0.1381  ...         11.60          12.02            73.66   \n",
       "2         0.1621  ...         21.31          26.36           139.20   \n",
       "3         0.1687  ...         17.18          18.22           112.00   \n",
       "4         0.1337  ...         13.62          15.54            87.40   \n",
       "\n",
       "   worst_area  worst_smoothness  worst_compactness  worst_concavity  \\\n",
       "0       989.5           0.14910             0.3331           0.3327   \n",
       "1       414.0           0.14360             0.1257           0.1047   \n",
       "2      1410.0           0.12340             0.2445           0.3538   \n",
       "3       906.6           0.10650             0.2791           0.3151   \n",
       "4       577.0           0.09616             0.1147           0.1186   \n",
       "\n",
       "   worst_concave_points  worst_symmetry  worst_fractal_dimension  \n",
       "0               0.12520          0.3415                  0.09740  \n",
       "1               0.04603          0.2090                  0.07699  \n",
       "2               0.15710          0.3206                  0.06938  \n",
       "3               0.11470          0.2688                  0.08273  \n",
       "4               0.05366          0.2309                  0.06915  \n",
       "\n",
       "[5 rows x 31 columns]"
      ]
     },
     "execution_count": 218,
     "metadata": {},
     "output_type": "execute_result"
    }
   ],
   "source": [
    "df = pd.read_csv('3data/유방암.csv', encoding='euc-kr')\n",
    "df.head()"
   ]
  },
  {
   "cell_type": "code",
   "execution_count": 219,
   "id": "568b3f9f",
   "metadata": {
    "ExecuteTime": {
     "end_time": "2021-08-28T15:14:34.139148Z",
     "start_time": "2021-08-28T15:14:34.132862Z"
    }
   },
   "outputs": [
    {
     "data": {
      "text/plain": [
       "(320, 31)"
      ]
     },
     "execution_count": 219,
     "metadata": {},
     "output_type": "execute_result"
    }
   ],
   "source": [
    "df.shape"
   ]
  },
  {
   "cell_type": "markdown",
   "id": "4e0c7348",
   "metadata": {},
   "source": [
    "- 관측치가 320개인데, 설명변수가 무려 30개다.\n",
    "    - **관측치가 엄청나게 희소하기 때문에, 차원축소 기법을 사용하여 설명변수의 갯수를 줄여줄 필요가 있어 보인다.**"
   ]
  },
  {
   "cell_type": "code",
   "execution_count": 220,
   "id": "8ee451a7",
   "metadata": {
    "ExecuteTime": {
     "end_time": "2021-08-28T15:14:34.744943Z",
     "start_time": "2021-08-28T15:14:34.734882Z"
    }
   },
   "outputs": [
    {
     "data": {
      "text/plain": [
       "0"
      ]
     },
     "execution_count": 220,
     "metadata": {},
     "output_type": "execute_result"
    }
   ],
   "source": [
    "# null 값은 없다.\n",
    "df.isnull().sum().sum()"
   ]
  },
  {
   "cell_type": "code",
   "execution_count": 221,
   "id": "8cd19783",
   "metadata": {
    "ExecuteTime": {
     "end_time": "2021-08-28T15:14:35.010643Z",
     "start_time": "2021-08-28T15:14:34.988370Z"
    }
   },
   "outputs": [
    {
     "name": "stdout",
     "output_type": "stream",
     "text": [
      "<class 'pandas.core.frame.DataFrame'>\n",
      "RangeIndex: 320 entries, 0 to 319\n",
      "Data columns (total 31 columns):\n",
      " #   Column                   Non-Null Count  Dtype  \n",
      "---  ------                   --------------  -----  \n",
      " 0   diagnosis                320 non-null    object \n",
      " 1   mean_radius              320 non-null    float64\n",
      " 2   mean_texture             320 non-null    float64\n",
      " 3   mean_perimeter           320 non-null    float64\n",
      " 4   mean_area                320 non-null    float64\n",
      " 5   mean_smoothness          320 non-null    float64\n",
      " 6   mean_compactness         320 non-null    float64\n",
      " 7   mean_concavity           320 non-null    float64\n",
      " 8   mean_concave_points      320 non-null    float64\n",
      " 9   mean_symmetry            320 non-null    float64\n",
      " 10  mean_fractal_dimension   320 non-null    float64\n",
      " 11  radius_error             320 non-null    float64\n",
      " 12  texture_error            320 non-null    float64\n",
      " 13  perimeter_error          320 non-null    float64\n",
      " 14  area_error               320 non-null    float64\n",
      " 15  smoothness_error         320 non-null    float64\n",
      " 16  compactness_error        320 non-null    float64\n",
      " 17  concavity_error          320 non-null    float64\n",
      " 18  concave_points_error     320 non-null    float64\n",
      " 19  symmetry_error           320 non-null    float64\n",
      " 20  fractal_dimension_error  320 non-null    float64\n",
      " 21  worst_radius             320 non-null    float64\n",
      " 22  worst_texture            320 non-null    float64\n",
      " 23  worst_perimeter          320 non-null    float64\n",
      " 24  worst_area               320 non-null    float64\n",
      " 25  worst_smoothness         320 non-null    float64\n",
      " 26  worst_compactness        320 non-null    float64\n",
      " 27  worst_concavity          320 non-null    float64\n",
      " 28  worst_concave_points     320 non-null    float64\n",
      " 29  worst_symmetry           320 non-null    float64\n",
      " 30  worst_fractal_dimension  320 non-null    float64\n",
      "dtypes: float64(30), object(1)\n",
      "memory usage: 77.6+ KB\n"
     ]
    }
   ],
   "source": [
    "df.info()"
   ]
  },
  {
   "cell_type": "code",
   "execution_count": 222,
   "id": "a90fa3c8",
   "metadata": {
    "ExecuteTime": {
     "end_time": "2021-08-28T15:14:35.233074Z",
     "start_time": "2021-08-28T15:14:35.190301Z"
    }
   },
   "outputs": [
    {
     "data": {
      "text/html": [
       "<div>\n",
       "<style scoped>\n",
       "    .dataframe tbody tr th:only-of-type {\n",
       "        vertical-align: middle;\n",
       "    }\n",
       "\n",
       "    .dataframe tbody tr th {\n",
       "        vertical-align: top;\n",
       "    }\n",
       "\n",
       "    .dataframe thead th {\n",
       "        text-align: right;\n",
       "    }\n",
       "</style>\n",
       "<table border=\"1\" class=\"dataframe\">\n",
       "  <thead>\n",
       "    <tr style=\"text-align: right;\">\n",
       "      <th></th>\n",
       "      <th>mean_radius</th>\n",
       "      <th>mean_texture</th>\n",
       "      <th>mean_perimeter</th>\n",
       "      <th>mean_area</th>\n",
       "      <th>mean_smoothness</th>\n",
       "      <th>mean_compactness</th>\n",
       "      <th>mean_concavity</th>\n",
       "      <th>mean_concave_points</th>\n",
       "      <th>mean_symmetry</th>\n",
       "      <th>mean_fractal_dimension</th>\n",
       "      <th>...</th>\n",
       "      <th>worst_radius</th>\n",
       "      <th>worst_texture</th>\n",
       "      <th>worst_perimeter</th>\n",
       "      <th>worst_area</th>\n",
       "      <th>worst_smoothness</th>\n",
       "      <th>worst_compactness</th>\n",
       "      <th>worst_concavity</th>\n",
       "      <th>worst_concave_points</th>\n",
       "      <th>worst_symmetry</th>\n",
       "      <th>worst_fractal_dimension</th>\n",
       "    </tr>\n",
       "  </thead>\n",
       "  <tbody>\n",
       "    <tr>\n",
       "      <th>count</th>\n",
       "      <td>320.000000</td>\n",
       "      <td>320.000000</td>\n",
       "      <td>320.000000</td>\n",
       "      <td>320.000000</td>\n",
       "      <td>320.000000</td>\n",
       "      <td>320.000000</td>\n",
       "      <td>320.000000</td>\n",
       "      <td>320.000000</td>\n",
       "      <td>320.000000</td>\n",
       "      <td>320.000000</td>\n",
       "      <td>...</td>\n",
       "      <td>320.000000</td>\n",
       "      <td>320.000000</td>\n",
       "      <td>320.000000</td>\n",
       "      <td>320.000000</td>\n",
       "      <td>320.000000</td>\n",
       "      <td>320.000000</td>\n",
       "      <td>320.000000</td>\n",
       "      <td>320.000000</td>\n",
       "      <td>320.000000</td>\n",
       "      <td>320.000000</td>\n",
       "    </tr>\n",
       "    <tr>\n",
       "      <th>mean</th>\n",
       "      <td>15.709703</td>\n",
       "      <td>20.323250</td>\n",
       "      <td>103.050469</td>\n",
       "      <td>807.735937</td>\n",
       "      <td>0.099358</td>\n",
       "      <td>0.123252</td>\n",
       "      <td>0.122144</td>\n",
       "      <td>0.066977</td>\n",
       "      <td>0.186772</td>\n",
       "      <td>0.062679</td>\n",
       "      <td>...</td>\n",
       "      <td>18.542406</td>\n",
       "      <td>27.225594</td>\n",
       "      <td>123.221625</td>\n",
       "      <td>1133.463438</td>\n",
       "      <td>0.137678</td>\n",
       "      <td>0.308713</td>\n",
       "      <td>0.352927</td>\n",
       "      <td>0.145487</td>\n",
       "      <td>0.305097</td>\n",
       "      <td>0.087156</td>\n",
       "    </tr>\n",
       "    <tr>\n",
       "      <th>std</th>\n",
       "      <td>3.745788</td>\n",
       "      <td>4.150729</td>\n",
       "      <td>25.835984</td>\n",
       "      <td>391.969297</td>\n",
       "      <td>0.014249</td>\n",
       "      <td>0.057207</td>\n",
       "      <td>0.084822</td>\n",
       "      <td>0.041732</td>\n",
       "      <td>0.027485</td>\n",
       "      <td>0.007190</td>\n",
       "      <td>...</td>\n",
       "      <td>5.182210</td>\n",
       "      <td>6.050052</td>\n",
       "      <td>35.960154</td>\n",
       "      <td>640.979627</td>\n",
       "      <td>0.023316</td>\n",
       "      <td>0.175225</td>\n",
       "      <td>0.214449</td>\n",
       "      <td>0.067292</td>\n",
       "      <td>0.069367</td>\n",
       "      <td>0.020076</td>\n",
       "    </tr>\n",
       "    <tr>\n",
       "      <th>min</th>\n",
       "      <td>7.691000</td>\n",
       "      <td>9.710000</td>\n",
       "      <td>47.920000</td>\n",
       "      <td>170.400000</td>\n",
       "      <td>0.052630</td>\n",
       "      <td>0.026750</td>\n",
       "      <td>0.000000</td>\n",
       "      <td>0.000000</td>\n",
       "      <td>0.127400</td>\n",
       "      <td>0.049960</td>\n",
       "      <td>...</td>\n",
       "      <td>8.678000</td>\n",
       "      <td>12.020000</td>\n",
       "      <td>54.490000</td>\n",
       "      <td>223.600000</td>\n",
       "      <td>0.085670</td>\n",
       "      <td>0.050360</td>\n",
       "      <td>0.000000</td>\n",
       "      <td>0.000000</td>\n",
       "      <td>0.156500</td>\n",
       "      <td>0.055040</td>\n",
       "    </tr>\n",
       "    <tr>\n",
       "      <th>25%</th>\n",
       "      <td>13.050000</td>\n",
       "      <td>17.460000</td>\n",
       "      <td>84.845000</td>\n",
       "      <td>523.900000</td>\n",
       "      <td>0.090240</td>\n",
       "      <td>0.081132</td>\n",
       "      <td>0.052770</td>\n",
       "      <td>0.029538</td>\n",
       "      <td>0.166900</td>\n",
       "      <td>0.057450</td>\n",
       "      <td>...</td>\n",
       "      <td>14.657500</td>\n",
       "      <td>23.275000</td>\n",
       "      <td>95.525000</td>\n",
       "      <td>653.525000</td>\n",
       "      <td>0.122675</td>\n",
       "      <td>0.180275</td>\n",
       "      <td>0.182950</td>\n",
       "      <td>0.090868</td>\n",
       "      <td>0.258700</td>\n",
       "      <td>0.073475</td>\n",
       "    </tr>\n",
       "    <tr>\n",
       "      <th>50%</th>\n",
       "      <td>15.125000</td>\n",
       "      <td>20.215000</td>\n",
       "      <td>100.100000</td>\n",
       "      <td>713.050000</td>\n",
       "      <td>0.098570</td>\n",
       "      <td>0.115300</td>\n",
       "      <td>0.110850</td>\n",
       "      <td>0.065265</td>\n",
       "      <td>0.184650</td>\n",
       "      <td>0.061445</td>\n",
       "      <td>...</td>\n",
       "      <td>17.730000</td>\n",
       "      <td>26.880000</td>\n",
       "      <td>118.850000</td>\n",
       "      <td>969.200000</td>\n",
       "      <td>0.138050</td>\n",
       "      <td>0.276950</td>\n",
       "      <td>0.339750</td>\n",
       "      <td>0.152700</td>\n",
       "      <td>0.295800</td>\n",
       "      <td>0.082640</td>\n",
       "    </tr>\n",
       "    <tr>\n",
       "      <th>75%</th>\n",
       "      <td>18.520000</td>\n",
       "      <td>22.500000</td>\n",
       "      <td>121.550000</td>\n",
       "      <td>1075.250000</td>\n",
       "      <td>0.108050</td>\n",
       "      <td>0.155650</td>\n",
       "      <td>0.169550</td>\n",
       "      <td>0.091777</td>\n",
       "      <td>0.202700</td>\n",
       "      <td>0.066705</td>\n",
       "      <td>...</td>\n",
       "      <td>22.420000</td>\n",
       "      <td>30.937500</td>\n",
       "      <td>148.850000</td>\n",
       "      <td>1538.500000</td>\n",
       "      <td>0.151200</td>\n",
       "      <td>0.405675</td>\n",
       "      <td>0.483675</td>\n",
       "      <td>0.197100</td>\n",
       "      <td>0.328125</td>\n",
       "      <td>0.097745</td>\n",
       "    </tr>\n",
       "    <tr>\n",
       "      <th>max</th>\n",
       "      <td>28.110000</td>\n",
       "      <td>39.280000</td>\n",
       "      <td>188.500000</td>\n",
       "      <td>2501.000000</td>\n",
       "      <td>0.163400</td>\n",
       "      <td>0.345400</td>\n",
       "      <td>0.426800</td>\n",
       "      <td>0.201200</td>\n",
       "      <td>0.304000</td>\n",
       "      <td>0.097440</td>\n",
       "      <td>...</td>\n",
       "      <td>36.040000</td>\n",
       "      <td>49.540000</td>\n",
       "      <td>251.200000</td>\n",
       "      <td>4254.000000</td>\n",
       "      <td>0.222600</td>\n",
       "      <td>1.058000</td>\n",
       "      <td>1.170000</td>\n",
       "      <td>0.291000</td>\n",
       "      <td>0.663800</td>\n",
       "      <td>0.207500</td>\n",
       "    </tr>\n",
       "  </tbody>\n",
       "</table>\n",
       "<p>8 rows × 30 columns</p>\n",
       "</div>"
      ],
      "text/plain": [
       "       mean_radius  mean_texture  mean_perimeter    mean_area  \\\n",
       "count   320.000000    320.000000      320.000000   320.000000   \n",
       "mean     15.709703     20.323250      103.050469   807.735937   \n",
       "std       3.745788      4.150729       25.835984   391.969297   \n",
       "min       7.691000      9.710000       47.920000   170.400000   \n",
       "25%      13.050000     17.460000       84.845000   523.900000   \n",
       "50%      15.125000     20.215000      100.100000   713.050000   \n",
       "75%      18.520000     22.500000      121.550000  1075.250000   \n",
       "max      28.110000     39.280000      188.500000  2501.000000   \n",
       "\n",
       "       mean_smoothness  mean_compactness  mean_concavity  mean_concave_points  \\\n",
       "count       320.000000        320.000000      320.000000           320.000000   \n",
       "mean          0.099358          0.123252        0.122144             0.066977   \n",
       "std           0.014249          0.057207        0.084822             0.041732   \n",
       "min           0.052630          0.026750        0.000000             0.000000   \n",
       "25%           0.090240          0.081132        0.052770             0.029538   \n",
       "50%           0.098570          0.115300        0.110850             0.065265   \n",
       "75%           0.108050          0.155650        0.169550             0.091777   \n",
       "max           0.163400          0.345400        0.426800             0.201200   \n",
       "\n",
       "       mean_symmetry  mean_fractal_dimension  ...  worst_radius  \\\n",
       "count     320.000000              320.000000  ...    320.000000   \n",
       "mean        0.186772                0.062679  ...     18.542406   \n",
       "std         0.027485                0.007190  ...      5.182210   \n",
       "min         0.127400                0.049960  ...      8.678000   \n",
       "25%         0.166900                0.057450  ...     14.657500   \n",
       "50%         0.184650                0.061445  ...     17.730000   \n",
       "75%         0.202700                0.066705  ...     22.420000   \n",
       "max         0.304000                0.097440  ...     36.040000   \n",
       "\n",
       "       worst_texture  worst_perimeter   worst_area  worst_smoothness  \\\n",
       "count     320.000000       320.000000   320.000000        320.000000   \n",
       "mean       27.225594       123.221625  1133.463438          0.137678   \n",
       "std         6.050052        35.960154   640.979627          0.023316   \n",
       "min        12.020000        54.490000   223.600000          0.085670   \n",
       "25%        23.275000        95.525000   653.525000          0.122675   \n",
       "50%        26.880000       118.850000   969.200000          0.138050   \n",
       "75%        30.937500       148.850000  1538.500000          0.151200   \n",
       "max        49.540000       251.200000  4254.000000          0.222600   \n",
       "\n",
       "       worst_compactness  worst_concavity  worst_concave_points  \\\n",
       "count         320.000000       320.000000            320.000000   \n",
       "mean            0.308713         0.352927              0.145487   \n",
       "std             0.175225         0.214449              0.067292   \n",
       "min             0.050360         0.000000              0.000000   \n",
       "25%             0.180275         0.182950              0.090868   \n",
       "50%             0.276950         0.339750              0.152700   \n",
       "75%             0.405675         0.483675              0.197100   \n",
       "max             1.058000         1.170000              0.291000   \n",
       "\n",
       "       worst_symmetry  worst_fractal_dimension  \n",
       "count      320.000000               320.000000  \n",
       "mean         0.305097                 0.087156  \n",
       "std          0.069367                 0.020076  \n",
       "min          0.156500                 0.055040  \n",
       "25%          0.258700                 0.073475  \n",
       "50%          0.295800                 0.082640  \n",
       "75%          0.328125                 0.097745  \n",
       "max          0.663800                 0.207500  \n",
       "\n",
       "[8 rows x 30 columns]"
      ]
     },
     "execution_count": 222,
     "metadata": {},
     "output_type": "execute_result"
    }
   ],
   "source": [
    "df.describe()"
   ]
  },
  {
   "cell_type": "code",
   "execution_count": 223,
   "id": "30ee3daa",
   "metadata": {
    "ExecuteTime": {
     "end_time": "2021-08-28T15:14:35.603843Z",
     "start_time": "2021-08-28T15:14:35.514695Z"
    }
   },
   "outputs": [
    {
     "data": {
      "image/png": "[encoded data removed]",
      "text/plain": [
       "<Figure size 360x360 with 1 Axes>"
      ]
     },
     "metadata": {
      "needs_background": "light"
     },
     "output_type": "display_data"
    },
    {
     "name": "stdout",
     "output_type": "stream",
     "text": [
      "음성    212\n",
      "양성    108\n",
      "Name: diagnosis, dtype: int64\n"
     ]
    }
   ],
   "source": [
    "plt.figure(figsize=(5,5))\n",
    "sns.countplot('diagnosis', data=df)\n",
    "plt.show()\n",
    "\n",
    "print(df['diagnosis'].value_counts())"
   ]
  },
  {
   "cell_type": "markdown",
   "id": "c7a8aa03",
   "metadata": {},
   "source": [
    "- 음성이 212개, 양성이 108개로 목표변수간 관측치 수가 약 2배 정도 차이 난다.\n",
    "    - train, test set 분리할 때 stratify해야될 수도 있겠다."
   ]
  },
  {
   "cell_type": "code",
   "execution_count": null,
   "id": "8bd52e10",
   "metadata": {},
   "outputs": [],
   "source": []
  },
  {
   "cell_type": "markdown",
   "id": "9f44f135",
   "metadata": {},
   "source": [
    "# 2. 데이터 스플릿 / 전처리\n",
    "- train test split시 **class imbalance problem을 고려해서 stratify=y**로 설정한다.\n",
    "- pca가 편향되지 않고 더 높은 성능을 발휘하려면, feature scaling이 되어 있어야 한다.\n",
    "    - 따라서 **설명변수들을 StandardScaling** 해준다.\n",
    "    - train/test split의 의미를 명확히 하기 위해, X_train은 fit_transform해주고, X_test는 transform만 해준다. ((train set을 기반으로 fitting한 StandardScaler를 test set에도 그대로 적용한다.))\n",
    "- 목표변수가 str('양성', '음성')이기 때문에, 이걸 양성=1, 음성=0으로 정수 라벨링 해준다."
   ]
  },
  {
   "cell_type": "code",
   "execution_count": 224,
   "id": "a93f0add",
   "metadata": {
    "ExecuteTime": {
     "end_time": "2021-08-28T15:14:36.220236Z",
     "start_time": "2021-08-28T15:14:36.205820Z"
    }
   },
   "outputs": [
    {
     "name": "stdout",
     "output_type": "stream",
     "text": [
      "(224, 30) (96, 30) (224,) (96,)\n"
     ]
    }
   ],
   "source": [
    "X = df.drop('diagnosis', axis=1)\n",
    "y = df['diagnosis']\n",
    "\n",
    "X_train, X_test, y_train, y_test =\\\n",
    "        train_test_split(X, y, test_size=0.3, stratify=y)\n",
    "\n",
    "print(X_train.shape, X_test.shape, y_train.shape, y_test.shape)"
   ]
  },
  {
   "cell_type": "code",
   "execution_count": 225,
   "id": "d1c665c2",
   "metadata": {
    "ExecuteTime": {
     "end_time": "2021-08-28T15:14:36.448494Z",
     "start_time": "2021-08-28T15:14:36.434260Z"
    }
   },
   "outputs": [],
   "source": [
    "# Standard Scaler\n",
    "stscl = StandardScaler()\n",
    "\n",
    "X_train[:] = stscl.fit_transform(X_train)\n",
    "X_test[:] = stscl.transform(X_test)"
   ]
  },
  {
   "cell_type": "code",
   "execution_count": 226,
   "id": "10b61068",
   "metadata": {
    "ExecuteTime": {
     "end_time": "2021-08-28T15:14:36.658209Z",
     "start_time": "2021-08-28T15:14:36.650690Z"
    }
   },
   "outputs": [],
   "source": [
    "# 목표변수 라벨링\n",
    "y_train = y_train.map({'양성': 1, '음성': 0})\n",
    "y_test = y_test.map({'양성': 1, '음성': 0})"
   ]
  },
  {
   "cell_type": "code",
   "execution_count": null,
   "id": "db5853d9",
   "metadata": {},
   "outputs": [],
   "source": []
  },
  {
   "cell_type": "markdown",
   "id": "ee5acc6a",
   "metadata": {},
   "source": [
    "# 3. EDA"
   ]
  },
  {
   "cell_type": "markdown",
   "id": "f566b3ba",
   "metadata": {},
   "source": [
    "## 3-1. 다중회귀 모델을 구현해서 coeff p-value를 확인해본다"
   ]
  },
  {
   "cell_type": "code",
   "execution_count": 227,
   "id": "44bc0de8",
   "metadata": {
    "ExecuteTime": {
     "end_time": "2021-08-28T15:14:37.541216Z",
     "start_time": "2021-08-28T15:14:37.501981Z"
    }
   },
   "outputs": [
    {
     "data": {
      "text/html": [
       "<table class=\"simpletable\">\n",
       "<caption>OLS Regression Results</caption>\n",
       "<tr>\n",
       "  <th>Dep. Variable:</th>            <td>y</td>        <th>  R-squared:         </th> <td>   0.763</td>\n",
       "</tr>\n",
       "<tr>\n",
       "  <th>Model:</th>                   <td>OLS</td>       <th>  Adj. R-squared:    </th> <td>   0.726</td>\n",
       "</tr>\n",
       "<tr>\n",
       "  <th>Method:</th>             <td>Least Squares</td>  <th>  F-statistic:       </th> <td>   20.67</td>\n",
       "</tr>\n",
       "<tr>\n",
       "  <th>Date:</th>             <td>Sun, 29 Aug 2021</td> <th>  Prob (F-statistic):</th> <td>2.46e-45</td>\n",
       "</tr>\n",
       "<tr>\n",
       "  <th>Time:</th>                 <td>00:14:37</td>     <th>  Log-Likelihood:    </th> <td>  10.717</td>\n",
       "</tr>\n",
       "<tr>\n",
       "  <th>No. Observations:</th>      <td>   224</td>      <th>  AIC:               </th> <td>   40.57</td>\n",
       "</tr>\n",
       "<tr>\n",
       "  <th>Df Residuals:</th>          <td>   193</td>      <th>  BIC:               </th> <td>   146.3</td>\n",
       "</tr>\n",
       "<tr>\n",
       "  <th>Df Model:</th>              <td>    30</td>      <th>                     </th>     <td> </td>   \n",
       "</tr>\n",
       "<tr>\n",
       "  <th>Covariance Type:</th>      <td>nonrobust</td>    <th>                     </th>     <td> </td>   \n",
       "</tr>\n",
       "</table>\n",
       "<table class=\"simpletable\">\n",
       "<tr>\n",
       "             <td></td>                <th>coef</th>     <th>std err</th>      <th>t</th>      <th>P>|t|</th>  <th>[0.025</th>    <th>0.975]</th>  \n",
       "</tr>\n",
       "<tr>\n",
       "  <th>const</th>                   <td>    0.3393</td> <td>    0.017</td> <td>   20.434</td> <td> 0.000</td> <td>    0.307</td> <td>    0.372</td>\n",
       "</tr>\n",
       "<tr>\n",
       "  <th>mean_radius</th>             <td>    0.2736</td> <td>    0.971</td> <td>    0.282</td> <td> 0.778</td> <td>   -1.641</td> <td>    2.188</td>\n",
       "</tr>\n",
       "<tr>\n",
       "  <th>mean_texture</th>            <td>    0.0399</td> <td>    0.059</td> <td>    0.672</td> <td> 0.502</td> <td>   -0.077</td> <td>    0.157</td>\n",
       "</tr>\n",
       "<tr>\n",
       "  <th>mean_perimeter</th>          <td>   -0.5934</td> <td>    0.945</td> <td>   -0.628</td> <td> 0.531</td> <td>   -2.458</td> <td>    1.271</td>\n",
       "</tr>\n",
       "<tr>\n",
       "  <th>mean_area</th>               <td>    0.1409</td> <td>    0.301</td> <td>    0.467</td> <td> 0.641</td> <td>   -0.454</td> <td>    0.735</td>\n",
       "</tr>\n",
       "<tr>\n",
       "  <th>mean_smoothness</th>         <td>    0.0227</td> <td>    0.053</td> <td>    0.427</td> <td> 0.670</td> <td>   -0.082</td> <td>    0.127</td>\n",
       "</tr>\n",
       "<tr>\n",
       "  <th>mean_compactness</th>        <td>    0.1610</td> <td>    0.127</td> <td>    1.264</td> <td> 0.208</td> <td>   -0.090</td> <td>    0.412</td>\n",
       "</tr>\n",
       "<tr>\n",
       "  <th>mean_concavity</th>          <td>   -0.0435</td> <td>    0.134</td> <td>   -0.325</td> <td> 0.746</td> <td>   -0.308</td> <td>    0.221</td>\n",
       "</tr>\n",
       "<tr>\n",
       "  <th>mean_concave_points</th>     <td>   -0.0629</td> <td>    0.133</td> <td>   -0.474</td> <td> 0.636</td> <td>   -0.325</td> <td>    0.199</td>\n",
       "</tr>\n",
       "<tr>\n",
       "  <th>mean_symmetry</th>           <td>    0.0330</td> <td>    0.037</td> <td>    0.894</td> <td> 0.372</td> <td>   -0.040</td> <td>    0.106</td>\n",
       "</tr>\n",
       "<tr>\n",
       "  <th>mean_fractal_dimension</th>  <td>    0.0169</td> <td>    0.075</td> <td>    0.227</td> <td> 0.821</td> <td>   -0.130</td> <td>    0.164</td>\n",
       "</tr>\n",
       "<tr>\n",
       "  <th>radius_error</th>            <td>   -0.2965</td> <td>    0.154</td> <td>   -1.926</td> <td> 0.056</td> <td>   -0.600</td> <td>    0.007</td>\n",
       "</tr>\n",
       "<tr>\n",
       "  <th>texture_error</th>           <td>   -0.0067</td> <td>    0.041</td> <td>   -0.163</td> <td> 0.870</td> <td>   -0.088</td> <td>    0.074</td>\n",
       "</tr>\n",
       "<tr>\n",
       "  <th>perimeter_error</th>         <td>    0.1247</td> <td>    0.158</td> <td>    0.790</td> <td> 0.431</td> <td>   -0.187</td> <td>    0.436</td>\n",
       "</tr>\n",
       "<tr>\n",
       "  <th>area_error</th>              <td>    0.0584</td> <td>    0.120</td> <td>    0.486</td> <td> 0.627</td> <td>   -0.179</td> <td>    0.295</td>\n",
       "</tr>\n",
       "<tr>\n",
       "  <th>smoothness_error</th>        <td>   -0.0406</td> <td>    0.033</td> <td>   -1.246</td> <td> 0.214</td> <td>   -0.105</td> <td>    0.024</td>\n",
       "</tr>\n",
       "<tr>\n",
       "  <th>compactness_error</th>       <td>   -0.0251</td> <td>    0.080</td> <td>   -0.313</td> <td> 0.755</td> <td>   -0.183</td> <td>    0.133</td>\n",
       "</tr>\n",
       "<tr>\n",
       "  <th>concavity_error</th>         <td>    0.0580</td> <td>    0.092</td> <td>    0.627</td> <td> 0.531</td> <td>   -0.124</td> <td>    0.240</td>\n",
       "</tr>\n",
       "<tr>\n",
       "  <th>concave_points_error</th>    <td>   -0.0678</td> <td>    0.065</td> <td>   -1.048</td> <td> 0.296</td> <td>   -0.195</td> <td>    0.060</td>\n",
       "</tr>\n",
       "<tr>\n",
       "  <th>symmetry_error</th>          <td>    0.0602</td> <td>    0.039</td> <td>    1.525</td> <td> 0.129</td> <td>   -0.018</td> <td>    0.138</td>\n",
       "</tr>\n",
       "<tr>\n",
       "  <th>fractal_dimension_error</th> <td>    0.0167</td> <td>    0.061</td> <td>    0.275</td> <td> 0.783</td> <td>   -0.103</td> <td>    0.136</td>\n",
       "</tr>\n",
       "<tr>\n",
       "  <th>worst_radius</th>            <td>   -0.4854</td> <td>    0.415</td> <td>   -1.168</td> <td> 0.244</td> <td>   -1.305</td> <td>    0.334</td>\n",
       "</tr>\n",
       "<tr>\n",
       "  <th>worst_texture</th>           <td>   -0.1304</td> <td>    0.079</td> <td>   -1.652</td> <td> 0.100</td> <td>   -0.286</td> <td>    0.025</td>\n",
       "</tr>\n",
       "<tr>\n",
       "  <th>worst_perimeter</th>         <td>    0.0294</td> <td>    0.276</td> <td>    0.106</td> <td> 0.915</td> <td>   -0.516</td> <td>    0.575</td>\n",
       "</tr>\n",
       "<tr>\n",
       "  <th>worst_area</th>              <td>    0.5003</td> <td>    0.290</td> <td>    1.727</td> <td> 0.086</td> <td>   -0.071</td> <td>    1.072</td>\n",
       "</tr>\n",
       "<tr>\n",
       "  <th>worst_smoothness</th>        <td>   -0.0771</td> <td>    0.057</td> <td>   -1.353</td> <td> 0.178</td> <td>   -0.189</td> <td>    0.035</td>\n",
       "</tr>\n",
       "<tr>\n",
       "  <th>worst_compactness</th>       <td>    0.0522</td> <td>    0.115</td> <td>    0.453</td> <td> 0.651</td> <td>   -0.175</td> <td>    0.279</td>\n",
       "</tr>\n",
       "<tr>\n",
       "  <th>worst_concavity</th>         <td>   -0.0473</td> <td>    0.101</td> <td>   -0.469</td> <td> 0.639</td> <td>   -0.246</td> <td>    0.152</td>\n",
       "</tr>\n",
       "<tr>\n",
       "  <th>worst_concave_points</th>    <td>   -0.0407</td> <td>    0.102</td> <td>   -0.397</td> <td> 0.691</td> <td>   -0.243</td> <td>    0.161</td>\n",
       "</tr>\n",
       "<tr>\n",
       "  <th>worst_symmetry</th>          <td>   -0.1184</td> <td>    0.054</td> <td>   -2.206</td> <td> 0.029</td> <td>   -0.224</td> <td>   -0.013</td>\n",
       "</tr>\n",
       "<tr>\n",
       "  <th>worst_fractal_dimension</th> <td>   -0.0957</td> <td>    0.090</td> <td>   -1.061</td> <td> 0.290</td> <td>   -0.274</td> <td>    0.082</td>\n",
       "</tr>\n",
       "</table>\n",
       "<table class=\"simpletable\">\n",
       "<tr>\n",
       "  <th>Omnibus:</th>       <td> 0.500</td> <th>  Durbin-Watson:     </th> <td>   2.167</td>\n",
       "</tr>\n",
       "<tr>\n",
       "  <th>Prob(Omnibus):</th> <td> 0.779</td> <th>  Jarque-Bera (JB):  </th> <td>   0.636</td>\n",
       "</tr>\n",
       "<tr>\n",
       "  <th>Skew:</th>          <td>-0.054</td> <th>  Prob(JB):          </th> <td>   0.728</td>\n",
       "</tr>\n",
       "<tr>\n",
       "  <th>Kurtosis:</th>      <td> 2.762</td> <th>  Cond. No.          </th> <td>    290.</td>\n",
       "</tr>\n",
       "</table><br/><br/>Notes:<br/>[1] Standard Errors assume that the covariance matrix of the errors is correctly specified."
      ],
      "text/plain": [
       "<class 'statsmodels.iolib.summary.Summary'>\n",
       "\"\"\"\n",
       "                            OLS Regression Results                            \n",
       "==============================================================================\n",
       "Dep. Variable:                      y   R-squared:                       0.763\n",
       "Model:                            OLS   Adj. R-squared:                  0.726\n",
       "Method:                 Least Squares   F-statistic:                     20.67\n",
       "Date:                Sun, 29 Aug 2021   Prob (F-statistic):           2.46e-45\n",
       "Time:                        00:14:37   Log-Likelihood:                 10.717\n",
       "No. Observations:                 224   AIC:                             40.57\n",
       "Df Residuals:                     193   BIC:                             146.3\n",
       "Df Model:                          30                                         \n",
       "Covariance Type:            nonrobust                                         \n",
       "===========================================================================================\n",
       "                              coef    std err          t      P>|t|      [0.025      0.975]\n",
       "-------------------------------------------------------------------------------------------\n",
       "const                       0.3393      0.017     20.434      0.000       0.307       0.372\n",
       "mean_radius                 0.2736      0.971      0.282      0.778      -1.641       2.188\n",
       "mean_texture                0.0399      0.059      0.672      0.502      -0.077       0.157\n",
       "mean_perimeter             -0.5934      0.945     -0.628      0.531      -2.458       1.271\n",
       "mean_area                   0.1409      0.301      0.467      0.641      -0.454       0.735\n",
       "mean_smoothness             0.0227      0.053      0.427      0.670      -0.082       0.127\n",
       "mean_compactness            0.1610      0.127      1.264      0.208      -0.090       0.412\n",
       "mean_concavity             -0.0435      0.134     -0.325      0.746      -0.308       0.221\n",
       "mean_concave_points        -0.0629      0.133     -0.474      0.636      -0.325       0.199\n",
       "mean_symmetry               0.0330      0.037      0.894      0.372      -0.040       0.106\n",
       "mean_fractal_dimension      0.0169      0.075      0.227      0.821      -0.130       0.164\n",
       "radius_error               -0.2965      0.154     -1.926      0.056      -0.600       0.007\n",
       "texture_error              -0.0067      0.041     -0.163      0.870      -0.088       0.074\n",
       "perimeter_error             0.1247      0.158      0.790      0.431      -0.187       0.436\n",
       "area_error                  0.0584      0.120      0.486      0.627      -0.179       0.295\n",
       "smoothness_error           -0.0406      0.033     -1.246      0.214      -0.105       0.024\n",
       "compactness_error          -0.0251      0.080     -0.313      0.755      -0.183       0.133\n",
       "concavity_error             0.0580      0.092      0.627      0.531      -0.124       0.240\n",
       "concave_points_error       -0.0678      0.065     -1.048      0.296      -0.195       0.060\n",
       "symmetry_error              0.0602      0.039      1.525      0.129      -0.018       0.138\n",
       "fractal_dimension_error     0.0167      0.061      0.275      0.783      -0.103       0.136\n",
       "worst_radius               -0.4854      0.415     -1.168      0.244      -1.305       0.334\n",
       "worst_texture              -0.1304      0.079     -1.652      0.100      -0.286       0.025\n",
       "worst_perimeter             0.0294      0.276      0.106      0.915      -0.516       0.575\n",
       "worst_area                  0.5003      0.290      1.727      0.086      -0.071       1.072\n",
       "worst_smoothness           -0.0771      0.057     -1.353      0.178      -0.189       0.035\n",
       "worst_compactness           0.0522      0.115      0.453      0.651      -0.175       0.279\n",
       "worst_concavity            -0.0473      0.101     -0.469      0.639      -0.246       0.152\n",
       "worst_concave_points       -0.0407      0.102     -0.397      0.691      -0.243       0.161\n",
       "worst_symmetry             -0.1184      0.054     -2.206      0.029      -0.224      -0.013\n",
       "worst_fractal_dimension    -0.0957      0.090     -1.061      0.290      -0.274       0.082\n",
       "==============================================================================\n",
       "Omnibus:                        0.500   Durbin-Watson:                   2.167\n",
       "Prob(Omnibus):                  0.779   Jarque-Bera (JB):                0.636\n",
       "Skew:                          -0.054   Prob(JB):                        0.728\n",
       "Kurtosis:                       2.762   Cond. No.                         290.\n",
       "==============================================================================\n",
       "\n",
       "Notes:\n",
       "[1] Standard Errors assume that the covariance matrix of the errors is correctly specified.\n",
       "\"\"\""
      ]
     },
     "execution_count": 227,
     "metadata": {},
     "output_type": "execute_result"
    }
   ],
   "source": [
    "X_train_const = sm.add_constant(X_train)\n",
    "\n",
    "lm = sm.OLS(y_train.values, X_train_const)\n",
    "lm = lm.fit()\n",
    "lm.summary()"
   ]
  },
  {
   "cell_type": "markdown",
   "id": "285aacae",
   "metadata": {},
   "source": [
    "> 30개 설명변수를 이용해 구현한 다중회귀모델은 R^2가 0.8, Adj R^2가 0.77이 나온다.<br>\n",
    "\n",
    "> **워낙 데이터셋이 차원이 크고 관측치가 희소하기 때문에, 총 30개 설명변수들 중 p-value가 0.05를 넘는 변수가 10개가 안 된다.** => 이것만으로도 차원축소가 필요한 데이터라는 생각이 들지만, 변수간 다중공선성이 크게 나타나는지까지 확인해보려고 한다. 만약 VIF가 아주 높다면, 더욱이 변수 개수를 줄여야 한다는 의미일 것이다."
   ]
  },
  {
   "cell_type": "markdown",
   "id": "0ace515e",
   "metadata": {},
   "source": [
    "## 3-2. 변수간 다중공선성 확인 (VIF)"
   ]
  },
  {
   "cell_type": "code",
   "execution_count": 228,
   "id": "ecdb5e05",
   "metadata": {
    "ExecuteTime": {
     "end_time": "2021-08-28T15:14:38.181472Z",
     "start_time": "2021-08-28T15:14:38.138651Z"
    }
   },
   "outputs": [
    {
     "data": {
      "text/html": [
       "<div>\n",
       "<style scoped>\n",
       "    .dataframe tbody tr th:only-of-type {\n",
       "        vertical-align: middle;\n",
       "    }\n",
       "\n",
       "    .dataframe tbody tr th {\n",
       "        vertical-align: top;\n",
       "    }\n",
       "\n",
       "    .dataframe thead th {\n",
       "        text-align: right;\n",
       "    }\n",
       "</style>\n",
       "<table border=\"1\" class=\"dataframe\">\n",
       "  <thead>\n",
       "    <tr style=\"text-align: right;\">\n",
       "      <th></th>\n",
       "      <th>VIF Factor</th>\n",
       "      <th>features</th>\n",
       "    </tr>\n",
       "  </thead>\n",
       "  <tbody>\n",
       "    <tr>\n",
       "      <th>0</th>\n",
       "      <td>3416.850719</td>\n",
       "      <td>mean_radius</td>\n",
       "    </tr>\n",
       "    <tr>\n",
       "      <th>2</th>\n",
       "      <td>3240.578393</td>\n",
       "      <td>mean_perimeter</td>\n",
       "    </tr>\n",
       "    <tr>\n",
       "      <th>20</th>\n",
       "      <td>626.042550</td>\n",
       "      <td>worst_radius</td>\n",
       "    </tr>\n",
       "    <tr>\n",
       "      <th>3</th>\n",
       "      <td>329.503569</td>\n",
       "      <td>mean_area</td>\n",
       "    </tr>\n",
       "    <tr>\n",
       "      <th>23</th>\n",
       "      <td>304.268173</td>\n",
       "      <td>worst_area</td>\n",
       "    </tr>\n",
       "    <tr>\n",
       "      <th>22</th>\n",
       "      <td>277.310991</td>\n",
       "      <td>worst_perimeter</td>\n",
       "    </tr>\n",
       "    <tr>\n",
       "      <th>12</th>\n",
       "      <td>90.465529</td>\n",
       "      <td>perimeter_error</td>\n",
       "    </tr>\n",
       "    <tr>\n",
       "      <th>10</th>\n",
       "      <td>85.931081</td>\n",
       "      <td>radius_error</td>\n",
       "    </tr>\n",
       "    <tr>\n",
       "      <th>6</th>\n",
       "      <td>65.093264</td>\n",
       "      <td>mean_concavity</td>\n",
       "    </tr>\n",
       "    <tr>\n",
       "      <th>7</th>\n",
       "      <td>63.936923</td>\n",
       "      <td>mean_concave_points</td>\n",
       "    </tr>\n",
       "  </tbody>\n",
       "</table>\n",
       "</div>"
      ],
      "text/plain": [
       "     VIF Factor             features\n",
       "0   3416.850719          mean_radius\n",
       "2   3240.578393       mean_perimeter\n",
       "20   626.042550         worst_radius\n",
       "3    329.503569            mean_area\n",
       "23   304.268173           worst_area\n",
       "22   277.310991      worst_perimeter\n",
       "12    90.465529      perimeter_error\n",
       "10    85.931081         radius_error\n",
       "6     65.093264       mean_concavity\n",
       "7     63.936923  mean_concave_points"
      ]
     },
     "execution_count": 228,
     "metadata": {},
     "output_type": "execute_result"
    }
   ],
   "source": [
    "from statsmodels.stats.outliers_influence import variance_inflation_factor\n",
    "\n",
    "vif = pd.DataFrame()\n",
    "vif['VIF Factor'] = [variance_inflation_factor(X_train.values, i) for i in range(X_train.shape[1])]\n",
    "vif['features'] = X_train.columns\n",
    "vif.sort_values(by='VIF Factor', ascending=False)[:10]"
   ]
  },
  {
   "cell_type": "markdown",
   "id": "89059f5b",
   "metadata": {},
   "source": [
    "> VIF는 10을 넘으면 변수간 다중공선성이 발생한다는 의미로 이해하곤 하는데, 전체 30개 변수 중 VIF가 10을 넘지 않는 변수가 5개 뿐이다.<br>\n",
    "\n",
    "\n",
    "> **다중회귀모델의 coeff뿐 아니라 VIF도 위의 데이터셋에 차원축소(혹은 변수선택,변수제거 등) 기법이 필요하다는 것을 나타내고 있다.**"
   ]
  },
  {
   "cell_type": "markdown",
   "id": "e0b2495c",
   "metadata": {},
   "source": [
    "# 4. PCA 구현\n",
    "- 비지도학습 차원축소 기법인 PCA를 구현한다."
   ]
  },
  {
   "cell_type": "code",
   "execution_count": 229,
   "id": "5eb25362",
   "metadata": {
    "ExecuteTime": {
     "end_time": "2021-08-28T15:14:38.767850Z",
     "start_time": "2021-08-28T15:14:38.753644Z"
    }
   },
   "outputs": [
    {
     "data": {
      "text/plain": [
       "PCA(n_components=10)"
      ]
     },
     "execution_count": 229,
     "metadata": {},
     "output_type": "execute_result"
    }
   ],
   "source": [
    "# n_components 10 pca를 구현해본다\n",
    "pca10 = PCA(n_components=10)\n",
    "pca10.fit(X_train)"
   ]
  },
  {
   "cell_type": "code",
   "execution_count": 230,
   "id": "996ce72d",
   "metadata": {
    "ExecuteTime": {
     "end_time": "2021-08-28T15:14:38.993509Z",
     "start_time": "2021-08-28T15:14:38.974123Z"
    }
   },
   "outputs": [
    {
     "data": {
      "text/html": [
       "<div>\n",
       "<style scoped>\n",
       "    .dataframe tbody tr th:only-of-type {\n",
       "        vertical-align: middle;\n",
       "    }\n",
       "\n",
       "    .dataframe tbody tr th {\n",
       "        vertical-align: top;\n",
       "    }\n",
       "\n",
       "    .dataframe thead th {\n",
       "        text-align: right;\n",
       "    }\n",
       "</style>\n",
       "<table border=\"1\" class=\"dataframe\">\n",
       "  <thead>\n",
       "    <tr style=\"text-align: right;\">\n",
       "      <th></th>\n",
       "      <th>no_PC</th>\n",
       "      <th>EigenValues</th>\n",
       "      <th>EigenValueRatio</th>\n",
       "      <th>CumEigenValueRatio</th>\n",
       "    </tr>\n",
       "  </thead>\n",
       "  <tbody>\n",
       "    <tr>\n",
       "      <th>0</th>\n",
       "      <td>1</td>\n",
       "      <td>12.727</td>\n",
       "      <td>0.422</td>\n",
       "      <td>0.422</td>\n",
       "    </tr>\n",
       "    <tr>\n",
       "      <th>1</th>\n",
       "      <td>2</td>\n",
       "      <td>6.238</td>\n",
       "      <td>0.207</td>\n",
       "      <td>0.629</td>\n",
       "    </tr>\n",
       "    <tr>\n",
       "      <th>2</th>\n",
       "      <td>3</td>\n",
       "      <td>3.123</td>\n",
       "      <td>0.104</td>\n",
       "      <td>0.733</td>\n",
       "    </tr>\n",
       "    <tr>\n",
       "      <th>3</th>\n",
       "      <td>4</td>\n",
       "      <td>2.027</td>\n",
       "      <td>0.067</td>\n",
       "      <td>0.800</td>\n",
       "    </tr>\n",
       "    <tr>\n",
       "      <th>4</th>\n",
       "      <td>5</td>\n",
       "      <td>1.284</td>\n",
       "      <td>0.043</td>\n",
       "      <td>0.843</td>\n",
       "    </tr>\n",
       "    <tr>\n",
       "      <th>5</th>\n",
       "      <td>6</td>\n",
       "      <td>1.274</td>\n",
       "      <td>0.042</td>\n",
       "      <td>0.885</td>\n",
       "    </tr>\n",
       "    <tr>\n",
       "      <th>6</th>\n",
       "      <td>7</td>\n",
       "      <td>0.802</td>\n",
       "      <td>0.027</td>\n",
       "      <td>0.912</td>\n",
       "    </tr>\n",
       "    <tr>\n",
       "      <th>7</th>\n",
       "      <td>8</td>\n",
       "      <td>0.613</td>\n",
       "      <td>0.020</td>\n",
       "      <td>0.932</td>\n",
       "    </tr>\n",
       "    <tr>\n",
       "      <th>8</th>\n",
       "      <td>9</td>\n",
       "      <td>0.392</td>\n",
       "      <td>0.013</td>\n",
       "      <td>0.945</td>\n",
       "    </tr>\n",
       "    <tr>\n",
       "      <th>9</th>\n",
       "      <td>10</td>\n",
       "      <td>0.325</td>\n",
       "      <td>0.011</td>\n",
       "      <td>0.956</td>\n",
       "    </tr>\n",
       "  </tbody>\n",
       "</table>\n",
       "</div>"
      ],
      "text/plain": [
       "   no_PC  EigenValues  EigenValueRatio  CumEigenValueRatio\n",
       "0      1       12.727            0.422               0.422\n",
       "1      2        6.238            0.207               0.629\n",
       "2      3        3.123            0.104               0.733\n",
       "3      4        2.027            0.067               0.800\n",
       "4      5        1.284            0.043               0.843\n",
       "5      6        1.274            0.042               0.885\n",
       "6      7        0.802            0.027               0.912\n",
       "7      8        0.613            0.020               0.932\n",
       "8      9        0.392            0.013               0.945\n",
       "9     10        0.325            0.011               0.956"
      ]
     },
     "execution_count": 230,
     "metadata": {},
     "output_type": "execute_result"
    }
   ],
   "source": [
    "# PC 10개의 dataframe\n",
    "pca10_df = pd.DataFrame()\n",
    "pca10_df['no_PC'] = [i for i in range(1,11)]\n",
    "pca10_df['EigenValues'] = pca10.explained_variance_\n",
    "pca10_df['EigenValueRatio'] = pca10.explained_variance_ratio_\n",
    "pca10_df['CumEigenValueRatio'] = \\\n",
    "        np.cumsum(pca10.explained_variance_ratio_)\n",
    "pca10_df.round(3)"
   ]
  },
  {
   "cell_type": "code",
   "execution_count": 231,
   "id": "7111897a",
   "metadata": {
    "ExecuteTime": {
     "end_time": "2021-08-28T15:14:39.413626Z",
     "start_time": "2021-08-28T15:14:39.328006Z"
    }
   },
   "outputs": [
    {
     "data": {
      "image/png": "[encoded data removed]",
      "text/plain": [
       "<Figure size 432x288 with 1 Axes>"
      ]
     },
     "metadata": {
      "needs_background": "light"
     },
     "output_type": "display_data"
    }
   ],
   "source": [
    "# PCA10일 때 => Cumulative Explained Variance visualization\n",
    "total = sum(pca10.explained_variance_)\n",
    "exp_var = [(i / total) for i in sorted(pca10.explained_variance_,\n",
    "                                       reverse=True)]\n",
    "cum_exp_var = np.cumsum(exp_var)\n",
    "\n",
    "\n",
    "plt.figure(figsize=(6,4))\n",
    "plt.bar(range(1, 11), exp_var, alpha=0.7, align='center',\n",
    "       label='Individual explained variance')\n",
    "plt.step(range(1, 11), cum_exp_var, where='mid',\n",
    "        label='Cumulative explained variance')\n",
    "plt.ylabel('Explained variance ratio', fontsize=14)\n",
    "plt.xlabel('Principal component index', fontsize=14)\n",
    "plt.legend(loc='best', fontsize=12)\n",
    "plt.tight_layout()\n",
    "\n",
    "plt.show()"
   ]
  },
  {
   "cell_type": "code",
   "execution_count": 232,
   "id": "bf727f76",
   "metadata": {
    "ExecuteTime": {
     "end_time": "2021-08-28T15:14:39.546962Z",
     "start_time": "2021-08-28T15:14:39.495860Z"
    }
   },
   "outputs": [
    {
     "data": {
      "image/png": "[encoded data removed]",
      "text/plain": [
       "<Figure size 432x288 with 1 Axes>"
      ]
     },
     "metadata": {
      "needs_background": "light"
     },
     "output_type": "display_data"
    }
   ],
   "source": [
    "# 다른 방식의 visualization\n",
    "plt.plot(pca10_df['no_PC'], pca10_df['EigenValues'],\n",
    "         label='교윳값')\n",
    "plt.ylabel('고윳값')\n",
    "plt.xlabel('주성분 번호')\n",
    "plt.legend(loc='best')\n",
    "plt.show()"
   ]
  },
  {
   "cell_type": "markdown",
   "id": "9c03ab83",
   "metadata": {},
   "source": [
    "- 주성분이 총 10개일 때, 주성분이 3개에서 **4개가 되는 구간부터 주성분 하나당 증가하는 설명력이 10% 미만**으로 떨어진다.\n",
    "- 6개가 되는 구간부터 누적 설명력이 93%를 넘어선다.<br><br>\n",
    "\n",
    "- **주성분 하나당 설명력이 10%가 넘도록 n_components=3인 pca를 하나 더 구현해놓고, pca10과 비교해보겠다.**"
   ]
  },
  {
   "cell_type": "code",
   "execution_count": 233,
   "id": "8aea4aa9",
   "metadata": {
    "ExecuteTime": {
     "end_time": "2021-08-28T15:14:39.959771Z",
     "start_time": "2021-08-28T15:14:39.948403Z"
    }
   },
   "outputs": [
    {
     "data": {
      "text/plain": [
       "PCA(n_components=3)"
      ]
     },
     "execution_count": 233,
     "metadata": {},
     "output_type": "execute_result"
    }
   ],
   "source": [
    "# pca3 구현\n",
    "pca3 = PCA(n_components=3)\n",
    "pca3.fit(X_train)"
   ]
  },
  {
   "cell_type": "code",
   "execution_count": 234,
   "id": "9340c6e7",
   "metadata": {
    "ExecuteTime": {
     "end_time": "2021-08-28T15:14:40.162792Z",
     "start_time": "2021-08-28T15:14:40.149696Z"
    }
   },
   "outputs": [],
   "source": [
    "# pca10, pca3으로 각각 데이터셋을 주성분에 투영(변환)시킨다.\n",
    "X_pca10 = pca10.transform(X_train)\n",
    "X_pca10_test = pca10.transform(X_test)\n",
    "X_pca3 = pca3.transform(X_train)\n",
    "X_pca3_test = pca3.transform(X_test)"
   ]
  },
  {
   "cell_type": "code",
   "execution_count": null,
   "id": "6e0a59fb",
   "metadata": {},
   "outputs": [],
   "source": []
  },
  {
   "cell_type": "markdown",
   "id": "5c29aa1b",
   "metadata": {},
   "source": [
    "# 5. 차원 축소의 효과 탐색"
   ]
  },
  {
   "cell_type": "markdown",
   "id": "ba3d17cd",
   "metadata": {},
   "source": [
    "## 5-1. 10개 주성분으로 변환시킨 데이터셋으로 다중회귀모델 coeff 확인"
   ]
  },
  {
   "cell_type": "code",
   "execution_count": 235,
   "id": "b6b1ce00",
   "metadata": {
    "ExecuteTime": {
     "end_time": "2021-08-28T15:14:41.021264Z",
     "start_time": "2021-08-28T15:14:40.994092Z"
    }
   },
   "outputs": [
    {
     "data": {
      "text/html": [
       "<table class=\"simpletable\">\n",
       "<caption>OLS Regression Results</caption>\n",
       "<tr>\n",
       "  <th>Dep. Variable:</th>        <td>diagnosis</td>    <th>  R-squared:         </th> <td>   0.683</td>\n",
       "</tr>\n",
       "<tr>\n",
       "  <th>Model:</th>                   <td>OLS</td>       <th>  Adj. R-squared:    </th> <td>   0.669</td>\n",
       "</tr>\n",
       "<tr>\n",
       "  <th>Method:</th>             <td>Least Squares</td>  <th>  F-statistic:       </th> <td>   45.98</td>\n",
       "</tr>\n",
       "<tr>\n",
       "  <th>Date:</th>             <td>Sun, 29 Aug 2021</td> <th>  Prob (F-statistic):</th> <td>8.28e-48</td>\n",
       "</tr>\n",
       "<tr>\n",
       "  <th>Time:</th>                 <td>00:14:41</td>     <th>  Log-Likelihood:    </th> <td> -21.546</td>\n",
       "</tr>\n",
       "<tr>\n",
       "  <th>No. Observations:</th>      <td>   224</td>      <th>  AIC:               </th> <td>   65.09</td>\n",
       "</tr>\n",
       "<tr>\n",
       "  <th>Df Residuals:</th>          <td>   213</td>      <th>  BIC:               </th> <td>   102.6</td>\n",
       "</tr>\n",
       "<tr>\n",
       "  <th>Df Model:</th>              <td>    10</td>      <th>                     </th>     <td> </td>   \n",
       "</tr>\n",
       "<tr>\n",
       "  <th>Covariance Type:</th>      <td>nonrobust</td>    <th>                     </th>     <td> </td>   \n",
       "</tr>\n",
       "</table>\n",
       "<table class=\"simpletable\">\n",
       "<tr>\n",
       "    <td></td>       <th>coef</th>     <th>std err</th>      <th>t</th>      <th>P>|t|</th>  <th>[0.025</th>    <th>0.975]</th>  \n",
       "</tr>\n",
       "<tr>\n",
       "  <th>const</th> <td>    0.3393</td> <td>    0.018</td> <td>   18.587</td> <td> 0.000</td> <td>    0.303</td> <td>    0.375</td>\n",
       "</tr>\n",
       "<tr>\n",
       "  <th>x1</th>    <td>   -0.0947</td> <td>    0.005</td> <td>  -18.474</td> <td> 0.000</td> <td>   -0.105</td> <td>   -0.085</td>\n",
       "</tr>\n",
       "<tr>\n",
       "  <th>x2</th>    <td>    0.0252</td> <td>    0.007</td> <td>    3.446</td> <td> 0.001</td> <td>    0.011</td> <td>    0.040</td>\n",
       "</tr>\n",
       "<tr>\n",
       "  <th>x3</th>    <td>    0.0658</td> <td>    0.010</td> <td>    6.359</td> <td> 0.000</td> <td>    0.045</td> <td>    0.086</td>\n",
       "</tr>\n",
       "<tr>\n",
       "  <th>x4</th>    <td>    0.0559</td> <td>    0.013</td> <td>    4.348</td> <td> 0.000</td> <td>    0.031</td> <td>    0.081</td>\n",
       "</tr>\n",
       "<tr>\n",
       "  <th>x5</th>    <td>    0.0375</td> <td>    0.016</td> <td>    2.323</td> <td> 0.021</td> <td>    0.006</td> <td>    0.069</td>\n",
       "</tr>\n",
       "<tr>\n",
       "  <th>x6</th>    <td>    0.0515</td> <td>    0.016</td> <td>    3.176</td> <td> 0.002</td> <td>    0.020</td> <td>    0.083</td>\n",
       "</tr>\n",
       "<tr>\n",
       "  <th>x7</th>    <td>    0.0762</td> <td>    0.020</td> <td>    3.729</td> <td> 0.000</td> <td>    0.036</td> <td>    0.116</td>\n",
       "</tr>\n",
       "<tr>\n",
       "  <th>x8</th>    <td>    0.0250</td> <td>    0.023</td> <td>    1.070</td> <td> 0.286</td> <td>   -0.021</td> <td>    0.071</td>\n",
       "</tr>\n",
       "<tr>\n",
       "  <th>x9</th>    <td>    0.0201</td> <td>    0.029</td> <td>    0.688</td> <td> 0.492</td> <td>   -0.037</td> <td>    0.078</td>\n",
       "</tr>\n",
       "<tr>\n",
       "  <th>x10</th>   <td>    0.1295</td> <td>    0.032</td> <td>    4.036</td> <td> 0.000</td> <td>    0.066</td> <td>    0.193</td>\n",
       "</tr>\n",
       "</table>\n",
       "<table class=\"simpletable\">\n",
       "<tr>\n",
       "  <th>Omnibus:</th>       <td> 1.859</td> <th>  Durbin-Watson:     </th> <td>   2.208</td>\n",
       "</tr>\n",
       "<tr>\n",
       "  <th>Prob(Omnibus):</th> <td> 0.395</td> <th>  Jarque-Bera (JB):  </th> <td>   1.676</td>\n",
       "</tr>\n",
       "<tr>\n",
       "  <th>Skew:</th>          <td>-0.101</td> <th>  Prob(JB):          </th> <td>   0.433</td>\n",
       "</tr>\n",
       "<tr>\n",
       "  <th>Kurtosis:</th>      <td> 2.627</td> <th>  Cond. No.          </th> <td>    6.26</td>\n",
       "</tr>\n",
       "</table><br/><br/>Notes:<br/>[1] Standard Errors assume that the covariance matrix of the errors is correctly specified."
      ],
      "text/plain": [
       "<class 'statsmodels.iolib.summary.Summary'>\n",
       "\"\"\"\n",
       "                            OLS Regression Results                            \n",
       "==============================================================================\n",
       "Dep. Variable:              diagnosis   R-squared:                       0.683\n",
       "Model:                            OLS   Adj. R-squared:                  0.669\n",
       "Method:                 Least Squares   F-statistic:                     45.98\n",
       "Date:                Sun, 29 Aug 2021   Prob (F-statistic):           8.28e-48\n",
       "Time:                        00:14:41   Log-Likelihood:                -21.546\n",
       "No. Observations:                 224   AIC:                             65.09\n",
       "Df Residuals:                     213   BIC:                             102.6\n",
       "Df Model:                          10                                         \n",
       "Covariance Type:            nonrobust                                         \n",
       "==============================================================================\n",
       "                 coef    std err          t      P>|t|      [0.025      0.975]\n",
       "------------------------------------------------------------------------------\n",
       "const          0.3393      0.018     18.587      0.000       0.303       0.375\n",
       "x1            -0.0947      0.005    -18.474      0.000      -0.105      -0.085\n",
       "x2             0.0252      0.007      3.446      0.001       0.011       0.040\n",
       "x3             0.0658      0.010      6.359      0.000       0.045       0.086\n",
       "x4             0.0559      0.013      4.348      0.000       0.031       0.081\n",
       "x5             0.0375      0.016      2.323      0.021       0.006       0.069\n",
       "x6             0.0515      0.016      3.176      0.002       0.020       0.083\n",
       "x7             0.0762      0.020      3.729      0.000       0.036       0.116\n",
       "x8             0.0250      0.023      1.070      0.286      -0.021       0.071\n",
       "x9             0.0201      0.029      0.688      0.492      -0.037       0.078\n",
       "x10            0.1295      0.032      4.036      0.000       0.066       0.193\n",
       "==============================================================================\n",
       "Omnibus:                        1.859   Durbin-Watson:                   2.208\n",
       "Prob(Omnibus):                  0.395   Jarque-Bera (JB):                1.676\n",
       "Skew:                          -0.101   Prob(JB):                        0.433\n",
       "Kurtosis:                       2.627   Cond. No.                         6.26\n",
       "==============================================================================\n",
       "\n",
       "Notes:\n",
       "[1] Standard Errors assume that the covariance matrix of the errors is correctly specified.\n",
       "\"\"\""
      ]
     },
     "execution_count": 235,
     "metadata": {},
     "output_type": "execute_result"
    }
   ],
   "source": [
    "X_pca10_const = sm.add_constant(X_pca10)\n",
    "\n",
    "lm10 = sm.OLS(y_train, X_pca10_const)\n",
    "lm10 = lm10.fit()\n",
    "lm10.summary()"
   ]
  },
  {
   "cell_type": "markdown",
   "id": "644a4d28",
   "metadata": {},
   "source": [
    "- 이전에 30개 설명변수를 이용했던 다중회귀모델의 R^2는 0.8, Adj R^2는 0.77이었다.\n",
    "- 무려 변수를 20개나 줄인 위의 모델은 R^2가 0.7이 나오고, 10개 중 6개의 변수가 0.05 이하의 p-value를 갖고 있다(유의하다).\n",
    "    - 10개 중 4개의 p-value가 0.05보다 높은 것으로 봐서, 주성분을 10개보다 더 적게 줄여도 되겠다는 생각이 든다."
   ]
  },
  {
   "cell_type": "markdown",
   "id": "d3247f44",
   "metadata": {},
   "source": [
    "## 5-2. 3개 주성분으로 변환시킨 데이터셋으로 다중회귀모델 coeff 확인"
   ]
  },
  {
   "cell_type": "code",
   "execution_count": 236,
   "id": "4e363683",
   "metadata": {
    "ExecuteTime": {
     "end_time": "2021-08-28T15:14:42.260805Z",
     "start_time": "2021-08-28T15:14:42.238307Z"
    }
   },
   "outputs": [
    {
     "data": {
      "text/html": [
       "<table class=\"simpletable\">\n",
       "<caption>OLS Regression Results</caption>\n",
       "<tr>\n",
       "  <th>Dep. Variable:</th>        <td>diagnosis</td>    <th>  R-squared:         </th> <td>   0.585</td>\n",
       "</tr>\n",
       "<tr>\n",
       "  <th>Model:</th>                   <td>OLS</td>       <th>  Adj. R-squared:    </th> <td>   0.579</td>\n",
       "</tr>\n",
       "<tr>\n",
       "  <th>Method:</th>             <td>Least Squares</td>  <th>  F-statistic:       </th> <td>   103.4</td>\n",
       "</tr>\n",
       "<tr>\n",
       "  <th>Date:</th>             <td>Sun, 29 Aug 2021</td> <th>  Prob (F-statistic):</th> <td>8.73e-42</td>\n",
       "</tr>\n",
       "<tr>\n",
       "  <th>Time:</th>                 <td>00:14:42</td>     <th>  Log-Likelihood:    </th> <td> -51.853</td>\n",
       "</tr>\n",
       "<tr>\n",
       "  <th>No. Observations:</th>      <td>   224</td>      <th>  AIC:               </th> <td>   111.7</td>\n",
       "</tr>\n",
       "<tr>\n",
       "  <th>Df Residuals:</th>          <td>   220</td>      <th>  BIC:               </th> <td>   125.4</td>\n",
       "</tr>\n",
       "<tr>\n",
       "  <th>Df Model:</th>              <td>     3</td>      <th>                     </th>     <td> </td>   \n",
       "</tr>\n",
       "<tr>\n",
       "  <th>Covariance Type:</th>      <td>nonrobust</td>    <th>                     </th>     <td> </td>   \n",
       "</tr>\n",
       "</table>\n",
       "<table class=\"simpletable\">\n",
       "<tr>\n",
       "    <td></td>       <th>coef</th>     <th>std err</th>      <th>t</th>      <th>P>|t|</th>  <th>[0.025</th>    <th>0.975]</th>  \n",
       "</tr>\n",
       "<tr>\n",
       "  <th>const</th> <td>    0.3393</td> <td>    0.021</td> <td>   16.500</td> <td> 0.000</td> <td>    0.299</td> <td>    0.380</td>\n",
       "</tr>\n",
       "<tr>\n",
       "  <th>x1</th>    <td>   -0.0947</td> <td>    0.006</td> <td>  -16.399</td> <td> 0.000</td> <td>   -0.106</td> <td>   -0.083</td>\n",
       "</tr>\n",
       "<tr>\n",
       "  <th>x2</th>    <td>    0.0252</td> <td>    0.008</td> <td>    3.059</td> <td> 0.002</td> <td>    0.009</td> <td>    0.042</td>\n",
       "</tr>\n",
       "<tr>\n",
       "  <th>x3</th>    <td>    0.0658</td> <td>    0.012</td> <td>    5.645</td> <td> 0.000</td> <td>    0.043</td> <td>    0.089</td>\n",
       "</tr>\n",
       "</table>\n",
       "<table class=\"simpletable\">\n",
       "<tr>\n",
       "  <th>Omnibus:</th>       <td> 4.579</td> <th>  Durbin-Watson:     </th> <td>   2.111</td>\n",
       "</tr>\n",
       "<tr>\n",
       "  <th>Prob(Omnibus):</th> <td> 0.101</td> <th>  Jarque-Bera (JB):  </th> <td>   2.888</td>\n",
       "</tr>\n",
       "<tr>\n",
       "  <th>Skew:</th>          <td>-0.056</td> <th>  Prob(JB):          </th> <td>   0.236</td>\n",
       "</tr>\n",
       "<tr>\n",
       "  <th>Kurtosis:</th>      <td> 2.455</td> <th>  Cond. No.          </th> <td>    3.56</td>\n",
       "</tr>\n",
       "</table><br/><br/>Notes:<br/>[1] Standard Errors assume that the covariance matrix of the errors is correctly specified."
      ],
      "text/plain": [
       "<class 'statsmodels.iolib.summary.Summary'>\n",
       "\"\"\"\n",
       "                            OLS Regression Results                            \n",
       "==============================================================================\n",
       "Dep. Variable:              diagnosis   R-squared:                       0.585\n",
       "Model:                            OLS   Adj. R-squared:                  0.579\n",
       "Method:                 Least Squares   F-statistic:                     103.4\n",
       "Date:                Sun, 29 Aug 2021   Prob (F-statistic):           8.73e-42\n",
       "Time:                        00:14:42   Log-Likelihood:                -51.853\n",
       "No. Observations:                 224   AIC:                             111.7\n",
       "Df Residuals:                     220   BIC:                             125.4\n",
       "Df Model:                           3                                         \n",
       "Covariance Type:            nonrobust                                         \n",
       "==============================================================================\n",
       "                 coef    std err          t      P>|t|      [0.025      0.975]\n",
       "------------------------------------------------------------------------------\n",
       "const          0.3393      0.021     16.500      0.000       0.299       0.380\n",
       "x1            -0.0947      0.006    -16.399      0.000      -0.106      -0.083\n",
       "x2             0.0252      0.008      3.059      0.002       0.009       0.042\n",
       "x3             0.0658      0.012      5.645      0.000       0.043       0.089\n",
       "==============================================================================\n",
       "Omnibus:                        4.579   Durbin-Watson:                   2.111\n",
       "Prob(Omnibus):                  0.101   Jarque-Bera (JB):                2.888\n",
       "Skew:                          -0.056   Prob(JB):                        0.236\n",
       "Kurtosis:                       2.455   Cond. No.                         3.56\n",
       "==============================================================================\n",
       "\n",
       "Notes:\n",
       "[1] Standard Errors assume that the covariance matrix of the errors is correctly specified.\n",
       "\"\"\""
      ]
     },
     "execution_count": 236,
     "metadata": {},
     "output_type": "execute_result"
    }
   ],
   "source": [
    "X_pca3_const = sm.add_constant(X_pca3)\n",
    "\n",
    "lm3 = sm.OLS(y_train, X_pca3_const)\n",
    "lm3 = lm3.fit()\n",
    "lm3.summary()"
   ]
  },
  {
   "cell_type": "markdown",
   "id": "4068964f",
   "metadata": {},
   "source": [
    "- 주성분 10개 모델의 R^2가 0.7이었는데, 3개일 때 0.65이면 나름 준수한 성능인 것 같다.\n",
    "- 모든 변수의 p-value가 0에 가깝다.<br><br>\n",
    "\n",
    "- **물론 pca의 단점은..** 차원이 축소된 설명변수들에 대해 **해석하기가 쉽지 않다**는 것이다. 30개 변수의 분산을 가장 잘 설명하는 3개의 주성분을 기반으로 모델을 구현하면 예측 성능은 좋아질지 모르지만, 그 3개의 주성분이라는 게 실제로 어떤 의미를 갖는지는 알기가 어렵다."
   ]
  },
  {
   "cell_type": "markdown",
   "id": "c3fadfd6",
   "metadata": {},
   "source": [
    "## 5-3. Scatter Plot -- PC1\\~2,  PC1\\~3,  PC2\\~3"
   ]
  },
  {
   "cell_type": "code",
   "execution_count": 237,
   "id": "ee1da7c4",
   "metadata": {
    "ExecuteTime": {
     "end_time": "2021-08-28T15:14:43.318932Z",
     "start_time": "2021-08-28T15:14:43.304394Z"
    }
   },
   "outputs": [
    {
     "data": {
      "text/html": [
       "<div>\n",
       "<style scoped>\n",
       "    .dataframe tbody tr th:only-of-type {\n",
       "        vertical-align: middle;\n",
       "    }\n",
       "\n",
       "    .dataframe tbody tr th {\n",
       "        vertical-align: top;\n",
       "    }\n",
       "\n",
       "    .dataframe thead th {\n",
       "        text-align: right;\n",
       "    }\n",
       "</style>\n",
       "<table border=\"1\" class=\"dataframe\">\n",
       "  <thead>\n",
       "    <tr style=\"text-align: right;\">\n",
       "      <th></th>\n",
       "      <th>diagnosis</th>\n",
       "      <th>PC1</th>\n",
       "      <th>PC2</th>\n",
       "      <th>PC3</th>\n",
       "    </tr>\n",
       "  </thead>\n",
       "  <tbody>\n",
       "    <tr>\n",
       "      <th>0</th>\n",
       "      <td>1</td>\n",
       "      <td>-1.755962</td>\n",
       "      <td>0.150709</td>\n",
       "      <td>-1.115756</td>\n",
       "    </tr>\n",
       "    <tr>\n",
       "      <th>1</th>\n",
       "      <td>0</td>\n",
       "      <td>4.321308</td>\n",
       "      <td>-1.471259</td>\n",
       "      <td>0.117598</td>\n",
       "    </tr>\n",
       "    <tr>\n",
       "      <th>2</th>\n",
       "      <td>0</td>\n",
       "      <td>1.758234</td>\n",
       "      <td>-3.344602</td>\n",
       "      <td>0.965108</td>\n",
       "    </tr>\n",
       "    <tr>\n",
       "      <th>3</th>\n",
       "      <td>1</td>\n",
       "      <td>-3.801441</td>\n",
       "      <td>0.713174</td>\n",
       "      <td>1.430269</td>\n",
       "    </tr>\n",
       "    <tr>\n",
       "      <th>4</th>\n",
       "      <td>0</td>\n",
       "      <td>1.593801</td>\n",
       "      <td>2.579383</td>\n",
       "      <td>-3.192776</td>\n",
       "    </tr>\n",
       "  </tbody>\n",
       "</table>\n",
       "</div>"
      ],
      "text/plain": [
       "   diagnosis       PC1       PC2       PC3\n",
       "0          1 -1.755962  0.150709 -1.115756\n",
       "1          0  4.321308 -1.471259  0.117598\n",
       "2          0  1.758234 -3.344602  0.965108\n",
       "3          1 -3.801441  0.713174  1.430269\n",
       "4          0  1.593801  2.579383 -3.192776"
      ]
     },
     "execution_count": 237,
     "metadata": {},
     "output_type": "execute_result"
    }
   ],
   "source": [
    "pca3_df = pd.DataFrame(X_pca3, columns=['PC1', 'PC2', 'PC3'])\n",
    "pca3_df = pd.concat(objs=[y_train.reset_index(drop=True),\n",
    "                          pca3_df], axis=1)\n",
    "pca3_df.head()"
   ]
  },
  {
   "cell_type": "code",
   "execution_count": 238,
   "id": "dec80d0a",
   "metadata": {
    "ExecuteTime": {
     "end_time": "2021-08-28T15:14:43.723053Z",
     "start_time": "2021-08-28T15:14:43.618946Z"
    },
    "hide_input": false
   },
   "outputs": [
    {
     "data": {
      "image/png": "[encoded data removed]",
      "text/plain": [
       "<Figure size 576x576 with 1 Axes>"
      ]
     },
     "metadata": {
      "needs_background": "light"
     },
     "output_type": "display_data"
    }
   ],
   "source": [
    "## PC1 ~ PC2 scatterplot with class labels\n",
    "plt.figure(figsize=(8,8))\n",
    "sns.scatterplot(x='PC1', y='PC2', hue='diagnosis', style='diagnosis', s=80, data=pca3_df)\n",
    "plt.xlabel('Principal Component 1', fontsize=15)\n",
    "plt.ylabel('Principal Component 2', fontsize=15)\n",
    "plt.show()"
   ]
  },
  {
   "cell_type": "code",
   "execution_count": 239,
   "id": "2f1f9fa1",
   "metadata": {
    "ExecuteTime": {
     "end_time": "2021-08-28T15:14:43.863608Z",
     "start_time": "2021-08-28T15:14:43.788944Z"
    },
    "hide_input": false
   },
   "outputs": [
    {
     "data": {
      "image/png": "[encoded data removed]",
      "text/plain": [
       "<Figure size 576x576 with 1 Axes>"
      ]
     },
     "metadata": {
      "needs_background": "light"
     },
     "output_type": "display_data"
    }
   ],
   "source": [
    "## PC1 ~ PC3 scatterplot with class labels\n",
    "plt.figure(figsize=(8,8))\n",
    "sns.scatterplot(x='PC1', y='PC3', hue='diagnosis', style='diagnosis', s=80, data=pca3_df)\n",
    "plt.xlabel('Principal Component 1', fontsize=15)\n",
    "plt.ylabel('Principal Component 3', fontsize=15)\n",
    "plt.show()"
   ]
  },
  {
   "cell_type": "code",
   "execution_count": 240,
   "id": "f243293c",
   "metadata": {
    "ExecuteTime": {
     "end_time": "2021-08-28T15:14:44.081660Z",
     "start_time": "2021-08-28T15:14:44.002775Z"
    },
    "hide_input": false
   },
   "outputs": [
    {
     "data": {
      "image/png": "[encoded data removed]",
      "text/plain": [
       "<Figure size 576x576 with 1 Axes>"
      ]
     },
     "metadata": {
      "needs_background": "light"
     },
     "output_type": "display_data"
    }
   ],
   "source": [
    "## PC2 ~ PC3 scatterplot with class labels\n",
    "plt.figure(figsize=(8,8))\n",
    "sns.scatterplot(x='PC2', y='PC3', hue='diagnosis', style='diagnosis', s=80, data=pca3_df)\n",
    "plt.xlabel('Principal Component 2', fontsize=15)\n",
    "plt.ylabel('Principal Component 3', fontsize=15)\n",
    "plt.show()"
   ]
  },
  {
   "cell_type": "markdown",
   "id": "2fad6cfd",
   "metadata": {},
   "source": [
    "> **위의 3개 scatterplot을 보면, PC1과 PC2; PC1과 PC3는 딱 봐도 클래스 레이블이 잘 나누어져 있다. => 직선 하나만 그어도(기본적인 선형분류를 사용해도) 0과 1 클래스가 꽤나 잘 분리될 것 같다. 다시 말해, 차원축소가 아주 성공적으로 이뤄졌다.** <br>\n",
    "\n",
    "> PC2와 PC3으로 scatterplot을 그린 경우에는 클래스 레이블이 뒤섞여 있는 모습이다. 제대로 분류가 안될 것 같다. 역시 PC1이 지닌 약 43%의 explained variance를 무시할 수가 없다."
   ]
  },
  {
   "cell_type": "markdown",
   "id": "8b513e92",
   "metadata": {},
   "source": [
    "**결론적으로..** 주성분 10개 말고, 주성분을 3개만 가져가도 분류모델 구현에 충분할 것 같다고 판단된다. => 이제 아래에서 \"주성분 3개를 이용한 분류모델\"과 \"기존 30개 변수를 이용한 분류모델\"의 성능을 비교해본다."
   ]
  },
  {
   "cell_type": "code",
   "execution_count": null,
   "id": "79e4ac90",
   "metadata": {},
   "outputs": [],
   "source": []
  },
  {
   "cell_type": "markdown",
   "id": "7fa727d7",
   "metadata": {},
   "source": [
    "# 6. 분류 모델 구현 및 성능 확인"
   ]
  },
  {
   "cell_type": "markdown",
   "id": "708092e7",
   "metadata": {},
   "source": [
    "## 6-1. 로지스틱 회귀 모형 성능 비교"
   ]
  },
  {
   "cell_type": "markdown",
   "id": "4ac9d936",
   "metadata": {},
   "source": [
    "- 30개 변수를 이용한 로지스틱 모형 성능을 측정해보려 했으나, iteration error(변수가 너무 많아서 모델이 최적화되지 못함)가 발생했다.\n",
    "- 주성분 10개짜리 데이터셋도 에러가 발생했다.\n",
    "- 따라서 로지스틱 회귀 모형은 주성분 3개짜리 데이터셋만 성능을 측정해본다."
   ]
  },
  {
   "cell_type": "code",
   "execution_count": 241,
   "id": "fef1976d",
   "metadata": {
    "ExecuteTime": {
     "end_time": "2021-08-28T15:14:45.566433Z",
     "start_time": "2021-08-28T15:14:45.539392Z"
    }
   },
   "outputs": [
    {
     "name": "stdout",
     "output_type": "stream",
     "text": [
      "Optimization terminated successfully.\n",
      "         Current function value: 0.145520\n",
      "         Iterations 10\n"
     ]
    },
    {
     "data": {
      "text/html": [
       "<table class=\"simpletable\">\n",
       "<caption>Logit Regression Results</caption>\n",
       "<tr>\n",
       "  <th>Dep. Variable:</th>       <td>diagnosis</td>    <th>  No. Observations:  </th>  <td>   224</td>  \n",
       "</tr>\n",
       "<tr>\n",
       "  <th>Model:</th>                 <td>Logit</td>      <th>  Df Residuals:      </th>  <td>   220</td>  \n",
       "</tr>\n",
       "<tr>\n",
       "  <th>Method:</th>                 <td>MLE</td>       <th>  Df Model:          </th>  <td>     3</td>  \n",
       "</tr>\n",
       "<tr>\n",
       "  <th>Date:</th>            <td>Sun, 29 Aug 2021</td> <th>  Pseudo R-squ.:     </th>  <td>0.7728</td>  \n",
       "</tr>\n",
       "<tr>\n",
       "  <th>Time:</th>                <td>00:14:45</td>     <th>  Log-Likelihood:    </th> <td> -32.597</td> \n",
       "</tr>\n",
       "<tr>\n",
       "  <th>converged:</th>             <td>True</td>       <th>  LL-Null:           </th> <td> -143.49</td> \n",
       "</tr>\n",
       "<tr>\n",
       "  <th>Covariance Type:</th>     <td>nonrobust</td>    <th>  LLR p-value:       </th> <td>8.286e-48</td>\n",
       "</tr>\n",
       "</table>\n",
       "<table class=\"simpletable\">\n",
       "<tr>\n",
       "    <td></td>       <th>coef</th>     <th>std err</th>      <th>z</th>      <th>P>|z|</th>  <th>[0.025</th>    <th>0.975]</th>  \n",
       "</tr>\n",
       "<tr>\n",
       "  <th>const</th> <td>   -3.6941</td> <td>    0.710</td> <td>   -5.201</td> <td> 0.000</td> <td>   -5.086</td> <td>   -2.302</td>\n",
       "</tr>\n",
       "<tr>\n",
       "  <th>x1</th>    <td>   -1.9187</td> <td>    0.352</td> <td>   -5.446</td> <td> 0.000</td> <td>   -2.609</td> <td>   -1.228</td>\n",
       "</tr>\n",
       "<tr>\n",
       "  <th>x2</th>    <td>    1.0970</td> <td>    0.274</td> <td>    4.010</td> <td> 0.000</td> <td>    0.561</td> <td>    1.633</td>\n",
       "</tr>\n",
       "<tr>\n",
       "  <th>x3</th>    <td>    0.6539</td> <td>    0.195</td> <td>    3.353</td> <td> 0.001</td> <td>    0.272</td> <td>    1.036</td>\n",
       "</tr>\n",
       "</table><br/><br/>Possibly complete quasi-separation: A fraction 0.24 of observations can be<br/>perfectly predicted. This might indicate that there is complete<br/>quasi-separation. In this case some parameters will not be identified."
      ],
      "text/plain": [
       "<class 'statsmodels.iolib.summary.Summary'>\n",
       "\"\"\"\n",
       "                           Logit Regression Results                           \n",
       "==============================================================================\n",
       "Dep. Variable:              diagnosis   No. Observations:                  224\n",
       "Model:                          Logit   Df Residuals:                      220\n",
       "Method:                           MLE   Df Model:                            3\n",
       "Date:                Sun, 29 Aug 2021   Pseudo R-squ.:                  0.7728\n",
       "Time:                        00:14:45   Log-Likelihood:                -32.597\n",
       "converged:                       True   LL-Null:                       -143.49\n",
       "Covariance Type:            nonrobust   LLR p-value:                 8.286e-48\n",
       "==============================================================================\n",
       "                 coef    std err          z      P>|z|      [0.025      0.975]\n",
       "------------------------------------------------------------------------------\n",
       "const         -3.6941      0.710     -5.201      0.000      -5.086      -2.302\n",
       "x1            -1.9187      0.352     -5.446      0.000      -2.609      -1.228\n",
       "x2             1.0970      0.274      4.010      0.000       0.561       1.633\n",
       "x3             0.6539      0.195      3.353      0.001       0.272       1.036\n",
       "==============================================================================\n",
       "\n",
       "Possibly complete quasi-separation: A fraction 0.24 of observations can be\n",
       "perfectly predicted. This might indicate that there is complete\n",
       "quasi-separation. In this case some parameters will not be identified.\n",
       "\"\"\""
      ]
     },
     "execution_count": 241,
     "metadata": {},
     "output_type": "execute_result"
    }
   ],
   "source": [
    "# 주성분 3개를 이용한 로지스틱 모형\n",
    "logit = sm.Logit(y_train, X_pca3_const)\n",
    "logit = logit.fit(method='newton')\n",
    "logit.summary()"
   ]
  },
  {
   "cell_type": "code",
   "execution_count": 248,
   "id": "4a1e9ce6",
   "metadata": {
    "ExecuteTime": {
     "end_time": "2021-08-28T15:19:52.549867Z",
     "start_time": "2021-08-28T15:19:52.539100Z"
    }
   },
   "outputs": [
    {
     "name": "stdout",
     "output_type": "stream",
     "text": [
      "y_pred값이 0.5 이상일 때 클래스 예측값을 1로 부여한다면..\n",
      "Accuracy 값은: 0.96875\n"
     ]
    }
   ],
   "source": [
    "# 성능 확인\n",
    "from sklearn.metrics import accuracy_score\n",
    "X_pca3_test_const = sm.add_constant(X_pca3_test)\n",
    "\n",
    "y_pred = logit.predict(X_pca3_test_const)\n",
    "\n",
    "\n",
    "# logit의 pred 값이 특정 threshold 이상이면 예측 레이블 1 또는 0을 return하는 함수\n",
    "def cut_off(y, threshold):\n",
    "    Y = y.copy() # 이전의 y값이 변하지 않도록 copy\n",
    "    Y[Y > threshold] = 1\n",
    "    Y[Y <= threshold] = 0\n",
    "    return (Y.astype(int))\n",
    "\n",
    "\n",
    "# 테스트 데이터셋에 대한 정확도(accuracy) 측정\n",
    "print(\"y_pred값이 0.5 이상일 때 클래스 예측값을 1로 부여한다면..\")\n",
    "print(\"Accuracy 값은:\", accuracy_score(y_test, cut_off(y_pred, 0.5)))"
   ]
  },
  {
   "cell_type": "code",
   "execution_count": 267,
   "id": "4a23f682",
   "metadata": {
    "ExecuteTime": {
     "end_time": "2021-08-28T15:23:57.928740Z",
     "start_time": "2021-08-28T15:23:57.903244Z"
    }
   },
   "outputs": [
    {
     "data": {
      "text/html": [
       "<div>\n",
       "<style scoped>\n",
       "    .dataframe tbody tr th:only-of-type {\n",
       "        vertical-align: middle;\n",
       "    }\n",
       "\n",
       "    .dataframe tbody tr th {\n",
       "        vertical-align: top;\n",
       "    }\n",
       "\n",
       "    .dataframe thead th {\n",
       "        text-align: right;\n",
       "    }\n",
       "</style>\n",
       "<table border=\"1\" class=\"dataframe\">\n",
       "  <thead>\n",
       "    <tr style=\"text-align: right;\">\n",
       "      <th></th>\n",
       "      <th>Accuracy</th>\n",
       "      <th>Precision</th>\n",
       "      <th>Recall</th>\n",
       "      <th>Specificity</th>\n",
       "      <th>F1Score</th>\n",
       "    </tr>\n",
       "  </thead>\n",
       "  <tbody>\n",
       "    <tr>\n",
       "      <th>Logistic Regression</th>\n",
       "      <td>0.96875</td>\n",
       "      <td>0.967742</td>\n",
       "      <td>0.9375</td>\n",
       "      <td>0.984375</td>\n",
       "      <td>0.952381</td>\n",
       "    </tr>\n",
       "  </tbody>\n",
       "</table>\n",
       "</div>"
      ],
      "text/plain": [
       "                     Accuracy  Precision  Recall  Specificity   F1Score\n",
       "Logistic Regression   0.96875   0.967742  0.9375     0.984375  0.952381"
      ]
     },
     "execution_count": 267,
     "metadata": {},
     "output_type": "execute_result"
    }
   ],
   "source": [
    "# logit score df\n",
    "logit_score = pd.DataFrame(index=['Logistic Regression'])\n",
    "logit_score['Accuracy'] = [accuracy_score(y_test, cut_off(y_pred, 0.5))]\n",
    "logit_score['Precision'] = [precision_score(y_test, cut_off(y_pred, 0.5))]\n",
    "logit_score['Recall'] = [recall_score(y_test, cut_off(y_pred, 0.5))]\n",
    "logit_score['Specificity'] = [recall_score(y_test, cut_off(y_pred, 0.5), pos_label=0)]\n",
    "logit_score['F1Score'] = [f1_score(y_test, cut_off(y_pred, 0.5))]\n",
    "\n",
    "logit_score"
   ]
  },
  {
   "cell_type": "code",
   "execution_count": null,
   "id": "08e76d9b",
   "metadata": {},
   "outputs": [],
   "source": []
  },
  {
   "cell_type": "markdown",
   "id": "4b62bfc0",
   "metadata": {},
   "source": [
    "- **주성분 3개를 이용한 로지스틱 회귀 모형은 무려 96.8%의 정확도를 가지고 양성과 음성을 분류하고 있다.**"
   ]
  },
  {
   "cell_type": "code",
   "execution_count": 27,
   "id": "c450d179",
   "metadata": {
    "ExecuteTime": {
     "end_time": "2021-08-26T13:17:40.409575Z",
     "start_time": "2021-08-26T13:17:40.360496Z"
    },
    "scrolled": true
   },
   "outputs": [
    {
     "data": {
      "image/png": "[encoded data removed]",
      "text/plain": [
       "<Figure size 432x288 with 1 Axes>"
      ]
     },
     "metadata": {
      "needs_background": "light"
     },
     "output_type": "display_data"
    }
   ],
   "source": [
    "from sklearn.metrics import roc_auc_score, roc_curve\n",
    "\n",
    "fpr, tpr, thresholds = roc_curve(y_test, cut_off(y_pred, 0.5), pos_label=1)\n",
    "auc_score = roc_auc_score(y_test, cut_off(y_pred, 0.5))\n",
    "\n",
    "plt.figure(figsize=(6,4))\n",
    "plt.plot(fpr, tpr)\n",
    "plt.plot([0,1], [0,1], 'r--')\n",
    "plt.title('ROC Curve - Logistic Regression')\n",
    "plt.text(0.6, 0.2, \"AUC: {}\".format(auc_score),\n",
    "         fontdict={'fontsize': 12})\n",
    "plt.show()"
   ]
  },
  {
   "cell_type": "markdown",
   "id": "e2516aba",
   "metadata": {},
   "source": [
    "- **AUC도 0.96으로, 아주 높은 성능을 보여주고 있다.**"
   ]
  },
  {
   "cell_type": "markdown",
   "id": "3ba8440e",
   "metadata": {},
   "source": [
    "### 로지스틱 결론\n",
    "- 주성분 3개를 이용한 로지스틱 회귀 모델 구현 결과, test set에 대한 예측 정확도는 96.8%, AUC는 0.96으로 아주 뛰어난 성능을 보여 준다.\n",
    "    - (모델 예측값 0.5 이상을 클래스 레이블 1로 부여했다.)"
   ]
  },
  {
   "cell_type": "markdown",
   "id": "991dd8b2",
   "metadata": {},
   "source": [
    "## 6-2. Decision Tree 성능 비교"
   ]
  },
  {
   "cell_type": "code",
   "execution_count": 269,
   "id": "3fd79308",
   "metadata": {
    "ExecuteTime": {
     "end_time": "2021-08-28T15:24:25.017449Z",
     "start_time": "2021-08-28T15:24:24.139150Z"
    }
   },
   "outputs": [
    {
     "data": {
      "text/plain": [
       "GridSearchCV(cv=3,\n",
       "             estimator=DecisionTreeClassifier(criterion='entropy',\n",
       "                                              random_state=0),\n",
       "             param_grid={'max_depth': [1, 2, 3, 4, 5, 6, 7, 8, 9],\n",
       "                         'min_samples_split': [4, 6, 8, 10, 12, 14, 16, 18, 20,\n",
       "                                               22, 24, 26, 28]},\n",
       "             return_train_score=True)"
      ]
     },
     "execution_count": 269,
     "metadata": {},
     "output_type": "execute_result"
    }
   ],
   "source": [
    "# 기존 30개 변수를 이용한 decision tree with GridSearchCV\n",
    "from sklearn.tree import DecisionTreeClassifier\n",
    "from sklearn.model_selection import GridSearchCV\n",
    "\n",
    "tree30 = DecisionTreeClassifier(criterion='entropy',\n",
    "                                random_state=0)\n",
    "\n",
    "# GridSearchCV\n",
    "params = {'max_depth': [i for i in range(1,10)],\n",
    "          'min_samples_split': [i * 2 for i in range(2,15)]}\n",
    "tree30_grid = GridSearchCV(tree30, param_grid=params,\n",
    "                           cv=3, refit=True, return_train_score=True)\n",
    "\n",
    "tree30_grid.fit(X_train, y_train)"
   ]
  },
  {
   "cell_type": "code",
   "execution_count": 270,
   "id": "dea49429",
   "metadata": {
    "ExecuteTime": {
     "end_time": "2021-08-28T15:24:25.262164Z",
     "start_time": "2021-08-28T15:24:25.018376Z"
    },
    "scrolled": true
   },
   "outputs": [
    {
     "data": {
      "text/plain": [
       "GridSearchCV(cv=3,\n",
       "             estimator=DecisionTreeClassifier(criterion='entropy',\n",
       "                                              random_state=0),\n",
       "             param_grid={'max_depth': [1, 2, 3, 4, 5, 6, 7, 8, 9],\n",
       "                         'min_samples_split': [4, 6, 8, 10, 12, 14, 16, 18, 20,\n",
       "                                               22, 24, 26, 28]},\n",
       "             return_train_score=True)"
      ]
     },
     "execution_count": 270,
     "metadata": {},
     "output_type": "execute_result"
    }
   ],
   "source": [
    "# 주성분 3개를 이용한 decision tree with GridSearchCV\n",
    "\n",
    "tree_pca3 = DecisionTreeClassifier(criterion='entropy',\n",
    "                                   random_state=0)\n",
    "\n",
    "# GridSearchCV\n",
    "params = {'max_depth': [i for i in range(1,10)],\n",
    "          'min_samples_split': [i * 2 for i in range(2,15)]}\n",
    "tree_pca3_grid = GridSearchCV(tree_pca3, param_grid=params,\n",
    "                           cv=3, refit=True, return_train_score=True)\n",
    "\n",
    "tree_pca3_grid.fit(X_pca3, y_train)"
   ]
  },
  {
   "cell_type": "markdown",
   "id": "3c456426",
   "metadata": {},
   "source": [
    "### GridSearchCV Score 비교"
   ]
  },
  {
   "cell_type": "code",
   "execution_count": 271,
   "id": "df590227",
   "metadata": {
    "ExecuteTime": {
     "end_time": "2021-08-28T15:24:25.739582Z",
     "start_time": "2021-08-28T15:24:25.716500Z"
    }
   },
   "outputs": [
    {
     "data": {
      "text/html": [
       "<div>\n",
       "<style scoped>\n",
       "    .dataframe tbody tr th:only-of-type {\n",
       "        vertical-align: middle;\n",
       "    }\n",
       "\n",
       "    .dataframe tbody tr th {\n",
       "        vertical-align: top;\n",
       "    }\n",
       "\n",
       "    .dataframe thead th {\n",
       "        text-align: right;\n",
       "    }\n",
       "</style>\n",
       "<table border=\"1\" class=\"dataframe\">\n",
       "  <thead>\n",
       "    <tr style=\"text-align: right;\">\n",
       "      <th></th>\n",
       "      <th>params</th>\n",
       "      <th>mean_train_score</th>\n",
       "      <th>mean_test_score</th>\n",
       "      <th>rank_test_score</th>\n",
       "    </tr>\n",
       "  </thead>\n",
       "  <tbody>\n",
       "    <tr>\n",
       "      <th>29</th>\n",
       "      <td>{'max_depth': 3, 'min_samples_split': 10}</td>\n",
       "      <td>0.966503</td>\n",
       "      <td>0.928589</td>\n",
       "      <td>1</td>\n",
       "    </tr>\n",
       "    <tr>\n",
       "      <th>28</th>\n",
       "      <td>{'max_depth': 3, 'min_samples_split': 8}</td>\n",
       "      <td>0.966503</td>\n",
       "      <td>0.928589</td>\n",
       "      <td>1</td>\n",
       "    </tr>\n",
       "    <tr>\n",
       "      <th>27</th>\n",
       "      <td>{'max_depth': 3, 'min_samples_split': 6}</td>\n",
       "      <td>0.966503</td>\n",
       "      <td>0.928589</td>\n",
       "      <td>1</td>\n",
       "    </tr>\n",
       "    <tr>\n",
       "      <th>26</th>\n",
       "      <td>{'max_depth': 3, 'min_samples_split': 4}</td>\n",
       "      <td>0.970947</td>\n",
       "      <td>0.928589</td>\n",
       "      <td>1</td>\n",
       "    </tr>\n",
       "    <tr>\n",
       "      <th>116</th>\n",
       "      <td>{'max_depth': 9, 'min_samples_split': 28}</td>\n",
       "      <td>0.959806</td>\n",
       "      <td>0.924084</td>\n",
       "      <td>5</td>\n",
       "    </tr>\n",
       "    <tr>\n",
       "      <th>...</th>\n",
       "      <td>...</td>\n",
       "      <td>...</td>\n",
       "      <td>...</td>\n",
       "      <td>...</td>\n",
       "    </tr>\n",
       "    <tr>\n",
       "      <th>10</th>\n",
       "      <td>{'max_depth': 1, 'min_samples_split': 24}</td>\n",
       "      <td>0.897301</td>\n",
       "      <td>0.888348</td>\n",
       "      <td>105</td>\n",
       "    </tr>\n",
       "    <tr>\n",
       "      <th>11</th>\n",
       "      <td>{'max_depth': 1, 'min_samples_split': 26}</td>\n",
       "      <td>0.897301</td>\n",
       "      <td>0.888348</td>\n",
       "      <td>105</td>\n",
       "    </tr>\n",
       "    <tr>\n",
       "      <th>12</th>\n",
       "      <td>{'max_depth': 1, 'min_samples_split': 28}</td>\n",
       "      <td>0.897301</td>\n",
       "      <td>0.888348</td>\n",
       "      <td>105</td>\n",
       "    </tr>\n",
       "    <tr>\n",
       "      <th>7</th>\n",
       "      <td>{'max_depth': 1, 'min_samples_split': 18}</td>\n",
       "      <td>0.897301</td>\n",
       "      <td>0.888348</td>\n",
       "      <td>105</td>\n",
       "    </tr>\n",
       "    <tr>\n",
       "      <th>0</th>\n",
       "      <td>{'max_depth': 1, 'min_samples_split': 4}</td>\n",
       "      <td>0.897301</td>\n",
       "      <td>0.888348</td>\n",
       "      <td>105</td>\n",
       "    </tr>\n",
       "  </tbody>\n",
       "</table>\n",
       "<p>117 rows × 4 columns</p>\n",
       "</div>"
      ],
      "text/plain": [
       "                                        params  mean_train_score  \\\n",
       "29   {'max_depth': 3, 'min_samples_split': 10}          0.966503   \n",
       "28    {'max_depth': 3, 'min_samples_split': 8}          0.966503   \n",
       "27    {'max_depth': 3, 'min_samples_split': 6}          0.966503   \n",
       "26    {'max_depth': 3, 'min_samples_split': 4}          0.970947   \n",
       "116  {'max_depth': 9, 'min_samples_split': 28}          0.959806   \n",
       "..                                         ...               ...   \n",
       "10   {'max_depth': 1, 'min_samples_split': 24}          0.897301   \n",
       "11   {'max_depth': 1, 'min_samples_split': 26}          0.897301   \n",
       "12   {'max_depth': 1, 'min_samples_split': 28}          0.897301   \n",
       "7    {'max_depth': 1, 'min_samples_split': 18}          0.897301   \n",
       "0     {'max_depth': 1, 'min_samples_split': 4}          0.897301   \n",
       "\n",
       "     mean_test_score  rank_test_score  \n",
       "29          0.928589                1  \n",
       "28          0.928589                1  \n",
       "27          0.928589                1  \n",
       "26          0.928589                1  \n",
       "116         0.924084                5  \n",
       "..               ...              ...  \n",
       "10          0.888348              105  \n",
       "11          0.888348              105  \n",
       "12          0.888348              105  \n",
       "7           0.888348              105  \n",
       "0           0.888348              105  \n",
       "\n",
       "[117 rows x 4 columns]"
      ]
     },
     "execution_count": 271,
     "metadata": {},
     "output_type": "execute_result"
    }
   ],
   "source": [
    "# tree30 cv score\n",
    "tree30_score = pd.DataFrame(tree30_grid.cv_results_)\n",
    "tree30_score[['params', 'mean_train_score', 'mean_test_score', 'rank_test_score']].sort_values(by=['rank_test_score'])"
   ]
  },
  {
   "cell_type": "code",
   "execution_count": 272,
   "id": "a8de46ba",
   "metadata": {
    "ExecuteTime": {
     "end_time": "2021-08-28T15:24:26.065530Z",
     "start_time": "2021-08-28T15:24:26.045916Z"
    }
   },
   "outputs": [
    {
     "data": {
      "text/html": [
       "<div>\n",
       "<style scoped>\n",
       "    .dataframe tbody tr th:only-of-type {\n",
       "        vertical-align: middle;\n",
       "    }\n",
       "\n",
       "    .dataframe tbody tr th {\n",
       "        vertical-align: top;\n",
       "    }\n",
       "\n",
       "    .dataframe thead th {\n",
       "        text-align: right;\n",
       "    }\n",
       "</style>\n",
       "<table border=\"1\" class=\"dataframe\">\n",
       "  <thead>\n",
       "    <tr style=\"text-align: right;\">\n",
       "      <th></th>\n",
       "      <th>params</th>\n",
       "      <th>mean_train_score</th>\n",
       "      <th>mean_test_score</th>\n",
       "      <th>rank_test_score</th>\n",
       "    </tr>\n",
       "  </thead>\n",
       "  <tbody>\n",
       "    <tr>\n",
       "      <th>78</th>\n",
       "      <td>{'max_depth': 7, 'min_samples_split': 4}</td>\n",
       "      <td>0.988844</td>\n",
       "      <td>0.910751</td>\n",
       "      <td>1</td>\n",
       "    </tr>\n",
       "    <tr>\n",
       "      <th>40</th>\n",
       "      <td>{'max_depth': 4, 'min_samples_split': 6}</td>\n",
       "      <td>0.962073</td>\n",
       "      <td>0.906306</td>\n",
       "      <td>2</td>\n",
       "    </tr>\n",
       "    <tr>\n",
       "      <th>79</th>\n",
       "      <td>{'max_depth': 7, 'min_samples_split': 6}</td>\n",
       "      <td>0.982148</td>\n",
       "      <td>0.906306</td>\n",
       "      <td>2</td>\n",
       "    </tr>\n",
       "    <tr>\n",
       "      <th>39</th>\n",
       "      <td>{'max_depth': 4, 'min_samples_split': 4}</td>\n",
       "      <td>0.964295</td>\n",
       "      <td>0.906306</td>\n",
       "      <td>2</td>\n",
       "    </tr>\n",
       "    <tr>\n",
       "      <th>66</th>\n",
       "      <td>{'max_depth': 6, 'min_samples_split': 6}</td>\n",
       "      <td>0.977673</td>\n",
       "      <td>0.901862</td>\n",
       "      <td>5</td>\n",
       "    </tr>\n",
       "    <tr>\n",
       "      <th>...</th>\n",
       "      <td>...</td>\n",
       "      <td>...</td>\n",
       "      <td>...</td>\n",
       "      <td>...</td>\n",
       "    </tr>\n",
       "    <tr>\n",
       "      <th>37</th>\n",
       "      <td>{'max_depth': 3, 'min_samples_split': 26}</td>\n",
       "      <td>0.921939</td>\n",
       "      <td>0.861682</td>\n",
       "      <td>111</td>\n",
       "    </tr>\n",
       "    <tr>\n",
       "      <th>50</th>\n",
       "      <td>{'max_depth': 4, 'min_samples_split': 26}</td>\n",
       "      <td>0.921939</td>\n",
       "      <td>0.861682</td>\n",
       "      <td>111</td>\n",
       "    </tr>\n",
       "    <tr>\n",
       "      <th>115</th>\n",
       "      <td>{'max_depth': 9, 'min_samples_split': 26}</td>\n",
       "      <td>0.921939</td>\n",
       "      <td>0.861682</td>\n",
       "      <td>111</td>\n",
       "    </tr>\n",
       "    <tr>\n",
       "      <th>63</th>\n",
       "      <td>{'max_depth': 5, 'min_samples_split': 26}</td>\n",
       "      <td>0.921939</td>\n",
       "      <td>0.861682</td>\n",
       "      <td>111</td>\n",
       "    </tr>\n",
       "    <tr>\n",
       "      <th>76</th>\n",
       "      <td>{'max_depth': 6, 'min_samples_split': 26}</td>\n",
       "      <td>0.921939</td>\n",
       "      <td>0.861682</td>\n",
       "      <td>111</td>\n",
       "    </tr>\n",
       "  </tbody>\n",
       "</table>\n",
       "<p>117 rows × 4 columns</p>\n",
       "</div>"
      ],
      "text/plain": [
       "                                        params  mean_train_score  \\\n",
       "78    {'max_depth': 7, 'min_samples_split': 4}          0.988844   \n",
       "40    {'max_depth': 4, 'min_samples_split': 6}          0.962073   \n",
       "79    {'max_depth': 7, 'min_samples_split': 6}          0.982148   \n",
       "39    {'max_depth': 4, 'min_samples_split': 4}          0.964295   \n",
       "66    {'max_depth': 6, 'min_samples_split': 6}          0.977673   \n",
       "..                                         ...               ...   \n",
       "37   {'max_depth': 3, 'min_samples_split': 26}          0.921939   \n",
       "50   {'max_depth': 4, 'min_samples_split': 26}          0.921939   \n",
       "115  {'max_depth': 9, 'min_samples_split': 26}          0.921939   \n",
       "63   {'max_depth': 5, 'min_samples_split': 26}          0.921939   \n",
       "76   {'max_depth': 6, 'min_samples_split': 26}          0.921939   \n",
       "\n",
       "     mean_test_score  rank_test_score  \n",
       "78          0.910751                1  \n",
       "40          0.906306                2  \n",
       "79          0.906306                2  \n",
       "39          0.906306                2  \n",
       "66          0.901862                5  \n",
       "..               ...              ...  \n",
       "37          0.861682              111  \n",
       "50          0.861682              111  \n",
       "115         0.861682              111  \n",
       "63          0.861682              111  \n",
       "76          0.861682              111  \n",
       "\n",
       "[117 rows x 4 columns]"
      ]
     },
     "execution_count": 272,
     "metadata": {},
     "output_type": "execute_result"
    }
   ],
   "source": [
    "# tree_pca3 cv score\n",
    "tree_pca3_score = pd.DataFrame(tree_pca3_grid.cv_results_)\n",
    "tree_pca3_score[['params', 'mean_train_score', 'mean_test_score', 'rank_test_score']].sort_values(by=['rank_test_score'])"
   ]
  },
  {
   "cell_type": "markdown",
   "id": "0422e01f",
   "metadata": {},
   "source": [
    "### 테스트 데이터에 대한 성능 비교"
   ]
  },
  {
   "cell_type": "code",
   "execution_count": 275,
   "id": "174730ff",
   "metadata": {
    "ExecuteTime": {
     "end_time": "2021-08-28T15:24:33.083856Z",
     "start_time": "2021-08-28T15:24:33.064833Z"
    }
   },
   "outputs": [
    {
     "name": "stdout",
     "output_type": "stream",
     "text": [
      "[[58  6]\n",
      " [ 1 31]]\n",
      "ACC: 0.9270833333333334\n",
      "AUC: 0.9375\n"
     ]
    }
   ],
   "source": [
    "# Confusion Matrix - tree30\n",
    "from sklearn.metrics import confusion_matrix, roc_auc_score\n",
    "print(confusion_matrix(y_test, tree30_grid.predict(X_test)))\n",
    "print('ACC:', accuracy_score(y_test, tree30_grid.predict(X_test)))\n",
    "print('AUC:', roc_auc_score(y_test, tree30_grid.predict(X_test)))"
   ]
  },
  {
   "cell_type": "code",
   "execution_count": 276,
   "id": "b07ae5ae",
   "metadata": {
    "ExecuteTime": {
     "end_time": "2021-08-28T15:24:33.586597Z",
     "start_time": "2021-08-28T15:24:33.573683Z"
    },
    "scrolled": true
   },
   "outputs": [
    {
     "name": "stdout",
     "output_type": "stream",
     "text": [
      "[[61  3]\n",
      " [ 2 30]]\n",
      "ACC: 0.9479166666666666\n",
      "AUC: 0.9453125\n"
     ]
    }
   ],
   "source": [
    "# Confusion Matrix - tree pca3\n",
    "print(confusion_matrix(y_test, tree_pca3_grid.predict(X_pca3_test)))\n",
    "print('ACC:', accuracy_score(y_test,\n",
    "                             tree_pca3_grid.predict(X_pca3_test)))\n",
    "print('AUC:', roc_auc_score(y_test,\n",
    "                            tree_pca3_grid.predict(X_pca3_test)))"
   ]
  },
  {
   "cell_type": "markdown",
   "id": "e5d67741",
   "metadata": {},
   "source": [
    "### Decision tree with 30개 변수 Graphviz & Feature Importance"
   ]
  },
  {
   "cell_type": "code",
   "execution_count": 277,
   "id": "14bff732",
   "metadata": {
    "ExecuteTime": {
     "end_time": "2021-08-28T15:24:35.272027Z",
     "start_time": "2021-08-28T15:24:34.709709Z"
    },
    "scrolled": false
   },
   "outputs": [
    {
     "data": {
      "image/svg+xml": [
       "<?xml version=\"1.0\" encoding=\"UTF-8\" standalone=\"no\"?>\n",
       "<!DOCTYPE svg PUBLIC \"-//W3C//DTD SVG 1.1//EN\"\n",
       " \"http://www.w3.org/Graphics/SVG/1.1/DTD/svg11.dtd\">\n",
       "<!-- Generated by graphviz version 2.48.0 (0)\n",
       " -->\n",
       "<!-- Title: Tree Pages: 1 -->\n",
       "<svg width=\"738pt\" height=\"373pt\"\n",
       " viewBox=\"0.00 0.00 737.50 373.00\" xmlns=\"http://www.w3.org/2000/svg\" xmlns:xlink=\"http://www.w3.org/1999/xlink\">\n",
       "<g id=\"graph0\" class=\"graph\" transform=\"scale(1 1) rotate(0) translate(4 369)\">\n",
       "<title>Tree</title>\n",
       "<polygon fill=\"white\" stroke=\"transparent\" points=\"-4,4 -4,-369 733.5,-369 733.5,4 -4,4\"/>\n",
       "<!-- 0 -->\n",
       "<g id=\"node1\" class=\"node\">\n",
       "<title>0</title>\n",
       "<polygon fill=\"#f2c29f\" stroke=\"black\" points=\"531.5,-365 337.5,-365 337.5,-297 531.5,-297 531.5,-365\"/>\n",
       "<text text-anchor=\"middle\" x=\"434.5\" y=\"-349.8\" font-family=\"Times,serif\" font-size=\"14.00\">worst_concave_points &lt;= &#45;0.08</text>\n",
       "<text text-anchor=\"middle\" x=\"434.5\" y=\"-334.8\" font-family=\"Times,serif\" font-size=\"14.00\">entropy = 0.924</text>\n",
       "<text text-anchor=\"middle\" x=\"434.5\" y=\"-319.8\" font-family=\"Times,serif\" font-size=\"14.00\">samples = 224</text>\n",
       "<text text-anchor=\"middle\" x=\"434.5\" y=\"-304.8\" font-family=\"Times,serif\" font-size=\"14.00\">value = [148, 76]</text>\n",
       "</g>\n",
       "<!-- 1 -->\n",
       "<g id=\"node2\" class=\"node\">\n",
       "<title>1</title>\n",
       "<polygon fill=\"#74baed\" stroke=\"black\" points=\"419,-261 282,-261 282,-193 419,-193 419,-261\"/>\n",
       "<text text-anchor=\"middle\" x=\"350.5\" y=\"-245.8\" font-family=\"Times,serif\" font-size=\"14.00\">worst_area &lt;= &#45;0.373</text>\n",
       "<text text-anchor=\"middle\" x=\"350.5\" y=\"-230.8\" font-family=\"Times,serif\" font-size=\"14.00\">entropy = 0.777</text>\n",
       "<text text-anchor=\"middle\" x=\"350.5\" y=\"-215.8\" font-family=\"Times,serif\" font-size=\"14.00\">samples = 96</text>\n",
       "<text text-anchor=\"middle\" x=\"350.5\" y=\"-200.8\" font-family=\"Times,serif\" font-size=\"14.00\">value = [22, 74]</text>\n",
       "</g>\n",
       "<!-- 0&#45;&gt;1 -->\n",
       "<g id=\"edge1\" class=\"edge\">\n",
       "<title>0&#45;&gt;1</title>\n",
       "<path fill=\"none\" stroke=\"black\" d=\"M407.23,-296.88C399.97,-288.07 392.03,-278.43 384.46,-269.24\"/>\n",
       "<polygon fill=\"black\" stroke=\"black\" points=\"386.98,-266.79 377.92,-261.3 381.58,-271.24 386.98,-266.79\"/>\n",
       "<text text-anchor=\"middle\" x=\"375.51\" y=\"-282.48\" font-family=\"Times,serif\" font-size=\"14.00\">True</text>\n",
       "</g>\n",
       "<!-- 8 -->\n",
       "<g id=\"node9\" class=\"node\">\n",
       "<title>8</title>\n",
       "<polygon fill=\"#e5833c\" stroke=\"black\" points=\"596.5,-261 466.5,-261 466.5,-193 596.5,-193 596.5,-261\"/>\n",
       "<text text-anchor=\"middle\" x=\"531.5\" y=\"-245.8\" font-family=\"Times,serif\" font-size=\"14.00\">worst_area &lt;= &#45;0.56</text>\n",
       "<text text-anchor=\"middle\" x=\"531.5\" y=\"-230.8\" font-family=\"Times,serif\" font-size=\"14.00\">entropy = 0.116</text>\n",
       "<text text-anchor=\"middle\" x=\"531.5\" y=\"-215.8\" font-family=\"Times,serif\" font-size=\"14.00\">samples = 128</text>\n",
       "<text text-anchor=\"middle\" x=\"531.5\" y=\"-200.8\" font-family=\"Times,serif\" font-size=\"14.00\">value = [126, 2]</text>\n",
       "</g>\n",
       "<!-- 0&#45;&gt;8 -->\n",
       "<g id=\"edge8\" class=\"edge\">\n",
       "<title>0&#45;&gt;8</title>\n",
       "<path fill=\"none\" stroke=\"black\" d=\"M465.99,-296.88C474.55,-287.89 483.91,-278.04 492.82,-268.68\"/>\n",
       "<polygon fill=\"black\" stroke=\"black\" points=\"495.48,-270.96 499.83,-261.3 490.41,-266.13 495.48,-270.96\"/>\n",
       "<text text-anchor=\"middle\" x=\"500.46\" y=\"-282.59\" font-family=\"Times,serif\" font-size=\"14.00\">False</text>\n",
       "</g>\n",
       "<!-- 2 -->\n",
       "<g id=\"node3\" class=\"node\">\n",
       "<title>2</title>\n",
       "<polygon fill=\"#4aa5e7\" stroke=\"black\" points=\"242.5,-157 98.5,-157 98.5,-89 242.5,-89 242.5,-157\"/>\n",
       "<text text-anchor=\"middle\" x=\"170.5\" y=\"-141.8\" font-family=\"Times,serif\" font-size=\"14.00\">texture_error &lt;= 0.291</text>\n",
       "<text text-anchor=\"middle\" x=\"170.5\" y=\"-126.8\" font-family=\"Times,serif\" font-size=\"14.00\">entropy = 0.395</text>\n",
       "<text text-anchor=\"middle\" x=\"170.5\" y=\"-111.8\" font-family=\"Times,serif\" font-size=\"14.00\">samples = 77</text>\n",
       "<text text-anchor=\"middle\" x=\"170.5\" y=\"-96.8\" font-family=\"Times,serif\" font-size=\"14.00\">value = [6, 71]</text>\n",
       "</g>\n",
       "<!-- 1&#45;&gt;2 -->\n",
       "<g id=\"edge2\" class=\"edge\">\n",
       "<title>1&#45;&gt;2</title>\n",
       "<path fill=\"none\" stroke=\"black\" d=\"M292.06,-192.88C274.84,-183.12 255.85,-172.37 238.11,-162.31\"/>\n",
       "<polygon fill=\"black\" stroke=\"black\" points=\"239.38,-159.01 228.96,-157.12 235.93,-165.1 239.38,-159.01\"/>\n",
       "</g>\n",
       "<!-- 5 -->\n",
       "<g id=\"node6\" class=\"node\">\n",
       "<title>5</title>\n",
       "<polygon fill=\"#ea995e\" stroke=\"black\" points=\"426.5,-157 274.5,-157 274.5,-89 426.5,-89 426.5,-157\"/>\n",
       "<text text-anchor=\"middle\" x=\"350.5\" y=\"-141.8\" font-family=\"Times,serif\" font-size=\"14.00\">mean_texture &lt;= &#45;0.483</text>\n",
       "<text text-anchor=\"middle\" x=\"350.5\" y=\"-126.8\" font-family=\"Times,serif\" font-size=\"14.00\">entropy = 0.629</text>\n",
       "<text text-anchor=\"middle\" x=\"350.5\" y=\"-111.8\" font-family=\"Times,serif\" font-size=\"14.00\">samples = 19</text>\n",
       "<text text-anchor=\"middle\" x=\"350.5\" y=\"-96.8\" font-family=\"Times,serif\" font-size=\"14.00\">value = [16, 3]</text>\n",
       "</g>\n",
       "<!-- 1&#45;&gt;5 -->\n",
       "<g id=\"edge5\" class=\"edge\">\n",
       "<title>1&#45;&gt;5</title>\n",
       "<path fill=\"none\" stroke=\"black\" d=\"M350.5,-192.88C350.5,-184.78 350.5,-175.98 350.5,-167.47\"/>\n",
       "<polygon fill=\"black\" stroke=\"black\" points=\"354,-167.3 350.5,-157.3 347,-167.3 354,-167.3\"/>\n",
       "</g>\n",
       "<!-- 3 -->\n",
       "<g id=\"node4\" class=\"node\">\n",
       "<title>3</title>\n",
       "<polygon fill=\"#399de5\" stroke=\"black\" points=\"99,-53 0,-53 0,0 99,0 99,-53\"/>\n",
       "<text text-anchor=\"middle\" x=\"49.5\" y=\"-37.8\" font-family=\"Times,serif\" font-size=\"14.00\">entropy = 0.0</text>\n",
       "<text text-anchor=\"middle\" x=\"49.5\" y=\"-22.8\" font-family=\"Times,serif\" font-size=\"14.00\">samples = 47</text>\n",
       "<text text-anchor=\"middle\" x=\"49.5\" y=\"-7.8\" font-family=\"Times,serif\" font-size=\"14.00\">value = [0, 47]</text>\n",
       "</g>\n",
       "<!-- 2&#45;&gt;3 -->\n",
       "<g id=\"edge3\" class=\"edge\">\n",
       "<title>2&#45;&gt;3</title>\n",
       "<path fill=\"none\" stroke=\"black\" d=\"M128.18,-88.95C116,-79.43 102.73,-69.07 90.62,-59.62\"/>\n",
       "<polygon fill=\"black\" stroke=\"black\" points=\"92.49,-56.63 82.45,-53.24 88.18,-62.15 92.49,-56.63\"/>\n",
       "</g>\n",
       "<!-- 4 -->\n",
       "<g id=\"node5\" class=\"node\">\n",
       "<title>4</title>\n",
       "<polygon fill=\"#6ab6ec\" stroke=\"black\" points=\"223.5,-53 117.5,-53 117.5,0 223.5,0 223.5,-53\"/>\n",
       "<text text-anchor=\"middle\" x=\"170.5\" y=\"-37.8\" font-family=\"Times,serif\" font-size=\"14.00\">entropy = 0.722</text>\n",
       "<text text-anchor=\"middle\" x=\"170.5\" y=\"-22.8\" font-family=\"Times,serif\" font-size=\"14.00\">samples = 30</text>\n",
       "<text text-anchor=\"middle\" x=\"170.5\" y=\"-7.8\" font-family=\"Times,serif\" font-size=\"14.00\">value = [6, 24]</text>\n",
       "</g>\n",
       "<!-- 2&#45;&gt;4 -->\n",
       "<g id=\"edge4\" class=\"edge\">\n",
       "<title>2&#45;&gt;4</title>\n",
       "<path fill=\"none\" stroke=\"black\" d=\"M170.5,-88.95C170.5,-80.72 170.5,-71.85 170.5,-63.48\"/>\n",
       "<polygon fill=\"black\" stroke=\"black\" points=\"174,-63.24 170.5,-53.24 167,-63.24 174,-63.24\"/>\n",
       "</g>\n",
       "<!-- 6 -->\n",
       "<g id=\"node7\" class=\"node\">\n",
       "<title>6</title>\n",
       "<polygon fill=\"#7bbeee\" stroke=\"black\" points=\"347,-53 242,-53 242,0 347,0 347,-53\"/>\n",
       "<text text-anchor=\"middle\" x=\"294.5\" y=\"-37.8\" font-family=\"Times,serif\" font-size=\"14.00\">entropy = 0.811</text>\n",
       "<text text-anchor=\"middle\" x=\"294.5\" y=\"-22.8\" font-family=\"Times,serif\" font-size=\"14.00\">samples = 4</text>\n",
       "<text text-anchor=\"middle\" x=\"294.5\" y=\"-7.8\" font-family=\"Times,serif\" font-size=\"14.00\">value = [1, 3]</text>\n",
       "</g>\n",
       "<!-- 5&#45;&gt;6 -->\n",
       "<g id=\"edge6\" class=\"edge\">\n",
       "<title>5&#45;&gt;6</title>\n",
       "<path fill=\"none\" stroke=\"black\" d=\"M330.91,-88.95C325.76,-80.26 320.2,-70.86 315,-62.09\"/>\n",
       "<polygon fill=\"black\" stroke=\"black\" points=\"317.86,-60.06 309.75,-53.24 311.84,-63.62 317.86,-60.06\"/>\n",
       "</g>\n",
       "<!-- 7 -->\n",
       "<g id=\"node8\" class=\"node\">\n",
       "<title>7</title>\n",
       "<polygon fill=\"#e58139\" stroke=\"black\" points=\"464,-53 365,-53 365,0 464,0 464,-53\"/>\n",
       "<text text-anchor=\"middle\" x=\"414.5\" y=\"-37.8\" font-family=\"Times,serif\" font-size=\"14.00\">entropy = 0.0</text>\n",
       "<text text-anchor=\"middle\" x=\"414.5\" y=\"-22.8\" font-family=\"Times,serif\" font-size=\"14.00\">samples = 15</text>\n",
       "<text text-anchor=\"middle\" x=\"414.5\" y=\"-7.8\" font-family=\"Times,serif\" font-size=\"14.00\">value = [15, 0]</text>\n",
       "</g>\n",
       "<!-- 5&#45;&gt;7 -->\n",
       "<g id=\"edge7\" class=\"edge\">\n",
       "<title>5&#45;&gt;7</title>\n",
       "<path fill=\"none\" stroke=\"black\" d=\"M372.88,-88.95C378.89,-80.07 385.4,-70.46 391.45,-61.54\"/>\n",
       "<polygon fill=\"black\" stroke=\"black\" points=\"394.36,-63.48 397.07,-53.24 388.56,-59.55 394.36,-63.48\"/>\n",
       "</g>\n",
       "<!-- 9 -->\n",
       "<g id=\"node10\" class=\"node\">\n",
       "<title>9</title>\n",
       "<polygon fill=\"#e9965a\" stroke=\"black\" points=\"605,-157 458,-157 458,-89 605,-89 605,-157\"/>\n",
       "<text text-anchor=\"middle\" x=\"531.5\" y=\"-141.8\" font-family=\"Times,serif\" font-size=\"14.00\">mean_radius &lt;= &#45;0.389</text>\n",
       "<text text-anchor=\"middle\" x=\"531.5\" y=\"-126.8\" font-family=\"Times,serif\" font-size=\"14.00\">entropy = 0.592</text>\n",
       "<text text-anchor=\"middle\" x=\"531.5\" y=\"-111.8\" font-family=\"Times,serif\" font-size=\"14.00\">samples = 14</text>\n",
       "<text text-anchor=\"middle\" x=\"531.5\" y=\"-96.8\" font-family=\"Times,serif\" font-size=\"14.00\">value = [12, 2]</text>\n",
       "</g>\n",
       "<!-- 8&#45;&gt;9 -->\n",
       "<g id=\"edge9\" class=\"edge\">\n",
       "<title>8&#45;&gt;9</title>\n",
       "<path fill=\"none\" stroke=\"black\" d=\"M531.5,-192.88C531.5,-184.78 531.5,-175.98 531.5,-167.47\"/>\n",
       "<polygon fill=\"black\" stroke=\"black\" points=\"535,-167.3 531.5,-157.3 528,-167.3 535,-167.3\"/>\n",
       "</g>\n",
       "<!-- 12 -->\n",
       "<g id=\"node13\" class=\"node\">\n",
       "<title>12</title>\n",
       "<polygon fill=\"#e58139\" stroke=\"black\" points=\"729.5,-149.5 623.5,-149.5 623.5,-96.5 729.5,-96.5 729.5,-149.5\"/>\n",
       "<text text-anchor=\"middle\" x=\"676.5\" y=\"-134.3\" font-family=\"Times,serif\" font-size=\"14.00\">entropy = 0.0</text>\n",
       "<text text-anchor=\"middle\" x=\"676.5\" y=\"-119.3\" font-family=\"Times,serif\" font-size=\"14.00\">samples = 114</text>\n",
       "<text text-anchor=\"middle\" x=\"676.5\" y=\"-104.3\" font-family=\"Times,serif\" font-size=\"14.00\">value = [114, 0]</text>\n",
       "</g>\n",
       "<!-- 8&#45;&gt;12 -->\n",
       "<g id=\"edge12\" class=\"edge\">\n",
       "<title>8&#45;&gt;12</title>\n",
       "<path fill=\"none\" stroke=\"black\" d=\"M578.58,-192.88C595.62,-180.9 614.81,-167.4 631.65,-155.55\"/>\n",
       "<polygon fill=\"black\" stroke=\"black\" points=\"634.06,-158.14 640.22,-149.52 630.03,-152.41 634.06,-158.14\"/>\n",
       "</g>\n",
       "<!-- 10 -->\n",
       "<g id=\"node11\" class=\"node\">\n",
       "<title>10</title>\n",
       "<polygon fill=\"#e58139\" stroke=\"black\" points=\"581,-53 482,-53 482,0 581,0 581,-53\"/>\n",
       "<text text-anchor=\"middle\" x=\"531.5\" y=\"-37.8\" font-family=\"Times,serif\" font-size=\"14.00\">entropy = 0.0</text>\n",
       "<text text-anchor=\"middle\" x=\"531.5\" y=\"-22.8\" font-family=\"Times,serif\" font-size=\"14.00\">samples = 12</text>\n",
       "<text text-anchor=\"middle\" x=\"531.5\" y=\"-7.8\" font-family=\"Times,serif\" font-size=\"14.00\">value = [12, 0]</text>\n",
       "</g>\n",
       "<!-- 9&#45;&gt;10 -->\n",
       "<g id=\"edge10\" class=\"edge\">\n",
       "<title>9&#45;&gt;10</title>\n",
       "<path fill=\"none\" stroke=\"black\" d=\"M531.5,-88.95C531.5,-80.72 531.5,-71.85 531.5,-63.48\"/>\n",
       "<polygon fill=\"black\" stroke=\"black\" points=\"535,-63.24 531.5,-53.24 528,-63.24 535,-63.24\"/>\n",
       "</g>\n",
       "<!-- 11 -->\n",
       "<g id=\"node12\" class=\"node\">\n",
       "<title>11</title>\n",
       "<polygon fill=\"#399de5\" stroke=\"black\" points=\"691.5,-53 599.5,-53 599.5,0 691.5,0 691.5,-53\"/>\n",
       "<text text-anchor=\"middle\" x=\"645.5\" y=\"-37.8\" font-family=\"Times,serif\" font-size=\"14.00\">entropy = 0.0</text>\n",
       "<text text-anchor=\"middle\" x=\"645.5\" y=\"-22.8\" font-family=\"Times,serif\" font-size=\"14.00\">samples = 2</text>\n",
       "<text text-anchor=\"middle\" x=\"645.5\" y=\"-7.8\" font-family=\"Times,serif\" font-size=\"14.00\">value = [0, 2]</text>\n",
       "</g>\n",
       "<!-- 9&#45;&gt;11 -->\n",
       "<g id=\"edge11\" class=\"edge\">\n",
       "<title>9&#45;&gt;11</title>\n",
       "<path fill=\"none\" stroke=\"black\" d=\"M571.37,-88.95C582.74,-79.53 595.11,-69.27 606.43,-59.89\"/>\n",
       "<polygon fill=\"black\" stroke=\"black\" points=\"608.99,-62.31 614.45,-53.24 604.52,-56.92 608.99,-62.31\"/>\n",
       "</g>\n",
       "</g>\n",
       "</svg>\n"
      ],
      "text/plain": [
       "<graphviz.files.Source at 0x15e5c1850>"
      ]
     },
     "metadata": {},
     "output_type": "display_data"
    }
   ],
   "source": [
    "import graphviz\n",
    "from sklearn.tree import export_graphviz\n",
    "\n",
    "export_graphviz(tree30_grid.best_estimator_, out_file='tree30.dot',\n",
    "                feature_names=X_train.columns,\n",
    "                impurity=True, filled=True)\n",
    "with open('tree30.dot') as f:\n",
    "    dot_graph = f.read()\n",
    "display(graphviz.Source(dot_graph))"
   ]
  },
  {
   "cell_type": "code",
   "execution_count": 278,
   "id": "364cb5a9",
   "metadata": {
    "ExecuteTime": {
     "end_time": "2021-08-28T15:24:35.279819Z",
     "start_time": "2021-08-28T15:24:35.273371Z"
    }
   },
   "outputs": [
    {
     "data": {
      "text/html": [
       "<div>\n",
       "<style scoped>\n",
       "    .dataframe tbody tr th:only-of-type {\n",
       "        vertical-align: middle;\n",
       "    }\n",
       "\n",
       "    .dataframe tbody tr th {\n",
       "        vertical-align: top;\n",
       "    }\n",
       "\n",
       "    .dataframe thead th {\n",
       "        text-align: right;\n",
       "    }\n",
       "</style>\n",
       "<table border=\"1\" class=\"dataframe\">\n",
       "  <thead>\n",
       "    <tr style=\"text-align: right;\">\n",
       "      <th></th>\n",
       "      <th>importance</th>\n",
       "    </tr>\n",
       "  </thead>\n",
       "  <tbody>\n",
       "    <tr>\n",
       "      <th>worst_concave_points</th>\n",
       "      <td>0.645755</td>\n",
       "    </tr>\n",
       "    <tr>\n",
       "      <th>worst_area</th>\n",
       "      <td>0.212914</td>\n",
       "    </tr>\n",
       "    <tr>\n",
       "      <th>texture_error</th>\n",
       "      <td>0.048011</td>\n",
       "    </tr>\n",
       "    <tr>\n",
       "      <th>mean_texture</th>\n",
       "      <td>0.047834</td>\n",
       "    </tr>\n",
       "    <tr>\n",
       "      <th>mean_radius</th>\n",
       "      <td>0.045488</td>\n",
       "    </tr>\n",
       "  </tbody>\n",
       "</table>\n",
       "</div>"
      ],
      "text/plain": [
       "                      importance\n",
       "worst_concave_points    0.645755\n",
       "worst_area              0.212914\n",
       "texture_error           0.048011\n",
       "mean_texture            0.047834\n",
       "mean_radius             0.045488"
      ]
     },
     "execution_count": 278,
     "metadata": {},
     "output_type": "execute_result"
    }
   ],
   "source": [
    "# Feature Importances\n",
    "feat_imp = pd.DataFrame({'importance': tree30_grid.best_estimator_.feature_importances_}, X_train.columns)\n",
    "\n",
    "# 30개 변수 중 24개 변수의 feature importance가 0이다.\n",
    "feat_imp_selected = feat_imp[feat_imp['importance']!=0].sort_values(by='importance', ascending=False)\n",
    "\n",
    "feat_imp_selected"
   ]
  },
  {
   "cell_type": "code",
   "execution_count": 279,
   "id": "69840f27",
   "metadata": {
    "ExecuteTime": {
     "end_time": "2021-08-28T15:24:35.794887Z",
     "start_time": "2021-08-28T15:24:35.711571Z"
    }
   },
   "outputs": [
    {
     "data": {
      "image/png": "[encoded data removed]",
      "text/plain": [
       "<Figure size 576x432 with 1 Axes>"
      ]
     },
     "metadata": {
      "needs_background": "light"
     },
     "output_type": "display_data"
    }
   ],
   "source": [
    "plt.figure(figsize=(8,6))\n",
    "sns.barplot(x = 'importance', y = feat_imp_selected.index,\n",
    "            data=feat_imp_selected)\n",
    "plt.show()"
   ]
  },
  {
   "cell_type": "markdown",
   "id": "21c58409",
   "metadata": {},
   "source": [
    "### Decision Tree 결론\n",
    "1. 주성분을 이용한 DT의 graphviz나 feature importance를 굳이 분석하지 않은 이유는,\n",
    "    - 어차피 이용된 변수 3개가 주성분이기 때문에, graph나 feature importance를 봐도 의미 있는 해석을 하기가 어렵다.\n",
    "2. Decision Tree는 독특하게 **30개의 변수를 이용한 모델이 더 성능이 좋다.**\n",
    "    - 정확도는 93%, AUC는 0.92가 나왔으며; 이는 **주성분 3개를 이용한 로지스틱 회귀 모형보다는 낮은 성능**이다.\n",
    "3. 30개 변수를 이용한 DT를 graphviz & feature importance 해본 결과,\n",
    "    - 30개 변수 중 **24개 변수의 feature importance가 0이 나왔다** & graphviz를 봐도 변수가 30개인 모델치고 엄청나게 간단한 그래프가 그려졌다 ==>>>> 사실상 6개 정도의 변수만 사용된 것이다.\n",
    "    - **가장 중요한 변수(가장 information gain이 높은 split)는 mean_concave_points가 -0.404보다 높은지 낮은지**다.\n",
    "    - 근데 여기서 -0.404는 standard-scaled된 값이기 때문에, 원래 값을 알고 싶다면 inverse_transform 해야 한다."
   ]
  },
  {
   "cell_type": "code",
   "execution_count": null,
   "id": "44a83ef7",
   "metadata": {},
   "outputs": [],
   "source": []
  },
  {
   "cell_type": "code",
   "execution_count": null,
   "id": "07b6a489",
   "metadata": {},
   "outputs": [],
   "source": []
  },
  {
   "cell_type": "markdown",
   "id": "49c00447",
   "metadata": {},
   "source": [
    "# 8월 26일자 업데이트\n",
    "\n",
    "- train_test_split에서 test_size 0.4;\n",
    "- Tree-based model 활용 예정이므로 feature scaling 하지 않음;<br><br>\n",
    "\n",
    "- PCA 이용하지 않고 기존 데이터셋으로 tree model 구현;\n",
    "- feature importance 분석;\n",
    "- graphviz를 통해 tree model 분석;\n",
    "- 분류모델 성능지표 확인 (confusion matrix, accuracy, etc.)"
   ]
  },
  {
   "cell_type": "markdown",
   "id": "f01a5bd5",
   "metadata": {},
   "source": [
    "# 7. Decision Tree Classification"
   ]
  },
  {
   "cell_type": "code",
   "execution_count": 357,
   "id": "d966f4ec",
   "metadata": {
    "ExecuteTime": {
     "end_time": "2021-08-28T15:45:04.850887Z",
     "start_time": "2021-08-28T15:45:04.822608Z"
    }
   },
   "outputs": [
    {
     "name": "stdout",
     "output_type": "stream",
     "text": [
      "(192, 30) (128, 30) (192,) (128,)\n"
     ]
    }
   ],
   "source": [
    "# Data - load and preprocess\n",
    "df = pd.read_csv('3data/유방암.csv', encoding='euc-kr')\n",
    "\n",
    "X = df.drop('diagnosis', axis=1)\n",
    "y = df['diagnosis']\n",
    "\n",
    "# 목표변수 라벨링\n",
    "y = y.map({'양성': 1, '음성': 0})\n",
    "\n",
    "# class unbalanced이므로 stratify=y & test_size=0.4\n",
    "X_train, X_test, y_train, y_test =\\\n",
    "        train_test_split(X, y, test_size=0.4, stratify=y) \n",
    "\n",
    "print(X_train.shape, X_test.shape, y_train.shape, y_test.shape)"
   ]
  },
  {
   "cell_type": "markdown",
   "id": "55f80f70",
   "metadata": {},
   "source": [
    "## 7-1. Decision Tree 구현"
   ]
  },
  {
   "cell_type": "code",
   "execution_count": 282,
   "id": "251f3277",
   "metadata": {
    "ExecuteTime": {
     "end_time": "2021-08-28T15:27:02.683566Z",
     "start_time": "2021-08-28T15:27:02.678722Z"
    }
   },
   "outputs": [],
   "source": [
    "# modelling\n",
    "tree0 = DecisionTreeClassifier(criterion='gini', random_state=0)"
   ]
  },
  {
   "cell_type": "code",
   "execution_count": 283,
   "id": "fcfcd713",
   "metadata": {
    "ExecuteTime": {
     "end_time": "2021-08-28T15:27:09.307916Z",
     "start_time": "2021-08-28T15:27:02.887553Z"
    }
   },
   "outputs": [
    {
     "data": {
      "text/plain": [
       "GridSearchCV(cv=3, estimator=DecisionTreeClassifier(random_state=0),\n",
       "             param_grid={'max_depth': [1, 2, 3, 4, 5, 6, 7, 8, 9],\n",
       "                         'min_samples_leaf': [2, 4, 6, 8, 10, 12, 14, 16, 18],\n",
       "                         'min_samples_split': [4, 6, 8, 10, 12, 14, 16, 18, 20,\n",
       "                                               22, 24, 26, 28]},\n",
       "             return_train_score=True)"
      ]
     },
     "execution_count": 283,
     "metadata": {},
     "output_type": "execute_result"
    }
   ],
   "source": [
    "# GridSearchCv로 hyperparameter tuning\n",
    "params = {'max_depth': [i for i in range(1,10)],\n",
    "          'min_samples_split': [i * 2 for i in range(2,15)],\n",
    "          'min_samples_leaf': [i * 2 for i in range(1, 10)]}\n",
    "tree0_grid = GridSearchCV(tree0, param_grid=params,\n",
    "                           cv=3, refit=True, return_train_score=True)\n",
    "\n",
    "tree0_grid.fit(X_train, y_train)"
   ]
  },
  {
   "cell_type": "code",
   "execution_count": 284,
   "id": "8c1b02cf",
   "metadata": {
    "ExecuteTime": {
     "end_time": "2021-08-28T15:27:09.315472Z",
     "start_time": "2021-08-28T15:27:09.308760Z"
    }
   },
   "outputs": [
    {
     "data": {
      "text/html": [
       "<div>\n",
       "<style scoped>\n",
       "    .dataframe tbody tr th:only-of-type {\n",
       "        vertical-align: middle;\n",
       "    }\n",
       "\n",
       "    .dataframe tbody tr th {\n",
       "        vertical-align: top;\n",
       "    }\n",
       "\n",
       "    .dataframe thead th {\n",
       "        text-align: right;\n",
       "    }\n",
       "</style>\n",
       "<table border=\"1\" class=\"dataframe\">\n",
       "  <thead>\n",
       "    <tr style=\"text-align: right;\">\n",
       "      <th></th>\n",
       "      <th>params</th>\n",
       "      <th>mean_train_score</th>\n",
       "      <th>mean_test_score</th>\n",
       "      <th>rank_test_score</th>\n",
       "    </tr>\n",
       "  </thead>\n",
       "  <tbody>\n",
       "    <tr>\n",
       "      <th>235</th>\n",
       "      <td>{'max_depth': 3, 'min_samples_leaf': 2, 'min_s...</td>\n",
       "      <td>0.979167</td>\n",
       "      <td>0.921875</td>\n",
       "      <td>1</td>\n",
       "    </tr>\n",
       "    <tr>\n",
       "      <th>236</th>\n",
       "      <td>{'max_depth': 3, 'min_samples_leaf': 2, 'min_s...</td>\n",
       "      <td>0.973958</td>\n",
       "      <td>0.921875</td>\n",
       "      <td>1</td>\n",
       "    </tr>\n",
       "    <tr>\n",
       "      <th>234</th>\n",
       "      <td>{'max_depth': 3, 'min_samples_leaf': 2, 'min_s...</td>\n",
       "      <td>0.979167</td>\n",
       "      <td>0.921875</td>\n",
       "      <td>1</td>\n",
       "    </tr>\n",
       "    <tr>\n",
       "      <th>237</th>\n",
       "      <td>{'max_depth': 3, 'min_samples_leaf': 2, 'min_s...</td>\n",
       "      <td>0.963542</td>\n",
       "      <td>0.916667</td>\n",
       "      <td>4</td>\n",
       "    </tr>\n",
       "    <tr>\n",
       "      <th>117</th>\n",
       "      <td>{'max_depth': 2, 'min_samples_leaf': 2, 'min_s...</td>\n",
       "      <td>0.958333</td>\n",
       "      <td>0.916667</td>\n",
       "      <td>4</td>\n",
       "    </tr>\n",
       "    <tr>\n",
       "      <th>118</th>\n",
       "      <td>{'max_depth': 2, 'min_samples_leaf': 2, 'min_s...</td>\n",
       "      <td>0.958333</td>\n",
       "      <td>0.916667</td>\n",
       "      <td>4</td>\n",
       "    </tr>\n",
       "    <tr>\n",
       "      <th>119</th>\n",
       "      <td>{'max_depth': 2, 'min_samples_leaf': 2, 'min_s...</td>\n",
       "      <td>0.958333</td>\n",
       "      <td>0.916667</td>\n",
       "      <td>4</td>\n",
       "    </tr>\n",
       "    <tr>\n",
       "      <th>120</th>\n",
       "      <td>{'max_depth': 2, 'min_samples_leaf': 2, 'min_s...</td>\n",
       "      <td>0.958333</td>\n",
       "      <td>0.916667</td>\n",
       "      <td>4</td>\n",
       "    </tr>\n",
       "    <tr>\n",
       "      <th>121</th>\n",
       "      <td>{'max_depth': 2, 'min_samples_leaf': 2, 'min_s...</td>\n",
       "      <td>0.958333</td>\n",
       "      <td>0.916667</td>\n",
       "      <td>4</td>\n",
       "    </tr>\n",
       "    <tr>\n",
       "      <th>122</th>\n",
       "      <td>{'max_depth': 2, 'min_samples_leaf': 2, 'min_s...</td>\n",
       "      <td>0.958333</td>\n",
       "      <td>0.916667</td>\n",
       "      <td>4</td>\n",
       "    </tr>\n",
       "  </tbody>\n",
       "</table>\n",
       "</div>"
      ],
      "text/plain": [
       "                                                params  mean_train_score  \\\n",
       "235  {'max_depth': 3, 'min_samples_leaf': 2, 'min_s...          0.979167   \n",
       "236  {'max_depth': 3, 'min_samples_leaf': 2, 'min_s...          0.973958   \n",
       "234  {'max_depth': 3, 'min_samples_leaf': 2, 'min_s...          0.979167   \n",
       "237  {'max_depth': 3, 'min_samples_leaf': 2, 'min_s...          0.963542   \n",
       "117  {'max_depth': 2, 'min_samples_leaf': 2, 'min_s...          0.958333   \n",
       "118  {'max_depth': 2, 'min_samples_leaf': 2, 'min_s...          0.958333   \n",
       "119  {'max_depth': 2, 'min_samples_leaf': 2, 'min_s...          0.958333   \n",
       "120  {'max_depth': 2, 'min_samples_leaf': 2, 'min_s...          0.958333   \n",
       "121  {'max_depth': 2, 'min_samples_leaf': 2, 'min_s...          0.958333   \n",
       "122  {'max_depth': 2, 'min_samples_leaf': 2, 'min_s...          0.958333   \n",
       "\n",
       "     mean_test_score  rank_test_score  \n",
       "235         0.921875                1  \n",
       "236         0.921875                1  \n",
       "234         0.921875                1  \n",
       "237         0.916667                4  \n",
       "117         0.916667                4  \n",
       "118         0.916667                4  \n",
       "119         0.916667                4  \n",
       "120         0.916667                4  \n",
       "121         0.916667                4  \n",
       "122         0.916667                4  "
      ]
     },
     "execution_count": 284,
     "metadata": {},
     "output_type": "execute_result"
    }
   ],
   "source": [
    "# tree0_grid cv score\n",
    "tree0_score = pd.DataFrame(tree0_grid.cv_results_)\n",
    "tree0_score[['params', 'mean_train_score', 'mean_test_score', 'rank_test_score']].sort_values(by=['rank_test_score'])[:10]"
   ]
  },
  {
   "cell_type": "markdown",
   "id": "0e445d38",
   "metadata": {},
   "source": [
    "## 7-2. Decision Tree 성능 분석"
   ]
  },
  {
   "cell_type": "code",
   "execution_count": 285,
   "id": "9b633b22",
   "metadata": {
    "ExecuteTime": {
     "end_time": "2021-08-28T15:27:09.318818Z",
     "start_time": "2021-08-28T15:27:09.316064Z"
    },
    "scrolled": true
   },
   "outputs": [
    {
     "name": "stdout",
     "output_type": "stream",
     "text": [
      "[[82  3]\n",
      " [ 6 37]]\n"
     ]
    }
   ],
   "source": [
    "# Confusion Matrix\n",
    "from sklearn.metrics import classification_report\n",
    "print(confusion_matrix(y_test, tree0_grid.predict(X_test)))"
   ]
  },
  {
   "cell_type": "markdown",
   "id": "7712a81a",
   "metadata": {},
   "source": [
    "- 테스트 데이터에 대한 confusion matrix에서 **79+6=85개는 음성(0)** 이고, **9+34=43개는 양성(1)** 이다.\n",
    "- 음성 데이터가 양성 데이터보다 2배 많다. => 어느 정도 class imbalance 상태다.\n",
    "    - 이러한 **class imbalance 상황에서는 accuracy만 가지고 모델 성능을 평가할 수 없고, 비즈니스 케이스나 전략적 우선순위에 따라 precision, recall, specificity 등의 지표를 종합적으로 보고 모델 성능을 판단해야 한다.**"
   ]
  },
  {
   "cell_type": "code",
   "execution_count": 286,
   "id": "29395d9c",
   "metadata": {
    "ExecuteTime": {
     "end_time": "2021-08-28T15:27:09.322425Z",
     "start_time": "2021-08-28T15:27:09.320055Z"
    }
   },
   "outputs": [
    {
     "name": "stdout",
     "output_type": "stream",
     "text": [
      "ACC: 0.9296875\n"
     ]
    }
   ],
   "source": [
    "# Accuracy\n",
    "    ## 모델의 정확도(Accuracy)는 (맞춘 데이터 수 / 전체 데이터 수) 이다.\n",
    "print('ACC:', accuracy_score(y_test, tree0_grid.predict(X_test)))"
   ]
  },
  {
   "cell_type": "markdown",
   "id": "e93e95ad",
   "metadata": {},
   "source": [
    "### Precision, Recall, Specificity\n",
    "- 정밀도(Precision)는 **'양성이라고 예측한 값 중 실제로 양성인 데이터의 비율'**, 즉 (TP / TP + FP)이다.\n",
    "- 재현율(Recall)은 **'실제로 양성인 데이터 중 양성이라고 예측한 데이터의 비율'**, 즉 (TP / TP + FN)이다.\n",
    "- 특이도(Specificity)는 **'실제로 음성인 데이터 중 음성이라고 예측한 데이터의 비율'** 즉, (TN / FP + TN)이다."
   ]
  },
  {
   "cell_type": "markdown",
   "id": "2fa7a1bb",
   "metadata": {},
   "source": [
    "> 유방암 진단을 하는 데 있어서 어떤 지표가 제일 중요할까?\n",
    "> - 제일 최악은 실제로 양성인데 음성이라고 예측(진단)하는 경우일 것이다. 하루 빨리 치료 받아야 되는 환자의 치료가 늦어질 수가 있다. ===>>> 즉, **재현율이 높아야 한다.**<br><br>\n",
    "> - 실제로 음성인데 양성이라고 진단하는 경우는 위의 경우보단 괜찮다. 보통 한 번 양성이라고 진단 받더라도, 재확인차 한 번 정도는 더 진단을 받게 되니까 그때가서 음성으로 정분류하면 된다.  ==>>> **양성이라고 예측했을 때 양성인 비율인 '정밀도'에 관한 얘기다**<br><br>\n",
    "> - 특이도는 우선순위가 제일 떨어질 것이다. 실제로 음성인 데이터를 음성으로 분류하는 건 medically urgent problem이 아닌 것 같다.\n",
    "\n",
    "\n",
    "**!!! 따라서, 유방암 진단 케이스에서는.. *재현율이 정밀도보다 우선시* 되어야 한다.**\n",
    "- 정확도가 높은 모델이더라도 음성인 데이터를 음성으로만 잘 분류해내는 것 때문에 정확도가 높고, 정작 재현율이 떨어진다면, 즉 실제로 양성인 환자를 음성으로 분류해낸다면, 이 모델은 절대 유용하지 않을 것이다."
   ]
  },
  {
   "cell_type": "code",
   "execution_count": 287,
   "id": "f44a54f0",
   "metadata": {
    "ExecuteTime": {
     "end_time": "2021-08-28T15:27:09.327748Z",
     "start_time": "2021-08-28T15:27:09.323114Z"
    }
   },
   "outputs": [
    {
     "name": "stdout",
     "output_type": "stream",
     "text": [
      "Recall(재현율): 0.8604651162790697\n",
      "Precision(정밀도): 0.925\n",
      "Specificity(특이도): 0.9294117647058824\n"
     ]
    }
   ],
   "source": [
    "from sklearn.metrics import precision_score, recall_score\n",
    "print(\"Recall(재현율):\", recall_score(y_test, tree0_grid.predict(X_test)))\n",
    "print(\"Precision(정밀도):\", precision_score(y_test, tree0_grid.predict(X_test)))\n",
    "print(\"Specificity(특이도):\", ( 79 / (79+6) ))"
   ]
  },
  {
   "cell_type": "markdown",
   "id": "9e60c8d7",
   "metadata": {},
   "source": [
    "> 뭔가 단단히 잘못됐다.. 유방암 진단 모델의 우선순위는 재현율 > 정밀도 > 특이도인데, 정확히 반대로 점수가 높다.<br>\n",
    "\n",
    "> 이를 해결해보기 위해 GridSearchCV의 scoring 파라미터를 'recall'로 설정해본다."
   ]
  },
  {
   "cell_type": "markdown",
   "id": "9a0faf7d",
   "metadata": {},
   "source": [
    "### GridSearchCV - Recall"
   ]
  },
  {
   "cell_type": "code",
   "execution_count": 288,
   "id": "26f683d0",
   "metadata": {
    "ExecuteTime": {
     "end_time": "2021-08-28T15:27:15.754012Z",
     "start_time": "2021-08-28T15:27:09.328484Z"
    }
   },
   "outputs": [
    {
     "data": {
      "text/plain": [
       "GridSearchCV(cv=3, estimator=DecisionTreeClassifier(random_state=0),\n",
       "             param_grid={'max_depth': [1, 2, 3, 4, 5, 6, 7, 8, 9],\n",
       "                         'min_samples_leaf': [2, 4, 6, 8, 10, 12, 14, 16, 18],\n",
       "                         'min_samples_split': [4, 6, 8, 10, 12, 14, 16, 18, 20,\n",
       "                                               22, 24, 26, 28]},\n",
       "             scoring='recall')"
      ]
     },
     "execution_count": 288,
     "metadata": {},
     "output_type": "execute_result"
    }
   ],
   "source": [
    "# GridSearchCv로 hyperparameter tuning\n",
    "tree0 = DecisionTreeClassifier(criterion='gini', random_state=0)\n",
    "params = {'max_depth': [i for i in range(1,10)],\n",
    "          'min_samples_split': [i * 2 for i in range(2,15)],\n",
    "          'min_samples_leaf': [i * 2 for i in range(1, 10)]}\n",
    "tree0_grid = GridSearchCV(tree0, param_grid=params,\n",
    "                          cv=3, refit=True, scoring='recall')\n",
    "\n",
    "tree0_grid.fit(X_train, y_train)"
   ]
  },
  {
   "cell_type": "code",
   "execution_count": 289,
   "id": "9deedffc",
   "metadata": {
    "ExecuteTime": {
     "end_time": "2021-08-28T15:27:15.757159Z",
     "start_time": "2021-08-28T15:27:15.754596Z"
    }
   },
   "outputs": [
    {
     "name": "stdout",
     "output_type": "stream",
     "text": [
      "[[81  4]\n",
      " [ 5 38]]\n"
     ]
    }
   ],
   "source": [
    "print(confusion_matrix(y_test, tree0_grid.predict(X_test)))"
   ]
  },
  {
   "cell_type": "code",
   "execution_count": 296,
   "id": "7afe6670",
   "metadata": {
    "ExecuteTime": {
     "end_time": "2021-08-28T15:28:49.022362Z",
     "start_time": "2021-08-28T15:28:49.000789Z"
    }
   },
   "outputs": [
    {
     "name": "stdout",
     "output_type": "stream",
     "text": [
      "Accuracy(정확도): 0.9296875\n",
      "Recall(재현율): 0.8837209302325582\n",
      "Precision(정밀도): 0.9047619047619048\n",
      "Specificity(특이도): 0.9529411764705882\n"
     ]
    }
   ],
   "source": [
    "print(\"Accuracy(정확도):\", accuracy_score(y_test, tree0_grid.predict(X_test)))\n",
    "print(\"Recall(재현율):\", recall_score(y_test, tree0_grid.predict(X_test)))\n",
    "print(\"Precision(정밀도):\", precision_score(y_test, tree0_grid.predict(X_test)))\n",
    "print(\"Specificity(특이도):\", ( 81 / 85 ))"
   ]
  },
  {
   "cell_type": "code",
   "execution_count": 295,
   "id": "0a1e2243",
   "metadata": {
    "ExecuteTime": {
     "end_time": "2021-08-28T15:28:33.902702Z",
     "start_time": "2021-08-28T15:28:33.873373Z"
    }
   },
   "outputs": [
    {
     "data": {
      "text/html": [
       "<div>\n",
       "<style scoped>\n",
       "    .dataframe tbody tr th:only-of-type {\n",
       "        vertical-align: middle;\n",
       "    }\n",
       "\n",
       "    .dataframe tbody tr th {\n",
       "        vertical-align: top;\n",
       "    }\n",
       "\n",
       "    .dataframe thead th {\n",
       "        text-align: right;\n",
       "    }\n",
       "</style>\n",
       "<table border=\"1\" class=\"dataframe\">\n",
       "  <thead>\n",
       "    <tr style=\"text-align: right;\">\n",
       "      <th></th>\n",
       "      <th>Accuracy</th>\n",
       "      <th>Precision</th>\n",
       "      <th>Recall</th>\n",
       "      <th>Specificity</th>\n",
       "      <th>F1Score</th>\n",
       "    </tr>\n",
       "  </thead>\n",
       "  <tbody>\n",
       "    <tr>\n",
       "      <th>Decision Tree</th>\n",
       "      <td>0.929688</td>\n",
       "      <td>0.904762</td>\n",
       "      <td>0.883721</td>\n",
       "      <td>0.952941</td>\n",
       "      <td>0.894118</td>\n",
       "    </tr>\n",
       "  </tbody>\n",
       "</table>\n",
       "</div>"
      ],
      "text/plain": [
       "               Accuracy  Precision    Recall  Specificity   F1Score\n",
       "Decision Tree  0.929688   0.904762  0.883721     0.952941  0.894118"
      ]
     },
     "execution_count": 295,
     "metadata": {},
     "output_type": "execute_result"
    }
   ],
   "source": [
    "# tree score df\n",
    "tree_score = pd.DataFrame(index=['Decision Tree'])\n",
    "tree_score['Accuracy'] = [accuracy_score(y_test, tree0_grid.predict(X_test))]\n",
    "tree_score['Precision'] = [precision_score(y_test, tree0_grid.predict(X_test))]\n",
    "tree_score['Recall'] = [recall_score(y_test, tree0_grid.predict(X_test))]\n",
    "tree_score['Specificity'] = [recall_score(y_test, tree0_grid.predict(X_test), pos_label=0)]\n",
    "tree_score['F1Score'] = [f1_score(y_test, tree0_grid.predict(X_test))]\n",
    "\n",
    "tree_score"
   ]
  },
  {
   "cell_type": "markdown",
   "id": "5c0d1271",
   "metadata": {},
   "source": [
    "### Comment\n",
    "- GridSearchCV(scoring='recall')로 하니까 오히려 recall score가 0.72로 더 떨어졌다.\n",
    "    - 검색을 좀 해보니, 워낙 데이터셋이 작아서 생긴 문제인 거 같기도 하다. (train data 192개)\n",
    "- 그래도 scoring criteria를 recall로 했는데, 어떻게 criteria가 accuracy일 때보다 낮은 점수를 반환할 수 있는지 이해가 안 된다."
   ]
  },
  {
   "cell_type": "code",
   "execution_count": null,
   "id": "589d8c26",
   "metadata": {},
   "outputs": [],
   "source": []
  },
  {
   "cell_type": "markdown",
   "id": "6ffa320b",
   "metadata": {},
   "source": [
    "## 7-3. Decision Tree Feature Importance & Graphviz"
   ]
  },
  {
   "cell_type": "code",
   "execution_count": 298,
   "id": "5d1d46a8",
   "metadata": {
    "ExecuteTime": {
     "end_time": "2021-08-28T15:29:11.541485Z",
     "start_time": "2021-08-28T15:29:11.516924Z"
    }
   },
   "outputs": [
    {
     "data": {
      "text/html": [
       "<div>\n",
       "<style scoped>\n",
       "    .dataframe tbody tr th:only-of-type {\n",
       "        vertical-align: middle;\n",
       "    }\n",
       "\n",
       "    .dataframe tbody tr th {\n",
       "        vertical-align: top;\n",
       "    }\n",
       "\n",
       "    .dataframe thead th {\n",
       "        text-align: right;\n",
       "    }\n",
       "</style>\n",
       "<table border=\"1\" class=\"dataframe\">\n",
       "  <thead>\n",
       "    <tr style=\"text-align: right;\">\n",
       "      <th></th>\n",
       "      <th>features</th>\n",
       "      <th>importances</th>\n",
       "    </tr>\n",
       "  </thead>\n",
       "  <tbody>\n",
       "    <tr>\n",
       "      <th>7</th>\n",
       "      <td>mean_concave_points</td>\n",
       "      <td>0.824295</td>\n",
       "    </tr>\n",
       "    <tr>\n",
       "      <th>6</th>\n",
       "      <td>mean_concavity</td>\n",
       "      <td>0.105372</td>\n",
       "    </tr>\n",
       "    <tr>\n",
       "      <th>3</th>\n",
       "      <td>mean_area</td>\n",
       "      <td>0.070334</td>\n",
       "    </tr>\n",
       "    <tr>\n",
       "      <th>0</th>\n",
       "      <td>mean_radius</td>\n",
       "      <td>0.000000</td>\n",
       "    </tr>\n",
       "    <tr>\n",
       "      <th>17</th>\n",
       "      <td>concave_points_error</td>\n",
       "      <td>0.000000</td>\n",
       "    </tr>\n",
       "    <tr>\n",
       "      <th>28</th>\n",
       "      <td>worst_symmetry</td>\n",
       "      <td>0.000000</td>\n",
       "    </tr>\n",
       "    <tr>\n",
       "      <th>27</th>\n",
       "      <td>worst_concave_points</td>\n",
       "      <td>0.000000</td>\n",
       "    </tr>\n",
       "    <tr>\n",
       "      <th>26</th>\n",
       "      <td>worst_concavity</td>\n",
       "      <td>0.000000</td>\n",
       "    </tr>\n",
       "    <tr>\n",
       "      <th>25</th>\n",
       "      <td>worst_compactness</td>\n",
       "      <td>0.000000</td>\n",
       "    </tr>\n",
       "    <tr>\n",
       "      <th>24</th>\n",
       "      <td>worst_smoothness</td>\n",
       "      <td>0.000000</td>\n",
       "    </tr>\n",
       "  </tbody>\n",
       "</table>\n",
       "</div>"
      ],
      "text/plain": [
       "                features  importances\n",
       "7    mean_concave_points     0.824295\n",
       "6         mean_concavity     0.105372\n",
       "3              mean_area     0.070334\n",
       "0            mean_radius     0.000000\n",
       "17  concave_points_error     0.000000\n",
       "28        worst_symmetry     0.000000\n",
       "27  worst_concave_points     0.000000\n",
       "26       worst_concavity     0.000000\n",
       "25     worst_compactness     0.000000\n",
       "24      worst_smoothness     0.000000"
      ]
     },
     "execution_count": 298,
     "metadata": {},
     "output_type": "execute_result"
    }
   ],
   "source": [
    "# Feature importance\n",
    "tree0 = tree0_grid.best_estimator_\n",
    "\n",
    "feat_imp = pd.DataFrame()\n",
    "feat_imp['features'] = X_train.columns\n",
    "feat_imp['importances'] = tree0.feature_importances_\n",
    "feat_imp.sort_values(by='importances', ascending=False, inplace=True)\n",
    "\n",
    "feat_imp.head(10)"
   ]
  },
  {
   "cell_type": "code",
   "execution_count": 299,
   "id": "b7eb16f3",
   "metadata": {
    "ExecuteTime": {
     "end_time": "2021-08-28T15:29:12.528711Z",
     "start_time": "2021-08-28T15:29:12.109890Z"
    }
   },
   "outputs": [
    {
     "data": {
      "image/svg+xml": [
       "<?xml version=\"1.0\" encoding=\"UTF-8\" standalone=\"no\"?>\n",
       "<!DOCTYPE svg PUBLIC \"-//W3C//DTD SVG 1.1//EN\"\n",
       " \"http://www.w3.org/Graphics/SVG/1.1/DTD/svg11.dtd\">\n",
       "<!-- Generated by graphviz version 2.48.0 (0)\n",
       " -->\n",
       "<!-- Title: Tree Pages: 1 -->\n",
       "<svg width=\"481pt\" height=\"269pt\"\n",
       " viewBox=\"0.00 0.00 480.50 269.00\" xmlns=\"http://www.w3.org/2000/svg\" xmlns:xlink=\"http://www.w3.org/1999/xlink\">\n",
       "<g id=\"graph0\" class=\"graph\" transform=\"scale(1 1) rotate(0) translate(4 265)\">\n",
       "<title>Tree</title>\n",
       "<polygon fill=\"white\" stroke=\"transparent\" points=\"-4,4 -4,-265 476.5,-265 476.5,4 -4,4\"/>\n",
       "<!-- 0 -->\n",
       "<g id=\"node1\" class=\"node\">\n",
       "<title>0</title>\n",
       "<polygon fill=\"#f2c19e\" stroke=\"black\" points=\"330,-261 135,-261 135,-193 330,-193 330,-261\"/>\n",
       "<text text-anchor=\"middle\" x=\"232.5\" y=\"-245.8\" font-family=\"Times,serif\" font-size=\"14.00\">mean_concave_points &lt;= 0.039</text>\n",
       "<text text-anchor=\"middle\" x=\"232.5\" y=\"-230.8\" font-family=\"Times,serif\" font-size=\"14.00\">gini = 0.448</text>\n",
       "<text text-anchor=\"middle\" x=\"232.5\" y=\"-215.8\" font-family=\"Times,serif\" font-size=\"14.00\">samples = 192</text>\n",
       "<text text-anchor=\"middle\" x=\"232.5\" y=\"-200.8\" font-family=\"Times,serif\" font-size=\"14.00\">value = [127, 65]</text>\n",
       "</g>\n",
       "<!-- 1 -->\n",
       "<g id=\"node2\" class=\"node\">\n",
       "<title>1</title>\n",
       "<polygon fill=\"#51a9e8\" stroke=\"black\" points=\"217.5,-157 79.5,-157 79.5,-89 217.5,-89 217.5,-157\"/>\n",
       "<text text-anchor=\"middle\" x=\"148.5\" y=\"-141.8\" font-family=\"Times,serif\" font-size=\"14.00\">mean_area &lt;= 694.15</text>\n",
       "<text text-anchor=\"middle\" x=\"148.5\" y=\"-126.8\" font-family=\"Times,serif\" font-size=\"14.00\">gini = 0.195</text>\n",
       "<text text-anchor=\"middle\" x=\"148.5\" y=\"-111.8\" font-family=\"Times,serif\" font-size=\"14.00\">samples = 64</text>\n",
       "<text text-anchor=\"middle\" x=\"148.5\" y=\"-96.8\" font-family=\"Times,serif\" font-size=\"14.00\">value = [7, 57]</text>\n",
       "</g>\n",
       "<!-- 0&#45;&gt;1 -->\n",
       "<g id=\"edge1\" class=\"edge\">\n",
       "<title>0&#45;&gt;1</title>\n",
       "<path fill=\"none\" stroke=\"black\" d=\"M205.23,-192.88C197.97,-184.07 190.03,-174.43 182.46,-165.24\"/>\n",
       "<polygon fill=\"black\" stroke=\"black\" points=\"184.98,-162.79 175.92,-157.3 179.58,-167.24 184.98,-162.79\"/>\n",
       "<text text-anchor=\"middle\" x=\"173.51\" y=\"-178.48\" font-family=\"Times,serif\" font-size=\"14.00\">True</text>\n",
       "</g>\n",
       "<!-- 4 -->\n",
       "<g id=\"node5\" class=\"node\">\n",
       "<title>4</title>\n",
       "<polygon fill=\"#e78946\" stroke=\"black\" points=\"399,-157 236,-157 236,-89 399,-89 399,-157\"/>\n",
       "<text text-anchor=\"middle\" x=\"317.5\" y=\"-141.8\" font-family=\"Times,serif\" font-size=\"14.00\">mean_concavity &lt;= 0.073</text>\n",
       "<text text-anchor=\"middle\" x=\"317.5\" y=\"-126.8\" font-family=\"Times,serif\" font-size=\"14.00\">gini = 0.117</text>\n",
       "<text text-anchor=\"middle\" x=\"317.5\" y=\"-111.8\" font-family=\"Times,serif\" font-size=\"14.00\">samples = 128</text>\n",
       "<text text-anchor=\"middle\" x=\"317.5\" y=\"-96.8\" font-family=\"Times,serif\" font-size=\"14.00\">value = [120, 8]</text>\n",
       "</g>\n",
       "<!-- 0&#45;&gt;4 -->\n",
       "<g id=\"edge4\" class=\"edge\">\n",
       "<title>0&#45;&gt;4</title>\n",
       "<path fill=\"none\" stroke=\"black\" d=\"M260.1,-192.88C267.45,-184.07 275.47,-174.43 283.14,-165.24\"/>\n",
       "<polygon fill=\"black\" stroke=\"black\" points=\"286.04,-167.22 289.75,-157.3 280.66,-162.74 286.04,-167.22\"/>\n",
       "<text text-anchor=\"middle\" x=\"292.01\" y=\"-178.5\" font-family=\"Times,serif\" font-size=\"14.00\">False</text>\n",
       "</g>\n",
       "<!-- 2 -->\n",
       "<g id=\"node3\" class=\"node\">\n",
       "<title>2</title>\n",
       "<polygon fill=\"#47a4e7\" stroke=\"black\" points=\"99,-53 0,-53 0,0 99,0 99,-53\"/>\n",
       "<text text-anchor=\"middle\" x=\"49.5\" y=\"-37.8\" font-family=\"Times,serif\" font-size=\"14.00\">gini = 0.123</text>\n",
       "<text text-anchor=\"middle\" x=\"49.5\" y=\"-22.8\" font-family=\"Times,serif\" font-size=\"14.00\">samples = 61</text>\n",
       "<text text-anchor=\"middle\" x=\"49.5\" y=\"-7.8\" font-family=\"Times,serif\" font-size=\"14.00\">value = [4, 57]</text>\n",
       "</g>\n",
       "<!-- 1&#45;&gt;2 -->\n",
       "<g id=\"edge2\" class=\"edge\">\n",
       "<title>1&#45;&gt;2</title>\n",
       "<path fill=\"none\" stroke=\"black\" d=\"M113.87,-88.95C104.1,-79.62 93.47,-69.47 83.72,-60.16\"/>\n",
       "<polygon fill=\"black\" stroke=\"black\" points=\"86.11,-57.61 76.46,-53.24 81.28,-62.67 86.11,-57.61\"/>\n",
       "</g>\n",
       "<!-- 3 -->\n",
       "<g id=\"node4\" class=\"node\">\n",
       "<title>3</title>\n",
       "<polygon fill=\"#e58139\" stroke=\"black\" points=\"209.5,-53 117.5,-53 117.5,0 209.5,0 209.5,-53\"/>\n",
       "<text text-anchor=\"middle\" x=\"163.5\" y=\"-37.8\" font-family=\"Times,serif\" font-size=\"14.00\">gini = 0.0</text>\n",
       "<text text-anchor=\"middle\" x=\"163.5\" y=\"-22.8\" font-family=\"Times,serif\" font-size=\"14.00\">samples = 3</text>\n",
       "<text text-anchor=\"middle\" x=\"163.5\" y=\"-7.8\" font-family=\"Times,serif\" font-size=\"14.00\">value = [3, 0]</text>\n",
       "</g>\n",
       "<!-- 1&#45;&gt;3 -->\n",
       "<g id=\"edge3\" class=\"edge\">\n",
       "<title>1&#45;&gt;3</title>\n",
       "<path fill=\"none\" stroke=\"black\" d=\"M153.75,-88.95C155.07,-80.62 156.49,-71.65 157.83,-63.2\"/>\n",
       "<polygon fill=\"black\" stroke=\"black\" points=\"161.3,-63.66 159.41,-53.24 154.39,-62.56 161.3,-63.66\"/>\n",
       "</g>\n",
       "<!-- 5 -->\n",
       "<g id=\"node6\" class=\"node\">\n",
       "<title>5</title>\n",
       "<polygon fill=\"#61b1ea\" stroke=\"black\" points=\"348.5,-53 256.5,-53 256.5,0 348.5,0 348.5,-53\"/>\n",
       "<text text-anchor=\"middle\" x=\"302.5\" y=\"-37.8\" font-family=\"Times,serif\" font-size=\"14.00\">gini = 0.278</text>\n",
       "<text text-anchor=\"middle\" x=\"302.5\" y=\"-22.8\" font-family=\"Times,serif\" font-size=\"14.00\">samples = 6</text>\n",
       "<text text-anchor=\"middle\" x=\"302.5\" y=\"-7.8\" font-family=\"Times,serif\" font-size=\"14.00\">value = [1, 5]</text>\n",
       "</g>\n",
       "<!-- 4&#45;&gt;5 -->\n",
       "<g id=\"edge5\" class=\"edge\">\n",
       "<title>4&#45;&gt;5</title>\n",
       "<path fill=\"none\" stroke=\"black\" d=\"M312.25,-88.95C310.93,-80.62 309.51,-71.65 308.17,-63.2\"/>\n",
       "<polygon fill=\"black\" stroke=\"black\" points=\"311.61,-62.56 306.59,-53.24 304.7,-63.66 311.61,-62.56\"/>\n",
       "</g>\n",
       "<!-- 6 -->\n",
       "<g id=\"node7\" class=\"node\">\n",
       "<title>6</title>\n",
       "<polygon fill=\"#e6843e\" stroke=\"black\" points=\"472.5,-53 366.5,-53 366.5,0 472.5,0 472.5,-53\"/>\n",
       "<text text-anchor=\"middle\" x=\"419.5\" y=\"-37.8\" font-family=\"Times,serif\" font-size=\"14.00\">gini = 0.048</text>\n",
       "<text text-anchor=\"middle\" x=\"419.5\" y=\"-22.8\" font-family=\"Times,serif\" font-size=\"14.00\">samples = 122</text>\n",
       "<text text-anchor=\"middle\" x=\"419.5\" y=\"-7.8\" font-family=\"Times,serif\" font-size=\"14.00\">value = [119, 3]</text>\n",
       "</g>\n",
       "<!-- 4&#45;&gt;6 -->\n",
       "<g id=\"edge6\" class=\"edge\">\n",
       "<title>4&#45;&gt;6</title>\n",
       "<path fill=\"none\" stroke=\"black\" d=\"M353.17,-88.95C363.25,-79.62 374.2,-69.47 384.24,-60.16\"/>\n",
       "<polygon fill=\"black\" stroke=\"black\" points=\"386.76,-62.6 391.72,-53.24 382.01,-57.47 386.76,-62.6\"/>\n",
       "</g>\n",
       "</g>\n",
       "</svg>\n"
      ],
      "text/plain": [
       "<graphviz.files.Source at 0x15e0031c0>"
      ]
     },
     "metadata": {},
     "output_type": "display_data"
    }
   ],
   "source": [
    "# graphviz\n",
    "import graphviz\n",
    "from sklearn.tree import export_graphviz\n",
    "\n",
    "export_graphviz(tree0, out_file='tree0.dot',\n",
    "                feature_names=X_train.columns,\n",
    "                impurity=True, filled=True)\n",
    "with open('tree0.dot') as f:\n",
    "    dot_graph = f.read()\n",
    "display(graphviz.Source(dot_graph))"
   ]
  },
  {
   "cell_type": "markdown",
   "id": "9a195b7b",
   "metadata": {},
   "source": [
    "> worst_perimeter가 0.88이라는 feature importance를 가지고 있다.\n",
    "> - \"이것 이외의 변수는 의미가 없다\"는 뜻은 아니고, **worst_perimeter가 다른 변수들에 비해 워낙 설명력이 좋다는 말이다**.<br><br>\n",
    "> - root node에서 (127,65)로 지니 계수가 0.448이던 것이, **\"worst_perimeter가 101.9 이상이냐 이하냐\"는 split 한 번으로 지니계수가 0.095, 0.114로** 크게 낮아졌다. depth 1의 node를 보면 이미 (3,57), (124,8)로 거의 양성과 음성이 분류가 되어 버렸다."
   ]
  },
  {
   "cell_type": "code",
   "execution_count": 300,
   "id": "0272d5bc",
   "metadata": {
    "ExecuteTime": {
     "end_time": "2021-08-28T15:29:12.827558Z",
     "start_time": "2021-08-28T15:29:12.818496Z"
    }
   },
   "outputs": [],
   "source": [
    "X_train_peri = pd.DataFrame(X_train['worst_perimeter'])\n",
    "X_test_peri = pd.DataFrame(X_test['worst_perimeter'])"
   ]
  },
  {
   "cell_type": "code",
   "execution_count": 301,
   "id": "a332c2cf",
   "metadata": {
    "ExecuteTime": {
     "end_time": "2021-08-28T15:29:17.531910Z",
     "start_time": "2021-08-28T15:29:13.184862Z"
    }
   },
   "outputs": [],
   "source": [
    "tree_peri = DecisionTreeClassifier(criterion='gini', random_state=0)\n",
    "\n",
    "\n",
    "params = {'max_depth': [i for i in range(1,10)],\n",
    "          'min_samples_split': [i * 2 for i in range(2,15)],\n",
    "          'min_samples_leaf': [i * 2 for i in range(1, 10)]}\n",
    "tree_peri_grid = GridSearchCV(tree_peri, param_grid=params,\n",
    "                          cv=3, refit=True, scoring='recall')\n",
    "tree_peri_grid.fit(X_train_peri, y_train)\n",
    "\n",
    "\n",
    "tree_peri = tree_peri_grid.best_estimator_"
   ]
  },
  {
   "cell_type": "code",
   "execution_count": 302,
   "id": "8b74864a",
   "metadata": {
    "ExecuteTime": {
     "end_time": "2021-08-28T15:29:21.544911Z",
     "start_time": "2021-08-28T15:29:21.529036Z"
    }
   },
   "outputs": [
    {
     "name": "stdout",
     "output_type": "stream",
     "text": [
      "Accuracy(정확도): 0.921875\n",
      "Recall(재현율): 0.8604651162790697\n",
      "Precision(정밀도): 0.9024390243902439\n",
      "Specificity(특이도): 0.9294117647058824\n"
     ]
    }
   ],
   "source": [
    "print(\"Accuracy(정확도):\", accuracy_score(y_test, tree_peri.predict(X_test_peri)))\n",
    "print(\"Recall(재현율):\", recall_score(y_test, tree_peri.predict(X_test_peri)))\n",
    "print(\"Precision(정밀도):\", precision_score(y_test, tree_peri.predict(X_test_peri)))\n",
    "print(\"Specificity(특이도):\", ( 79 / (79+6) ))"
   ]
  },
  {
   "cell_type": "code",
   "execution_count": 303,
   "id": "23ed8559",
   "metadata": {
    "ExecuteTime": {
     "end_time": "2021-08-28T15:29:22.406975Z",
     "start_time": "2021-08-28T15:29:21.944520Z"
    }
   },
   "outputs": [
    {
     "data": {
      "image/svg+xml": [
       "<?xml version=\"1.0\" encoding=\"UTF-8\" standalone=\"no\"?>\n",
       "<!DOCTYPE svg PUBLIC \"-//W3C//DTD SVG 1.1//EN\"\n",
       " \"http://www.w3.org/Graphics/SVG/1.1/DTD/svg11.dtd\">\n",
       "<!-- Generated by graphviz version 2.48.0 (0)\n",
       " -->\n",
       "<!-- Title: Tree Pages: 1 -->\n",
       "<svg width=\"609pt\" height=\"433pt\"\n",
       " viewBox=\"0.00 0.00 608.50 433.00\" xmlns=\"http://www.w3.org/2000/svg\" xmlns:xlink=\"http://www.w3.org/1999/xlink\">\n",
       "<g id=\"graph0\" class=\"graph\" transform=\"scale(1 1) rotate(0) translate(4 429)\">\n",
       "<title>Tree</title>\n",
       "<polygon fill=\"white\" stroke=\"transparent\" points=\"-4,4 -4,-429 604.5,-429 604.5,4 -4,4\"/>\n",
       "<!-- 0 -->\n",
       "<g id=\"node1\" class=\"node\">\n",
       "<title>0</title>\n",
       "<polygon fill=\"#f2c19e\" stroke=\"black\" points=\"384,-425 214,-425 214,-342 384,-342 384,-425\"/>\n",
       "<text text-anchor=\"middle\" x=\"299\" y=\"-409.8\" font-family=\"Times,serif\" font-size=\"14.00\">worst_perimeter &lt;= 101.65</text>\n",
       "<text text-anchor=\"middle\" x=\"299\" y=\"-394.8\" font-family=\"Times,serif\" font-size=\"14.00\">gini = 0.448</text>\n",
       "<text text-anchor=\"middle\" x=\"299\" y=\"-379.8\" font-family=\"Times,serif\" font-size=\"14.00\">samples = 192</text>\n",
       "<text text-anchor=\"middle\" x=\"299\" y=\"-364.8\" font-family=\"Times,serif\" font-size=\"14.00\">value = [127, 65]</text>\n",
       "<text text-anchor=\"middle\" x=\"299\" y=\"-349.8\" font-family=\"Times,serif\" font-size=\"14.00\">class = Negative</text>\n",
       "</g>\n",
       "<!-- 1 -->\n",
       "<g id=\"node2\" class=\"node\">\n",
       "<title>1</title>\n",
       "<polygon fill=\"#4ba6e7\" stroke=\"black\" points=\"290,-306 120,-306 120,-223 290,-223 290,-306\"/>\n",
       "<text text-anchor=\"middle\" x=\"205\" y=\"-290.8\" font-family=\"Times,serif\" font-size=\"14.00\">worst_perimeter &lt;= 84.605</text>\n",
       "<text text-anchor=\"middle\" x=\"205\" y=\"-275.8\" font-family=\"Times,serif\" font-size=\"14.00\">gini = 0.155</text>\n",
       "<text text-anchor=\"middle\" x=\"205\" y=\"-260.8\" font-family=\"Times,serif\" font-size=\"14.00\">samples = 59</text>\n",
       "<text text-anchor=\"middle\" x=\"205\" y=\"-245.8\" font-family=\"Times,serif\" font-size=\"14.00\">value = [5, 54]</text>\n",
       "<text text-anchor=\"middle\" x=\"205\" y=\"-230.8\" font-family=\"Times,serif\" font-size=\"14.00\">class = Positive</text>\n",
       "</g>\n",
       "<!-- 0&#45;&gt;1 -->\n",
       "<g id=\"edge1\" class=\"edge\">\n",
       "<title>0&#45;&gt;1</title>\n",
       "<path fill=\"none\" stroke=\"black\" d=\"M266.39,-341.91C259.17,-332.92 251.45,-323.32 244.01,-314.05\"/>\n",
       "<polygon fill=\"black\" stroke=\"black\" points=\"246.55,-311.62 237.56,-306.02 241.09,-316.01 246.55,-311.62\"/>\n",
       "<text text-anchor=\"middle\" x=\"234.85\" y=\"-327.17\" font-family=\"Times,serif\" font-size=\"14.00\">True</text>\n",
       "</g>\n",
       "<!-- 6 -->\n",
       "<g id=\"node7\" class=\"node\">\n",
       "<title>6</title>\n",
       "<polygon fill=\"#e78c4b\" stroke=\"black\" points=\"477.5,-306 308.5,-306 308.5,-223 477.5,-223 477.5,-306\"/>\n",
       "<text text-anchor=\"middle\" x=\"393\" y=\"-290.8\" font-family=\"Times,serif\" font-size=\"14.00\">worst_perimeter &lt;= 116.05</text>\n",
       "<text text-anchor=\"middle\" x=\"393\" y=\"-275.8\" font-family=\"Times,serif\" font-size=\"14.00\">gini = 0.152</text>\n",
       "<text text-anchor=\"middle\" x=\"393\" y=\"-260.8\" font-family=\"Times,serif\" font-size=\"14.00\">samples = 133</text>\n",
       "<text text-anchor=\"middle\" x=\"393\" y=\"-245.8\" font-family=\"Times,serif\" font-size=\"14.00\">value = [122, 11]</text>\n",
       "<text text-anchor=\"middle\" x=\"393\" y=\"-230.8\" font-family=\"Times,serif\" font-size=\"14.00\">class = Negative</text>\n",
       "</g>\n",
       "<!-- 0&#45;&gt;6 -->\n",
       "<g id=\"edge6\" class=\"edge\">\n",
       "<title>0&#45;&gt;6</title>\n",
       "<path fill=\"none\" stroke=\"black\" d=\"M331.61,-341.91C338.83,-332.92 346.55,-323.32 353.99,-314.05\"/>\n",
       "<polygon fill=\"black\" stroke=\"black\" points=\"356.91,-316.01 360.44,-306.02 351.45,-311.62 356.91,-316.01\"/>\n",
       "<text text-anchor=\"middle\" x=\"363.15\" y=\"-327.17\" font-family=\"Times,serif\" font-size=\"14.00\">False</text>\n",
       "</g>\n",
       "<!-- 2 -->\n",
       "<g id=\"node3\" class=\"node\">\n",
       "<title>2</title>\n",
       "<polygon fill=\"#399de5\" stroke=\"black\" points=\"104,-179.5 0,-179.5 0,-111.5 104,-111.5 104,-179.5\"/>\n",
       "<text text-anchor=\"middle\" x=\"52\" y=\"-164.3\" font-family=\"Times,serif\" font-size=\"14.00\">gini = 0.0</text>\n",
       "<text text-anchor=\"middle\" x=\"52\" y=\"-149.3\" font-family=\"Times,serif\" font-size=\"14.00\">samples = 25</text>\n",
       "<text text-anchor=\"middle\" x=\"52\" y=\"-134.3\" font-family=\"Times,serif\" font-size=\"14.00\">value = [0, 25]</text>\n",
       "<text text-anchor=\"middle\" x=\"52\" y=\"-119.3\" font-family=\"Times,serif\" font-size=\"14.00\">class = Positive</text>\n",
       "</g>\n",
       "<!-- 1&#45;&gt;2 -->\n",
       "<g id=\"edge2\" class=\"edge\">\n",
       "<title>1&#45;&gt;2</title>\n",
       "<path fill=\"none\" stroke=\"black\" d=\"M151.92,-222.91C136.19,-210.88 119,-197.73 103.38,-185.79\"/>\n",
       "<polygon fill=\"black\" stroke=\"black\" points=\"105.44,-182.96 95.37,-179.67 101.19,-188.52 105.44,-182.96\"/>\n",
       "</g>\n",
       "<!-- 3 -->\n",
       "<g id=\"node4\" class=\"node\">\n",
       "<title>3</title>\n",
       "<polygon fill=\"#5baee9\" stroke=\"black\" points=\"292,-187 122,-187 122,-104 292,-104 292,-187\"/>\n",
       "<text text-anchor=\"middle\" x=\"207\" y=\"-171.8\" font-family=\"Times,serif\" font-size=\"14.00\">worst_perimeter &lt;= 95.925</text>\n",
       "<text text-anchor=\"middle\" x=\"207\" y=\"-156.8\" font-family=\"Times,serif\" font-size=\"14.00\">gini = 0.251</text>\n",
       "<text text-anchor=\"middle\" x=\"207\" y=\"-141.8\" font-family=\"Times,serif\" font-size=\"14.00\">samples = 34</text>\n",
       "<text text-anchor=\"middle\" x=\"207\" y=\"-126.8\" font-family=\"Times,serif\" font-size=\"14.00\">value = [5, 29]</text>\n",
       "<text text-anchor=\"middle\" x=\"207\" y=\"-111.8\" font-family=\"Times,serif\" font-size=\"14.00\">class = Positive</text>\n",
       "</g>\n",
       "<!-- 1&#45;&gt;3 -->\n",
       "<g id=\"edge3\" class=\"edge\">\n",
       "<title>1&#45;&gt;3</title>\n",
       "<path fill=\"none\" stroke=\"black\" d=\"M205.69,-222.91C205.84,-214.56 205.99,-205.67 206.14,-197.02\"/>\n",
       "<polygon fill=\"black\" stroke=\"black\" points=\"209.64,-197.08 206.31,-187.02 202.64,-196.96 209.64,-197.08\"/>\n",
       "</g>\n",
       "<!-- 4 -->\n",
       "<g id=\"node5\" class=\"node\">\n",
       "<title>4</title>\n",
       "<polygon fill=\"#6db7ec\" stroke=\"black\" points=\"152,-68 48,-68 48,0 152,0 152,-68\"/>\n",
       "<text text-anchor=\"middle\" x=\"100\" y=\"-52.8\" font-family=\"Times,serif\" font-size=\"14.00\">gini = 0.33</text>\n",
       "<text text-anchor=\"middle\" x=\"100\" y=\"-37.8\" font-family=\"Times,serif\" font-size=\"14.00\">samples = 24</text>\n",
       "<text text-anchor=\"middle\" x=\"100\" y=\"-22.8\" font-family=\"Times,serif\" font-size=\"14.00\">value = [5, 19]</text>\n",
       "<text text-anchor=\"middle\" x=\"100\" y=\"-7.8\" font-family=\"Times,serif\" font-size=\"14.00\">class = Positive</text>\n",
       "</g>\n",
       "<!-- 3&#45;&gt;4 -->\n",
       "<g id=\"edge4\" class=\"edge\">\n",
       "<title>3&#45;&gt;4</title>\n",
       "<path fill=\"none\" stroke=\"black\" d=\"M167.16,-103.73C158.16,-94.51 148.6,-84.74 139.61,-75.53\"/>\n",
       "<polygon fill=\"black\" stroke=\"black\" points=\"142.03,-73.01 132.54,-68.3 137.03,-77.9 142.03,-73.01\"/>\n",
       "</g>\n",
       "<!-- 5 -->\n",
       "<g id=\"node6\" class=\"node\">\n",
       "<title>5</title>\n",
       "<polygon fill=\"#399de5\" stroke=\"black\" points=\"274,-68 170,-68 170,0 274,0 274,-68\"/>\n",
       "<text text-anchor=\"middle\" x=\"222\" y=\"-52.8\" font-family=\"Times,serif\" font-size=\"14.00\">gini = 0.0</text>\n",
       "<text text-anchor=\"middle\" x=\"222\" y=\"-37.8\" font-family=\"Times,serif\" font-size=\"14.00\">samples = 10</text>\n",
       "<text text-anchor=\"middle\" x=\"222\" y=\"-22.8\" font-family=\"Times,serif\" font-size=\"14.00\">value = [0, 10]</text>\n",
       "<text text-anchor=\"middle\" x=\"222\" y=\"-7.8\" font-family=\"Times,serif\" font-size=\"14.00\">class = Positive</text>\n",
       "</g>\n",
       "<!-- 3&#45;&gt;5 -->\n",
       "<g id=\"edge5\" class=\"edge\">\n",
       "<title>3&#45;&gt;5</title>\n",
       "<path fill=\"none\" stroke=\"black\" d=\"M212.59,-103.73C213.72,-95.43 214.92,-86.67 216.07,-78.28\"/>\n",
       "<polygon fill=\"black\" stroke=\"black\" points=\"219.55,-78.68 217.44,-68.3 212.61,-77.73 219.55,-78.68\"/>\n",
       "</g>\n",
       "<!-- 7 -->\n",
       "<g id=\"node8\" class=\"node\">\n",
       "<title>7</title>\n",
       "<polygon fill=\"#f1bd98\" stroke=\"black\" points=\"473,-187 311,-187 311,-104 473,-104 473,-187\"/>\n",
       "<text text-anchor=\"middle\" x=\"392\" y=\"-171.8\" font-family=\"Times,serif\" font-size=\"14.00\">worst_perimeter &lt;= 114.0</text>\n",
       "<text text-anchor=\"middle\" x=\"392\" y=\"-156.8\" font-family=\"Times,serif\" font-size=\"14.00\">gini = 0.438</text>\n",
       "<text text-anchor=\"middle\" x=\"392\" y=\"-141.8\" font-family=\"Times,serif\" font-size=\"14.00\">samples = 34</text>\n",
       "<text text-anchor=\"middle\" x=\"392\" y=\"-126.8\" font-family=\"Times,serif\" font-size=\"14.00\">value = [23, 11]</text>\n",
       "<text text-anchor=\"middle\" x=\"392\" y=\"-111.8\" font-family=\"Times,serif\" font-size=\"14.00\">class = Negative</text>\n",
       "</g>\n",
       "<!-- 6&#45;&gt;7 -->\n",
       "<g id=\"edge7\" class=\"edge\">\n",
       "<title>6&#45;&gt;7</title>\n",
       "<path fill=\"none\" stroke=\"black\" d=\"M392.65,-222.91C392.58,-214.65 392.51,-205.86 392.43,-197.3\"/>\n",
       "<polygon fill=\"black\" stroke=\"black\" points=\"395.93,-196.99 392.35,-187.02 388.93,-197.05 395.93,-196.99\"/>\n",
       "</g>\n",
       "<!-- 10 -->\n",
       "<g id=\"node11\" class=\"node\">\n",
       "<title>10</title>\n",
       "<polygon fill=\"#e58139\" stroke=\"black\" points=\"600.5,-179.5 491.5,-179.5 491.5,-111.5 600.5,-111.5 600.5,-179.5\"/>\n",
       "<text text-anchor=\"middle\" x=\"546\" y=\"-164.3\" font-family=\"Times,serif\" font-size=\"14.00\">gini = 0.0</text>\n",
       "<text text-anchor=\"middle\" x=\"546\" y=\"-149.3\" font-family=\"Times,serif\" font-size=\"14.00\">samples = 99</text>\n",
       "<text text-anchor=\"middle\" x=\"546\" y=\"-134.3\" font-family=\"Times,serif\" font-size=\"14.00\">value = [99, 0]</text>\n",
       "<text text-anchor=\"middle\" x=\"546\" y=\"-119.3\" font-family=\"Times,serif\" font-size=\"14.00\">class = Negative</text>\n",
       "</g>\n",
       "<!-- 6&#45;&gt;10 -->\n",
       "<g id=\"edge10\" class=\"edge\">\n",
       "<title>6&#45;&gt;10</title>\n",
       "<path fill=\"none\" stroke=\"black\" d=\"M446.08,-222.91C461.81,-210.88 479,-197.73 494.62,-185.79\"/>\n",
       "<polygon fill=\"black\" stroke=\"black\" points=\"496.81,-188.52 502.63,-179.67 492.56,-182.96 496.81,-188.52\"/>\n",
       "</g>\n",
       "<!-- 8 -->\n",
       "<g id=\"node9\" class=\"node\">\n",
       "<title>8</title>\n",
       "<polygon fill=\"#eead7e\" stroke=\"black\" points=\"432.5,-68 323.5,-68 323.5,0 432.5,0 432.5,-68\"/>\n",
       "<text text-anchor=\"middle\" x=\"378\" y=\"-52.8\" font-family=\"Times,serif\" font-size=\"14.00\">gini = 0.384</text>\n",
       "<text text-anchor=\"middle\" x=\"378\" y=\"-37.8\" font-family=\"Times,serif\" font-size=\"14.00\">samples = 27</text>\n",
       "<text text-anchor=\"middle\" x=\"378\" y=\"-22.8\" font-family=\"Times,serif\" font-size=\"14.00\">value = [20, 7]</text>\n",
       "<text text-anchor=\"middle\" x=\"378\" y=\"-7.8\" font-family=\"Times,serif\" font-size=\"14.00\">class = Negative</text>\n",
       "</g>\n",
       "<!-- 7&#45;&gt;8 -->\n",
       "<g id=\"edge8\" class=\"edge\">\n",
       "<title>7&#45;&gt;8</title>\n",
       "<path fill=\"none\" stroke=\"black\" d=\"M386.79,-103.73C385.73,-95.43 384.61,-86.67 383.53,-78.28\"/>\n",
       "<polygon fill=\"black\" stroke=\"black\" points=\"387,-77.77 382.26,-68.3 380.05,-78.66 387,-77.77\"/>\n",
       "</g>\n",
       "<!-- 9 -->\n",
       "<g id=\"node10\" class=\"node\">\n",
       "<title>9</title>\n",
       "<polygon fill=\"#cee6f8\" stroke=\"black\" points=\"555,-68 451,-68 451,0 555,0 555,-68\"/>\n",
       "<text text-anchor=\"middle\" x=\"503\" y=\"-52.8\" font-family=\"Times,serif\" font-size=\"14.00\">gini = 0.49</text>\n",
       "<text text-anchor=\"middle\" x=\"503\" y=\"-37.8\" font-family=\"Times,serif\" font-size=\"14.00\">samples = 7</text>\n",
       "<text text-anchor=\"middle\" x=\"503\" y=\"-22.8\" font-family=\"Times,serif\" font-size=\"14.00\">value = [3, 4]</text>\n",
       "<text text-anchor=\"middle\" x=\"503\" y=\"-7.8\" font-family=\"Times,serif\" font-size=\"14.00\">class = Positive</text>\n",
       "</g>\n",
       "<!-- 7&#45;&gt;9 -->\n",
       "<g id=\"edge9\" class=\"edge\">\n",
       "<title>7&#45;&gt;9</title>\n",
       "<path fill=\"none\" stroke=\"black\" d=\"M433.33,-103.73C442.67,-94.51 452.58,-84.74 461.91,-75.53\"/>\n",
       "<polygon fill=\"black\" stroke=\"black\" points=\"464.58,-77.81 469.24,-68.3 459.67,-72.83 464.58,-77.81\"/>\n",
       "</g>\n",
       "</g>\n",
       "</svg>\n"
      ],
      "text/plain": [
       "<graphviz.files.Source at 0x15df7db80>"
      ]
     },
     "metadata": {},
     "output_type": "display_data"
    }
   ],
   "source": [
    "# graphviz\n",
    "export_graphviz(tree_peri, out_file='tree_peri.dot',\n",
    "                feature_names=['worst_perimeter'],\n",
    "                class_names=['Negative', 'Positive'],\n",
    "                impurity=True, filled=True)\n",
    "with open('tree_peri.dot') as f:\n",
    "    dot_graph = f.read()\n",
    "display(graphviz.Source(dot_graph))"
   ]
  },
  {
   "cell_type": "markdown",
   "id": "0db0ee85",
   "metadata": {},
   "source": [
    "### worst_perimeter만으로 학습시킨 모델을 가지고 예측했을 때도 성능에 큰 차이가 없다.\n",
    "\n",
    "> worst perimeter만으로 학습된 모델을 graphviz로 확인해보면, worst perimeter가 4가지 구간으로 나뉘는 걸 알 수 있다.<br>\n",
    "\n",
    "> 분류 기준을 4 구획으로 나누면 다음과 같다:\n",
    "> 1. worst_perimeter가 91.695 이하이면 무조건 양성이다.\n",
    "> 2. 91.695 < worst_perimeter <= 101.9 이면 88% 확률로 양성이다.\n",
    "> 3. 101.9 < worst_perimeter <= 113.15 이면 70% 확률로 음성이다.\n",
    "> 4. worst_perimeter가 113.16 이상이면 무조건 음성이다.<br><br>\n",
    "\n",
    "\n",
    "> worst_perimeter가 워낙 중요한 변수라는 걸 알았으니, 지금 궁금한 건 worst_perimeter를 제외하면 어떤 변수가 가장 유의할까?? 이다. worst_perimeter를 데이터셋에 같이 넣어놓으면, 이 강력한 변수가 다른 변수들의 importance를 모두 낮춰버린다.\n",
    "> - 그래서.. 데이터셋을 2개로 나눠보자: (1) worst_perimeter가 91.695 이하인 데이터에서 worst_peri 변수 제외, (2) worst_perimeter가 113.16 이상인 데이터에서 worst_peri 변수 제외\n",
    "> - 그리고 두 개의 데이터셋으로 학습시킨 모델에서 어떤 변수가 가장 유의한지 확인해보자."
   ]
  },
  {
   "cell_type": "markdown",
   "id": "4cc6a04b",
   "metadata": {},
   "source": [
    "그렇게 하려고 했는데... 데이터셋을 나누고 보니 구획별로 들어가는 데이터 수가 30개, 100개 이렇게 엄청 적어서 실제로 시도하진 않았다."
   ]
  },
  {
   "cell_type": "code",
   "execution_count": null,
   "id": "b585b6a6",
   "metadata": {},
   "outputs": [],
   "source": []
  },
  {
   "cell_type": "code",
   "execution_count": null,
   "id": "9536da69",
   "metadata": {},
   "outputs": [],
   "source": []
  },
  {
   "cell_type": "markdown",
   "id": "71f57154",
   "metadata": {},
   "source": [
    "# 8. Random Forest Classification"
   ]
  },
  {
   "cell_type": "markdown",
   "id": "07130612",
   "metadata": {},
   "source": [
    "## 8-1. RandomForest 구현"
   ]
  },
  {
   "cell_type": "code",
   "execution_count": 309,
   "id": "b2b33ae9",
   "metadata": {
    "ExecuteTime": {
     "end_time": "2021-08-28T15:29:55.968821Z",
     "start_time": "2021-08-28T15:29:55.864416Z"
    }
   },
   "outputs": [
    {
     "name": "stdout",
     "output_type": "stream",
     "text": [
      "Train - Accuracy(정확도): 1.0\n",
      "Test - Accuracy(정확도): 0.9453125\n"
     ]
    }
   ],
   "source": [
    "from sklearn.ensemble import RandomForestClassifier\n",
    "\n",
    "rf0 = RandomForestClassifier(random_state=0)\n",
    "rf0.fit(X_train, y_train)\n",
    "\n",
    "print(\"Train - Accuracy(정확도):\", accuracy_score(y_train, rf0.predict(X_train)))\n",
    "print(\"Test - Accuracy(정확도):\", accuracy_score(y_test, rf0.predict(X_test)))"
   ]
  },
  {
   "cell_type": "markdown",
   "id": "ca5350b2",
   "metadata": {},
   "source": [
    "- **train set에 과대적합된 경향을 보이므로, hyperparameter tuning을 해준다.**"
   ]
  },
  {
   "cell_type": "code",
   "execution_count": 310,
   "id": "c20544aa",
   "metadata": {
    "ExecuteTime": {
     "end_time": "2021-08-28T15:37:39.154606Z",
     "start_time": "2021-08-28T15:30:27.478750Z"
    }
   },
   "outputs": [],
   "source": [
    "# GridSearchCV\n",
    "rf0 = RandomForestClassifier(random_state=0)\n",
    "\n",
    "params = {'n_estimators': [i * 10 for i in range(1, 10)],\n",
    "          'max_depth': [i for i in range(1, 8)],\n",
    "          'min_samples_split': [i * 2 for i in range(2, 15)],\n",
    "          'min_samples_leaf': [i * 2 for i in range(1, 8)]}\n",
    "rf0_grid = GridSearchCV(rf0, param_grid=params,\n",
    "                          cv=3, refit=True, scoring='recall')\n",
    "rf0_grid.fit(X_train, y_train)\n",
    "\n",
    "\n",
    "rf0 = rf0_grid.best_estimator_"
   ]
  },
  {
   "cell_type": "code",
   "execution_count": 311,
   "id": "560e4299",
   "metadata": {
    "ExecuteTime": {
     "end_time": "2021-08-28T15:37:39.158824Z",
     "start_time": "2021-08-28T15:37:39.156018Z"
    }
   },
   "outputs": [
    {
     "data": {
      "text/plain": [
       "<bound method BaseEstimator.get_params of RandomForestClassifier(max_depth=3, min_samples_leaf=4, min_samples_split=12,\n",
       "                       n_estimators=10, random_state=0)>"
      ]
     },
     "execution_count": 311,
     "metadata": {},
     "output_type": "execute_result"
    }
   ],
   "source": [
    "# 모델의 파라미터 세팅 내용\n",
    "rf0.get_params"
   ]
  },
  {
   "cell_type": "markdown",
   "id": "ff25ec3d",
   "metadata": {},
   "source": [
    "## 8-2. RandomForest 성능 분석"
   ]
  },
  {
   "cell_type": "code",
   "execution_count": 312,
   "id": "e95315b8",
   "metadata": {
    "ExecuteTime": {
     "end_time": "2021-08-28T15:37:39.164064Z",
     "start_time": "2021-08-28T15:37:39.159437Z"
    }
   },
   "outputs": [
    {
     "name": "stdout",
     "output_type": "stream",
     "text": [
      "Train - Accuracy(정확도): 0.9583333333333334\n",
      "Test - Accuracy(정확도): 0.9296875\n"
     ]
    }
   ],
   "source": [
    "# 파라미터 세팅한 모델의 train/test 정확도\n",
    "print(\"Train - Accuracy(정확도):\", accuracy_score(y_train, rf0.predict(X_train)))\n",
    "print(\"Test - Accuracy(정확도):\", accuracy_score(y_test, rf0.predict(X_test)))"
   ]
  },
  {
   "cell_type": "code",
   "execution_count": 313,
   "id": "49f8c85a",
   "metadata": {
    "ExecuteTime": {
     "end_time": "2021-08-28T15:37:39.168791Z",
     "start_time": "2021-08-28T15:37:39.165154Z"
    }
   },
   "outputs": [
    {
     "name": "stdout",
     "output_type": "stream",
     "text": [
      "Confusion matrix: \n",
      "\n",
      "[[83  2]\n",
      " [ 7 36]]\n"
     ]
    }
   ],
   "source": [
    "# confusion matrix\n",
    "print(\"Confusion matrix: \\n\")\n",
    "print(confusion_matrix(y_test, rf0.predict(X_test)))"
   ]
  },
  {
   "cell_type": "code",
   "execution_count": 314,
   "id": "41a942f5",
   "metadata": {
    "ExecuteTime": {
     "end_time": "2021-08-28T15:37:39.174112Z",
     "start_time": "2021-08-28T15:37:39.169542Z"
    }
   },
   "outputs": [
    {
     "name": "stdout",
     "output_type": "stream",
     "text": [
      "              precision    recall  f1-score   support\n",
      "\n",
      "           0      0.922     0.976     0.949        85\n",
      "           1      0.947     0.837     0.889        43\n",
      "\n",
      "    accuracy                          0.930       128\n",
      "   macro avg      0.935     0.907     0.919       128\n",
      "weighted avg      0.931     0.930     0.929       128\n",
      "\n"
     ]
    }
   ],
   "source": [
    "# classification report\n",
    "print(classification_report(y_test, rf0.predict(X_test), digits=3))"
   ]
  },
  {
   "cell_type": "code",
   "execution_count": 331,
   "id": "6f031c20",
   "metadata": {
    "ExecuteTime": {
     "end_time": "2021-08-28T15:39:27.626025Z",
     "start_time": "2021-08-28T15:39:27.609354Z"
    }
   },
   "outputs": [
    {
     "name": "stdout",
     "output_type": "stream",
     "text": [
      "Accuracy(정확도): 0.7109375\n",
      "Recall(재현율): 1.0\n",
      "Precision(정밀도): 0.5375\n",
      "Specificity(특이도): 0.9764705882352941\n"
     ]
    }
   ],
   "source": [
    "print(\"Accuracy(정확도):\", accuracy_score(y_test, rf0.predict(X_test)))\n",
    "print(\"Recall(재현율):\", recall_score(y_test, rf0.predict(X_test)))\n",
    "print(\"Precision(정밀도):\", precision_score(y_test, rf0.predict(X_test)))\n",
    "print(\"Specificity(특이도):\", ( 83 / (83+2) ))"
   ]
  },
  {
   "cell_type": "code",
   "execution_count": 332,
   "id": "05fcd6a7",
   "metadata": {
    "ExecuteTime": {
     "end_time": "2021-08-28T15:39:28.867844Z",
     "start_time": "2021-08-28T15:39:28.839656Z"
    }
   },
   "outputs": [
    {
     "data": {
      "text/html": [
       "<div>\n",
       "<style scoped>\n",
       "    .dataframe tbody tr th:only-of-type {\n",
       "        vertical-align: middle;\n",
       "    }\n",
       "\n",
       "    .dataframe tbody tr th {\n",
       "        vertical-align: top;\n",
       "    }\n",
       "\n",
       "    .dataframe thead th {\n",
       "        text-align: right;\n",
       "    }\n",
       "</style>\n",
       "<table border=\"1\" class=\"dataframe\">\n",
       "  <thead>\n",
       "    <tr style=\"text-align: right;\">\n",
       "      <th></th>\n",
       "      <th>Accuracy</th>\n",
       "      <th>Precision</th>\n",
       "      <th>Recall</th>\n",
       "      <th>Specificity</th>\n",
       "      <th>F1Score</th>\n",
       "    </tr>\n",
       "  </thead>\n",
       "  <tbody>\n",
       "    <tr>\n",
       "      <th>Random Forest</th>\n",
       "      <td>0.710938</td>\n",
       "      <td>0.5375</td>\n",
       "      <td>1.0</td>\n",
       "      <td>0.564706</td>\n",
       "      <td>0.699187</td>\n",
       "    </tr>\n",
       "  </tbody>\n",
       "</table>\n",
       "</div>"
      ],
      "text/plain": [
       "               Accuracy  Precision  Recall  Specificity   F1Score\n",
       "Random Forest  0.710938     0.5375     1.0     0.564706  0.699187"
      ]
     },
     "execution_count": 332,
     "metadata": {},
     "output_type": "execute_result"
    }
   ],
   "source": [
    "# RandomForest score df\n",
    "forest_score = pd.DataFrame(index=['Random Forest'])\n",
    "forest_score['Accuracy'] = [accuracy_score(y_test, rf0.predict(X_test))]\n",
    "forest_score['Precision'] = [precision_score(y_test, rf0.predict(X_test))]\n",
    "forest_score['Recall'] = [recall_score(y_test, rf0.predict(X_test))]\n",
    "forest_score['Specificity'] = [recall_score(y_test, rf0.predict(X_test), pos_label=0)]\n",
    "forest_score['F1Score'] = [f1_score(y_test, rf0.predict(X_test))]\n",
    "\n",
    "forest_score"
   ]
  },
  {
   "cell_type": "markdown",
   "id": "f805bf42",
   "metadata": {},
   "source": [
    "### Comment\n",
    "- train, test 정확도가 각각 95%, 94%로, parameter tuning 이전보다 훨씬 '일반화'된 성능을 보여주고 있다.\n",
    "- 양성에 대한 재현율은 88%로, Decision Tree의 76%보다는 크게 높다.\n",
    "    - 하지만.. 여전히 특이도나 정밀도에 비해 재현율이 더 낮은 것은 아쉽다.\n",
    "    - 88%의 재현율도 충분히 높은 수준이라 생각할 수도 있겠지만, **\"유방암 진단 모델의 재현율이 88%로 충분한가??\"** 하는 문제는 도메인 지식과 비즈니스 케이스를 기반으로 판단되어야 한다."
   ]
  },
  {
   "cell_type": "code",
   "execution_count": null,
   "id": "6c7633de",
   "metadata": {},
   "outputs": [],
   "source": []
  },
  {
   "cell_type": "markdown",
   "id": "2844f807",
   "metadata": {},
   "source": [
    "## 8-3. RandomForest Feature Importance"
   ]
  },
  {
   "cell_type": "code",
   "execution_count": 316,
   "id": "d2d5e730",
   "metadata": {
    "ExecuteTime": {
     "end_time": "2021-08-28T15:37:39.191641Z",
     "start_time": "2021-08-28T15:37:39.182790Z"
    }
   },
   "outputs": [
    {
     "data": {
      "text/html": [
       "<div>\n",
       "<style scoped>\n",
       "    .dataframe tbody tr th:only-of-type {\n",
       "        vertical-align: middle;\n",
       "    }\n",
       "\n",
       "    .dataframe tbody tr th {\n",
       "        vertical-align: top;\n",
       "    }\n",
       "\n",
       "    .dataframe thead th {\n",
       "        text-align: right;\n",
       "    }\n",
       "</style>\n",
       "<table border=\"1\" class=\"dataframe\">\n",
       "  <thead>\n",
       "    <tr style=\"text-align: right;\">\n",
       "      <th></th>\n",
       "      <th>features</th>\n",
       "      <th>importances</th>\n",
       "    </tr>\n",
       "  </thead>\n",
       "  <tbody>\n",
       "    <tr>\n",
       "      <th>6</th>\n",
       "      <td>mean_concavity</td>\n",
       "      <td>0.234958</td>\n",
       "    </tr>\n",
       "    <tr>\n",
       "      <th>27</th>\n",
       "      <td>worst_concave_points</td>\n",
       "      <td>0.120650</td>\n",
       "    </tr>\n",
       "    <tr>\n",
       "      <th>22</th>\n",
       "      <td>worst_perimeter</td>\n",
       "      <td>0.101931</td>\n",
       "    </tr>\n",
       "    <tr>\n",
       "      <th>7</th>\n",
       "      <td>mean_concave_points</td>\n",
       "      <td>0.084471</td>\n",
       "    </tr>\n",
       "    <tr>\n",
       "      <th>23</th>\n",
       "      <td>worst_area</td>\n",
       "      <td>0.073954</td>\n",
       "    </tr>\n",
       "    <tr>\n",
       "      <th>3</th>\n",
       "      <td>mean_area</td>\n",
       "      <td>0.071297</td>\n",
       "    </tr>\n",
       "    <tr>\n",
       "      <th>13</th>\n",
       "      <td>area_error</td>\n",
       "      <td>0.058247</td>\n",
       "    </tr>\n",
       "    <tr>\n",
       "      <th>5</th>\n",
       "      <td>mean_compactness</td>\n",
       "      <td>0.057564</td>\n",
       "    </tr>\n",
       "    <tr>\n",
       "      <th>10</th>\n",
       "      <td>radius_error</td>\n",
       "      <td>0.051507</td>\n",
       "    </tr>\n",
       "    <tr>\n",
       "      <th>1</th>\n",
       "      <td>mean_texture</td>\n",
       "      <td>0.026586</td>\n",
       "    </tr>\n",
       "  </tbody>\n",
       "</table>\n",
       "</div>"
      ],
      "text/plain": [
       "                features  importances\n",
       "6         mean_concavity     0.234958\n",
       "27  worst_concave_points     0.120650\n",
       "22       worst_perimeter     0.101931\n",
       "7    mean_concave_points     0.084471\n",
       "23            worst_area     0.073954\n",
       "3              mean_area     0.071297\n",
       "13            area_error     0.058247\n",
       "5       mean_compactness     0.057564\n",
       "10          radius_error     0.051507\n",
       "1           mean_texture     0.026586"
      ]
     },
     "execution_count": 316,
     "metadata": {},
     "output_type": "execute_result"
    }
   ],
   "source": [
    "feat_imp = pd.DataFrame()\n",
    "feat_imp['features'] = X_train.columns\n",
    "feat_imp['importances'] = rf0.feature_importances_\n",
    "feat_imp.sort_values(by='importances', ascending=False, inplace=True)\n",
    "\n",
    "feat_imp.head(10)"
   ]
  },
  {
   "cell_type": "code",
   "execution_count": 317,
   "id": "1cc70c9f",
   "metadata": {
    "ExecuteTime": {
     "end_time": "2021-08-28T15:37:39.282326Z",
     "start_time": "2021-08-28T15:37:39.192414Z"
    },
    "scrolled": false
   },
   "outputs": [
    {
     "data": {
      "image/png": "[encoded data removed]",
      "text/plain": [
       "<Figure size 576x576 with 1 Axes>"
      ]
     },
     "metadata": {
      "needs_background": "light"
     },
     "output_type": "display_data"
    }
   ],
   "source": [
    "plt.figure(figsize=(8,8))\n",
    "sns.barplot(x='importances', y='features', orient='h', data=feat_imp.iloc[0:10])\n",
    "plt.show()"
   ]
  },
  {
   "cell_type": "markdown",
   "id": "ab4e9abb",
   "metadata": {},
   "source": [
    "### Comment\n",
    "- Decision Tree는 3개 변수 빼고는 feature importance가 모두 0인데다가, 제일 중요도가 높은 변수가 worst_perimeter였다.<br><br>\n",
    "\n",
    "- RandomForest는 변수중요도가 꽤나 고르게 분포하고 있고;\n",
    "- 가장 중요도가 높은 변수는 worst_concave_points이고, 이 변수의 중요도가 약 0.2다. (Decision Tree에서 worst_perimeter의 중요도는 0.88 정도였다.)"
   ]
  },
  {
   "cell_type": "code",
   "execution_count": null,
   "id": "390879eb",
   "metadata": {},
   "outputs": [],
   "source": []
  },
  {
   "cell_type": "code",
   "execution_count": null,
   "id": "6f7bc264",
   "metadata": {},
   "outputs": [],
   "source": []
  },
  {
   "cell_type": "markdown",
   "id": "9808bf3e",
   "metadata": {},
   "source": [
    "# 8월 27일자 업데이트"
   ]
  },
  {
   "cell_type": "markdown",
   "id": "3bf24396",
   "metadata": {},
   "source": [
    "# 9. SVM"
   ]
  },
  {
   "cell_type": "code",
   "execution_count": 319,
   "id": "ea8a2696",
   "metadata": {
    "ExecuteTime": {
     "end_time": "2021-08-28T15:37:49.149389Z",
     "start_time": "2021-08-28T15:37:49.124708Z"
    }
   },
   "outputs": [
    {
     "name": "stdout",
     "output_type": "stream",
     "text": [
      "(192, 30) (128, 30) (192,) (128,)\n"
     ]
    }
   ],
   "source": [
    "from sklearn.preprocessing import StandardScaler\n",
    "from sklearn.svm import SVC\n",
    "from sklearn.metrics import accuracy_score, precision_score, recall_score, f1_score\n",
    "from sklearn.metrics import confusion_matrix, classification_report\n",
    "\n",
    "\n",
    "# Data - load and preprocess\n",
    "df = pd.read_csv('3data/유방암.csv', encoding='euc-kr')\n",
    "\n",
    "X = df.drop('diagnosis', axis=1)\n",
    "y = df['diagnosis']\n",
    "\n",
    "# 목표변수 라벨링\n",
    "y = y.map({'양성': 1, '음성': 0})\n",
    "\n",
    "# class unbalanced이므로 stratify=y & test_size=0.4\n",
    "X_train, X_test, y_train, y_test =\\\n",
    "        train_test_split(X, y, test_size=0.4, stratify=y) \n",
    "\n",
    "print(X_train.shape, X_test.shape, y_train.shape, y_test.shape)"
   ]
  },
  {
   "cell_type": "markdown",
   "id": "cdb2e3c2",
   "metadata": {},
   "source": [
    "## 9-1. SVM 구현"
   ]
  },
  {
   "cell_type": "code",
   "execution_count": 320,
   "id": "cb21965a",
   "metadata": {
    "ExecuteTime": {
     "end_time": "2021-08-28T15:37:49.987332Z",
     "start_time": "2021-08-28T15:37:49.969514Z"
    }
   },
   "outputs": [],
   "source": [
    "# SVM은 스케일링이 모델 성능에 큰 영향을 미치기 때문에,\n",
    "    # 미리 데이터셋을 스케일링 해준다.\n",
    "stscl = StandardScaler()\n",
    "\n",
    "X_train = stscl.fit_transform(X_train)\n",
    "X_test = stscl.transform(X_test)"
   ]
  },
  {
   "cell_type": "code",
   "execution_count": 321,
   "id": "0e0e7e83",
   "metadata": {
    "ExecuteTime": {
     "end_time": "2021-08-28T15:37:50.372365Z",
     "start_time": "2021-08-28T15:37:50.352143Z"
    }
   },
   "outputs": [
    {
     "name": "stdout",
     "output_type": "stream",
     "text": [
      "Train Accuracy: 0.99\n",
      "Test Accuracy: 0.969\n"
     ]
    }
   ],
   "source": [
    "svm0 = SVC(random_state=0)\n",
    "svm0.fit(X_train, y_train)\n",
    "\n",
    "print('Train Accuracy:', svm0.score(X_train, y_train).round(3))\n",
    "print('Test Accuracy:', svm0.score(X_test, y_test).round(3))"
   ]
  },
  {
   "cell_type": "markdown",
   "id": "5d95010f",
   "metadata": {},
   "source": [
    "- 유방암 데이터셋이 기본적으로 클래스 레이블이 선형적으로 잘 나누어지는 데이터셋인지, SVM을 따로 튜닝하지 않았는데도 train/test accuracy가 높아 보인다.\n",
    "    - 그래도 수치만 봐서 '높다, 낮다' 판단하기에는 이르므로, 규제 파라미터인 C를 바꿔가면서 성능이 어떻게 변하는지 확인해본다."
   ]
  },
  {
   "cell_type": "markdown",
   "id": "851a9db4",
   "metadata": {},
   "source": [
    "## 9-2. SVM 성능 분석"
   ]
  },
  {
   "cell_type": "markdown",
   "id": "9753d4ce",
   "metadata": {},
   "source": [
    "### C 값 세팅"
   ]
  },
  {
   "cell_type": "code",
   "execution_count": 322,
   "id": "70f716dd",
   "metadata": {
    "ExecuteTime": {
     "end_time": "2021-08-28T15:37:51.568222Z",
     "start_time": "2021-08-28T15:37:51.523081Z"
    },
    "scrolled": true
   },
   "outputs": [
    {
     "data": {
      "text/html": [
       "<div>\n",
       "<style scoped>\n",
       "    .dataframe tbody tr th:only-of-type {\n",
       "        vertical-align: middle;\n",
       "    }\n",
       "\n",
       "    .dataframe tbody tr th {\n",
       "        vertical-align: top;\n",
       "    }\n",
       "\n",
       "    .dataframe thead th {\n",
       "        text-align: right;\n",
       "    }\n",
       "</style>\n",
       "<table border=\"1\" class=\"dataframe\">\n",
       "  <thead>\n",
       "    <tr style=\"text-align: right;\">\n",
       "      <th></th>\n",
       "      <th>C</th>\n",
       "      <th>TrainAccuracy</th>\n",
       "      <th>TestAccuracy</th>\n",
       "    </tr>\n",
       "  </thead>\n",
       "  <tbody>\n",
       "    <tr>\n",
       "      <th>0</th>\n",
       "      <td>0.1</td>\n",
       "      <td>0.943</td>\n",
       "      <td>0.938</td>\n",
       "    </tr>\n",
       "    <tr>\n",
       "      <th>1</th>\n",
       "      <td>0.2</td>\n",
       "      <td>0.953</td>\n",
       "      <td>0.945</td>\n",
       "    </tr>\n",
       "    <tr>\n",
       "      <th>2</th>\n",
       "      <td>0.3</td>\n",
       "      <td>0.958</td>\n",
       "      <td>0.945</td>\n",
       "    </tr>\n",
       "    <tr>\n",
       "      <th>3</th>\n",
       "      <td>0.4</td>\n",
       "      <td>0.969</td>\n",
       "      <td>0.945</td>\n",
       "    </tr>\n",
       "    <tr>\n",
       "      <th>4</th>\n",
       "      <td>0.5</td>\n",
       "      <td>0.984</td>\n",
       "      <td>0.953</td>\n",
       "    </tr>\n",
       "    <tr>\n",
       "      <th>5</th>\n",
       "      <td>0.6</td>\n",
       "      <td>0.990</td>\n",
       "      <td>0.953</td>\n",
       "    </tr>\n",
       "    <tr>\n",
       "      <th>6</th>\n",
       "      <td>0.7</td>\n",
       "      <td>0.990</td>\n",
       "      <td>0.961</td>\n",
       "    </tr>\n",
       "    <tr>\n",
       "      <th>7</th>\n",
       "      <td>0.8</td>\n",
       "      <td>0.990</td>\n",
       "      <td>0.969</td>\n",
       "    </tr>\n",
       "    <tr>\n",
       "      <th>8</th>\n",
       "      <td>0.9</td>\n",
       "      <td>0.990</td>\n",
       "      <td>0.969</td>\n",
       "    </tr>\n",
       "  </tbody>\n",
       "</table>\n",
       "</div>"
      ],
      "text/plain": [
       "     C  TrainAccuracy  TestAccuracy\n",
       "0  0.1          0.943         0.938\n",
       "1  0.2          0.953         0.945\n",
       "2  0.3          0.958         0.945\n",
       "3  0.4          0.969         0.945\n",
       "4  0.5          0.984         0.953\n",
       "5  0.6          0.990         0.953\n",
       "6  0.7          0.990         0.961\n",
       "7  0.8          0.990         0.969\n",
       "8  0.9          0.990         0.969"
      ]
     },
     "execution_count": 322,
     "metadata": {},
     "output_type": "execute_result"
    }
   ],
   "source": [
    "train_acc, test_acc = [], []\n",
    "para_c = [i * 0.1 for i in range(1, 10)]\n",
    "\n",
    "for v_C in para_c:\n",
    "    svm = SVC(C=v_C, random_state=0)\n",
    "    svm.fit(X_train, y_train)\n",
    "    \n",
    "    train_acc.append(svm.score(X_train, y_train))\n",
    "    test_acc.append(svm.score(X_test, y_test))\n",
    "    \n",
    "df_acc_c = pd.DataFrame()\n",
    "df_acc_c['C'] = para_c\n",
    "df_acc_c['TrainAccuracy'] = train_acc\n",
    "df_acc_c['TestAccuracy'] = test_acc\n",
    "\n",
    "df_acc_c.round(3)"
   ]
  },
  {
   "cell_type": "code",
   "execution_count": 323,
   "id": "2b7b928a",
   "metadata": {
    "ExecuteTime": {
     "end_time": "2021-08-28T15:37:51.960753Z",
     "start_time": "2021-08-28T15:37:51.869388Z"
    }
   },
   "outputs": [
    {
     "data": {
      "image/png": "[encoded data removed]",
      "text/plain": [
       "<Figure size 432x288 with 1 Axes>"
      ]
     },
     "metadata": {
      "needs_background": "light"
     },
     "output_type": "display_data"
    }
   ],
   "source": [
    "plt.plot(para_c, train_acc, linestyle='-', label='Train Accuracy')\n",
    "plt.plot(para_c, test_acc, linestyle='--', label='Test Accuracy')\n",
    "plt.axvline(x=0.25, color='r', linestyle='--', linewidth=2)\n",
    "plt.axvline(x=0.45, color='r', linestyle='--', linewidth=2)\n",
    "plt.ylabel('Accuracy')\n",
    "plt.xlabel('C')\n",
    "plt.legend()\n",
    "plt.show()"
   ]
  },
  {
   "cell_type": "markdown",
   "id": "8345c4bd",
   "metadata": {},
   "source": [
    "- 특이하게 C값이 0.1 이하의 구간에서 test acc가 더 높다.\n",
    "- 0.2를 기점으로 train acc가 test acc를 넘어서고, test acc는 C=0.4일 때 그래프 상에서 정점을 찍는다.\n",
    "- C 값을 0.25~0.45 구간에서 더 잘게 쪼개서 분석해본다."
   ]
  },
  {
   "cell_type": "code",
   "execution_count": 324,
   "id": "5861dff8",
   "metadata": {
    "ExecuteTime": {
     "end_time": "2021-08-28T15:37:52.489903Z",
     "start_time": "2021-08-28T15:37:52.362184Z"
    },
    "scrolled": true
   },
   "outputs": [
    {
     "data": {
      "image/png": "[encoded data removed]",
      "text/plain": [
       "<Figure size 432x288 with 1 Axes>"
      ]
     },
     "metadata": {
      "needs_background": "light"
     },
     "output_type": "display_data"
    }
   ],
   "source": [
    "train_acc, test_acc = [], []\n",
    "para_c = [i * 0.01 for i in range(20, 45)]\n",
    "\n",
    "for v_C in para_c:\n",
    "    svm = SVC(C=v_C, random_state=0)\n",
    "    svm.fit(X_train, y_train)\n",
    "    \n",
    "    train_acc.append(svm.score(X_train, y_train))\n",
    "    test_acc.append(svm.score(X_test, y_test))\n",
    "    \n",
    "df_acc_c = pd.DataFrame()\n",
    "df_acc_c['C'] = para_c\n",
    "df_acc_c['TrainAccuracy'] = train_acc\n",
    "df_acc_c['TestAccuracy'] = test_acc\n",
    "\n",
    "plt.plot(para_c, train_acc, linestyle='-', label='Train Accuracy')\n",
    "plt.plot(para_c, test_acc, linestyle='--', label='Test Accuracy')\n",
    "plt.axvline(x=0.34, color='r', linestyle='--', linewidth=2)\n",
    "plt.axvline(x=0.36, color='r', linestyle='--', linewidth=2)\n",
    "plt.ylabel('Accuracy')\n",
    "plt.xlabel('C')\n",
    "plt.legend()\n",
    "plt.show()"
   ]
  },
  {
   "cell_type": "markdown",
   "id": "42b80934",
   "metadata": {},
   "source": [
    "- 그래프 모양이 조금 특이하긴 한데, C=0.35일 때 test score가 가장 높은 값을 가지기 때문에 C=0.35로 세팅한다."
   ]
  },
  {
   "cell_type": "markdown",
   "id": "305367b9",
   "metadata": {},
   "source": [
    "### Gamma 세팅"
   ]
  },
  {
   "cell_type": "code",
   "execution_count": 325,
   "id": "ab197494",
   "metadata": {
    "ExecuteTime": {
     "end_time": "2021-08-28T15:37:53.113705Z",
     "start_time": "2021-08-28T15:37:53.024237Z"
    }
   },
   "outputs": [
    {
     "data": {
      "text/plain": [
       "<matplotlib.legend.Legend at 0x15edb3d90>"
      ]
     },
     "execution_count": 325,
     "metadata": {},
     "output_type": "execute_result"
    },
    {
     "data": {
      "image/png": "[encoded data removed]",
      "text/plain": [
       "<Figure size 432x288 with 1 Axes>"
      ]
     },
     "metadata": {
      "needs_background": "light"
     },
     "output_type": "display_data"
    }
   ],
   "source": [
    "train_acc, test_acc = [], []\n",
    "para_gamma = [10 ** i for i in range(-2, 2)]\n",
    "\n",
    "for v_gamma in para_gamma:\n",
    "    svm = SVC(gamma=v_gamma, C=0.35, random_state=0)\n",
    "    svm.fit(X_train, y_train)\n",
    "    \n",
    "    train_acc.append(svm.score(X_train, y_train))\n",
    "    test_acc.append(svm.score(X_test, y_test))\n",
    "    \n",
    "df_acc_gamma = pd.DataFrame()\n",
    "df_acc_gamma['Gamma'] = para_gamma\n",
    "df_acc_gamma['TrainAccuracy'] = train_acc\n",
    "df_acc_gamma['TestAccuracy'] = test_acc\n",
    "\n",
    "plt.plot(para_gamma,train_acc,linestyle='-',label=\"Train Accuracy\")\n",
    "plt.plot(para_gamma,test_acc,linestyle='--',label=\"Test Accuracy\")\n",
    "plt.ylabel(\"accuracy\")\n",
    "plt.xlabel(\"gamma\")\n",
    "plt.legend()"
   ]
  },
  {
   "cell_type": "markdown",
   "id": "2d569710",
   "metadata": {},
   "source": [
    "- gamma 값이 0에서 1 사이일 때만 test/acc가 큰 변화를 보이므로, 해당 구간을 더 잘게 쪼개본다."
   ]
  },
  {
   "cell_type": "code",
   "execution_count": 326,
   "id": "f30958f0",
   "metadata": {
    "ExecuteTime": {
     "end_time": "2021-08-28T15:37:53.739284Z",
     "start_time": "2021-08-28T15:37:53.587646Z"
    },
    "scrolled": true
   },
   "outputs": [
    {
     "data": {
      "text/plain": [
       "<matplotlib.legend.Legend at 0x15ed3e7f0>"
      ]
     },
     "execution_count": 326,
     "metadata": {},
     "output_type": "execute_result"
    },
    {
     "data": {
      "image/png": "[encoded data removed]",
      "text/plain": [
       "<Figure size 432x288 with 1 Axes>"
      ]
     },
     "metadata": {
      "needs_background": "light"
     },
     "output_type": "display_data"
    }
   ],
   "source": [
    "train_acc, test_acc = [], []\n",
    "para_gamma = [i * 0.05 for i in range(1, 20)]\n",
    "\n",
    "for v_gamma in para_gamma:\n",
    "    svm = SVC(gamma=v_gamma, C=0.35, random_state=0)\n",
    "    svm.fit(X_train, y_train)\n",
    "    \n",
    "    train_acc.append(svm.score(X_train, y_train))\n",
    "    test_acc.append(svm.score(X_test, y_test))\n",
    "    \n",
    "df_acc_gamma = pd.DataFrame()\n",
    "df_acc_gamma['Gamma'] = para_gamma\n",
    "df_acc_gamma['TrainAccuracy'] = train_acc\n",
    "df_acc_gamma['TestAccuracy'] = test_acc\n",
    "\n",
    "plt.plot(para_gamma,train_acc,linestyle='-',label=\"Train Accuracy\")\n",
    "plt.plot(para_gamma,test_acc,linestyle='--',label=\"Test Accuracy\")\n",
    "plt.ylabel(\"accuracy\")\n",
    "plt.xlabel(\"gamma\")\n",
    "plt.legend()"
   ]
  },
  {
   "cell_type": "markdown",
   "id": "38e41e99",
   "metadata": {},
   "source": [
    "- Gamma가 0일 때 train/test acc가 정점이고, gamma가 증가할 수록 acc가 모두 감소한다.\n",
    "- 따라서 감마를 0.01로 세팅한다."
   ]
  },
  {
   "cell_type": "markdown",
   "id": "60bc3117",
   "metadata": {},
   "source": [
    "### 성능 확인"
   ]
  },
  {
   "cell_type": "code",
   "execution_count": 327,
   "id": "a1010fc2",
   "metadata": {
    "ExecuteTime": {
     "end_time": "2021-08-28T15:37:56.967169Z",
     "start_time": "2021-08-28T15:37:56.945285Z"
    },
    "scrolled": true
   },
   "outputs": [
    {
     "name": "stdout",
     "output_type": "stream",
     "text": [
      "Accuracy(정확도): 0.977\n",
      "Recall(재현율): 0.977\n",
      "Precision(정밀도): 0.955\n"
     ]
    }
   ],
   "source": [
    "svm1 = SVC(C=0.35, gamma=0.01, random_state=0)\n",
    "svm1.fit(X_train, y_train)\n",
    "\n",
    "\n",
    "print(\"Accuracy(정확도):\", accuracy_score(y_test, svm1.predict(X_test)).round(3))\n",
    "print(\"Recall(재현율):\", recall_score(y_test, svm1.predict(X_test)).round(3))\n",
    "print(\"Precision(정밀도):\", precision_score(y_test, svm1.predict(X_test)).round(3))"
   ]
  },
  {
   "cell_type": "markdown",
   "id": "2569cfbc",
   "metadata": {},
   "source": [
    "- 어제까지 모델링한 것들 중에 가장 성능이 좋았던 **RandomForest의 성능지표** 를 다시 보자면..\n",
    "    - Accuracy(정확도): 0.9453125\n",
    "    - Recall(재현율): 0.8837209302325582\n",
    "    - Precision(정밀도): 0.95"
   ]
  },
  {
   "cell_type": "markdown",
   "id": "2314bf46",
   "metadata": {},
   "source": [
    "- 7-2 에서 지적했듯이, 유방암 진단 모델에 있어서 제일 중요한 지표는 '재현율'인 것 같다. 그런데 **SVM의 지표를 보면 RF보다 훨씬 재현율이 높다.**\n",
    "    - 만약 진단 모델을 하나 골라야 한다면 지금까지 나온 것 중엔 SVM을 사용해야 하지 않을까?\n",
    "    - 근데 SVM의 **단점 중 하나는 역시 '설명가능성'(explainability)과 '해석가능성'(interpretability)** 이다.\n",
    "    - Decision Tree가 갖춘 직관성이 SVM에는 없다."
   ]
  },
  {
   "cell_type": "code",
   "execution_count": null,
   "id": "a3f64296",
   "metadata": {},
   "outputs": [],
   "source": []
  },
  {
   "cell_type": "markdown",
   "id": "61d47ae8",
   "metadata": {},
   "source": [
    "## 9-3. PCA & SVM"
   ]
  },
  {
   "cell_type": "markdown",
   "id": "e0ed6fcd",
   "metadata": {},
   "source": [
    "> 이미 RF보다 성능이 높지만, 혹시 PCA를 이용한다면 SVM의 성능을 더 높일 수 있을까?\n",
    "> - 목차 4~5번의 분석 내용을 참고해서, 유방암 데이터셋에서 주성분 3개를 추출하고, 주성분 3개를 기반으로 SVM을 구현하고 성능을 시험한다."
   ]
  },
  {
   "cell_type": "code",
   "execution_count": 338,
   "id": "4d5717ab",
   "metadata": {
    "ExecuteTime": {
     "end_time": "2021-08-28T15:40:56.284316Z",
     "start_time": "2021-08-28T15:40:56.262470Z"
    }
   },
   "outputs": [
    {
     "name": "stdout",
     "output_type": "stream",
     "text": [
      "Accuracy(정확도): 0.969\n",
      "Recall(재현율): 1.0\n",
      "Precision(정밀도): 0.915\n"
     ]
    }
   ],
   "source": [
    "pca = PCA(n_components=3, random_state=0)\n",
    "PCtrain = pca.fit_transform(X_train)\n",
    "PCtest = pca.transform(X_test)\n",
    "\n",
    "svm2 = SVC(gamma=0.01, C=0.35, random_state=0)\n",
    "svm2.fit(PCtrain, y_train)\n",
    "\n",
    "print(\"Accuracy(정확도):\", accuracy_score(y_test, svm2.predict(PCtest)).round(3))\n",
    "print(\"Recall(재현율):\", recall_score(y_test, svm2.predict(PCtest)).round(3))\n",
    "print(\"Precision(정밀도):\", precision_score(y_test, svm2.predict(PCtest)).round(3))"
   ]
  },
  {
   "cell_type": "markdown",
   "id": "20aee44d",
   "metadata": {},
   "source": [
    "- 30개 변수를 사용했던 SVC 성능\n",
    "    - Accuracy(정확도): 0.969\n",
    "    - Recall(재현율): 0.953\n",
    "    - Precision(정밀도): 0.953\n",
    "    \n",
    "> 주성분 3개로 축소해서 모델을 구현하니 살짝 낮은 성능을 보여준다.\n",
    "\n",
    "- 혹시 주성분 4개를 사용하면 어떨까?"
   ]
  },
  {
   "cell_type": "code",
   "execution_count": 329,
   "id": "db0ab92e",
   "metadata": {
    "ExecuteTime": {
     "end_time": "2021-08-28T15:38:02.403237Z",
     "start_time": "2021-08-28T15:38:02.383175Z"
    }
   },
   "outputs": [
    {
     "name": "stdout",
     "output_type": "stream",
     "text": [
      "Accuracy(정확도): 0.984\n",
      "Recall(재현율): 1.0\n",
      "Precision(정밀도): 0.956\n"
     ]
    }
   ],
   "source": [
    "pca = PCA(n_components=4, random_state=0)\n",
    "PCtrain = pca.fit_transform(X_train)\n",
    "PCtest = pca.transform(X_test)\n",
    "\n",
    "svm2 = SVC(gamma=0.01, C=0.35, random_state=0)\n",
    "svm2.fit(PCtrain, y_train)\n",
    "\n",
    "print(\"Accuracy(정확도):\", accuracy_score(y_test, svm2.predict(PCtest)).round(3))\n",
    "print(\"Recall(재현율):\", recall_score(y_test, svm2.predict(PCtest)).round(3))\n",
    "print(\"Precision(정밀도):\", precision_score(y_test, svm2.predict(PCtest)).round(3))"
   ]
  },
  {
   "cell_type": "code",
   "execution_count": 335,
   "id": "be628cbb",
   "metadata": {
    "ExecuteTime": {
     "end_time": "2021-08-28T15:40:36.836583Z",
     "start_time": "2021-08-28T15:40:36.804392Z"
    }
   },
   "outputs": [
    {
     "data": {
      "text/html": [
       "<div>\n",
       "<style scoped>\n",
       "    .dataframe tbody tr th:only-of-type {\n",
       "        vertical-align: middle;\n",
       "    }\n",
       "\n",
       "    .dataframe tbody tr th {\n",
       "        vertical-align: top;\n",
       "    }\n",
       "\n",
       "    .dataframe thead th {\n",
       "        text-align: right;\n",
       "    }\n",
       "</style>\n",
       "<table border=\"1\" class=\"dataframe\">\n",
       "  <thead>\n",
       "    <tr style=\"text-align: right;\">\n",
       "      <th></th>\n",
       "      <th>Accuracy</th>\n",
       "      <th>Precision</th>\n",
       "      <th>Recall</th>\n",
       "      <th>Specificity</th>\n",
       "      <th>F1Score</th>\n",
       "    </tr>\n",
       "  </thead>\n",
       "  <tbody>\n",
       "    <tr>\n",
       "      <th>SVM</th>\n",
       "      <td>0.984375</td>\n",
       "      <td>0.955556</td>\n",
       "      <td>1.0</td>\n",
       "      <td>0.976471</td>\n",
       "      <td>0.977273</td>\n",
       "    </tr>\n",
       "  </tbody>\n",
       "</table>\n",
       "</div>"
      ],
      "text/plain": [
       "     Accuracy  Precision  Recall  Specificity   F1Score\n",
       "SVM  0.984375   0.955556     1.0     0.976471  0.977273"
      ]
     },
     "execution_count": 335,
     "metadata": {},
     "output_type": "execute_result"
    }
   ],
   "source": [
    "# svm score df\n",
    "svm_score = pd.DataFrame(index=['SVM'])\n",
    "svm_score['Accuracy'] = [accuracy_score(y_test, svm2.predict(PCtest))]\n",
    "svm_score['Precision'] = [precision_score(y_test, svm2.predict(PCtest))]\n",
    "svm_score['Recall'] = [recall_score(y_test, svm2.predict(PCtest))]\n",
    "svm_score['Specificity'] = [recall_score(y_test, svm2.predict(PCtest), pos_label=0)]\n",
    "svm_score['F1Score'] = [f1_score(y_test, svm2.predict(PCtest))]\n",
    "\n",
    "svm_score"
   ]
  },
  {
   "cell_type": "markdown",
   "id": "62a7124b",
   "metadata": {},
   "source": [
    "- 신기하게도 주성분 4개를 사용하니 30개 변수를 사용했던 때와 완전히 똑같은 성능을 보여준다. 혹시나해서 주성분을 5~6개 이상으로도 늘려봤더니, 늘려도 늘려도 성능이 똑같다.\n",
    "- 왜 그런지는 정확히는 모르겠지만..\n",
    "    - 아마 30개 변수를 사용할 때도 클래스별 선형 관계를 구별짓는 데 사용되는 주요 변수가 약 3~5개 내외가 아니었을까 예상한다.\n",
    "- 만약 30개 변수를 사용할 때나 주성분 4개를 사용할 때나 성능이 똑같다면, 무조건 주성분 4개를 사용한 모델이 훨씬 더 효율적인 모델일 것이다."
   ]
  },
  {
   "cell_type": "code",
   "execution_count": null,
   "id": "234f3c4f",
   "metadata": {},
   "outputs": [],
   "source": []
  },
  {
   "cell_type": "code",
   "execution_count": null,
   "id": "6e977bad",
   "metadata": {},
   "outputs": [],
   "source": []
  },
  {
   "cell_type": "markdown",
   "id": "cfb529f3",
   "metadata": {},
   "source": [
    "# 8월 28일자 업데이트"
   ]
  },
  {
   "cell_type": "markdown",
   "id": "00f5c9c1",
   "metadata": {},
   "source": [
    "# 10. Neural Network"
   ]
  },
  {
   "cell_type": "code",
   "execution_count": 339,
   "id": "5c8f4ad2",
   "metadata": {
    "ExecuteTime": {
     "end_time": "2021-08-28T15:41:11.475628Z",
     "start_time": "2021-08-28T15:41:11.450947Z"
    }
   },
   "outputs": [
    {
     "name": "stdout",
     "output_type": "stream",
     "text": [
      "(192, 30) (128, 30) (192,) (128,)\n"
     ]
    }
   ],
   "source": [
    "# Data - load and preprocess\n",
    "df = pd.read_csv('3data/유방암.csv', encoding='euc-kr')\n",
    "\n",
    "X = df.drop('diagnosis', axis=1)\n",
    "y = df['diagnosis']\n",
    "\n",
    "# 목표변수 라벨링\n",
    "y = y.map({'양성': 1, '음성': 0})\n",
    "\n",
    "# class unbalanced이므로 stratify=y & test_size=0.4\n",
    "X_train, X_test, y_train, y_test =\\\n",
    "        train_test_split(X, y, test_size=0.4, stratify=y) \n",
    "\n",
    "print(X_train.shape, X_test.shape, y_train.shape, y_test.shape)"
   ]
  },
  {
   "cell_type": "code",
   "execution_count": 340,
   "id": "a83063b4",
   "metadata": {
    "ExecuteTime": {
     "end_time": "2021-08-28T15:41:12.086179Z",
     "start_time": "2021-08-28T15:41:12.071657Z"
    }
   },
   "outputs": [],
   "source": [
    "# Neural Network 모델 성능에 스케일링이 영향을 미친다\n",
    "stscl = StandardScaler()\n",
    "\n",
    "X_train = stscl.fit_transform(X_train)\n",
    "X_test = stscl.transform(X_test)"
   ]
  },
  {
   "cell_type": "markdown",
   "id": "06f6f063",
   "metadata": {},
   "source": [
    "## 10-1. Neural Network 구현"
   ]
  },
  {
   "cell_type": "code",
   "execution_count": 341,
   "id": "507c2207",
   "metadata": {
    "ExecuteTime": {
     "end_time": "2021-08-28T15:41:13.091025Z",
     "start_time": "2021-08-28T15:41:12.915869Z"
    }
   },
   "outputs": [
    {
     "name": "stdout",
     "output_type": "stream",
     "text": [
      "Train Accuracy (without param): 0.984\n",
      "Test Accuracy (without param): 0.992\n"
     ]
    }
   ],
   "source": [
    "# Multi-Layered Perceptron\n",
    "from sklearn.neural_network import MLPClassifier\n",
    "\n",
    "nn0 = MLPClassifier(random_state=0)\n",
    "nn0.fit(X_train,y_train)\n",
    "\n",
    "print(\"Train Accuracy (without param):\", nn0.score(X_train, y_train).round(3))\n",
    "print(\"Test Accuracy (without param):\", nn0.score(X_test, y_test).round(3))"
   ]
  },
  {
   "cell_type": "markdown",
   "id": "8c480a03",
   "metadata": {
    "ExecuteTime": {
     "end_time": "2021-08-28T14:19:11.483348Z",
     "start_time": "2021-08-28T14:19:11.458709Z"
    }
   },
   "source": [
    "- default parameter는 hidden_layer_sizes=100이다. 파라미터를 변경하면 성능 변화가 있을까?"
   ]
  },
  {
   "cell_type": "markdown",
   "id": "46cdb7af",
   "metadata": {},
   "source": [
    "## 10-2. Neural Network 성능 분석"
   ]
  },
  {
   "cell_type": "code",
   "execution_count": 342,
   "id": "8606eb59",
   "metadata": {
    "ExecuteTime": {
     "end_time": "2021-08-28T15:41:16.125772Z",
     "start_time": "2021-08-28T15:41:14.184035Z"
    }
   },
   "outputs": [
    {
     "data": {
      "text/html": [
       "<div>\n",
       "<style scoped>\n",
       "    .dataframe tbody tr th:only-of-type {\n",
       "        vertical-align: middle;\n",
       "    }\n",
       "\n",
       "    .dataframe tbody tr th {\n",
       "        vertical-align: top;\n",
       "    }\n",
       "\n",
       "    .dataframe thead th {\n",
       "        text-align: right;\n",
       "    }\n",
       "</style>\n",
       "<table border=\"1\" class=\"dataframe\">\n",
       "  <thead>\n",
       "    <tr style=\"text-align: right;\">\n",
       "      <th></th>\n",
       "      <th>HiddenLayer</th>\n",
       "      <th>TrainAccuracy</th>\n",
       "      <th>TestAccuracy</th>\n",
       "    </tr>\n",
       "  </thead>\n",
       "  <tbody>\n",
       "    <tr>\n",
       "      <th>0</th>\n",
       "      <td>20</td>\n",
       "      <td>0.969</td>\n",
       "      <td>0.984</td>\n",
       "    </tr>\n",
       "    <tr>\n",
       "      <th>1</th>\n",
       "      <td>40</td>\n",
       "      <td>0.979</td>\n",
       "      <td>0.969</td>\n",
       "    </tr>\n",
       "    <tr>\n",
       "      <th>2</th>\n",
       "      <td>60</td>\n",
       "      <td>0.984</td>\n",
       "      <td>0.977</td>\n",
       "    </tr>\n",
       "    <tr>\n",
       "      <th>3</th>\n",
       "      <td>80</td>\n",
       "      <td>0.984</td>\n",
       "      <td>0.977</td>\n",
       "    </tr>\n",
       "    <tr>\n",
       "      <th>4</th>\n",
       "      <td>100</td>\n",
       "      <td>0.984</td>\n",
       "      <td>0.992</td>\n",
       "    </tr>\n",
       "    <tr>\n",
       "      <th>5</th>\n",
       "      <td>120</td>\n",
       "      <td>0.990</td>\n",
       "      <td>0.969</td>\n",
       "    </tr>\n",
       "    <tr>\n",
       "      <th>6</th>\n",
       "      <td>140</td>\n",
       "      <td>0.990</td>\n",
       "      <td>0.977</td>\n",
       "    </tr>\n",
       "    <tr>\n",
       "      <th>7</th>\n",
       "      <td>160</td>\n",
       "      <td>0.990</td>\n",
       "      <td>0.977</td>\n",
       "    </tr>\n",
       "  </tbody>\n",
       "</table>\n",
       "</div>"
      ],
      "text/plain": [
       "   HiddenLayer  TrainAccuracy  TestAccuracy\n",
       "0           20          0.969         0.984\n",
       "1           40          0.979         0.969\n",
       "2           60          0.984         0.977\n",
       "3           80          0.984         0.977\n",
       "4          100          0.984         0.992\n",
       "5          120          0.990         0.969\n",
       "6          140          0.990         0.977\n",
       "7          160          0.990         0.977"
      ]
     },
     "execution_count": 342,
     "metadata": {},
     "output_type": "execute_result"
    }
   ],
   "source": [
    "train_acc, test_acc = [], []\n",
    "\n",
    "para_hidden = [i * 20 for i in range(1, 9)]\n",
    "\n",
    "for v_hidden in para_hidden:\n",
    "    nn = MLPClassifier(hidden_layer_sizes=v_hidden, random_state=0)\n",
    "    nn.fit(X_train, y_train)\n",
    "    train_acc.append(nn.score(X_train, y_train))\n",
    "    test_acc.append(nn.score(X_test, y_test))\n",
    "    \n",
    "df_acc_hidden=pd.DataFrame()\n",
    "df_acc_hidden[\"HiddenLayer\"]=para_hidden\n",
    "df_acc_hidden[\"TrainAccuracy\"]=train_acc\n",
    "df_acc_hidden[\"TestAccuracy\"]=test_acc\n",
    "\n",
    "df_acc_hidden.round(3)"
   ]
  },
  {
   "cell_type": "code",
   "execution_count": 343,
   "id": "3a35fc18",
   "metadata": {
    "ExecuteTime": {
     "end_time": "2021-08-28T15:41:16.185397Z",
     "start_time": "2021-08-28T15:41:16.126979Z"
    }
   },
   "outputs": [
    {
     "data": {
      "text/plain": [
       "<matplotlib.legend.Legend at 0x15ecd0130>"
      ]
     },
     "execution_count": 343,
     "metadata": {},
     "output_type": "execute_result"
    },
    {
     "data": {
      "image/png": "[encoded data removed]",
      "text/plain": [
       "<Figure size 432x288 with 1 Axes>"
      ]
     },
     "metadata": {
      "needs_background": "light"
     },
     "output_type": "display_data"
    }
   ],
   "source": [
    "plt.plot(para_hidden,train_acc,linestyle=\"-\",label=\"Train Accuracy\")\n",
    "plt.plot(para_hidden,test_acc,linestyle=\"--\",label=\"Test Accuracy\")\n",
    "plt.ylabel(\"accuracy\")\n",
    "plt.xlabel(\"Hidden Layer\")\n",
    "plt.legend()"
   ]
  },
  {
   "cell_type": "markdown",
   "id": "95837e95",
   "metadata": {},
   "source": [
    "- 위 그래프를 기준으로는 hidden_layer_sizes=40일 때 test score(0.969)가 제일 높고 그 이후로 test score가 계속 떨어지는 것을 고려했을 때, 40이 적정 파라미터인 것 같다.\n",
    "- 위에서는 1개의 은닉층(hidden layer)을 기준으로 성능을 비교한건데, 만약 2개의 은닉층을 설정한다면 성능이 어떻게 바뀔까?"
   ]
  },
  {
   "cell_type": "code",
   "execution_count": 344,
   "id": "d30948ee",
   "metadata": {
    "ExecuteTime": {
     "end_time": "2021-08-28T15:41:18.369618Z",
     "start_time": "2021-08-28T15:41:16.186722Z"
    }
   },
   "outputs": [
    {
     "data": {
      "text/html": [
       "<div>\n",
       "<style scoped>\n",
       "    .dataframe tbody tr th:only-of-type {\n",
       "        vertical-align: middle;\n",
       "    }\n",
       "\n",
       "    .dataframe tbody tr th {\n",
       "        vertical-align: top;\n",
       "    }\n",
       "\n",
       "    .dataframe thead th {\n",
       "        text-align: right;\n",
       "    }\n",
       "</style>\n",
       "<table border=\"1\" class=\"dataframe\">\n",
       "  <thead>\n",
       "    <tr style=\"text-align: right;\">\n",
       "      <th></th>\n",
       "      <th>HiddenLayer</th>\n",
       "      <th>TrainAccuracy</th>\n",
       "      <th>TestAccuracy</th>\n",
       "    </tr>\n",
       "  </thead>\n",
       "  <tbody>\n",
       "    <tr>\n",
       "      <th>0</th>\n",
       "      <td>20</td>\n",
       "      <td>0.979</td>\n",
       "      <td>0.984</td>\n",
       "    </tr>\n",
       "    <tr>\n",
       "      <th>1</th>\n",
       "      <td>40</td>\n",
       "      <td>1.000</td>\n",
       "      <td>0.977</td>\n",
       "    </tr>\n",
       "    <tr>\n",
       "      <th>2</th>\n",
       "      <td>60</td>\n",
       "      <td>1.000</td>\n",
       "      <td>0.992</td>\n",
       "    </tr>\n",
       "    <tr>\n",
       "      <th>3</th>\n",
       "      <td>80</td>\n",
       "      <td>1.000</td>\n",
       "      <td>0.984</td>\n",
       "    </tr>\n",
       "    <tr>\n",
       "      <th>4</th>\n",
       "      <td>100</td>\n",
       "      <td>1.000</td>\n",
       "      <td>0.977</td>\n",
       "    </tr>\n",
       "    <tr>\n",
       "      <th>5</th>\n",
       "      <td>120</td>\n",
       "      <td>1.000</td>\n",
       "      <td>0.984</td>\n",
       "    </tr>\n",
       "    <tr>\n",
       "      <th>6</th>\n",
       "      <td>140</td>\n",
       "      <td>1.000</td>\n",
       "      <td>0.977</td>\n",
       "    </tr>\n",
       "    <tr>\n",
       "      <th>7</th>\n",
       "      <td>160</td>\n",
       "      <td>1.000</td>\n",
       "      <td>0.992</td>\n",
       "    </tr>\n",
       "  </tbody>\n",
       "</table>\n",
       "</div>"
      ],
      "text/plain": [
       "   HiddenLayer  TrainAccuracy  TestAccuracy\n",
       "0           20          0.979         0.984\n",
       "1           40          1.000         0.977\n",
       "2           60          1.000         0.992\n",
       "3           80          1.000         0.984\n",
       "4          100          1.000         0.977\n",
       "5          120          1.000         0.984\n",
       "6          140          1.000         0.977\n",
       "7          160          1.000         0.992"
      ]
     },
     "execution_count": 344,
     "metadata": {},
     "output_type": "execute_result"
    }
   ],
   "source": [
    "train_acc, test_acc = [], []\n",
    "\n",
    "para_hidden = [i * 20 for i in range(1, 9)]\n",
    "\n",
    "for v_hidden in para_hidden:\n",
    "    nn = MLPClassifier(hidden_layer_sizes=(v_hidden, v_hidden), \n",
    "                       random_state=0)\n",
    "    nn.fit(X_train, y_train)\n",
    "    train_acc.append(nn.score(X_train, y_train))\n",
    "    test_acc.append(nn.score(X_test, y_test))\n",
    "    \n",
    "df_acc_hidden=pd.DataFrame()\n",
    "df_acc_hidden[\"HiddenLayer\"]=para_hidden\n",
    "df_acc_hidden[\"TrainAccuracy\"]=train_acc\n",
    "df_acc_hidden[\"TestAccuracy\"]=test_acc\n",
    "\n",
    "df_acc_hidden.round(3)"
   ]
  },
  {
   "cell_type": "code",
   "execution_count": 345,
   "id": "c48898dc",
   "metadata": {
    "ExecuteTime": {
     "end_time": "2021-08-28T15:41:18.426712Z",
     "start_time": "2021-08-28T15:41:18.371451Z"
    }
   },
   "outputs": [
    {
     "data": {
      "text/plain": [
       "<matplotlib.legend.Legend at 0x15ec781f0>"
      ]
     },
     "execution_count": 345,
     "metadata": {},
     "output_type": "execute_result"
    },
    {
     "data": {
      "image/png": "[encoded data removed]",
      "text/plain": [
       "<Figure size 432x288 with 1 Axes>"
      ]
     },
     "metadata": {
      "needs_background": "light"
     },
     "output_type": "display_data"
    }
   ],
   "source": [
    "plt.plot(para_hidden,train_acc,linestyle=\"-\",label=\"Train Accuracy\")\n",
    "plt.plot(para_hidden,test_acc,linestyle=\"--\",label=\"Test Accuracy\")\n",
    "plt.ylabel(\"accuracy\")\n",
    "plt.xlabel(\"Hidden Layer\")\n",
    "plt.legend()"
   ]
  },
  {
   "cell_type": "markdown",
   "id": "07b1c957",
   "metadata": {},
   "source": [
    "- hidden layer를 2개 층으로 했을 때는 1개층으로 얻었던 test score인 0.969에 미치지 못하고 있다.\n",
    "- 따라서 1개층의 hidden layer size를 40으로 설정하고, activation function을 바꾸면 성능에 변화가 있는지 확인해본다."
   ]
  },
  {
   "cell_type": "code",
   "execution_count": 346,
   "id": "12c50693",
   "metadata": {
    "ExecuteTime": {
     "end_time": "2021-08-28T15:41:18.560844Z",
     "start_time": "2021-08-28T15:41:18.427901Z"
    }
   },
   "outputs": [
    {
     "data": {
      "text/html": [
       "<div>\n",
       "<style scoped>\n",
       "    .dataframe tbody tr th:only-of-type {\n",
       "        vertical-align: middle;\n",
       "    }\n",
       "\n",
       "    .dataframe tbody tr th {\n",
       "        vertical-align: top;\n",
       "    }\n",
       "\n",
       "    .dataframe thead th {\n",
       "        text-align: right;\n",
       "    }\n",
       "</style>\n",
       "<table border=\"1\" class=\"dataframe\">\n",
       "  <thead>\n",
       "    <tr style=\"text-align: right;\">\n",
       "      <th></th>\n",
       "      <th>ActivationFuntion</th>\n",
       "      <th>TrainAccuracy</th>\n",
       "      <th>TestAccuracy</th>\n",
       "    </tr>\n",
       "  </thead>\n",
       "  <tbody>\n",
       "    <tr>\n",
       "      <th>0</th>\n",
       "      <td>logistic</td>\n",
       "      <td>0.969</td>\n",
       "      <td>0.984</td>\n",
       "    </tr>\n",
       "    <tr>\n",
       "      <th>1</th>\n",
       "      <td>tanh</td>\n",
       "      <td>0.979</td>\n",
       "      <td>0.969</td>\n",
       "    </tr>\n",
       "    <tr>\n",
       "      <th>2</th>\n",
       "      <td>relu</td>\n",
       "      <td>0.979</td>\n",
       "      <td>0.969</td>\n",
       "    </tr>\n",
       "  </tbody>\n",
       "</table>\n",
       "</div>"
      ],
      "text/plain": [
       "  ActivationFuntion  TrainAccuracy  TestAccuracy\n",
       "0          logistic          0.969         0.984\n",
       "1              tanh          0.979         0.969\n",
       "2              relu          0.979         0.969"
      ]
     },
     "execution_count": 346,
     "metadata": {},
     "output_type": "execute_result"
    }
   ],
   "source": [
    "train_acc = []; test_acc = []\n",
    "para_funtion = ['logistic','tanh','relu']\n",
    "\n",
    "for v_function in para_funtion:\n",
    "    nn = MLPClassifier(hidden_layer_sizes=40, activation=v_function, \n",
    "                       random_state=0)\n",
    "    nn.fit(X_train, y_train)\n",
    "    train_acc.append(nn.score(X_train, y_train))\n",
    "    test_acc.append(nn.score(X_test, y_test))\n",
    "    \n",
    "df_acc_function=pd.DataFrame()\n",
    "df_acc_function[\"ActivationFuntion\"]=para_funtion\n",
    "df_acc_function[\"TrainAccuracy\"]=train_acc\n",
    "df_acc_function[\"TestAccuracy\"]=test_acc\n",
    "\n",
    "df_acc_function.round(3)"
   ]
  },
  {
   "cell_type": "code",
   "execution_count": 347,
   "id": "85476fc4",
   "metadata": {
    "ExecuteTime": {
     "end_time": "2021-08-28T15:41:18.613932Z",
     "start_time": "2021-08-28T15:41:18.561601Z"
    },
    "scrolled": true
   },
   "outputs": [
    {
     "data": {
      "text/plain": [
       "<matplotlib.legend.Legend at 0x15d37b940>"
      ]
     },
     "execution_count": 347,
     "metadata": {},
     "output_type": "execute_result"
    },
    {
     "data": {
      "image/png": "[encoded data removed]",
      "text/plain": [
       "<Figure size 432x288 with 1 Axes>"
      ]
     },
     "metadata": {
      "needs_background": "light"
     },
     "output_type": "display_data"
    }
   ],
   "source": [
    "plt.plot(para_funtion,train_acc,linestyle=\"-\",label=\"Train Accuracy\")\n",
    "plt.plot(para_funtion,test_acc,linestyle=\"--\",label=\"Test Accuracy\")\n",
    "plt.ylabel(\"accuracy\");plt.xlabel(\"Activation Function\")\n",
    "plt.legend()"
   ]
  },
  {
   "cell_type": "markdown",
   "id": "d443375c",
   "metadata": {},
   "source": [
    "- ReLu가 train/test score 모두 가장 높다. (relu는 MLPClassifier의 default function이다.)<br><br>\n",
    "\n",
    "\n",
    "- 그렇다면 여러가지 성능 지표를 최종적으로 확인해본다."
   ]
  },
  {
   "cell_type": "code",
   "execution_count": 348,
   "id": "0cfce133",
   "metadata": {
    "ExecuteTime": {
     "end_time": "2021-08-28T15:41:18.656224Z",
     "start_time": "2021-08-28T15:41:18.614854Z"
    }
   },
   "outputs": [
    {
     "data": {
      "text/plain": [
       "MLPClassifier(hidden_layer_sizes=40, random_state=0)"
      ]
     },
     "execution_count": 348,
     "metadata": {},
     "output_type": "execute_result"
    }
   ],
   "source": [
    "nn_set = MLPClassifier(hidden_layer_sizes=40, activation='relu',\n",
    "                       random_state=0)\n",
    "nn_set.fit(X_train, y_train)"
   ]
  },
  {
   "cell_type": "code",
   "execution_count": 349,
   "id": "96d883b1",
   "metadata": {
    "ExecuteTime": {
     "end_time": "2021-08-28T15:41:18.660153Z",
     "start_time": "2021-08-28T15:41:18.657501Z"
    },
    "scrolled": true
   },
   "outputs": [
    {
     "name": "stdout",
     "output_type": "stream",
     "text": [
      "[[82  3]\n",
      " [ 1 42]]\n"
     ]
    }
   ],
   "source": [
    "print(confusion_matrix(y_test, nn_set.predict(X_test)))"
   ]
  },
  {
   "cell_type": "code",
   "execution_count": 350,
   "id": "6c884e64",
   "metadata": {
    "ExecuteTime": {
     "end_time": "2021-08-28T15:41:21.628868Z",
     "start_time": "2021-08-28T15:41:21.618515Z"
    }
   },
   "outputs": [
    {
     "name": "stdout",
     "output_type": "stream",
     "text": [
      "Accuracy(정확도): 0.969\n",
      "Recall(재현율): 0.977\n",
      "Precision(정밀도): 0.933\n"
     ]
    }
   ],
   "source": [
    "print(\"Accuracy(정확도):\", accuracy_score(y_test, nn_set.predict(X_test)).round(3))\n",
    "print(\"Recall(재현율):\", recall_score(y_test, nn_set.predict(X_test)).round(3))\n",
    "print(\"Precision(정밀도):\", precision_score(y_test, nn_set.predict(X_test)).round(3))"
   ]
  },
  {
   "cell_type": "code",
   "execution_count": 351,
   "id": "23fce147",
   "metadata": {
    "ExecuteTime": {
     "end_time": "2021-08-28T15:42:25.667854Z",
     "start_time": "2021-08-28T15:42:25.622104Z"
    }
   },
   "outputs": [
    {
     "data": {
      "text/html": [
       "<div>\n",
       "<style scoped>\n",
       "    .dataframe tbody tr th:only-of-type {\n",
       "        vertical-align: middle;\n",
       "    }\n",
       "\n",
       "    .dataframe tbody tr th {\n",
       "        vertical-align: top;\n",
       "    }\n",
       "\n",
       "    .dataframe thead th {\n",
       "        text-align: right;\n",
       "    }\n",
       "</style>\n",
       "<table border=\"1\" class=\"dataframe\">\n",
       "  <thead>\n",
       "    <tr style=\"text-align: right;\">\n",
       "      <th></th>\n",
       "      <th>Accuracy</th>\n",
       "      <th>Precision</th>\n",
       "      <th>Recall</th>\n",
       "      <th>Specificity</th>\n",
       "      <th>F1Score</th>\n",
       "    </tr>\n",
       "  </thead>\n",
       "  <tbody>\n",
       "    <tr>\n",
       "      <th>Neural Network</th>\n",
       "      <td>0.96875</td>\n",
       "      <td>0.933333</td>\n",
       "      <td>0.976744</td>\n",
       "      <td>0.964706</td>\n",
       "      <td>0.954545</td>\n",
       "    </tr>\n",
       "  </tbody>\n",
       "</table>\n",
       "</div>"
      ],
      "text/plain": [
       "                Accuracy  Precision    Recall  Specificity   F1Score\n",
       "Neural Network   0.96875   0.933333  0.976744     0.964706  0.954545"
      ]
     },
     "execution_count": 351,
     "metadata": {},
     "output_type": "execute_result"
    }
   ],
   "source": [
    "# nn score df\n",
    "nn_score = pd.DataFrame(index=['Neural Network'])\n",
    "nn_score['Accuracy'] = [accuracy_score(y_test, nn_set.predict(X_test))]\n",
    "nn_score['Precision'] = [precision_score(y_test, nn_set.predict(X_test))]\n",
    "nn_score['Recall'] = [recall_score(y_test, nn_set.predict(X_test))]\n",
    "nn_score['Specificity'] = [recall_score(y_test, nn_set.predict(X_test), pos_label=0)]\n",
    "nn_score['F1Score'] = [f1_score(y_test, nn_set.predict(X_test))]\n",
    "\n",
    "nn_score"
   ]
  },
  {
   "cell_type": "markdown",
   "id": "27fbacc3",
   "metadata": {},
   "source": [
    "- Confusion matrix가 굉장히 인상 깊다. 지금까지 살펴본 대부분의 모델들이 음성 데이터를 더 잘 맞추고 양성 데이터를 많이 틀렸는데 (낮은 재현율, 높은 특이도), N은 43개의 양성 데이터 중 41개를 맞췄다.\n",
    "- 유방암 데이터셋에서 재현율이 굉장히 높은 모델이라는 점이 인상 깊다."
   ]
  },
  {
   "cell_type": "code",
   "execution_count": null,
   "id": "8c2cb3aa",
   "metadata": {},
   "outputs": [],
   "source": []
  },
  {
   "cell_type": "markdown",
   "id": "d99344f7",
   "metadata": {},
   "source": [
    "# 11. KNN\n",
    "- scaling\n",
    "- 3~30까지 acc 변화\n",
    "- confusion matrix"
   ]
  },
  {
   "cell_type": "code",
   "execution_count": 362,
   "id": "e9f24e08",
   "metadata": {
    "ExecuteTime": {
     "end_time": "2021-08-28T15:45:58.382410Z",
     "start_time": "2021-08-28T15:45:58.356921Z"
    }
   },
   "outputs": [
    {
     "name": "stdout",
     "output_type": "stream",
     "text": [
      "(192, 30) (128, 30) (192,) (128,)\n"
     ]
    }
   ],
   "source": [
    "# Data - load and preprocess\n",
    "df = pd.read_csv('3data/유방암.csv', encoding='euc-kr')\n",
    "\n",
    "X = df.drop('diagnosis', axis=1)\n",
    "y = df['diagnosis']\n",
    "\n",
    "# 목표변수 라벨링\n",
    "y = y.map({'양성': 1, '음성': 0})\n",
    "\n",
    "# class unbalanced이므로 stratify=y & test_size=0.4\n",
    "X_train, X_test, y_train, y_test =\\\n",
    "        train_test_split(X, y, test_size=0.4, stratify=y) \n",
    "\n",
    "print(X_train.shape, X_test.shape, y_train.shape, y_test.shape)"
   ]
  },
  {
   "cell_type": "code",
   "execution_count": 363,
   "id": "6a879ea0",
   "metadata": {
    "ExecuteTime": {
     "end_time": "2021-08-28T15:45:58.681453Z",
     "start_time": "2021-08-28T15:45:58.667800Z"
    }
   },
   "outputs": [],
   "source": [
    "# KNN 모델 성능에 스케일링이 영향을 미친다\n",
    "stscl = StandardScaler()\n",
    "\n",
    "X_train = stscl.fit_transform(X_train)\n",
    "X_test = stscl.transform(X_test)"
   ]
  },
  {
   "cell_type": "markdown",
   "id": "46beb46a",
   "metadata": {},
   "source": [
    "## 11-1. KNN 구현"
   ]
  },
  {
   "cell_type": "code",
   "execution_count": 364,
   "id": "371f5ac3",
   "metadata": {
    "ExecuteTime": {
     "end_time": "2021-08-28T15:45:59.113467Z",
     "start_time": "2021-08-28T15:45:59.102853Z"
    }
   },
   "outputs": [
    {
     "data": {
      "text/plain": [
       "KNeighborsClassifier()"
      ]
     },
     "execution_count": 364,
     "metadata": {},
     "output_type": "execute_result"
    }
   ],
   "source": [
    "from sklearn.neighbors import KNeighborsClassifier\n",
    "\n",
    "knn0 = KNeighborsClassifier()\n",
    "knn0.fit(X_train, y_train)"
   ]
  },
  {
   "cell_type": "code",
   "execution_count": 365,
   "id": "88f78ed8",
   "metadata": {
    "ExecuteTime": {
     "end_time": "2021-08-28T15:45:59.358979Z",
     "start_time": "2021-08-28T15:45:59.331044Z"
    }
   },
   "outputs": [
    {
     "name": "stdout",
     "output_type": "stream",
     "text": [
      "Train Accuracy (without param): 0.99\n",
      "Test Accuracy (without param): 0.914\n"
     ]
    }
   ],
   "source": [
    "print(\"Train Accuracy (without param):\", knn0.score(X_train, y_train).round(3))\n",
    "print(\"Test Accuracy (without param):\", knn0.score(X_test, y_test).round(3))"
   ]
  },
  {
   "cell_type": "markdown",
   "id": "1dbe15e3",
   "metadata": {},
   "source": [
    "## 11-2. KNN 성능 분석"
   ]
  },
  {
   "cell_type": "code",
   "execution_count": 366,
   "id": "303a0a29",
   "metadata": {
    "ExecuteTime": {
     "end_time": "2021-08-28T15:46:00.055408Z",
     "start_time": "2021-08-28T15:45:59.822227Z"
    }
   },
   "outputs": [
    {
     "data": {
      "text/html": [
       "<div>\n",
       "<style scoped>\n",
       "    .dataframe tbody tr th:only-of-type {\n",
       "        vertical-align: middle;\n",
       "    }\n",
       "\n",
       "    .dataframe tbody tr th {\n",
       "        vertical-align: top;\n",
       "    }\n",
       "\n",
       "    .dataframe thead th {\n",
       "        text-align: right;\n",
       "    }\n",
       "</style>\n",
       "<table border=\"1\" class=\"dataframe\">\n",
       "  <thead>\n",
       "    <tr style=\"text-align: right;\">\n",
       "      <th></th>\n",
       "      <th>Neighbors</th>\n",
       "      <th>TrainAccuracy</th>\n",
       "      <th>TestAccuracy</th>\n",
       "    </tr>\n",
       "  </thead>\n",
       "  <tbody>\n",
       "    <tr>\n",
       "      <th>0</th>\n",
       "      <td>1</td>\n",
       "      <td>1.000</td>\n",
       "      <td>0.938</td>\n",
       "    </tr>\n",
       "    <tr>\n",
       "      <th>1</th>\n",
       "      <td>2</td>\n",
       "      <td>0.984</td>\n",
       "      <td>0.953</td>\n",
       "    </tr>\n",
       "    <tr>\n",
       "      <th>2</th>\n",
       "      <td>3</td>\n",
       "      <td>0.984</td>\n",
       "      <td>0.930</td>\n",
       "    </tr>\n",
       "    <tr>\n",
       "      <th>3</th>\n",
       "      <td>4</td>\n",
       "      <td>0.979</td>\n",
       "      <td>0.938</td>\n",
       "    </tr>\n",
       "    <tr>\n",
       "      <th>4</th>\n",
       "      <td>5</td>\n",
       "      <td>0.990</td>\n",
       "      <td>0.914</td>\n",
       "    </tr>\n",
       "  </tbody>\n",
       "</table>\n",
       "</div>"
      ],
      "text/plain": [
       "   Neighbors  TrainAccuracy  TestAccuracy\n",
       "0          1          1.000         0.938\n",
       "1          2          0.984         0.953\n",
       "2          3          0.984         0.930\n",
       "3          4          0.979         0.938\n",
       "4          5          0.990         0.914"
      ]
     },
     "execution_count": 366,
     "metadata": {},
     "output_type": "execute_result"
    }
   ],
   "source": [
    "train_acc, test_acc = [], []\n",
    "\n",
    "para_n_neighbors=[i for i in range(1,31)]\n",
    "\n",
    "for v_n_neighbors in para_n_neighbors:\n",
    "    knn = KNeighborsClassifier(n_neighbors=v_n_neighbors)\n",
    "    knn.fit(X_train, y_train)\n",
    "    train_acc.append(knn.score(X_train, y_train))\n",
    "    test_acc.append(knn.score(X_test, y_test))\n",
    "    \n",
    "df_acc_neighbors = pd.DataFrame()\n",
    "df_acc_neighbors[\"Neighbors\"] = para_n_neighbors\n",
    "df_acc_neighbors[\"TrainAccuracy\"] = train_acc\n",
    "df_acc_neighbors[\"TestAccuracy\"] = test_acc\n",
    "\n",
    "df_acc_neighbors.round(3).head()"
   ]
  },
  {
   "cell_type": "code",
   "execution_count": 367,
   "id": "a68f988e",
   "metadata": {
    "ExecuteTime": {
     "end_time": "2021-08-28T15:46:00.399381Z",
     "start_time": "2021-08-28T15:46:00.334521Z"
    }
   },
   "outputs": [
    {
     "data": {
      "text/plain": [
       "<matplotlib.legend.Legend at 0x15bc89700>"
      ]
     },
     "execution_count": 367,
     "metadata": {},
     "output_type": "execute_result"
    },
    {
     "data": {
      "image/png": "[encoded data removed]",
      "text/plain": [
       "<Figure size 432x288 with 1 Axes>"
      ]
     },
     "metadata": {
      "needs_background": "light"
     },
     "output_type": "display_data"
    }
   ],
   "source": [
    "plt.plot(para_n_neighbors, train_acc, linestyle=\"-\", label=\"Train Accuracy\")\n",
    "plt.plot(para_n_neighbors,test_acc, linestyle=\"--\", label=\"Test Accuracy\")\n",
    "plt.xlabel(\"n_neighbors\")\n",
    "plt.ylabel(\"accuracy\")\n",
    "plt.legend()"
   ]
  },
  {
   "cell_type": "markdown",
   "id": "67784df9",
   "metadata": {},
   "source": [
    "- n_neighbors를 1~30로 변화시키며 성능을 측정해봤는데, 특이하게도 test score의 변동이 굉장히 불규칙했다.\n",
    "- test score가 가장 높은 값은 3, 5, 9, 14 값인데, 너무 변동이 심해서 어느 하나를 고르기가 쉽지가 않다.\n",
    "    - n_neighbors뿐 아니라 weights 파라미터도 함께 변경해가며 성능을 측정해보고 결정하기로 한다."
   ]
  },
  {
   "cell_type": "code",
   "execution_count": 368,
   "id": "1e65a2ec",
   "metadata": {
    "ExecuteTime": {
     "end_time": "2021-08-28T15:46:01.384689Z",
     "start_time": "2021-08-28T15:46:01.190911Z"
    }
   },
   "outputs": [],
   "source": [
    "train_acc, test_acc = [], []\n",
    "\n",
    "para_n_neighbors = [i for i in range(1,31)]\n",
    "para_weights = (['uniform']) * 15 + (['distance'] * 15)\n",
    "\n",
    "for (v_n_neighbors,v_weights) in zip(para_n_neighbors,para_weights):\n",
    "    knn=KNeighborsClassifier(n_neighbors=v_n_neighbors,weights=v_weights)\n",
    "    knn.fit(X_train,y_train)\n",
    "    train_acc.append(knn.score(X_train,y_train))\n",
    "    test_acc.append(knn.score(X_test,y_test))\n",
    "    \n",
    "df_acc_weights=pd.DataFrame()\n",
    "df_acc_weights[\"Neighbors\"]=para_n_neighbors\n",
    "df_acc_weights[\"Weights\"]=para_weights\n",
    "df_acc_weights[\"TrainAccuracy\"]=train_acc\n",
    "df_acc_weights[\"TestAccuracy\"]=test_acc"
   ]
  },
  {
   "cell_type": "code",
   "execution_count": 369,
   "id": "11394463",
   "metadata": {
    "ExecuteTime": {
     "end_time": "2021-08-28T15:46:01.649694Z",
     "start_time": "2021-08-28T15:46:01.643279Z"
    }
   },
   "outputs": [
    {
     "data": {
      "text/html": [
       "<div>\n",
       "<style scoped>\n",
       "    .dataframe tbody tr th:only-of-type {\n",
       "        vertical-align: middle;\n",
       "    }\n",
       "\n",
       "    .dataframe tbody tr th {\n",
       "        vertical-align: top;\n",
       "    }\n",
       "\n",
       "    .dataframe thead th {\n",
       "        text-align: right;\n",
       "    }\n",
       "</style>\n",
       "<table border=\"1\" class=\"dataframe\">\n",
       "  <thead>\n",
       "    <tr style=\"text-align: right;\">\n",
       "      <th></th>\n",
       "      <th>Neighbors</th>\n",
       "      <th>Weights</th>\n",
       "      <th>TrainAccuracy</th>\n",
       "      <th>TestAccuracy</th>\n",
       "    </tr>\n",
       "  </thead>\n",
       "  <tbody>\n",
       "    <tr>\n",
       "      <th>1</th>\n",
       "      <td>2</td>\n",
       "      <td>uniform</td>\n",
       "      <td>0.984</td>\n",
       "      <td>0.953</td>\n",
       "    </tr>\n",
       "    <tr>\n",
       "      <th>0</th>\n",
       "      <td>1</td>\n",
       "      <td>uniform</td>\n",
       "      <td>1.000</td>\n",
       "      <td>0.938</td>\n",
       "    </tr>\n",
       "    <tr>\n",
       "      <th>11</th>\n",
       "      <td>12</td>\n",
       "      <td>uniform</td>\n",
       "      <td>0.974</td>\n",
       "      <td>0.938</td>\n",
       "    </tr>\n",
       "    <tr>\n",
       "      <th>28</th>\n",
       "      <td>29</td>\n",
       "      <td>distance</td>\n",
       "      <td>1.000</td>\n",
       "      <td>0.938</td>\n",
       "    </tr>\n",
       "    <tr>\n",
       "      <th>27</th>\n",
       "      <td>28</td>\n",
       "      <td>distance</td>\n",
       "      <td>1.000</td>\n",
       "      <td>0.938</td>\n",
       "    </tr>\n",
       "    <tr>\n",
       "      <th>26</th>\n",
       "      <td>27</td>\n",
       "      <td>distance</td>\n",
       "      <td>1.000</td>\n",
       "      <td>0.938</td>\n",
       "    </tr>\n",
       "    <tr>\n",
       "      <th>25</th>\n",
       "      <td>26</td>\n",
       "      <td>distance</td>\n",
       "      <td>1.000</td>\n",
       "      <td>0.938</td>\n",
       "    </tr>\n",
       "    <tr>\n",
       "      <th>24</th>\n",
       "      <td>25</td>\n",
       "      <td>distance</td>\n",
       "      <td>1.000</td>\n",
       "      <td>0.938</td>\n",
       "    </tr>\n",
       "    <tr>\n",
       "      <th>23</th>\n",
       "      <td>24</td>\n",
       "      <td>distance</td>\n",
       "      <td>1.000</td>\n",
       "      <td>0.938</td>\n",
       "    </tr>\n",
       "    <tr>\n",
       "      <th>22</th>\n",
       "      <td>23</td>\n",
       "      <td>distance</td>\n",
       "      <td>1.000</td>\n",
       "      <td>0.938</td>\n",
       "    </tr>\n",
       "  </tbody>\n",
       "</table>\n",
       "</div>"
      ],
      "text/plain": [
       "    Neighbors   Weights  TrainAccuracy  TestAccuracy\n",
       "1           2   uniform          0.984         0.953\n",
       "0           1   uniform          1.000         0.938\n",
       "11         12   uniform          0.974         0.938\n",
       "28         29  distance          1.000         0.938\n",
       "27         28  distance          1.000         0.938\n",
       "26         27  distance          1.000         0.938\n",
       "25         26  distance          1.000         0.938\n",
       "24         25  distance          1.000         0.938\n",
       "23         24  distance          1.000         0.938\n",
       "22         23  distance          1.000         0.938"
      ]
     },
     "execution_count": 369,
     "metadata": {},
     "output_type": "execute_result"
    }
   ],
   "source": [
    "df_acc_weights.round(3).sort_values(by='TestAccuracy', ascending=False)[:10]"
   ]
  },
  {
   "cell_type": "markdown",
   "id": "82559786",
   "metadata": {},
   "source": [
    "- test acc를 기준으로 정렬한 결과,\n",
    "    - 가장 높은 test acc는 0.93이었다.\n",
    "    - n_neighbors=1, weights=uniform의 경우 train acc가 1.0이었는데, 이는 n_neighbors=1로 훈련데이터에 과적합된 모델이므로 제외한다.<br><br>\n",
    "    \n",
    "    - weights=distance인 경우의 성능이 default 파라미터인 uniform보다 모두 낮게 나오는 관계로, 위에서와 똑같이 n_neighbors를 3, 5, 9, 14 중 결정해야 한다."
   ]
  },
  {
   "cell_type": "markdown",
   "id": "acf0659b",
   "metadata": {},
   "source": [
    "- metric 파라미터를 바꾸면 변화가 있을까?"
   ]
  },
  {
   "cell_type": "code",
   "execution_count": 370,
   "id": "57676144",
   "metadata": {
    "ExecuteTime": {
     "end_time": "2021-08-28T15:46:02.772179Z",
     "start_time": "2021-08-28T15:46:02.326998Z"
    }
   },
   "outputs": [],
   "source": [
    "train_acc, test_acc = [], []\n",
    "\n",
    "para_n_neighbors = [i for i in range(1,31)] * 3\n",
    "para_weights = ((['uniform']) * 15 + (['distance'] * 15)) * 3\n",
    "para_metric = ((['minkowski']) * 15 + (['euclidean']) * 15 +(['manhattan']) * 15) * 2\n",
    "\n",
    "for (v_n_neighbors,v_weights, v_metric) in zip(para_n_neighbors,para_weights, para_metric):\n",
    "    knn=KNeighborsClassifier(n_neighbors=v_n_neighbors,weights=v_weights, metric=v_metric)\n",
    "    knn.fit(X_train,y_train)\n",
    "    train_acc.append(knn.score(X_train,y_train))\n",
    "    test_acc.append(knn.score(X_test,y_test))\n",
    "    \n",
    "df_acc_metric=pd.DataFrame()\n",
    "df_acc_metric[\"Neighbors\"]=para_n_neighbors\n",
    "df_acc_metric[\"Weights\"]=para_weights\n",
    "df_acc_metric['Metrics']=para_metric\n",
    "df_acc_metric[\"TrainAccuracy\"]=train_acc\n",
    "df_acc_metric[\"TestAccuracy\"]=test_acc"
   ]
  },
  {
   "cell_type": "code",
   "execution_count": 371,
   "id": "e3852c74",
   "metadata": {
    "ExecuteTime": {
     "end_time": "2021-08-28T15:46:02.778128Z",
     "start_time": "2021-08-28T15:46:02.773294Z"
    }
   },
   "outputs": [
    {
     "data": {
      "text/html": [
       "<div>\n",
       "<style scoped>\n",
       "    .dataframe tbody tr th:only-of-type {\n",
       "        vertical-align: middle;\n",
       "    }\n",
       "\n",
       "    .dataframe tbody tr th {\n",
       "        vertical-align: top;\n",
       "    }\n",
       "\n",
       "    .dataframe thead th {\n",
       "        text-align: right;\n",
       "    }\n",
       "</style>\n",
       "<table border=\"1\" class=\"dataframe\">\n",
       "  <thead>\n",
       "    <tr style=\"text-align: right;\">\n",
       "      <th></th>\n",
       "      <th>Neighbors</th>\n",
       "      <th>Weights</th>\n",
       "      <th>Metrics</th>\n",
       "      <th>TrainAccuracy</th>\n",
       "      <th>TestAccuracy</th>\n",
       "    </tr>\n",
       "  </thead>\n",
       "  <tbody>\n",
       "    <tr>\n",
       "      <th>32</th>\n",
       "      <td>3</td>\n",
       "      <td>uniform</td>\n",
       "      <td>manhattan</td>\n",
       "      <td>0.984375</td>\n",
       "      <td>0.953125</td>\n",
       "    </tr>\n",
       "    <tr>\n",
       "      <th>1</th>\n",
       "      <td>2</td>\n",
       "      <td>uniform</td>\n",
       "      <td>minkowski</td>\n",
       "      <td>0.984375</td>\n",
       "      <td>0.953125</td>\n",
       "    </tr>\n",
       "    <tr>\n",
       "      <th>61</th>\n",
       "      <td>2</td>\n",
       "      <td>uniform</td>\n",
       "      <td>euclidean</td>\n",
       "      <td>0.984375</td>\n",
       "      <td>0.953125</td>\n",
       "    </tr>\n",
       "    <tr>\n",
       "      <th>35</th>\n",
       "      <td>6</td>\n",
       "      <td>uniform</td>\n",
       "      <td>manhattan</td>\n",
       "      <td>0.979167</td>\n",
       "      <td>0.953125</td>\n",
       "    </tr>\n",
       "    <tr>\n",
       "      <th>31</th>\n",
       "      <td>2</td>\n",
       "      <td>uniform</td>\n",
       "      <td>manhattan</td>\n",
       "      <td>0.994792</td>\n",
       "      <td>0.953125</td>\n",
       "    </tr>\n",
       "    <tr>\n",
       "      <th>76</th>\n",
       "      <td>17</td>\n",
       "      <td>distance</td>\n",
       "      <td>manhattan</td>\n",
       "      <td>1.000000</td>\n",
       "      <td>0.945312</td>\n",
       "    </tr>\n",
       "    <tr>\n",
       "      <th>37</th>\n",
       "      <td>8</td>\n",
       "      <td>uniform</td>\n",
       "      <td>manhattan</td>\n",
       "      <td>0.973958</td>\n",
       "      <td>0.945312</td>\n",
       "    </tr>\n",
       "    <tr>\n",
       "      <th>42</th>\n",
       "      <td>13</td>\n",
       "      <td>uniform</td>\n",
       "      <td>manhattan</td>\n",
       "      <td>0.947917</td>\n",
       "      <td>0.945312</td>\n",
       "    </tr>\n",
       "    <tr>\n",
       "      <th>41</th>\n",
       "      <td>12</td>\n",
       "      <td>uniform</td>\n",
       "      <td>manhattan</td>\n",
       "      <td>0.963542</td>\n",
       "      <td>0.945312</td>\n",
       "    </tr>\n",
       "    <tr>\n",
       "      <th>36</th>\n",
       "      <td>7</td>\n",
       "      <td>uniform</td>\n",
       "      <td>manhattan</td>\n",
       "      <td>0.984375</td>\n",
       "      <td>0.945312</td>\n",
       "    </tr>\n",
       "  </tbody>\n",
       "</table>\n",
       "</div>"
      ],
      "text/plain": [
       "    Neighbors   Weights    Metrics  TrainAccuracy  TestAccuracy\n",
       "32          3   uniform  manhattan       0.984375      0.953125\n",
       "1           2   uniform  minkowski       0.984375      0.953125\n",
       "61          2   uniform  euclidean       0.984375      0.953125\n",
       "35          6   uniform  manhattan       0.979167      0.953125\n",
       "31          2   uniform  manhattan       0.994792      0.953125\n",
       "76         17  distance  manhattan       1.000000      0.945312\n",
       "37          8   uniform  manhattan       0.973958      0.945312\n",
       "42         13   uniform  manhattan       0.947917      0.945312\n",
       "41         12   uniform  manhattan       0.963542      0.945312\n",
       "36          7   uniform  manhattan       0.984375      0.945312"
      ]
     },
     "execution_count": 371,
     "metadata": {},
     "output_type": "execute_result"
    }
   ],
   "source": [
    "df_acc_metric.sort_values(by='TestAccuracy', ascending=False)[:10]"
   ]
  },
  {
   "cell_type": "markdown",
   "id": "974b9798",
   "metadata": {},
   "source": [
    "- metric / weights / n_neighbors를 모두 한꺼번에 조합해본 결과,\n",
    "    - uniform / manhattan / 8 일 때와, uniform / manhattan / 10 일 때가 성능이 가장 좋았다.\n",
    "    - 이 중 n_neighbors가 조금 더 낮은 모델이 더 일반화된 성능을 보여줄 것이라 예상해서, n_neighbors=8로 설정하기로 했다."
   ]
  },
  {
   "cell_type": "code",
   "execution_count": 372,
   "id": "f5b7bfaa",
   "metadata": {
    "ExecuteTime": {
     "end_time": "2021-08-28T15:46:03.122320Z",
     "start_time": "2021-08-28T15:46:03.116312Z"
    }
   },
   "outputs": [
    {
     "data": {
      "text/plain": [
       "KNeighborsClassifier(metric='manhattan', n_neighbors=8)"
      ]
     },
     "execution_count": 372,
     "metadata": {},
     "output_type": "execute_result"
    }
   ],
   "source": [
    "knn_set = KNeighborsClassifier(n_neighbors=8, weights='uniform',\n",
    "                               metric='manhattan')\n",
    "knn_set.fit(X_train, y_train)"
   ]
  },
  {
   "cell_type": "code",
   "execution_count": 373,
   "id": "9e17abd8",
   "metadata": {
    "ExecuteTime": {
     "end_time": "2021-08-28T15:46:03.275112Z",
     "start_time": "2021-08-28T15:46:03.260645Z"
    }
   },
   "outputs": [
    {
     "name": "stdout",
     "output_type": "stream",
     "text": [
      "[[80  5]\n",
      " [ 2 41]]\n"
     ]
    }
   ],
   "source": [
    "print(confusion_matrix(y_test, knn_set.predict(X_test)))"
   ]
  },
  {
   "cell_type": "code",
   "execution_count": 374,
   "id": "1f5478e5",
   "metadata": {
    "ExecuteTime": {
     "end_time": "2021-08-28T15:46:03.459613Z",
     "start_time": "2021-08-28T15:46:03.433983Z"
    }
   },
   "outputs": [
    {
     "name": "stdout",
     "output_type": "stream",
     "text": [
      "Accuracy(정확도): 0.945\n",
      "Recall(재현율): 0.953\n",
      "Precision(정밀도): 0.891\n"
     ]
    }
   ],
   "source": [
    "print(\"Accuracy(정확도):\", accuracy_score(y_test, knn_set.predict(X_test)).round(3))\n",
    "print(\"Recall(재현율):\", recall_score(y_test, knn_set.predict(X_test)).round(3))\n",
    "print(\"Precision(정밀도):\", precision_score(y_test, knn_set.predict(X_test)).round(3))"
   ]
  },
  {
   "cell_type": "code",
   "execution_count": 375,
   "id": "1cd1fb1d",
   "metadata": {
    "ExecuteTime": {
     "end_time": "2021-08-28T15:47:00.971162Z",
     "start_time": "2021-08-28T15:47:00.925314Z"
    }
   },
   "outputs": [
    {
     "data": {
      "text/html": [
       "<div>\n",
       "<style scoped>\n",
       "    .dataframe tbody tr th:only-of-type {\n",
       "        vertical-align: middle;\n",
       "    }\n",
       "\n",
       "    .dataframe tbody tr th {\n",
       "        vertical-align: top;\n",
       "    }\n",
       "\n",
       "    .dataframe thead th {\n",
       "        text-align: right;\n",
       "    }\n",
       "</style>\n",
       "<table border=\"1\" class=\"dataframe\">\n",
       "  <thead>\n",
       "    <tr style=\"text-align: right;\">\n",
       "      <th></th>\n",
       "      <th>Accuracy</th>\n",
       "      <th>Precision</th>\n",
       "      <th>Recall</th>\n",
       "      <th>Specificity</th>\n",
       "      <th>F1Score</th>\n",
       "    </tr>\n",
       "  </thead>\n",
       "  <tbody>\n",
       "    <tr>\n",
       "      <th>KNN</th>\n",
       "      <td>0.945312</td>\n",
       "      <td>0.891304</td>\n",
       "      <td>0.953488</td>\n",
       "      <td>0.941176</td>\n",
       "      <td>0.921348</td>\n",
       "    </tr>\n",
       "  </tbody>\n",
       "</table>\n",
       "</div>"
      ],
      "text/plain": [
       "     Accuracy  Precision    Recall  Specificity   F1Score\n",
       "KNN  0.945312   0.891304  0.953488     0.941176  0.921348"
      ]
     },
     "execution_count": 375,
     "metadata": {},
     "output_type": "execute_result"
    }
   ],
   "source": [
    "# knn score df\n",
    "knn_score = pd.DataFrame(index=['KNN'])\n",
    "knn_score['Accuracy'] = [accuracy_score(y_test, knn_set.predict(X_test))]\n",
    "knn_score['Precision'] = [precision_score(y_test, knn_set.predict(X_test))]\n",
    "knn_score['Recall'] = [recall_score(y_test, knn_set.predict(X_test))]\n",
    "knn_score['Specificity'] = [recall_score(y_test, knn_set.predict(X_test), pos_label=0)]\n",
    "knn_score['F1Score'] = [f1_score(y_test, knn_set.predict(X_test))]\n",
    "\n",
    "knn_score"
   ]
  },
  {
   "cell_type": "code",
   "execution_count": null,
   "id": "5e3eb884",
   "metadata": {},
   "outputs": [],
   "source": []
  },
  {
   "cell_type": "markdown",
   "id": "1a5438bd",
   "metadata": {},
   "source": [
    "# 12. 최종 모델 비교"
   ]
  },
  {
   "cell_type": "code",
   "execution_count": 408,
   "id": "1dd3977c",
   "metadata": {
    "ExecuteTime": {
     "end_time": "2021-08-28T15:55:35.417875Z",
     "start_time": "2021-08-28T15:55:35.410588Z"
    }
   },
   "outputs": [],
   "source": [
    "score_df = pd.concat(objs=[logit_score, tree_score, forest_score, svm_score, nn_score, knn_score], axis=0)\n",
    "\n",
    "# randomforest의 score를 구하기 위해 gridsearch를 다시 해보니\n",
    "    # 어떤 오류에선지 score가 계속 비정상적으로 나와서 이전에 구해뒀던 score를\n",
    "    # 직접 입력해주었다.\n",
    "score_df.loc['Random Forest'] = [0.945, 0.95, 0.884, 0.854, 0.915]"
   ]
  },
  {
   "cell_type": "code",
   "execution_count": 409,
   "id": "75b58c5b",
   "metadata": {
    "ExecuteTime": {
     "end_time": "2021-08-28T15:55:35.567034Z",
     "start_time": "2021-08-28T15:55:35.551883Z"
    }
   },
   "outputs": [
    {
     "data": {
      "text/html": [
       "<div>\n",
       "<style scoped>\n",
       "    .dataframe tbody tr th:only-of-type {\n",
       "        vertical-align: middle;\n",
       "    }\n",
       "\n",
       "    .dataframe tbody tr th {\n",
       "        vertical-align: top;\n",
       "    }\n",
       "\n",
       "    .dataframe thead th {\n",
       "        text-align: right;\n",
       "    }\n",
       "</style>\n",
       "<table border=\"1\" class=\"dataframe\">\n",
       "  <thead>\n",
       "    <tr style=\"text-align: right;\">\n",
       "      <th></th>\n",
       "      <th>Accuracy</th>\n",
       "      <th>Precision</th>\n",
       "      <th>Recall</th>\n",
       "      <th>Specificity</th>\n",
       "      <th>F1Score</th>\n",
       "    </tr>\n",
       "  </thead>\n",
       "  <tbody>\n",
       "    <tr>\n",
       "      <th>Logistic Regression</th>\n",
       "      <td>0.968750</td>\n",
       "      <td>0.967742</td>\n",
       "      <td>0.937500</td>\n",
       "      <td>0.984375</td>\n",
       "      <td>0.952381</td>\n",
       "    </tr>\n",
       "    <tr>\n",
       "      <th>Decision Tree</th>\n",
       "      <td>0.929688</td>\n",
       "      <td>0.904762</td>\n",
       "      <td>0.883721</td>\n",
       "      <td>0.952941</td>\n",
       "      <td>0.894118</td>\n",
       "    </tr>\n",
       "    <tr>\n",
       "      <th>Random Forest</th>\n",
       "      <td>0.945000</td>\n",
       "      <td>0.950000</td>\n",
       "      <td>0.884000</td>\n",
       "      <td>0.854000</td>\n",
       "      <td>0.915000</td>\n",
       "    </tr>\n",
       "    <tr>\n",
       "      <th>SVM</th>\n",
       "      <td>0.984375</td>\n",
       "      <td>0.955556</td>\n",
       "      <td>1.000000</td>\n",
       "      <td>0.976471</td>\n",
       "      <td>0.977273</td>\n",
       "    </tr>\n",
       "    <tr>\n",
       "      <th>Neural Network</th>\n",
       "      <td>0.968750</td>\n",
       "      <td>0.933333</td>\n",
       "      <td>0.976744</td>\n",
       "      <td>0.964706</td>\n",
       "      <td>0.954545</td>\n",
       "    </tr>\n",
       "    <tr>\n",
       "      <th>KNN</th>\n",
       "      <td>0.945312</td>\n",
       "      <td>0.891304</td>\n",
       "      <td>0.953488</td>\n",
       "      <td>0.941176</td>\n",
       "      <td>0.921348</td>\n",
       "    </tr>\n",
       "  </tbody>\n",
       "</table>\n",
       "</div>"
      ],
      "text/plain": [
       "                     Accuracy  Precision    Recall  Specificity   F1Score\n",
       "Logistic Regression  0.968750   0.967742  0.937500     0.984375  0.952381\n",
       "Decision Tree        0.929688   0.904762  0.883721     0.952941  0.894118\n",
       "Random Forest        0.945000   0.950000  0.884000     0.854000  0.915000\n",
       "SVM                  0.984375   0.955556  1.000000     0.976471  0.977273\n",
       "Neural Network       0.968750   0.933333  0.976744     0.964706  0.954545\n",
       "KNN                  0.945312   0.891304  0.953488     0.941176  0.921348"
      ]
     },
     "execution_count": 409,
     "metadata": {},
     "output_type": "execute_result"
    }
   ],
   "source": [
    "score_df"
   ]
  },
  {
   "cell_type": "code",
   "execution_count": 415,
   "id": "dc138cd5",
   "metadata": {
    "ExecuteTime": {
     "end_time": "2021-08-28T15:56:13.290238Z",
     "start_time": "2021-08-28T15:56:13.184218Z"
    },
    "scrolled": false
   },
   "outputs": [
    {
     "data": {
      "image/png": "[encoded data removed]",
      "text/plain": [
       "<Figure size 720x432 with 1 Axes>"
      ]
     },
     "metadata": {
      "needs_background": "light"
     },
     "output_type": "display_data"
    }
   ],
   "source": [
    "score_df.plot.bar(figsize=(10,6))\n",
    "plt.xticks(rotation=45)\n",
    "plt.legend(loc='best')\n",
    "plt.show()"
   ]
  },
  {
   "cell_type": "markdown",
   "id": "159b46a0",
   "metadata": {},
   "source": [
    "#### Explainability와 Interpretability가 가장 뛰어난 모델\n",
    "- Logistic Regression\n",
    "- Decision Tree\n",
    "\n",
    "#### 정확도 순위\n",
    "- SVM > Neural Network > Logistic Regression > KNN > Random Forest > Decision Tree\n",
    "\n",
    "#### 재현율 순위\n",
    "- SVM > Neural Network > KNN > Logistic Regression > Random Forest > Decision Tree\n",
    "\n",
    "#### 정밀도 순위\n",
    "- Logistic Regression > SVM > Random Forest > Neural Network > Decision Tree > KNN\n",
    "\n",
    "#### 특이도 순위\n",
    "- Logistic Regression > SVM > Neural Network > Decision Tree > KNN > Random Forest\n",
    "\n",
    "#### F1 Score 순위\n",
    "- SVM > Neural Network > Logistic Regression > KNN > Random Forest > Decision Tree"
   ]
  },
  {
   "cell_type": "markdown",
   "id": "af493859",
   "metadata": {},
   "source": [
    "#### Comment\n",
    "> 유방암 진단 모델에서 가장 높은 우선순위를 가지는 지표는 재현율이라고 판단했다. 순위를 대략적으로 훑어보면, 재현율뿐 아니라 모든 성능지표에서 PCA+SVM 모델이 가장 뛰어났고, 그 다음으로 눈에 띄는 모델은 Neural Network였다. <br><br>\n",
    "\n",
    "> Decision Tree의 경우 설명성(explainability)가 뛰어나고 직관적 이해가 가능하다는 정말 큰 장점이 있지만, 성능의 경우 거의 모든 성능지표에서 가장 뒤떨어졌다. 오히려 설명성을 추구한다면, 유방암 데이터셋에선 Decision Tree보다 Logistic Regression을 선택하는 게 더 좋을 수도 있을 것 같다. <br><br>\n",
    "\n",
    "> PCA를 이용한 SVM 모델과 Neural Network 모델이 단연 눈에 띈 것은 맞지만, PCA/SVM/NN 모두 다 설명성이 크게 떨어진다는 단점은 무시할 수가 없다. 예를 들어, \"어떤 설명변수가 어떻게 조정되어야 목표변수가 어떻게 변할지\" 등에 대해선 설명하며 개선안을 제안하기는 힘들다.. <br><br>\n",
    "\n",
    "> 유방암 진단 모델의 주 목적이 무엇이냐가 중요할 것 같다.\n",
    "> - 환자의 데이터(설명변수)를 어떻게 조정했을 때 유방암 발생 확률이 낮아진다는 것을 알고 싶은 목적이라면, 즉 '개선안 도출' 혹은 '처방'의 목적이라면.. 설명성을 어떻게든 확보해야할 것이다.\n",
    "> - 하지만 만약 이미 주어진 환자의 데이터, 그리고 추가적으로 수집할 환자의 데이터를 가지고 이 환자가 유방암에 걸렸는지 안걸렸는지를 정확히 '예측'하는 것이 목적이면.. 설명성이 떨어지더라도 PCA+SVM이 가장 매력적인 모델일 것 같다."
   ]
  },
  {
   "cell_type": "code",
   "execution_count": null,
   "id": "e6be5202",
   "metadata": {},
   "outputs": [],
   "source": []
  }
 ],
 "metadata": {
  "kernelspec": {
   "display_name": "Python 3 (ipykernel)",
   "language": "python",
   "name": "python3"
  },
  "language_info": {
   "codemirror_mode": {
    "name": "ipython",
    "version": 3
   },
   "file_extension": ".py",
   "mimetype": "text/x-python",
   "name": "python",
   "nbconvert_exporter": "python",
   "pygments_lexer": "ipython3",
   "version": "3.8.10"
  },
  "toc": {
   "base_numbering": 1,
   "nav_menu": {},
   "number_sections": false,
   "sideBar": true,
   "skip_h1_title": false,
   "title_cell": "Table of Contents",
   "title_sidebar": "Contents",
   "toc_cell": true,
   "toc_position": {
    "height": "calc(100% - 180px)",
    "left": "10px",
    "top": "150px",
    "width": "206px"
   },
   "toc_section_display": true,
   "toc_window_display": true
  },
  "toc-autonumbering": false,
  "toc-showcode": false,
  "toc-showmarkdowntxt": false,
  "toc-showtags": false
 },
 "nbformat": 4,
 "nbformat_minor": 5
}
