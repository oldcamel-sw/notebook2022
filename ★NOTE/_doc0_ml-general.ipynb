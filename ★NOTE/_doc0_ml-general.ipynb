{
 "cells": [
  {
   "cell_type": "markdown",
   "id": "eba4e934",
   "metadata": {
    "toc": true
   },
   "source": [
    "<h1>Table of Contents<span class=\"tocSkip\"></span></h1>\n",
    "<div class=\"toc\"><ul class=\"toc-item\"><li><span><a href=\"#DOC-ML-GENERAL\" data-toc-modified-id=\"DOC-ML-GENERAL-1\">DOC ML-GENERAL</a></span></li><li><span><a href=\"#[Null-값-처리]\" data-toc-modified-id=\"[Null-값-처리]-2\"><font color=\"blue\">[Null 값 처리]</font></a></span></li><li><span><a href=\"#[Feature-Engineering]\" data-toc-modified-id=\"[Feature-Engineering]-3\"><font color=\"blue\">[Feature Engineering]</font></a></span></li><li><span><a href=\"#[Feature-Scaling---정규화-/-표준화]\" data-toc-modified-id=\"[Feature-Scaling---정규화-/-표준화]-4\"><font color=\"blue\">[Feature Scaling - 정규화 / 표준화]</font></a></span><ul class=\"toc-item\"><li><ul class=\"toc-item\"><li><ul class=\"toc-item\"><li><span><a href=\"#기법-비교\" data-toc-modified-id=\"기법-비교-4.0.0.1\">기법 비교</a></span></li></ul></li></ul></li></ul></li><li><span><a href=\"#[Feature-Labelling]\" data-toc-modified-id=\"[Feature-Labelling]-5\"><font color=\"blue\">[Feature Labelling]</font></a></span><ul class=\"toc-item\"><li><ul class=\"toc-item\"><li><span><a href=\"#Label-Encoder\" data-toc-modified-id=\"Label-Encoder-5.0.1\">Label Encoder</a></span></li><li><span><a href=\"#직접-mapping\" data-toc-modified-id=\"직접-mapping-5.0.2\">직접 mapping</a></span></li><li><span><a href=\"#One-Hot-Encoding\" data-toc-modified-id=\"One-Hot-Encoding-5.0.3\">One-Hot Encoding</a></span></li><li><span><a href=\"#String-처리\" data-toc-modified-id=\"String-처리-5.0.4\">String 처리</a></span></li><li><span><a href=\"#Numeric--&gt;-Category\" data-toc-modified-id=\"Numeric-->-Category-5.0.5\">Numeric -&gt; Category</a></span><ul class=\"toc-item\"><li><span><a href=\"#Preprocessing-Pipeline-예시\" data-toc-modified-id=\"Preprocessing-Pipeline-예시-5.0.5.1\">Preprocessing Pipeline 예시</a></span></li></ul></li></ul></li></ul></li><li><span><a href=\"#[Feature-Regularization]\" data-toc-modified-id=\"[Feature-Regularization]-6\"><font color=\"blue\">[Feature Regularization]</font></a></span><ul class=\"toc-item\"><li><ul class=\"toc-item\"><li><span><a href=\"#Regularization-(규제)\" data-toc-modified-id=\"Regularization-(규제)-6.0.1\">Regularization (규제)</a></span></li><li><span><a href=\"#Ridge\" data-toc-modified-id=\"Ridge-6.0.2\">Ridge</a></span></li><li><span><a href=\"#Lasso\" data-toc-modified-id=\"Lasso-6.0.3\">Lasso</a></span></li><li><span><a href=\"#ElasticNet\" data-toc-modified-id=\"ElasticNet-6.0.4\">ElasticNet</a></span></li></ul></li></ul></li><li><span><a href=\"#[Feature-Selection]\" data-toc-modified-id=\"[Feature-Selection]-7\"><font color=\"blue\">[Feature Selection]</font></a></span><ul class=\"toc-item\"><li><ul class=\"toc-item\"><li><span><a href=\"#순차-특성-선택-알고리즘\" data-toc-modified-id=\"순차-특성-선택-알고리즘-7.0.1\">순차 특성 선택 알고리즘</a></span></li><li><span><a href=\"#Best-AIC의-Feature-combo-찾기\" data-toc-modified-id=\"Best-AIC의-Feature-combo-찾기-7.0.2\">Best AIC의 Feature combo 찾기</a></span></li><li><span><a href=\"#(1)-Forward-Selection\" data-toc-modified-id=\"(1)-Forward-Selection-7.0.3\">(1) Forward Selection</a></span></li><li><span><a href=\"#(2)-Backward-Elimination\" data-toc-modified-id=\"(2)-Backward-Elimination-7.0.4\">(2) Backward Elimination</a></span></li><li><span><a href=\"#(3)-Stepwise-Method\" data-toc-modified-id=\"(3)-Stepwise-Method-7.0.5\">(3) Stepwise Method</a></span></li><li><span><a href=\"#VIF를-활용한-변수제거\" data-toc-modified-id=\"VIF를-활용한-변수제거-7.0.6\">VIF를 활용한 변수제거</a></span></li></ul></li></ul></li><li><span><a href=\"#[Feature-Extraction]\" data-toc-modified-id=\"[Feature-Extraction]-8\"><font color=\"blue\">[Feature Extraction]</font></a></span><ul class=\"toc-item\"><li><ul class=\"toc-item\"><li><span><a href=\"#Principal-Component-Analysis\" data-toc-modified-id=\"Principal-Component-Analysis-8.0.1\">Principal Component Analysis</a></span></li><li><span><a href=\"#직접-PCA\" data-toc-modified-id=\"직접-PCA-8.0.2\">직접 PCA</a></span></li><li><span><a href=\"#sklearn-으로-pca\" data-toc-modified-id=\"sklearn-으로-pca-8.0.3\">sklearn 으로 pca</a></span><ul class=\"toc-item\"><li><span><a href=\"#예시\" data-toc-modified-id=\"예시-8.0.3.1\">예시</a></span></li><li><span><a href=\"#sns로-훨씬-더-쉽게-plotting하기\" data-toc-modified-id=\"sns로-훨씬-더-쉽게-plotting하기-8.0.3.2\">sns로 훨씬 더 쉽게 plotting하기</a></span></li></ul></li><li><span><a href=\"#LDA-(Linear-Discriminant-Analysis)\" data-toc-modified-id=\"LDA-(Linear-Discriminant-Analysis)-8.0.4\">LDA (Linear Discriminant Analysis)</a></span></li><li><span><a href=\"#산포-행렬-계산\" data-toc-modified-id=\"산포-행렬-계산-8.0.5\">산포 행렬 계산</a></span></li><li><span><a href=\"#직접-LDA\" data-toc-modified-id=\"직접-LDA-8.0.6\">직접 LDA</a></span><ul class=\"toc-item\"><li><span><a href=\"#클래스-내-산포-행렬을-계산합니다:\" data-toc-modified-id=\"클래스-내-산포-행렬을-계산합니다:-8.0.6.1\">클래스 내 산포 행렬을 계산합니다:</a></span></li><li><span><a href=\"#클래스-내-산포-행렬(또는-공분산-행렬)을-계산한-후-다음-단계는-클래스-간-산포-행렬을-계산하는-것이다\" data-toc-modified-id=\"클래스-내-산포-행렬(또는-공분산-행렬)을-계산한-후-다음-단계는-클래스-간-산포-행렬을-계산하는-것이다-8.0.6.2\">클래스 내 산포 행렬(또는 공분산 행렬)을 계산한 후 다음 단계는 클래스 간 산포 행렬을 계산하는 것이다</a></span></li></ul></li><li><span><a href=\"#5.2.4-새로운-특성-부분-공간을-위해-선형-판별-벡터-선택\" data-toc-modified-id=\"5.2.4-새로운-특성-부분-공간을-위해-선형-판별-벡터-선택-8.0.7\">5.2.4 새로운 특성 부분 공간을 위해 선형 판별 벡터 선택</a></span></li><li><span><a href=\"#5.2.5-새로운-특성-공간으로-샘플-투영\" data-toc-modified-id=\"5.2.5-새로운-특성-공간으로-샘플-투영-8.0.8\">5.2.5 새로운 특성 공간으로 샘플 투영</a></span></li><li><span><a href=\"#sklearn의-LDA\" data-toc-modified-id=\"sklearn의-LDA-8.0.9\">sklearn의 LDA</a></span></li><li><span><a href=\"#Kernel-PCA\" data-toc-modified-id=\"Kernel-PCA-8.0.10\">Kernel PCA</a></span></li><li><span><a href=\"#5.3.1-커널-함수와-커널-트릭\" data-toc-modified-id=\"5.3.1-커널-함수와-커널-트릭-8.0.11\">5.3.1 커널 함수와 커널 트릭</a></span><ul class=\"toc-item\"><li><span><a href=\"#3.5.2의-커널-SVM에서-나왔던-거-다시-보면..\" data-toc-modified-id=\"3.5.2의-커널-SVM에서-나왔던-거-다시-보면..-8.0.11.1\">3.5.2의 커널 SVM에서 나왔던 거 다시 보면..</a></span></li><li><span><a href=\"#커널-PCA-설명\" data-toc-modified-id=\"커널-PCA-설명-8.0.11.2\">커널 PCA 설명</a></span></li><li><span><a href=\"#RBF-커널-PCA를-구현하기-위해-다음-3단계를-정의한다.\" data-toc-modified-id=\"RBF-커널-PCA를-구현하기-위해-다음-3단계를-정의한다.-8.0.11.3\">RBF 커널 PCA를 구현하기 위해 다음 3단계를 정의한다.</a></span></li></ul></li><li><span><a href=\"#5.3.2-파이썬으로-커널-PCA-구현\" data-toc-modified-id=\"5.3.2-파이썬으로-커널-PCA-구현-8.0.12\">5.3.2 파이썬으로 커널 PCA 구현</a></span></li></ul></li></ul></li><li><span><a href=\"#[Pipeline-구현]\" data-toc-modified-id=\"[Pipeline-구현]-9\"><font color=\"blue\">[Pipeline 구현]</font></a></span></li><li><span><a href=\"#[교차검증-Cross-Validation]\" data-toc-modified-id=\"[교차검증-Cross-Validation]-10\"><font color=\"blue\">[교차검증 Cross-Validation]</font></a></span><ul class=\"toc-item\"><li><ul class=\"toc-item\"><li><span><a href=\"#KFold\" data-toc-modified-id=\"KFold-10.0.1\">KFold</a></span></li><li><span><a href=\"#cross_val_score(-)\" data-toc-modified-id=\"cross_val_score(-)-10.0.2\">cross_val_score( )</a></span></li><li><span><a href=\"#학습-곡선과-검증-곡선\" data-toc-modified-id=\"학습-곡선과-검증-곡선-10.0.3\">학습 곡선과 검증 곡선</a></span></li><li><span><a href=\"#6.3.2-검증-곡선으로-과대적합과-과소적합-조사\" data-toc-modified-id=\"6.3.2-검증-곡선으로-과대적합과-과소적합-조사-10.0.4\">6.3.2 검증 곡선으로 과대적합과 과소적합 조사</a></span></li><li><span><a href=\"#GridSearchCV\" data-toc-modified-id=\"GridSearchCV-10.0.5\">GridSearchCV</a></span></li><li><span><a href=\"#Raschka\" data-toc-modified-id=\"Raschka-10.0.6\">Raschka</a></span></li><li><span><a href=\"#중첩-교차-검증\" data-toc-modified-id=\"중첩-교차-검증-10.0.7\">중첩 교차 검증</a></span></li><li><span><a href=\"#6.4.2-중첩-교차-검증을-사용한-알고리즘-선택\" data-toc-modified-id=\"6.4.2-중첩-교차-검증을-사용한-알고리즘-선택-10.0.8\">6.4.2 중첩 교차 검증을 사용한 알고리즘 선택</a></span></li></ul></li></ul></li><li><span><a href=\"#[Class-Imbalance]\" data-toc-modified-id=\"[Class-Imbalance]-11\"><font color=\"blue\">[Class Imbalance]</font></a></span><ul class=\"toc-item\"><li><ul class=\"toc-item\"><li><span><a href=\"#Resample\" data-toc-modified-id=\"Resample-11.0.1\">Resample</a></span></li><li><span><a href=\"#Undersampling,-Oversampling\" data-toc-modified-id=\"Undersampling,-Oversampling-11.0.2\">Undersampling, Oversampling</a></span></li><li><span><a href=\"#SMOTE\" data-toc-modified-id=\"SMOTE-11.0.3\">SMOTE</a></span></li></ul></li></ul></li></ul></div>"
   ]
  },
  {
   "cell_type": "markdown",
   "id": "aabcedb7",
   "metadata": {},
   "source": [
    "# DOC ML-GENERAL"
   ]
  },
  {
   "cell_type": "code",
   "execution_count": 1,
   "id": "cfcbdb2d",
   "metadata": {
    "ExecuteTime": {
     "end_time": "2022-02-10T07:18:40.610443Z",
     "start_time": "2022-02-10T07:18:34.874948Z"
    }
   },
   "outputs": [],
   "source": [
    "import numpy as np\n",
    "import pandas as pd\n",
    "import statsmodels.api as sm\n",
    "import seaborn as sns\n",
    "import matplotlib.pyplot as plt\n",
    "plt.rcParams['axes.unicode_minus'] = False\n",
    "plt.rc('font', family='AppleGothic')\n",
    "plt.style.use('fivethirtyeight')\n",
    "sns.set_context(\"notebook\", font_scale=1.5)\n",
    "%matplotlib inline\n",
    "\n",
    "from IPython.display import Image\n",
    "\n",
    "import warnings\n",
    "warnings.filterwarnings('ignore')\n",
    "\n",
    "from sklearn.datasets import load_iris\n",
    "from sklearn.tree import DecisionTreeClassifier\n",
    "from sklearn.metrics import accuracy_score\n",
    "from sklearn.model_selection import KFold\n",
    "from sklearn.model_selection import GridSearchCV, train_test_split\n",
    "from sklearn.model_selection import cross_val_score , cross_validate, StratifiedKFold\n",
    "from sklearn.preprocessing import LabelEncoder\n",
    "from sklearn.preprocessing import OneHotEncoder\n",
    "from sklearn.preprocessing import StandardScaler\n",
    "from sklearn.preprocessing import MinMaxScaler\n",
    "\n",
    "# custom\n",
    "from load_dfs import df_wine, df_boston, df_iris, df_titanic"
   ]
  },
  {
   "cell_type": "code",
   "execution_count": null,
   "id": "20fb0147",
   "metadata": {},
   "outputs": [],
   "source": []
  },
  {
   "cell_type": "code",
   "execution_count": null,
   "id": "1d5f81cd",
   "metadata": {},
   "outputs": [],
   "source": []
  },
  {
   "cell_type": "code",
   "execution_count": null,
   "id": "af7fb4bc",
   "metadata": {},
   "outputs": [],
   "source": []
  },
  {
   "cell_type": "code",
   "execution_count": null,
   "id": "a21e2278",
   "metadata": {},
   "outputs": [],
   "source": []
  },
  {
   "cell_type": "code",
   "execution_count": null,
   "id": "e7b58b47",
   "metadata": {},
   "outputs": [],
   "source": []
  },
  {
   "cell_type": "markdown",
   "id": "6807be78",
   "metadata": {},
   "source": [
    "# <font color='blue'>[Null 값 처리]</font>"
   ]
  },
  {
   "cell_type": "code",
   "execution_count": 2,
   "id": "e5af5c6b",
   "metadata": {
    "ExecuteTime": {
     "end_time": "2022-02-10T07:18:40.804663Z",
     "start_time": "2022-02-10T07:18:40.611626Z"
    },
    "collapsed": true
   },
   "outputs": [
    {
     "ename": "FileNotFoundError",
     "evalue": "[Errno 2] No such file or directory: '../../data/titanic/train.csv'",
     "output_type": "error",
     "traceback": [
      "\u001b[0;31m---------------------------------------------------------------------------\u001b[0m",
      "\u001b[0;31mFileNotFoundError\u001b[0m                         Traceback (most recent call last)",
      "\u001b[0;32m/var/folders/hh/14z5pty92_s51gdc2n406w6w0000gn/T/ipykernel_3142/347696753.py\u001b[0m in \u001b[0;36m<module>\u001b[0;34m\u001b[0m\n\u001b[1;32m      1\u001b[0m \u001b[0;31m# fillna\u001b[0m\u001b[0;34m\u001b[0m\u001b[0;34m\u001b[0m\u001b[0;34m\u001b[0m\u001b[0m\n\u001b[0;32m----> 2\u001b[0;31m \u001b[0mdata\u001b[0m \u001b[0;34m=\u001b[0m \u001b[0mpd\u001b[0m\u001b[0;34m.\u001b[0m\u001b[0mread_csv\u001b[0m\u001b[0;34m(\u001b[0m\u001b[0;34m'../../data/titanic/train.csv'\u001b[0m\u001b[0;34m)\u001b[0m\u001b[0;34m\u001b[0m\u001b[0;34m\u001b[0m\u001b[0m\n\u001b[0m\u001b[1;32m      3\u001b[0m \u001b[0mdata\u001b[0m\u001b[0;34m[\u001b[0m\u001b[0;34m'Age'\u001b[0m\u001b[0;34m]\u001b[0m\u001b[0;34m.\u001b[0m\u001b[0mfillna\u001b[0m\u001b[0;34m(\u001b[0m\u001b[0mdata\u001b[0m\u001b[0;34m[\u001b[0m\u001b[0;34m'Age'\u001b[0m\u001b[0;34m]\u001b[0m\u001b[0;34m.\u001b[0m\u001b[0mmean\u001b[0m\u001b[0;34m(\u001b[0m\u001b[0;34m)\u001b[0m\u001b[0;34m,\u001b[0m\u001b[0minplace\u001b[0m\u001b[0;34m=\u001b[0m\u001b[0;32mTrue\u001b[0m\u001b[0;34m)\u001b[0m\u001b[0;34m\u001b[0m\u001b[0;34m\u001b[0m\u001b[0m\n\u001b[1;32m      4\u001b[0m \u001b[0mdata\u001b[0m\u001b[0;34m[\u001b[0m\u001b[0;34m'Cabin'\u001b[0m\u001b[0;34m]\u001b[0m\u001b[0;34m.\u001b[0m\u001b[0mfillna\u001b[0m\u001b[0;34m(\u001b[0m\u001b[0;34m'N'\u001b[0m\u001b[0;34m,\u001b[0m\u001b[0minplace\u001b[0m\u001b[0;34m=\u001b[0m\u001b[0;32mTrue\u001b[0m\u001b[0;34m)\u001b[0m\u001b[0;34m\u001b[0m\u001b[0;34m\u001b[0m\u001b[0m\n\u001b[1;32m      5\u001b[0m \u001b[0mdata\u001b[0m\u001b[0;34m[\u001b[0m\u001b[0;34m'Embarked'\u001b[0m\u001b[0;34m]\u001b[0m\u001b[0;34m.\u001b[0m\u001b[0mfillna\u001b[0m\u001b[0;34m(\u001b[0m\u001b[0;34m'N'\u001b[0m\u001b[0;34m,\u001b[0m\u001b[0minplace\u001b[0m\u001b[0;34m=\u001b[0m\u001b[0;32mTrue\u001b[0m\u001b[0;34m)\u001b[0m\u001b[0;34m\u001b[0m\u001b[0;34m\u001b[0m\u001b[0m\n",
      "\u001b[0;32m~/.pyenv/versions/3.8.8/envs/tensor/lib/python3.8/site-packages/pandas/util/_decorators.py\u001b[0m in \u001b[0;36mwrapper\u001b[0;34m(*args, **kwargs)\u001b[0m\n\u001b[1;32m    309\u001b[0m                     \u001b[0mstacklevel\u001b[0m\u001b[0;34m=\u001b[0m\u001b[0mstacklevel\u001b[0m\u001b[0;34m,\u001b[0m\u001b[0;34m\u001b[0m\u001b[0;34m\u001b[0m\u001b[0m\n\u001b[1;32m    310\u001b[0m                 )\n\u001b[0;32m--> 311\u001b[0;31m             \u001b[0;32mreturn\u001b[0m \u001b[0mfunc\u001b[0m\u001b[0;34m(\u001b[0m\u001b[0;34m*\u001b[0m\u001b[0margs\u001b[0m\u001b[0;34m,\u001b[0m \u001b[0;34m**\u001b[0m\u001b[0mkwargs\u001b[0m\u001b[0;34m)\u001b[0m\u001b[0;34m\u001b[0m\u001b[0;34m\u001b[0m\u001b[0m\n\u001b[0m\u001b[1;32m    312\u001b[0m \u001b[0;34m\u001b[0m\u001b[0m\n\u001b[1;32m    313\u001b[0m         \u001b[0;32mreturn\u001b[0m \u001b[0mwrapper\u001b[0m\u001b[0;34m\u001b[0m\u001b[0;34m\u001b[0m\u001b[0m\n",
      "\u001b[0;32m~/.pyenv/versions/3.8.8/envs/tensor/lib/python3.8/site-packages/pandas/io/parsers/readers.py\u001b[0m in \u001b[0;36mread_csv\u001b[0;34m(filepath_or_buffer, sep, delimiter, header, names, index_col, usecols, squeeze, prefix, mangle_dupe_cols, dtype, engine, converters, true_values, false_values, skipinitialspace, skiprows, skipfooter, nrows, na_values, keep_default_na, na_filter, verbose, skip_blank_lines, parse_dates, infer_datetime_format, keep_date_col, date_parser, dayfirst, cache_dates, iterator, chunksize, compression, thousands, decimal, lineterminator, quotechar, quoting, doublequote, escapechar, comment, encoding, encoding_errors, dialect, error_bad_lines, warn_bad_lines, on_bad_lines, delim_whitespace, low_memory, memory_map, float_precision, storage_options)\u001b[0m\n\u001b[1;32m    584\u001b[0m     \u001b[0mkwds\u001b[0m\u001b[0;34m.\u001b[0m\u001b[0mupdate\u001b[0m\u001b[0;34m(\u001b[0m\u001b[0mkwds_defaults\u001b[0m\u001b[0;34m)\u001b[0m\u001b[0;34m\u001b[0m\u001b[0;34m\u001b[0m\u001b[0m\n\u001b[1;32m    585\u001b[0m \u001b[0;34m\u001b[0m\u001b[0m\n\u001b[0;32m--> 586\u001b[0;31m     \u001b[0;32mreturn\u001b[0m \u001b[0m_read\u001b[0m\u001b[0;34m(\u001b[0m\u001b[0mfilepath_or_buffer\u001b[0m\u001b[0;34m,\u001b[0m \u001b[0mkwds\u001b[0m\u001b[0;34m)\u001b[0m\u001b[0;34m\u001b[0m\u001b[0;34m\u001b[0m\u001b[0m\n\u001b[0m\u001b[1;32m    587\u001b[0m \u001b[0;34m\u001b[0m\u001b[0m\n\u001b[1;32m    588\u001b[0m \u001b[0;34m\u001b[0m\u001b[0m\n",
      "\u001b[0;32m~/.pyenv/versions/3.8.8/envs/tensor/lib/python3.8/site-packages/pandas/io/parsers/readers.py\u001b[0m in \u001b[0;36m_read\u001b[0;34m(filepath_or_buffer, kwds)\u001b[0m\n\u001b[1;32m    480\u001b[0m \u001b[0;34m\u001b[0m\u001b[0m\n\u001b[1;32m    481\u001b[0m     \u001b[0;31m# Create the parser.\u001b[0m\u001b[0;34m\u001b[0m\u001b[0;34m\u001b[0m\u001b[0;34m\u001b[0m\u001b[0m\n\u001b[0;32m--> 482\u001b[0;31m     \u001b[0mparser\u001b[0m \u001b[0;34m=\u001b[0m \u001b[0mTextFileReader\u001b[0m\u001b[0;34m(\u001b[0m\u001b[0mfilepath_or_buffer\u001b[0m\u001b[0;34m,\u001b[0m \u001b[0;34m**\u001b[0m\u001b[0mkwds\u001b[0m\u001b[0;34m)\u001b[0m\u001b[0;34m\u001b[0m\u001b[0;34m\u001b[0m\u001b[0m\n\u001b[0m\u001b[1;32m    483\u001b[0m \u001b[0;34m\u001b[0m\u001b[0m\n\u001b[1;32m    484\u001b[0m     \u001b[0;32mif\u001b[0m \u001b[0mchunksize\u001b[0m \u001b[0;32mor\u001b[0m \u001b[0miterator\u001b[0m\u001b[0;34m:\u001b[0m\u001b[0;34m\u001b[0m\u001b[0;34m\u001b[0m\u001b[0m\n",
      "\u001b[0;32m~/.pyenv/versions/3.8.8/envs/tensor/lib/python3.8/site-packages/pandas/io/parsers/readers.py\u001b[0m in \u001b[0;36m__init__\u001b[0;34m(self, f, engine, **kwds)\u001b[0m\n\u001b[1;32m    809\u001b[0m             \u001b[0mself\u001b[0m\u001b[0;34m.\u001b[0m\u001b[0moptions\u001b[0m\u001b[0;34m[\u001b[0m\u001b[0;34m\"has_index_names\"\u001b[0m\u001b[0;34m]\u001b[0m \u001b[0;34m=\u001b[0m \u001b[0mkwds\u001b[0m\u001b[0;34m[\u001b[0m\u001b[0;34m\"has_index_names\"\u001b[0m\u001b[0;34m]\u001b[0m\u001b[0;34m\u001b[0m\u001b[0;34m\u001b[0m\u001b[0m\n\u001b[1;32m    810\u001b[0m \u001b[0;34m\u001b[0m\u001b[0m\n\u001b[0;32m--> 811\u001b[0;31m         \u001b[0mself\u001b[0m\u001b[0;34m.\u001b[0m\u001b[0m_engine\u001b[0m \u001b[0;34m=\u001b[0m \u001b[0mself\u001b[0m\u001b[0;34m.\u001b[0m\u001b[0m_make_engine\u001b[0m\u001b[0;34m(\u001b[0m\u001b[0mself\u001b[0m\u001b[0;34m.\u001b[0m\u001b[0mengine\u001b[0m\u001b[0;34m)\u001b[0m\u001b[0;34m\u001b[0m\u001b[0;34m\u001b[0m\u001b[0m\n\u001b[0m\u001b[1;32m    812\u001b[0m \u001b[0;34m\u001b[0m\u001b[0m\n\u001b[1;32m    813\u001b[0m     \u001b[0;32mdef\u001b[0m \u001b[0mclose\u001b[0m\u001b[0;34m(\u001b[0m\u001b[0mself\u001b[0m\u001b[0;34m)\u001b[0m\u001b[0;34m:\u001b[0m\u001b[0;34m\u001b[0m\u001b[0;34m\u001b[0m\u001b[0m\n",
      "\u001b[0;32m~/.pyenv/versions/3.8.8/envs/tensor/lib/python3.8/site-packages/pandas/io/parsers/readers.py\u001b[0m in \u001b[0;36m_make_engine\u001b[0;34m(self, engine)\u001b[0m\n\u001b[1;32m   1038\u001b[0m             )\n\u001b[1;32m   1039\u001b[0m         \u001b[0;31m# error: Too many arguments for \"ParserBase\"\u001b[0m\u001b[0;34m\u001b[0m\u001b[0;34m\u001b[0m\u001b[0;34m\u001b[0m\u001b[0m\n\u001b[0;32m-> 1040\u001b[0;31m         \u001b[0;32mreturn\u001b[0m \u001b[0mmapping\u001b[0m\u001b[0;34m[\u001b[0m\u001b[0mengine\u001b[0m\u001b[0;34m]\u001b[0m\u001b[0;34m(\u001b[0m\u001b[0mself\u001b[0m\u001b[0;34m.\u001b[0m\u001b[0mf\u001b[0m\u001b[0;34m,\u001b[0m \u001b[0;34m**\u001b[0m\u001b[0mself\u001b[0m\u001b[0;34m.\u001b[0m\u001b[0moptions\u001b[0m\u001b[0;34m)\u001b[0m  \u001b[0;31m# type: ignore[call-arg]\u001b[0m\u001b[0;34m\u001b[0m\u001b[0;34m\u001b[0m\u001b[0m\n\u001b[0m\u001b[1;32m   1041\u001b[0m \u001b[0;34m\u001b[0m\u001b[0m\n\u001b[1;32m   1042\u001b[0m     \u001b[0;32mdef\u001b[0m \u001b[0m_failover_to_python\u001b[0m\u001b[0;34m(\u001b[0m\u001b[0mself\u001b[0m\u001b[0;34m)\u001b[0m\u001b[0;34m:\u001b[0m\u001b[0;34m\u001b[0m\u001b[0;34m\u001b[0m\u001b[0m\n",
      "\u001b[0;32m~/.pyenv/versions/3.8.8/envs/tensor/lib/python3.8/site-packages/pandas/io/parsers/c_parser_wrapper.py\u001b[0m in \u001b[0;36m__init__\u001b[0;34m(self, src, **kwds)\u001b[0m\n\u001b[1;32m     49\u001b[0m \u001b[0;34m\u001b[0m\u001b[0m\n\u001b[1;32m     50\u001b[0m         \u001b[0;31m# open handles\u001b[0m\u001b[0;34m\u001b[0m\u001b[0;34m\u001b[0m\u001b[0;34m\u001b[0m\u001b[0m\n\u001b[0;32m---> 51\u001b[0;31m         \u001b[0mself\u001b[0m\u001b[0;34m.\u001b[0m\u001b[0m_open_handles\u001b[0m\u001b[0;34m(\u001b[0m\u001b[0msrc\u001b[0m\u001b[0;34m,\u001b[0m \u001b[0mkwds\u001b[0m\u001b[0;34m)\u001b[0m\u001b[0;34m\u001b[0m\u001b[0;34m\u001b[0m\u001b[0m\n\u001b[0m\u001b[1;32m     52\u001b[0m         \u001b[0;32massert\u001b[0m \u001b[0mself\u001b[0m\u001b[0;34m.\u001b[0m\u001b[0mhandles\u001b[0m \u001b[0;32mis\u001b[0m \u001b[0;32mnot\u001b[0m \u001b[0;32mNone\u001b[0m\u001b[0;34m\u001b[0m\u001b[0;34m\u001b[0m\u001b[0m\n\u001b[1;32m     53\u001b[0m \u001b[0;34m\u001b[0m\u001b[0m\n",
      "\u001b[0;32m~/.pyenv/versions/3.8.8/envs/tensor/lib/python3.8/site-packages/pandas/io/parsers/base_parser.py\u001b[0m in \u001b[0;36m_open_handles\u001b[0;34m(self, src, kwds)\u001b[0m\n\u001b[1;32m    220\u001b[0m         \u001b[0mLet\u001b[0m \u001b[0mthe\u001b[0m \u001b[0mreaders\u001b[0m \u001b[0mopen\u001b[0m \u001b[0mIOHandles\u001b[0m \u001b[0mafter\u001b[0m \u001b[0mthey\u001b[0m \u001b[0mare\u001b[0m \u001b[0mdone\u001b[0m \u001b[0;32mwith\u001b[0m \u001b[0mtheir\u001b[0m \u001b[0mpotential\u001b[0m \u001b[0mraises\u001b[0m\u001b[0;34m.\u001b[0m\u001b[0;34m\u001b[0m\u001b[0;34m\u001b[0m\u001b[0m\n\u001b[1;32m    221\u001b[0m         \"\"\"\n\u001b[0;32m--> 222\u001b[0;31m         self.handles = get_handle(\n\u001b[0m\u001b[1;32m    223\u001b[0m             \u001b[0msrc\u001b[0m\u001b[0;34m,\u001b[0m\u001b[0;34m\u001b[0m\u001b[0;34m\u001b[0m\u001b[0m\n\u001b[1;32m    224\u001b[0m             \u001b[0;34m\"r\"\u001b[0m\u001b[0;34m,\u001b[0m\u001b[0;34m\u001b[0m\u001b[0;34m\u001b[0m\u001b[0m\n",
      "\u001b[0;32m~/.pyenv/versions/3.8.8/envs/tensor/lib/python3.8/site-packages/pandas/io/common.py\u001b[0m in \u001b[0;36mget_handle\u001b[0;34m(path_or_buf, mode, encoding, compression, memory_map, is_text, errors, storage_options)\u001b[0m\n\u001b[1;32m    700\u001b[0m         \u001b[0;32mif\u001b[0m \u001b[0mioargs\u001b[0m\u001b[0;34m.\u001b[0m\u001b[0mencoding\u001b[0m \u001b[0;32mand\u001b[0m \u001b[0;34m\"b\"\u001b[0m \u001b[0;32mnot\u001b[0m \u001b[0;32min\u001b[0m \u001b[0mioargs\u001b[0m\u001b[0;34m.\u001b[0m\u001b[0mmode\u001b[0m\u001b[0;34m:\u001b[0m\u001b[0;34m\u001b[0m\u001b[0;34m\u001b[0m\u001b[0m\n\u001b[1;32m    701\u001b[0m             \u001b[0;31m# Encoding\u001b[0m\u001b[0;34m\u001b[0m\u001b[0;34m\u001b[0m\u001b[0;34m\u001b[0m\u001b[0m\n\u001b[0;32m--> 702\u001b[0;31m             handle = open(\n\u001b[0m\u001b[1;32m    703\u001b[0m                 \u001b[0mhandle\u001b[0m\u001b[0;34m,\u001b[0m\u001b[0;34m\u001b[0m\u001b[0;34m\u001b[0m\u001b[0m\n\u001b[1;32m    704\u001b[0m                 \u001b[0mioargs\u001b[0m\u001b[0;34m.\u001b[0m\u001b[0mmode\u001b[0m\u001b[0;34m,\u001b[0m\u001b[0;34m\u001b[0m\u001b[0;34m\u001b[0m\u001b[0m\n",
      "\u001b[0;31mFileNotFoundError\u001b[0m: [Errno 2] No such file or directory: '../../data/titanic/train.csv'"
     ]
    }
   ],
   "source": [
    "# fillna\n",
    "data = pd.read_csv('../../data/titanic/train.csv')\n",
    "data['Age'].fillna(data['Age'].mean(),inplace=True)\n",
    "data['Cabin'].fillna('N',inplace=True)\n",
    "data['Embarked'].fillna('N',inplace=True)\n",
    "\n",
    "print('전체 데이터 세트 Null 값 갯수 ',data.isnull().sum().sum())"
   ]
  },
  {
   "cell_type": "code",
   "execution_count": 5,
   "id": "21aa76a3",
   "metadata": {
    "scrolled": false
   },
   "outputs": [],
   "source": [
    "# SimpleImputer 사용\n",
    "from sklearn.impute import SimpleImputer\n",
    "data = pd.read_csv('../../data/titanic/train.csv')\n",
    "\n",
    "imr = SimpleImputer(missing_values=np.nan, strategy='mean')\n",
    "imputed_data = imr.fit_transform(data[['Age', 'Fare']].values)"
   ]
  },
  {
   "cell_type": "code",
   "execution_count": 6,
   "id": "ff3b61cd",
   "metadata": {},
   "outputs": [],
   "source": [
    "# axis=1 방향으로 대체하려면 FunctionTransformer 사용해야됌\n",
    "from sklearn.preprocessing import FunctionTransformer\n",
    "\n",
    "ftr_imr = FunctionTransformer(lambda X: imr.fit_transform(X.T).T)\n",
    "imputed_data = ftr_imr.fit_transform(data[['Age', 'Fare']].values)"
   ]
  },
  {
   "cell_type": "code",
   "execution_count": 7,
   "id": "27e0e067",
   "metadata": {},
   "outputs": [
    {
     "data": {
      "text/html": [
       "<div>\n",
       "<style scoped>\n",
       "    .dataframe tbody tr th:only-of-type {\n",
       "        vertical-align: middle;\n",
       "    }\n",
       "\n",
       "    .dataframe tbody tr th {\n",
       "        vertical-align: top;\n",
       "    }\n",
       "\n",
       "    .dataframe thead th {\n",
       "        text-align: right;\n",
       "    }\n",
       "</style>\n",
       "<table border=\"1\" class=\"dataframe\">\n",
       "  <thead>\n",
       "    <tr style=\"text-align: right;\">\n",
       "      <th></th>\n",
       "      <th>PassengerId</th>\n",
       "      <th>Survived</th>\n",
       "      <th>Pclass</th>\n",
       "      <th>Name</th>\n",
       "      <th>Sex</th>\n",
       "      <th>Age</th>\n",
       "      <th>SibSp</th>\n",
       "      <th>Parch</th>\n",
       "      <th>Ticket</th>\n",
       "      <th>Fare</th>\n",
       "      <th>Cabin</th>\n",
       "      <th>Embarked</th>\n",
       "    </tr>\n",
       "  </thead>\n",
       "  <tbody>\n",
       "    <tr>\n",
       "      <th>0</th>\n",
       "      <td>1</td>\n",
       "      <td>0</td>\n",
       "      <td>3</td>\n",
       "      <td>Braund, Mr. Owen Harris</td>\n",
       "      <td>male</td>\n",
       "      <td>22.0</td>\n",
       "      <td>1</td>\n",
       "      <td>0</td>\n",
       "      <td>A/5 21171</td>\n",
       "      <td>7.250</td>\n",
       "      <td>NaN</td>\n",
       "      <td>S</td>\n",
       "    </tr>\n",
       "    <tr>\n",
       "      <th>2</th>\n",
       "      <td>3</td>\n",
       "      <td>1</td>\n",
       "      <td>3</td>\n",
       "      <td>Heikkinen, Miss. Laina</td>\n",
       "      <td>female</td>\n",
       "      <td>26.0</td>\n",
       "      <td>0</td>\n",
       "      <td>0</td>\n",
       "      <td>STON/O2. 3101282</td>\n",
       "      <td>7.925</td>\n",
       "      <td>NaN</td>\n",
       "      <td>S</td>\n",
       "    </tr>\n",
       "    <tr>\n",
       "      <th>4</th>\n",
       "      <td>5</td>\n",
       "      <td>0</td>\n",
       "      <td>3</td>\n",
       "      <td>Allen, Mr. William Henry</td>\n",
       "      <td>male</td>\n",
       "      <td>35.0</td>\n",
       "      <td>0</td>\n",
       "      <td>0</td>\n",
       "      <td>373450</td>\n",
       "      <td>8.050</td>\n",
       "      <td>NaN</td>\n",
       "      <td>S</td>\n",
       "    </tr>\n",
       "  </tbody>\n",
       "</table>\n",
       "</div>"
      ],
      "text/plain": [
       "   PassengerId  Survived  Pclass                      Name     Sex   Age  \\\n",
       "0            1         0       3   Braund, Mr. Owen Harris    male  22.0   \n",
       "2            3         1       3    Heikkinen, Miss. Laina  female  26.0   \n",
       "4            5         0       3  Allen, Mr. William Henry    male  35.0   \n",
       "\n",
       "   SibSp  Parch            Ticket   Fare Cabin Embarked  \n",
       "0      1      0         A/5 21171  7.250   NaN        S  \n",
       "2      0      0  STON/O2. 3101282  7.925   NaN        S  \n",
       "4      0      0            373450  8.050   NaN        S  "
      ]
     },
     "execution_count": 7,
     "metadata": {},
     "output_type": "execute_result"
    }
   ],
   "source": [
    "# 결측치 하나 이상인 행 보기\n",
    "data = pd.read_csv('../../datasets/titanic/train.csv')\n",
    "data[data.isnull().any(axis=1)].head(3)"
   ]
  },
  {
   "cell_type": "code",
   "execution_count": 8,
   "id": "37e3e022",
   "metadata": {},
   "outputs": [
    {
     "data": {
      "text/html": [
       "<div>\n",
       "<style scoped>\n",
       "    .dataframe tbody tr th:only-of-type {\n",
       "        vertical-align: middle;\n",
       "    }\n",
       "\n",
       "    .dataframe tbody tr th {\n",
       "        vertical-align: top;\n",
       "    }\n",
       "\n",
       "    .dataframe thead th {\n",
       "        text-align: right;\n",
       "    }\n",
       "</style>\n",
       "<table border=\"1\" class=\"dataframe\">\n",
       "  <thead>\n",
       "    <tr style=\"text-align: right;\">\n",
       "      <th></th>\n",
       "      <th>PassengerId</th>\n",
       "      <th>Survived</th>\n",
       "      <th>Pclass</th>\n",
       "      <th>Name</th>\n",
       "      <th>Sex</th>\n",
       "      <th>Age</th>\n",
       "      <th>SibSp</th>\n",
       "      <th>Parch</th>\n",
       "      <th>Ticket</th>\n",
       "      <th>Fare</th>\n",
       "      <th>Cabin</th>\n",
       "      <th>Embarked</th>\n",
       "    </tr>\n",
       "  </thead>\n",
       "  <tbody>\n",
       "    <tr>\n",
       "      <th>1</th>\n",
       "      <td>2</td>\n",
       "      <td>1</td>\n",
       "      <td>1</td>\n",
       "      <td>Cumings, Mrs. John Bradley (Florence Briggs Th...</td>\n",
       "      <td>female</td>\n",
       "      <td>38.0</td>\n",
       "      <td>1</td>\n",
       "      <td>0</td>\n",
       "      <td>PC 17599</td>\n",
       "      <td>71.2833</td>\n",
       "      <td>C85</td>\n",
       "      <td>C</td>\n",
       "    </tr>\n",
       "    <tr>\n",
       "      <th>3</th>\n",
       "      <td>4</td>\n",
       "      <td>1</td>\n",
       "      <td>1</td>\n",
       "      <td>Futrelle, Mrs. Jacques Heath (Lily May Peel)</td>\n",
       "      <td>female</td>\n",
       "      <td>35.0</td>\n",
       "      <td>1</td>\n",
       "      <td>0</td>\n",
       "      <td>113803</td>\n",
       "      <td>53.1000</td>\n",
       "      <td>C123</td>\n",
       "      <td>S</td>\n",
       "    </tr>\n",
       "    <tr>\n",
       "      <th>6</th>\n",
       "      <td>7</td>\n",
       "      <td>0</td>\n",
       "      <td>1</td>\n",
       "      <td>McCarthy, Mr. Timothy J</td>\n",
       "      <td>male</td>\n",
       "      <td>54.0</td>\n",
       "      <td>0</td>\n",
       "      <td>0</td>\n",
       "      <td>17463</td>\n",
       "      <td>51.8625</td>\n",
       "      <td>E46</td>\n",
       "      <td>S</td>\n",
       "    </tr>\n",
       "  </tbody>\n",
       "</table>\n",
       "</div>"
      ],
      "text/plain": [
       "   PassengerId  Survived  Pclass  \\\n",
       "1            2         1       1   \n",
       "3            4         1       1   \n",
       "6            7         0       1   \n",
       "\n",
       "                                                Name     Sex   Age  SibSp  \\\n",
       "1  Cumings, Mrs. John Bradley (Florence Briggs Th...  female  38.0      1   \n",
       "3       Futrelle, Mrs. Jacques Heath (Lily May Peel)  female  35.0      1   \n",
       "6                            McCarthy, Mr. Timothy J    male  54.0      0   \n",
       "\n",
       "   Parch    Ticket     Fare Cabin Embarked  \n",
       "1      0  PC 17599  71.2833   C85        C  \n",
       "3      0    113803  53.1000  C123        S  \n",
       "6      0     17463  51.8625   E46        S  "
      ]
     },
     "execution_count": 8,
     "metadata": {},
     "output_type": "execute_result"
    }
   ],
   "source": [
    "# dropna: 어떤 row에 한 개라도 NaN이 있으면 해당 row를 drop\n",
    "data = data.dropna()\n",
    "data.head(3)"
   ]
  },
  {
   "cell_type": "code",
   "execution_count": 9,
   "id": "61228edc",
   "metadata": {},
   "outputs": [
    {
     "data": {
      "text/html": [
       "<div>\n",
       "<style scoped>\n",
       "    .dataframe tbody tr th:only-of-type {\n",
       "        vertical-align: middle;\n",
       "    }\n",
       "\n",
       "    .dataframe tbody tr th {\n",
       "        vertical-align: top;\n",
       "    }\n",
       "\n",
       "    .dataframe thead th {\n",
       "        text-align: right;\n",
       "    }\n",
       "</style>\n",
       "<table border=\"1\" class=\"dataframe\">\n",
       "  <thead>\n",
       "    <tr style=\"text-align: right;\">\n",
       "      <th></th>\n",
       "      <th>PassengerId</th>\n",
       "      <th>Survived</th>\n",
       "      <th>Pclass</th>\n",
       "      <th>Name</th>\n",
       "      <th>Sex</th>\n",
       "      <th>Age</th>\n",
       "      <th>SibSp</th>\n",
       "      <th>Parch</th>\n",
       "      <th>Ticket</th>\n",
       "      <th>Fare</th>\n",
       "      <th>Cabin</th>\n",
       "      <th>Embarked</th>\n",
       "    </tr>\n",
       "  </thead>\n",
       "  <tbody>\n",
       "    <tr>\n",
       "      <th>0</th>\n",
       "      <td>1</td>\n",
       "      <td>0</td>\n",
       "      <td>3</td>\n",
       "      <td>Braund, Mr. Owen Harris</td>\n",
       "      <td>male</td>\n",
       "      <td>22.0</td>\n",
       "      <td>1</td>\n",
       "      <td>0</td>\n",
       "      <td>A/5 21171</td>\n",
       "      <td>7.2500</td>\n",
       "      <td>NaN</td>\n",
       "      <td>S</td>\n",
       "    </tr>\n",
       "    <tr>\n",
       "      <th>1</th>\n",
       "      <td>2</td>\n",
       "      <td>1</td>\n",
       "      <td>1</td>\n",
       "      <td>Cumings, Mrs. John Bradley (Florence Briggs Th...</td>\n",
       "      <td>female</td>\n",
       "      <td>38.0</td>\n",
       "      <td>1</td>\n",
       "      <td>0</td>\n",
       "      <td>PC 17599</td>\n",
       "      <td>71.2833</td>\n",
       "      <td>C85</td>\n",
       "      <td>C</td>\n",
       "    </tr>\n",
       "    <tr>\n",
       "      <th>2</th>\n",
       "      <td>3</td>\n",
       "      <td>1</td>\n",
       "      <td>3</td>\n",
       "      <td>Heikkinen, Miss. Laina</td>\n",
       "      <td>female</td>\n",
       "      <td>26.0</td>\n",
       "      <td>0</td>\n",
       "      <td>0</td>\n",
       "      <td>STON/O2. 3101282</td>\n",
       "      <td>7.9250</td>\n",
       "      <td>NaN</td>\n",
       "      <td>S</td>\n",
       "    </tr>\n",
       "  </tbody>\n",
       "</table>\n",
       "</div>"
      ],
      "text/plain": [
       "   PassengerId  Survived  Pclass  \\\n",
       "0            1         0       3   \n",
       "1            2         1       1   \n",
       "2            3         1       3   \n",
       "\n",
       "                                                Name     Sex   Age  SibSp  \\\n",
       "0                            Braund, Mr. Owen Harris    male  22.0      1   \n",
       "1  Cumings, Mrs. John Bradley (Florence Briggs Th...  female  38.0      1   \n",
       "2                             Heikkinen, Miss. Laina  female  26.0      0   \n",
       "\n",
       "   Parch            Ticket     Fare Cabin Embarked  \n",
       "0      0         A/5 21171   7.2500   NaN        S  \n",
       "1      0          PC 17599  71.2833   C85        C  \n",
       "2      0  STON/O2. 3101282   7.9250   NaN        S  "
      ]
     },
     "execution_count": 9,
     "metadata": {},
     "output_type": "execute_result"
    }
   ],
   "source": [
    "# Age가 NaN일 때만 drop하기\n",
    "data = pd.read_csv('../../data/titanic/train.csv')\n",
    "data = data.dropna(subset=['Age'])\n",
    "data.head(3)"
   ]
  },
  {
   "cell_type": "code",
   "execution_count": 10,
   "id": "6a4f6762",
   "metadata": {},
   "outputs": [],
   "source": [
    "# NaN 처리하고 reset index\n",
    "data.reset_index(drop=True, inplace=True)"
   ]
  },
  {
   "cell_type": "code",
   "execution_count": null,
   "id": "24fb030f",
   "metadata": {},
   "outputs": [],
   "source": []
  },
  {
   "cell_type": "code",
   "execution_count": null,
   "id": "b8dfa233",
   "metadata": {},
   "outputs": [],
   "source": []
  },
  {
   "cell_type": "markdown",
   "id": "30f06e58",
   "metadata": {},
   "source": [
    "# <font color='blue'>[Feature Engineering]</font>\n",
    "- 각각의 역할과 의미 (scaling, labelling, selection, extraction)\n",
    "- 어떤 모델에서 중요한지?\n",
    "- 어떤 효과를 갖는지?\n"
   ]
  },
  {
   "cell_type": "markdown",
   "id": "733263d5",
   "metadata": {},
   "source": [
    "# <font color='blue'>[Feature Scaling - 정규화 / 표준화]</font>\n",
    "\n",
    "- '표준화'란.. 데이터의 피처 각각이 평균0 분산1인 가우시안 정규분포를 가진 값으로 변환하는 것.\n",
    "    - $x_i new = \\frac{x_i - mean(x)}{stdev(x)}$\n",
    "- '정규화'란.. 서로 다른 피처의 크기를 통일하기 위해 크기를 변환해주는 것.\n",
    "    - $x_i new = \\frac{x_i - min(x)}{max(x) - min(x)}$\n",
    "<br>\n",
    "\n",
    "1. 표준화 - StandardScaler\n",
    "2. 정규화 - MinMaxScaler: 데이터값을 0과 1사이의 범위 값으로 변환한다.\n",
    "    - 음수 값이 있는 데이터의 경우 -1과 1사이의 범위 값으로 변환한다."
   ]
  },
  {
   "cell_type": "code",
   "execution_count": 7,
   "id": "845e22f2",
   "metadata": {},
   "outputs": [
    {
     "data": {
      "text/plain": [
       "array([[-0.90068117,  1.01900435, -1.34022653, -1.3154443 ],\n",
       "       [-1.14301691, -0.13197948, -1.34022653, -1.3154443 ],\n",
       "       [-1.38535265,  0.32841405, -1.39706395, -1.3154443 ]])"
      ]
     },
     "execution_count": 7,
     "metadata": {},
     "output_type": "execute_result"
    }
   ],
   "source": [
    "# StandardScaler 사용\n",
    "iris_df, y = df_iris()\n",
    "\n",
    "scaler = StandardScaler()\n",
    "iris_sscaled = scaler.fit_transform(iris_df)\n",
    "iris_sscaled[0:3]"
   ]
  },
  {
   "cell_type": "code",
   "execution_count": 13,
   "id": "dc2d527d",
   "metadata": {},
   "outputs": [
    {
     "data": {
      "text/plain": [
       "array([[0.22222222, 0.625     , 0.06779661, 0.04166667],\n",
       "       [0.16666667, 0.41666667, 0.06779661, 0.04166667],\n",
       "       [0.11111111, 0.5       , 0.05084746, 0.04166667]])"
      ]
     },
     "execution_count": 13,
     "metadata": {},
     "output_type": "execute_result"
    }
   ],
   "source": [
    "# MinMaxScaler 사용\n",
    "scaler = MinMaxScaler()\n",
    "iris_mscaled = scaler.fit_transform(iris_df)\n",
    "iris_mscaled[0:3]"
   ]
  },
  {
   "cell_type": "markdown",
   "id": "5957d038",
   "metadata": {},
   "source": [
    "`RobustScaler`는 중간값(q2) 값을 빼고 1사분위(q1)와 3사분위(q3)의 차이로 나누어 데이터의 스케일을 조정합니다.\n",
    "\n",
    "$ x_{robust}^{(i)} = \\dfrac{x^{(i)} - q_2}{q_3 - q_1}$"
   ]
  },
  {
   "cell_type": "code",
   "execution_count": 14,
   "id": "7bb67c5b",
   "metadata": {},
   "outputs": [
    {
     "data": {
      "text/plain": [
       "array([[-0.53846154,  1.        , -0.84285714, -0.73333333],\n",
       "       [-0.69230769,  0.        , -0.84285714, -0.73333333],\n",
       "       [-0.84615385,  0.4       , -0.87142857, -0.73333333]])"
      ]
     },
     "execution_count": 14,
     "metadata": {},
     "output_type": "execute_result"
    }
   ],
   "source": [
    "from sklearn.preprocessing import RobustScaler\n",
    "rbs = RobustScaler()\n",
    "iris_rscaled = rbs.fit_transform(iris_df)\n",
    "iris_rscaled[0:3]"
   ]
  },
  {
   "cell_type": "markdown",
   "id": "177e8997",
   "metadata": {
    "id": "hB_yqD6-Mq2l"
   },
   "source": [
    "`Normalizer` 클래스와 `normalize()` 함수는 특성이 아니라 샘플별로 정규화를 수행합니다. 또한 희소 행렬도 처리할 수 있습니다. 기본적으로 샘플의 L2 노름이 1이 되도록 정규화합니다."
   ]
  },
  {
   "cell_type": "code",
   "execution_count": 15,
   "id": "37f2d14e",
   "metadata": {},
   "outputs": [
    {
     "data": {
      "text/plain": [
       "array([[0.80377277, 0.55160877, 0.22064351, 0.0315205 ],\n",
       "       [0.82813287, 0.50702013, 0.23660939, 0.03380134],\n",
       "       [0.80533308, 0.54831188, 0.2227517 , 0.03426949]])"
      ]
     },
     "execution_count": 15,
     "metadata": {},
     "output_type": "execute_result"
    }
   ],
   "source": [
    "from sklearn.preprocessing import Normalizer\n",
    "\n",
    "nrm = Normalizer()\n",
    "iris_normalized = nrm.fit_transform(iris_df)\n",
    "iris_normalized[0:3]"
   ]
  },
  {
   "cell_type": "markdown",
   "id": "9e009eb2",
   "metadata": {},
   "source": [
    "#### 기법 비교"
   ]
  },
  {
   "cell_type": "code",
   "execution_count": 16,
   "id": "4734a442",
   "metadata": {},
   "outputs": [
    {
     "data": {
      "image/png": "[encoded data removed]",
      "text/plain": [
       "<Figure size 1080x576 with 5 Axes>"
      ]
     },
     "metadata": {
      "needs_background": "light"
     },
     "output_type": "display_data"
    }
   ],
   "source": [
    "import mglearn\n",
    "mglearn.plots.plot_scaling()\n",
    "\n",
    "# (왼쪽) 두 개의 특성을 인위적으로 만든 이진 분류 데이터셋을\n",
    "    # (오른쪽) 데이터를 표준화/정규화하는 네 가지 방법이다.\n",
    "\n",
    "# StandardScaler: 각 특성의 평균을 0 분산을 1로 변경하여 모든 특성이 같은 크기를 가지게 한다.\n",
    "# RobustScaler: 특성들이 같은 스케일을 갖게 된다는 통계적 측면에선 비슷하지만, 중간값과 사분위값을 사용한다.\n",
    "# MinMaxScaler: 모든 특성이 0과 1사이에 위치하도록 데이터를 변경한다.\n",
    "# Normalizer: 벡터의 유클리디안 길이가 1이 되도록 데이터 포인트를 조정한다. (지름이 1인 구에 데이터 포인트를 투영한다.) => 벡터의 길이는 상관없고 데이터의 방향이 중요할 때 많이 사용된다."
   ]
  },
  {
   "cell_type": "code",
   "execution_count": null,
   "id": "edb9aba7",
   "metadata": {},
   "outputs": [],
   "source": []
  },
  {
   "cell_type": "markdown",
   "id": "918f8a7e",
   "metadata": {},
   "source": [
    "# <font color='blue'>[Feature Labelling]</blue>"
   ]
  },
  {
   "cell_type": "markdown",
   "id": "48dd3094",
   "metadata": {},
   "source": [
    "### Label Encoder"
   ]
  },
  {
   "cell_type": "code",
   "execution_count": 117,
   "id": "61119d56",
   "metadata": {},
   "outputs": [
    {
     "name": "stdout",
     "output_type": "stream",
     "text": [
      "인코딩 클래스: ['female' 'male']\n",
      "디코딩 원본값: ['female' 'male']\n"
     ]
    },
    {
     "data": {
      "text/html": [
       "<div>\n",
       "<style scoped>\n",
       "    .dataframe tbody tr th:only-of-type {\n",
       "        vertical-align: middle;\n",
       "    }\n",
       "\n",
       "    .dataframe tbody tr th {\n",
       "        vertical-align: top;\n",
       "    }\n",
       "\n",
       "    .dataframe thead th {\n",
       "        text-align: right;\n",
       "    }\n",
       "</style>\n",
       "<table border=\"1\" class=\"dataframe\">\n",
       "  <thead>\n",
       "    <tr style=\"text-align: right;\">\n",
       "      <th></th>\n",
       "      <th>PassengerId</th>\n",
       "      <th>Survived</th>\n",
       "      <th>Pclass</th>\n",
       "      <th>Name</th>\n",
       "      <th>Sex</th>\n",
       "      <th>Age</th>\n",
       "      <th>SibSp</th>\n",
       "      <th>Parch</th>\n",
       "      <th>Ticket</th>\n",
       "      <th>Fare</th>\n",
       "      <th>Cabin</th>\n",
       "      <th>Embarked</th>\n",
       "    </tr>\n",
       "  </thead>\n",
       "  <tbody>\n",
       "    <tr>\n",
       "      <th>0</th>\n",
       "      <td>1</td>\n",
       "      <td>0</td>\n",
       "      <td>3</td>\n",
       "      <td>Braund, Mr. Owen Harris</td>\n",
       "      <td>1</td>\n",
       "      <td>22.0</td>\n",
       "      <td>1</td>\n",
       "      <td>0</td>\n",
       "      <td>A/5 21171</td>\n",
       "      <td>7.2500</td>\n",
       "      <td>NaN</td>\n",
       "      <td>S</td>\n",
       "    </tr>\n",
       "    <tr>\n",
       "      <th>1</th>\n",
       "      <td>2</td>\n",
       "      <td>1</td>\n",
       "      <td>1</td>\n",
       "      <td>Cumings, Mrs. John Bradley (Florence Briggs Th...</td>\n",
       "      <td>0</td>\n",
       "      <td>38.0</td>\n",
       "      <td>1</td>\n",
       "      <td>0</td>\n",
       "      <td>PC 17599</td>\n",
       "      <td>71.2833</td>\n",
       "      <td>C85</td>\n",
       "      <td>C</td>\n",
       "    </tr>\n",
       "  </tbody>\n",
       "</table>\n",
       "</div>"
      ],
      "text/plain": [
       "   PassengerId  Survived  Pclass  \\\n",
       "0            1         0       3   \n",
       "1            2         1       1   \n",
       "\n",
       "                                                Name  Sex   Age  SibSp  Parch  \\\n",
       "0                            Braund, Mr. Owen Harris    1  22.0      1      0   \n",
       "1  Cumings, Mrs. John Bradley (Florence Briggs Th...    0  38.0      1      0   \n",
       "\n",
       "      Ticket     Fare Cabin Embarked  \n",
       "0  A/5 21171   7.2500   NaN        S  \n",
       "1   PC 17599  71.2833   C85        C  "
      ]
     },
     "execution_count": 117,
     "metadata": {},
     "output_type": "execute_result"
    }
   ],
   "source": [
    "# LabelEncoder 사용\n",
    "df = df_titanic()\n",
    "\n",
    "encoder = LabelEncoder()\n",
    "df['Sex'] = encoder.fit_transform(df['Sex'])\n",
    "\n",
    "print(\"인코딩 클래스:\", encoder.classes_)\n",
    "print(\"디코딩 원본값:\", encoder.inverse_transform([0, 1]))\n",
    "df.head(2)"
   ]
  },
  {
   "cell_type": "markdown",
   "id": "a9e36d5b",
   "metadata": {},
   "source": [
    "### 직접 mapping"
   ]
  },
  {
   "cell_type": "code",
   "execution_count": 118,
   "id": "9ec7717f",
   "metadata": {
    "scrolled": true
   },
   "outputs": [
    {
     "data": {
      "text/html": [
       "<div>\n",
       "<style scoped>\n",
       "    .dataframe tbody tr th:only-of-type {\n",
       "        vertical-align: middle;\n",
       "    }\n",
       "\n",
       "    .dataframe tbody tr th {\n",
       "        vertical-align: top;\n",
       "    }\n",
       "\n",
       "    .dataframe thead th {\n",
       "        text-align: right;\n",
       "    }\n",
       "</style>\n",
       "<table border=\"1\" class=\"dataframe\">\n",
       "  <thead>\n",
       "    <tr style=\"text-align: right;\">\n",
       "      <th></th>\n",
       "      <th>PassengerId</th>\n",
       "      <th>Survived</th>\n",
       "      <th>Pclass</th>\n",
       "      <th>Name</th>\n",
       "      <th>Sex</th>\n",
       "      <th>Age</th>\n",
       "      <th>SibSp</th>\n",
       "      <th>Parch</th>\n",
       "      <th>Ticket</th>\n",
       "      <th>Fare</th>\n",
       "      <th>Cabin</th>\n",
       "      <th>Embarked</th>\n",
       "    </tr>\n",
       "  </thead>\n",
       "  <tbody>\n",
       "    <tr>\n",
       "      <th>0</th>\n",
       "      <td>1</td>\n",
       "      <td>0</td>\n",
       "      <td>3</td>\n",
       "      <td>Braund, Mr. Owen Harris</td>\n",
       "      <td>0</td>\n",
       "      <td>22.0</td>\n",
       "      <td>1</td>\n",
       "      <td>0</td>\n",
       "      <td>A/5 21171</td>\n",
       "      <td>7.2500</td>\n",
       "      <td>NaN</td>\n",
       "      <td>S</td>\n",
       "    </tr>\n",
       "    <tr>\n",
       "      <th>1</th>\n",
       "      <td>2</td>\n",
       "      <td>1</td>\n",
       "      <td>1</td>\n",
       "      <td>Cumings, Mrs. John Bradley (Florence Briggs Th...</td>\n",
       "      <td>1</td>\n",
       "      <td>38.0</td>\n",
       "      <td>1</td>\n",
       "      <td>0</td>\n",
       "      <td>PC 17599</td>\n",
       "      <td>71.2833</td>\n",
       "      <td>C85</td>\n",
       "      <td>C</td>\n",
       "    </tr>\n",
       "  </tbody>\n",
       "</table>\n",
       "</div>"
      ],
      "text/plain": [
       "   PassengerId  Survived  Pclass  \\\n",
       "0            1         0       3   \n",
       "1            2         1       1   \n",
       "\n",
       "                                                Name  Sex   Age  SibSp  Parch  \\\n",
       "0                            Braund, Mr. Owen Harris    0  22.0      1      0   \n",
       "1  Cumings, Mrs. John Bradley (Florence Briggs Th...    1  38.0      1      0   \n",
       "\n",
       "      Ticket     Fare Cabin Embarked  \n",
       "0  A/5 21171   7.2500   NaN        S  \n",
       "1   PC 17599  71.2833   C85        C  "
      ]
     },
     "execution_count": 118,
     "metadata": {},
     "output_type": "execute_result"
    }
   ],
   "source": [
    "# 직접 label mapping\n",
    "df = df_titanic()\n",
    "\n",
    "mapping = {'male': 0,\n",
    "           'female': 1}\n",
    "df['Sex'] = df['Sex'].map(mapping)\n",
    "\n",
    "df.head(2)"
   ]
  },
  {
   "cell_type": "markdown",
   "id": "a20b59f0",
   "metadata": {},
   "source": [
    "- 예를 들어 옷 사이즈, 등급 처럼 순서특성을 가진 범주형 문자열을 바꿀 때는 직접 매핑 함수를 만들어서 레이블 인코딩 해줘야 한다."
   ]
  },
  {
   "cell_type": "code",
   "execution_count": 119,
   "id": "101f29ab",
   "metadata": {
    "scrolled": true
   },
   "outputs": [
    {
     "data": {
      "text/html": [
       "<div>\n",
       "<style scoped>\n",
       "    .dataframe tbody tr th:only-of-type {\n",
       "        vertical-align: middle;\n",
       "    }\n",
       "\n",
       "    .dataframe tbody tr th {\n",
       "        vertical-align: top;\n",
       "    }\n",
       "\n",
       "    .dataframe thead th {\n",
       "        text-align: right;\n",
       "    }\n",
       "</style>\n",
       "<table border=\"1\" class=\"dataframe\">\n",
       "  <thead>\n",
       "    <tr style=\"text-align: right;\">\n",
       "      <th></th>\n",
       "      <th>PassengerId</th>\n",
       "      <th>Survived</th>\n",
       "      <th>Pclass</th>\n",
       "      <th>Name</th>\n",
       "      <th>Sex</th>\n",
       "      <th>Age</th>\n",
       "      <th>SibSp</th>\n",
       "      <th>Parch</th>\n",
       "      <th>Ticket</th>\n",
       "      <th>Fare</th>\n",
       "      <th>Cabin</th>\n",
       "      <th>Embarked</th>\n",
       "    </tr>\n",
       "  </thead>\n",
       "  <tbody>\n",
       "    <tr>\n",
       "      <th>0</th>\n",
       "      <td>1</td>\n",
       "      <td>0</td>\n",
       "      <td>3</td>\n",
       "      <td>Braund, Mr. Owen Harris</td>\n",
       "      <td>male</td>\n",
       "      <td>22.0</td>\n",
       "      <td>1</td>\n",
       "      <td>0</td>\n",
       "      <td>A/5 21171</td>\n",
       "      <td>7.2500</td>\n",
       "      <td>NaN</td>\n",
       "      <td>S</td>\n",
       "    </tr>\n",
       "    <tr>\n",
       "      <th>1</th>\n",
       "      <td>2</td>\n",
       "      <td>1</td>\n",
       "      <td>1</td>\n",
       "      <td>Cumings, Mrs. John Bradley (Florence Briggs Th...</td>\n",
       "      <td>female</td>\n",
       "      <td>38.0</td>\n",
       "      <td>1</td>\n",
       "      <td>0</td>\n",
       "      <td>PC 17599</td>\n",
       "      <td>71.2833</td>\n",
       "      <td>C85</td>\n",
       "      <td>C</td>\n",
       "    </tr>\n",
       "  </tbody>\n",
       "</table>\n",
       "</div>"
      ],
      "text/plain": [
       "   PassengerId  Survived  Pclass  \\\n",
       "0            1         0       3   \n",
       "1            2         1       1   \n",
       "\n",
       "                                                Name     Sex   Age  SibSp  \\\n",
       "0                            Braund, Mr. Owen Harris    male  22.0      1   \n",
       "1  Cumings, Mrs. John Bradley (Florence Briggs Th...  female  38.0      1   \n",
       "\n",
       "   Parch     Ticket     Fare Cabin Embarked  \n",
       "0      0  A/5 21171   7.2500   NaN        S  \n",
       "1      0   PC 17599  71.2833   C85        C  "
      ]
     },
     "execution_count": 119,
     "metadata": {},
     "output_type": "execute_result"
    }
   ],
   "source": [
    "# 아래는 inverse_mapping, 즉 원래대로 돌려놓는 매핑이다.\n",
    "inv_mapping = {v: k for k, v in mapping.items()}\n",
    "df['Sex'] = df['Sex'].map(inv_mapping)\n",
    "\n",
    "df.head(2)"
   ]
  },
  {
   "cell_type": "markdown",
   "id": "82a58ba1",
   "metadata": {},
   "source": [
    "### One-Hot Encoding\n",
    "- 순서가 없는 특성을 인코딩할 때 ohe를 쓴다."
   ]
  },
  {
   "cell_type": "code",
   "execution_count": 120,
   "id": "5bd2d5a1",
   "metadata": {},
   "outputs": [
    {
     "data": {
      "text/html": [
       "<div>\n",
       "<style scoped>\n",
       "    .dataframe tbody tr th:only-of-type {\n",
       "        vertical-align: middle;\n",
       "    }\n",
       "\n",
       "    .dataframe tbody tr th {\n",
       "        vertical-align: top;\n",
       "    }\n",
       "\n",
       "    .dataframe thead th {\n",
       "        text-align: right;\n",
       "    }\n",
       "</style>\n",
       "<table border=\"1\" class=\"dataframe\">\n",
       "  <thead>\n",
       "    <tr style=\"text-align: right;\">\n",
       "      <th></th>\n",
       "      <th>PassengerId</th>\n",
       "      <th>Survived</th>\n",
       "      <th>Name</th>\n",
       "      <th>Age</th>\n",
       "      <th>SibSp</th>\n",
       "      <th>Parch</th>\n",
       "      <th>Ticket</th>\n",
       "      <th>Fare</th>\n",
       "      <th>Cabin</th>\n",
       "      <th>Pclass_1</th>\n",
       "      <th>Pclass_2</th>\n",
       "      <th>Pclass_3</th>\n",
       "      <th>Sex_female</th>\n",
       "      <th>Sex_male</th>\n",
       "      <th>Embarked_C</th>\n",
       "      <th>Embarked_Q</th>\n",
       "      <th>Embarked_S</th>\n",
       "    </tr>\n",
       "  </thead>\n",
       "  <tbody>\n",
       "    <tr>\n",
       "      <th>0</th>\n",
       "      <td>1</td>\n",
       "      <td>0</td>\n",
       "      <td>Braund, Mr. Owen Harris</td>\n",
       "      <td>22.0</td>\n",
       "      <td>1</td>\n",
       "      <td>0</td>\n",
       "      <td>A/5 21171</td>\n",
       "      <td>7.2500</td>\n",
       "      <td>NaN</td>\n",
       "      <td>0</td>\n",
       "      <td>0</td>\n",
       "      <td>1</td>\n",
       "      <td>0</td>\n",
       "      <td>1</td>\n",
       "      <td>0</td>\n",
       "      <td>0</td>\n",
       "      <td>1</td>\n",
       "    </tr>\n",
       "    <tr>\n",
       "      <th>1</th>\n",
       "      <td>2</td>\n",
       "      <td>1</td>\n",
       "      <td>Cumings, Mrs. John Bradley (Florence Briggs Th...</td>\n",
       "      <td>38.0</td>\n",
       "      <td>1</td>\n",
       "      <td>0</td>\n",
       "      <td>PC 17599</td>\n",
       "      <td>71.2833</td>\n",
       "      <td>C85</td>\n",
       "      <td>1</td>\n",
       "      <td>0</td>\n",
       "      <td>0</td>\n",
       "      <td>1</td>\n",
       "      <td>0</td>\n",
       "      <td>1</td>\n",
       "      <td>0</td>\n",
       "      <td>0</td>\n",
       "    </tr>\n",
       "    <tr>\n",
       "      <th>2</th>\n",
       "      <td>3</td>\n",
       "      <td>1</td>\n",
       "      <td>Heikkinen, Miss. Laina</td>\n",
       "      <td>26.0</td>\n",
       "      <td>0</td>\n",
       "      <td>0</td>\n",
       "      <td>STON/O2. 3101282</td>\n",
       "      <td>7.9250</td>\n",
       "      <td>NaN</td>\n",
       "      <td>0</td>\n",
       "      <td>0</td>\n",
       "      <td>1</td>\n",
       "      <td>1</td>\n",
       "      <td>0</td>\n",
       "      <td>0</td>\n",
       "      <td>0</td>\n",
       "      <td>1</td>\n",
       "    </tr>\n",
       "  </tbody>\n",
       "</table>\n",
       "</div>"
      ],
      "text/plain": [
       "   PassengerId  Survived                                               Name  \\\n",
       "0            1         0                            Braund, Mr. Owen Harris   \n",
       "1            2         1  Cumings, Mrs. John Bradley (Florence Briggs Th...   \n",
       "2            3         1                             Heikkinen, Miss. Laina   \n",
       "\n",
       "    Age  SibSp  Parch            Ticket     Fare Cabin  Pclass_1  Pclass_2  \\\n",
       "0  22.0      1      0         A/5 21171   7.2500   NaN         0         0   \n",
       "1  38.0      1      0          PC 17599  71.2833   C85         1         0   \n",
       "2  26.0      0      0  STON/O2. 3101282   7.9250   NaN         0         0   \n",
       "\n",
       "   Pclass_3  Sex_female  Sex_male  Embarked_C  Embarked_Q  Embarked_S  \n",
       "0         1           0         1           0           0           1  \n",
       "1         0           1         0           1           0           0  \n",
       "2         1           1         0           0           0           1  "
      ]
     },
     "execution_count": 120,
     "metadata": {},
     "output_type": "execute_result"
    }
   ],
   "source": [
    "# pd.get_dummies 사용\n",
    "df = df_titanic()\n",
    "pd.get_dummies(df, columns=['Pclass', 'Sex', 'Embarked']).head(3)"
   ]
  },
  {
   "cell_type": "markdown",
   "id": "0b9c2516",
   "metadata": {},
   "source": [
    "### String 처리"
   ]
  },
  {
   "cell_type": "code",
   "execution_count": 121,
   "id": "0394d4a4",
   "metadata": {},
   "outputs": [
    {
     "data": {
      "text/plain": [
       "B96 B98        4\n",
       "G6             4\n",
       "C23 C25 C27    4\n",
       "C22 C26        3\n",
       "F33            3\n",
       "              ..\n",
       "E34            1\n",
       "C7             1\n",
       "C54            1\n",
       "E36            1\n",
       "C148           1\n",
       "Name: Cabin, Length: 147, dtype: int64"
      ]
     },
     "metadata": {},
     "output_type": "display_data"
    },
    {
     "data": {
      "text/plain": [
       "C    59\n",
       "B    47\n",
       "D    33\n",
       "E    32\n",
       "A    15\n",
       "F    13\n",
       "G     4\n",
       "T     1\n",
       "Name: Cabin, dtype: int64"
      ]
     },
     "execution_count": 121,
     "metadata": {},
     "output_type": "execute_result"
    }
   ],
   "source": [
    "data = df_titanic()\n",
    "# 기존 'Cabin' value_counts\n",
    "display(data['Cabin'].value_counts())\n",
    "\n",
    "# Cabin의 값을 첫 알파벳 한 글자로 바꿔준다.\n",
    "data['Cabin'] = data['Cabin'].str[:1]\n",
    "data['Cabin'].value_counts()"
   ]
  },
  {
   "cell_type": "markdown",
   "id": "b42a57ec",
   "metadata": {},
   "source": [
    "### Numeric -> Category"
   ]
  },
  {
   "cell_type": "code",
   "execution_count": 125,
   "id": "49396cad",
   "metadata": {},
   "outputs": [
    {
     "data": {
      "text/plain": [
       "<AxesSubplot:xlabel='Age_cat', ylabel='Survived'>"
      ]
     },
     "execution_count": 125,
     "metadata": {},
     "output_type": "execute_result"
    },
    {
     "data": {
      "image/png": "[encoded data removed]",
      "text/plain": [
       "<Figure size 720x432 with 1 Axes>"
      ]
     },
     "metadata": {
      "needs_background": "light"
     },
     "output_type": "display_data"
    }
   ],
   "source": [
    "data = df_titanic()\n",
    "\n",
    "# 나이의 카테고리를 반환하는 함수 정의\n",
    "def get_category(age):\n",
    "    cat = ''\n",
    "    if age <= -1: cat = 'Unknown'\n",
    "    elif age <= 5: cat = 'Baby'\n",
    "    elif age <= 12: cat = 'Child'\n",
    "    elif age <= 18: cat = 'Teenager'\n",
    "    elif age <= 25: cat = 'Student'\n",
    "    elif age <= 35: cat = 'Young Adult'\n",
    "    elif age <= 60: cat = 'Adult'\n",
    "    else : cat = 'Elderly'\n",
    "    \n",
    "    return cat\n",
    "\n",
    "plt.figure(figsize=(10,6))\n",
    "\n",
    "# x축의 값을 순차적으로 표시하기 위한 설정\n",
    "group_names = ['Unknown', 'Baby', 'Child', 'Teenager', 'Student', 'Young Adult', 'Adult', 'Elderly']\n",
    "\n",
    "# apply와 lambda 활용\n",
    "data['Age_cat'] = data['Age'].apply(lambda x : get_category(x))\n",
    "sns.barplot(x='Age_cat', y='Survived', hue='Sex',\n",
    "            data=data, order=group_names)"
   ]
  },
  {
   "cell_type": "markdown",
   "id": "2f88d175",
   "metadata": {},
   "source": [
    "#### Preprocessing Pipeline 예시"
   ]
  },
  {
   "cell_type": "code",
   "execution_count": 47,
   "id": "7ee2d01c",
   "metadata": {},
   "outputs": [
    {
     "data": {
      "text/html": [
       "<div>\n",
       "<style scoped>\n",
       "    .dataframe tbody tr th:only-of-type {\n",
       "        vertical-align: middle;\n",
       "    }\n",
       "\n",
       "    .dataframe tbody tr th {\n",
       "        vertical-align: top;\n",
       "    }\n",
       "\n",
       "    .dataframe thead th {\n",
       "        text-align: right;\n",
       "    }\n",
       "</style>\n",
       "<table border=\"1\" class=\"dataframe\">\n",
       "  <thead>\n",
       "    <tr style=\"text-align: right;\">\n",
       "      <th></th>\n",
       "      <th>Pclass</th>\n",
       "      <th>Sex</th>\n",
       "      <th>Age</th>\n",
       "      <th>SibSp</th>\n",
       "      <th>Parch</th>\n",
       "      <th>Fare</th>\n",
       "      <th>Cabin</th>\n",
       "      <th>Embarked</th>\n",
       "    </tr>\n",
       "  </thead>\n",
       "  <tbody>\n",
       "    <tr>\n",
       "      <th>0</th>\n",
       "      <td>3</td>\n",
       "      <td>1</td>\n",
       "      <td>22.0</td>\n",
       "      <td>1</td>\n",
       "      <td>0</td>\n",
       "      <td>7.2500</td>\n",
       "      <td>7</td>\n",
       "      <td>3</td>\n",
       "    </tr>\n",
       "    <tr>\n",
       "      <th>1</th>\n",
       "      <td>1</td>\n",
       "      <td>0</td>\n",
       "      <td>38.0</td>\n",
       "      <td>1</td>\n",
       "      <td>0</td>\n",
       "      <td>71.2833</td>\n",
       "      <td>2</td>\n",
       "      <td>0</td>\n",
       "    </tr>\n",
       "    <tr>\n",
       "      <th>2</th>\n",
       "      <td>3</td>\n",
       "      <td>0</td>\n",
       "      <td>26.0</td>\n",
       "      <td>0</td>\n",
       "      <td>0</td>\n",
       "      <td>7.9250</td>\n",
       "      <td>7</td>\n",
       "      <td>3</td>\n",
       "    </tr>\n",
       "    <tr>\n",
       "      <th>3</th>\n",
       "      <td>1</td>\n",
       "      <td>0</td>\n",
       "      <td>35.0</td>\n",
       "      <td>1</td>\n",
       "      <td>0</td>\n",
       "      <td>53.1000</td>\n",
       "      <td>2</td>\n",
       "      <td>3</td>\n",
       "    </tr>\n",
       "    <tr>\n",
       "      <th>4</th>\n",
       "      <td>3</td>\n",
       "      <td>1</td>\n",
       "      <td>35.0</td>\n",
       "      <td>0</td>\n",
       "      <td>0</td>\n",
       "      <td>8.0500</td>\n",
       "      <td>7</td>\n",
       "      <td>3</td>\n",
       "    </tr>\n",
       "  </tbody>\n",
       "</table>\n",
       "</div>"
      ],
      "text/plain": [
       "   Pclass  Sex   Age  SibSp  Parch     Fare  Cabin  Embarked\n",
       "0       3    1  22.0      1      0   7.2500      7         3\n",
       "1       1    0  38.0      1      0  71.2833      2         0\n",
       "2       3    0  26.0      0      0   7.9250      7         3\n",
       "3       1    0  35.0      1      0  53.1000      2         3\n",
       "4       3    1  35.0      0      0   8.0500      7         3"
      ]
     },
     "execution_count": 47,
     "metadata": {},
     "output_type": "execute_result"
    }
   ],
   "source": [
    "# Null 처리 함수\n",
    "def fillna(df):\n",
    "    df['Age'].fillna(df['Age'].mean(), inplace=True)\n",
    "    df['Cabin'].fillna('N', inplace=True)\n",
    "    df['Embarked'].fillna('N', inplace=True)\n",
    "    df['Fare'].fillna(0, inplace=True)\n",
    "    return df\n",
    "\n",
    "# 불필요한 feature 제거\n",
    "def drop_features(df):\n",
    "    df.drop(['PassengerId', 'Name', 'Ticket'], axis=1,\n",
    "            inplace=True)\n",
    "    return df\n",
    "\n",
    "# 레이블 인코딩\n",
    "def format_features(df):\n",
    "    df['Cabin'] = df['Cabin'].str[:1]\n",
    "    features = ['Cabin', 'Sex', 'Embarked']\n",
    "    for feature in features:\n",
    "        le = LabelEncoder()\n",
    "        df[feature] = le.fit_transform(df[feature])\n",
    "    return df\n",
    "\n",
    "# 위의 함수 한번에 호출\n",
    "def transform_features(df):\n",
    "    df = fillna(df)\n",
    "    df = drop_features(df)\n",
    "    df = format_features(df)\n",
    "    return df\n",
    "\n",
    "\n",
    "# 원본 데이터 로드\n",
    "data = pd.read_csv('../../data/titanic/train.csv')\n",
    "data_y = data['Survived']\n",
    "data_X = data.drop('Survived', axis=1)\n",
    "\n",
    "data_X = transform_features(data_X)\n",
    "\n",
    "data_X.head()"
   ]
  },
  {
   "cell_type": "code",
   "execution_count": null,
   "id": "38f68aa9",
   "metadata": {},
   "outputs": [],
   "source": []
  },
  {
   "cell_type": "markdown",
   "id": "7a56d5c5",
   "metadata": {},
   "source": [
    "# <font color='blue'>[Feature Regularization]</font>"
   ]
  },
  {
   "cell_type": "markdown",
   "id": "2dbd0c18",
   "metadata": {},
   "source": [
    "### Regularization (규제)\n",
    "\n",
    "> **편향-분산 트레이드오프**<br>\n",
    "\n",
    "> 일반적으로 높은 분산(variance)는 과대적합(overfitting)에 비례하고, 높은 편향(bias)는 과소적합(underfitting)에 비례한다.<br>\n",
    "\n",
    "> 머신 러닝 모델에서 **분산**은 모델을 여러 번 훈련했을 때 특정 샘플에 대한 예측의 일관성(또는 변동성)을 측정합니다. 예를 들어 훈련 데이터셋의 일부분을 사용하여 여러 번 훈련하는 경우입니다. 이런 모델은 훈련 데이터의 무작위성에 민감하다고 말할 수 있습니다. 반대로 **편향**은 다른 훈련 데이터셋에서 여러 번 훈련했을 때 예측이 정확한 값에서 얼마나 벗어났는지 측정합니다. 편향은 무작위성이 아니라 구조적인 에러를 나타냅니다.\n",
    "\n",
    "- 좋은 편향-분산 트레이드오프를 찾는 한 가지 방법은 \"규제를 사용하여 모델의 복잡도를 조정하는 것\"이다.\n",
    "- Regularization은 \"과도한 파라미터(가중치) 값을 제한하기 위해 추가적인 정보(편향)를 주입하는 개념이다.\"<br><br>\n",
    "\n",
    "- 가장 널리 사용되는 형태가 **L2 규제** (lambda는 '규제 하이퍼파라미터')\n",
    "\n",
    "$L2: \\lVert \\boldsymbol w \\rVert_2^2 = \\sum_{j=1}^m w_j^2$\n",
    "\n",
    "$L1: \\lVert \\boldsymbol w \\rVert_1 = \\sum_{j=1}^m \\lvert w_j \\rvert$<br>\n",
    "\n",
    "- L1 규제의 특징은..\n",
    "    - 비용 함수의 포물선과 L1 다이아몬드의 경계가 만나는 최적점이 \"축에 가깝게 위치할 가능성이 높다는 것\"\n",
    "    - 그래서 L1 규제는 보통 희소한 특성 벡터를 만든다. (대부분의 특성 가중치가 0이 된다)\n",
    "    - 관련 없는 특성이 많은 고차원 데이터셋일 경우 이런 희소성이 도움이 될 수 있다."
   ]
  },
  {
   "cell_type": "code",
   "execution_count": 48,
   "id": "0a3faac7",
   "metadata": {},
   "outputs": [],
   "source": [
    "# L1 규제 사용 예시\n",
    "from sklearn.linear_model import LogisticRegression\n",
    "\n",
    "lr = LogisticRegression(penalty='l1', C=1.0, solver='liblinear')"
   ]
  },
  {
   "cell_type": "markdown",
   "id": "84d36787",
   "metadata": {},
   "source": [
    "### Ridge\n",
    "- L2 규제\n",
    "- 변수선택 불가능\n",
    "- 변수간 상관관계 높아도 좋은 성능 유지\n",
    "- 회귀계수가 0에 가까워짐 / 변수선택을 하는 모델은 아님"
   ]
  },
  {
   "cell_type": "markdown",
   "id": "156a441f",
   "metadata": {},
   "source": [
    "### Lasso\n",
    "- L1 규제\n",
    "- 변수선택 가능\n",
    "- 변수 선택을 통한 높은 해석력, 낮은 MSE\n",
    "- 상관성이 높은 변수가 있는 경우 오직 하나의 변수만 선택함"
   ]
  },
  {
   "cell_type": "markdown",
   "id": "45a3b728",
   "metadata": {},
   "source": [
    "### ElasticNet\n",
    "- L1 + L2 규제\n",
    "- 변수 선택 가능\n",
    "- 변수간 상관관계와 변수선택을 조합한 규제화로 해석력 좋음\n",
    "- 상관관계가 큰 변수 동시 선택/제거됌"
   ]
  },
  {
   "cell_type": "code",
   "execution_count": 55,
   "id": "68ad3b08",
   "metadata": {},
   "outputs": [
    {
     "data": {
      "text/plain": [
       "array([[-0.112 , -0.0399,  0.229 ,  0.6084]])"
      ]
     },
     "execution_count": 55,
     "metadata": {},
     "output_type": "execute_result"
    }
   ],
   "source": [
    "from sklearn.linear_model import Ridge, Lasso, ElasticNet\n",
    "X, y = df_iris()\n",
    "\n",
    "rr = Ridge(alpha=0.01)\n",
    "rr.fit(X, y)\n",
    "\n",
    "rr.coef_"
   ]
  },
  {
   "cell_type": "code",
   "execution_count": 54,
   "id": "87b2f795",
   "metadata": {},
   "outputs": [
    {
     "data": {
      "text/plain": [
       "array([-0.0597, -0.    ,  0.2655,  0.4719])"
      ]
     },
     "execution_count": 54,
     "metadata": {},
     "output_type": "execute_result"
    }
   ],
   "source": [
    "ll = Lasso(alpha=0.01)\n",
    "ll.fit(X, y)\n",
    "\n",
    "ll.coef_"
   ]
  },
  {
   "cell_type": "code",
   "execution_count": 56,
   "id": "ca20761a",
   "metadata": {},
   "outputs": [
    {
     "data": {
      "text/plain": [
       "array([-0.087 , -0.0147,  0.2676,  0.4926])"
      ]
     },
     "execution_count": 56,
     "metadata": {},
     "output_type": "execute_result"
    }
   ],
   "source": [
    "en = ElasticNet(alpha=0.01)\n",
    "en.fit(X, y)\n",
    "\n",
    "en.coef_"
   ]
  },
  {
   "cell_type": "code",
   "execution_count": null,
   "id": "562c95da",
   "metadata": {},
   "outputs": [],
   "source": []
  },
  {
   "cell_type": "markdown",
   "id": "40756179",
   "metadata": {},
   "source": [
    "# <font color='blue'>[Feature Selection]</font>"
   ]
  },
  {
   "cell_type": "markdown",
   "id": "d34709db",
   "metadata": {},
   "source": [
    "### 순차 특성 선택 알고리즘\n",
    "- 특성 선택을 통한 차원축소도 모델 복잡도를 낮추고 과대적합을 피하는 방법 중 하나다.\n",
    "    - 특히.. 규제를 쓸 수 없는 모델에서 유용하다.\n",
    "- 차원 축소 기법에는 두 개의 주요 카테고리가 있다.\n",
    "    - 특성 선택(feature selection): 원본 특성에서 일부를 선택하는 것\n",
    "    - 특성 추출(feature extraction): 일련의 특성에서 얻은 정보로 새로운 특성을 만드는 것\n",
    "\n",
    "> - 순차 특성 선택(sequential feature selection)은 '탐욕적 탐색 알고리즘(greedy search algorithm)'으로 초기 $d$차원의 특성 공간을 $k < d$인 $k$차원의 특성 부분 공간으로 축소한다.<br>\n",
    "> - 전통적 순차특성선택 알고리즘으로 순차 후진 선택(Sequential Backward Selection, SBS)가 있다."
   ]
  },
  {
   "cell_type": "code",
   "execution_count": 49,
   "id": "c743f82b",
   "metadata": {},
   "outputs": [],
   "source": [
    "# SBS 구현하기\n",
    "from sklearn.base import clone\n",
    "from itertools import combinations\n",
    "import numpy as np\n",
    "from sklearn.metrics import accuracy_score\n",
    "from sklearn.model_selection import train_test_split\n",
    "\n",
    "class SBS():\n",
    "    def __init__(self, estimator, k_features, scoring=accuracy_score,\n",
    "                test_size=0.25, random_state=1):\n",
    "        self.scoring = scoring\n",
    "        self.estimator = clone(estimator)\n",
    "        self.k_features = k_features\n",
    "        self.test_size = test_size\n",
    "        self.random_state = random_state\n",
    "        \n",
    "    def fit(self, X, y):\n",
    "        X_train, X_test, y_train, y_test = \\\n",
    "            train_test_split(X, y, test_size=self.test_size,\n",
    "                            random_state=self.random_state)\n",
    "        \n",
    "        dim = X_train.shape[1]\n",
    "        self.indices_ = tuple(range(dim))\n",
    "            # self.indicies_ = (0, 1, 2, ..., 11, 12) *feature개수 13개\n",
    "        self.subsets_ = [self.indices_]\n",
    "        score = self._calc_score(X_train, y_train,\n",
    "                                X_test, y_test, self.indices_)\n",
    "        self.scores_ = [score]\n",
    "        \n",
    "        while dim > self.k_features:\n",
    "            scores = []\n",
    "            subsets = []\n",
    "            \n",
    "            for p in combinations(self.indices_, r=dim - 1):\n",
    "                score = self._calc_score(X_train, y_train,\n",
    "                                        X_test, y_test, p)\n",
    "                scores.append(score) # 각 feature 조합의 score\n",
    "                subsets.append(p)  # feature의 조합\n",
    "            \n",
    "            best = np.argmax(scores)  # score리스트에서 score가 가장 높은 행의 index 반환\n",
    "            self.indices_ = subsets[best]  # subsets[best] = 가장 점수가 높은 feature 조합. => self.indices_가 된다. => 이 self.indices_는 dim - 1개의 feature 조합이고, 이게 다시 for문 위로 올라간다.\n",
    "            self.subsets_.append(self.indices_) #이 feature 조합을 self.subsets_에 저장한다.\n",
    "            dim -= 1\n",
    "            \n",
    "            self.scores_.append(scores[best])\n",
    "        self.k_score_ = self.scores_[-1]  # k개의 feature가 남았을 때의 score는 scores_ 리스트에 마지막으로 입력된 score다.\n",
    "        \n",
    "        return self\n",
    "    \n",
    "    def transform(self, X):\n",
    "        return X[:, self.indices_]\n",
    "    \n",
    "    def _calc_score(self, X_train, y_train, X_test, y_test, indices):\n",
    "        self.estimator.fit(X_train[:, indices], y_train)\n",
    "        y_pred = self.estimator.predict(X_test[:, indices])\n",
    "        score = self.scoring(y_test, y_pred)\n",
    "        return score"
   ]
  },
  {
   "cell_type": "code",
   "execution_count": 50,
   "id": "89e44c01",
   "metadata": {},
   "outputs": [],
   "source": [
    "X_train, X_test, y_train, y_test = df_wine()\n",
    "\n",
    "scaler = StandardScaler()\n",
    "X_train_std = scaler.fit_transform(X_train)"
   ]
  },
  {
   "cell_type": "code",
   "execution_count": 52,
   "id": "3e9dd445",
   "metadata": {},
   "outputs": [
    {
     "data": {
      "image/png": "[encoded data removed]",
      "text/plain": [
       "<Figure size 432x288 with 1 Axes>"
      ]
     },
     "metadata": {
      "needs_background": "light"
     },
     "output_type": "display_data"
    }
   ],
   "source": [
    "import matplotlib.pyplot as plt\n",
    "from sklearn.neighbors import KNeighborsClassifier\n",
    "\n",
    "knn = KNeighborsClassifier(n_neighbors=5)\n",
    "\n",
    "# 특성을 선택한다\n",
    "sbs = SBS(knn, k_features=1)\n",
    "sbs.fit(X_train_std, y_train)\n",
    "\n",
    "# 선택한 특성의 성능을 출력한다\n",
    "k_feat = [len(k) for k in sbs.subsets_]  # subsets_ 리스트에 담긴 원소들은 feature 조합의 원소 갯수다. => 이게 그래프의 x축이 된다.\n",
    "\n",
    "plt.plot(k_feat, sbs.scores_, marker='o')  # feature 조합 원소 갯수에 따라서 scores_ 가 어떻게 바뀌는지 보여준다\n",
    "plt.ylim([0.7, 1.02])\n",
    "plt.ylabel('Accuracy')\n",
    "plt.xlabel('Number of features')\n",
    "plt.grid()\n",
    "plt.tight_layout()\n",
    "\n",
    "plt.show()"
   ]
  },
  {
   "cell_type": "markdown",
   "id": "905fe99f",
   "metadata": {},
   "source": [
    "### Best AIC의 Feature combo 찾기"
   ]
  },
  {
   "cell_type": "code",
   "execution_count": 53,
   "id": "034203a8",
   "metadata": {},
   "outputs": [],
   "source": [
    "corolla = pd.read_csv('../fastcampus/Data/ToyotaCorolla.csv')\n",
    "\n",
    "# one-hot-encoding 'Fuel_Type'\n",
    "mlr_data = pd.get_dummies(corolla, columns=['Fuel_Type'])\n",
    "\n",
    "# rename column\n",
    "mlr_data.rename(columns = {'Fuel_Type_CNG': 'CNG', 'Fuel_Type_Diesel': 'Diesel', 'Fuel_Type_Petrol': 'Petrol'}, inplace=True)\n",
    "\n",
    "# dropping 'id' and 'model'\n",
    "mlr_data.drop(['Id', 'Model'], axis=1, inplace=True)\n",
    "\n",
    "# bias 추가\n",
    "mlr_data = sm.add_constant(mlr_data, has_constant='add')\n",
    "\n",
    "# train test split\n",
    "feature_columns = list(mlr_data.columns.difference(['Price']))\n",
    "X = mlr_data[feature_columns]\n",
    "y = mlr_data.Price\n",
    "train_x, test_x, train_y, test_y = train_test_split(X, y, train_size=0.7, test_size=0.3)\n",
    "\n",
    "# modelling and fitting\n",
    "full_model = sm.OLS(train_y, train_x)\n",
    "fitted_full_model = full_model.fit()"
   ]
  },
  {
   "cell_type": "code",
   "execution_count": 54,
   "id": "14ab7e1b",
   "metadata": {},
   "outputs": [
    {
     "name": "stdout",
     "output_type": "stream",
     "text": [
      "{'model': <statsmodels.regression.linear_model.RegressionResultsWrapper object at 0x16b3ba5e0>, 'AIC': 19072.811897610864}\n",
      "{'model': <statsmodels.regression.linear_model.RegressionResultsWrapper object at 0x16b268610>, 'AIC': 16841.690173967152}\n"
     ]
    }
   ],
   "source": [
    "# 1) X, y, feature를 받았을 때 AIC를 return하는 함수 정의\n",
    "def processSubset(X, y, feature_set):\n",
    "    model = sm.OLS(y, X[list(feature_set)])\n",
    "    regr = model.fit()\n",
    "    AIC = regr.aic\n",
    "    return {'model': regr, 'AIC': AIC}\n",
    "\n",
    "print(processSubset(X=train_x, y=train_y, feature_set=feature_columns[0:5]))\n",
    "print(processSubset(X=train_x, y=train_y, feature_set=feature_columns))"
   ]
  },
  {
   "cell_type": "code",
   "execution_count": 55,
   "id": "cc672909",
   "metadata": {},
   "outputs": [
    {
     "name": "stdout",
     "output_type": "stream",
     "text": [
      "Processed  630 models on 2 predictors in 0.23536205291748047 seconds.\n",
      "model    <statsmodels.regression.linear_model.Regressio...\n",
      "AIC                                            17430.15834\n",
      "Name: 211, dtype: object\n"
     ]
    }
   ],
   "source": [
    "# 2) 각각의 feature_columns 조합 중 가장 낮은 AIC를 가지는 모델 선택 및 저장하는 함수 정의\n",
    "\n",
    "import time\n",
    "import itertools\n",
    "\n",
    "def getBest(X, y, k):\n",
    "    tic = time.time() # 시작시간\n",
    "    results = []  # 결과 저장 공간\n",
    "    for combo in itertools.combinations(X.columns.difference(['const']), k):\n",
    "        combo = (list(combo) + ['const'])  # 상수열은 빼고 combo 만든 다음에, 다시 상수항을 콤보에 추가해준다. 왜냐면 상수항은 모든 콤보에 포함되어야 하기 때문\n",
    "        results.append(processSubset(X, y, feature_set=combo)) # 콤보 리스트를 feature set로 갖는 모델의 AIC값을 저장한다.\n",
    "    models = pd.DataFrame(results) # 데이터 프레임으로 변환\n",
    "    best_model = models.loc[models['AIC'].argmin()]\n",
    "        # models['AIC'].argmin() 은 AIC가 가장 낮은 행의 index를 가짐\n",
    "        # models.loc[위의 인덱스] 를 하면 best 행만 return\n",
    "    toc = time.time()   # 종료시간\n",
    "    print(\"Processed \", models.shape[0], \"models on\", k, \"predictors in\", (toc - tic), \"seconds.\")\n",
    "    return best_model\n",
    "\n",
    "print(getBest(X=train_x, y=train_y, k=2))"
   ]
  },
  {
   "cell_type": "code",
   "execution_count": 56,
   "id": "0e4318d4",
   "metadata": {},
   "outputs": [
    {
     "name": "stdout",
     "output_type": "stream",
     "text": [
      "Processed  36 models on 1 predictors in 0.0276181697845459 seconds.\n",
      "Processed  630 models on 2 predictors in 0.20201396942138672 seconds.\n",
      "Processed  7140 models on 3 predictors in 2.6587002277374268 seconds.\n",
      "Total elapsed time: 2.9634780883789062 seconds.\n"
     ]
    }
   ],
   "source": [
    "# 3) 변수 선택에 따른 학습시간 출력 & 모델 저장\n",
    "models = pd.DataFrame(columns=['AIC', 'model'])\n",
    "tic = time.time()\n",
    "for i in range(1,4):\n",
    "    models.loc[i] = getBest(X=train_x, y=train_y, k=i)\n",
    "toc = time.time()\n",
    "print(\"Total elapsed time:\", (toc - tic), \"seconds.\")"
   ]
  },
  {
   "cell_type": "code",
   "execution_count": 57,
   "id": "b335aeed",
   "metadata": {},
   "outputs": [
    {
     "data": {
      "text/html": [
       "<div>\n",
       "<style scoped>\n",
       "    .dataframe tbody tr th:only-of-type {\n",
       "        vertical-align: middle;\n",
       "    }\n",
       "\n",
       "    .dataframe tbody tr th {\n",
       "        vertical-align: top;\n",
       "    }\n",
       "\n",
       "    .dataframe thead th {\n",
       "        text-align: right;\n",
       "    }\n",
       "</style>\n",
       "<table border=\"1\" class=\"dataframe\">\n",
       "  <thead>\n",
       "    <tr style=\"text-align: right;\">\n",
       "      <th></th>\n",
       "      <th>AIC</th>\n",
       "      <th>model</th>\n",
       "    </tr>\n",
       "  </thead>\n",
       "  <tbody>\n",
       "    <tr>\n",
       "      <th>1</th>\n",
       "      <td>17704.365329</td>\n",
       "      <td>&lt;statsmodels.regression.linear_model.Regressio...</td>\n",
       "    </tr>\n",
       "    <tr>\n",
       "      <th>2</th>\n",
       "      <td>17430.158340</td>\n",
       "      <td>&lt;statsmodels.regression.linear_model.Regressio...</td>\n",
       "    </tr>\n",
       "    <tr>\n",
       "      <th>3</th>\n",
       "      <td>17245.383305</td>\n",
       "      <td>&lt;statsmodels.regression.linear_model.Regressio...</td>\n",
       "    </tr>\n",
       "  </tbody>\n",
       "</table>\n",
       "</div>"
      ],
      "text/plain": [
       "            AIC                                              model\n",
       "1  17704.365329  <statsmodels.regression.linear_model.Regressio...\n",
       "2  17430.158340  <statsmodels.regression.linear_model.Regressio...\n",
       "3  17245.383305  <statsmodels.regression.linear_model.Regressio..."
      ]
     },
     "execution_count": 57,
     "metadata": {},
     "output_type": "execute_result"
    }
   ],
   "source": [
    "models"
   ]
  },
  {
   "cell_type": "code",
   "execution_count": 58,
   "id": "1dd6da3a",
   "metadata": {},
   "outputs": [
    {
     "data": {
      "text/html": [
       "<table class=\"simpletable\">\n",
       "<caption>OLS Regression Results</caption>\n",
       "<tr>\n",
       "  <th>Dep. Variable:</th>          <td>Price</td>      <th>  R-squared:         </th> <td>   0.873</td> \n",
       "</tr>\n",
       "<tr>\n",
       "  <th>Model:</th>                   <td>OLS</td>       <th>  Adj. R-squared:    </th> <td>   0.872</td> \n",
       "</tr>\n",
       "<tr>\n",
       "  <th>Method:</th>             <td>Least Squares</td>  <th>  F-statistic:       </th> <td>   2287.</td> \n",
       "</tr>\n",
       "<tr>\n",
       "  <th>Date:</th>             <td>Mon, 23 Aug 2021</td> <th>  Prob (F-statistic):</th>  <td>  0.00</td>  \n",
       "</tr>\n",
       "<tr>\n",
       "  <th>Time:</th>                 <td>15:46:22</td>     <th>  Log-Likelihood:    </th> <td> -8618.7</td> \n",
       "</tr>\n",
       "<tr>\n",
       "  <th>No. Observations:</th>      <td>  1005</td>      <th>  AIC:               </th> <td>1.725e+04</td>\n",
       "</tr>\n",
       "<tr>\n",
       "  <th>Df Residuals:</th>          <td>  1001</td>      <th>  BIC:               </th> <td>1.727e+04</td>\n",
       "</tr>\n",
       "<tr>\n",
       "  <th>Df Model:</th>              <td>     3</td>      <th>                     </th>     <td> </td>    \n",
       "</tr>\n",
       "<tr>\n",
       "  <th>Covariance Type:</th>      <td>nonrobust</td>    <th>                     </th>     <td> </td>    \n",
       "</tr>\n",
       "</table>\n",
       "<table class=\"simpletable\">\n",
       "<tr>\n",
       "      <td></td>        <th>coef</th>     <th>std err</th>      <th>t</th>      <th>P>|t|</th>  <th>[0.025</th>    <th>0.975]</th>  \n",
       "</tr>\n",
       "<tr>\n",
       "  <th>KM</th>       <td>   -0.0223</td> <td>    0.001</td> <td>  -17.248</td> <td> 0.000</td> <td>   -0.025</td> <td>   -0.020</td>\n",
       "</tr>\n",
       "<tr>\n",
       "  <th>Mfg_Year</th> <td> 1495.7555</td> <td>   35.963</td> <td>   41.591</td> <td> 0.000</td> <td> 1425.183</td> <td> 1566.328</td>\n",
       "</tr>\n",
       "<tr>\n",
       "  <th>Weight</th>   <td>   19.8022</td> <td>    0.949</td> <td>   20.872</td> <td> 0.000</td> <td>   17.940</td> <td>   21.664</td>\n",
       "</tr>\n",
       "<tr>\n",
       "  <th>const</th>    <td>    -3e+06</td> <td> 7.14e+04</td> <td>  -41.998</td> <td> 0.000</td> <td>-3.14e+06</td> <td>-2.86e+06</td>\n",
       "</tr>\n",
       "</table>\n",
       "<table class=\"simpletable\">\n",
       "<tr>\n",
       "  <th>Omnibus:</th>       <td>148.584</td> <th>  Durbin-Watson:     </th> <td>   2.000</td>\n",
       "</tr>\n",
       "<tr>\n",
       "  <th>Prob(Omnibus):</th> <td> 0.000</td>  <th>  Jarque-Bera (JB):  </th> <td>1554.398</td>\n",
       "</tr>\n",
       "<tr>\n",
       "  <th>Skew:</th>          <td>-0.275</td>  <th>  Prob(JB):          </th> <td>    0.00</td>\n",
       "</tr>\n",
       "<tr>\n",
       "  <th>Kurtosis:</th>      <td> 9.068</td>  <th>  Cond. No.          </th> <td>1.39e+08</td>\n",
       "</tr>\n",
       "</table><br/><br/>Notes:<br/>[1] Standard Errors assume that the covariance matrix of the errors is correctly specified.<br/>[2] The condition number is large, 1.39e+08. This might indicate that there are<br/>strong multicollinearity or other numerical problems."
      ],
      "text/plain": [
       "<class 'statsmodels.iolib.summary.Summary'>\n",
       "\"\"\"\n",
       "                            OLS Regression Results                            \n",
       "==============================================================================\n",
       "Dep. Variable:                  Price   R-squared:                       0.873\n",
       "Model:                            OLS   Adj. R-squared:                  0.872\n",
       "Method:                 Least Squares   F-statistic:                     2287.\n",
       "Date:                Mon, 23 Aug 2021   Prob (F-statistic):               0.00\n",
       "Time:                        15:46:22   Log-Likelihood:                -8618.7\n",
       "No. Observations:                1005   AIC:                         1.725e+04\n",
       "Df Residuals:                    1001   BIC:                         1.727e+04\n",
       "Df Model:                           3                                         \n",
       "Covariance Type:            nonrobust                                         \n",
       "==============================================================================\n",
       "                 coef    std err          t      P>|t|      [0.025      0.975]\n",
       "------------------------------------------------------------------------------\n",
       "KM            -0.0223      0.001    -17.248      0.000      -0.025      -0.020\n",
       "Mfg_Year    1495.7555     35.963     41.591      0.000    1425.183    1566.328\n",
       "Weight        19.8022      0.949     20.872      0.000      17.940      21.664\n",
       "const          -3e+06   7.14e+04    -41.998      0.000   -3.14e+06   -2.86e+06\n",
       "==============================================================================\n",
       "Omnibus:                      148.584   Durbin-Watson:                   2.000\n",
       "Prob(Omnibus):                  0.000   Jarque-Bera (JB):             1554.398\n",
       "Skew:                          -0.275   Prob(JB):                         0.00\n",
       "Kurtosis:                       9.068   Cond. No.                     1.39e+08\n",
       "==============================================================================\n",
       "\n",
       "Notes:\n",
       "[1] Standard Errors assume that the covariance matrix of the errors is correctly specified.\n",
       "[2] The condition number is large, 1.39e+08. This might indicate that there are\n",
       "strong multicollinearity or other numerical problems.\n",
       "\"\"\""
      ]
     },
     "execution_count": 58,
     "metadata": {},
     "output_type": "execute_result"
    }
   ],
   "source": [
    "# summary로 모델 성능지표 확인\n",
    "models.loc[3, 'model'].summary()"
   ]
  },
  {
   "cell_type": "code",
   "execution_count": null,
   "id": "fab7d668",
   "metadata": {},
   "outputs": [],
   "source": []
  },
  {
   "cell_type": "markdown",
   "id": "6b9bd6c2",
   "metadata": {},
   "source": [
    "### (1) Forward Selection"
   ]
  },
  {
   "cell_type": "code",
   "execution_count": 59,
   "id": "4eeac24e",
   "metadata": {},
   "outputs": [],
   "source": [
    "# 1) 전진선택법을 위한 함수 정의\n",
    "\n",
    "def forward(X, y, predictors):\n",
    "    # 데이터 변수들이 미리 정의된 predictors에 있는지 없는지 확인 및 분류\n",
    "    remaining_predictors = [p for p in X.columns.difference(['const']) if p not in predictors]\n",
    "        # 상수항을 뺀 X의 모든 칼럼들 중 'predictors'라는 리스트에\n",
    "            # 없는 칼럼들을 모두 'remainig_predictors'라는 리스트에 넣는다.\n",
    "    tic = time.time()\n",
    "    results = []\n",
    "    for p in remaining_predictors:\n",
    "        results.append(processSubset(X, y, feature_set=predictors+[p]+['const']))\n",
    "        # remaining_predictors에 있는 값들을 하나씩\n",
    "        # 기존 predictors 리스트에 추가하고 상수항도 추가해서 AIC 값을 내고,\n",
    "        # 그 값을 results 리스트에 추가한다.\n",
    "    \n",
    "    # df로 변환\n",
    "    models = pd.DataFrame(results)\n",
    "    \n",
    "    # AIC가 가장 낮은 것을 선택\n",
    "    best_model = models.loc[models['AIC'].argmin()]\n",
    "    toc = time.time()\n",
    "    \n",
    "    print(\"Processed \", models.shape[0], \"models on\", len(predictors)+1, \"predictors in\", (toc-tic), \"seconds.\")\n",
    "    print(\"Selected predictors: \", best_model['model'].model.exog_names, '\\nAIC: ', best_model[0])\n",
    "    return best_model"
   ]
  },
  {
   "cell_type": "code",
   "execution_count": 60,
   "id": "2a196837",
   "metadata": {},
   "outputs": [],
   "source": [
    "# 2) 전진선택법 모델 정의\n",
    "\n",
    "def forward_model(X, y):\n",
    "    Fmodels = pd.DataFrame(columns=['AIC', 'model'])\n",
    "    tic = time.time()\n",
    "    \n",
    "    # 변수가 10개면 10개가 될때까지 forward하기.\n",
    "        # 하지만 중간에 변수가 추가되면서 AIC가 낮아지면 break\n",
    "    predictors = []\n",
    "    for i in range(1, len(X.columns.difference(['const'])) + 1):\n",
    "        Forward_result = forward(X, y, predictors=predictors)\n",
    "        # Forward_result에 저장된 값은 'predictors'에 대해 best AIC model\n",
    "        if i > 1:\n",
    "            if Forward_result['AIC'] > Fmodel_before:\n",
    "                break  # 이번 AIC값이 이전 값보다 높으면 break\n",
    "                \n",
    "        Fmodels.loc[i] = Forward_result # Fmodels 행마다 'AIC','Model 저장'\n",
    "        predictors = Fmodels.loc[i][\"model\"].model.exog_names # forward_result의 predictors(feature_columns)를 저장.\n",
    "        Fmodel_before = Fmodels.loc[i][\"AIC\"]  # before에는 AIC값 저장\n",
    "        predictors = [k for k in predictors if k != 'const']\n",
    "            # predictors 리스트 내의 'const'가 아닌 모든 feature_columns를 저장\n",
    "    toc = time.time()\n",
    "    \n",
    "    print(\"Total elapsed time:\", (toc-tic), \"seconds.\")\n",
    "    \n",
    "    return(Fmodels['model'][len(Fmodels['model'])])\n",
    "        # Fmodels의 'model' column에서 가장 마지막 인덱스를 return"
   ]
  },
  {
   "cell_type": "code",
   "execution_count": 61,
   "id": "493035b8",
   "metadata": {},
   "outputs": [
    {
     "name": "stdout",
     "output_type": "stream",
     "text": [
      "Processed  36 models on 1 predictors in 0.02967214584350586 seconds.\n",
      "Selected predictors:  ['Mfg_Year', 'const'] \n",
      "AIC:  <statsmodels.regression.linear_model.RegressionResultsWrapper object at 0x16a2387c0>\n",
      "Processed  35 models on 2 predictors in 0.01640605926513672 seconds.\n",
      "Selected predictors:  ['Mfg_Year', 'Automatic_airco', 'const'] \n",
      "AIC:  <statsmodels.regression.linear_model.RegressionResultsWrapper object at 0x16a238550>\n",
      "Processed  34 models on 3 predictors in 0.016804218292236328 seconds.\n",
      "Selected predictors:  ['Mfg_Year', 'Automatic_airco', 'HP', 'const'] \n",
      "AIC:  <statsmodels.regression.linear_model.RegressionResultsWrapper object at 0x16925b940>\n",
      "Processed  33 models on 4 predictors in 0.015518903732299805 seconds.\n",
      "Selected predictors:  ['Mfg_Year', 'Automatic_airco', 'HP', 'Weight', 'const'] \n",
      "AIC:  <statsmodels.regression.linear_model.RegressionResultsWrapper object at 0x16a1cb100>\n",
      "Processed  32 models on 5 predictors in 0.013952016830444336 seconds.\n",
      "Selected predictors:  ['Mfg_Year', 'Automatic_airco', 'HP', 'Weight', 'KM', 'const'] \n",
      "AIC:  <statsmodels.regression.linear_model.RegressionResultsWrapper object at 0x16b05df10>\n",
      "Processed  31 models on 6 predictors in 0.013442277908325195 seconds.\n",
      "Selected predictors:  ['Mfg_Year', 'Automatic_airco', 'HP', 'Weight', 'KM', 'Powered_Windows', 'const'] \n",
      "AIC:  <statsmodels.regression.linear_model.RegressionResultsWrapper object at 0x2a63e4430>\n",
      "Processed  30 models on 7 predictors in 0.013481378555297852 seconds.\n",
      "Selected predictors:  ['Mfg_Year', 'Automatic_airco', 'HP', 'Weight', 'KM', 'Powered_Windows', 'cc', 'const'] \n",
      "AIC:  <statsmodels.regression.linear_model.RegressionResultsWrapper object at 0x16a22f2b0>\n",
      "Processed  29 models on 8 predictors in 0.013985157012939453 seconds.\n",
      "Selected predictors:  ['Mfg_Year', 'Automatic_airco', 'HP', 'Weight', 'KM', 'Powered_Windows', 'cc', 'Diesel', 'const'] \n",
      "AIC:  <statsmodels.regression.linear_model.RegressionResultsWrapper object at 0x16b26b640>\n",
      "Processed  28 models on 9 predictors in 0.021129131317138672 seconds.\n",
      "Selected predictors:  ['Mfg_Year', 'Automatic_airco', 'HP', 'Weight', 'KM', 'Powered_Windows', 'cc', 'Diesel', 'BOVAG_Guarantee', 'const'] \n",
      "AIC:  <statsmodels.regression.linear_model.RegressionResultsWrapper object at 0x17ad92910>\n",
      "Processed  27 models on 10 predictors in 0.021885156631469727 seconds.\n",
      "Selected predictors:  ['Mfg_Year', 'Automatic_airco', 'HP', 'Weight', 'KM', 'Powered_Windows', 'cc', 'Diesel', 'BOVAG_Guarantee', 'Guarantee_Period', 'const'] \n",
      "AIC:  <statsmodels.regression.linear_model.RegressionResultsWrapper object at 0x16ba18280>\n",
      "Processed  26 models on 11 predictors in 0.026538610458374023 seconds.\n",
      "Selected predictors:  ['Mfg_Year', 'Automatic_airco', 'HP', 'Weight', 'KM', 'Powered_Windows', 'cc', 'Diesel', 'BOVAG_Guarantee', 'Guarantee_Period', 'Sport_Model', 'const'] \n",
      "AIC:  <statsmodels.regression.linear_model.RegressionResultsWrapper object at 0x16a22fd90>\n",
      "Processed  25 models on 12 predictors in 0.026880979537963867 seconds.\n",
      "Selected predictors:  ['Mfg_Year', 'Automatic_airco', 'HP', 'Weight', 'KM', 'Powered_Windows', 'cc', 'Diesel', 'BOVAG_Guarantee', 'Guarantee_Period', 'Sport_Model', 'Mfr_Guarantee', 'const'] \n",
      "AIC:  <statsmodels.regression.linear_model.RegressionResultsWrapper object at 0x16ba182e0>\n",
      "Processed  24 models on 13 predictors in 0.02875494956970215 seconds.\n",
      "Selected predictors:  ['Mfg_Year', 'Automatic_airco', 'HP', 'Weight', 'KM', 'Powered_Windows', 'cc', 'Diesel', 'BOVAG_Guarantee', 'Guarantee_Period', 'Sport_Model', 'Mfr_Guarantee', 'Quarterly_Tax', 'const'] \n",
      "AIC:  <statsmodels.regression.linear_model.RegressionResultsWrapper object at 0x16a24b430>\n",
      "Processed  23 models on 14 predictors in 0.02983880043029785 seconds.\n",
      "Selected predictors:  ['Mfg_Year', 'Automatic_airco', 'HP', 'Weight', 'KM', 'Powered_Windows', 'cc', 'Diesel', 'BOVAG_Guarantee', 'Guarantee_Period', 'Sport_Model', 'Mfr_Guarantee', 'Quarterly_Tax', 'Petrol', 'const'] \n",
      "AIC:  <statsmodels.regression.linear_model.RegressionResultsWrapper object at 0x2a63e40a0>\n",
      "Processed  22 models on 15 predictors in 0.02904820442199707 seconds.\n",
      "Selected predictors:  ['Mfg_Year', 'Automatic_airco', 'HP', 'Weight', 'KM', 'Powered_Windows', 'cc', 'Diesel', 'BOVAG_Guarantee', 'Guarantee_Period', 'Sport_Model', 'Mfr_Guarantee', 'Quarterly_Tax', 'Petrol', 'Boardcomputer', 'const'] \n",
      "AIC:  <statsmodels.regression.linear_model.RegressionResultsWrapper object at 0x16ba18520>\n",
      "Processed  21 models on 16 predictors in 0.0423281192779541 seconds.\n",
      "Selected predictors:  ['Mfg_Year', 'Automatic_airco', 'HP', 'Weight', 'KM', 'Powered_Windows', 'cc', 'Diesel', 'BOVAG_Guarantee', 'Guarantee_Period', 'Sport_Model', 'Mfr_Guarantee', 'Quarterly_Tax', 'Petrol', 'Boardcomputer', 'ABS', 'const'] \n",
      "AIC:  <statsmodels.regression.linear_model.RegressionResultsWrapper object at 0x16a24b340>\n",
      "Processed  20 models on 17 predictors in 0.03428077697753906 seconds.\n",
      "Selected predictors:  ['Mfg_Year', 'Automatic_airco', 'HP', 'Weight', 'KM', 'Powered_Windows', 'cc', 'Diesel', 'BOVAG_Guarantee', 'Guarantee_Period', 'Sport_Model', 'Mfr_Guarantee', 'Quarterly_Tax', 'Petrol', 'Boardcomputer', 'ABS', 'Airco', 'const'] \n",
      "AIC:  <statsmodels.regression.linear_model.RegressionResultsWrapper object at 0x2a63e4dc0>\n",
      "Processed  19 models on 18 predictors in 0.0814208984375 seconds.\n",
      "Selected predictors:  ['Mfg_Year', 'Automatic_airco', 'HP', 'Weight', 'KM', 'Powered_Windows', 'cc', 'Diesel', 'BOVAG_Guarantee', 'Guarantee_Period', 'Sport_Model', 'Mfr_Guarantee', 'Quarterly_Tax', 'Petrol', 'Boardcomputer', 'ABS', 'Airco', 'Radio', 'const'] \n",
      "AIC:  <statsmodels.regression.linear_model.RegressionResultsWrapper object at 0x16a1cbc10>\n",
      "Processed  18 models on 19 predictors in 0.04753589630126953 seconds.\n",
      "Selected predictors:  ['Mfg_Year', 'Automatic_airco', 'HP', 'Weight', 'KM', 'Powered_Windows', 'cc', 'Diesel', 'BOVAG_Guarantee', 'Guarantee_Period', 'Sport_Model', 'Mfr_Guarantee', 'Quarterly_Tax', 'Petrol', 'Boardcomputer', 'ABS', 'Airco', 'Radio', 'Automatic', 'const'] \n",
      "AIC:  <statsmodels.regression.linear_model.RegressionResultsWrapper object at 0x16a1cba30>\n",
      "Processed  17 models on 20 predictors in 0.0375218391418457 seconds.\n",
      "Selected predictors:  ['Mfg_Year', 'Automatic_airco', 'HP', 'Weight', 'KM', 'Powered_Windows', 'cc', 'Diesel', 'BOVAG_Guarantee', 'Guarantee_Period', 'Sport_Model', 'Mfr_Guarantee', 'Quarterly_Tax', 'Petrol', 'Boardcomputer', 'ABS', 'Airco', 'Radio', 'Automatic', 'Tow_Bar', 'const'] \n",
      "AIC:  <statsmodels.regression.linear_model.RegressionResultsWrapper object at 0x16a1cb6a0>\n",
      "Processed  16 models on 21 predictors in 0.035017967224121094 seconds.\n",
      "Selected predictors:  ['Mfg_Year', 'Automatic_airco', 'HP', 'Weight', 'KM', 'Powered_Windows', 'cc', 'Diesel', 'BOVAG_Guarantee', 'Guarantee_Period', 'Sport_Model', 'Mfr_Guarantee', 'Quarterly_Tax', 'Petrol', 'Boardcomputer', 'ABS', 'Airco', 'Radio', 'Automatic', 'Tow_Bar', 'CD_Player', 'const'] \n",
      "AIC:  <statsmodels.regression.linear_model.RegressionResultsWrapper object at 0x16ba180a0>\n",
      "Processed  15 models on 22 predictors in 0.04365372657775879 seconds.\n",
      "Selected predictors:  ['Mfg_Year', 'Automatic_airco', 'HP', 'Weight', 'KM', 'Powered_Windows', 'cc', 'Diesel', 'BOVAG_Guarantee', 'Guarantee_Period', 'Sport_Model', 'Mfr_Guarantee', 'Quarterly_Tax', 'Petrol', 'Boardcomputer', 'ABS', 'Airco', 'Radio', 'Automatic', 'Tow_Bar', 'CD_Player', 'Airbag_2', 'const'] \n",
      "AIC:  <statsmodels.regression.linear_model.RegressionResultsWrapper object at 0x16a2385e0>\n",
      "Processed  14 models on 23 predictors in 0.03620290756225586 seconds.\n",
      "Selected predictors:  ['Mfg_Year', 'Automatic_airco', 'HP', 'Weight', 'KM', 'Powered_Windows', 'cc', 'Diesel', 'BOVAG_Guarantee', 'Guarantee_Period', 'Sport_Model', 'Mfr_Guarantee', 'Quarterly_Tax', 'Petrol', 'Boardcomputer', 'ABS', 'Airco', 'Radio', 'Automatic', 'Tow_Bar', 'CD_Player', 'Airbag_2', 'Doors', 'const'] \n",
      "AIC:  <statsmodels.regression.linear_model.RegressionResultsWrapper object at 0x16a1d8b80>\n",
      "Processed  13 models on 24 predictors in 0.052993059158325195 seconds.\n",
      "Selected predictors:  ['Mfg_Year', 'Automatic_airco', 'HP', 'Weight', 'KM', 'Powered_Windows', 'cc', 'Diesel', 'BOVAG_Guarantee', 'Guarantee_Period', 'Sport_Model', 'Mfr_Guarantee', 'Quarterly_Tax', 'Petrol', 'Boardcomputer', 'ABS', 'Airco', 'Radio', 'Automatic', 'Tow_Bar', 'CD_Player', 'Airbag_2', 'Doors', 'Cylinders', 'const'] \n",
      "AIC:  <statsmodels.regression.linear_model.RegressionResultsWrapper object at 0x16ae37a90>\n",
      "Processed  12 models on 25 predictors in 0.034522056579589844 seconds.\n",
      "Selected predictors:  ['Mfg_Year', 'Automatic_airco', 'HP', 'Weight', 'KM', 'Powered_Windows', 'cc', 'Diesel', 'BOVAG_Guarantee', 'Guarantee_Period', 'Sport_Model', 'Mfr_Guarantee', 'Quarterly_Tax', 'Petrol', 'Boardcomputer', 'ABS', 'Airco', 'Radio', 'Automatic', 'Tow_Bar', 'CD_Player', 'Airbag_2', 'Doors', 'Cylinders', 'CNG', 'const'] \n",
      "AIC:  <statsmodels.regression.linear_model.RegressionResultsWrapper object at 0x17ad924f0>\n",
      "Processed  11 models on 26 predictors in 0.038140058517456055 seconds.\n",
      "Selected predictors:  ['Mfg_Year', 'Automatic_airco', 'HP', 'Weight', 'KM', 'Powered_Windows', 'cc', 'Diesel', 'BOVAG_Guarantee', 'Guarantee_Period', 'Sport_Model', 'Mfr_Guarantee', 'Quarterly_Tax', 'Petrol', 'Boardcomputer', 'ABS', 'Airco', 'Radio', 'Automatic', 'Tow_Bar', 'CD_Player', 'Airbag_2', 'Doors', 'Cylinders', 'CNG', 'Backseat_Divider', 'const'] \n",
      "AIC:  <statsmodels.regression.linear_model.RegressionResultsWrapper object at 0x16ba183d0>\n",
      "Total elapsed time: 0.8364353179931641 seconds.\n"
     ]
    }
   ],
   "source": [
    "Forward_best_model = forward_model(X=train_x, y= train_y)"
   ]
  },
  {
   "cell_type": "code",
   "execution_count": 62,
   "id": "bf871065",
   "metadata": {},
   "outputs": [
    {
     "data": {
      "text/plain": [
       "16828.026479387612"
      ]
     },
     "execution_count": 62,
     "metadata": {},
     "output_type": "execute_result"
    }
   ],
   "source": [
    "Forward_best_model.aic"
   ]
  },
  {
   "cell_type": "markdown",
   "id": "6b9f78ce",
   "metadata": {},
   "source": [
    "### (2) Backward Elimination"
   ]
  },
  {
   "cell_type": "code",
   "execution_count": 63,
   "id": "6ed9ec49",
   "metadata": {},
   "outputs": [],
   "source": [
    "# 1) 후진소거법 함수 정의\n",
    "\n",
    "def backward(X, y, predictors):\n",
    "    tic = time.time()\n",
    "    results = []\n",
    "    \n",
    "    for combo in itertools.combinations(predictors, len(predictors) - 1):\n",
    "        results.append(processSubset(X, y, feature_set=list(combo)+['const']))\n",
    "        # processSubset은.. AIC값을 return하는 함수\n",
    "    # df 변환\n",
    "    models = pd.DataFrame(results)\n",
    "    # 가장 낮은 AIC의 모델을 선택\n",
    "    best_model = models.loc[models['AIC'].argmin()]\n",
    "    toc = time.time()\n",
    "    \n",
    "    print(\"Processed \", models.shape[0], \"models on\", len(predictors) - 1, \"predictors in\",\n",
    "          (toc - tic))\n",
    "    print('Selected predictors:',best_model['model'].model.exog_names,' AIC:',best_model[0] )\n",
    "    return best_model"
   ]
  },
  {
   "cell_type": "code",
   "execution_count": 64,
   "id": "c9fbdc1e",
   "metadata": {},
   "outputs": [],
   "source": [
    "# 2) 후진소거법 모델 정의\n",
    "\n",
    "def backward_model(X, y):\n",
    "    Bmodels = pd.DataFrame(columns=['AIC', 'model'], index = range(1, len(X.columns)))\n",
    "    tic = time.time()\n",
    "    predictors = X.columns.difference(['const'])\n",
    "    Bmodel_before = processSubset(X, y, predictors)['AIC']\n",
    "    # 모든 features를 넣었을 때의 초기 AIC값 = Bmodel_before\n",
    "    \n",
    "    while (len(predictors) > 1):\n",
    "        Backward_result = backward(X, y, predictors=predictors)\n",
    "        if Backward_result['AIC'] > Bmodel_before:\n",
    "            break\n",
    "        Bmodels.loc[len(predictors) - 1] = Backward_result\n",
    "        predictors = Bmodels.loc[len(predictors) - 1]['model'].model.exog_names\n",
    "        Bmodel_before = Backward_result['AIC']\n",
    "        predictors = [k for k in predictors if k != 'const']\n",
    "            \n",
    "    toc = time.time()\n",
    "    print(\"Total elapsed time:\", (toc-tic), \"seconds.\")\n",
    "    return (Bmodels['model'].dropna().iloc[0])"
   ]
  },
  {
   "cell_type": "code",
   "execution_count": 65,
   "id": "6394c3a7",
   "metadata": {},
   "outputs": [
    {
     "name": "stdout",
     "output_type": "stream",
     "text": [
      "Processed  36 models on 35 predictors in 0.21935319900512695\n",
      "Selected predictors: ['ABS', 'Age_08_04', 'Airbag_1', 'Airbag_2', 'Airco', 'Automatic', 'Automatic_airco', 'BOVAG_Guarantee', 'Backseat_Divider', 'Boardcomputer', 'CD_Player', 'CNG', 'Central_Lock', 'Cylinders', 'Diesel', 'Doors', 'Gears', 'Guarantee_Period', 'HP', 'KM', 'Met_Color', 'Metallic_Rim', 'Mfg_Month', 'Mfg_Year', 'Mfr_Guarantee', 'Petrol', 'Power_Steering', 'Powered_Windows', 'Quarterly_Tax', 'Radio', 'Radio_cassette', 'Sport_Model', 'Tow_Bar', 'Weight', 'cc', 'const']  AIC: <statsmodels.regression.linear_model.RegressionResultsWrapper object at 0x16a1d84f0>\n",
      "Processed  35 models on 34 predictors in 0.14271211624145508\n",
      "Selected predictors: ['ABS', 'Age_08_04', 'Airbag_1', 'Airbag_2', 'Airco', 'Automatic', 'Automatic_airco', 'BOVAG_Guarantee', 'Backseat_Divider', 'Boardcomputer', 'CD_Player', 'CNG', 'Central_Lock', 'Cylinders', 'Diesel', 'Doors', 'Guarantee_Period', 'HP', 'KM', 'Met_Color', 'Metallic_Rim', 'Mfg_Month', 'Mfg_Year', 'Mfr_Guarantee', 'Petrol', 'Power_Steering', 'Powered_Windows', 'Quarterly_Tax', 'Radio', 'Radio_cassette', 'Sport_Model', 'Tow_Bar', 'Weight', 'cc', 'const']  AIC: <statsmodels.regression.linear_model.RegressionResultsWrapper object at 0x2a63e45e0>\n",
      "Processed  34 models on 33 predictors in 0.2193310260772705\n",
      "Selected predictors: ['ABS', 'Age_08_04', 'Airbag_1', 'Airbag_2', 'Airco', 'Automatic', 'Automatic_airco', 'BOVAG_Guarantee', 'Backseat_Divider', 'Boardcomputer', 'CD_Player', 'CNG', 'Central_Lock', 'Cylinders', 'Diesel', 'Doors', 'Guarantee_Period', 'HP', 'KM', 'Met_Color', 'Metallic_Rim', 'Mfg_Month', 'Mfg_Year', 'Mfr_Guarantee', 'Petrol', 'Powered_Windows', 'Quarterly_Tax', 'Radio', 'Radio_cassette', 'Sport_Model', 'Tow_Bar', 'Weight', 'cc', 'const']  AIC: <statsmodels.regression.linear_model.RegressionResultsWrapper object at 0x16a1d8100>\n",
      "Processed  33 models on 32 predictors in 0.20328283309936523\n",
      "Selected predictors: ['ABS', 'Age_08_04', 'Airbag_1', 'Airbag_2', 'Airco', 'Automatic', 'Automatic_airco', 'BOVAG_Guarantee', 'Backseat_Divider', 'Boardcomputer', 'CD_Player', 'CNG', 'Central_Lock', 'Cylinders', 'Diesel', 'Doors', 'Guarantee_Period', 'HP', 'KM', 'Met_Color', 'Metallic_Rim', 'Mfg_Month', 'Mfg_Year', 'Mfr_Guarantee', 'Petrol', 'Powered_Windows', 'Quarterly_Tax', 'Radio', 'Sport_Model', 'Tow_Bar', 'Weight', 'cc', 'const']  AIC: <statsmodels.regression.linear_model.RegressionResultsWrapper object at 0x16b6d66d0>\n",
      "Processed  32 models on 31 predictors in 0.1436009407043457\n",
      "Selected predictors: ['ABS', 'Age_08_04', 'Airbag_1', 'Airbag_2', 'Airco', 'Automatic', 'Automatic_airco', 'BOVAG_Guarantee', 'Backseat_Divider', 'Boardcomputer', 'CD_Player', 'CNG', 'Central_Lock', 'Cylinders', 'Diesel', 'Doors', 'Guarantee_Period', 'HP', 'KM', 'Metallic_Rim', 'Mfg_Month', 'Mfg_Year', 'Mfr_Guarantee', 'Petrol', 'Powered_Windows', 'Quarterly_Tax', 'Radio', 'Sport_Model', 'Tow_Bar', 'Weight', 'cc', 'const']  AIC: <statsmodels.regression.linear_model.RegressionResultsWrapper object at 0x2a63e45b0>\n",
      "Processed  31 models on 30 predictors in 0.1674649715423584\n",
      "Selected predictors: ['ABS', 'Age_08_04', 'Airbag_1', 'Airbag_2', 'Airco', 'Automatic', 'Automatic_airco', 'BOVAG_Guarantee', 'Backseat_Divider', 'Boardcomputer', 'CD_Player', 'CNG', 'Cylinders', 'Diesel', 'Doors', 'Guarantee_Period', 'HP', 'KM', 'Metallic_Rim', 'Mfg_Month', 'Mfg_Year', 'Mfr_Guarantee', 'Petrol', 'Powered_Windows', 'Quarterly_Tax', 'Radio', 'Sport_Model', 'Tow_Bar', 'Weight', 'cc', 'const']  AIC: <statsmodels.regression.linear_model.RegressionResultsWrapper object at 0x16a22f910>\n",
      "Processed  30 models on 29 predictors in 0.14548206329345703\n",
      "Selected predictors: ['ABS', 'Age_08_04', 'Airbag_2', 'Airco', 'Automatic', 'Automatic_airco', 'BOVAG_Guarantee', 'Backseat_Divider', 'Boardcomputer', 'CD_Player', 'CNG', 'Cylinders', 'Diesel', 'Doors', 'Guarantee_Period', 'HP', 'KM', 'Metallic_Rim', 'Mfg_Month', 'Mfg_Year', 'Mfr_Guarantee', 'Petrol', 'Powered_Windows', 'Quarterly_Tax', 'Radio', 'Sport_Model', 'Tow_Bar', 'Weight', 'cc', 'const']  AIC: <statsmodels.regression.linear_model.RegressionResultsWrapper object at 0x16a238370>\n",
      "Processed  29 models on 28 predictors in 0.1540381908416748\n",
      "Selected predictors: ['ABS', 'Age_08_04', 'Airbag_2', 'Airco', 'Automatic', 'Automatic_airco', 'BOVAG_Guarantee', 'Backseat_Divider', 'Boardcomputer', 'CD_Player', 'CNG', 'Cylinders', 'Diesel', 'Doors', 'Guarantee_Period', 'HP', 'KM', 'Mfg_Month', 'Mfg_Year', 'Mfr_Guarantee', 'Petrol', 'Powered_Windows', 'Quarterly_Tax', 'Radio', 'Sport_Model', 'Tow_Bar', 'Weight', 'cc', 'const']  AIC: <statsmodels.regression.linear_model.RegressionResultsWrapper object at 0x17ad92370>\n",
      "Processed  28 models on 27 predictors in 0.08901405334472656\n",
      "Selected predictors: ['ABS', 'Age_08_04', 'Airbag_2', 'Airco', 'Automatic', 'Automatic_airco', 'BOVAG_Guarantee', 'Boardcomputer', 'CD_Player', 'CNG', 'Cylinders', 'Diesel', 'Doors', 'Guarantee_Period', 'HP', 'KM', 'Mfg_Month', 'Mfg_Year', 'Mfr_Guarantee', 'Petrol', 'Powered_Windows', 'Quarterly_Tax', 'Radio', 'Sport_Model', 'Tow_Bar', 'Weight', 'cc', 'const']  AIC: <statsmodels.regression.linear_model.RegressionResultsWrapper object at 0x16a1cbf70>\n",
      "Processed  27 models on 26 predictors in 0.11678385734558105\n",
      "Selected predictors: ['ABS', 'Age_08_04', 'Airbag_2', 'Airco', 'Automatic', 'Automatic_airco', 'BOVAG_Guarantee', 'Boardcomputer', 'CD_Player', 'CNG', 'Cylinders', 'Diesel', 'Guarantee_Period', 'HP', 'KM', 'Mfg_Month', 'Mfg_Year', 'Mfr_Guarantee', 'Petrol', 'Powered_Windows', 'Quarterly_Tax', 'Radio', 'Sport_Model', 'Tow_Bar', 'Weight', 'cc', 'const']  AIC: <statsmodels.regression.linear_model.RegressionResultsWrapper object at 0x16a22f0a0>\n",
      "Processed  26 models on 25 predictors in 0.08169078826904297\n",
      "Selected predictors: ['Age_08_04', 'Airbag_2', 'Airco', 'Automatic', 'Automatic_airco', 'BOVAG_Guarantee', 'Boardcomputer', 'CD_Player', 'CNG', 'Cylinders', 'Diesel', 'Guarantee_Period', 'HP', 'KM', 'Mfg_Month', 'Mfg_Year', 'Mfr_Guarantee', 'Petrol', 'Powered_Windows', 'Quarterly_Tax', 'Radio', 'Sport_Model', 'Tow_Bar', 'Weight', 'cc', 'const']  AIC: <statsmodels.regression.linear_model.RegressionResultsWrapper object at 0x16ba187c0>\n",
      "Processed  25 models on 24 predictors in 0.13051390647888184\n",
      "Selected predictors: ['Airbag_2', 'Airco', 'Automatic', 'Automatic_airco', 'BOVAG_Guarantee', 'Boardcomputer', 'CD_Player', 'CNG', 'Cylinders', 'Diesel', 'Guarantee_Period', 'HP', 'KM', 'Mfg_Month', 'Mfg_Year', 'Mfr_Guarantee', 'Petrol', 'Powered_Windows', 'Quarterly_Tax', 'Radio', 'Sport_Model', 'Tow_Bar', 'Weight', 'cc', 'const']  AIC: <statsmodels.regression.linear_model.RegressionResultsWrapper object at 0x16ba18df0>\n",
      "Processed  24 models on 23 predictors in 0.06771612167358398\n",
      "Selected predictors: ['Airbag_2', 'Airco', 'Automatic', 'Automatic_airco', 'BOVAG_Guarantee', 'Boardcomputer', 'CD_Player', 'CNG', 'Cylinders', 'Diesel', 'Guarantee_Period', 'HP', 'KM', 'Mfg_Year', 'Mfr_Guarantee', 'Petrol', 'Powered_Windows', 'Quarterly_Tax', 'Radio', 'Sport_Model', 'Tow_Bar', 'Weight', 'cc', 'const']  AIC: <statsmodels.regression.linear_model.RegressionResultsWrapper object at 0x2a63e42b0>\n",
      "Processed  23 models on 22 predictors in 0.057676076889038086\n",
      "Selected predictors: ['Airbag_2', 'Airco', 'Automatic', 'Automatic_airco', 'BOVAG_Guarantee', 'Boardcomputer', 'CD_Player', 'CNG', 'Cylinders', 'Diesel', 'Guarantee_Period', 'HP', 'KM', 'Mfg_Year', 'Mfr_Guarantee', 'Powered_Windows', 'Quarterly_Tax', 'Radio', 'Sport_Model', 'Tow_Bar', 'Weight', 'cc', 'const']  AIC: <statsmodels.regression.linear_model.RegressionResultsWrapper object at 0x16a1be730>\n",
      "Processed  22 models on 21 predictors in 0.0568387508392334\n",
      "Selected predictors: ['Airbag_2', 'Airco', 'Automatic', 'Automatic_airco', 'BOVAG_Guarantee', 'Boardcomputer', 'CD_Player', 'CNG', 'Diesel', 'Guarantee_Period', 'HP', 'KM', 'Mfg_Year', 'Mfr_Guarantee', 'Powered_Windows', 'Quarterly_Tax', 'Radio', 'Sport_Model', 'Tow_Bar', 'Weight', 'cc', 'const']  AIC: <statsmodels.regression.linear_model.RegressionResultsWrapper object at 0x16a1bee50>\n",
      "Total elapsed time: 2.0308890342712402 seconds.\n"
     ]
    }
   ],
   "source": [
    "Backward_best_model = backward_model(train_x, train_y)"
   ]
  },
  {
   "cell_type": "code",
   "execution_count": 66,
   "id": "ee583543",
   "metadata": {},
   "outputs": [
    {
     "data": {
      "text/plain": [
       "16827.83122218911"
      ]
     },
     "execution_count": 66,
     "metadata": {},
     "output_type": "execute_result"
    }
   ],
   "source": [
    "Backward_best_model.aic"
   ]
  },
  {
   "cell_type": "markdown",
   "id": "b1423642",
   "metadata": {},
   "source": [
    "### (3) Stepwise Method"
   ]
  },
  {
   "cell_type": "code",
   "execution_count": 67,
   "id": "4e68487d",
   "metadata": {},
   "outputs": [],
   "source": [
    "def Stepwise_model(X, y):\n",
    "    Stepmodels = pd.DataFrame(columns=['AIC', 'model'])\n",
    "    tic = time.time()\n",
    "    predictors = []\n",
    "    Smodel_before = processSubset(X, y, predictors + ['const'])['AIC']\n",
    "    \n",
    "    for i in range(1, len(X.columns.difference(['const'])) + 1):\n",
    "        Forward_result = forward(X, y, predictors=predictors)\n",
    "        print('forward')\n",
    "        Stepmodels.loc[i] = Forward_result\n",
    "        predictors = Stepmodels.loc[i][\"model\"].model.exog_names\n",
    "        predictors = [ k for k in predictors if k != 'const']\n",
    "        Backward_result = backward(X=X, y=y, predictors=predictors)\n",
    "        if Backward_result['AIC']< Forward_result['AIC']:\n",
    "            Stepmodels.loc[i] = Backward_result\n",
    "            predictors = Stepmodels.loc[i][\"model\"].model.exog_names\n",
    "            Smodel_before = Stepmodels.loc[i][\"AIC\"]\n",
    "            predictors = [ k for k in predictors if k != 'const']\n",
    "            print('backward')\n",
    "        if Stepmodels.loc[i]['AIC']> Smodel_before:\n",
    "            break\n",
    "        else:\n",
    "            Smodel_before = Stepmodels.loc[i][\"AIC\"]\n",
    "    toc = time.time()\n",
    "    print(\"Total elapsed time:\", (toc - tic), \"seconds.\")\n",
    "    return (Stepmodels['model'][len(Stepmodels['model'])])"
   ]
  },
  {
   "cell_type": "code",
   "execution_count": 68,
   "id": "2186b398",
   "metadata": {},
   "outputs": [
    {
     "name": "stdout",
     "output_type": "stream",
     "text": [
      "Processed  36 models on 1 predictors in 0.013626813888549805 seconds.\n",
      "Selected predictors:  ['Mfg_Year', 'const'] \n",
      "AIC:  <statsmodels.regression.linear_model.RegressionResultsWrapper object at 0x16a1d8d00>\n",
      "forward\n",
      "Processed  1 models on 0 predictors in 0.0006861686706542969\n",
      "Selected predictors: ['const']  AIC: <statsmodels.regression.linear_model.RegressionResultsWrapper object at 0x16a210f10>\n",
      "Processed  35 models on 2 predictors in 0.019813060760498047 seconds.\n",
      "Selected predictors:  ['Mfg_Year', 'Automatic_airco', 'const'] \n",
      "AIC:  <statsmodels.regression.linear_model.RegressionResultsWrapper object at 0x16a24b250>\n",
      "forward\n",
      "Processed  2 models on 1 predictors in 0.0013041496276855469\n",
      "Selected predictors: ['Mfg_Year', 'const']  AIC: <statsmodels.regression.linear_model.RegressionResultsWrapper object at 0x16a2c78b0>\n",
      "Processed  34 models on 3 predictors in 0.015330076217651367 seconds.\n",
      "Selected predictors:  ['Mfg_Year', 'Automatic_airco', 'HP', 'const'] \n",
      "AIC:  <statsmodels.regression.linear_model.RegressionResultsWrapper object at 0x17ad929d0>\n",
      "forward\n",
      "Processed  3 models on 2 predictors in 0.0022437572479248047\n",
      "Selected predictors: ['Mfg_Year', 'Automatic_airco', 'const']  AIC: <statsmodels.regression.linear_model.RegressionResultsWrapper object at 0x16a24b430>\n",
      "Processed  33 models on 4 predictors in 0.01482701301574707 seconds.\n",
      "Selected predictors:  ['Mfg_Year', 'Automatic_airco', 'HP', 'Weight', 'const'] \n",
      "AIC:  <statsmodels.regression.linear_model.RegressionResultsWrapper object at 0x16ba187c0>\n",
      "forward\n",
      "Processed  4 models on 3 predictors in 0.0026428699493408203\n",
      "Selected predictors: ['Mfg_Year', 'Automatic_airco', 'HP', 'const']  AIC: <statsmodels.regression.linear_model.RegressionResultsWrapper object at 0x16a09c610>\n",
      "Processed  32 models on 5 predictors in 0.015045166015625 seconds.\n",
      "Selected predictors:  ['Mfg_Year', 'Automatic_airco', 'HP', 'Weight', 'KM', 'const'] \n",
      "AIC:  <statsmodels.regression.linear_model.RegressionResultsWrapper object at 0x16a238130>\n",
      "forward\n",
      "Processed  5 models on 4 predictors in 0.00323486328125\n",
      "Selected predictors: ['Mfg_Year', 'Automatic_airco', 'Weight', 'KM', 'const']  AIC: <statsmodels.regression.linear_model.RegressionResultsWrapper object at 0x16a2100d0>\n",
      "Processed  31 models on 6 predictors in 0.014734029769897461 seconds.\n",
      "Selected predictors:  ['Mfg_Year', 'Automatic_airco', 'HP', 'Weight', 'KM', 'Powered_Windows', 'const'] \n",
      "AIC:  <statsmodels.regression.linear_model.RegressionResultsWrapper object at 0x16a1be6a0>\n",
      "forward\n",
      "Processed  6 models on 5 predictors in 0.004122018814086914\n",
      "Selected predictors: ['Mfg_Year', 'Automatic_airco', 'HP', 'Weight', 'KM', 'const']  AIC: <statsmodels.regression.linear_model.RegressionResultsWrapper object at 0x16a2c7c40>\n",
      "Processed  30 models on 7 predictors in 0.014005899429321289 seconds.\n",
      "Selected predictors:  ['Mfg_Year', 'Automatic_airco', 'HP', 'Weight', 'KM', 'Powered_Windows', 'cc', 'const'] \n",
      "AIC:  <statsmodels.regression.linear_model.RegressionResultsWrapper object at 0x16a24b280>\n",
      "forward\n",
      "Processed  7 models on 6 predictors in 0.004799842834472656\n",
      "Selected predictors: ['Mfg_Year', 'Automatic_airco', 'HP', 'Weight', 'KM', 'Powered_Windows', 'const']  AIC: <statsmodels.regression.linear_model.RegressionResultsWrapper object at 0x16ae37040>\n",
      "Processed  29 models on 8 predictors in 0.014734029769897461 seconds.\n",
      "Selected predictors:  ['Mfg_Year', 'Automatic_airco', 'HP', 'Weight', 'KM', 'Powered_Windows', 'cc', 'Diesel', 'const'] \n",
      "AIC:  <statsmodels.regression.linear_model.RegressionResultsWrapper object at 0x16a238cd0>\n",
      "forward\n",
      "Processed  8 models on 7 predictors in 0.0061299800872802734\n",
      "Selected predictors: ['Mfg_Year', 'Automatic_airco', 'HP', 'Weight', 'KM', 'Powered_Windows', 'cc', 'const']  AIC: <statsmodels.regression.linear_model.RegressionResultsWrapper object at 0x16a2c7d30>\n",
      "Processed  28 models on 9 predictors in 0.019242048263549805 seconds.\n",
      "Selected predictors:  ['Mfg_Year', 'Automatic_airco', 'HP', 'Weight', 'KM', 'Powered_Windows', 'cc', 'Diesel', 'BOVAG_Guarantee', 'const'] \n",
      "AIC:  <statsmodels.regression.linear_model.RegressionResultsWrapper object at 0x16a09c490>\n",
      "forward\n",
      "Processed  9 models on 8 predictors in 0.006076812744140625\n",
      "Selected predictors: ['Mfg_Year', 'Automatic_airco', 'HP', 'Weight', 'KM', 'Powered_Windows', 'cc', 'Diesel', 'const']  AIC: <statsmodels.regression.linear_model.RegressionResultsWrapper object at 0x16ae5e280>\n",
      "Processed  27 models on 10 predictors in 0.021200180053710938 seconds.\n",
      "Selected predictors:  ['Mfg_Year', 'Automatic_airco', 'HP', 'Weight', 'KM', 'Powered_Windows', 'cc', 'Diesel', 'BOVAG_Guarantee', 'Guarantee_Period', 'const'] \n",
      "AIC:  <statsmodels.regression.linear_model.RegressionResultsWrapper object at 0x16a1cb3d0>\n",
      "forward\n",
      "Processed  10 models on 9 predictors in 0.00970911979675293\n",
      "Selected predictors: ['Mfg_Year', 'Automatic_airco', 'HP', 'Weight', 'KM', 'Powered_Windows', 'cc', 'Diesel', 'BOVAG_Guarantee', 'const']  AIC: <statsmodels.regression.linear_model.RegressionResultsWrapper object at 0x16b6b4250>\n",
      "Processed  26 models on 11 predictors in 0.025380849838256836 seconds.\n",
      "Selected predictors:  ['Mfg_Year', 'Automatic_airco', 'HP', 'Weight', 'KM', 'Powered_Windows', 'cc', 'Diesel', 'BOVAG_Guarantee', 'Guarantee_Period', 'Sport_Model', 'const'] \n",
      "AIC:  <statsmodels.regression.linear_model.RegressionResultsWrapper object at 0x16ba18c40>\n",
      "forward\n",
      "Processed  11 models on 10 predictors in 0.014739990234375\n",
      "Selected predictors: ['Mfg_Year', 'Automatic_airco', 'HP', 'Weight', 'KM', 'Powered_Windows', 'cc', 'Diesel', 'BOVAG_Guarantee', 'Guarantee_Period', 'const']  AIC: <statsmodels.regression.linear_model.RegressionResultsWrapper object at 0x1680feeb0>\n",
      "Processed  25 models on 12 predictors in 0.02552509307861328 seconds.\n",
      "Selected predictors:  ['Mfg_Year', 'Automatic_airco', 'HP', 'Weight', 'KM', 'Powered_Windows', 'cc', 'Diesel', 'BOVAG_Guarantee', 'Guarantee_Period', 'Sport_Model', 'Mfr_Guarantee', 'const'] \n",
      "AIC:  <statsmodels.regression.linear_model.RegressionResultsWrapper object at 0x16a09c130>\n",
      "forward\n",
      "Processed  12 models on 11 predictors in 0.012445211410522461\n",
      "Selected predictors: ['Mfg_Year', 'Automatic_airco', 'HP', 'Weight', 'KM', 'Powered_Windows', 'cc', 'Diesel', 'BOVAG_Guarantee', 'Guarantee_Period', 'Sport_Model', 'const']  AIC: <statsmodels.regression.linear_model.RegressionResultsWrapper object at 0x2a63e4760>\n",
      "Processed  24 models on 13 predictors in 0.027896642684936523 seconds.\n",
      "Selected predictors:  ['Mfg_Year', 'Automatic_airco', 'HP', 'Weight', 'KM', 'Powered_Windows', 'cc', 'Diesel', 'BOVAG_Guarantee', 'Guarantee_Period', 'Sport_Model', 'Mfr_Guarantee', 'Quarterly_Tax', 'const'] \n",
      "AIC:  <statsmodels.regression.linear_model.RegressionResultsWrapper object at 0x17ad92c10>\n",
      "forward\n",
      "Processed  13 models on 12 predictors in 0.014219999313354492\n",
      "Selected predictors: ['Mfg_Year', 'Automatic_airco', 'HP', 'Weight', 'KM', 'Powered_Windows', 'cc', 'Diesel', 'BOVAG_Guarantee', 'Guarantee_Period', 'Sport_Model', 'Mfr_Guarantee', 'const']  AIC: <statsmodels.regression.linear_model.RegressionResultsWrapper object at 0x16a22f550>\n",
      "Processed  23 models on 14 predictors in 0.027148008346557617 seconds.\n",
      "Selected predictors:  ['Mfg_Year', 'Automatic_airco', 'HP', 'Weight', 'KM', 'Powered_Windows', 'cc', 'Diesel', 'BOVAG_Guarantee', 'Guarantee_Period', 'Sport_Model', 'Mfr_Guarantee', 'Quarterly_Tax', 'Petrol', 'const'] \n",
      "AIC:  <statsmodels.regression.linear_model.RegressionResultsWrapper object at 0x16a24b2b0>\n",
      "forward\n",
      "Processed  14 models on 13 predictors in 0.014453887939453125\n",
      "Selected predictors: ['Mfg_Year', 'Automatic_airco', 'HP', 'Weight', 'KM', 'Powered_Windows', 'cc', 'Diesel', 'BOVAG_Guarantee', 'Guarantee_Period', 'Mfr_Guarantee', 'Quarterly_Tax', 'Petrol', 'const']  AIC: <statsmodels.regression.linear_model.RegressionResultsWrapper object at 0x16a13c430>\n",
      "Processed  22 models on 15 predictors in 0.03608393669128418 seconds.\n",
      "Selected predictors:  ['Mfg_Year', 'Automatic_airco', 'HP', 'Weight', 'KM', 'Powered_Windows', 'cc', 'Diesel', 'BOVAG_Guarantee', 'Guarantee_Period', 'Sport_Model', 'Mfr_Guarantee', 'Quarterly_Tax', 'Petrol', 'Boardcomputer', 'const'] \n",
      "AIC:  <statsmodels.regression.linear_model.RegressionResultsWrapper object at 0x16a2104f0>\n",
      "forward\n"
     ]
    },
    {
     "name": "stdout",
     "output_type": "stream",
     "text": [
      "Processed  15 models on 14 predictors in 0.02390575408935547\n",
      "Selected predictors: ['Mfg_Year', 'Automatic_airco', 'HP', 'Weight', 'KM', 'Powered_Windows', 'cc', 'Diesel', 'BOVAG_Guarantee', 'Guarantee_Period', 'Mfr_Guarantee', 'Quarterly_Tax', 'Petrol', 'Boardcomputer', 'const']  AIC: <statsmodels.regression.linear_model.RegressionResultsWrapper object at 0x16b05d6a0>\n",
      "Processed  21 models on 16 predictors in 0.11966109275817871 seconds.\n",
      "Selected predictors:  ['Mfg_Year', 'Automatic_airco', 'HP', 'Weight', 'KM', 'Powered_Windows', 'cc', 'Diesel', 'BOVAG_Guarantee', 'Guarantee_Period', 'Sport_Model', 'Mfr_Guarantee', 'Quarterly_Tax', 'Petrol', 'Boardcomputer', 'ABS', 'const'] \n",
      "AIC:  <statsmodels.regression.linear_model.RegressionResultsWrapper object at 0x16b26b5b0>\n",
      "forward\n",
      "Processed  16 models on 15 predictors in 0.025192975997924805\n",
      "Selected predictors: ['Mfg_Year', 'Automatic_airco', 'HP', 'Weight', 'KM', 'Powered_Windows', 'cc', 'Diesel', 'BOVAG_Guarantee', 'Guarantee_Period', 'Mfr_Guarantee', 'Quarterly_Tax', 'Petrol', 'Boardcomputer', 'ABS', 'const']  AIC: <statsmodels.regression.linear_model.RegressionResultsWrapper object at 0x16a210eb0>\n",
      "Processed  20 models on 17 predictors in 0.055947065353393555 seconds.\n",
      "Selected predictors:  ['Mfg_Year', 'Automatic_airco', 'HP', 'Weight', 'KM', 'Powered_Windows', 'cc', 'Diesel', 'BOVAG_Guarantee', 'Guarantee_Period', 'Sport_Model', 'Mfr_Guarantee', 'Quarterly_Tax', 'Petrol', 'Boardcomputer', 'ABS', 'Airco', 'const'] \n",
      "AIC:  <statsmodels.regression.linear_model.RegressionResultsWrapper object at 0x16a238160>\n",
      "forward\n",
      "Processed  17 models on 16 predictors in 0.11437201499938965\n",
      "Selected predictors: ['Mfg_Year', 'Automatic_airco', 'HP', 'Weight', 'KM', 'Powered_Windows', 'cc', 'Diesel', 'BOVAG_Guarantee', 'Guarantee_Period', 'Sport_Model', 'Mfr_Guarantee', 'Quarterly_Tax', 'Petrol', 'ABS', 'Airco', 'const']  AIC: <statsmodels.regression.linear_model.RegressionResultsWrapper object at 0x17ad92460>\n",
      "Processed  19 models on 18 predictors in 0.1522660255432129 seconds.\n",
      "Selected predictors:  ['Mfg_Year', 'Automatic_airco', 'HP', 'Weight', 'KM', 'Powered_Windows', 'cc', 'Diesel', 'BOVAG_Guarantee', 'Guarantee_Period', 'Sport_Model', 'Mfr_Guarantee', 'Quarterly_Tax', 'Petrol', 'Boardcomputer', 'ABS', 'Airco', 'Radio', 'const'] \n",
      "AIC:  <statsmodels.regression.linear_model.RegressionResultsWrapper object at 0x16a210190>\n",
      "forward\n",
      "Processed  18 models on 17 predictors in 0.03949999809265137\n",
      "Selected predictors: ['Mfg_Year', 'Automatic_airco', 'HP', 'Weight', 'KM', 'Powered_Windows', 'cc', 'Diesel', 'BOVAG_Guarantee', 'Guarantee_Period', 'Mfr_Guarantee', 'Quarterly_Tax', 'Petrol', 'Boardcomputer', 'ABS', 'Airco', 'Radio', 'const']  AIC: <statsmodels.regression.linear_model.RegressionResultsWrapper object at 0x16a09c3d0>\n",
      "Processed  18 models on 19 predictors in 0.13224506378173828 seconds.\n",
      "Selected predictors:  ['Mfg_Year', 'Automatic_airco', 'HP', 'Weight', 'KM', 'Powered_Windows', 'cc', 'Diesel', 'BOVAG_Guarantee', 'Guarantee_Period', 'Sport_Model', 'Mfr_Guarantee', 'Quarterly_Tax', 'Petrol', 'Boardcomputer', 'ABS', 'Airco', 'Radio', 'Automatic', 'const'] \n",
      "AIC:  <statsmodels.regression.linear_model.RegressionResultsWrapper object at 0x16ba18310>\n",
      "forward\n",
      "Processed  19 models on 18 predictors in 0.09584903717041016\n",
      "Selected predictors: ['Mfg_Year', 'Automatic_airco', 'HP', 'Weight', 'KM', 'Powered_Windows', 'cc', 'Diesel', 'BOVAG_Guarantee', 'Guarantee_Period', 'Sport_Model', 'Mfr_Guarantee', 'Quarterly_Tax', 'Petrol', 'Boardcomputer', 'ABS', 'Airco', 'Radio', 'const']  AIC: <statsmodels.regression.linear_model.RegressionResultsWrapper object at 0x16a210ee0>\n",
      "Processed  17 models on 20 predictors in 0.04000210762023926 seconds.\n",
      "Selected predictors:  ['Mfg_Year', 'Automatic_airco', 'HP', 'Weight', 'KM', 'Powered_Windows', 'cc', 'Diesel', 'BOVAG_Guarantee', 'Guarantee_Period', 'Sport_Model', 'Mfr_Guarantee', 'Quarterly_Tax', 'Petrol', 'Boardcomputer', 'ABS', 'Airco', 'Radio', 'Automatic', 'Tow_Bar', 'const'] \n",
      "AIC:  <statsmodels.regression.linear_model.RegressionResultsWrapper object at 0x16b6a05e0>\n",
      "forward\n",
      "Processed  20 models on 19 predictors in 0.05704188346862793\n",
      "Selected predictors: ['Mfg_Year', 'Automatic_airco', 'HP', 'Weight', 'KM', 'Powered_Windows', 'cc', 'Diesel', 'BOVAG_Guarantee', 'Guarantee_Period', 'Sport_Model', 'Mfr_Guarantee', 'Quarterly_Tax', 'Petrol', 'Boardcomputer', 'ABS', 'Airco', 'Radio', 'Automatic', 'const']  AIC: <statsmodels.regression.linear_model.RegressionResultsWrapper object at 0x17ad929a0>\n",
      "Processed  16 models on 21 predictors in 0.12702107429504395 seconds.\n",
      "Selected predictors:  ['Mfg_Year', 'Automatic_airco', 'HP', 'Weight', 'KM', 'Powered_Windows', 'cc', 'Diesel', 'BOVAG_Guarantee', 'Guarantee_Period', 'Sport_Model', 'Mfr_Guarantee', 'Quarterly_Tax', 'Petrol', 'Boardcomputer', 'ABS', 'Airco', 'Radio', 'Automatic', 'Tow_Bar', 'CD_Player', 'const'] \n",
      "AIC:  <statsmodels.regression.linear_model.RegressionResultsWrapper object at 0x2a63e4b20>\n",
      "forward\n",
      "Processed  21 models on 20 predictors in 0.245574951171875\n",
      "Selected predictors: ['Mfg_Year', 'Automatic_airco', 'HP', 'Weight', 'KM', 'Powered_Windows', 'cc', 'Diesel', 'BOVAG_Guarantee', 'Guarantee_Period', 'Sport_Model', 'Mfr_Guarantee', 'Quarterly_Tax', 'Petrol', 'Boardcomputer', 'ABS', 'Airco', 'Radio', 'Automatic', 'Tow_Bar', 'const']  AIC: <statsmodels.regression.linear_model.RegressionResultsWrapper object at 0x16a22f2b0>\n",
      "Processed  15 models on 22 predictors in 0.06493806838989258 seconds.\n",
      "Selected predictors:  ['Mfg_Year', 'Automatic_airco', 'HP', 'Weight', 'KM', 'Powered_Windows', 'cc', 'Diesel', 'BOVAG_Guarantee', 'Guarantee_Period', 'Sport_Model', 'Mfr_Guarantee', 'Quarterly_Tax', 'Petrol', 'Boardcomputer', 'ABS', 'Airco', 'Radio', 'Automatic', 'Tow_Bar', 'CD_Player', 'Airbag_2', 'const'] \n",
      "AIC:  <statsmodels.regression.linear_model.RegressionResultsWrapper object at 0x16a13c5e0>\n",
      "forward\n",
      "Processed  22 models on 21 predictors in 0.055917978286743164\n",
      "Selected predictors: ['Mfg_Year', 'Automatic_airco', 'HP', 'Weight', 'KM', 'Powered_Windows', 'cc', 'Diesel', 'BOVAG_Guarantee', 'Guarantee_Period', 'Sport_Model', 'Mfr_Guarantee', 'Quarterly_Tax', 'Petrol', 'Boardcomputer', 'Airco', 'Radio', 'Automatic', 'Tow_Bar', 'CD_Player', 'Airbag_2', 'const']  AIC: <statsmodels.regression.linear_model.RegressionResultsWrapper object at 0x16ba18790>\n",
      "backward\n",
      "Processed  15 models on 22 predictors in 0.04332375526428223 seconds.\n",
      "Selected predictors:  ['Mfg_Year', 'Automatic_airco', 'HP', 'Weight', 'KM', 'Powered_Windows', 'cc', 'Diesel', 'BOVAG_Guarantee', 'Guarantee_Period', 'Sport_Model', 'Mfr_Guarantee', 'Quarterly_Tax', 'Petrol', 'Boardcomputer', 'Airco', 'Radio', 'Automatic', 'Tow_Bar', 'CD_Player', 'Airbag_2', 'CNG', 'const'] \n",
      "AIC:  <statsmodels.regression.linear_model.RegressionResultsWrapper object at 0x16ae37610>\n",
      "forward\n",
      "Processed  22 models on 21 predictors in 0.09092593193054199\n",
      "Selected predictors: ['Mfg_Year', 'Automatic_airco', 'HP', 'Weight', 'KM', 'Powered_Windows', 'cc', 'Diesel', 'BOVAG_Guarantee', 'Guarantee_Period', 'Sport_Model', 'Mfr_Guarantee', 'Quarterly_Tax', 'Boardcomputer', 'Airco', 'Radio', 'Automatic', 'Tow_Bar', 'CD_Player', 'Airbag_2', 'CNG', 'const']  AIC: <statsmodels.regression.linear_model.RegressionResultsWrapper object at 0x2a63e4520>\n",
      "backward\n",
      "Processed  15 models on 22 predictors in 0.03644299507141113 seconds.\n",
      "Selected predictors:  ['Mfg_Year', 'Automatic_airco', 'HP', 'Weight', 'KM', 'Powered_Windows', 'cc', 'Diesel', 'BOVAG_Guarantee', 'Guarantee_Period', 'Sport_Model', 'Mfr_Guarantee', 'Quarterly_Tax', 'Boardcomputer', 'Airco', 'Radio', 'Automatic', 'Tow_Bar', 'CD_Player', 'Airbag_2', 'CNG', 'Cylinders', 'const'] \n",
      "AIC:  <statsmodels.regression.linear_model.RegressionResultsWrapper object at 0x16a09c2b0>\n",
      "forward\n",
      "Processed  22 models on 21 predictors in 0.06255483627319336\n",
      "Selected predictors: ['Mfg_Year', 'Automatic_airco', 'HP', 'Weight', 'KM', 'Powered_Windows', 'cc', 'Diesel', 'BOVAG_Guarantee', 'Guarantee_Period', 'Sport_Model', 'Mfr_Guarantee', 'Quarterly_Tax', 'Boardcomputer', 'Airco', 'Radio', 'Automatic', 'Tow_Bar', 'CD_Player', 'Airbag_2', 'CNG', 'const']  AIC: <statsmodels.regression.linear_model.RegressionResultsWrapper object at 0x16a24b9d0>\n",
      "backward\n",
      "Processed  15 models on 22 predictors in 0.04899191856384277 seconds.\n",
      "Selected predictors:  ['Mfg_Year', 'Automatic_airco', 'HP', 'Weight', 'KM', 'Powered_Windows', 'cc', 'Diesel', 'BOVAG_Guarantee', 'Guarantee_Period', 'Sport_Model', 'Mfr_Guarantee', 'Quarterly_Tax', 'Boardcomputer', 'Airco', 'Radio', 'Automatic', 'Tow_Bar', 'CD_Player', 'Airbag_2', 'CNG', 'Cylinders', 'const'] \n",
      "AIC:  <statsmodels.regression.linear_model.RegressionResultsWrapper object at 0x16a22f040>\n",
      "forward\n"
     ]
    },
    {
     "name": "stdout",
     "output_type": "stream",
     "text": [
      "Processed  22 models on 21 predictors in 0.13937592506408691\n",
      "Selected predictors: ['Mfg_Year', 'Automatic_airco', 'HP', 'Weight', 'KM', 'Powered_Windows', 'cc', 'Diesel', 'BOVAG_Guarantee', 'Guarantee_Period', 'Sport_Model', 'Mfr_Guarantee', 'Quarterly_Tax', 'Boardcomputer', 'Airco', 'Radio', 'Automatic', 'Tow_Bar', 'CD_Player', 'Airbag_2', 'CNG', 'const']  AIC: <statsmodels.regression.linear_model.RegressionResultsWrapper object at 0x16ada0cd0>\n",
      "backward\n",
      "Processed  15 models on 22 predictors in 0.04005718231201172 seconds.\n",
      "Selected predictors:  ['Mfg_Year', 'Automatic_airco', 'HP', 'Weight', 'KM', 'Powered_Windows', 'cc', 'Diesel', 'BOVAG_Guarantee', 'Guarantee_Period', 'Sport_Model', 'Mfr_Guarantee', 'Quarterly_Tax', 'Boardcomputer', 'Airco', 'Radio', 'Automatic', 'Tow_Bar', 'CD_Player', 'Airbag_2', 'CNG', 'Cylinders', 'const'] \n",
      "AIC:  <statsmodels.regression.linear_model.RegressionResultsWrapper object at 0x16a17c490>\n",
      "forward\n",
      "Processed  22 models on 21 predictors in 0.06264185905456543\n",
      "Selected predictors: ['Mfg_Year', 'Automatic_airco', 'HP', 'Weight', 'KM', 'Powered_Windows', 'cc', 'Diesel', 'BOVAG_Guarantee', 'Guarantee_Period', 'Sport_Model', 'Mfr_Guarantee', 'Quarterly_Tax', 'Boardcomputer', 'Airco', 'Radio', 'Automatic', 'Tow_Bar', 'CD_Player', 'Airbag_2', 'CNG', 'const']  AIC: <statsmodels.regression.linear_model.RegressionResultsWrapper object at 0x16ada4310>\n",
      "backward\n",
      "Processed  15 models on 22 predictors in 0.04258298873901367 seconds.\n",
      "Selected predictors:  ['Mfg_Year', 'Automatic_airco', 'HP', 'Weight', 'KM', 'Powered_Windows', 'cc', 'Diesel', 'BOVAG_Guarantee', 'Guarantee_Period', 'Sport_Model', 'Mfr_Guarantee', 'Quarterly_Tax', 'Boardcomputer', 'Airco', 'Radio', 'Automatic', 'Tow_Bar', 'CD_Player', 'Airbag_2', 'CNG', 'Cylinders', 'const'] \n",
      "AIC:  <statsmodels.regression.linear_model.RegressionResultsWrapper object at 0x16a13cd30>\n",
      "forward\n",
      "Processed  22 models on 21 predictors in 0.09505581855773926\n",
      "Selected predictors: ['Mfg_Year', 'Automatic_airco', 'HP', 'Weight', 'KM', 'Powered_Windows', 'cc', 'Diesel', 'BOVAG_Guarantee', 'Guarantee_Period', 'Sport_Model', 'Mfr_Guarantee', 'Quarterly_Tax', 'Boardcomputer', 'Airco', 'Radio', 'Automatic', 'Tow_Bar', 'CD_Player', 'Airbag_2', 'CNG', 'const']  AIC: <statsmodels.regression.linear_model.RegressionResultsWrapper object at 0x16adee5e0>\n",
      "backward\n",
      "Processed  15 models on 22 predictors in 0.08316588401794434 seconds.\n",
      "Selected predictors:  ['Mfg_Year', 'Automatic_airco', 'HP', 'Weight', 'KM', 'Powered_Windows', 'cc', 'Diesel', 'BOVAG_Guarantee', 'Guarantee_Period', 'Sport_Model', 'Mfr_Guarantee', 'Quarterly_Tax', 'Boardcomputer', 'Airco', 'Radio', 'Automatic', 'Tow_Bar', 'CD_Player', 'Airbag_2', 'CNG', 'Cylinders', 'const'] \n",
      "AIC:  <statsmodels.regression.linear_model.RegressionResultsWrapper object at 0x2a63e46d0>\n",
      "forward\n",
      "Processed  22 models on 21 predictors in 0.08744120597839355\n",
      "Selected predictors: ['Mfg_Year', 'Automatic_airco', 'HP', 'Weight', 'KM', 'Powered_Windows', 'cc', 'Diesel', 'BOVAG_Guarantee', 'Guarantee_Period', 'Sport_Model', 'Mfr_Guarantee', 'Quarterly_Tax', 'Boardcomputer', 'Airco', 'Radio', 'Automatic', 'Tow_Bar', 'CD_Player', 'Airbag_2', 'CNG', 'const']  AIC: <statsmodels.regression.linear_model.RegressionResultsWrapper object at 0x16a03a5e0>\n",
      "backward\n",
      "Processed  15 models on 22 predictors in 0.05971193313598633 seconds.\n",
      "Selected predictors:  ['Mfg_Year', 'Automatic_airco', 'HP', 'Weight', 'KM', 'Powered_Windows', 'cc', 'Diesel', 'BOVAG_Guarantee', 'Guarantee_Period', 'Sport_Model', 'Mfr_Guarantee', 'Quarterly_Tax', 'Boardcomputer', 'Airco', 'Radio', 'Automatic', 'Tow_Bar', 'CD_Player', 'Airbag_2', 'CNG', 'Cylinders', 'const'] \n",
      "AIC:  <statsmodels.regression.linear_model.RegressionResultsWrapper object at 0x16a09c2e0>\n",
      "forward\n",
      "Processed  22 models on 21 predictors in 0.06743097305297852\n",
      "Selected predictors: ['Mfg_Year', 'Automatic_airco', 'HP', 'Weight', 'KM', 'Powered_Windows', 'cc', 'Diesel', 'BOVAG_Guarantee', 'Guarantee_Period', 'Sport_Model', 'Mfr_Guarantee', 'Quarterly_Tax', 'Boardcomputer', 'Airco', 'Radio', 'Automatic', 'Tow_Bar', 'CD_Player', 'Airbag_2', 'CNG', 'const']  AIC: <statsmodels.regression.linear_model.RegressionResultsWrapper object at 0x16a13ceb0>\n",
      "backward\n",
      "Processed  15 models on 22 predictors in 0.04281115531921387 seconds.\n",
      "Selected predictors:  ['Mfg_Year', 'Automatic_airco', 'HP', 'Weight', 'KM', 'Powered_Windows', 'cc', 'Diesel', 'BOVAG_Guarantee', 'Guarantee_Period', 'Sport_Model', 'Mfr_Guarantee', 'Quarterly_Tax', 'Boardcomputer', 'Airco', 'Radio', 'Automatic', 'Tow_Bar', 'CD_Player', 'Airbag_2', 'CNG', 'Cylinders', 'const'] \n",
      "AIC:  <statsmodels.regression.linear_model.RegressionResultsWrapper object at 0x16a17c580>\n",
      "forward\n",
      "Processed  22 models on 21 predictors in 0.05189013481140137\n",
      "Selected predictors: ['Mfg_Year', 'Automatic_airco', 'HP', 'Weight', 'KM', 'Powered_Windows', 'cc', 'Diesel', 'BOVAG_Guarantee', 'Guarantee_Period', 'Sport_Model', 'Mfr_Guarantee', 'Quarterly_Tax', 'Boardcomputer', 'Airco', 'Radio', 'Automatic', 'Tow_Bar', 'CD_Player', 'Airbag_2', 'CNG', 'const']  AIC: <statsmodels.regression.linear_model.RegressionResultsWrapper object at 0x2a63e4730>\n",
      "backward\n",
      "Processed  15 models on 22 predictors in 0.19443583488464355 seconds.\n",
      "Selected predictors:  ['Mfg_Year', 'Automatic_airco', 'HP', 'Weight', 'KM', 'Powered_Windows', 'cc', 'Diesel', 'BOVAG_Guarantee', 'Guarantee_Period', 'Sport_Model', 'Mfr_Guarantee', 'Quarterly_Tax', 'Boardcomputer', 'Airco', 'Radio', 'Automatic', 'Tow_Bar', 'CD_Player', 'Airbag_2', 'CNG', 'Cylinders', 'const'] \n",
      "AIC:  <statsmodels.regression.linear_model.RegressionResultsWrapper object at 0x16b6bc9d0>\n",
      "forward\n",
      "Processed  22 models on 21 predictors in 0.06612515449523926\n",
      "Selected predictors: ['Mfg_Year', 'Automatic_airco', 'HP', 'Weight', 'KM', 'Powered_Windows', 'cc', 'Diesel', 'BOVAG_Guarantee', 'Guarantee_Period', 'Sport_Model', 'Mfr_Guarantee', 'Quarterly_Tax', 'Boardcomputer', 'Airco', 'Radio', 'Automatic', 'Tow_Bar', 'CD_Player', 'Airbag_2', 'CNG', 'const']  AIC: <statsmodels.regression.linear_model.RegressionResultsWrapper object at 0x16ad28d30>\n",
      "backward\n",
      "Processed  15 models on 22 predictors in 0.0431060791015625 seconds.\n",
      "Selected predictors:  ['Mfg_Year', 'Automatic_airco', 'HP', 'Weight', 'KM', 'Powered_Windows', 'cc', 'Diesel', 'BOVAG_Guarantee', 'Guarantee_Period', 'Sport_Model', 'Mfr_Guarantee', 'Quarterly_Tax', 'Boardcomputer', 'Airco', 'Radio', 'Automatic', 'Tow_Bar', 'CD_Player', 'Airbag_2', 'CNG', 'Cylinders', 'const'] \n",
      "AIC:  <statsmodels.regression.linear_model.RegressionResultsWrapper object at 0x16a1be190>\n",
      "forward\n",
      "Processed  22 models on 21 predictors in 0.05612897872924805\n",
      "Selected predictors: ['Mfg_Year', 'Automatic_airco', 'HP', 'Weight', 'KM', 'Powered_Windows', 'cc', 'Diesel', 'BOVAG_Guarantee', 'Guarantee_Period', 'Sport_Model', 'Mfr_Guarantee', 'Quarterly_Tax', 'Boardcomputer', 'Airco', 'Radio', 'Automatic', 'Tow_Bar', 'CD_Player', 'Airbag_2', 'CNG', 'const']  AIC: <statsmodels.regression.linear_model.RegressionResultsWrapper object at 0x17ad92370>\n",
      "backward\n",
      "Processed  15 models on 22 predictors in 0.05926084518432617 seconds.\n",
      "Selected predictors:  ['Mfg_Year', 'Automatic_airco', 'HP', 'Weight', 'KM', 'Powered_Windows', 'cc', 'Diesel', 'BOVAG_Guarantee', 'Guarantee_Period', 'Sport_Model', 'Mfr_Guarantee', 'Quarterly_Tax', 'Boardcomputer', 'Airco', 'Radio', 'Automatic', 'Tow_Bar', 'CD_Player', 'Airbag_2', 'CNG', 'Cylinders', 'const'] \n",
      "AIC:  <statsmodels.regression.linear_model.RegressionResultsWrapper object at 0x16a13cca0>\n",
      "forward\n",
      "Processed  22 models on 21 predictors in 0.07178187370300293\n",
      "Selected predictors: ['Mfg_Year', 'Automatic_airco', 'HP', 'Weight', 'KM', 'Powered_Windows', 'cc', 'Diesel', 'BOVAG_Guarantee', 'Guarantee_Period', 'Sport_Model', 'Mfr_Guarantee', 'Quarterly_Tax', 'Boardcomputer', 'Airco', 'Radio', 'Automatic', 'Tow_Bar', 'CD_Player', 'Airbag_2', 'CNG', 'const']  AIC: <statsmodels.regression.linear_model.RegressionResultsWrapper object at 0x16b04a190>\n",
      "backward\n",
      "Processed  15 models on 22 predictors in 0.06981825828552246 seconds.\n",
      "Selected predictors:  ['Mfg_Year', 'Automatic_airco', 'HP', 'Weight', 'KM', 'Powered_Windows', 'cc', 'Diesel', 'BOVAG_Guarantee', 'Guarantee_Period', 'Sport_Model', 'Mfr_Guarantee', 'Quarterly_Tax', 'Boardcomputer', 'Airco', 'Radio', 'Automatic', 'Tow_Bar', 'CD_Player', 'Airbag_2', 'CNG', 'Cylinders', 'const'] \n",
      "AIC:  <statsmodels.regression.linear_model.RegressionResultsWrapper object at 0x16a175640>\n",
      "forward\n"
     ]
    },
    {
     "name": "stdout",
     "output_type": "stream",
     "text": [
      "Processed  22 models on 21 predictors in 0.06701517105102539\n",
      "Selected predictors: ['Mfg_Year', 'Automatic_airco', 'HP', 'Weight', 'KM', 'Powered_Windows', 'cc', 'Diesel', 'BOVAG_Guarantee', 'Guarantee_Period', 'Sport_Model', 'Mfr_Guarantee', 'Quarterly_Tax', 'Boardcomputer', 'Airco', 'Radio', 'Automatic', 'Tow_Bar', 'CD_Player', 'Airbag_2', 'CNG', 'const']  AIC: <statsmodels.regression.linear_model.RegressionResultsWrapper object at 0x16a1cbd00>\n",
      "backward\n",
      "Processed  15 models on 22 predictors in 0.05896496772766113 seconds.\n",
      "Selected predictors:  ['Mfg_Year', 'Automatic_airco', 'HP', 'Weight', 'KM', 'Powered_Windows', 'cc', 'Diesel', 'BOVAG_Guarantee', 'Guarantee_Period', 'Sport_Model', 'Mfr_Guarantee', 'Quarterly_Tax', 'Boardcomputer', 'Airco', 'Radio', 'Automatic', 'Tow_Bar', 'CD_Player', 'Airbag_2', 'CNG', 'Cylinders', 'const'] \n",
      "AIC:  <statsmodels.regression.linear_model.RegressionResultsWrapper object at 0x16a0d8760>\n",
      "forward\n",
      "Processed  22 models on 21 predictors in 0.061231136322021484\n",
      "Selected predictors: ['Mfg_Year', 'Automatic_airco', 'HP', 'Weight', 'KM', 'Powered_Windows', 'cc', 'Diesel', 'BOVAG_Guarantee', 'Guarantee_Period', 'Sport_Model', 'Mfr_Guarantee', 'Quarterly_Tax', 'Boardcomputer', 'Airco', 'Radio', 'Automatic', 'Tow_Bar', 'CD_Player', 'Airbag_2', 'CNG', 'const']  AIC: <statsmodels.regression.linear_model.RegressionResultsWrapper object at 0x16b04a8b0>\n",
      "backward\n",
      "Processed  15 models on 22 predictors in 0.04503679275512695 seconds.\n",
      "Selected predictors:  ['Mfg_Year', 'Automatic_airco', 'HP', 'Weight', 'KM', 'Powered_Windows', 'cc', 'Diesel', 'BOVAG_Guarantee', 'Guarantee_Period', 'Sport_Model', 'Mfr_Guarantee', 'Quarterly_Tax', 'Boardcomputer', 'Airco', 'Radio', 'Automatic', 'Tow_Bar', 'CD_Player', 'Airbag_2', 'CNG', 'Cylinders', 'const'] \n",
      "AIC:  <statsmodels.regression.linear_model.RegressionResultsWrapper object at 0x16ba18370>\n",
      "forward\n",
      "Processed  22 models on 21 predictors in 0.1594550609588623\n",
      "Selected predictors: ['Mfg_Year', 'Automatic_airco', 'HP', 'Weight', 'KM', 'Powered_Windows', 'cc', 'Diesel', 'BOVAG_Guarantee', 'Guarantee_Period', 'Sport_Model', 'Mfr_Guarantee', 'Quarterly_Tax', 'Boardcomputer', 'Airco', 'Radio', 'Automatic', 'Tow_Bar', 'CD_Player', 'Airbag_2', 'CNG', 'const']  AIC: <statsmodels.regression.linear_model.RegressionResultsWrapper object at 0x16a2389d0>\n",
      "backward\n",
      "Total elapsed time: 3.8383700847625732 seconds.\n"
     ]
    }
   ],
   "source": [
    "Stepwise_best_model = Stepwise_model(train_x, train_y)"
   ]
  },
  {
   "cell_type": "code",
   "execution_count": 69,
   "id": "18c1b0f2",
   "metadata": {},
   "outputs": [
    {
     "data": {
      "text/plain": [
       "16827.831222189066"
      ]
     },
     "execution_count": 69,
     "metadata": {},
     "output_type": "execute_result"
    }
   ],
   "source": [
    "Stepwise_best_model.aic"
   ]
  },
  {
   "cell_type": "code",
   "execution_count": null,
   "id": "63f38b87",
   "metadata": {},
   "outputs": [],
   "source": []
  },
  {
   "cell_type": "markdown",
   "id": "3ddda40b",
   "metadata": {},
   "source": [
    "### VIF를 활용한 변수제거"
   ]
  },
  {
   "cell_type": "code",
   "execution_count": 77,
   "id": "c51fec8c",
   "metadata": {},
   "outputs": [
    {
     "data": {
      "text/html": [
       "<div>\n",
       "<style scoped>\n",
       "    .dataframe tbody tr th:only-of-type {\n",
       "        vertical-align: middle;\n",
       "    }\n",
       "\n",
       "    .dataframe tbody tr th {\n",
       "        vertical-align: top;\n",
       "    }\n",
       "\n",
       "    .dataframe thead th {\n",
       "        text-align: right;\n",
       "    }\n",
       "</style>\n",
       "<table border=\"1\" class=\"dataframe\">\n",
       "  <thead>\n",
       "    <tr style=\"text-align: right;\">\n",
       "      <th></th>\n",
       "      <th>VIF Factor</th>\n",
       "      <th>features</th>\n",
       "    </tr>\n",
       "  </thead>\n",
       "  <tbody>\n",
       "    <tr>\n",
       "      <th>0</th>\n",
       "      <td>21.386850</td>\n",
       "      <td>AGE</td>\n",
       "    </tr>\n",
       "    <tr>\n",
       "      <th>1</th>\n",
       "      <td>20.104943</td>\n",
       "      <td>B</td>\n",
       "    </tr>\n",
       "    <tr>\n",
       "      <th>2</th>\n",
       "      <td>77.948283</td>\n",
       "      <td>RM</td>\n",
       "    </tr>\n",
       "    <tr>\n",
       "      <th>3</th>\n",
       "      <td>2.100373</td>\n",
       "      <td>CRIM</td>\n",
       "    </tr>\n",
       "    <tr>\n",
       "      <th>4</th>\n",
       "      <td>14.699652</td>\n",
       "      <td>DIS</td>\n",
       "    </tr>\n",
       "    <tr>\n",
       "      <th>5</th>\n",
       "      <td>14.485758</td>\n",
       "      <td>INDUS</td>\n",
       "    </tr>\n",
       "    <tr>\n",
       "      <th>6</th>\n",
       "      <td>11.102025</td>\n",
       "      <td>LSTAT</td>\n",
       "    </tr>\n",
       "    <tr>\n",
       "      <th>7</th>\n",
       "      <td>73.894947</td>\n",
       "      <td>NOX</td>\n",
       "    </tr>\n",
       "    <tr>\n",
       "      <th>8</th>\n",
       "      <td>85.029547</td>\n",
       "      <td>PTRATIO</td>\n",
       "    </tr>\n",
       "    <tr>\n",
       "      <th>9</th>\n",
       "      <td>15.167725</td>\n",
       "      <td>RAD</td>\n",
       "    </tr>\n",
       "    <tr>\n",
       "      <th>10</th>\n",
       "      <td>2.844013</td>\n",
       "      <td>ZN</td>\n",
       "    </tr>\n",
       "    <tr>\n",
       "      <th>11</th>\n",
       "      <td>61.227274</td>\n",
       "      <td>TAX</td>\n",
       "    </tr>\n",
       "    <tr>\n",
       "      <th>12</th>\n",
       "      <td>1.152952</td>\n",
       "      <td>CHAS</td>\n",
       "    </tr>\n",
       "  </tbody>\n",
       "</table>\n",
       "</div>"
      ],
      "text/plain": [
       "    VIF Factor features\n",
       "0    21.386850      AGE\n",
       "1    20.104943        B\n",
       "2    77.948283       RM\n",
       "3     2.100373     CRIM\n",
       "4    14.699652      DIS\n",
       "5    14.485758    INDUS\n",
       "6    11.102025    LSTAT\n",
       "7    73.894947      NOX\n",
       "8    85.029547  PTRATIO\n",
       "9    15.167725      RAD\n",
       "10    2.844013       ZN\n",
       "11   61.227274      TAX\n",
       "12    1.152952     CHAS"
      ]
     },
     "execution_count": 77,
     "metadata": {},
     "output_type": "execute_result"
    }
   ],
   "source": [
    "# VIF를 통한 다중공선성 확인\n",
    "from statsmodels.stats.outliers_influence import variance_inflation_factor\n",
    "\n",
    "X, y = df_boston(split=False)\n",
    "\n",
    "vif = pd.DataFrame()\n",
    "vif['VIF Factor'] = [variance_inflation_factor(X.values, i) for i in range(X.shape[1])]\n",
    "vif['features'] = X.columns\n",
    "vif"
   ]
  },
  {
   "cell_type": "code",
   "execution_count": 78,
   "id": "ad34b6ed",
   "metadata": {
    "scrolled": true
   },
   "outputs": [
    {
     "data": {
      "text/html": [
       "<div>\n",
       "<style scoped>\n",
       "    .dataframe tbody tr th:only-of-type {\n",
       "        vertical-align: middle;\n",
       "    }\n",
       "\n",
       "    .dataframe tbody tr th {\n",
       "        vertical-align: top;\n",
       "    }\n",
       "\n",
       "    .dataframe thead th {\n",
       "        text-align: right;\n",
       "    }\n",
       "</style>\n",
       "<table border=\"1\" class=\"dataframe\">\n",
       "  <thead>\n",
       "    <tr style=\"text-align: right;\">\n",
       "      <th></th>\n",
       "      <th>VIF Factor</th>\n",
       "      <th>features</th>\n",
       "    </tr>\n",
       "  </thead>\n",
       "  <tbody>\n",
       "    <tr>\n",
       "      <th>0</th>\n",
       "      <td>19.913996</td>\n",
       "      <td>AGE</td>\n",
       "    </tr>\n",
       "    <tr>\n",
       "      <th>1</th>\n",
       "      <td>19.882552</td>\n",
       "      <td>B</td>\n",
       "    </tr>\n",
       "    <tr>\n",
       "      <th>2</th>\n",
       "      <td>58.637968</td>\n",
       "      <td>RM</td>\n",
       "    </tr>\n",
       "    <tr>\n",
       "      <th>3</th>\n",
       "      <td>2.098574</td>\n",
       "      <td>CRIM</td>\n",
       "    </tr>\n",
       "    <tr>\n",
       "      <th>4</th>\n",
       "      <td>14.515406</td>\n",
       "      <td>DIS</td>\n",
       "    </tr>\n",
       "    <tr>\n",
       "      <th>5</th>\n",
       "      <td>13.358236</td>\n",
       "      <td>INDUS</td>\n",
       "    </tr>\n",
       "    <tr>\n",
       "      <th>6</th>\n",
       "      <td>10.165405</td>\n",
       "      <td>LSTAT</td>\n",
       "    </tr>\n",
       "    <tr>\n",
       "      <th>7</th>\n",
       "      <td>85.028655</td>\n",
       "      <td>PTRATIO</td>\n",
       "    </tr>\n",
       "    <tr>\n",
       "      <th>8</th>\n",
       "      <td>15.163613</td>\n",
       "      <td>RAD</td>\n",
       "    </tr>\n",
       "    <tr>\n",
       "      <th>9</th>\n",
       "      <td>2.841866</td>\n",
       "      <td>ZN</td>\n",
       "    </tr>\n",
       "    <tr>\n",
       "      <th>10</th>\n",
       "      <td>59.634769</td>\n",
       "      <td>TAX</td>\n",
       "    </tr>\n",
       "    <tr>\n",
       "      <th>11</th>\n",
       "      <td>1.149104</td>\n",
       "      <td>CHAS</td>\n",
       "    </tr>\n",
       "  </tbody>\n",
       "</table>\n",
       "</div>"
      ],
      "text/plain": [
       "    VIF Factor features\n",
       "0    19.913996      AGE\n",
       "1    19.882552        B\n",
       "2    58.637968       RM\n",
       "3     2.098574     CRIM\n",
       "4    14.515406      DIS\n",
       "5    13.358236    INDUS\n",
       "6    10.165405    LSTAT\n",
       "7    85.028655  PTRATIO\n",
       "8    15.163613      RAD\n",
       "9     2.841866       ZN\n",
       "10   59.634769      TAX\n",
       "11    1.149104     CHAS"
      ]
     },
     "execution_count": 78,
     "metadata": {},
     "output_type": "execute_result"
    }
   ],
   "source": [
    "# nox 변수 제거 후 vif 확인\n",
    "vif = pd.DataFrame()\n",
    "X2 = X.drop('NOX', axis=1)\n",
    "vif[\"VIF Factor\"] = [variance_inflation_factor(\n",
    "    X2.values, i) for i in range(X2.shape[1])]\n",
    "vif[\"features\"] = X2.columns\n",
    "vif"
   ]
  },
  {
   "cell_type": "code",
   "execution_count": null,
   "id": "6581baf9",
   "metadata": {},
   "outputs": [],
   "source": []
  },
  {
   "cell_type": "markdown",
   "id": "81a68a28",
   "metadata": {},
   "source": [
    "# <font color='blue'>[Feature Extraction]</font>\n",
    "- 특성 추출은 \"기존 특성을 새로운 특성 공간으로 이동시키는 것\"이다.\n",
    "    - PCA: 비지도 차원 축소\n",
    "    - LDA: 지도 차원 축소\n",
    "    - 커널 PCA: 비선형 차원 축소"
   ]
  },
  {
   "cell_type": "markdown",
   "id": "f7a410a8",
   "metadata": {},
   "source": [
    "### Principal Component Analysis\n",
    "- 훈련 샘플의 특성 벡터 $\\boldsymbol x = [x_1, x_2, ..., x_d]$가 있을 때,\n",
    "    - 이 특성 벡터의 차원을 축소하기 위해 $d \\times k$ 차원의 변환 행렬 $\\boldsymbol W$를 만든다.\n",
    "    - 이 변환행렬과 특성 벡터 $\\boldsymbol x$를 새로운 $k$ 차원의 특성 부분 공간으로 매핑한다.<br><br>\n",
    "\n",
    "$$ \\boldsymbol x \\boldsymbol W = \\boldsymbol z$$\n",
    "\n",
    "- PCA 방향은 데이터 스케일에 매우 민감하다.\n",
    "    - 특성의 스케일이 다르고 모든 특성의 중요도를 동일하게 취급하려면 PCA를 적용하기 전에 특성을 표준화 전처리해야 한다.<br>\n",
    "    \n",
    "1. $d$ 차원 데이터셋을 표준화 전처리한다.\n",
    "2. 공분산 행렬(covariance matrix)을 만든다.\n",
    "3. 공분산 행렬을 고유 벡터(eigenvector)와 고윳값(eigenvalue)으로 분해한다.\n",
    "4. 고윳값을 내림차순으로 정렬하고 그에 해당하는 고유 벡터의 순위를 매긴다.\n",
    "5. 고윳값이 가장 큰 $k$개의 고유 벡터를 선택한다. 여기서 $k$는 새로운 특성 부분 공간의 차원이다. ($k\\leq d$)\n",
    "6. 최상위 $k$개의 고유 벡터로 투영 행렬(projection matrix) $\\boldsymbol W$를 만든다.\n",
    "7. 투영 행렬 $\\boldsymbol W$를 사용해서 $d$차원 입력 데이터셋 $\\boldsymbol X$를 새로운 $k$ 차원의 특성 부분 공간으로 변환한다."
   ]
  },
  {
   "cell_type": "markdown",
   "id": "dd849ed9",
   "metadata": {},
   "source": [
    "### 직접 PCA"
   ]
  },
  {
   "cell_type": "code",
   "execution_count": 18,
   "id": "99242101",
   "metadata": {},
   "outputs": [
    {
     "data": {
      "text/html": [
       "<div>\n",
       "<style scoped>\n",
       "    .dataframe tbody tr th:only-of-type {\n",
       "        vertical-align: middle;\n",
       "    }\n",
       "\n",
       "    .dataframe tbody tr th {\n",
       "        vertical-align: top;\n",
       "    }\n",
       "\n",
       "    .dataframe thead th {\n",
       "        text-align: right;\n",
       "    }\n",
       "</style>\n",
       "<table border=\"1\" class=\"dataframe\">\n",
       "  <thead>\n",
       "    <tr style=\"text-align: right;\">\n",
       "      <th></th>\n",
       "      <th>Class label</th>\n",
       "      <th>Alcohol</th>\n",
       "      <th>Malic acid</th>\n",
       "      <th>Ash</th>\n",
       "      <th>Alcalinity of ash</th>\n",
       "      <th>Magnesium</th>\n",
       "      <th>Total phenols</th>\n",
       "      <th>Flavanoids</th>\n",
       "      <th>Nonflavanoid phenols</th>\n",
       "      <th>Proanthocyanins</th>\n",
       "      <th>Color intensity</th>\n",
       "      <th>Hue</th>\n",
       "      <th>OD280/OD315 of diluted wines</th>\n",
       "      <th>Proline</th>\n",
       "    </tr>\n",
       "  </thead>\n",
       "  <tbody>\n",
       "    <tr>\n",
       "      <th>0</th>\n",
       "      <td>1</td>\n",
       "      <td>14.23</td>\n",
       "      <td>1.71</td>\n",
       "      <td>2.43</td>\n",
       "      <td>15.6</td>\n",
       "      <td>127</td>\n",
       "      <td>2.80</td>\n",
       "      <td>3.06</td>\n",
       "      <td>0.28</td>\n",
       "      <td>2.29</td>\n",
       "      <td>5.64</td>\n",
       "      <td>1.04</td>\n",
       "      <td>3.92</td>\n",
       "      <td>1065</td>\n",
       "    </tr>\n",
       "    <tr>\n",
       "      <th>1</th>\n",
       "      <td>1</td>\n",
       "      <td>13.20</td>\n",
       "      <td>1.78</td>\n",
       "      <td>2.14</td>\n",
       "      <td>11.2</td>\n",
       "      <td>100</td>\n",
       "      <td>2.65</td>\n",
       "      <td>2.76</td>\n",
       "      <td>0.26</td>\n",
       "      <td>1.28</td>\n",
       "      <td>4.38</td>\n",
       "      <td>1.05</td>\n",
       "      <td>3.40</td>\n",
       "      <td>1050</td>\n",
       "    </tr>\n",
       "    <tr>\n",
       "      <th>2</th>\n",
       "      <td>1</td>\n",
       "      <td>13.16</td>\n",
       "      <td>2.36</td>\n",
       "      <td>2.67</td>\n",
       "      <td>18.6</td>\n",
       "      <td>101</td>\n",
       "      <td>2.80</td>\n",
       "      <td>3.24</td>\n",
       "      <td>0.30</td>\n",
       "      <td>2.81</td>\n",
       "      <td>5.68</td>\n",
       "      <td>1.03</td>\n",
       "      <td>3.17</td>\n",
       "      <td>1185</td>\n",
       "    </tr>\n",
       "    <tr>\n",
       "      <th>3</th>\n",
       "      <td>1</td>\n",
       "      <td>14.37</td>\n",
       "      <td>1.95</td>\n",
       "      <td>2.50</td>\n",
       "      <td>16.8</td>\n",
       "      <td>113</td>\n",
       "      <td>3.85</td>\n",
       "      <td>3.49</td>\n",
       "      <td>0.24</td>\n",
       "      <td>2.18</td>\n",
       "      <td>7.80</td>\n",
       "      <td>0.86</td>\n",
       "      <td>3.45</td>\n",
       "      <td>1480</td>\n",
       "    </tr>\n",
       "    <tr>\n",
       "      <th>4</th>\n",
       "      <td>1</td>\n",
       "      <td>13.24</td>\n",
       "      <td>2.59</td>\n",
       "      <td>2.87</td>\n",
       "      <td>21.0</td>\n",
       "      <td>118</td>\n",
       "      <td>2.80</td>\n",
       "      <td>2.69</td>\n",
       "      <td>0.39</td>\n",
       "      <td>1.82</td>\n",
       "      <td>4.32</td>\n",
       "      <td>1.04</td>\n",
       "      <td>2.93</td>\n",
       "      <td>735</td>\n",
       "    </tr>\n",
       "  </tbody>\n",
       "</table>\n",
       "</div>"
      ],
      "text/plain": [
       "   Class label  Alcohol  Malic acid   Ash  Alcalinity of ash  Magnesium  \\\n",
       "0            1    14.23        1.71  2.43               15.6        127   \n",
       "1            1    13.20        1.78  2.14               11.2        100   \n",
       "2            1    13.16        2.36  2.67               18.6        101   \n",
       "3            1    14.37        1.95  2.50               16.8        113   \n",
       "4            1    13.24        2.59  2.87               21.0        118   \n",
       "\n",
       "   Total phenols  Flavanoids  Nonflavanoid phenols  Proanthocyanins  \\\n",
       "0           2.80        3.06                  0.28             2.29   \n",
       "1           2.65        2.76                  0.26             1.28   \n",
       "2           2.80        3.24                  0.30             2.81   \n",
       "3           3.85        3.49                  0.24             2.18   \n",
       "4           2.80        2.69                  0.39             1.82   \n",
       "\n",
       "   Color intensity   Hue  OD280/OD315 of diluted wines  Proline  \n",
       "0             5.64  1.04                          3.92     1065  \n",
       "1             4.38  1.05                          3.40     1050  \n",
       "2             5.68  1.03                          3.17     1185  \n",
       "3             7.80  0.86                          3.45     1480  \n",
       "4             4.32  1.04                          2.93      735  "
      ]
     },
     "execution_count": 18,
     "metadata": {},
     "output_type": "execute_result"
    }
   ],
   "source": [
    "import pandas as pd\n",
    "df_wine = pd.read_csv('https://archive.ics.uci.edu/ml/'\n",
    "                      'machine-learning-databases/wine/wine.data',\n",
    "                      header=None)\n",
    "\n",
    "df_wine.columns = ['Class label', 'Alcohol', 'Malic acid', 'Ash',\n",
    "                   'Alcalinity of ash', 'Magnesium', 'Total phenols',\n",
    "                   'Flavanoids', 'Nonflavanoid phenols',\n",
    "                   'Proanthocyanins', 'Color intensity', 'Hue',\n",
    "                   'OD280/OD315 of diluted wines', 'Proline']\n",
    "\n",
    "df_wine.head()"
   ]
  },
  {
   "cell_type": "code",
   "execution_count": 19,
   "id": "bfc92f90",
   "metadata": {},
   "outputs": [],
   "source": [
    "# train test split\n",
    "from sklearn.model_selection import train_test_split\n",
    "\n",
    "X, y = df_wine.iloc[:, 1:].values, df_wine.iloc[:, 0].values\n",
    "\n",
    "X_train, X_test, y_train, y_test = \\\n",
    "    train_test_split(X, y, test_size=0.3,\n",
    "                    stratify=y, random_state=0)"
   ]
  },
  {
   "cell_type": "code",
   "execution_count": 20,
   "id": "207cfdac",
   "metadata": {},
   "outputs": [],
   "source": [
    "# standardization\n",
    "from sklearn.preprocessing import StandardScaler\n",
    "\n",
    "sc = StandardScaler()\n",
    "X_train_std = sc.fit_transform(X_train)\n",
    "X_test_std = sc.transform(X_test)"
   ]
  },
  {
   "cell_type": "code",
   "execution_count": 21,
   "id": "260bbb41",
   "metadata": {},
   "outputs": [
    {
     "name": "stdout",
     "output_type": "stream",
     "text": [
      "\n",
      "고윳값 \n",
      "[4.8427 2.416  1.5485 0.9612 0.8417 0.6621 0.5183 0.3465 0.3131 0.1075\n",
      " 0.2136 0.1536 0.1809]\n"
     ]
    }
   ],
   "source": [
    "# 공분산 행렬의 고윳값 분해\n",
    "import numpy as np\n",
    "cov_mat = np.cov(X_train_std.T)\n",
    "eigen_vals, eigen_vecs = np.linalg.eig(cov_mat)\n",
    "\n",
    "print('\\n고윳값 \\n%s' % eigen_vals)\n",
    "\n",
    "    # 사이킷런의 PCA 클래스는 직접 고윳값과 고유 벡터를 계산하는 대신 특이값분해(singular value decomposition) 방식을 사용하여 주성분을 구한다."
   ]
  },
  {
   "cell_type": "markdown",
   "id": "0b48d3d0",
   "metadata": {},
   "source": [
    "- 고윳값을 크기에 따라 내림차순으로 정렬하기 이전에,\n",
    "    - 고윳값의 '설명된 분산 비율(explained variance ratio)'를 시각화해보자\n",
    "    - 고윳값 $\\lambda_j$의 설명된 분산 비율은 전체 고윳값의 합에서 고윳값 $\\lambda_j$의 비율이다.<br><br>\n",
    "    \n",
    "$$ Explained\\;Variance\\;Ratio\\;=\\; \\dfrac {\\lambda_j}{\\sum^d_{j=1}\\lambda_j}$$"
   ]
  },
  {
   "cell_type": "code",
   "execution_count": 22,
   "id": "4709e73e",
   "metadata": {},
   "outputs": [],
   "source": [
    "# cumsum으로 explained variance ratio 계산하고, step 함수로 시각화한다\n",
    "tot = sum(eigen_vals)\n",
    "var_exp = [(i / tot) for i in sorted(eigen_vals, reverse=True)]\n",
    "cum_var_exp = np.cumsum(var_exp)"
   ]
  },
  {
   "cell_type": "code",
   "execution_count": 23,
   "id": "b64cab93",
   "metadata": {},
   "outputs": [
    {
     "data": {
      "image/png": "[encoded data removed]",
      "text/plain": [
       "<Figure size 432x288 with 1 Axes>"
      ]
     },
     "metadata": {
      "needs_background": "light"
     },
     "output_type": "display_data"
    }
   ],
   "source": [
    "import matplotlib.pyplot as plt\n",
    "\n",
    "plt.bar(range(1, 14), var_exp, alpha=0.5, align='center',\n",
    "       label='Individual explained variance')\n",
    "plt.step(range(1, 14), cum_var_exp, where='mid',\n",
    "        label='Cumulative explained variance')\n",
    "plt.ylabel('Explained variance ratio')\n",
    "plt.xlabel('Principal component index')\n",
    "plt.legend(loc='best')\n",
    "plt.tight_layout()\n",
    "\n",
    "plt.show()"
   ]
  },
  {
   "cell_type": "markdown",
   "id": "263b780d",
   "metadata": {},
   "source": [
    "> - 기억할 것!<br>\n",
    "> - PCA는 비지도 학습이다. 레이블 데이터는 사용하지 않았다. 위 그래프는 \"어떤 주성분이 특성 간의 공분산 관계를 가장 잘 설명하는지\"를 나타낸다."
   ]
  },
  {
   "cell_type": "code",
   "execution_count": 24,
   "id": "dfc53b24",
   "metadata": {},
   "outputs": [],
   "source": [
    "# (고윳값, 고유벡터) 튜플의 리스트를 만든다\n",
    "eigen_pairs = [(np.abs(eigen_vals[i]), eigen_vecs[:, i])\n",
    "              for i in range(len(eigen_vals))]\n",
    "\n",
    "# 높은 값에서 낮은 값으로 (고윳값, 고유벡터) 튜플을 정렬한다\n",
    "eigen_pairs.sort(key=lambda k: k[0], reverse=True)"
   ]
  },
  {
   "cell_type": "code",
   "execution_count": 25,
   "id": "d91751a8",
   "metadata": {},
   "outputs": [
    {
     "name": "stdout",
     "output_type": "stream",
     "text": [
      "투영 행렬 W:\n",
      " [[-0.1372  0.503 ]\n",
      " [ 0.2472  0.1649]\n",
      " [-0.0255  0.2446]\n",
      " [ 0.2069 -0.1135]\n",
      " [-0.1544  0.2897]\n",
      " [-0.3938  0.0508]\n",
      " [-0.4174 -0.0229]\n",
      " [ 0.3057  0.0905]\n",
      " [-0.3067  0.0084]\n",
      " [ 0.0755  0.5498]\n",
      " [-0.3261 -0.2072]\n",
      " [-0.3686 -0.249 ]\n",
      " [-0.2967  0.3802]]\n"
     ]
    }
   ],
   "source": [
    "w = np.hstack((eigen_pairs[0][1][:, np.newaxis],\n",
    "              eigen_pairs[1][1][:, np.newaxis]))\n",
    "print('투영 행렬 W:\\n', w)\n",
    "\n",
    "# eigen_pairs는 (eigen_val, eigen_vec(13차원)) 튜플의 리스트다.\n",
    "    # eigen_pairs[0] 하면 첫 번째 튜플이 선택되고,\n",
    "    # eigen_pairs[0][1] 하면 첫 번째 튜플의 eigen vec이 선택된다.\n",
    "    # eigen_pairs[0][1]은 shape이 (13,)의 1차원 배열인데, 여기다가 [:, np.newaxis]를 해주면 (13,1)의 13차원 열벡터가 된다."
   ]
  },
  {
   "cell_type": "markdown",
   "id": "14297c1a",
   "metadata": {},
   "source": [
    "- 위의 투영행렬 $\\boldsymbol W$은 가장 고윳값이 높은 고유벡터 2개를 이어 붙인 $13 \\times 2$차원의 행렬이다.\n",
    "    - 기존 특성벡터 $\\boldsymbol x$는 13차원인데, 이걸 2차원으로 줄이는 것이다."
   ]
  },
  {
   "cell_type": "code",
   "execution_count": 26,
   "id": "cc3e2a9e",
   "metadata": {},
   "outputs": [
    {
     "data": {
      "text/plain": [
       "array([2.383 , 0.4546])"
      ]
     },
     "execution_count": 26,
     "metadata": {},
     "output_type": "execute_result"
    }
   ],
   "source": [
    "X_train_std[0].dot(w)\n",
    "\n",
    "# 이게 무슨 뜻이냐면\n",
    "    # 특성 13개를 갖고 있던 X의 샘플 데이터 하나를 투영행렬과 내적하여\n",
    "    # 기존 샘플데이터를 2개 차원의 특성을 지닌 샘플데이터로 축소시킨 것이다."
   ]
  },
  {
   "cell_type": "code",
   "execution_count": 27,
   "id": "5cea4d01",
   "metadata": {},
   "outputs": [
    {
     "data": {
      "image/png": "[encoded data removed]",
      "text/plain": [
       "<Figure size 432x288 with 1 Axes>"
      ]
     },
     "metadata": {
      "needs_background": "light"
     },
     "output_type": "display_data"
    }
   ],
   "source": [
    "# 전체 X 훈련 데이터셋을 주성분에 투영한다\n",
    "X_train_pca = X_train_std.dot(w)\n",
    "colors = ['r', 'b', 'g']\n",
    "markers = ['s', 'x', 'o']\n",
    "\n",
    "for l, c, m in zip(np.unique(y_train), colors, markers):\n",
    "    plt.scatter(X_train_pca[y_train == l, 0],\n",
    "               X_train_pca[y_train == l, 1],\n",
    "               c=c, label=l, marker=m)    \n",
    "            # 각각의 레이블 데이터마다 (주성분1, 주성분2)의 좌표를 반환\n",
    "\n",
    "plt.xlabel('PC 1')\n",
    "plt.ylabel('PC 2')\n",
    "plt.legend(loc='lower left')\n",
    "plt.tight_layout()\n",
    "\n",
    "plt.show()"
   ]
  },
  {
   "cell_type": "markdown",
   "id": "862f2263",
   "metadata": {},
   "source": [
    "- 위 그래프는 기존 124x13 차원의 데이터를 124x2 차원의 데이터로 변환한 후, 2차원 산점도로 시각화한 것이다.\n",
    "- 데이터가 y축(두 번째 주성분)보다 x축(첫 번째 주성분)을 따라 더 넓게 퍼져있다.\n",
    "    - 전에 설명된 분산 그래프에서 1번째와 2번째 주성분의 explained variance 차이가 꽤 컸는데, 그게 똑같이 반영된 거다.\n",
    "- 딱봐도 이 데이터에 선형분류기를 쓰면 클래스들을 잘 분리할 수 있을 거 같다 => 다시 말해, 2차원으로 차원 축소가 꽤 성공적으로 이뤄졌다."
   ]
  },
  {
   "cell_type": "markdown",
   "id": "5fe7d423",
   "metadata": {},
   "source": [
    "### sklearn 으로 pca"
   ]
  },
  {
   "cell_type": "code",
   "execution_count": 28,
   "id": "b5ea7904",
   "metadata": {},
   "outputs": [
    {
     "data": {
      "text/html": [
       "<div>\n",
       "<style scoped>\n",
       "    .dataframe tbody tr th:only-of-type {\n",
       "        vertical-align: middle;\n",
       "    }\n",
       "\n",
       "    .dataframe tbody tr th {\n",
       "        vertical-align: top;\n",
       "    }\n",
       "\n",
       "    .dataframe thead th {\n",
       "        text-align: right;\n",
       "    }\n",
       "</style>\n",
       "<table border=\"1\" class=\"dataframe\">\n",
       "  <thead>\n",
       "    <tr style=\"text-align: right;\">\n",
       "      <th></th>\n",
       "      <th>0</th>\n",
       "      <th>1</th>\n",
       "    </tr>\n",
       "  </thead>\n",
       "  <tbody>\n",
       "    <tr>\n",
       "      <th>0</th>\n",
       "      <td>5.1</td>\n",
       "      <td>1.4</td>\n",
       "    </tr>\n",
       "    <tr>\n",
       "      <th>1</th>\n",
       "      <td>4.9</td>\n",
       "      <td>1.4</td>\n",
       "    </tr>\n",
       "    <tr>\n",
       "      <th>2</th>\n",
       "      <td>4.7</td>\n",
       "      <td>1.3</td>\n",
       "    </tr>\n",
       "    <tr>\n",
       "      <th>3</th>\n",
       "      <td>4.6</td>\n",
       "      <td>1.5</td>\n",
       "    </tr>\n",
       "    <tr>\n",
       "      <th>4</th>\n",
       "      <td>5.0</td>\n",
       "      <td>1.4</td>\n",
       "    </tr>\n",
       "  </tbody>\n",
       "</table>\n",
       "</div>"
      ],
      "text/plain": [
       "     0    1\n",
       "0  5.1  1.4\n",
       "1  4.9  1.4\n",
       "2  4.7  1.3\n",
       "3  4.6  1.5\n",
       "4  5.0  1.4"
      ]
     },
     "execution_count": 28,
     "metadata": {},
     "output_type": "execute_result"
    }
   ],
   "source": [
    "from sklearn import datasets\n",
    "from sklearn.decomposition import PCA\n",
    "\n",
    "iris = datasets.load_iris()\n",
    "X = iris.data[:, [0,2]]\n",
    "y = iris.target\n",
    "\n",
    "feature_names = [iris.feature_names[0], iris.feature_names[2]]\n",
    "df_X = pd.DataFrame(X)\n",
    "df_X.head()"
   ]
  },
  {
   "cell_type": "code",
   "execution_count": 29,
   "id": "e0277682",
   "metadata": {
    "scrolled": true
   },
   "outputs": [
    {
     "data": {
      "text/plain": [
       "array([[-2.4602, -0.2448],\n",
       "       [-2.539 , -0.0609],\n",
       "       [-2.7096,  0.0836],\n",
       "       [-2.5651,  0.2542],\n",
       "       [-2.4996, -0.1529]])"
      ]
     },
     "execution_count": 29,
     "metadata": {},
     "output_type": "execute_result"
    }
   ],
   "source": [
    "# pca 함수를 이용해서 주성분 2개 만들기\n",
    "pca = PCA(n_components=2)\n",
    "pca.fit(X)\n",
    "\n",
    "PCscore = pca.transform(X)\n",
    "PCscore[:5]\n",
    "# PCscore의 1열은 component1로 변환된 값이고, 2열은 component2로 변환된 값이다."
   ]
  },
  {
   "cell_type": "code",
   "execution_count": 30,
   "id": "62513c76",
   "metadata": {},
   "outputs": [
    {
     "name": "stdout",
     "output_type": "stream",
     "text": [
      "eigen_v:\n",
      " [[ 0.3936  0.9193]\n",
      " [-0.9193  0.3936]]\n",
      "explained variance:\n",
      " [3.6619 0.1401]\n",
      "singular values:\n",
      " [23.3586  4.5685]\n"
     ]
    }
   ],
   "source": [
    "print('eigen_v:\\n', pca.components_)\n",
    "print('explained variance:\\n', pca.explained_variance_)\n",
    "print('singular values:\\n', pca.singular_values_)"
   ]
  },
  {
   "cell_type": "markdown",
   "id": "042deb20",
   "metadata": {},
   "source": [
    "#### 예시"
   ]
  },
  {
   "cell_type": "code",
   "execution_count": 126,
   "id": "242239cc",
   "metadata": {},
   "outputs": [
    {
     "data": {
      "text/html": [
       "<div>\n",
       "<style scoped>\n",
       "    .dataframe tbody tr th:only-of-type {\n",
       "        vertical-align: middle;\n",
       "    }\n",
       "\n",
       "    .dataframe tbody tr th {\n",
       "        vertical-align: top;\n",
       "    }\n",
       "\n",
       "    .dataframe thead th {\n",
       "        text-align: right;\n",
       "    }\n",
       "</style>\n",
       "<table border=\"1\" class=\"dataframe\">\n",
       "  <thead>\n",
       "    <tr style=\"text-align: right;\">\n",
       "      <th></th>\n",
       "      <th>mean radius</th>\n",
       "      <th>mean texture</th>\n",
       "      <th>mean perimeter</th>\n",
       "      <th>mean area</th>\n",
       "      <th>mean smoothness</th>\n",
       "      <th>mean compactness</th>\n",
       "      <th>mean concavity</th>\n",
       "      <th>mean concave points</th>\n",
       "      <th>mean symmetry</th>\n",
       "      <th>mean fractal dimension</th>\n",
       "      <th>...</th>\n",
       "      <th>worst radius</th>\n",
       "      <th>worst texture</th>\n",
       "      <th>worst perimeter</th>\n",
       "      <th>worst area</th>\n",
       "      <th>worst smoothness</th>\n",
       "      <th>worst compactness</th>\n",
       "      <th>worst concavity</th>\n",
       "      <th>worst concave points</th>\n",
       "      <th>worst symmetry</th>\n",
       "      <th>worst fractal dimension</th>\n",
       "    </tr>\n",
       "  </thead>\n",
       "  <tbody>\n",
       "    <tr>\n",
       "      <th>0</th>\n",
       "      <td>17.99</td>\n",
       "      <td>10.38</td>\n",
       "      <td>122.8</td>\n",
       "      <td>1001.0</td>\n",
       "      <td>0.11840</td>\n",
       "      <td>0.27760</td>\n",
       "      <td>0.3001</td>\n",
       "      <td>0.14710</td>\n",
       "      <td>0.2419</td>\n",
       "      <td>0.07871</td>\n",
       "      <td>...</td>\n",
       "      <td>25.38</td>\n",
       "      <td>17.33</td>\n",
       "      <td>184.6</td>\n",
       "      <td>2019.0</td>\n",
       "      <td>0.1622</td>\n",
       "      <td>0.6656</td>\n",
       "      <td>0.7119</td>\n",
       "      <td>0.2654</td>\n",
       "      <td>0.4601</td>\n",
       "      <td>0.11890</td>\n",
       "    </tr>\n",
       "    <tr>\n",
       "      <th>1</th>\n",
       "      <td>20.57</td>\n",
       "      <td>17.77</td>\n",
       "      <td>132.9</td>\n",
       "      <td>1326.0</td>\n",
       "      <td>0.08474</td>\n",
       "      <td>0.07864</td>\n",
       "      <td>0.0869</td>\n",
       "      <td>0.07017</td>\n",
       "      <td>0.1812</td>\n",
       "      <td>0.05667</td>\n",
       "      <td>...</td>\n",
       "      <td>24.99</td>\n",
       "      <td>23.41</td>\n",
       "      <td>158.8</td>\n",
       "      <td>1956.0</td>\n",
       "      <td>0.1238</td>\n",
       "      <td>0.1866</td>\n",
       "      <td>0.2416</td>\n",
       "      <td>0.1860</td>\n",
       "      <td>0.2750</td>\n",
       "      <td>0.08902</td>\n",
       "    </tr>\n",
       "    <tr>\n",
       "      <th>2</th>\n",
       "      <td>19.69</td>\n",
       "      <td>21.25</td>\n",
       "      <td>130.0</td>\n",
       "      <td>1203.0</td>\n",
       "      <td>0.10960</td>\n",
       "      <td>0.15990</td>\n",
       "      <td>0.1974</td>\n",
       "      <td>0.12790</td>\n",
       "      <td>0.2069</td>\n",
       "      <td>0.05999</td>\n",
       "      <td>...</td>\n",
       "      <td>23.57</td>\n",
       "      <td>25.53</td>\n",
       "      <td>152.5</td>\n",
       "      <td>1709.0</td>\n",
       "      <td>0.1444</td>\n",
       "      <td>0.4245</td>\n",
       "      <td>0.4504</td>\n",
       "      <td>0.2430</td>\n",
       "      <td>0.3613</td>\n",
       "      <td>0.08758</td>\n",
       "    </tr>\n",
       "  </tbody>\n",
       "</table>\n",
       "<p>3 rows × 30 columns</p>\n",
       "</div>"
      ],
      "text/plain": [
       "   mean radius  mean texture  mean perimeter  mean area  mean smoothness  \\\n",
       "0        17.99         10.38           122.8     1001.0          0.11840   \n",
       "1        20.57         17.77           132.9     1326.0          0.08474   \n",
       "2        19.69         21.25           130.0     1203.0          0.10960   \n",
       "\n",
       "   mean compactness  mean concavity  mean concave points  mean symmetry  \\\n",
       "0           0.27760          0.3001              0.14710         0.2419   \n",
       "1           0.07864          0.0869              0.07017         0.1812   \n",
       "2           0.15990          0.1974              0.12790         0.2069   \n",
       "\n",
       "   mean fractal dimension  ...  worst radius  worst texture  worst perimeter  \\\n",
       "0                 0.07871  ...         25.38          17.33            184.6   \n",
       "1                 0.05667  ...         24.99          23.41            158.8   \n",
       "2                 0.05999  ...         23.57          25.53            152.5   \n",
       "\n",
       "   worst area  worst smoothness  worst compactness  worst concavity  \\\n",
       "0      2019.0            0.1622             0.6656           0.7119   \n",
       "1      1956.0            0.1238             0.1866           0.2416   \n",
       "2      1709.0            0.1444             0.4245           0.4504   \n",
       "\n",
       "   worst concave points  worst symmetry  worst fractal dimension  \n",
       "0                0.2654          0.4601                  0.11890  \n",
       "1                0.1860          0.2750                  0.08902  \n",
       "2                0.2430          0.3613                  0.08758  \n",
       "\n",
       "[3 rows x 30 columns]"
      ]
     },
     "execution_count": 126,
     "metadata": {},
     "output_type": "execute_result"
    }
   ],
   "source": [
    "X, y = datasets.load_breast_cancer(return_X_y=True, as_frame=True)\n",
    "targetDf = pd.DataFrame(y)\n",
    "\n",
    "X.head(3)"
   ]
  },
  {
   "cell_type": "code",
   "execution_count": 127,
   "id": "62ffd2b1",
   "metadata": {},
   "outputs": [
    {
     "data": {
      "text/html": [
       "<div>\n",
       "<style scoped>\n",
       "    .dataframe tbody tr th:only-of-type {\n",
       "        vertical-align: middle;\n",
       "    }\n",
       "\n",
       "    .dataframe tbody tr th {\n",
       "        vertical-align: top;\n",
       "    }\n",
       "\n",
       "    .dataframe thead th {\n",
       "        text-align: right;\n",
       "    }\n",
       "</style>\n",
       "<table border=\"1\" class=\"dataframe\">\n",
       "  <thead>\n",
       "    <tr style=\"text-align: right;\">\n",
       "      <th></th>\n",
       "      <th>principal component 1</th>\n",
       "      <th>principal component 2</th>\n",
       "      <th>target</th>\n",
       "    </tr>\n",
       "  </thead>\n",
       "  <tbody>\n",
       "    <tr>\n",
       "      <th>0</th>\n",
       "      <td>9.192837</td>\n",
       "      <td>1.948583</td>\n",
       "      <td>0</td>\n",
       "    </tr>\n",
       "    <tr>\n",
       "      <th>1</th>\n",
       "      <td>2.387802</td>\n",
       "      <td>-3.768172</td>\n",
       "      <td>0</td>\n",
       "    </tr>\n",
       "    <tr>\n",
       "      <th>2</th>\n",
       "      <td>5.733896</td>\n",
       "      <td>-1.075174</td>\n",
       "      <td>0</td>\n",
       "    </tr>\n",
       "  </tbody>\n",
       "</table>\n",
       "</div>"
      ],
      "text/plain": [
       "   principal component 1  principal component 2  target\n",
       "0               9.192837               1.948583       0\n",
       "1               2.387802              -3.768172       0\n",
       "2               5.733896              -1.075174       0"
      ]
     },
     "execution_count": 127,
     "metadata": {},
     "output_type": "execute_result"
    }
   ],
   "source": [
    "X = StandardScaler().fit_transform(X)\n",
    "\n",
    "pca = PCA(n_components=2)\n",
    "principalComponents = pca.fit_transform(X)\n",
    "principalDf = pd.DataFrame(data = principalComponents,\n",
    "                           columns = ['principal component 1',\n",
    "                                      'principal component 2'])\n",
    "\n",
    "finalDf = pd.concat([principalDf, targetDf], axis=1)\n",
    "finalDf.head(3)"
   ]
  },
  {
   "cell_type": "code",
   "execution_count": 128,
   "id": "55215f56",
   "metadata": {},
   "outputs": [
    {
     "data": {
      "image/png": "[encoded data removed]",
      "text/plain": [
       "<Figure size 576x576 with 1 Axes>"
      ]
     },
     "metadata": {
      "needs_background": "light"
     },
     "output_type": "display_data"
    }
   ],
   "source": [
    "labels = [1, 0]\n",
    "\n",
    "fig = plt.figure(figsize = (8,8))\n",
    "ax = fig.add_subplot(1,1,1)\n",
    "ax.set_xlabel('Principal Component 1', fontsize = 15)\n",
    "ax.set_ylabel('Principal Component 2', fontsize = 15)\n",
    "ax.set_title('2 Component PCA', fontsize = 20)\n",
    "\n",
    "colors = [\"#7fc97f\",\"#beaed4\"]\n",
    "for label, color in zip(labels, colors):\n",
    "    indiciesToKeep = finalDf['target'] == label\n",
    "    ax.scatter(finalDf.loc[indiciesToKeep, 'principal component 1'],\n",
    "               finalDf.loc[indiciesToKeep, 'principal component 2'],\n",
    "               c = color, s = 30)\n",
    "                \n",
    "ax.legend(labels)\n",
    "ax.grid(True)"
   ]
  },
  {
   "cell_type": "markdown",
   "id": "f28b824c",
   "metadata": {},
   "source": [
    "#### sns로 훨씬 더 쉽게 plotting하기"
   ]
  },
  {
   "cell_type": "code",
   "execution_count": 129,
   "id": "55b9bdef",
   "metadata": {},
   "outputs": [
    {
     "data": {
      "image/png": "[encoded data removed]",
      "text/plain": [
       "<Figure size 576x576 with 1 Axes>"
      ]
     },
     "metadata": {
      "needs_background": "light"
     },
     "output_type": "display_data"
    }
   ],
   "source": [
    "plt.figure(figsize=(8,8))\n",
    "sns.scatterplot(x='principal component 1', y='principal component 2', hue='target',\n",
    "                style='target', s=80, data=finalDf)\n",
    "plt.xlabel('Principal Component 1', fontsize=15)\n",
    "plt.ylabel('Principal Component 2', fontsize=15)\n",
    "plt.show()"
   ]
  },
  {
   "cell_type": "code",
   "execution_count": null,
   "id": "b95db8d2",
   "metadata": {},
   "outputs": [],
   "source": []
  },
  {
   "cell_type": "markdown",
   "id": "46910563",
   "metadata": {},
   "source": [
    "### LDA (Linear Discriminant Analysis)\n",
    "- Linear Discriminant Analysis(LDA)는 규제가 없는 모델에서 차원의 저주로 인한 과대적합 정도를 줄이고 계산 효율성을 높이기 위한 특성 추출의 기법으로 사용할 수 있다.<br>\n",
    "\n",
    "> \"PCA가 데이터셋에 있는 분산이 최대인 직교 성분 축을 찾으려고 하는 반면, LDA 목표는 클래스를 최적으로 구분할 수 있는 특성 부분 공간을 찾는 것이다.\""
   ]
  },
  {
   "cell_type": "markdown",
   "id": "da3a8633",
   "metadata": {},
   "source": [
    "**동작 방식**<br>\n",
    "1. $d$차원의 데이터셋을 표준화 전처리한다. ($d$는 특성 개수)\n",
    "2. 각 클래스에 대해 $d$차원의 평균 벡터를 계산한다.\n",
    "3. 클래스 간의 산포 행렬(scatter matrix) $\\boldsymbol S_B$와 클래스 내 산포 행렬 $\\boldsymbol S_w$를 구성한다.\n",
    "4. $\\boldsymbol S_W^{-1} \\boldsymbol S_B$ 행렬의 고유 벡터와 고윳값을 계산한다.\n",
    "5. 고윳값을 내림차순으로 정렬하여 고유 벡터의 순서를 매긴다.\n",
    "6. 고윳값이 가장 큰 $k$개의 고유 벡터를 선택하여 $d \\times k$ 차원의 변환 행렬 $\\boldsymbol W$를 구성한다. 이 행렬의 열이 고유 벡터다.\n",
    "7. 변환 행렬 $\\boldsymbol W$를 사용하여 샘플을 새로운 특성 부분 공간으로 투영한다."
   ]
  },
  {
   "cell_type": "markdown",
   "id": "72cdacd4",
   "metadata": {},
   "source": [
    "### 산포 행렬 계산"
   ]
  },
  {
   "cell_type": "markdown",
   "id": "fdcceab7",
   "metadata": {},
   "source": [
    "- 위에서 표준화한 wine 데이터셋 사용해서 평균 벡터 구하기\n",
    "    - 평균 벡터를 사용하여 클래스 간의 산포 행렬과 클래스 내 산포 행렬을 구성한다.\n",
    "    - 평균 벡터 $\\boldsymbol m_i$는 클래스 $i$의 샘플에 대한 특성의 평균값 $\\mu_m$을 저장한다."
   ]
  },
  {
   "cell_type": "markdown",
   "id": "ae3d0494",
   "metadata": {},
   "source": [
    "> 평균 벡터는.. <br>\n",
    "\n",
    "$$ \\boldsymbol m_i = \\dfrac{1}{n_i} \\sum_{\\boldsymbol x \\in D_i} \\boldsymbol x_m $$ <br>\n",
    "\n",
    "$$ \\boldsymbol m_i = \\begin{pmatrix} \\mu_{i,alcohol} \\\\ \\mu_{i,malicacid} \\\\ \\dots \\\\ \\mu_{i_proline} \\end{pmatrix},\\;\\; i \\in \\{1,2,3\\} $$"
   ]
  },
  {
   "cell_type": "markdown",
   "id": "1caa048e",
   "metadata": {},
   "source": [
    "### 직접 LDA"
   ]
  },
  {
   "cell_type": "code",
   "execution_count": 34,
   "id": "e8e631c4",
   "metadata": {},
   "outputs": [
    {
     "name": "stdout",
     "output_type": "stream",
     "text": [
      "MV 1: [ 0.9066 -0.3497  0.3201 -0.7189  0.5056  0.8807  0.9589 -0.5516  0.5416\n",
      "  0.2338  0.5897  0.6563  1.2075]\n",
      "\n",
      "MV 2: [-0.8749 -0.2848 -0.3735  0.3157 -0.3848 -0.0433  0.0635 -0.0946  0.0703\n",
      " -0.8286  0.3144  0.3608 -0.7253]\n",
      "\n",
      "MV 3: [ 0.1992  0.866   0.1682  0.4148 -0.0451 -1.0286 -1.2876  0.8287 -0.7795\n",
      "  0.9649 -1.209  -1.3622 -0.4013]\n",
      "\n"
     ]
    }
   ],
   "source": [
    "# 각 클래스에 대한 평균 벡터를 계산한다\n",
    "np.set_printoptions(precision=4)\n",
    "\n",
    "mean_vecs = []\n",
    "for label in range(1, 4):\n",
    "    mean_vecs.append(np.mean(X_train_std[y_train == label], axis=0))\n",
    "    print('MV %s: %s\\n' % (label, mean_vecs[label - 1]))"
   ]
  },
  {
   "cell_type": "markdown",
   "id": "f9ce689a",
   "metadata": {
    "id": "c-nwJBF5EjG1"
   },
   "source": [
    "#### 클래스 내 산포 행렬을 계산합니다:\n",
    "\n",
    "$\\boldsymbol S_W=\\sum_{i=1}^c \\boldsymbol S_i$\n",
    "\n",
    "$\\boldsymbol S_i=\\sum_{x\\in D_i}(\\boldsymbol x-\\boldsymbol m_i)^T(\\boldsymbol x-\\boldsymbol m_i)$"
   ]
  },
  {
   "cell_type": "code",
   "execution_count": 35,
   "id": "9f32747c",
   "metadata": {},
   "outputs": [
    {
     "name": "stdout",
     "output_type": "stream",
     "text": [
      "클래스 내의 산포 행렬: 13x13\n",
      "클래스 레이블 분포: [41 50 33]\n"
     ]
    }
   ],
   "source": [
    "d = 13 # 특성의 수\n",
    "S_W = np.zeros((d, d))\n",
    "for label, mv in zip(range(1, 4), mean_vecs):\n",
    "    class_scatter = np.zeros((d, d)) # 각 클래스에 대한 산포 행렬\n",
    "    for row in X_train_std[y_train == label]:\n",
    "        row, mv = row.reshape(d, 1), mv.reshape(d, 1) # 열 벡터로 만들기\n",
    "        class_scatter += (row - mv).dot((row - mv).T)\n",
    "    S_W += class_scatter  # 클래스 산포 행렬을 더한다.\n",
    "    \n",
    "print('클래스 내의 산포 행렬: %sx%s' % (S_W.shape[0], S_W.shape[1]))\n",
    "print('클래스 레이블 분포: %s' % np.bincount(y_train)[1:])"
   ]
  },
  {
   "cell_type": "markdown",
   "id": "b411a65e",
   "metadata": {},
   "source": [
    "- 근데 위에서 보듯이, 이 데이터셋이 클래스가 균일하게 분포되지 않은 데이터다.\n",
    "    - **산포 행렬의 계산은 훈련 데이터셋의 클래스 레이블이 균등하게 분포되어 있다고 가정**한다.\n",
    "    - 만약 균등하지 않다면 공분산 행렬을 사용하는 것이 낫다."
   ]
  },
  {
   "cell_type": "markdown",
   "id": "a45be52c",
   "metadata": {},
   "source": [
    "$\\sum_i=\\dfrac{1}{n_i}\\boldsymbol S_i=\\dfrac{1}{n_i}\\sum_{x\\in D_i}(\\boldsymbol x-\\boldsymbol m_i)^T(\\boldsymbol x-\\boldsymbol m_i)$ <br><br>\n",
    "\n",
    "- 산포 행렬을 샘플 개수 $n_i$로 나누면 사실 산포 행렬을 계산하는 것이 공분산 행렬 $\\sum_i$ 를 계산하는 것과 같아진다. **즉, 공분산 행렬은 산포 행렬의 정규화 버전이다.**"
   ]
  },
  {
   "cell_type": "code",
   "execution_count": 36,
   "id": "07d30e83",
   "metadata": {},
   "outputs": [
    {
     "name": "stdout",
     "output_type": "stream",
     "text": [
      "스케일 조정된 클래스 내의 산포 행렬: 13x13\n"
     ]
    }
   ],
   "source": [
    "d = 13\n",
    "S_W = np.zeros((d, d))\n",
    "for label, mv in zip(range(1, 4), mean_vecs):\n",
    "    class_scatter = np.cov(X_train_std[y_train == label].T)\n",
    "    S_W += class_scatter\n",
    "print('스케일 조정된 클래스 내의 산포 행렬: %sx%s' % (S_W.shape[0], S_W.shape[1]))"
   ]
  },
  {
   "cell_type": "markdown",
   "id": "17dfaa78",
   "metadata": {
    "id": "7dBT2KJKEjG1"
   },
   "source": [
    "#### 클래스 내 산포 행렬(또는 공분산 행렬)을 계산한 후 다음 단계는 클래스 간 산포 행렬을 계산하는 것이다\n",
    "\n",
    "$\\boldsymbol S_B=\\sum_{i=1}^c n_i(\\boldsymbol m_i-\\boldsymbol m)^T(\\boldsymbol m_i-\\boldsymbol m)$<br>\n",
    "\n",
    "- 여기서 $\\boldsymbol m$은 모든 클래스의 샘플을 포함하여 계산된 전체 평균이다."
   ]
  },
  {
   "cell_type": "code",
   "execution_count": 37,
   "id": "6fb7734a",
   "metadata": {},
   "outputs": [
    {
     "name": "stdout",
     "output_type": "stream",
     "text": [
      "클래스 간의 산포 행렬: 13x13\n"
     ]
    }
   ],
   "source": [
    "mean_overall = np.mean(X_train_std, axis=0)\n",
    "mean_overall = mean_overall.reshape(d, 1)\n",
    "d = 13\n",
    "S_B = np.zeros((d, d))\n",
    "for i, mean_vec in enumerate(mean_vecs):\n",
    "    n = X_train_std[y_train == i + 1, :].shape[0]\n",
    "    mean_vec = mean_vec.reshape(d, 1)\n",
    "    S_B += n * (mean_vec - mean_overall).dot((mean_vec - mean_overall).T)\n",
    "    \n",
    "print('클래스 간의 산포 행렬: %sx%s' % (S_B.shape[0], S_B.shape[1]))"
   ]
  },
  {
   "cell_type": "markdown",
   "id": "481adffa",
   "metadata": {},
   "source": [
    "### 5.2.4 새로운 특성 부분 공간을 위해 선형 판별 벡터 선택\n",
    "- 이제 다음 단계는..\n",
    "    - PCA라면 공분산 행렬에 대한 고윳값 분해를 하는 건데,\n",
    "    - LDA는 대신 행렬 $\\boldsymbol S_W^{-1} \\boldsymbol W_B$의 고윳값을 계산한다."
   ]
  },
  {
   "cell_type": "code",
   "execution_count": 38,
   "id": "865190be",
   "metadata": {},
   "outputs": [],
   "source": [
    "eigen_vals, eigen_vecs = np.linalg.eig(np.linalg.inv(S_W).dot(S_B))"
   ]
  },
  {
   "cell_type": "markdown",
   "id": "1bdf6655",
   "metadata": {},
   "source": [
    "- 고윳값의 역순으로 고유벡터를 정렬한다 (판별 벡터의 개수 = 클래스 개수 -1):"
   ]
  },
  {
   "cell_type": "code",
   "execution_count": 39,
   "id": "973d193b",
   "metadata": {},
   "outputs": [
    {
     "name": "stdout",
     "output_type": "stream",
     "text": [
      "내림차순의 고윳값:\n",
      "\n",
      "349.6178089059941\n",
      "172.76152218979385\n",
      "2.842170943040401e-14\n",
      "2.564925776858485e-14\n",
      "2.4338020883285312e-14\n",
      "2.4338020883285312e-14\n",
      "2.0175057173967873e-14\n",
      "1.4666248938581886e-14\n",
      "1.4666248938581886e-14\n",
      "6.749911050291042e-15\n",
      "6.749911050291042e-15\n",
      "4.473806353827043e-15\n",
      "1.1725209460862484e-15\n"
     ]
    }
   ],
   "source": [
    "# (고윳값, 고유벡터) 튜플의 리스트를 만든다\n",
    "eigen_pairs = [(np.abs(eigen_vals[i]), eigen_vecs[:, i])\n",
    "              for i in range(len(eigen_vals))]\n",
    "\n",
    "# (고윳값, 고유벡터) 튜플을 큰 값에서 작은 값 순서로 정렬한다\n",
    "eigen_pairs = sorted(eigen_pairs, key=lambda k: k[0], reverse=True)\n",
    "\n",
    "# 고윳값의 역순으로 올바르게 정렬되었는지 확인한다\n",
    "print('내림차순의 고윳값:\\n')\n",
    "for eigen_val in eigen_pairs:\n",
    "    print(eigen_val[0])"
   ]
  },
  {
   "cell_type": "code",
   "execution_count": 40,
   "id": "10c3f251",
   "metadata": {},
   "outputs": [
    {
     "data": {
      "image/png": "[encoded data removed]",
      "text/plain": [
       "<Figure size 432x288 with 1 Axes>"
      ]
     },
     "metadata": {
      "needs_background": "light"
     },
     "output_type": "display_data"
    }
   ],
   "source": [
    "tot = sum(eigen_vals.real)\n",
    "discr = [(i / tot) for i in sorted(eigen_vals.real, reverse=True)]\n",
    "cum_discr = np.cumsum(discr)\n",
    "\n",
    "plt.bar(range(1, 14), discr, alpha=0.5, align='center',\n",
    "       label='Individual \"discriminability\"')\n",
    "plt.step(range(1, 14), cum_discr, where='mid',\n",
    "       label='Cumulative \"discriminability\"')\n",
    "plt.ylabel('\"Discriminability\" ratio')\n",
    "plt.xlabel('Linear discriminants')\n",
    "plt.ylim([-0.1, 1.1])\n",
    "plt.legend(loc='best')\n",
    "plt.tight_layout()\n",
    "\n",
    "plt.show()"
   ]
  },
  {
   "cell_type": "code",
   "execution_count": 41,
   "id": "4b66c763",
   "metadata": {},
   "outputs": [
    {
     "name": "stdout",
     "output_type": "stream",
     "text": [
      "행렬 W:\n",
      " [[-0.1481 -0.4092]\n",
      " [ 0.0908 -0.1577]\n",
      " [-0.0168 -0.3537]\n",
      " [ 0.1484  0.3223]\n",
      " [-0.0163 -0.0817]\n",
      " [ 0.1913  0.0842]\n",
      " [-0.7338  0.2823]\n",
      " [-0.075  -0.0102]\n",
      " [ 0.0018  0.0907]\n",
      " [ 0.294  -0.2152]\n",
      " [-0.0328  0.2747]\n",
      " [-0.3547 -0.0124]\n",
      " [-0.3915 -0.5958]]\n"
     ]
    }
   ],
   "source": [
    "# 변환 행렬 W:\n",
    "w = np.hstack((eigen_pairs[0][1][:, np.newaxis].real,\n",
    "              eigen_pairs[1][1][:, np.newaxis].real))\n",
    "print('행렬 W:\\n', w)"
   ]
  },
  {
   "cell_type": "markdown",
   "id": "eadbe08e",
   "metadata": {},
   "source": [
    "### 5.2.5 새로운 특성 공간으로 샘플 투영\n",
    "- 변환 행렬을 훈련 데이터셋에 곱해서 데이터를 변환할 수 있다.<br><br>\n",
    "$$\\boldsymbol X'=\\boldsymbol X \\boldsymbol W$$"
   ]
  },
  {
   "cell_type": "code",
   "execution_count": 42,
   "id": "590b0165",
   "metadata": {},
   "outputs": [
    {
     "data": {
      "image/png": "[encoded data removed]",
      "text/plain": [
       "<Figure size 432x288 with 1 Axes>"
      ]
     },
     "metadata": {
      "needs_background": "light"
     },
     "output_type": "display_data"
    }
   ],
   "source": [
    "X_train_lda = X_train_std.dot(w)\n",
    "colors = ['r', 'b', 'g']\n",
    "markers = ['s', 'x', 'o']\n",
    "\n",
    "for l, c, m in zip(np.unique(y_train), colors, markers):\n",
    "    plt.scatter(X_train_lda[y_train == l, 0],\n",
    "               X_train_lda[y_train == l, 1] * (-1),\n",
    "               c=c, label=l, marker=m)\n",
    "\n",
    "plt.xlabel('LD 1')\n",
    "plt.ylabel('LD 2')\n",
    "plt.legend(loc='lower right')\n",
    "plt.tight_layout()\n",
    "\n",
    "plt.show()"
   ]
  },
  {
   "cell_type": "markdown",
   "id": "dcc94041",
   "metadata": {},
   "source": [
    "### sklearn의 LDA"
   ]
  },
  {
   "cell_type": "code",
   "execution_count": 43,
   "id": "2acee0cb",
   "metadata": {},
   "outputs": [],
   "source": [
    "# LDA로 차원 축소한 데이터에서 LogisticRegression 모델 성능 확인하기\n",
    "from sklearn.discriminant_analysis import LinearDiscriminantAnalysis as LDA\n",
    "\n",
    "lda = LDA(n_components=2)\n",
    "X_train_lda = lda.fit_transform(X_train_std, y_train)"
   ]
  },
  {
   "cell_type": "code",
   "execution_count": null,
   "id": "b0df5644",
   "metadata": {},
   "outputs": [],
   "source": []
  },
  {
   "cell_type": "markdown",
   "id": "b4e7d6c0",
   "metadata": {},
   "source": [
    "### Kernel PCA"
   ]
  },
  {
   "cell_type": "markdown",
   "id": "079442ac",
   "metadata": {},
   "source": [
    "### 5.3.1 커널 함수와 커널 트릭"
   ]
  },
  {
   "cell_type": "markdown",
   "id": "215e55b3",
   "metadata": {},
   "source": [
    "#### 3.5.2의 커널 SVM에서 나왔던 거 다시 보면..\n",
    "- 커널 방법의 기본 아이디어는\n",
    "    - $(x_1, x_2)$라는 특성에다가 커널 함수를 적용시켜서,\n",
    "    - $\\phi(x_1, x_2)\\;=\\;(z_1,z_2,z_3)\\;=\\;(x_1,x_2,\\;x_1^2 + x_2^2)$라는 고차원으로 매핑시키는 것이다.<br><br>\n",
    "\n",
    "- 근데 위 방법의 문제는 $x_1^2 + x_2^2$, 즉... $\\boldsymbol x^{(i)T} \\cdot \\boldsymbol x^{(j)}$ 라는 dot product의 계산 비용이 아주 비싸다는 것이다.\n",
    "    - 그래서 사용하는 게 '커널 트릭'이다. => 계산 비용 절감을 위한 커널 함수를 정의하는 것이다.\n",
    "    - 위의 dot product의 계산을 커널 함수를 푸는 것으로 바꾸는 거다.\n",
    "    - $$ \\kappa (\\boldsymbol x^{(i)},\\boldsymbol x^{(j)}) = \\phi(\\boldsymbol x^{(i)})^T \\phi(\\boldsymbol x^{(j)})$$"
   ]
  },
  {
   "cell_type": "markdown",
   "id": "fef02d10",
   "metadata": {},
   "source": [
    "- 가장 많이 사용되는 커널 중 하나는 방사 기저 함수(Radial Basis Function, RBF)다. 가우시안 커널(Gaussian Kernel)이라고도 불린다.<br>\n",
    "\n",
    "$$ \\kappa (\\boldsymbol x^{(i)}, \\boldsymbol x^{(j)})\\;=\\;exp \\bigg(- \\dfrac{||\\boldsymbol x^{(i)} - \\boldsymbol x^{(j)}||^2}{2\\sigma^2} \\bigg) $$<br><br>\n",
    "\n",
    "- 간단하게 아래와 같이 쓰기도 한다.\n",
    "$$ \\kappa (\\boldsymbol x^{(i)}, \\boldsymbol x^{(j)})\\;=\\;exp \\big(- \\gamma ||\\boldsymbol x^{(i)} - \\boldsymbol x^{(j)}||^2 \\big) $$"
   ]
  },
  {
   "cell_type": "markdown",
   "id": "fa6eb2f0",
   "metadata": {},
   "source": [
    "> 대략적으로 말하면 '커널'을 샘플 간의 '유사도 함수(similarity function)'로 해석할 수 있다."
   ]
  },
  {
   "cell_type": "markdown",
   "id": "39dd8624",
   "metadata": {},
   "source": [
    "#### 커널 PCA 설명"
   ]
  },
  {
   "cell_type": "markdown",
   "id": "c5c2d582",
   "metadata": {},
   "source": [
    "- 커널 PCA도 커널 SVM과 비슷하다.\n",
    "- 커널 PCA는 비선형 매핑을 수행하여 데이터를 고차원 공간으로 변환하고, 그 다음 고차원 공간에서 표준 PCA를 사용하여 샘플이 선형 분류기로 구분될 수 있는 저차원 공간으로 데이터를 투영한다. (샘플이 이 입력 공간에서 잘 구분될 수 있다고 가정한다)\n",
    "    - 이 방식이 계산 비용이 비싸기 때문에, 커널 PCA도 커널 SVM처럼 커널 트릭을 사용한다.\n",
    "    - 커널 트릭을 사용하면 \"원본 특성 공간에서 두 고차원 특성 벡터의 유사도를 계산할 수 있게 된다.\""
   ]
  },
  {
   "cell_type": "markdown",
   "id": "09b69711",
   "metadata": {},
   "source": [
    "**먼저 표준 PCA를 다시 생각해보자**"
   ]
  },
  {
   "cell_type": "markdown",
   "id": "cea18db0",
   "metadata": {},
   "source": [
    "1. 두 개의 특성 $k$와 $j$ 사이의 공분산은 다음과 같이 계산한다.\n",
    "    - $\\sigma_{jk} = \\dfrac{1}{n} \\sum^n_{i=1} (x^{(i)}_j - \\mu_j)(x^{(i)}_k - \\mu_k)$<br>\n",
    "\n",
    "2. 특성 평균을 0에 맞추었으므로 위 식을 다음과 같이 간단히 쓸 수 있다.\n",
    "    - $\\sigma_{jk} = \\dfrac{1}{n} \\sum^n_{i=1} x^{(i)}_j x^{(i)}_k$<br>\n",
    "    \n",
    "3. 이 식은 두 특성 간의 공분산을 의미한다. 공분산 행렬 $\\sum$를 계산하는 일반식으로 써보자.\n",
    "    - $\\sum = \\dfrac{1}{n} \\sum^n_{i=1} x^{(i)} x^{(i)^T}$<br>\n",
    "    \n",
    "4. 베른하르트 슐코프가 이 방식을 일반화하여 $\\phi$를 통한 비선형 특성 조합으로 원본 특성 공간의 샘플 사이의 점곱을 대체했다.\n",
    "    - $\\sum = \\dfrac{1}{n} \\sum^n_{i=1} \\phi(x^{(i)}) \\phi(x^{(i)})^T$<br>\n",
    "    \n",
    "5. 이 공분산 행렬에서 고유 벡터(주성분)를 얻기 위해서는 다음 식을 풀어야 한다.\n",
    "    - $\\sum \\boldsymbol \\nu = \\lambda \\boldsymbol \\nu$\n",
    "    - $\\Rightarrow \\dfrac{1}{n} \\sum^n_{i=1} \\phi(x^{(i)}) \\phi(x^{(i)})^T \\boldsymbol \\nu = \\lambda \\boldsymbol \\nu$\n",
    "    - $\\Rightarrow \\boldsymbol \\nu = \\dfrac{1}{n\\lambda} \\sum^n_{i=1} \\phi(x^{(i)}) \\phi(x^{(i)})^T \\boldsymbol \\nu = \\sum^n_{i=1} \\boldsymbol a^{(i)} \\phi(\\boldsymbol x^{(i)})$<br><br>\n",
    "    \n",
    "6. 위에서 $\\lambda$와 $\\boldsymbol \\nu$는 공분산 행렬 $\\sum$의 고윳값과 고유 벡터다. $\\boldsymbol a$는 커널(유사도) 행렬 $\\boldsymbol K$의 고유 벡터를 추출함으로써 구할 수 있다.\n",
    "\n",
    "7. 커널 행렬의 유도\n",
    "    - 먼저 공분산 행렬을 행렬 표기법으로 나타내자. X는 $n \\times k$차원 행렬이다.\n",
    "    - $\\sum = \\dfrac{1}{n} \\sum^n_{i=1} \\phi(x^{(i)}) \\phi(x^{(i)})^T = \\dfrac{1}{n} \\phi(\\boldsymbol X)^T \\phi(\\boldsymbol X)$<br><br>\n",
    "    \n",
    "    - 고유 벡터 식은 다음과 같이 쓸 수 있다.\n",
    "    - $\\boldsymbol \\nu = \\sum^n_{i=1} \\boldsymbol a^{(i)} \\phi(\\boldsymbol x^{(i)}) = \\phi(\\boldsymbol X)^T \\boldsymbol a$<br><br>\n",
    "    \n",
    "    - $\\sum \\boldsymbol \\nu = \\lambda \\boldsymbol \\nu$ 이기 때문에 다음을 얻는다.\n",
    "        - $\\dfrac{1}{n} \\phi(\\boldsymbol X)^T \\phi(\\boldsymbol X)\\phi(\\boldsymbol X)^T \\boldsymbol a = \\lambda \\phi(\\boldsymbol X)\\phi(\\boldsymbol X)^T \\boldsymbol a$\n",
    "        - $\\Rightarrow \\dfrac{1}{n} \\phi(\\boldsymbol X)\\phi(\\boldsymbol X)^T \\boldsymbol a = \\lambda \\boldsymbol a$\n",
    "        - $\\Rightarrow \\dfrac{1}{n} \\boldsymbol K \\boldsymbol a = \\lambda \\boldsymbol a$<br><br>\n",
    "        \n",
    "- 여기서 K는 유사도(커널) 행렬이다.<br>\n",
    "$$ \\boldsymbol K = \\phi(\\boldsymbol X)\\phi(\\boldsymbol X)^T $$"
   ]
  },
  {
   "cell_type": "markdown",
   "id": "21206aba",
   "metadata": {},
   "source": [
    "#### RBF 커널 PCA를 구현하기 위해 다음 3단계를 정의한다.\n",
    "1. 커널 (유사도) 행렬 $\\boldsymbol K$를 다음 식으로 계산한다.\n",
    "    - $\\kappa (\\boldsymbol x^{(i)}, \\boldsymbol x^{(j)})\\;=\\;exp \\big(- \\gamma ||\\boldsymbol x^{(i)} - \\boldsymbol x^{(j)}||^2 \\big)$\n",
    "    - 여기서 $\\gamma = \\dfrac{1}{2\\sigma^2}$\n",
    "    - 샘플의 모든 쌍에 대해 구한다.\n",
    "        - 예를 들어 100개의 훈련 샘플이 담긴 데이터넷이면, 각 쌍의 유사도를 담은 대칭 커널 행렬은 100x100 차원이 된다.<br><br>\n",
    "        \n",
    "2. 다음 식을 사용하여 커널 행렬 $\\boldsymbol K$를 중앙에 맞춘다.\n",
    "    - $\\boldsymbol K^{'} = \\boldsymbol K - 1_n \\boldsymbol K - \\boldsymbol K 1_n + 1_n \\boldsymbol K 1_n $\n",
    "    - $1_n$은 모든 값이 $\\dfrac{1}{n}$인 $n \\times n$차원 행렬이다. (커널 행렬과 같은 차원)<br><br>\n",
    "\n",
    "3. 고윳값 크기대로 내림차순으로 정렬하여 중앙에 맞춘 커널 행렬에서 최상위 $k$개의 고유 벡터를 고른다. 표준 PCA와 다르게 고유 벡터는 주성분 축이 아니며, 이미 이 축에 투영된 샘플이다."
   ]
  },
  {
   "cell_type": "markdown",
   "id": "2dda6ada",
   "metadata": {},
   "source": [
    "### 5.3.2 파이썬으로 커널 PCA 구현"
   ]
  },
  {
   "cell_type": "code",
   "execution_count": 44,
   "id": "fba00a76",
   "metadata": {},
   "outputs": [],
   "source": [
    "from scipy.spatial.distance import pdist, squareform\n",
    "from scipy.linalg import eigh\n",
    "import numpy as np\n",
    "\n",
    "from distutils.version import LooseVersion as Version\n",
    "from scipy import __version__ as scipy_version\n",
    "\n",
    "if scipy_version >= Version('1.4.1'):\n",
    "    from numpy import exp\n",
    "else:\n",
    "    from scipy import exp\n",
    "\n",
    "\n",
    "def rbf_kernel_pca(X, gamma, n_components):\n",
    "    \"\"\"\n",
    "    RBF 커널 PCA 구현\n",
    "    \n",
    "    매개변수\n",
    "    -----------\n",
    "    X: {넘파이 ndarray}, shape = [n_samples, n_features]\n",
    "    \n",
    "    gamma: float\n",
    "      RBF 커널 튜닝 매개변수\n",
    "    \n",
    "    n_components: int\n",
    "      반환할 주성분 개수\n",
    "    \n",
    "    반환값\n",
    "    -----------\n",
    "      X_pc: {넘파이 ndarray}, shape = [n_samples, k_features]\n",
    "        투영된 데이터셋\n",
    "    \"\"\"\n",
    "    # MxN 차원의 데이터셋에서 샘플 간의 유클리디안 거리의 제곱을 계산한다.\n",
    "    sq_dists = pdist(X, 'sqeuclidean')\n",
    "    \n",
    "    # 샘플 간의 거리를 정방 대칭 행렬로 변환한다.\n",
    "    mat_sq_dists = squareform(sq_dists)\n",
    "    \n",
    "    # 커널 행렬을 계산한다.\n",
    "    K = exp(-gamma * mat_sq_dists)\n",
    "    \n",
    "    # 커널 행렬을 중앙에 맞춥니다.\n",
    "    N = K.shape[0]\n",
    "    one_n = np.ones((N, N)) / N\n",
    "    K = K - one_n.dot(K) - K.dot(one_n) + one_n.dot(K).dot(one_n)\n",
    "    \n",
    "    # 중앙에 맞춰진 커널 행렬의 고윳값과 고유벡터를 구한다.\n",
    "        # scipy.linalg.eigh 함수는 오름차순으로 반환한다.\n",
    "    eigvals, eigvecs = eigh(K)\n",
    "    eigvals, eigvecs = eigvals[::-1], eigvecs[:, ::-1]\n",
    "    \n",
    "    # 최상위 k 개의 고유벡터를 선택한다. (결과값은 투영된 샘플이다)\n",
    "    X_pc = np.column_stack([eigvecs[:, i]\n",
    "                           for i in range(n_components)])\n",
    "    \n",
    "    return X_pc"
   ]
  },
  {
   "cell_type": "code",
   "execution_count": null,
   "id": "8dd545e1",
   "metadata": {},
   "outputs": [],
   "source": []
  },
  {
   "cell_type": "markdown",
   "id": "0dd5a8e7",
   "metadata": {},
   "source": [
    "# <font color='blue'>[Pipeline 구현]</font>\n",
    "\n"
   ]
  },
  {
   "cell_type": "code",
   "execution_count": null,
   "id": "bebe42a4",
   "metadata": {},
   "outputs": [],
   "source": []
  },
  {
   "cell_type": "code",
   "execution_count": null,
   "id": "59e16032",
   "metadata": {},
   "outputs": [],
   "source": []
  },
  {
   "cell_type": "code",
   "execution_count": null,
   "id": "d8913096",
   "metadata": {},
   "outputs": [],
   "source": []
  },
  {
   "cell_type": "code",
   "execution_count": null,
   "id": "7f3b0ea8",
   "metadata": {},
   "outputs": [],
   "source": []
  },
  {
   "cell_type": "markdown",
   "id": "9a0096e5",
   "metadata": {},
   "source": [
    "# <font color='blue'>[교차검증 Cross-Validation]</font>\n",
    "\n",
    "### KFold\n",
    "- 학습데이터를 validation과 training으로 나누고, 이를 다시 k개의 폴드 세트로 만든다.\n",
    "    - k번 만큼 모델을 training하고 validation set로 검증한다. => 교차검증 결과의 평균을 낸다.\n",
    "    - 이후 최종적으로 test set에 검증한다.\n",
    "- 종류\n",
    "    - K-fold\n",
    "    - Stratified K-fold: imbalanced class dataset에서 사용된다. 레이블 데이터의 분포를 폴드 세트간 일정하게 만든다."
   ]
  },
  {
   "cell_type": "code",
   "execution_count": 63,
   "id": "d0d4c019",
   "metadata": {},
   "outputs": [
    {
     "name": "stdout",
     "output_type": "stream",
     "text": [
      "붓꽃 데이터 세트 크기: 150\n"
     ]
    }
   ],
   "source": [
    "iris = load_iris()\n",
    "X = iris.data\n",
    "y = iris.target\n",
    "dt_clf = DecisionTreeClassifier(random_state=0)\n",
    "\n",
    "# 5개의 폴드 세트로 분리하는 KFold 객체와 폴드 세트별 정확도를 담을 리스트 객체 생성.\n",
    "kfold = KFold(n_splits=5)  # 여기서 KFold는 그냥 \"객체 생성\"이다.\n",
    "cv_accuracy = []\n",
    "print('붓꽃 데이터 세트 크기:',X.shape[0])\n",
    "    # 5개 폴드 세트니까, 각각 세트마다 학습데이터 120개 / 검증데이터 30개다."
   ]
  },
  {
   "cell_type": "code",
   "execution_count": 64,
   "id": "d8ead3f0",
   "metadata": {},
   "outputs": [
    {
     "name": "stdout",
     "output_type": "stream",
     "text": [
      "\n",
      "#1 교차 검증 정확도 :1.0, 학습 데이터 크기: 120, 검증 데이터 크기: 30\n",
      "#1 검증 세트 인덱스:[ 0  1  2  3  4  5  6  7  8  9 10 11 12 13 14 15 16 17 18 19 20 21 22 23\n",
      " 24 25 26 27 28 29]\n",
      "\n",
      "#2 교차 검증 정확도 :0.9667, 학습 데이터 크기: 120, 검증 데이터 크기: 30\n",
      "#2 검증 세트 인덱스:[30 31 32 33 34 35 36 37 38 39 40 41 42 43 44 45 46 47 48 49 50 51 52 53\n",
      " 54 55 56 57 58 59]\n",
      "\n",
      "#3 교차 검증 정확도 :0.8333, 학습 데이터 크기: 120, 검증 데이터 크기: 30\n",
      "#3 검증 세트 인덱스:[60 61 62 63 64 65 66 67 68 69 70 71 72 73 74 75 76 77 78 79 80 81 82 83\n",
      " 84 85 86 87 88 89]\n",
      "\n",
      "#4 교차 검증 정확도 :0.9333, 학습 데이터 크기: 120, 검증 데이터 크기: 30\n",
      "#4 검증 세트 인덱스:[ 90  91  92  93  94  95  96  97  98  99 100 101 102 103 104 105 106 107\n",
      " 108 109 110 111 112 113 114 115 116 117 118 119]\n",
      "\n",
      "#5 교차 검증 정확도 :0.8, 학습 데이터 크기: 120, 검증 데이터 크기: 30\n",
      "#5 검증 세트 인덱스:[120 121 122 123 124 125 126 127 128 129 130 131 132 133 134 135 136 137\n",
      " 138 139 140 141 142 143 144 145 146 147 148 149]\n",
      "\n",
      "## 평균 검증 정확도: 0.9066599999999999\n"
     ]
    }
   ],
   "source": [
    "# cv - for loop\n",
    "n_iter = 0\n",
    "# KFold객체의 split( ) 호출하면 폴드 별 학습용, 검증용 테스트의 로우 인덱스를 array로 반환  \n",
    "for train_index, test_index  in kfold.split(X):\n",
    "    # kfold.split( )으로 반환된 인덱스를 이용하여 학습용, 검증용 테스트 데이터 추출\n",
    "    X_train, X_test = X[train_index], X[test_index]\n",
    "    y_train, y_test = y[train_index], y[test_index]\n",
    "    \n",
    "    #학습 및 예측 \n",
    "    dt_clf.fit(X_train , y_train)    \n",
    "    pred = dt_clf.predict(X_test)\n",
    "    n_iter += 1\n",
    "    \n",
    "    # 반복 시 마다 정확도 측정 \n",
    "    accuracy = np.round(accuracy_score(y_test,pred), 4)\n",
    "    train_size = X_train.shape[0]\n",
    "    test_size = X_test.shape[0]\n",
    "    print('\\n#{0} 교차 검증 정확도 :{1}, 학습 데이터 크기: {2}, 검증 데이터 크기: {3}'.format(n_iter, accuracy, train_size, test_size))\n",
    "    print('#{0} 검증 세트 인덱스:{1}'.format(n_iter,test_index))\n",
    "    \n",
    "    cv_accuracy.append(accuracy)\n",
    "    \n",
    "# 개별 iteration별 정확도를 합하여 평균 정확도 계산 \n",
    "print('\\n## 평균 검증 정확도:', np.mean(cv_accuracy)) "
   ]
  },
  {
   "cell_type": "code",
   "execution_count": 65,
   "id": "d352be0e",
   "metadata": {},
   "outputs": [
    {
     "name": "stdout",
     "output_type": "stream",
     "text": [
      "\n",
      "#1 교차 검증 정확도 :0.98, 학습 데이터 크기: 100, 검증 데이터 크기: 50\n",
      "#1 검증 세트 인덱스:[  0   1   2   3   4   5   6   7   8   9  10  11  12  13  14  15  16  50\n",
      "  51  52  53  54  55  56  57  58  59  60  61  62  63  64  65  66 100 101\n",
      " 102 103 104 105 106 107 108 109 110 111 112 113 114 115]\n",
      "\n",
      "#2 교차 검증 정확도 :0.94, 학습 데이터 크기: 100, 검증 데이터 크기: 50\n",
      "#2 검증 세트 인덱스:[ 17  18  19  20  21  22  23  24  25  26  27  28  29  30  31  32  33  67\n",
      "  68  69  70  71  72  73  74  75  76  77  78  79  80  81  82 116 117 118\n",
      " 119 120 121 122 123 124 125 126 127 128 129 130 131 132]\n",
      "\n",
      "#3 교차 검증 정확도 :0.98, 학습 데이터 크기: 100, 검증 데이터 크기: 50\n",
      "#3 검증 세트 인덱스:[ 34  35  36  37  38  39  40  41  42  43  44  45  46  47  48  49  83  84\n",
      "  85  86  87  88  89  90  91  92  93  94  95  96  97  98  99 133 134 135\n",
      " 136 137 138 139 140 141 142 143 144 145 146 147 148 149]\n",
      "\n",
      "## 교차 검증별 정확도: [0.98 0.94 0.98]\n",
      "## 평균 검증 정확도: 0.9666666666666667\n"
     ]
    }
   ],
   "source": [
    "dt_clf = DecisionTreeClassifier(random_state=0)\n",
    "\n",
    "skfold = StratifiedKFold(n_splits=3)\n",
    "n_iter=0\n",
    "cv_accuracy=[]\n",
    "\n",
    "# StratifiedKFold의 split( ) 호출시 반드시 레이블 데이터 셋도 추가 입력 필요  \n",
    "for train_index, test_index  in skfold.split(X, y):\n",
    "    # split( )으로 반환된 인덱스를 이용하여 학습용, 검증용 테스트 데이터 추출\n",
    "    X_train, X_test = X[train_index], X[test_index]\n",
    "    y_train, y_test = y[train_index], y[test_index]\n",
    "    \n",
    "    #학습 및 예측 \n",
    "    dt_clf.fit(X_train , y_train)    \n",
    "    pred = dt_clf.predict(X_test)\n",
    "\n",
    "    # 반복 시 마다 정확도 측정 \n",
    "    n_iter += 1\n",
    "    accuracy = np.round(accuracy_score(y_test,pred), 4)\n",
    "    train_size = X_train.shape[0]\n",
    "    test_size = X_test.shape[0]\n",
    "    \n",
    "    print('\\n#{0} 교차 검증 정확도 :{1}, 학습 데이터 크기: {2}, 검증 데이터 크기: {3}'\n",
    "          .format(n_iter, accuracy, train_size, test_size))\n",
    "    print('#{0} 검증 세트 인덱스:{1}'.format(n_iter,test_index))\n",
    "    cv_accuracy.append(accuracy)\n",
    "    \n",
    "# 교차 검증별 정확도 및 평균 정확도 계산 \n",
    "print('\\n## 교차 검증별 정확도:', np.round(cv_accuracy, 4))\n",
    "print('## 평균 검증 정확도:', np.mean(cv_accuracy)) "
   ]
  },
  {
   "cell_type": "markdown",
   "id": "b9e4b405",
   "metadata": {},
   "source": [
    "### cross_val_score( )"
   ]
  },
  {
   "cell_type": "code",
   "execution_count": 66,
   "id": "31c2f3b2",
   "metadata": {},
   "outputs": [
    {
     "name": "stdout",
     "output_type": "stream",
     "text": [
      "교차 검증별 정확도: [0.98 0.94 0.98]\n",
      "평균 검증 정확도: 0.9667\n"
     ]
    }
   ],
   "source": [
    "# cross_val_score()\n",
    "iris = load_iris()\n",
    "X = iris.data\n",
    "y = iris.target\n",
    "dt_clf = DecisionTreeClassifier(random_state=0)\n",
    "\n",
    "scores = cross_val_score(dt_clf, X, y, scoring='accuracy', cv=3)\n",
    "print('교차 검증별 정확도:',np.round(scores, 4))\n",
    "print('평균 검증 정확도:', np.round(np.mean(scores), 4))"
   ]
  },
  {
   "cell_type": "markdown",
   "id": "fb377649",
   "metadata": {},
   "source": [
    "### 학습 곡선과 검증 곡선"
   ]
  },
  {
   "cell_type": "code",
   "execution_count": 70,
   "id": "8a09507c",
   "metadata": {},
   "outputs": [
    {
     "data": {
      "text/html": [
       "<img src=\"https://git.io/JtsTi\" width=\"600\"/>"
      ],
      "text/plain": [
       "<IPython.core.display.Image object>"
      ]
     },
     "execution_count": 70,
     "metadata": {},
     "output_type": "execute_result"
    }
   ],
   "source": [
    "Image(url='https://git.io/JtsTi', width=600)"
   ]
  },
  {
   "cell_type": "markdown",
   "id": "572d78cf",
   "metadata": {},
   "source": [
    "- 왼쪽 위는 훈련 정확도와 교차검증 정확도 모두 낮다. (높은 편향)\n",
    "    - 훈련 데이터에 과소적합 되어 있다.\n",
    "    - 일반적인 해결법은 '모델의 파라미터 개수를 늘리는 것' => 추가적인 특성을 수집하거나 생성; SVM이나 LogisticRegression에서 규제 강도를 줄인다.\n",
    "- 오른쪽 위는 훈련 정확도와 교차검증 정확도 사이에 큰 차이가 있다. (높은 분산)\n",
    "    - 훈련 데이터에 과대적합 되어있다.\n",
    "    - 더 많은 훈련 데이터를 모으거나, 모델 복잡도를 낮추거나, 규제를 증가시킨다.<br><br>\n",
    "    \n",
    "> **실전에서는 데이터를 모으는 게 비싸거나 불가능할 때도 많다. \"모델의 훈련 정확도와 검증 정확도를 훈련 데이터셋의 크기 함수로 그래프를 그려 보면 모델에 높은 분산의 문제가 있는지, 높은 편향의 문제가 있는지 쉽게 볼 수 있다. 더 많은 데이터를 모으는 것이 문제를 해결할 수 있을지 판단이 가능해진다.**"
   ]
  },
  {
   "cell_type": "code",
   "execution_count": 75,
   "id": "bd6373af",
   "metadata": {},
   "outputs": [
    {
     "data": {
      "text/html": [
       "<div>\n",
       "<style scoped>\n",
       "    .dataframe tbody tr th:only-of-type {\n",
       "        vertical-align: middle;\n",
       "    }\n",
       "\n",
       "    .dataframe tbody tr th {\n",
       "        vertical-align: top;\n",
       "    }\n",
       "\n",
       "    .dataframe thead th {\n",
       "        text-align: right;\n",
       "    }\n",
       "</style>\n",
       "<table border=\"1\" class=\"dataframe\">\n",
       "  <thead>\n",
       "    <tr style=\"text-align: right;\">\n",
       "      <th></th>\n",
       "      <th>0</th>\n",
       "      <th>1</th>\n",
       "      <th>2</th>\n",
       "      <th>3</th>\n",
       "      <th>4</th>\n",
       "      <th>5</th>\n",
       "      <th>6</th>\n",
       "      <th>7</th>\n",
       "      <th>8</th>\n",
       "      <th>9</th>\n",
       "      <th>...</th>\n",
       "      <th>22</th>\n",
       "      <th>23</th>\n",
       "      <th>24</th>\n",
       "      <th>25</th>\n",
       "      <th>26</th>\n",
       "      <th>27</th>\n",
       "      <th>28</th>\n",
       "      <th>29</th>\n",
       "      <th>30</th>\n",
       "      <th>31</th>\n",
       "    </tr>\n",
       "  </thead>\n",
       "  <tbody>\n",
       "    <tr>\n",
       "      <th>0</th>\n",
       "      <td>842302</td>\n",
       "      <td>M</td>\n",
       "      <td>17.99</td>\n",
       "      <td>10.38</td>\n",
       "      <td>122.80</td>\n",
       "      <td>1001.0</td>\n",
       "      <td>0.11840</td>\n",
       "      <td>0.27760</td>\n",
       "      <td>0.3001</td>\n",
       "      <td>0.14710</td>\n",
       "      <td>...</td>\n",
       "      <td>25.38</td>\n",
       "      <td>17.33</td>\n",
       "      <td>184.60</td>\n",
       "      <td>2019.0</td>\n",
       "      <td>0.1622</td>\n",
       "      <td>0.6656</td>\n",
       "      <td>0.7119</td>\n",
       "      <td>0.2654</td>\n",
       "      <td>0.4601</td>\n",
       "      <td>0.11890</td>\n",
       "    </tr>\n",
       "    <tr>\n",
       "      <th>1</th>\n",
       "      <td>842517</td>\n",
       "      <td>M</td>\n",
       "      <td>20.57</td>\n",
       "      <td>17.77</td>\n",
       "      <td>132.90</td>\n",
       "      <td>1326.0</td>\n",
       "      <td>0.08474</td>\n",
       "      <td>0.07864</td>\n",
       "      <td>0.0869</td>\n",
       "      <td>0.07017</td>\n",
       "      <td>...</td>\n",
       "      <td>24.99</td>\n",
       "      <td>23.41</td>\n",
       "      <td>158.80</td>\n",
       "      <td>1956.0</td>\n",
       "      <td>0.1238</td>\n",
       "      <td>0.1866</td>\n",
       "      <td>0.2416</td>\n",
       "      <td>0.1860</td>\n",
       "      <td>0.2750</td>\n",
       "      <td>0.08902</td>\n",
       "    </tr>\n",
       "    <tr>\n",
       "      <th>2</th>\n",
       "      <td>84300903</td>\n",
       "      <td>M</td>\n",
       "      <td>19.69</td>\n",
       "      <td>21.25</td>\n",
       "      <td>130.00</td>\n",
       "      <td>1203.0</td>\n",
       "      <td>0.10960</td>\n",
       "      <td>0.15990</td>\n",
       "      <td>0.1974</td>\n",
       "      <td>0.12790</td>\n",
       "      <td>...</td>\n",
       "      <td>23.57</td>\n",
       "      <td>25.53</td>\n",
       "      <td>152.50</td>\n",
       "      <td>1709.0</td>\n",
       "      <td>0.1444</td>\n",
       "      <td>0.4245</td>\n",
       "      <td>0.4504</td>\n",
       "      <td>0.2430</td>\n",
       "      <td>0.3613</td>\n",
       "      <td>0.08758</td>\n",
       "    </tr>\n",
       "    <tr>\n",
       "      <th>3</th>\n",
       "      <td>84348301</td>\n",
       "      <td>M</td>\n",
       "      <td>11.42</td>\n",
       "      <td>20.38</td>\n",
       "      <td>77.58</td>\n",
       "      <td>386.1</td>\n",
       "      <td>0.14250</td>\n",
       "      <td>0.28390</td>\n",
       "      <td>0.2414</td>\n",
       "      <td>0.10520</td>\n",
       "      <td>...</td>\n",
       "      <td>14.91</td>\n",
       "      <td>26.50</td>\n",
       "      <td>98.87</td>\n",
       "      <td>567.7</td>\n",
       "      <td>0.2098</td>\n",
       "      <td>0.8663</td>\n",
       "      <td>0.6869</td>\n",
       "      <td>0.2575</td>\n",
       "      <td>0.6638</td>\n",
       "      <td>0.17300</td>\n",
       "    </tr>\n",
       "    <tr>\n",
       "      <th>4</th>\n",
       "      <td>84358402</td>\n",
       "      <td>M</td>\n",
       "      <td>20.29</td>\n",
       "      <td>14.34</td>\n",
       "      <td>135.10</td>\n",
       "      <td>1297.0</td>\n",
       "      <td>0.10030</td>\n",
       "      <td>0.13280</td>\n",
       "      <td>0.1980</td>\n",
       "      <td>0.10430</td>\n",
       "      <td>...</td>\n",
       "      <td>22.54</td>\n",
       "      <td>16.67</td>\n",
       "      <td>152.20</td>\n",
       "      <td>1575.0</td>\n",
       "      <td>0.1374</td>\n",
       "      <td>0.2050</td>\n",
       "      <td>0.4000</td>\n",
       "      <td>0.1625</td>\n",
       "      <td>0.2364</td>\n",
       "      <td>0.07678</td>\n",
       "    </tr>\n",
       "  </tbody>\n",
       "</table>\n",
       "<p>5 rows × 32 columns</p>\n",
       "</div>"
      ],
      "text/plain": [
       "         0  1      2      3       4       5        6        7       8   \\\n",
       "0    842302  M  17.99  10.38  122.80  1001.0  0.11840  0.27760  0.3001   \n",
       "1    842517  M  20.57  17.77  132.90  1326.0  0.08474  0.07864  0.0869   \n",
       "2  84300903  M  19.69  21.25  130.00  1203.0  0.10960  0.15990  0.1974   \n",
       "3  84348301  M  11.42  20.38   77.58   386.1  0.14250  0.28390  0.2414   \n",
       "4  84358402  M  20.29  14.34  135.10  1297.0  0.10030  0.13280  0.1980   \n",
       "\n",
       "        9   ...     22     23      24      25      26      27      28      29  \\\n",
       "0  0.14710  ...  25.38  17.33  184.60  2019.0  0.1622  0.6656  0.7119  0.2654   \n",
       "1  0.07017  ...  24.99  23.41  158.80  1956.0  0.1238  0.1866  0.2416  0.1860   \n",
       "2  0.12790  ...  23.57  25.53  152.50  1709.0  0.1444  0.4245  0.4504  0.2430   \n",
       "3  0.10520  ...  14.91  26.50   98.87   567.7  0.2098  0.8663  0.6869  0.2575   \n",
       "4  0.10430  ...  22.54  16.67  152.20  1575.0  0.1374  0.2050  0.4000  0.1625   \n",
       "\n",
       "       30       31  \n",
       "0  0.4601  0.11890  \n",
       "1  0.2750  0.08902  \n",
       "2  0.3613  0.08758  \n",
       "3  0.6638  0.17300  \n",
       "4  0.2364  0.07678  \n",
       "\n",
       "[5 rows x 32 columns]"
      ]
     },
     "execution_count": 75,
     "metadata": {},
     "output_type": "execute_result"
    }
   ],
   "source": [
    "import pandas as pd\n",
    "\n",
    "df = pd.read_csv('https://archive.ics.uci.edu/ml/'\n",
    "                 'machine-learning-databases'\n",
    "                 '/breast-cancer-wisconsin/wdbc.data', header=None)\n",
    "\n",
    "df.head()"
   ]
  },
  {
   "cell_type": "code",
   "execution_count": 76,
   "id": "21c89c1a",
   "metadata": {},
   "outputs": [
    {
     "data": {
      "text/plain": [
       "array(['B', 'M'], dtype=object)"
      ]
     },
     "execution_count": 76,
     "metadata": {},
     "output_type": "execute_result"
    }
   ],
   "source": [
    "# class label(1번 열)을 'M'과 'B'에서 정수로 변환\n",
    "from sklearn.preprocessing import LabelEncoder\n",
    "\n",
    "X = df.loc[:, 2:].values\n",
    "y = df.loc[:, 1].values\n",
    "le = LabelEncoder()\n",
    "y = le.fit_transform(y)\n",
    "le.classes_"
   ]
  },
  {
   "cell_type": "code",
   "execution_count": 77,
   "id": "8a0cfa2f",
   "metadata": {},
   "outputs": [],
   "source": [
    "# split\n",
    "from sklearn.model_selection import train_test_split\n",
    "\n",
    "X_train, X_test, y_train, y_test = \\\n",
    "    train_test_split(X, y,\n",
    "                     test_size=0.20,\n",
    "                     stratify=y,\n",
    "                     random_state=1)"
   ]
  },
  {
   "cell_type": "code",
   "execution_count": 78,
   "id": "d571f183",
   "metadata": {},
   "outputs": [
    {
     "data": {
      "image/png": "[encoded data removed]",
      "text/plain": [
       "<Figure size 432x288 with 1 Axes>"
      ]
     },
     "metadata": {
      "needs_background": "light"
     },
     "output_type": "display_data"
    }
   ],
   "source": [
    "# 학습 곡선으로 모델 평가\n",
    "import matplotlib.pyplot as plt\n",
    "from sklearn.model_selection import learning_curve\n",
    "from sklearn.pipeline import make_pipeline\n",
    "from sklearn.linear_model import LogisticRegression\n",
    "\n",
    "pipe_lr = make_pipeline(StandardScaler(),\n",
    "                       LogisticRegression(penalty='l2',\n",
    "                                          random_state=1,\n",
    "                                         max_iter=10000))\n",
    "\n",
    "train_sizes, train_scores, test_scores =\\\n",
    "    learning_curve(estimator=pipe_lr,\n",
    "                  X=X_train,\n",
    "                  y=y_train,\n",
    "                  train_sizes=np.linspace(0.1, 1.0, 10),\n",
    "                  cv=10,\n",
    "                  n_jobs=1)\n",
    "    # 훈련 데이터셋의 사이즈를 0.1배율에서 1배율까지 바꿔가면서,\n",
    "        # 각 사이즈마다 10겹 교차검증을 수행한다.\n",
    "        # 그리고 10겹 교차검증을 하면서 검증데이터셋에 대한 정확도뿐 아니라, 훈련데이터셋에 대한 정확도도 scoring한다.\n",
    "        \n",
    "        # 예를 들어.. train_size=0.1이면 총 455개 데이터샘플 중 45개를 전체세트로 생각하는 거다.\n",
    "        # 40개로 훈련하고, 5개로 검증하는 걸 10번 반복한다.\n",
    "            # 모델의 훈련데이터에 대한 정확도와 검증데이터에 대한 정확도를 모두 반환한다.\n",
    "            \n",
    "            # 위에는 train_size 비율도 10개로 나눈 다음, 각각의 세트에 대해\n",
    "            # 10겹 교차검증을 수행했다.\n",
    "            # 그러니까 scroing 테이블은 10x10이 된다.\n",
    "            # 테이블의 1열은 train_size를 45로 놓고 10겹 교차검증 했을 때의 정확도!\n",
    "\n",
    "train_mean = np.mean(train_scores, axis=1)\n",
    "train_std = np.std(train_scores, axis=1)\n",
    "test_mean = np.mean(test_scores, axis=1)\n",
    "test_std = np.std(test_scores, axis=1)\n",
    "\n",
    "plt.plot(train_sizes, train_mean,\n",
    "        color='blue', marker='o',\n",
    "        markersize=5, label='Training accuracy')\n",
    "\n",
    "plt.fill_between(train_sizes,\n",
    "                train_mean + train_std,\n",
    "                train_mean - train_std ,\n",
    "                alpha=0.15, color='blue')\n",
    "\n",
    "plt.plot(train_sizes, test_mean,\n",
    "        color='green', linestyle='--',\n",
    "        marker='s', markersize=5,\n",
    "        label='Validation accuracy')\n",
    "\n",
    "plt.fill_between(train_sizes,\n",
    "                test_mean + test_std,\n",
    "                test_mean - test_std,\n",
    "                alpha=0.15, color='green')\n",
    "\n",
    "plt.grid()\n",
    "plt.xlabel('Number of training examples')\n",
    "plt.ylabel('Accuracy')\n",
    "plt.legend(loc='lower right')\n",
    "plt.ylim([0.8, 1.03])\n",
    "plt.tight_layout()\n",
    "\n",
    "plt.show()"
   ]
  },
  {
   "cell_type": "markdown",
   "id": "fc2ea661",
   "metadata": {},
   "source": [
    "### 6.3.2 검증 곡선으로 과대적합과 과소적합 조사\n",
    "- 검증 곡선은 학습 곡선과 관련이 있지만, **샘플 크기의 함수로 훈련 정확도와 테스트 정확도를 그리는 대신 모델 파라미터 값의 함수로 그린다.**\n",
    "    - e.g. 로지스틱 회귀의 규제 매개변수 C에 대한 값으로 그린다"
   ]
  },
  {
   "cell_type": "code",
   "execution_count": 79,
   "id": "cf6cdb6f",
   "metadata": {},
   "outputs": [
    {
     "data": {
      "image/png": "[encoded data removed]",
      "text/plain": [
       "<Figure size 432x288 with 1 Axes>"
      ]
     },
     "metadata": {
      "needs_background": "light"
     },
     "output_type": "display_data"
    }
   ],
   "source": [
    "from sklearn.model_selection import validation_curve\n",
    "\n",
    "param_range = [0.001, 0.01, 0.1, 1.0, 10.0, 100.0]\n",
    "train_scores, test_scores = \\\n",
    "    validation_curve(estimator=pipe_lr,\n",
    "                    X=X_train,\n",
    "                    y=y_train,\n",
    "                    param_name='logisticregression__C',\n",
    "                    param_range=param_range,\n",
    "                    cv=10)\n",
    "\n",
    "train_mean = np.mean(train_scores, axis=1)\n",
    "train_std = np.std(train_scores, axis=1)\n",
    "test_mean = np.mean(test_scores, axis=1)\n",
    "test_std = np.std(test_scores, axis=1)\n",
    "\n",
    "plt.plot(param_range, train_mean,\n",
    "        color='blue', marker='o',\n",
    "        markersize=5, label='Training accuracy')\n",
    "\n",
    "plt.fill_between(param_range,\n",
    "                train_mean + train_std,\n",
    "                train_mean - train_std,\n",
    "                alpha=0.15, color='blue')\n",
    "\n",
    "plt.plot(param_range, test_mean,\n",
    "        color='green', linestyle='--',\n",
    "        marker='s', markersize=5,\n",
    "        label='Validation accuracy')\n",
    "\n",
    "plt.fill_between(param_range,\n",
    "                test_mean + test_std,\n",
    "                test_mean - test_std,\n",
    "                alpha=0.15, color='green')\n",
    "\n",
    "plt.grid()\n",
    "plt.xscale('log')\n",
    "plt.legend(loc='lower right')\n",
    "plt.xlabel('Parameter C')\n",
    "plt.ylabel('Accuracy')\n",
    "plt.ylim([0.8, 1.0])\n",
    "plt.tight_layout()\n",
    "\n",
    "plt.show()"
   ]
  },
  {
   "cell_type": "markdown",
   "id": "8e1a8f67",
   "metadata": {},
   "source": [
    "- 규제 강도를 높이면(C 값을 줄이면) 모델이 데이터에 조금 과소적합된다.\n",
    "- 규제 강도가 낮아지는 큰 C값에서는 모델이 데이터에 조금 과대적합된다.\n",
    "- 이 경우 적절한 C값은 0.01과 0.1 사이다."
   ]
  },
  {
   "cell_type": "markdown",
   "id": "d61be659",
   "metadata": {},
   "source": [
    "### GridSearchCV"
   ]
  },
  {
   "cell_type": "code",
   "execution_count": 67,
   "id": "619cb416",
   "metadata": {},
   "outputs": [
    {
     "data": {
      "text/html": [
       "<div>\n",
       "<style scoped>\n",
       "    .dataframe tbody tr th:only-of-type {\n",
       "        vertical-align: middle;\n",
       "    }\n",
       "\n",
       "    .dataframe tbody tr th {\n",
       "        vertical-align: top;\n",
       "    }\n",
       "\n",
       "    .dataframe thead th {\n",
       "        text-align: right;\n",
       "    }\n",
       "</style>\n",
       "<table border=\"1\" class=\"dataframe\">\n",
       "  <thead>\n",
       "    <tr style=\"text-align: right;\">\n",
       "      <th></th>\n",
       "      <th>params</th>\n",
       "      <th>mean_test_score</th>\n",
       "      <th>rank_test_score</th>\n",
       "      <th>split0_test_score</th>\n",
       "      <th>split1_test_score</th>\n",
       "      <th>split2_test_score</th>\n",
       "    </tr>\n",
       "  </thead>\n",
       "  <tbody>\n",
       "    <tr>\n",
       "      <th>0</th>\n",
       "      <td>{'max_depth': 1, 'min_samples_split': 2}</td>\n",
       "      <td>0.708333</td>\n",
       "      <td>5</td>\n",
       "      <td>0.725</td>\n",
       "      <td>0.70</td>\n",
       "      <td>0.70</td>\n",
       "    </tr>\n",
       "    <tr>\n",
       "      <th>1</th>\n",
       "      <td>{'max_depth': 1, 'min_samples_split': 3}</td>\n",
       "      <td>0.708333</td>\n",
       "      <td>5</td>\n",
       "      <td>0.725</td>\n",
       "      <td>0.70</td>\n",
       "      <td>0.70</td>\n",
       "    </tr>\n",
       "    <tr>\n",
       "      <th>2</th>\n",
       "      <td>{'max_depth': 2, 'min_samples_split': 2}</td>\n",
       "      <td>0.933333</td>\n",
       "      <td>3</td>\n",
       "      <td>0.950</td>\n",
       "      <td>0.95</td>\n",
       "      <td>0.90</td>\n",
       "    </tr>\n",
       "    <tr>\n",
       "      <th>3</th>\n",
       "      <td>{'max_depth': 2, 'min_samples_split': 3}</td>\n",
       "      <td>0.933333</td>\n",
       "      <td>3</td>\n",
       "      <td>0.950</td>\n",
       "      <td>0.95</td>\n",
       "      <td>0.90</td>\n",
       "    </tr>\n",
       "    <tr>\n",
       "      <th>4</th>\n",
       "      <td>{'max_depth': 3, 'min_samples_split': 2}</td>\n",
       "      <td>0.941667</td>\n",
       "      <td>1</td>\n",
       "      <td>0.975</td>\n",
       "      <td>0.90</td>\n",
       "      <td>0.95</td>\n",
       "    </tr>\n",
       "    <tr>\n",
       "      <th>5</th>\n",
       "      <td>{'max_depth': 3, 'min_samples_split': 3}</td>\n",
       "      <td>0.941667</td>\n",
       "      <td>1</td>\n",
       "      <td>0.975</td>\n",
       "      <td>0.90</td>\n",
       "      <td>0.95</td>\n",
       "    </tr>\n",
       "  </tbody>\n",
       "</table>\n",
       "</div>"
      ],
      "text/plain": [
       "                                     params  mean_test_score  rank_test_score  \\\n",
       "0  {'max_depth': 1, 'min_samples_split': 2}         0.708333                5   \n",
       "1  {'max_depth': 1, 'min_samples_split': 3}         0.708333                5   \n",
       "2  {'max_depth': 2, 'min_samples_split': 2}         0.933333                3   \n",
       "3  {'max_depth': 2, 'min_samples_split': 3}         0.933333                3   \n",
       "4  {'max_depth': 3, 'min_samples_split': 2}         0.941667                1   \n",
       "5  {'max_depth': 3, 'min_samples_split': 3}         0.941667                1   \n",
       "\n",
       "   split0_test_score  split1_test_score  split2_test_score  \n",
       "0              0.725               0.70               0.70  \n",
       "1              0.725               0.70               0.70  \n",
       "2              0.950               0.95               0.90  \n",
       "3              0.950               0.95               0.90  \n",
       "4              0.975               0.90               0.95  \n",
       "5              0.975               0.90               0.95  "
      ]
     },
     "execution_count": 67,
     "metadata": {},
     "output_type": "execute_result"
    }
   ],
   "source": [
    "# GridSearchCV\n",
    "iris = load_iris()\n",
    "X_train, X_test, y_train, y_test = train_test_split(iris.data, iris.target, test_size=0.2)\n",
    "dtree = DecisionTreeClassifier()\n",
    "\n",
    "parameters = {'max_depth': [1, 2, 3],\n",
    "              'min_samples_split': [2, 3]}\n",
    "\n",
    "# Refit=True이면 가장 좋은 파라미터 설정으로 모델 파라미터를 설정함\n",
    "grid_dtree = GridSearchCV(dtree, param_grid=parameters, cv=3, refit=True, return_train_score=True)\n",
    "\n",
    "# 최적의 파라미터로 설정된 모델을 학습시킴\n",
    "grid_dtree.fit(X_train, y_train)\n",
    "\n",
    "# GridSearchCV 결과는 cv_results_ 라는 딕셔너리로 저장됌. 이를 DF로 변환\n",
    "scores_df = pd.DataFrame(grid_dtree.cv_results_)\n",
    "scores_df[['params', 'mean_test_score', 'rank_test_score', \n",
    "           'split0_test_score', 'split1_test_score',\n",
    "           'split2_test_score']]"
   ]
  },
  {
   "cell_type": "code",
   "execution_count": 68,
   "id": "ac9f1bfb",
   "metadata": {},
   "outputs": [
    {
     "name": "stdout",
     "output_type": "stream",
     "text": [
      "GridSearchCV 최적 파라미터: {'max_depth': 3, 'min_samples_split': 2}\n",
      "GridSearchCV 최고 정확도: 0.9417\n",
      "테스트 데이터 세트 정확도: 1.0000\n"
     ]
    }
   ],
   "source": [
    "print('GridSearchCV 최적 파라미터:', grid_dtree.best_params_)\n",
    "print('GridSearchCV 최고 정확도: {0:.4f}'\\\n",
    "      .format(grid_dtree.best_score_))\n",
    "\n",
    "# fitted grid_dtree로 predict 해보자\n",
    "pred = grid_dtree.predict(X_test)\n",
    "print('테스트 데이터 세트 정확도: {0:.4f}'\\\n",
    "      .format(accuracy_score(y_test,pred)))"
   ]
  },
  {
   "cell_type": "markdown",
   "id": "07159c00",
   "metadata": {},
   "source": [
    "### Raschka"
   ]
  },
  {
   "cell_type": "code",
   "execution_count": 80,
   "id": "0edcdebd",
   "metadata": {},
   "outputs": [
    {
     "name": "stdout",
     "output_type": "stream",
     "text": [
      "0.9846859903381642\n",
      "{'svc__C': 100.0, 'svc__gamma': 0.001, 'svc__kernel': 'rbf'}\n"
     ]
    }
   ],
   "source": [
    "from sklearn.model_selection import GridSearchCV\n",
    "from sklearn.svm import SVC\n",
    "\n",
    "pipe_svc = make_pipeline(StandardScaler(),\n",
    "                        SVC(random_state=1))\n",
    "\n",
    "param_range = np.logspace(-4, 3, 8)\n",
    "\n",
    "param_grid = [{'svc__C': param_range,\n",
    "              'svc__kernel': ['linear']},\n",
    "             {'svc__C': param_range,\n",
    "             'svc__gamma': param_range,\n",
    "             'svc__kernel': ['rbf']}]\n",
    "\n",
    "gs = GridSearchCV(estimator=pipe_svc,\n",
    "                 param_grid=param_grid,\n",
    "                 scoring='accuracy',\n",
    "                 refit=True,\n",
    "                 cv=10,\n",
    "                 n_jobs=-1)\n",
    "gs = gs.fit(X_train, y_train)\n",
    "print(gs.best_score_)\n",
    "print(gs.best_params_)"
   ]
  },
  {
   "cell_type": "code",
   "execution_count": 81,
   "id": "63d53d44",
   "metadata": {},
   "outputs": [],
   "source": [
    "clf = gs.best_estimator_\n",
    "    # refit=True로 지정했기 때문에 이후에 다시 clf.fit(X_train, y_train)할 필요가 없다."
   ]
  },
  {
   "cell_type": "code",
   "execution_count": 82,
   "id": "70425d63",
   "metadata": {},
   "outputs": [
    {
     "name": "stdout",
     "output_type": "stream",
     "text": [
      "테스트 정확도: 0.974\n"
     ]
    }
   ],
   "source": [
    "print('테스트 정확도: %.3f' % clf.score(X_test, y_test))"
   ]
  },
  {
   "cell_type": "markdown",
   "id": "111d783a",
   "metadata": {},
   "source": [
    "> 매개변수 탐색 범위가 넓거나 규제 매개변수 C와 같이 연속적인 값을 탐색해야 하는 경우에 RandomizedSearchCV가 더 효율적입니다. 이 클래스는 n_iter 매개변수로 탐색 횟수를 조정할 수 있어 컴퓨팅 자원에 맞게 탐색을 실행할 수 있습니다. "
   ]
  },
  {
   "cell_type": "code",
   "execution_count": 83,
   "id": "51fb4f78",
   "metadata": {},
   "outputs": [
    {
     "name": "stdout",
     "output_type": "stream",
     "text": [
      "0.9824637681159419\n",
      "{'svc__C': 210.6644070836221, 'svc__gamma': 0.0006861724481510375, 'svc__kernel': 'rbf'}\n"
     ]
    }
   ],
   "source": [
    "from sklearn.model_selection import RandomizedSearchCV\n",
    "from sklearn.utils.fixes import loguniform\n",
    "\n",
    "distribution = loguniform(0.0001, 1000.0)\n",
    "\n",
    "param_dist = [{'svc__C': distribution,\n",
    "              'svc__kernel': ['linear']},\n",
    "             {'svc__C': distribution,\n",
    "             'svc__gamma': distribution,\n",
    "             'svc__kernel': ['rbf']}]\n",
    "\n",
    "rs = RandomizedSearchCV(estimator=pipe_svc,\n",
    "                       param_distributions=param_dist,\n",
    "                       n_iter=30,\n",
    "                       cv=10,\n",
    "                       random_state=1,\n",
    "                       n_jobs=1)\n",
    "rs = rs.fit(X_train, y_train)\n",
    "print(rs.best_score_)\n",
    "print(rs.best_params_)"
   ]
  },
  {
   "cell_type": "markdown",
   "id": "91fa0b7b",
   "metadata": {},
   "source": [
    "### 중첩 교차 검증"
   ]
  },
  {
   "cell_type": "markdown",
   "id": "06bc7fe8",
   "metadata": {},
   "source": [
    "### 6.4.2 중첩 교차 검증을 사용한 알고리즘 선택\n",
    "- GridSearch와 k-fold cv는 \"머신 러닝 모델의 성능을 세부 튜닝\"하기에 좋다.\n",
    "- **\"여러 종류의 머신 러닝 알고리즘을 비교하려면\"** 중첩 교차 검증(nested cv) 방법이 권장된다.\n",
    "    - 바깥족 k-fold cv 루프가 데이터를 훈련 폴드와 테스트 폴드로 나누고; 안쪽 루프는 훈련 폴드를 '안쪽 훈련폴드와 안쪽 검증폴드'로 나눠서 k-fold cv를 수행하며 모델을 세부튜닝한다."
   ]
  },
  {
   "cell_type": "code",
   "execution_count": 22,
   "id": "d7bb5a87",
   "metadata": {
    "scrolled": true
   },
   "outputs": [
    {
     "data": {
      "text/html": [
       "<img src=\"https://git.io/JtsTP\" width=\"500\"/>"
      ],
      "text/plain": [
       "<IPython.core.display.Image object>"
      ]
     },
     "execution_count": 22,
     "metadata": {},
     "output_type": "execute_result"
    }
   ],
   "source": [
    "Image(url='https://git.io/JtsTP', width=500) "
   ]
  },
  {
   "cell_type": "code",
   "execution_count": 84,
   "id": "8bef1f08",
   "metadata": {
    "scrolled": true
   },
   "outputs": [
    {
     "name": "stdout",
     "output_type": "stream",
     "text": [
      "CV 정확도: 0.974 +/- 0.015\n"
     ]
    }
   ],
   "source": [
    "gs = GridSearchCV(estimator=pipe_svc,\n",
    "                 param_grid=param_grid,\n",
    "                 scoring='accuracy',\n",
    "                 cv=2)\n",
    "\n",
    "scores = cross_val_score(gs, X_train, y_train,\n",
    "                        scoring='accuracy', cv=5)\n",
    "\n",
    "# 순서대로 하면..\n",
    "    # cross_val_score가 전체 데이터셋을 5-fold로 나눈다.\n",
    "    # 훈련 폴드에서 사용할 모델이 'gs'다.\n",
    "    # gs는 어떤 모델이냐면..\n",
    "        # 훈련 폴드를 2-fold로 나눈 다음에, pipe_svc를 param_grid로\n",
    "        # 최적의 조합, 즉 가장 높은 정확도를 지닌 param 조합으로 튜닝된\n",
    "        # 모델이다.\n",
    "        \n",
    "    # 여기서 각각의 gs가 어떤 param으로 튜닝됐는지 알려면 어떻게 해야 되지?\n",
    "\n",
    "print('CV 정확도: %.3f +/- %.3f' % (np.mean(scores),\n",
    "                                np.std(scores)))"
   ]
  },
  {
   "cell_type": "code",
   "execution_count": 85,
   "id": "15fe6dad",
   "metadata": {},
   "outputs": [
    {
     "name": "stdout",
     "output_type": "stream",
     "text": [
      "CV 정확도: 0.934 +/- 0.016\n"
     ]
    }
   ],
   "source": [
    "from sklearn.tree import DecisionTreeClassifier\n",
    "\n",
    "gs = GridSearchCV(estimator=DecisionTreeClassifier(random_state=0),\n",
    "                 param_grid=[{'max_depth': [1,2,3,4,5,6,7,None]}],\n",
    "                 scoring='accuracy',\n",
    "                 cv=2)\n",
    "\n",
    "scores = cross_val_score(gs, X_train, y_train,\n",
    "                        scoring='accuracy', cv=5)\n",
    "\n",
    "print('CV 정확도: %.3f +/- %.3f' % (np.mean(scores),\n",
    "                                np.std(scores)))"
   ]
  },
  {
   "cell_type": "code",
   "execution_count": null,
   "id": "deb685cb",
   "metadata": {},
   "outputs": [],
   "source": []
  },
  {
   "cell_type": "markdown",
   "id": "a4d7232d",
   "metadata": {},
   "source": [
    "# <font color='blue'>[Class Imbalance]</font>\n",
    "\n"
   ]
  },
  {
   "cell_type": "markdown",
   "id": "61c23318",
   "metadata": {},
   "source": [
    "### Resample"
   ]
  },
  {
   "cell_type": "code",
   "execution_count": 102,
   "id": "b13c0c29",
   "metadata": {},
   "outputs": [],
   "source": [
    "df = pd.read_csv('https://archive.ics.uci.edu/ml/'\n",
    "                 'machine-learning-databases'\n",
    "                 '/breast-cancer-wisconsin/wdbc.data', header=None)\n",
    "\n",
    "X = df.loc[:, 2:].values\n",
    "y = df.loc[:, 1].values\n",
    "le = LabelEncoder()\n",
    "y = le.fit_transform(y)\n",
    "\n",
    "from sklearn.model_selection import train_test_split\n",
    "X_train, X_test, y_train, y_test = \\\n",
    "    train_test_split(X, y,\n",
    "                     test_size=0.20,\n",
    "                     stratify=y,\n",
    "                     random_state=1)"
   ]
  },
  {
   "cell_type": "code",
   "execution_count": 103,
   "id": "a6d792db",
   "metadata": {},
   "outputs": [
    {
     "data": {
      "text/plain": [
       "array([357,  40])"
      ]
     },
     "execution_count": 103,
     "metadata": {},
     "output_type": "execute_result"
    }
   ],
   "source": [
    "# 불균형 데이터셋 만들기 (악성종양 1, 양성종양 0)\n",
    "X_imb = np.vstack((X[y == 0], X[y == 1][:40]))\n",
    "y_imb = np.hstack((y[y == 0], y[y == 1][:40]))\n",
    "\n",
    "np.bincount(y_imb)"
   ]
  },
  {
   "cell_type": "code",
   "execution_count": 104,
   "id": "71cd79cc",
   "metadata": {},
   "outputs": [
    {
     "data": {
      "text/plain": [
       "89.92443324937027"
      ]
     },
     "execution_count": 104,
     "metadata": {},
     "output_type": "execute_result"
    }
   ],
   "source": [
    "# y pred를 모두 0, 즉 모두 양성종양이라고 예측해도 정확도는 90% 남짓이다\n",
    "y_pred = np.zeros(y_imb.shape[0])\n",
    "np.mean(y_pred == y_imb) * 100"
   ]
  },
  {
   "cell_type": "markdown",
   "id": "96f019d8",
   "metadata": {},
   "source": [
    "- 이럴 때 해결책은 여러 가지가 있다.\n",
    "    - 먼저, 애플리케이션의 목적에 따라 정밀도, 재현율, ROC 곡선 등을 참고할 수도 있다.\n",
    "    - 아니면 알고리즘의 훈련 과정에서 '소수 클래스에서 발생한 예측 오류에 큰 벌칙을 부여'할 수도 있다.\n",
    "        - 분류기의 class_weight 메서드를 class_weight='balanced'로 설정할 수 있다.\n",
    "    - 또는 언더샘플링, 오버샘플링 등을 통해 인공적으로 샘플을 조정하는 방법이 있다."
   ]
  },
  {
   "cell_type": "code",
   "execution_count": 105,
   "id": "607256d7",
   "metadata": {},
   "outputs": [
    {
     "name": "stdout",
     "output_type": "stream",
     "text": [
      "샘플링하기 전 클래스 1의 샘플 개수: 40\n",
      "샘플링한 후 클래스 1의 샘플 개수 357\n"
     ]
    }
   ],
   "source": [
    "from sklearn.utils import resample\n",
    "\n",
    "print('샘플링하기 전 클래스 1의 샘플 개수:', X_imb[y_imb == 1].shape[0])\n",
    "\n",
    "X_upsampled, y_upsampled = resample(X_imb[y_imb == 1],\n",
    "                                   y_imb[y_imb == 1],\n",
    "                                    replace=True,\n",
    "                                   n_samples=X_imb[y_imb == 0].shape[0],\n",
    "                                   random_state=123)\n",
    "\n",
    "print('샘플링한 후 클래스 1의 샘플 개수', X_upsampled.shape[0])"
   ]
  },
  {
   "cell_type": "code",
   "execution_count": 106,
   "id": "11e49db1",
   "metadata": {},
   "outputs": [],
   "source": [
    "X_bal = np.vstack((X[y == 0], X_upsampled))\n",
    "y_bal = np.hstack((y[y == 0], y_upsampled))"
   ]
  },
  {
   "cell_type": "code",
   "execution_count": 107,
   "id": "0a8dbb04",
   "metadata": {},
   "outputs": [
    {
     "data": {
      "text/plain": [
       "50.0"
      ]
     },
     "execution_count": 107,
     "metadata": {},
     "output_type": "execute_result"
    }
   ],
   "source": [
    "y_pred = np.zeros(y_bal.shape[0])\n",
    "np.mean(y_pred == y_bal) * 100"
   ]
  },
  {
   "cell_type": "code",
   "execution_count": null,
   "id": "47829620",
   "metadata": {},
   "outputs": [],
   "source": []
  },
  {
   "cell_type": "markdown",
   "id": "2e4b04f6",
   "metadata": {},
   "source": [
    "### Undersampling, Oversampling"
   ]
  },
  {
   "cell_type": "code",
   "execution_count": null,
   "id": "a5d3e655",
   "metadata": {},
   "outputs": [],
   "source": []
  },
  {
   "cell_type": "code",
   "execution_count": null,
   "id": "cab03768",
   "metadata": {},
   "outputs": [],
   "source": []
  },
  {
   "cell_type": "code",
   "execution_count": null,
   "id": "f3efc7fd",
   "metadata": {},
   "outputs": [],
   "source": []
  },
  {
   "cell_type": "code",
   "execution_count": null,
   "id": "2197c8ab",
   "metadata": {},
   "outputs": [],
   "source": []
  },
  {
   "cell_type": "markdown",
   "id": "a1bf771b",
   "metadata": {},
   "source": [
    "### SMOTE"
   ]
  },
  {
   "cell_type": "code",
   "execution_count": null,
   "id": "9d085827",
   "metadata": {},
   "outputs": [],
   "source": []
  },
  {
   "cell_type": "code",
   "execution_count": null,
   "id": "88f80155",
   "metadata": {},
   "outputs": [],
   "source": []
  },
  {
   "cell_type": "code",
   "execution_count": null,
   "id": "b1291754",
   "metadata": {},
   "outputs": [],
   "source": []
  },
  {
   "cell_type": "code",
   "execution_count": null,
   "id": "b1389cc5",
   "metadata": {},
   "outputs": [],
   "source": []
  },
  {
   "cell_type": "code",
   "execution_count": null,
   "id": "4ea43641",
   "metadata": {},
   "outputs": [],
   "source": []
  },
  {
   "cell_type": "code",
   "execution_count": null,
   "id": "18cb4f3a",
   "metadata": {},
   "outputs": [],
   "source": []
  },
  {
   "cell_type": "code",
   "execution_count": null,
   "id": "d9536582",
   "metadata": {},
   "outputs": [],
   "source": []
  },
  {
   "cell_type": "code",
   "execution_count": null,
   "id": "acd8412b",
   "metadata": {},
   "outputs": [],
   "source": []
  },
  {
   "cell_type": "code",
   "execution_count": null,
   "id": "d9ccf9c8",
   "metadata": {},
   "outputs": [],
   "source": []
  }
 ],
 "metadata": {
  "kernelspec": {
   "display_name": "Python 3 (ipykernel)",
   "language": "python",
   "name": "python3"
  },
  "language_info": {
   "codemirror_mode": {
    "name": "ipython",
    "version": 3
   },
   "file_extension": ".py",
   "mimetype": "text/x-python",
   "name": "python",
   "nbconvert_exporter": "python",
   "pygments_lexer": "ipython3",
   "version": "3.8.8"
  },
  "toc": {
   "base_numbering": 1,
   "nav_menu": {},
   "number_sections": false,
   "sideBar": false,
   "skip_h1_title": false,
   "title_cell": "Table of Contents",
   "title_sidebar": "Contents",
   "toc_cell": true,
   "toc_position": {
    "height": "615px",
    "left": "430px",
    "top": "110px",
    "width": "195.796875px"
   },
   "toc_section_display": true,
   "toc_window_display": false
  }
 },
 "nbformat": 4,
 "nbformat_minor": 5
}
