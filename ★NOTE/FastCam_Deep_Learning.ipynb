{
 "cells": [
  {
   "cell_type": "code",
   "execution_count": 1,
   "id": "adf9feed",
   "metadata": {},
   "outputs": [],
   "source": [
    "import tensorflow as tf"
   ]
  },
  {
   "cell_type": "code",
   "execution_count": 2,
   "id": "6f707a43",
   "metadata": {},
   "outputs": [],
   "source": [
    "# 데이터 불러오기\n",
    "mnist = tf.keras.datasets.mnist\n",
    "\n",
    "(x_train, y_train), (x_test, y_test) = mnist.load_data()\n",
    "x_train, x_test = x_train / 255.0, x_test / 255.0"
   ]
  },
  {
   "cell_type": "code",
   "execution_count": 3,
   "id": "eca7a812",
   "metadata": {},
   "outputs": [],
   "source": [
    "# 네트워크 구조 정의\n",
    "model = tf.keras.models.Sequential([tf.keras.layers.Flatten(input_shape=(28, 28)),\n",
    "                                   tf.keras.layers.Dense(128, activation='relu'),\n",
    "                                   tf.keras.layers.Dropout(0.2),\n",
    "                                   tf.keras.layers.Dense(10, activation='softmax')])"
   ]
  },
  {
   "cell_type": "code",
   "execution_count": 4,
   "id": "40f7d63d",
   "metadata": {},
   "outputs": [],
   "source": [
    "# Keras 모델 compile\n",
    "model.compile(optimizer='adam',\n",
    "             loss='sparse_categorical_crossentropy',\n",
    "             metrics=['accuracy'])"
   ]
  },
  {
   "cell_type": "code",
   "execution_count": 5,
   "id": "e13b61d3",
   "metadata": {},
   "outputs": [
    {
     "name": "stdout",
     "output_type": "stream",
     "text": [
      "Epoch 1/5\n",
      "WARNING:tensorflow:AutoGraph could not transform <function Model.make_train_function.<locals>.train_function at 0x16842a1f0> and will run it as-is.\n",
      "Please report this to the TensorFlow team. When filing the bug, set the verbosity to 10 (on Linux, `export AUTOGRAPH_VERBOSITY=10`) and attach the full output.\n",
      "Cause: unsupported operand type(s) for -: 'NoneType' and 'int'\n",
      "To silence this warning, decorate the function with @tf.autograph.experimental.do_not_convert\n",
      "WARNING: AutoGraph could not transform <function Model.make_train_function.<locals>.train_function at 0x16842a1f0> and will run it as-is.\n",
      "Please report this to the TensorFlow team. When filing the bug, set the verbosity to 10 (on Linux, `export AUTOGRAPH_VERBOSITY=10`) and attach the full output.\n",
      "Cause: unsupported operand type(s) for -: 'NoneType' and 'int'\n",
      "To silence this warning, decorate the function with @tf.autograph.experimental.do_not_convert\n",
      "   1/1875 [..............................] - ETA: 4:28 - loss: 2.4121 - accuracy: 0.0625"
     ]
    },
    {
     "name": "stderr",
     "output_type": "stream",
     "text": [
      "2021-07-31 13:51:33.685336: I tensorflow/compiler/mlir/mlir_graph_optimization_pass.cc:116] None of the MLIR optimization passes are enabled (registered 2)\n",
      "2021-07-31 13:51:33.687115: W tensorflow/core/platform/profile_utils/cpu_utils.cc:126] Failed to get CPU frequency: 0 Hz\n"
     ]
    },
    {
     "name": "stdout",
     "output_type": "stream",
     "text": [
      "1875/1875 [==============================] - 1s 356us/step - loss: 0.5205 - accuracy: 0.8438\n",
      "Epoch 2/5\n",
      "1875/1875 [==============================] - 1s 358us/step - loss: 0.1946 - accuracy: 0.9411\n",
      "Epoch 3/5\n",
      "1875/1875 [==============================] - 1s 349us/step - loss: 0.1555 - accuracy: 0.9524\n",
      "Epoch 4/5\n",
      "1875/1875 [==============================] - 1s 352us/step - loss: 0.1323 - accuracy: 0.9603\n",
      "Epoch 5/5\n",
      "1875/1875 [==============================] - 1s 352us/step - loss: 0.1177 - accuracy: 0.9629\n"
     ]
    },
    {
     "data": {
      "text/plain": [
       "<tensorflow.python.keras.callbacks.History at 0x168432100>"
      ]
     },
     "execution_count": 5,
     "metadata": {},
     "output_type": "execute_result"
    }
   ],
   "source": [
    "# 학습 수행\n",
    "model.fit(x_train, y_train, epochs=5)"
   ]
  },
  {
   "cell_type": "code",
   "execution_count": 6,
   "id": "972a2513",
   "metadata": {},
   "outputs": [
    {
     "name": "stdout",
     "output_type": "stream",
     "text": [
      "WARNING:tensorflow:AutoGraph could not transform <function Model.make_test_function.<locals>.test_function at 0x16ad72430> and will run it as-is.\n",
      "Please report this to the TensorFlow team. When filing the bug, set the verbosity to 10 (on Linux, `export AUTOGRAPH_VERBOSITY=10`) and attach the full output.\n",
      "Cause: unsupported operand type(s) for -: 'NoneType' and 'int'\n",
      "To silence this warning, decorate the function with @tf.autograph.experimental.do_not_convert\n",
      "WARNING: AutoGraph could not transform <function Model.make_test_function.<locals>.test_function at 0x16ad72430> and will run it as-is.\n",
      "Please report this to the TensorFlow team. When filing the bug, set the verbosity to 10 (on Linux, `export AUTOGRAPH_VERBOSITY=10`) and attach the full output.\n",
      "Cause: unsupported operand type(s) for -: 'NoneType' and 'int'\n",
      "To silence this warning, decorate the function with @tf.autograph.experimental.do_not_convert\n",
      "313/313 [==============================] - 0s 255us/step - loss: 0.0924 - accuracy: 0.9714\n"
     ]
    },
    {
     "data": {
      "text/plain": [
       "[0.09239627420902252, 0.9714000225067139]"
      ]
     },
     "execution_count": 6,
     "metadata": {},
     "output_type": "execute_result"
    }
   ],
   "source": [
    "# 학습 결과 테스트\n",
    "model.evaluate(x_test, y_test)"
   ]
  },
  {
   "cell_type": "code",
   "execution_count": null,
   "id": "73405a06",
   "metadata": {},
   "outputs": [],
   "source": []
  },
  {
   "cell_type": "markdown",
   "id": "5df8e07f",
   "metadata": {},
   "source": [
    "# Perceptron OR 함수 구현"
   ]
  },
  {
   "cell_type": "code",
   "execution_count": 7,
   "id": "7d1dc139",
   "metadata": {},
   "outputs": [],
   "source": [
    "import tensorflow as tf\n",
    "import numpy as np"
   ]
  },
  {
   "cell_type": "code",
   "execution_count": 8,
   "id": "1cfadcd2",
   "metadata": {},
   "outputs": [],
   "source": [
    "# Perceptron 구현\n",
    "class Perceptron:\n",
    "    def __init__(self, w, b):\n",
    "        self.w = tf.Variable(w, dtype=tf.float32)\n",
    "        self.b = tf.Variable(b, dtype=tf.float32)\n",
    "    \n",
    "    def __call__(self, x):\n",
    "        return tf.sign(tf.reduce_sum(self.w * x) + self.b)"
   ]
  },
  {
   "cell_type": "code",
   "execution_count": 12,
   "id": "ba751058",
   "metadata": {},
   "outputs": [],
   "source": [
    "# Utillity 함수 구현\n",
    "def v(*args):\n",
    "    return np.array(args)"
   ]
  },
  {
   "cell_type": "code",
   "execution_count": 14,
   "id": "906e0411",
   "metadata": {},
   "outputs": [],
   "source": [
    "# Perceptron의 w, b 정의\n",
    "w = v(1, 1)\n",
    "b = 0.5\n",
    "\n",
    "perceptron = Perceptron(w, b)"
   ]
  },
  {
   "cell_type": "code",
   "execution_count": 17,
   "id": "5abfbb47",
   "metadata": {},
   "outputs": [
    {
     "name": "stdout",
     "output_type": "stream",
     "text": [
      "1.0 1.0\n",
      "-1.0 1.0\n"
     ]
    }
   ],
   "source": [
    "p1 = perceptron(v(1, 1))  # T, T\n",
    "p2 = perceptron(v(-1, 1))  # F, T\n",
    "p3 = perceptron(v(-1, -1))  # F, F\n",
    "p4 = perceptron(v(1, -1))  # T, F\n",
    "\n",
    "print(p2.numpy(), p1.numpy())\n",
    "print(p3.numpy(), p4.numpy())"
   ]
  },
  {
   "cell_type": "markdown",
   "id": "f48aeb95",
   "metadata": {},
   "source": [
    "### XOR 함수 정의"
   ]
  },
  {
   "cell_type": "code",
   "execution_count": 19,
   "id": "440f49d0",
   "metadata": {},
   "outputs": [
    {
     "name": "stdout",
     "output_type": "stream",
     "text": [
      "1.0 -1.0\n",
      "-1.0 1.0\n"
     ]
    }
   ],
   "source": [
    "p_nand = Perceptron(w=v(-1, -1),\n",
    "                   b=0.5)\n",
    "\n",
    "p_or = Perceptron(w=v(1, 1),\n",
    "                 b=0.5)\n",
    "\n",
    "p_and = Perceptron(w=v(1, 1),\n",
    "                  b=-0.5)\n",
    "\n",
    "def xor(x):\n",
    "    h1 = p_nand(x)\n",
    "    h2 = p_or(x)\n",
    "    return p_and(v(h1, h2))\n",
    "\n",
    "p1 = xor(v(1, 1))  # T, T\n",
    "p2 = xor(v(-1, 1))  # F, T\n",
    "p3 = xor(v(-1, -1))  # F, F\n",
    "p4 = xor(v(1, -1))  # T, F\n",
    "\n",
    "print(p2.numpy(), p1.numpy())\n",
    "print(p3.numpy(), p4.numpy())"
   ]
  },
  {
   "cell_type": "code",
   "execution_count": null,
   "id": "c070e702",
   "metadata": {},
   "outputs": [],
   "source": []
  },
  {
   "cell_type": "markdown",
   "id": "9b46b7f8",
   "metadata": {},
   "source": [
    "# Matplotlib"
   ]
  },
  {
   "cell_type": "code",
   "execution_count": 22,
   "id": "e197ffdf",
   "metadata": {},
   "outputs": [
    {
     "data": {
      "image/png": "[encoded data removed]",
      "text/plain": [
       "<Figure size 432x288 with 1 Axes>"
      ]
     },
     "metadata": {
      "needs_background": "light"
     },
     "output_type": "display_data"
    }
   ],
   "source": [
    "import matplotlib.pyplot as plt\n",
    "import numpy as np\n",
    "\n",
    "t = np.arange(0.0, 2.0, 0.01)\n",
    "s = 1 + np.sin(2 * np.pi * t)\n",
    "\n",
    "fig, ax = plt.subplots()\n",
    "ax.plot(t, s)\n",
    "\n",
    "ax.set(xlabel='time (s)', ylabel='voltage (mV)',\n",
    "      title='About as simple as it gets, folks')\n",
    "ax.grid()\n",
    "\n",
    "plt.show()"
   ]
  },
  {
   "cell_type": "code",
   "execution_count": null,
   "id": "7235abb8",
   "metadata": {},
   "outputs": [],
   "source": []
  },
  {
   "cell_type": "markdown",
   "id": "1e312550",
   "metadata": {},
   "source": [
    "# Gradient Descent 구현"
   ]
  },
  {
   "cell_type": "code",
   "execution_count": 41,
   "id": "cd9ce970",
   "metadata": {},
   "outputs": [],
   "source": [
    "# 손실 함수 정의 (Analytic)\n",
    "import numpy as np\n",
    "def f(x):\n",
    "    return 0.1*x**4 - 1.5*x**3 + 0.6*x**2 + 1.0*x + 20.0"
   ]
  },
  {
   "cell_type": "code",
   "execution_count": 42,
   "id": "d4040c48",
   "metadata": {},
   "outputs": [],
   "source": [
    "# 손실 함수 미분 정의\n",
    "def df_dx(x):\n",
    "    return 0.4*x**3 - 4.5*x**2 + 1.2*x + 1.0"
   ]
  },
  {
   "cell_type": "code",
   "execution_count": 43,
   "id": "d2349ee5",
   "metadata": {},
   "outputs": [],
   "source": [
    "# 하이퍼 파라미터 정의\n",
    "x = 5\n",
    "eps = 1e-5\n",
    "lr = 0.01\n",
    "max_epoch = 1000"
   ]
  },
  {
   "cell_type": "code",
   "execution_count": 44,
   "id": "1776e3c7",
   "metadata": {},
   "outputs": [],
   "source": [
    "# Gradient Descent 알고리즘 구현\n",
    "min_x = x\n",
    "min_y = f(min_x)\n",
    "for _ in range(max_epoch):\n",
    "    grad = df_dx(x)\n",
    "    new_x = x - lr * grad\n",
    "    y = f(new_x)\n",
    "    \n",
    "    if min_y > y:\n",
    "        min_x = new_x\n",
    "        min_y = y\n",
    "    \n",
    "    if np.abs(x - new_x) < eps:\n",
    "        break\n",
    "        \n",
    "    x = new_x"
   ]
  },
  {
   "cell_type": "code",
   "execution_count": 45,
   "id": "85831b74",
   "metadata": {},
   "outputs": [
    {
     "name": "stdout",
     "output_type": "stream",
     "text": [
      "10.955323272631201 -428.84677390087836\n"
     ]
    }
   ],
   "source": [
    "print(min_x, min_y)"
   ]
  },
  {
   "cell_type": "markdown",
   "id": "bb7d984b",
   "metadata": {},
   "source": [
    "### 알고리즘 결과 Visualization"
   ]
  },
  {
   "cell_type": "code",
   "execution_count": 52,
   "id": "c9d47295",
   "metadata": {},
   "outputs": [],
   "source": [
    "# 위 알고리즘을 함수화\n",
    "def gradient_descent(initial_x, max_epoch=1000, learning_rate=0.01, eps=1e-5):\n",
    "    x = initial_x\n",
    "    \n",
    "    x_log = [x]\n",
    "    \n",
    "    min_x = x\n",
    "    min_y = f(min_x)\n",
    "    for _ in range(max_epoch):\n",
    "        grad = df_dx(x)\n",
    "        new_x = x - learning_rate * grad\n",
    "        y = f(new_x)\n",
    "        \n",
    "        x_log.append(new_x)\n",
    "\n",
    "        if min_y > y:\n",
    "            min_x = new_x\n",
    "            min_y = y\n",
    "\n",
    "        if np.abs(x - new_x) < eps:\n",
    "            break\n",
    "\n",
    "        x = new_x\n",
    "    return min_x, min_y, x_log"
   ]
  },
  {
   "cell_type": "code",
   "execution_count": 53,
   "id": "e74be452",
   "metadata": {},
   "outputs": [],
   "source": [
    "min_x1, min_y1, x_log1 = gradient_descent(5)\n",
    "min_x2, min_y2, x_log2 = gradient_descent(-5)\n",
    "\n",
    "y_log1 = f(np.array(x_log1))\n",
    "y_log2 = f(np.array(x_log2))"
   ]
  },
  {
   "cell_type": "code",
   "execution_count": 54,
   "id": "b8aaee10",
   "metadata": {},
   "outputs": [
    {
     "data": {
      "image/png": "[encoded data removed]",
      "text/plain": [
       "<Figure size 432x288 with 1 Axes>"
      ]
     },
     "metadata": {
      "needs_background": "light"
     },
     "output_type": "display_data"
    }
   ],
   "source": [
    "# visualization\n",
    "import matplotlib.pyplot as plt\n",
    "\n",
    "plt.plot(x_log1, y_log1, '.-')\n",
    "plt.plot(x_log2, y_log2, '.-')\n",
    "plt.show()"
   ]
  },
  {
   "cell_type": "code",
   "execution_count": null,
   "id": "b33cc8bc",
   "metadata": {},
   "outputs": [],
   "source": []
  },
  {
   "cell_type": "code",
   "execution_count": null,
   "id": "4498e3ba",
   "metadata": {},
   "outputs": [],
   "source": []
  },
  {
   "cell_type": "code",
   "execution_count": null,
   "id": "c6c1ba8a",
   "metadata": {},
   "outputs": [],
   "source": []
  }
 ],
 "metadata": {
  "kernelspec": {
   "display_name": "Python 3 (ipykernel)",
   "language": "python",
   "name": "python3"
  },
  "language_info": {
   "codemirror_mode": {
    "name": "ipython",
    "version": 3
   },
   "file_extension": ".py",
   "mimetype": "text/x-python",
   "name": "python",
   "nbconvert_exporter": "python",
   "pygments_lexer": "ipython3",
   "version": "3.8.10"
  }
 },
 "nbformat": 4,
 "nbformat_minor": 5
}
