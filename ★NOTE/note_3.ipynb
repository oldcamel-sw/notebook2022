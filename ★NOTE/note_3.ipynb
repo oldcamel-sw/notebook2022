{
 "cells": [
  {
   "cell_type": "code",
   "execution_count": 2,
   "id": "a01a0a61",
   "metadata": {},
   "outputs": [],
   "source": [
    "import numpy as np\n",
    "import matplotlib.pyplot as plt"
   ]
  },
  {
   "cell_type": "markdown",
   "id": "823cb293",
   "metadata": {},
   "source": [
    "#### np.array / np.arange 함수로 생성하기"
   ]
  },
  {
   "cell_type": "code",
   "execution_count": null,
   "id": "66ee83af",
   "metadata": {},
   "outputs": [],
   "source": [
    "x = np.array([1, 2, 3, 4])\n",
    "print(x)\n",
    "\n",
    "y = np.array([[2, 3, 4], [1, 2, 5]])  # 2행 3열의 행렬\n",
    "print(y)\n",
    "\n",
    "\n",
    "# np.arange는 파이썬의 range함수와 같다.\n",
    "np.arange(1,10,2)"
   ]
  },
  {
   "cell_type": "markdown",
   "id": "120a47ca",
   "metadata": {},
   "source": [
    "#### np.ones, np.zeros로 생성하기"
   ]
  },
  {
   "cell_type": "code",
   "execution_count": null,
   "id": "9d536a99",
   "metadata": {},
   "outputs": [],
   "source": [
    "np.ones((4,5)) # 4행 5열의 모든 원소가 1인 행렬"
   ]
  },
  {
   "cell_type": "code",
   "execution_count": null,
   "id": "bcb2dfbd",
   "metadata": {},
   "outputs": [],
   "source": [
    "np.ones((2, 3, 4)) # 3행 4열의 행렬이 2개가 있다. (3차원)"
   ]
  },
  {
   "cell_type": "markdown",
   "id": "96839776",
   "metadata": {},
   "source": [
    "#### np.empty, np.full로 생성하기"
   ]
  },
  {
   "cell_type": "code",
   "execution_count": null,
   "id": "1a566391",
   "metadata": {},
   "outputs": [],
   "source": [
    "np.empty((3, 4)) # 초기화된 값\n",
    "\n",
    "np.full((3, 4), 7)   # 7로만 이루어진 3행 4열 행렬"
   ]
  },
  {
   "cell_type": "markdown",
   "id": "c2f252f0",
   "metadata": {},
   "source": [
    "#### np.eye로 생성하기\n",
    " - 단위 행렬 생성"
   ]
  },
  {
   "cell_type": "code",
   "execution_count": null,
   "id": "f6b8e075",
   "metadata": {},
   "outputs": [],
   "source": [
    "np.eye(5)  # 5차원 단위행렬"
   ]
  },
  {
   "cell_type": "markdown",
   "id": "aa0d11ba",
   "metadata": {},
   "source": [
    "#### np.linspace로 생성하기"
   ]
  },
  {
   "cell_type": "code",
   "execution_count": null,
   "id": "c6440850",
   "metadata": {},
   "outputs": [],
   "source": [
    "np.linspace(1, 10, 3)  # 1이 시작 10이 끝. 총 3개 숫자가 균일하게 분포되도록\n",
    "\n",
    "np.linspace(1, 10, 4)"
   ]
  },
  {
   "cell_type": "markdown",
   "id": "80bcee57",
   "metadata": {},
   "source": [
    "#### reshape 함수 활용\n",
    " - ndarray의 형태, 차원을 바꾸기 위해 사용"
   ]
  },
  {
   "cell_type": "code",
   "execution_count": null,
   "id": "8dd26d96",
   "metadata": {},
   "outputs": [],
   "source": [
    "x = np.arange(1, 16)\n",
    "print(x)\n",
    "\n",
    "print(x.shape)\n",
    "\n",
    "x.reshape(3, 5)"
   ]
  },
  {
   "cell_type": "markdown",
   "id": "74da6b0f",
   "metadata": {},
   "source": [
    "### random 서브모듈"
   ]
  },
  {
   "cell_type": "markdown",
   "id": "bac3fc35",
   "metadata": {},
   "source": [
    "#### rand 함수\n",
    " - 0, 1사이의 분포로 랜덤한 ndarray 생성"
   ]
  },
  {
   "cell_type": "code",
   "execution_count": 6,
   "id": "cf3020f7",
   "metadata": {},
   "outputs": [
    {
     "data": {
      "text/plain": [
       "array([[0.35588127, 0.72150142, 0.41235904],\n",
       "       [0.85702894, 0.08925251, 0.72866004]])"
      ]
     },
     "execution_count": 6,
     "metadata": {},
     "output_type": "execute_result"
    }
   ],
   "source": [
    "np.random.rand(2, 3)"
   ]
  },
  {
   "cell_type": "markdown",
   "id": "4b964fdc",
   "metadata": {},
   "source": [
    "#### randn함수\n",
    " - n: normal distribution(정규분포)\n",
    " - 정규분포로 샘플링된 랜덤 ndarray 생성"
   ]
  },
  {
   "cell_type": "code",
   "execution_count": null,
   "id": "91043a26",
   "metadata": {},
   "outputs": [],
   "source": [
    "np.random.randn(3, 4)"
   ]
  },
  {
   "cell_type": "markdown",
   "id": "d2bbffeb",
   "metadata": {},
   "source": [
    "#### randint 함수\n",
    " - 특정 정수 사이에서 랜덤하게 샘플링"
   ]
  },
  {
   "cell_type": "code",
   "execution_count": null,
   "id": "e7ad0527",
   "metadata": {},
   "outputs": [],
   "source": [
    "np.random.randint(1, 100, size=(3, 5))"
   ]
  },
  {
   "cell_type": "markdown",
   "id": "9747ffdc",
   "metadata": {},
   "source": [
    "#### seed 함수\n",
    " - 랜덤한 값을 동일하게 다시 생성하고자 할때 사용"
   ]
  },
  {
   "cell_type": "code",
   "execution_count": null,
   "id": "9ec31367",
   "metadata": {},
   "outputs": [],
   "source": [
    "# 한번 랜덤하게 불러온 값을 다시 불러야 할 때..\n",
    "# seed를 실행하고 rand하면 동일한 값을 반환한다.\n",
    "\n",
    "np.random.seed(100)\n",
    "np.random.randn(3, 4)"
   ]
  },
  {
   "cell_type": "markdown",
   "id": "543fb1f0",
   "metadata": {},
   "source": [
    "#### choice\n",
    " - 주어진 1차원 ndarray로 부터 랜덤으로 샘플링\n",
    " - 정수가 주어진 경우, np.arange(해당숫자)로 간주"
   ]
  },
  {
   "cell_type": "code",
   "execution_count": 18,
   "id": "31f343e7",
   "metadata": {},
   "outputs": [
    {
     "data": {
      "text/plain": [
       "array([[15,  7,  6,  5],\n",
       "       [18,  3,  2,  0],\n",
       "       [ 1,  9,  4, 17]])"
      ]
     },
     "execution_count": 18,
     "metadata": {},
     "output_type": "execute_result"
    }
   ],
   "source": [
    "np.random.choice(np.arange(20), (3, 4), replace=False)"
   ]
  },
  {
   "cell_type": "code",
   "execution_count": null,
   "id": "f5a70614",
   "metadata": {},
   "outputs": [],
   "source": [
    "x = np.array([1, 2, 3, 1.5, 2.6, 4.9])\n",
    "np.random.choice(x, size=(2, 2), replace=False)"
   ]
  },
  {
   "cell_type": "markdown",
   "id": "c01fa26e",
   "metadata": {},
   "source": [
    "#### 확률분포에 따른 ndarray 생성\n",
    " - uniform\n",
    " - normal 등등"
   ]
  },
  {
   "cell_type": "code",
   "execution_count": 19,
   "id": "766eedcc",
   "metadata": {},
   "outputs": [
    {
     "data": {
      "text/plain": [
       "array([[2.5244819 , 2.91619018, 2.76356069, 2.91512192, 2.293691  ],\n",
       "       [2.50512586, 1.26713133, 2.57316731, 1.12191276, 2.39620111],\n",
       "       [2.69719533, 1.85114826, 1.36700749, 2.75789852, 1.1474709 ],\n",
       "       [2.26769418, 2.85364402, 1.01715887, 1.23153862, 1.58022786]])"
      ]
     },
     "execution_count": 19,
     "metadata": {},
     "output_type": "execute_result"
    }
   ],
   "source": [
    "np.random.uniform(1.0, 3.0, size=(4, 5))"
   ]
  },
  {
   "cell_type": "code",
   "execution_count": 25,
   "id": "15141609",
   "metadata": {},
   "outputs": [
    {
     "data": {
      "text/plain": [
       "array([[27.89579511, 19.17520113, 22.34271462, 16.39172364],\n",
       "       [11.62470457, 18.27184374, 13.38291042, 33.227166  ],\n",
       "       [16.09654046, 15.8400536 , 12.00955358, 20.46874017]])"
      ]
     },
     "execution_count": 25,
     "metadata": {},
     "output_type": "execute_result"
    }
   ],
   "source": [
    "np.random.normal(loc=20, scale=5, size=(3, 4))  # default는 X ~ N(0, 1)"
   ]
  },
  {
   "cell_type": "markdown",
   "id": "359f6b1a",
   "metadata": {},
   "source": [
    "### 인덱싱\n",
    " - 파이썬 리스트와 동일한 개념으로 사용\n",
    " - ,를 사용하여 각 차원의 인덱스에 접근 가능"
   ]
  },
  {
   "cell_type": "markdown",
   "id": "10b71ffc",
   "metadata": {},
   "source": [
    " * 1차원 벡터 인덱싱"
   ]
  },
  {
   "cell_type": "code",
   "execution_count": null,
   "id": "611a1eb9",
   "metadata": {},
   "outputs": [],
   "source": [
    "x = np.arange(10)\n",
    "print(x)"
   ]
  },
  {
   "cell_type": "code",
   "execution_count": null,
   "id": "ea3943d5",
   "metadata": {},
   "outputs": [],
   "source": [
    "print(x[3])\n",
    "\n",
    "x[3] = 100\n",
    "print(x[3])"
   ]
  },
  {
   "cell_type": "markdown",
   "id": "6721c526",
   "metadata": {},
   "source": [
    "* 2차원 행렬 인덱싱"
   ]
  },
  {
   "cell_type": "code",
   "execution_count": null,
   "id": "1f618185",
   "metadata": {},
   "outputs": [],
   "source": [
    "x = np.arange(10).reshape(2, 5)\n",
    "print(x)"
   ]
  },
  {
   "cell_type": "code",
   "execution_count": null,
   "id": "76340d7f",
   "metadata": {},
   "outputs": [],
   "source": [
    "print(x[0])\n",
    "print(x[0, 2])"
   ]
  },
  {
   "cell_type": "markdown",
   "id": "6b653507",
   "metadata": {},
   "source": [
    "* 3차원 텐서 인덱싱"
   ]
  },
  {
   "cell_type": "code",
   "execution_count": null,
   "id": "64623c27",
   "metadata": {},
   "outputs": [],
   "source": [
    "x = np.arange(36).reshape(3, 4, 3)\n",
    "print(x)"
   ]
  },
  {
   "cell_type": "code",
   "execution_count": null,
   "id": "15ecac25",
   "metadata": {},
   "outputs": [],
   "source": [
    "print(x[0])\n",
    "print(x[0, 2])\n",
    "print(x[0, 2, 1])"
   ]
  },
  {
   "cell_type": "markdown",
   "id": "9da2e791",
   "metadata": {},
   "source": [
    "### 슬라이싱\n",
    " - 리스트, 문자열 slicing과 동일한 개념으로 사용\n",
    " - ,를 사용하여 각 차원 별로 슬라이싱 가능"
   ]
  },
  {
   "cell_type": "markdown",
   "id": "72d0cbe1",
   "metadata": {},
   "source": [
    "* 1차원 벡터 슬라이싱"
   ]
  },
  {
   "cell_type": "code",
   "execution_count": null,
   "id": "0e03a101",
   "metadata": {},
   "outputs": [],
   "source": [
    "x = np.arange(10)"
   ]
  },
  {
   "cell_type": "code",
   "execution_count": null,
   "id": "f81648fe",
   "metadata": {},
   "outputs": [],
   "source": [
    "x[1:7]"
   ]
  },
  {
   "cell_type": "markdown",
   "id": "3f3cfd44",
   "metadata": {},
   "source": [
    "* 2차원 행렬 슬라이싱"
   ]
  },
  {
   "cell_type": "code",
   "execution_count": null,
   "id": "d7f6d3c1",
   "metadata": {},
   "outputs": [],
   "source": [
    "x = np.arange(10).reshape(2, 5)\n",
    "print(x)"
   ]
  },
  {
   "cell_type": "code",
   "execution_count": null,
   "id": "ebec72f0",
   "metadata": {},
   "outputs": [],
   "source": [
    "x[:, 1:4]"
   ]
  },
  {
   "cell_type": "markdown",
   "id": "6f1f78cb",
   "metadata": {},
   "source": [
    "* 3차원 텐서 슬라이싱"
   ]
  },
  {
   "cell_type": "code",
   "execution_count": null,
   "id": "549aae99",
   "metadata": {},
   "outputs": [],
   "source": [
    "x = np.arange(54).reshape(2, 9, 3)\n",
    "print(x)"
   ]
  },
  {
   "cell_type": "code",
   "execution_count": null,
   "id": "80f30e05",
   "metadata": {},
   "outputs": [],
   "source": [
    "x[:1, :2, :]"
   ]
  },
  {
   "cell_type": "markdown",
   "id": "854dc2ab",
   "metadata": {},
   "source": [
    "### ndarray shape 변경하기"
   ]
  },
  {
   "cell_type": "markdown",
   "id": "6a311a2e",
   "metadata": {},
   "source": [
    "#### ravel, np.ravel\n",
    "  - 다차원배열을 1차원으로 변경\n",
    "  - 'order' 파라미터\n",
    "    - 'C' - row 우선 변경\n",
    "    - 'F - column 우선 변경"
   ]
  },
  {
   "cell_type": "code",
   "execution_count": null,
   "id": "81ad081f",
   "metadata": {},
   "outputs": [],
   "source": [
    "x = np.arange(15).reshape(3, 5)\n",
    "print(x)"
   ]
  },
  {
   "cell_type": "code",
   "execution_count": null,
   "id": "40847b08",
   "metadata": {},
   "outputs": [],
   "source": [
    "np.ravel(x)  # 다차원 벡터를 1차원으로 늘려준다."
   ]
  },
  {
   "cell_type": "markdown",
   "id": "f5860add",
   "metadata": {},
   "source": [
    "#### flatten\n",
    " - 다차원 배열을 1차원으로 변경\n",
    " - ravel과의 차이점: copy를 생성하여 변경함(즉 원본 데이터가 아닌 복사본을 반환)\n",
    " - 'order' 파라미터\n",
    "   - 'C' - row 우선 변경\n",
    "   - 'F - column 우선 변경"
   ]
  },
  {
   "cell_type": "code",
   "execution_count": null,
   "id": "cdae91e3",
   "metadata": {},
   "outputs": [],
   "source": [
    "y = np.arange(15).reshape(3, 5)\n",
    "print(y)\n",
    "\n",
    "y.flatten()"
   ]
  },
  {
   "cell_type": "code",
   "execution_count": null,
   "id": "89c7285a",
   "metadata": {},
   "outputs": [],
   "source": [
    "y.flatten(order='F')"
   ]
  },
  {
   "cell_type": "code",
   "execution_count": null,
   "id": "faf7892d",
   "metadata": {},
   "outputs": [],
   "source": []
  },
  {
   "cell_type": "markdown",
   "id": "6a55fd24",
   "metadata": {},
   "source": [
    "## numpy documentation\n",
    " - [numpy 공식 문서 링크](https://www.numpy.org/devdocs/reference/)\n",
    " - numpy에서 제공되는 함수등에 대한 문서"
   ]
  },
  {
   "cell_type": "code",
   "execution_count": 3,
   "id": "c90e8b86",
   "metadata": {},
   "outputs": [
    {
     "name": "stdout",
     "output_type": "stream",
     "text": [
      "[[ 0  1  2  3  4]\n",
      " [ 5  6  7  8  9]\n",
      " [10 11 12 13 14]]\n",
      "[[0.08267486 0.37332628 0.88472009 0.53714752 0.44272639]\n",
      " [0.8084732  0.45862159 0.59406058 0.51979614 0.9232439 ]\n",
      " [0.38677811 0.84126882 0.47504237 0.26233691 0.81039559]]\n"
     ]
    }
   ],
   "source": [
    "x = np.arange(15).reshape(3, 5)\n",
    "y = np.random.rand(15).reshape(3, 5)\n",
    "print(x)\n",
    "print(y)"
   ]
  },
  {
   "cell_type": "markdown",
   "id": "5e8dffa8",
   "metadata": {},
   "source": [
    "#### 연산 함수\n",
    " - add, substract, multiply, divide"
   ]
  },
  {
   "cell_type": "code",
   "execution_count": 4,
   "id": "78402c19",
   "metadata": {},
   "outputs": [
    {
     "data": {
      "text/plain": [
       "array([[ 0.08267486,  1.37332628,  2.88472009,  3.53714752,  4.44272639],\n",
       "       [ 5.8084732 ,  6.45862159,  7.59406058,  8.51979614,  9.9232439 ],\n",
       "       [10.38677811, 11.84126882, 12.47504237, 13.26233691, 14.81039559]])"
      ]
     },
     "execution_count": 4,
     "metadata": {},
     "output_type": "execute_result"
    }
   ],
   "source": [
    "np.add(x, y)  # element-wise add\n",
    "              # 두 행렬의 shape이 다른 경우 불가능!"
   ]
  },
  {
   "cell_type": "markdown",
   "id": "2c34974c",
   "metadata": {},
   "source": [
    "#### 통계 함수\n",
    " - 평균, 분산, 중앙, 최대, 최소값 등등 통계 관련된 함수가 내장"
   ]
  },
  {
   "cell_type": "code",
   "execution_count": 5,
   "id": "994c57b2",
   "metadata": {},
   "outputs": [
    {
     "data": {
      "text/plain": [
       "0.5600408234525531"
      ]
     },
     "execution_count": 5,
     "metadata": {},
     "output_type": "execute_result"
    }
   ],
   "source": [
    "np.mean(y)\n",
    "y.mean()"
   ]
  },
  {
   "cell_type": "code",
   "execution_count": 8,
   "id": "2402632f",
   "metadata": {},
   "outputs": [
    {
     "data": {
      "text/plain": [
       "(0.9232439043856547,\n",
       " 0.05711873132777625,\n",
       " 0.5197961354822342,\n",
       " 0.23899525377667283)"
      ]
     },
     "execution_count": 8,
     "metadata": {},
     "output_type": "execute_result"
    }
   ],
   "source": [
    "np.max(y), np.var(y), np.median(y), np.std(y)"
   ]
  },
  {
   "cell_type": "markdown",
   "id": "1810387f",
   "metadata": {},
   "source": [
    "#### 집계함수\n",
    " - 합계(sum), 누적합계(cumsum) 등등 계산 가능"
   ]
  },
  {
   "cell_type": "code",
   "execution_count": 9,
   "id": "700d6cee",
   "metadata": {},
   "outputs": [
    {
     "data": {
      "text/plain": [
       "array([[0.08267486, 0.37332628, 0.88472009, 0.53714752, 0.44272639],\n",
       "       [0.8084732 , 0.45862159, 0.59406058, 0.51979614, 0.9232439 ],\n",
       "       [0.38677811, 0.84126882, 0.47504237, 0.26233691, 0.81039559]])"
      ]
     },
     "execution_count": 9,
     "metadata": {},
     "output_type": "execute_result"
    }
   ],
   "source": [
    "y"
   ]
  },
  {
   "cell_type": "code",
   "execution_count": 21,
   "id": "24ad2f04",
   "metadata": {},
   "outputs": [
    {
     "data": {
      "text/plain": [
       "array([1.27792617, 1.67321669, 1.95382304, 1.31928057, 2.17636588])"
      ]
     },
     "execution_count": 21,
     "metadata": {},
     "output_type": "execute_result"
    }
   ],
   "source": [
    "np.sum(y)\n",
    "np.sum(y, axis=0) # 열 방향으로 합\n",
    "np.sum(y, axis=1) # 행 방향으로 합"
   ]
  },
  {
   "cell_type": "code",
   "execution_count": 11,
   "id": "8fdb16e0",
   "metadata": {},
   "outputs": [
    {
     "data": {
      "text/plain": [
       "array([0.08267486, 0.45600114, 1.34072123, 1.87786876, 2.32059514,\n",
       "       3.12906834, 3.58768993, 4.18175051, 4.70154664, 5.62479055,\n",
       "       6.01156866, 6.85283747, 7.32787985, 7.59021676, 8.40061235])"
      ]
     },
     "execution_count": 11,
     "metadata": {},
     "output_type": "execute_result"
    }
   ],
   "source": [
    "np.cumsum(y)"
   ]
  },
  {
   "cell_type": "markdown",
   "id": "03cf1424",
   "metadata": {},
   "source": [
    "#### any, all 함수\n",
    " - any: 특정 조건을 만족하는 것이 하나라도 있으면 True, 아니면 False\n",
    " - all: 모든 원소가 특정 조건을 만족한다면 True, 아니면 False"
   ]
  },
  {
   "cell_type": "code",
   "execution_count": 22,
   "id": "946e69e9",
   "metadata": {},
   "outputs": [
    {
     "name": "stdout",
     "output_type": "stream",
     "text": [
      "[-1.16963716 -0.70003498 -0.86770203  0.38018645 -0.4966904   0.85178385\n",
      " -0.19982981 -0.42080078 -0.21464407 -0.17578975]\n"
     ]
    }
   ],
   "source": [
    "z = np.random.randn(10)\n",
    "print(z)"
   ]
  },
  {
   "cell_type": "code",
   "execution_count": 23,
   "id": "fb952748",
   "metadata": {},
   "outputs": [
    {
     "data": {
      "text/plain": [
       "array([False, False, False,  True, False,  True, False, False, False,\n",
       "       False])"
      ]
     },
     "execution_count": 23,
     "metadata": {},
     "output_type": "execute_result"
    }
   ],
   "source": [
    "z > 0"
   ]
  },
  {
   "cell_type": "code",
   "execution_count": 25,
   "id": "f94ecc0f",
   "metadata": {},
   "outputs": [
    {
     "data": {
      "text/plain": [
       "(True, False)"
      ]
     },
     "execution_count": 25,
     "metadata": {},
     "output_type": "execute_result"
    }
   ],
   "source": [
    "np.any(z > 0), np.all(z > 0)"
   ]
  },
  {
   "cell_type": "markdown",
   "id": "7f067ac3",
   "metadata": {},
   "source": [
    "### where 함수 *중요\n",
    " - 조건에 따라 선별적으로 값을 선택 가능\n",
    " - 사용 예) 음수인경우는 0, 나머지는 그대로 값을 쓰는 경우"
   ]
  },
  {
   "cell_type": "code",
   "execution_count": 29,
   "id": "0f9a6d8d",
   "metadata": {},
   "outputs": [
    {
     "name": "stdout",
     "output_type": "stream",
     "text": [
      "[ 0.71599856 -0.76363957 -0.00713545 -0.32118067  0.50560299  0.85707954\n",
      "  1.08324028  0.83260283 -1.49136043 -3.12336618]\n"
     ]
    }
   ],
   "source": [
    "z = np.random.randn(10)\n",
    "print(z)"
   ]
  },
  {
   "cell_type": "code",
   "execution_count": 30,
   "id": "35edb046",
   "metadata": {},
   "outputs": [
    {
     "data": {
      "text/plain": [
       "array([0.71599856, 0.        , 0.        , 0.        , 0.50560299,\n",
       "       0.85707954, 1.08324028, 0.83260283, 0.        , 0.        ])"
      ]
     },
     "execution_count": 30,
     "metadata": {},
     "output_type": "execute_result"
    }
   ],
   "source": [
    "np.where(z > 0, z, 0)  # z가 0보다 크면 z를 쓰고, 아니면 0을 써라"
   ]
  },
  {
   "cell_type": "markdown",
   "id": "390371a1",
   "metadata": {},
   "source": [
    "## 학습목표\n",
    " 1. axis의 이해\n",
    " 2. axis를 파라미터로 갖는 함수 이해하기"
   ]
  },
  {
   "cell_type": "markdown",
   "id": "0f3aa525",
   "metadata": {},
   "source": [
    "#### axis 이해하기\n",
    " - 몇몇 함수에는 axis keyword 파라미터가 존재\n",
    " - axis값이 없는 경우에는 전체 데이터에 대해 적용\n",
    " - axis값이 있는 경우에는, 해당 axis를 **따라서** 연산 적용"
   ]
  },
  {
   "cell_type": "markdown",
   "id": "52b9c933",
   "metadata": {},
   "source": [
    "* axis를 파라미터로 갖는 함수를 이용하기\n",
    " - 거의 대부분의 연산 함수들이 axis 파라미터를 사용\n",
    " - 이 경우, 해당 값이 주어졌을 때, 해당 axis를 **따라서** 연산이 적용\n",
    "   - 따라서 결과는 해당 axis가 제외된 나머지 차원의 데이터만 남게 됨\n",
    " - 예) np.sum, np.mean, np.any 등등\n",
    " "
   ]
  },
  {
   "cell_type": "code",
   "execution_count": 31,
   "id": "8074823d",
   "metadata": {},
   "outputs": [
    {
     "name": "stdout",
     "output_type": "stream",
     "text": [
      "[ 0  1  2  3  4  5  6  7  8  9 10 11 12 13 14]\n"
     ]
    }
   ],
   "source": [
    "x = np.arange(15)\n",
    "print(x)"
   ]
  },
  {
   "cell_type": "markdown",
   "id": "b403f660",
   "metadata": {},
   "source": [
    "* 1차원 데이터에 적용하기"
   ]
  },
  {
   "cell_type": "code",
   "execution_count": 35,
   "id": "ba8a2ba4",
   "metadata": {},
   "outputs": [
    {
     "data": {
      "text/plain": [
       "105"
      ]
     },
     "execution_count": 35,
     "metadata": {},
     "output_type": "execute_result"
    }
   ],
   "source": [
    "np.sum(x)"
   ]
  },
  {
   "cell_type": "markdown",
   "id": "9a14a123",
   "metadata": {},
   "source": [
    "* 행렬에 적용하기"
   ]
  },
  {
   "cell_type": "code",
   "execution_count": 38,
   "id": "f872e54f",
   "metadata": {},
   "outputs": [
    {
     "name": "stdout",
     "output_type": "stream",
     "text": [
      "[[ 0  1  2  3  4]\n",
      " [ 5  6  7  8  9]\n",
      " [10 11 12 13 14]]\n"
     ]
    },
    {
     "data": {
      "text/plain": [
       "(array([15, 18, 21, 24, 27]), array([10, 35, 60]))"
      ]
     },
     "execution_count": 38,
     "metadata": {},
     "output_type": "execute_result"
    }
   ],
   "source": [
    "y = x.reshape(3, 5)\n",
    "print(y)\n",
    "\n",
    "np.sum(y, axis=0), np.sum(y, axis=1)"
   ]
  },
  {
   "cell_type": "markdown",
   "id": "ec0092a1",
   "metadata": {},
   "source": [
    "* 3차원 텐서에 적용하기"
   ]
  },
  {
   "cell_type": "code",
   "execution_count": 42,
   "id": "d61389e4",
   "metadata": {},
   "outputs": [
    {
     "name": "stdout",
     "output_type": "stream",
     "text": [
      "[[[ 0  1  2]\n",
      "  [ 3  4  5]\n",
      "  [ 6  7  8]\n",
      "  [ 9 10 11]]\n",
      "\n",
      " [[12 13 14]\n",
      "  [15 16 17]\n",
      "  [18 19 20]\n",
      "  [21 22 23]]\n",
      "\n",
      " [[24 25 26]\n",
      "  [27 28 29]\n",
      "  [30 31 32]\n",
      "  [33 34 35]]]\n"
     ]
    },
    {
     "data": {
      "text/plain": [
       "(array([[36, 39, 42],\n",
       "        [45, 48, 51],\n",
       "        [54, 57, 60],\n",
       "        [63, 66, 69]]),\n",
       " array([[ 18,  22,  26],\n",
       "        [ 66,  70,  74],\n",
       "        [114, 118, 122]]),\n",
       " array([[  3,  12,  21,  30],\n",
       "        [ 39,  48,  57,  66],\n",
       "        [ 75,  84,  93, 102]]))"
      ]
     },
     "execution_count": 42,
     "metadata": {},
     "output_type": "execute_result"
    }
   ],
   "source": [
    "z = np.arange(36).reshape(3, 4, 3)\n",
    "print(z)\n",
    "\n",
    "np.sum(z, axis=0), np.sum(z, axis=1), np.sum(z, axis=2)"
   ]
  },
  {
   "cell_type": "markdown",
   "id": "d8f74e70",
   "metadata": {},
   "source": [
    "* axis의 값이 튜플일 경우\n",
    " - 해당 튜플에 명시된 모든 axis에 대해서 연산"
   ]
  },
  {
   "cell_type": "code",
   "execution_count": 44,
   "id": "e30a0a30",
   "metadata": {},
   "outputs": [
    {
     "name": "stdout",
     "output_type": "stream",
     "text": [
      "[[[ 0  1  2]\n",
      "  [ 3  4  5]\n",
      "  [ 6  7  8]\n",
      "  [ 9 10 11]]\n",
      "\n",
      " [[12 13 14]\n",
      "  [15 16 17]\n",
      "  [18 19 20]\n",
      "  [21 22 23]]\n",
      "\n",
      " [[24 25 26]\n",
      "  [27 28 29]\n",
      "  [30 31 32]\n",
      "  [33 34 35]]]\n"
     ]
    },
    {
     "data": {
      "text/plain": [
       "array([198, 210, 222])"
      ]
     },
     "execution_count": 44,
     "metadata": {},
     "output_type": "execute_result"
    }
   ],
   "source": [
    "print(z)\n",
    "\n",
    "np.sum(z, axis=(0, 1))"
   ]
  },
  {
   "cell_type": "markdown",
   "id": "11f9a1d7",
   "metadata": {},
   "source": [
    "## 브로드캐스팅\n",
    "  - Shape이 같은 두 ndarray에 대한 연산은 각 원소별로 진행\n",
    "  - 연산되는 두 ndarray가 다른 Shape을 갖는 경우 브로드 캐스팅(Shape을 맞춤) 후 진행\n",
    "    \n",
    "    \n"
   ]
  },
  {
   "cell_type": "markdown",
   "id": "f0ed0628",
   "metadata": {},
   "source": [
    "#### 브로드캐스팅 Rule\n",
    " - [공식문서](https://docs.scipy.org/doc/numpy/user/basics.broadcasting.html#general-broadcasting-rules)\n",
    " - 뒷 차원에서 부터 비교하여 Shape이 같거나, 차원 중 값이 1인 것이 존재하면 가능"
   ]
  },
  {
   "cell_type": "markdown",
   "id": "86a1a145",
   "metadata": {},
   "source": [
    "![브로드캐스팅 예](https://www.tutorialspoint.com/numpy/images/array.jpg)\n",
    "    - 출처: https://www.tutorialspoint.com/numpy/images/array.jpg "
   ]
  },
  {
   "cell_type": "markdown",
   "id": "4ea52cbf",
   "metadata": {},
   "source": [
    "* Shape이 같은 경우의 연산"
   ]
  },
  {
   "cell_type": "code",
   "execution_count": 46,
   "id": "6478d82e",
   "metadata": {},
   "outputs": [
    {
     "name": "stdout",
     "output_type": "stream",
     "text": [
      "[[ 0  1  2  3  4]\n",
      " [ 5  6  7  8  9]\n",
      " [10 11 12 13 14]]\n",
      "[[0.43853534 0.13141368 0.06163429 0.91631364 0.67942243]\n",
      " [0.48748196 0.21759114 0.02535182 0.15693846 0.83683284]\n",
      " [0.96900667 0.84244044 0.23475642 0.30668756 0.5686687 ]]\n"
     ]
    },
    {
     "data": {
      "text/plain": [
       "array([[ 0.43853534,  1.13141368,  2.06163429,  3.91631364,  4.67942243],\n",
       "       [ 5.48748196,  6.21759114,  7.02535182,  8.15693846,  9.83683284],\n",
       "       [10.96900667, 11.84244044, 12.23475642, 13.30668756, 14.5686687 ]])"
      ]
     },
     "execution_count": 46,
     "metadata": {},
     "output_type": "execute_result"
    }
   ],
   "source": [
    "x = np.arange(15).reshape(3, 5)\n",
    "y = np.random.rand(15).reshape(3, 5)\n",
    "print(x)\n",
    "print(y)\n",
    "\n",
    "x + y"
   ]
  },
  {
   "cell_type": "markdown",
   "id": "6d2801a5",
   "metadata": {},
   "source": [
    "* Scalar(상수)와의 연산"
   ]
  },
  {
   "cell_type": "code",
   "execution_count": 48,
   "id": "843c1d7f",
   "metadata": {},
   "outputs": [
    {
     "data": {
      "text/plain": [
       "(array([[ 2,  3,  4,  5,  6],\n",
       "        [ 7,  8,  9, 10, 11],\n",
       "        [12, 13, 14, 15, 16]]),\n",
       " array([[2.19267671, 0.6570684 , 0.30817146, 4.58156818, 3.39711216],\n",
       "        [2.43740981, 1.0879557 , 0.1267591 , 0.78469228, 4.18416419],\n",
       "        [4.84503336, 4.21220218, 1.17378211, 1.53343778, 2.84334352]]))"
      ]
     },
     "execution_count": 48,
     "metadata": {},
     "output_type": "execute_result"
    }
   ],
   "source": [
    "2 + x, 5 * y"
   ]
  },
  {
   "cell_type": "markdown",
   "id": "1d5c40f4",
   "metadata": {},
   "source": [
    "* Shape이 다른 경우 연산"
   ]
  },
  {
   "cell_type": "code",
   "execution_count": 60,
   "id": "542211a7",
   "metadata": {},
   "outputs": [
    {
     "name": "stdout",
     "output_type": "stream",
     "text": [
      "[[ 0  1  2]\n",
      " [ 3  4  5]\n",
      " [ 6  7  8]\n",
      " [ 9 10 11]]\n",
      "[100 101 102]\n",
      "[1000 1001 1002 1003]\n"
     ]
    },
    {
     "data": {
      "text/plain": [
       "array([[100, 102, 104],\n",
       "       [103, 105, 107],\n",
       "       [106, 108, 110],\n",
       "       [109, 111, 113]])"
      ]
     },
     "execution_count": 60,
     "metadata": {},
     "output_type": "execute_result"
    }
   ],
   "source": [
    "a = np.arange(12).reshape(4, 3)\n",
    "b = np.arange(100, 103)\n",
    "c = np.arange(1000, 1004)\n",
    "\n",
    "print(a)\n",
    "print(b)\n",
    "\n",
    "a + b\n",
    "\n",
    "print(c)\n",
    "# a + c는 오류 반환\n",
    "\n",
    "d = b.reshape(1, 3)\n",
    "\n",
    "a + d"
   ]
  },
  {
   "cell_type": "markdown",
   "id": "b4b17833",
   "metadata": {},
   "source": [
    "## Boolean indexing\n",
    "  - ndarry 인덱싱 시, bool 리스트를 전달하여 True인 경우만 필터링\n",
    "\n",
    "* 브로드캐스팅을 활용하여 ndarray로 부터 bool list 얻기\n",
    " - 예) 짝수인 경우만 찾아보기"
   ]
  },
  {
   "cell_type": "code",
   "execution_count": 70,
   "id": "c0206a1b",
   "metadata": {},
   "outputs": [
    {
     "name": "stdout",
     "output_type": "stream",
     "text": [
      "[20 57 22 29 50 25 98 77 37 31]\n"
     ]
    },
    {
     "data": {
      "text/plain": [
       "array([20, 22, 50, 98])"
      ]
     },
     "execution_count": 70,
     "metadata": {},
     "output_type": "execute_result"
    }
   ],
   "source": [
    "x = np.random.randint(1, 100, size=10)\n",
    "print(x)\n",
    "\n",
    "even_mask = x % 2 == 0\n",
    "\n",
    "x[even_mask]"
   ]
  },
  {
   "cell_type": "markdown",
   "id": "a39bbf26",
   "metadata": {},
   "source": [
    "####  다중조건 사용하기\n",
    " - 파이썬 논리 연산지인 and, or, not 키워드 사용 불가\n",
    " - & - AND \n",
    " - | - OR "
   ]
  },
  {
   "cell_type": "code",
   "execution_count": 77,
   "id": "f56d940b",
   "metadata": {},
   "outputs": [
    {
     "data": {
      "text/plain": [
       "array([50, 98])"
      ]
     },
     "execution_count": 77,
     "metadata": {},
     "output_type": "execute_result"
    }
   ],
   "source": [
    "mask = (x > 30) & (x % 2 == 0)\n",
    "\n",
    "x[mask]"
   ]
  },
  {
   "cell_type": "markdown",
   "id": "00c002fc",
   "metadata": {},
   "source": [
    "#### 예제) 2019년 7월 서울 평균기온 데이터\n",
    " - 평균기온이 25도를 넘는 날수는?\n",
    " - 평균기온이 25를 넘는 날의 평균 기온은?"
   ]
  },
  {
   "cell_type": "code",
   "execution_count": 4,
   "id": "cd2ff386",
   "metadata": {},
   "outputs": [],
   "source": [
    "temp = np.array(\n",
    "        [23.9, 24.4, 24.1, 25.4, 27.6, 29.7,\n",
    "         26.7, 25.1, 25.0, 22.7, 21.9, 23.6, \n",
    "         24.9, 25.9, 23.8, 24.7, 25.6, 26.9, \n",
    "         28.6, 28.0, 25.1, 26.7, 28.1, 26.5, \n",
    "         26.3, 25.9, 28.4, 26.1, 27.5, 28.1, 25.8])"
   ]
  },
  {
   "cell_type": "code",
   "execution_count": 7,
   "id": "4b6e001f",
   "metadata": {},
   "outputs": [
    {
     "name": "stdout",
     "output_type": "stream",
     "text": [
      "31\n"
     ]
    },
    {
     "data": {
      "text/plain": [
       "21"
      ]
     },
     "execution_count": 7,
     "metadata": {},
     "output_type": "execute_result"
    }
   ],
   "source": [
    "print(len(temp))\n",
    "\n",
    "np.sum(temp > 25.0)"
   ]
  },
  {
   "cell_type": "code",
   "execution_count": 8,
   "id": "05cc6c62",
   "metadata": {},
   "outputs": [
    {
     "data": {
      "text/plain": [
       "26.857142857142858"
      ]
     },
     "execution_count": 8,
     "metadata": {},
     "output_type": "execute_result"
    }
   ],
   "source": [
    "np.mean(temp[temp > 25.0])"
   ]
  },
  {
   "cell_type": "markdown",
   "id": "e8efd1e1",
   "metadata": {},
   "source": [
    "## 선형대수 연산\n",
    "\n",
    "#### np.linalg.inv\n",
    " - 역행렬을 구할 때 사용\n",
    " - 모든 차원의 값이 같아야 함"
   ]
  },
  {
   "cell_type": "code",
   "execution_count": 13,
   "id": "dea3e17b",
   "metadata": {},
   "outputs": [
    {
     "name": "stdout",
     "output_type": "stream",
     "text": [
      "[[0.58821502 0.43339904 0.30153318]\n",
      " [0.07818363 0.94052306 0.51568472]\n",
      " [0.41208142 0.45403048 0.57209062]]\n"
     ]
    },
    {
     "data": {
      "text/plain": [
       "array([[ 1.00000000e+00, -2.77555756e-17,  0.00000000e+00],\n",
       "       [ 2.22044605e-16,  1.00000000e+00, -2.22044605e-16],\n",
       "       [-2.22044605e-16,  0.00000000e+00,  1.00000000e+00]])"
      ]
     },
     "execution_count": 13,
     "metadata": {},
     "output_type": "execute_result"
    }
   ],
   "source": [
    "x = np.random.rand(3, 3)\n",
    "print(x)\n",
    "\n",
    "x @ np.linalg.inv(x) # 행렬의 곱은 @\n",
    "                     # 행렬 * 역행렬 = 단위행렬\n",
    "\n",
    "# np.matmul(x, np.linalg.inv(x)) 도 행렬의 곱을 반환\n",
    "."
   ]
  },
  {
   "cell_type": "markdown",
   "id": "a4719749",
   "metadata": {},
   "source": [
    "#### np.linalg.solve\n",
    " - Ax = B 형태의 선형대수식 솔루션을 제공\n",
    " - 예제) 호랑이와 홍합의 합 : 25 호랑이 다리와 홍합 다리의 합은 64\n",
    "   - x + y = 25\n",
    "   - 2x + 4y = 64\n",
    "   \n",
    " $$\\begin{pmatrix} 1 & 1 \\\\ 2 & 4 \\end{pmatrix}\\begin{pmatrix} x \\\\ y \\end{pmatrix}= \\begin{pmatrix} 25 \\\\ 64 \\end{pmatrix}$$\n"
   ]
  },
  {
   "cell_type": "code",
   "execution_count": 16,
   "id": "f52f634b",
   "metadata": {},
   "outputs": [
    {
     "name": "stdout",
     "output_type": "stream",
     "text": [
      "[18.  7.]\n"
     ]
    },
    {
     "data": {
      "text/plain": [
       "True"
      ]
     },
     "execution_count": 16,
     "metadata": {},
     "output_type": "execute_result"
    }
   ],
   "source": [
    "a = np.array([[1, 1], [2, 4]])\n",
    "b = np.array([25, 64])\n",
    "\n",
    "x = np.linalg.solve(a, b)\n",
    "print(x)\n",
    "\n",
    "# 답이 맞는지 확인\n",
    "np.allclose(a@x, b)"
   ]
  },
  {
   "cell_type": "markdown",
   "id": "0881b880",
   "metadata": {},
   "source": [
    "## matplotlib 모듈 이용하여 그래프 표현하기"
   ]
  },
  {
   "cell_type": "code",
   "execution_count": 27,
   "id": "84e7bda0",
   "metadata": {},
   "outputs": [],
   "source": [
    "import numpy as np\n",
    "import matplotlib.pyplot as plt\n",
    "%matplotlib inline"
   ]
  },
  {
   "cell_type": "markdown",
   "id": "72101bc1",
   "metadata": {},
   "source": [
    "### 그래프 데이터 생성"
   ]
  },
  {
   "cell_type": "code",
   "execution_count": 29,
   "id": "540be1d4",
   "metadata": {},
   "outputs": [
    {
     "name": "stdout",
     "output_type": "stream",
     "text": [
      "[ 0.  1.  2.  3.  4.  5.  6.  7.  8.  9. 10.]\n",
      "[  2.30164726   3.89857865   9.34349429  14.53313217  21.94519569\n",
      "  33.13436551  41.57446641  55.58503891  75.68542619  91.29397974\n",
      " 112.15172482]\n"
     ]
    }
   ],
   "source": [
    "x = np.linspace(0, 10, 11)\n",
    "y = x ** 2 + x + 2 + np.random.randn(11)\n",
    "\n",
    "print(x)\n",
    "print(y)"
   ]
  },
  {
   "cell_type": "markdown",
   "id": "9eaf1ccb",
   "metadata": {},
   "source": [
    "### 그래프 출력하기\n",
    " - plot함수 (선 그래프), scatter(점 그래프), hist(히스토그램) 등 사용\n",
    "   - 함수의 parameter 혹은 plt의 다른 함수로 그래프 형태 및 설정을 변경 가능\n",
    "   - 기본적으로, x, y에 해당하는 값이 필요"
   ]
  },
  {
   "cell_type": "code",
   "execution_count": 31,
   "id": "9e7bff90",
   "metadata": {},
   "outputs": [
    {
     "data": {
      "text/plain": [
       "[<matplotlib.lines.Line2D at 0x112d739a0>]"
      ]
     },
     "execution_count": 31,
     "metadata": {},
     "output_type": "execute_result"
    },
    {
     "data": {
      "image/png": "[encoded data removed]",
      "text/plain": [
       "<Figure size 432x288 with 1 Axes>"
      ]
     },
     "metadata": {
      "needs_background": "light"
     },
     "output_type": "display_data"
    }
   ],
   "source": [
    "plt.plot(x, y)"
   ]
  },
  {
   "cell_type": "code",
   "execution_count": 21,
   "id": "d3e78914",
   "metadata": {},
   "outputs": [
    {
     "data": {
      "text/plain": [
       "<matplotlib.collections.PathCollection at 0x7ffaa802de50>"
      ]
     },
     "execution_count": 21,
     "metadata": {},
     "output_type": "execute_result"
    },
    {
     "data": {
      "image/png": "[encoded data removed]",
      "text/plain": [
       "<Figure size 432x288 with 1 Axes>"
      ]
     },
     "metadata": {
      "needs_background": "light"
     },
     "output_type": "display_data"
    }
   ],
   "source": [
    "plt.scatter(x, y)"
   ]
  },
  {
   "cell_type": "markdown",
   "id": "c87057fe",
   "metadata": {},
   "source": [
    "### 그래프에 주석 추가 "
   ]
  },
  {
   "cell_type": "markdown",
   "id": "e6efe0a8",
   "metadata": {},
   "source": [
    "* **x, y 축 및 타이틀**"
   ]
  },
  {
   "cell_type": "code",
   "execution_count": 32,
   "id": "7d97084b",
   "metadata": {},
   "outputs": [
    {
     "data": {
      "text/plain": [
       "[<matplotlib.lines.Line2D at 0x112ddca60>]"
      ]
     },
     "execution_count": 32,
     "metadata": {},
     "output_type": "execute_result"
    },
    {
     "data": {
      "image/png": "[encoded data removed]",
      "text/plain": [
       "<Figure size 432x288 with 1 Axes>"
      ]
     },
     "metadata": {
      "needs_background": "light"
     },
     "output_type": "display_data"
    }
   ],
   "source": [
    "plt.xlabel('X values')\n",
    "plt.ylabel('Y values')\n",
    "plt.title('X-Y relation')\n",
    "plt.grid(True)\n",
    "\n",
    "plt.xlim(0, 20)\n",
    "plt.ylim(0, 200)\n",
    "\n",
    "plt.plot(x, y)"
   ]
  },
  {
   "cell_type": "markdown",
   "id": "0bc57596",
   "metadata": {},
   "source": [
    "### plot 함수 parameters\n",
    " - 그래프의 형태에 대한 제어 가능\n",
    " - [plot함수 도큐먼트](https://matplotlib.org/api/pyplot_api.html#matplotlib.pyplot.plot)"
   ]
  },
  {
   "cell_type": "markdown",
   "id": "ca84f30e",
   "metadata": {},
   "source": [
    "* 그래프의 색상 변경"
   ]
  },
  {
   "cell_type": "code",
   "execution_count": 29,
   "id": "c4b34b80",
   "metadata": {},
   "outputs": [
    {
     "data": {
      "text/plain": [
       "[<matplotlib.lines.Line2D at 0x7ffab109aaf0>]"
      ]
     },
     "execution_count": 29,
     "metadata": {},
     "output_type": "execute_result"
    },
    {
     "data": {
      "image/png": "[encoded data removed]",
      "text/plain": [
       "<Figure size 432x288 with 1 Axes>"
      ]
     },
     "metadata": {
      "needs_background": "light"
     },
     "output_type": "display_data"
    }
   ],
   "source": [
    "plt.plot(x, y, 'r')\n",
    "plt.plot(x, y, '#ff00ff')"
   ]
  },
  {
   "cell_type": "markdown",
   "id": "40a8b4f6",
   "metadata": {},
   "source": [
    "* 그래프 선스타일 변경"
   ]
  },
  {
   "cell_type": "code",
   "execution_count": 30,
   "id": "a39731f2",
   "metadata": {},
   "outputs": [
    {
     "data": {
      "text/plain": [
       "[<matplotlib.lines.Line2D at 0x7ffaa06fe070>]"
      ]
     },
     "execution_count": 30,
     "metadata": {},
     "output_type": "execute_result"
    },
    {
     "data": {
      "image/png": "[encoded data removed]",
      "text/plain": [
       "<Figure size 432x288 with 1 Axes>"
      ]
     },
     "metadata": {
      "needs_background": "light"
     },
     "output_type": "display_data"
    }
   ],
   "source": [
    "plt.plot(x, y, '-.')"
   ]
  },
  {
   "cell_type": "markdown",
   "id": "c00aaac3",
   "metadata": {},
   "source": [
    "* 그래프 두께 변경\n",
    " - linewidth 명시"
   ]
  },
  {
   "cell_type": "code",
   "execution_count": 37,
   "id": "1133486c",
   "metadata": {},
   "outputs": [
    {
     "data": {
      "text/plain": [
       "[<matplotlib.lines.Line2D at 0x7ffac02a4ca0>]"
      ]
     },
     "execution_count": 37,
     "metadata": {},
     "output_type": "execute_result"
    },
    {
     "data": {
      "image/png": "[encoded data removed]",
      "text/plain": [
       "<Figure size 432x288 with 1 Axes>"
      ]
     },
     "metadata": {
      "needs_background": "light"
     },
     "output_type": "display_data"
    }
   ],
   "source": [
    "plt.plot(x, y, 'm:', linewidth=9)"
   ]
  },
  {
   "cell_type": "markdown",
   "id": "435fc55b",
   "metadata": {},
   "source": [
    "* keyword parameter 이용하여 모든 속성 설정\n",
    " - https://matplotlib.org/api/pyplot_api.html#matplotlib.pyplot.plot\n",
    " - color\n",
    " - linestyle\n",
    " - marker\n",
    " - markerfacecolor\n",
    " - markersize 등등"
   ]
  },
  {
   "cell_type": "markdown",
   "id": "b95185b4",
   "metadata": {},
   "source": [
    "### subplot으로 여러 그래프 출력하기\n",
    " - subplot함수로 구획을 구별하여 각각의 subplot에 그래프 출력"
   ]
  },
  {
   "cell_type": "code",
   "execution_count": 42,
   "id": "b360a6fe",
   "metadata": {},
   "outputs": [
    {
     "data": {
      "text/plain": [
       "[<matplotlib.lines.Line2D at 0x7ffad1755340>]"
      ]
     },
     "execution_count": 42,
     "metadata": {},
     "output_type": "execute_result"
    },
    {
     "data": {
      "image/png": "[encoded data removed]",
      "text/plain": [
       "<Figure size 432x288 with 4 Axes>"
      ]
     },
     "metadata": {
      "needs_background": "light"
     },
     "output_type": "display_data"
    }
   ],
   "source": [
    "plt.subplot(2, 2, 1)\n",
    "plt.plot(x, y, 'r')\n",
    "\n",
    "plt.subplot(2, 2, 2)\n",
    "plt.plot(x, y, 'g')\n",
    "\n",
    "plt.subplot(2, 2, 3)\n",
    "plt.plot(y, x, 'k')\n",
    "\n",
    "plt.subplot(2, 2, 4)\n",
    "plt.plot(x, np.exp(x), 'b')"
   ]
  },
  {
   "cell_type": "markdown",
   "id": "067d5a2c",
   "metadata": {},
   "source": [
    "### hist함수 사용\n",
    " - histogram 생성\n",
    " - bins로 historgram bar 개수 설정"
   ]
  },
  {
   "cell_type": "code",
   "execution_count": 44,
   "id": "795d1700",
   "metadata": {},
   "outputs": [
    {
     "name": "stdout",
     "output_type": "stream",
     "text": [
      "[22 66 56 10 30 68  9 50 77 48 18 22 84 51 91 62 76 48 98 57 99 77 32 38\n",
      " 14 39 95 70 78 60 16 14 27 68  9 11 64  8 18  3 36 59 50 21 49 66 73 24\n",
      "  8  5 51  3 71 45 80 68 88 18  2  6 54 47 19 17 52 28 85 40 31 17  9  8\n",
      " 99 11 69 68 45 84 93 26 20 55 93  1 49 39  1 18 31 57 33 72 74 83 70 68\n",
      " 13 89 15 50 87 58 72 95 47 67 16 75 82 59 57 34 41 30 52 16 19 35 76 54\n",
      " 71 56 67 61 72  5 62 60 77 75 17 64 77 91 75 62  9 19 84 63 54  9 63 62\n",
      " 88 86 73 73 96 99 38 59 33 61 73 56  7 52 82 92 21 89 91 77 83 45 40 62\n",
      " 76 89 38  4 91 39  9 92 37 79  4 82 14  9 71 43 29 99 99 38 26 55 49 76\n",
      "  1 91 86 86 51 48  8 24]\n"
     ]
    }
   ],
   "source": [
    "data = np.random.randint(1, 100, size=200)\n",
    "print(data)"
   ]
  },
  {
   "cell_type": "code",
   "execution_count": 48,
   "id": "f9334087",
   "metadata": {},
   "outputs": [
    {
     "data": {
      "image/png": "[encoded data removed]",
      "text/plain": [
       "<Figure size 432x288 with 1 Axes>"
      ]
     },
     "metadata": {
      "needs_background": "light"
     },
     "output_type": "display_data"
    }
   ],
   "source": [
    "plt.hist(data, bins=20, alpha=0.3)\n",
    "plt.xlabel('value')\n",
    "plt.ylabel('number')\n",
    "plt.grid(True)"
   ]
  },
  {
   "cell_type": "markdown",
   "id": "ab5904a9",
   "metadata": {},
   "source": [
    "#### 연습문제\n",
    " 1. 로또 번호 자동 생성기(함수로)를 만드시오\n",
    " 2. numpy를 이용하여 pi(원주율) 값을 계산하시오\n",
    "  - 몬테 카를로 방법 이용하기\n",
    "  - [파이 값 구하기](http://mathfaculty.fullerton.edu/mathews/n2003/montecarlopi/MonteCarloPiMod/Images/MonteCarloPiMod_gr_25.gif)\n",
    "  - 이미지 출처: [이미지](http://mathfaculty.fullerton.edu/mathews/n2003/montecarlopi/MonteCarloPiMod/Images/MonteCarloPiMod_gr_25.gif)"
   ]
  },
  {
   "cell_type": "code",
   "execution_count": 60,
   "id": "aa2eaa25",
   "metadata": {},
   "outputs": [
    {
     "data": {
      "text/plain": [
       "array([ 4, 27, 11, 14, 42, 44])"
      ]
     },
     "execution_count": 60,
     "metadata": {},
     "output_type": "execute_result"
    }
   ],
   "source": [
    "def generate_lotto_nums():\n",
    "    return np.random.choice(np.arange(1, 46), size=6, replace=False)\n",
    "    \n",
    "generate_lotto_nums()"
   ]
  },
  {
   "cell_type": "markdown",
   "id": "911d48ce",
   "metadata": {},
   "source": [
    "pi/4 : 1 = (4분원 안에 생성된 점 개수) : 전체  시도 횟수\n",
    "\n",
    "pi = 4 * (4분원 안에 생성된 점 개수) / 1e7"
   ]
  },
  {
   "cell_type": "code",
   "execution_count": 61,
   "id": "b9914f59",
   "metadata": {},
   "outputs": [
    {
     "data": {
      "text/plain": [
       "3.1415392"
      ]
     },
     "execution_count": 61,
     "metadata": {},
     "output_type": "execute_result"
    }
   ],
   "source": [
    "total = int(1e7)\n",
    "points = np.random.rand(total, 2)\n",
    "4 * np.sum(np.sum(points ** 2, axis=1) < 1) / total"
   ]
  }
 ],
 "metadata": {
  "kernelspec": {
   "display_name": "Python 3 (ipykernel)",
   "language": "python",
   "name": "python3"
  },
  "language_info": {
   "codemirror_mode": {
    "name": "ipython",
    "version": 3
   },
   "file_extension": ".py",
   "mimetype": "text/x-python",
   "name": "python",
   "nbconvert_exporter": "python",
   "pygments_lexer": "ipython3",
   "version": "3.8.10"
  }
 },
 "nbformat": 4,
 "nbformat_minor": 5
}
