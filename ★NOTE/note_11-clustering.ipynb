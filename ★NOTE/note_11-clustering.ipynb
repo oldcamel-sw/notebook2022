{
 "cells": [
  {
   "cell_type": "markdown",
   "id": "5acd0a64",
   "metadata": {},
   "source": [
    "# Clustering"
   ]
  },
  {
   "cell_type": "code",
   "execution_count": null,
   "id": "f62bfdfa",
   "metadata": {},
   "outputs": [],
   "source": [
    "from sklearn import datasets\n",
    "import matplotlib.pyplot as plt\n",
    "import pandas as pd\n",
    "from sklearn.cluster import KMeans"
   ]
  },
  {
   "cell_type": "markdown",
   "id": "669242cb",
   "metadata": {},
   "source": [
    "### Iris 데이터를 활용하여 Kmeans clustering"
   ]
  },
  {
   "cell_type": "code",
   "execution_count": null,
   "id": "dcb91258",
   "metadata": {},
   "outputs": [],
   "source": [
    "iris = datasets.load_iris()"
   ]
  },
  {
   "cell_type": "code",
   "execution_count": null,
   "id": "7eb0d8b1",
   "metadata": {},
   "outputs": [],
   "source": [
    "X = iris.data[:, :2]\n",
    "y = iris.target"
   ]
  },
  {
   "cell_type": "code",
   "execution_count": null,
   "id": "d510a502",
   "metadata": {},
   "outputs": [],
   "source": [
    "plt.scatter(X[:,0], X[:,1], c=y, cmap='gist_rainbow')\n",
    "plt.xlabel('Sepal Length', fontsize=18)\n",
    "plt.ylabel('Sepal Width', fontsize=18)"
   ]
  },
  {
   "cell_type": "code",
   "execution_count": null,
   "id": "a28faf1e",
   "metadata": {},
   "outputs": [],
   "source": [
    "km = KMeans(n_clusters = 3, n_jobs = 4, random_state=21)\n",
    "km.fit(X)"
   ]
  },
  {
   "cell_type": "code",
   "execution_count": null,
   "id": "3f025018",
   "metadata": {},
   "outputs": [],
   "source": [
    "centers = km.cluster_centers_\n",
    "print(centers)"
   ]
  },
  {
   "cell_type": "code",
   "execution_count": null,
   "id": "faec8684",
   "metadata": {},
   "outputs": [],
   "source": [
    "new_labels = km.labels_\n",
    "# Plot the identified clusters and compare with the answers\n",
    "fig, axes = plt.subplots(1, 2, figsize=(16,8))\n",
    "axes[0].scatter(X[:, 0], X[:, 1], c=y, cmap='gist_rainbow',\n",
    "edgecolor='k', s=150)\n",
    "axes[1].scatter(X[:, 0], X[:, 1], c=new_labels, cmap='jet',\n",
    "edgecolor='k', s=150)\n",
    "axes[0].set_xlabel('Sepal length', fontsize=18)\n",
    "axes[0].set_ylabel('Sepal width', fontsize=18)\n",
    "axes[1].set_xlabel('Sepal length', fontsize=18)\n",
    "axes[1].set_ylabel('Sepal width', fontsize=18)\n",
    "axes[0].tick_params(direction='in', length=10, width=5, colors='k', labelsize=20)\n",
    "axes[1].tick_params(direction='in', length=10, width=5, colors='k', labelsize=20)\n",
    "axes[0].set_title('Actual', fontsize=18)\n",
    "axes[1].set_title('Predicted', fontsize=18)"
   ]
  },
  {
   "cell_type": "markdown",
   "id": "2ca50eb4",
   "metadata": {},
   "source": [
    "### 2차원의 가상 데이터에 Kmeans clustering"
   ]
  },
  {
   "cell_type": "code",
   "execution_count": null,
   "id": "3a9cb909",
   "metadata": {},
   "outputs": [],
   "source": [
    "from sklearn.datasets import make_blobs\n",
    "# create dataset\n",
    "X, y = make_blobs(\n",
    "   n_samples=150, n_features=2,\n",
    "   centers=3, cluster_std=0.5,\n",
    "   shuffle=True, random_state=0\n",
    ")\n",
    "\n",
    "# plot\n",
    "plt.scatter(\n",
    "   X[:, 0], X[:, 1],\n",
    "   c='white', marker='o',\n",
    "   edgecolor='black', s=50\n",
    ")\n",
    "plt.show()"
   ]
  },
  {
   "cell_type": "code",
   "execution_count": null,
   "id": "c89ba52b",
   "metadata": {},
   "outputs": [],
   "source": [
    "km = KMeans(\n",
    "    n_clusters=3, init='random',\n",
    "    n_init=10, max_iter=300, \n",
    "    tol=1e-04, random_state=0\n",
    ")\n",
    "y_km = km.fit_predict(X)"
   ]
  },
  {
   "cell_type": "code",
   "execution_count": null,
   "id": "7ebe74db",
   "metadata": {},
   "outputs": [],
   "source": [
    "y_km"
   ]
  },
  {
   "cell_type": "code",
   "execution_count": null,
   "id": "b19ffca1",
   "metadata": {},
   "outputs": [],
   "source": [
    "plt.scatter(\n",
    "    X[y_km == 0, 0], X[y_km == 0, 1],\n",
    "    s=50, c='lightgreen',\n",
    "    marker='s', edgecolor='black',\n",
    "    label='cluster 1'\n",
    ")\n",
    "\n",
    "plt.scatter(\n",
    "    X[y_km == 1, 0], X[y_km == 1, 1],\n",
    "    s=50, c='orange',\n",
    "    marker='o', edgecolor='black',\n",
    "    label='cluster 2'\n",
    ")\n",
    "\n",
    "plt.scatter(\n",
    "    X[y_km == 2, 0], X[y_km == 2, 1],\n",
    "    s=50, c='lightblue',\n",
    "    marker='v', edgecolor='black',\n",
    "    label='cluster 3'\n",
    ")\n",
    "\n",
    "# plot the centroids\n",
    "plt.scatter(\n",
    "    km.cluster_centers_[:, 0], km.cluster_centers_[:, 1],\n",
    "    s=250, marker='*',\n",
    "    c='red', edgecolor='black',\n",
    "    label='centroids'\n",
    ")\n",
    "plt.legend(scatterpoints=1)\n",
    "plt.grid()\n",
    "plt.show()"
   ]
  },
  {
   "cell_type": "markdown",
   "id": "a9568945",
   "metadata": {},
   "source": [
    "### k 를 4로 할경우 "
   ]
  },
  {
   "cell_type": "code",
   "execution_count": null,
   "id": "000645c2",
   "metadata": {},
   "outputs": [],
   "source": [
    "km = KMeans(\n",
    "    n_clusters=4, init='random',\n",
    "    n_init=10, max_iter=300, \n",
    "    tol=1e-04, random_state=0\n",
    ")\n",
    "y_km = km.fit_predict(X)"
   ]
  },
  {
   "cell_type": "code",
   "execution_count": null,
   "id": "31c4e958",
   "metadata": {
    "scrolled": true
   },
   "outputs": [],
   "source": [
    "\n",
    "plt.scatter(\n",
    "    X[y_km == 0, 0], X[y_km == 0, 1],\n",
    "    s=50, c='lightgreen',\n",
    "    marker='s', edgecolor='black',\n",
    "    label='cluster 1'\n",
    ")\n",
    "\n",
    "plt.scatter(\n",
    "    X[y_km == 1, 0], X[y_km == 1, 1],\n",
    "    s=50, c='orange',\n",
    "    marker='o', edgecolor='black',\n",
    "    label='cluster 2'\n",
    ")\n",
    "\n",
    "plt.scatter(\n",
    "    X[y_km == 2, 0], X[y_km == 2, 1],\n",
    "    s=50, c='lightblue',\n",
    "    marker='v', edgecolor='black',\n",
    "    label='cluster 3'\n",
    ")\n",
    "\n",
    "\n",
    "plt.scatter(\n",
    "    X[y_km == 3, 0], X[y_km == 3, 1],\n",
    "    s=50, c='lightblue',\n",
    "    marker='d', edgecolor='black',\n",
    "    label='cluster 4'\n",
    ")\n",
    "\n",
    "\n",
    "# plot the centroids\n",
    "plt.scatter(\n",
    "    km.cluster_centers_[:, 0], km.cluster_centers_[:, 1],\n",
    "    s=250, marker='*',\n",
    "    c='red', edgecolor='black',\n",
    "    label='centroids'\n",
    ")\n",
    "plt.legend(scatterpoints=1)\n",
    "plt.grid()\n",
    "plt.show()"
   ]
  },
  {
   "cell_type": "code",
   "execution_count": null,
   "id": "c33cba53",
   "metadata": {},
   "outputs": [],
   "source": [
    "distortions = []\n",
    "for i in range(1, 11):\n",
    "    km = KMeans(\n",
    "        n_clusters=i, init='random',\n",
    "        n_init=10, max_iter=300,\n",
    "        tol=1e-04, random_state=0\n",
    "    )\n",
    "    km.fit(X)\n",
    "    distortions.append(km.inertia_)  # inertia: 군집 내 분산을 의미한다.\n",
    "\n",
    "# plot\n",
    "plt.plot(range(1, 11), distortions, marker='o')\n",
    "plt.xlabel('Number of clusters')\n",
    "plt.ylabel('Distortion')\n",
    "plt.show()"
   ]
  },
  {
   "cell_type": "code",
   "execution_count": null,
   "id": "a825a6c9",
   "metadata": {},
   "outputs": [],
   "source": [
    "from sklearn.feature_extraction.text import TfidfVectorizer\n",
    "from sklearn.cluster import KMeans\n",
    "from sklearn.metrics import adjusted_rand_score\n",
    "\n",
    "documents = [\"This little kitty came to play when I was eating at a restaurant.\",\"hello kitty is my favorite character\",\n",
    "             \"Merley has the best squooshy kitten belly.\",\"Is Google translator so good?\",\"google google\"\n",
    "             \"google Translate app is incredible.\",\"My dog s name is Kong\",\"dog dog dog\",\"cat cat\"\n",
    "             \"If you open 100 tab in google you get a smiley face.\",\"Kong is a very cute and lovely dog\",\n",
    "             \"Best cat photo I've ever taken.\",\"This is a cat house\"\n",
    "             \"Climbing ninja cat kitty.\",\"What's your dog's name?\",\"Cat s paws look like jelly\",\n",
    "             \"Impressed with google map feedback.\",\"I want to join google\",\"You have to wear a collar when you walk the dog\",\n",
    "             \"Key promoter extension for google Chrome.\",\"Google is the best company\",\"Google researcher\"]\n",
    "\n",
    "vectorizer = TfidfVectorizer(stop_words='english')\n",
    "X = vectorizer.fit_transform(documents)\n",
    "\n",
    " "
   ]
  },
  {
   "cell_type": "code",
   "execution_count": null,
   "id": "48443543",
   "metadata": {},
   "outputs": [],
   "source": [
    "# documents를 vectorize한 것이다.\n",
    "X.data"
   ]
  },
  {
   "cell_type": "code",
   "execution_count": null,
   "id": "ef641d72",
   "metadata": {},
   "outputs": [],
   "source": [
    "true_k = 3\n",
    "model = KMeans(n_clusters=true_k, init='k-means++', max_iter=100, n_init=1)\n",
    "model.fit(X)"
   ]
  },
  {
   "cell_type": "code",
   "execution_count": null,
   "id": "ec4615ac",
   "metadata": {},
   "outputs": [],
   "source": [
    "order_centroids = model.cluster_centers_.argsort()[:, ::-1]\n",
    "terms = vectorizer.get_feature_names()"
   ]
  },
  {
   "cell_type": "code",
   "execution_count": null,
   "id": "cd330084",
   "metadata": {},
   "outputs": [],
   "source": [
    "model.labels_"
   ]
  },
  {
   "cell_type": "code",
   "execution_count": null,
   "id": "8949875f",
   "metadata": {},
   "outputs": [],
   "source": [
    "[x for x, y in zip(documents, model.labels_) if  y == 0]"
   ]
  },
  {
   "cell_type": "code",
   "execution_count": null,
   "id": "53184003",
   "metadata": {},
   "outputs": [],
   "source": [
    "[x for x, y in zip(documents, model.labels_) if  y == 1]"
   ]
  },
  {
   "cell_type": "code",
   "execution_count": null,
   "id": "e975c28c",
   "metadata": {},
   "outputs": [],
   "source": [
    "[x for x, y in zip(documents, model.labels_) if  y == 2]"
   ]
  },
  {
   "cell_type": "code",
   "execution_count": null,
   "id": "28a2518e",
   "metadata": {},
   "outputs": [],
   "source": [
    "Y = vectorizer.transform([\"chrome browser to open.\"])\n",
    "prediction = model.predict(Y)\n",
    "print(prediction)\n",
    "\n",
    "Y = vectorizer.transform([\"I want to have a dog\"])\n",
    "prediction = model.predict(Y)\n",
    "print(prediction)\n",
    "\n",
    "Y = vectorizer.transform([\"My cat is hungry.\"])\n",
    "prediction = model.predict(Y)\n",
    "print(prediction)"
   ]
  },
  {
   "cell_type": "code",
   "execution_count": null,
   "id": "2a6df1ec",
   "metadata": {},
   "outputs": [],
   "source": []
  },
  {
   "cell_type": "markdown",
   "id": "373a46f6",
   "metadata": {},
   "source": [
    "# Hierarchical Clustering"
   ]
  },
  {
   "cell_type": "code",
   "execution_count": null,
   "id": "3d32a3f8",
   "metadata": {},
   "outputs": [],
   "source": [
    "import matplotlib.pyplot as plt\n",
    "import pandas as pd\n",
    "import numpy as np"
   ]
  },
  {
   "cell_type": "markdown",
   "id": "31b0910c",
   "metadata": {},
   "source": [
    "### 계층적 군집분석 "
   ]
  },
  {
   "cell_type": "code",
   "execution_count": null,
   "id": "8aa5e224",
   "metadata": {},
   "outputs": [],
   "source": [
    "X = np.array([[5,3],\n",
    "    [10,15],\n",
    "    [15,12],\n",
    "    [24,10],\n",
    "    [30,30],\n",
    "    [85,70],\n",
    "    [71,80],\n",
    "    [60,78],\n",
    "    [70,55],\n",
    "    [80,91],])"
   ]
  },
  {
   "cell_type": "code",
   "execution_count": null,
   "id": "8484b017",
   "metadata": {},
   "outputs": [],
   "source": [
    "import matplotlib.pyplot as plt\n",
    "\n",
    "labels = range(1, 11)\n",
    "plt.figure(figsize=(10, 7))\n",
    "plt.subplots_adjust(bottom=0.1)\n",
    "plt.scatter(X[:,0],X[:,1], label='True Position')\n",
    "\n",
    "for label, x, y in zip(labels, X[:, 0], X[:, 1]):\n",
    "    plt.annotate(\n",
    "        label,\n",
    "        xy=(x, y), xytext=(-3, 3),\n",
    "        textcoords='offset points', ha='right', va='bottom')\n",
    "plt.show()"
   ]
  },
  {
   "cell_type": "code",
   "execution_count": null,
   "id": "9b01d3de",
   "metadata": {},
   "outputs": [],
   "source": [
    "from scipy.cluster.hierarchy import dendrogram, linkage\n",
    "from matplotlib import pyplot as plt\n",
    "\n",
    "linked = linkage(X, 'single')"
   ]
  },
  {
   "cell_type": "code",
   "execution_count": null,
   "id": "c59dcfcd",
   "metadata": {},
   "outputs": [],
   "source": [
    "labelList = range(1, 11)\n",
    "\n",
    "plt.figure(figsize=(10, 7))\n",
    "dendrogram(linked,\n",
    "            orientation='top',\n",
    "            labels=labelList,\n",
    "            distance_sort='descending',\n",
    "            show_leaf_counts=True)\n",
    "plt.show()"
   ]
  },
  {
   "cell_type": "code",
   "execution_count": null,
   "id": "0b6571cd",
   "metadata": {},
   "outputs": [],
   "source": []
  },
  {
   "cell_type": "code",
   "execution_count": null,
   "id": "921e5ede",
   "metadata": {},
   "outputs": [],
   "source": [
    "customer_data = pd.read_csv('/Users/jihun/Desktop/Fastcampus/Part 05~11) Machine Learning/09. 클러스터링/Data/shopping-data.csv')"
   ]
  },
  {
   "cell_type": "code",
   "execution_count": null,
   "id": "191e18bf",
   "metadata": {},
   "outputs": [],
   "source": [
    "customer_data.head()"
   ]
  },
  {
   "cell_type": "code",
   "execution_count": null,
   "id": "36387df0",
   "metadata": {},
   "outputs": [],
   "source": [
    "data = customer_data.iloc[:, 3:5].values"
   ]
  },
  {
   "cell_type": "code",
   "execution_count": null,
   "id": "fa8fe7ff",
   "metadata": {},
   "outputs": [],
   "source": [
    "import scipy.cluster.hierarchy as shc\n",
    "\n",
    "plt.figure(figsize=(10, 7))\n",
    "plt.title(\"Customer Dendograms\")\n",
    "dend = shc.dendrogram(shc.linkage(data, method='ward'))"
   ]
  },
  {
   "cell_type": "code",
   "execution_count": null,
   "id": "195ce28b",
   "metadata": {},
   "outputs": [],
   "source": [
    "from sklearn.cluster import AgglomerativeClustering\n",
    "\n",
    "cluster = AgglomerativeClustering(n_clusters=5, affinity='euclidean', linkage='ward')\n",
    "cluster.fit_predict(data)"
   ]
  },
  {
   "cell_type": "code",
   "execution_count": null,
   "id": "835f8c35",
   "metadata": {
    "scrolled": true
   },
   "outputs": [],
   "source": [
    "plt.figure(figsize=(10, 7))\n",
    "plt.scatter(data[:,0], data[:,1], c=cluster.labels_, cmap='rainbow')"
   ]
  },
  {
   "cell_type": "markdown",
   "id": "9c2c0319",
   "metadata": {},
   "source": [
    "### boston house 집값 데이터\n"
   ]
  },
  {
   "cell_type": "code",
   "execution_count": null,
   "id": "2eea8fbf",
   "metadata": {},
   "outputs": [],
   "source": [
    "# 데이터 불러오기\n",
    "data = pd.read_csv(\"/Users/jihun/Desktop/Fastcampus/Part 05~11) Machine Learning/09. 클러스터링/Data/Boston_house.csv\") \n",
    "\n",
    "'''\n",
    "타겟 데이터\n",
    "1978 보스턴 주택 가격\n",
    "506개 타운의 주택 가격 중앙값 (단위 1,000 달러)\n",
    "\n",
    "특징 데이터\n",
    "CRIM: 범죄율\n",
    "INDUS: 비소매상업지역 면적 비율\n",
    "NOX: 일산화질소 농도\n",
    "RM: 주택당 방 수\n",
    "LSTAT: 인구 중 하위 계층 비율\n",
    "B: 인구 중 흑인 비율\n",
    "PTRATIO: 학생/교사 비율\n",
    "ZN: 25,000 평방피트를 초과 거주지역 비율\n",
    "CHAS: 찰스강의 경계에 위치한 경우는 1, 아니면 0\n",
    "AGE: 1940년 이전에 건축된 주택의 비율\n",
    "RAD: 방사형 고속도로까지의 거리\n",
    "DIS: 직업센터의 거리\n",
    "TAX: 재산세율'''\n",
    "\n",
    "data.head() # 데이터 확인"
   ]
  },
  {
   "cell_type": "code",
   "execution_count": null,
   "id": "cd9fff67",
   "metadata": {},
   "outputs": [],
   "source": [
    "target=data['Target']\n",
    "data = data.drop(['Target'], axis = 1) "
   ]
  },
  {
   "cell_type": "code",
   "execution_count": null,
   "id": "c6f6c0e4",
   "metadata": {},
   "outputs": [],
   "source": [
    "data.shape"
   ]
  },
  {
   "cell_type": "code",
   "execution_count": null,
   "id": "0c90f40e",
   "metadata": {},
   "outputs": [],
   "source": [
    "plt.figure(figsize=(10, 7))\n",
    "plt.title(\"Customer Dendograms\")\n",
    "dend = shc.dendrogram(shc.linkage(data, method='ward'))"
   ]
  },
  {
   "cell_type": "code",
   "execution_count": null,
   "id": "68bcc427",
   "metadata": {},
   "outputs": [],
   "source": [
    "from sklearn.cluster import AgglomerativeClustering\n",
    "\n",
    "cluster = AgglomerativeClustering(n_clusters=2, affinity='euclidean', linkage='ward')\n",
    "cluster.fit_predict(data)"
   ]
  },
  {
   "cell_type": "code",
   "execution_count": null,
   "id": "cda0bfeb",
   "metadata": {},
   "outputs": [],
   "source": [
    "np.mean([x for x, y in zip(target,cluster.fit_predict(data)) if  y == 0])"
   ]
  },
  {
   "cell_type": "code",
   "execution_count": null,
   "id": "8cf93f7b",
   "metadata": {},
   "outputs": [],
   "source": [
    "np.mean([x for x, y in zip(target,cluster.fit_predict(data)) if  y == 1])"
   ]
  },
  {
   "cell_type": "code",
   "execution_count": null,
   "id": "ac298da5",
   "metadata": {},
   "outputs": [],
   "source": [
    "data.iloc[cluster.fit_predict(data)==0,:].describe()"
   ]
  },
  {
   "cell_type": "code",
   "execution_count": null,
   "id": "2a68052d",
   "metadata": {},
   "outputs": [],
   "source": [
    "data.iloc[cluster.fit_predict(data)==1,:].describe()"
   ]
  },
  {
   "cell_type": "code",
   "execution_count": null,
   "id": "e7f8e7c6",
   "metadata": {},
   "outputs": [],
   "source": []
  },
  {
   "cell_type": "markdown",
   "id": "b00feb7a",
   "metadata": {},
   "source": [
    "# DBSCAN"
   ]
  },
  {
   "cell_type": "code",
   "execution_count": null,
   "id": "774182fe",
   "metadata": {},
   "outputs": [],
   "source": [
    "from sklearn import datasets\n",
    "import pandas as pd\n",
    "\n",
    "iris = datasets.load_iris()\n",
    "labels = pd.DataFrame(iris.target)\n",
    "labels.columns=['labels']\n",
    "data = pd.DataFrame(iris.data)\n",
    "data.columns=['Sepal length','Sepal width','Petal length','Petal width']\n",
    "data = pd.concat([data,labels],axis=1)\n",
    "\n",
    "data.head()"
   ]
  },
  {
   "cell_type": "code",
   "execution_count": null,
   "id": "9f3f1b3e",
   "metadata": {},
   "outputs": [],
   "source": [
    "feature = data[['Sepal length','Sepal width','Petal length','Petal width']]\n",
    "feature.head()"
   ]
  },
  {
   "cell_type": "code",
   "execution_count": null,
   "id": "507e79f4",
   "metadata": {
    "scrolled": true
   },
   "outputs": [],
   "source": [
    "from sklearn.cluster import DBSCAN\n",
    "import matplotlib.pyplot  as plt\n",
    "import seaborn as sns\n",
    "\n",
    "# create model and prediction\n",
    "model = DBSCAN(eps=0.5,min_samples=5)\n",
    "predict = pd.DataFrame(model.fit_predict(feature))\n",
    "predict.columns=['predict']\n",
    "\n",
    "# concatenate labels to df as a new column\n",
    "r = pd.concat([feature,predict],axis=1)\n",
    "\n",
    "print(r)"
   ]
  },
  {
   "cell_type": "markdown",
   "id": "a0005143",
   "metadata": {},
   "source": [
    "### DBSCAN 결과 시각화"
   ]
  },
  {
   "cell_type": "code",
   "execution_count": null,
   "id": "0ca30735",
   "metadata": {},
   "outputs": [],
   "source": [
    "#pairplot with Seaborn\n",
    "sns.pairplot(r,hue='predict')\n",
    "plt.show()"
   ]
  },
  {
   "cell_type": "markdown",
   "id": "9a11c86d",
   "metadata": {},
   "source": [
    "### 실제 데이터 시각화"
   ]
  },
  {
   "cell_type": "code",
   "execution_count": null,
   "id": "35ff1e97",
   "metadata": {},
   "outputs": [],
   "source": [
    "#pairplot with Seaborn\n",
    "sns.pairplot(data,hue='labels')\n",
    "plt.show()"
   ]
  },
  {
   "cell_type": "markdown",
   "id": "961f0db8",
   "metadata": {},
   "source": [
    "### Kmeans 결과와 비교 "
   ]
  },
  {
   "cell_type": "code",
   "execution_count": null,
   "id": "6027c759",
   "metadata": {},
   "outputs": [],
   "source": [
    "from sklearn.cluster import KMeans\n",
    "km = KMeans(n_clusters = 3, n_jobs = 4, random_state=21)\n",
    "km.fit(feature)"
   ]
  },
  {
   "cell_type": "code",
   "execution_count": null,
   "id": "c7cf25d9",
   "metadata": {},
   "outputs": [],
   "source": [
    "new_labels =pd.DataFrame(km.labels_)\n",
    "new_labels.columns=['predict']"
   ]
  },
  {
   "cell_type": "code",
   "execution_count": null,
   "id": "bb3b07d9",
   "metadata": {},
   "outputs": [],
   "source": [
    "r2 = pd.concat([feature,new_labels],axis=1)"
   ]
  },
  {
   "cell_type": "code",
   "execution_count": null,
   "id": "f9a3a95e",
   "metadata": {},
   "outputs": [],
   "source": [
    "#pairplot with Seaborn\n",
    "sns.pairplot(r2,hue='predict')\n",
    "plt.show()"
   ]
  },
  {
   "cell_type": "code",
   "execution_count": 2,
   "id": "07b0807f",
   "metadata": {},
   "outputs": [],
   "source": [
    "import numpy as np\n",
    "import matplotlib.pyplot as plt\n",
    "import seaborn as sns\n",
    "import sklearn.cluster as cluster\n",
    "import time\n",
    "%matplotlib inline\n",
    "sns.set_context('poster')\n",
    "sns.set_color_codes()\n",
    "plot_kwds = {'alpha' : 0.25, 's' : 80, 'linewidths':0}"
   ]
  },
  {
   "cell_type": "code",
   "execution_count": 3,
   "id": "1f9163bd",
   "metadata": {},
   "outputs": [],
   "source": [
    "data = np.load('/Users/jihun/Desktop/Fastcampus/Part 05~11) Machine Learning/09. 클러스터링/Data/clusterable_data.npy')"
   ]
  },
  {
   "cell_type": "code",
   "execution_count": null,
   "id": "fda0ac99",
   "metadata": {},
   "outputs": [],
   "source": [
    "plt.scatter(data.T[0], data.T[1], c='b', **plot_kwds)\n",
    "frame = plt.gca()\n",
    "frame.axes.get_xaxis().set_visible(False)\n",
    "frame.axes.get_yaxis().set_visible(False)"
   ]
  },
  {
   "cell_type": "code",
   "execution_count": 6,
   "id": "0c6e9568",
   "metadata": {},
   "outputs": [],
   "source": [
    "def plot_clusters(data, algorithm, args, kwds):\n",
    "    start_time = time.time()\n",
    "    labels = algorithm(*args, **kwds).fit_predict(data)\n",
    "    end_time = time.time()\n",
    "    palette = sns.color_palette('deep', np.unique(labels).max() + 1)\n",
    "    colors = [palette[x] if x >= 0 else (0.0, 0.0, 0.0) for x in labels]\n",
    "    plt.scatter(data.T[0], data.T[1], c=colors, **plot_kwds)\n",
    "    frame = plt.gca()\n",
    "    frame.axes.get_xaxis().set_visible(False)\n",
    "    frame.axes.get_yaxis().set_visible(False)\n",
    "    plt.title('Clusters found by {}'.format(str(algorithm.__name__)), fontsize=24)\n",
    "    plt.text(-0.5, 0.7, 'Clustering took {:.2f} s'.format(end_time - start_time), fontsize=14)"
   ]
  },
  {
   "cell_type": "code",
   "execution_count": null,
   "id": "e2d50a76",
   "metadata": {},
   "outputs": [],
   "source": [
    "plot_clusters(data, cluster.KMeans, (), {'n_clusters':3})"
   ]
  },
  {
   "cell_type": "code",
   "execution_count": null,
   "id": "7e284705",
   "metadata": {},
   "outputs": [],
   "source": [
    "plot_clusters(data, cluster.KMeans, (), {'n_clusters':4})"
   ]
  },
  {
   "cell_type": "code",
   "execution_count": null,
   "id": "8bd1b7ea",
   "metadata": {},
   "outputs": [],
   "source": [
    "plot_clusters(data, cluster.KMeans, (), {'n_clusters':5})"
   ]
  },
  {
   "cell_type": "code",
   "execution_count": null,
   "id": "53cbe2da",
   "metadata": {},
   "outputs": [],
   "source": [
    "plot_clusters(data, cluster.KMeans, (), {'n_clusters':6})"
   ]
  },
  {
   "cell_type": "code",
   "execution_count": null,
   "id": "bea07615",
   "metadata": {},
   "outputs": [],
   "source": [
    "plot_clusters(data, cluster.DBSCAN, (), {'eps':0.020})"
   ]
  },
  {
   "cell_type": "code",
   "execution_count": null,
   "id": "0a34aeb4",
   "metadata": {},
   "outputs": [],
   "source": [
    "plot_clusters(data, cluster.DBSCAN, (), {'eps':0.03})"
   ]
  },
  {
   "cell_type": "code",
   "execution_count": null,
   "id": "2fa14fd2",
   "metadata": {},
   "outputs": [],
   "source": [
    "dbs = DBSCAN(eps=0.03)\n",
    "dbs2=dbs.fit(data)\n"
   ]
  },
  {
   "cell_type": "code",
   "execution_count": null,
   "id": "93215868",
   "metadata": {},
   "outputs": [],
   "source": [
    "dbs2.labels_"
   ]
  },
  {
   "cell_type": "markdown",
   "id": "18b48ef2",
   "metadata": {},
   "source": [
    "### HDBSCAN\n",
    "#### DBSCAN의 발전된 버젼, 하이퍼 파라미터에 덜민감함 "
   ]
  },
  {
   "cell_type": "code",
   "execution_count": 4,
   "id": "7cbe3050",
   "metadata": {},
   "outputs": [],
   "source": [
    "import hdbscan"
   ]
  },
  {
   "cell_type": "code",
   "execution_count": 7,
   "id": "ce8293b0",
   "metadata": {},
   "outputs": [
    {
     "data": {
      "image/png": "[encoded data removed]",
      "text/plain": [
       "<Figure size 432x288 with 1 Axes>"
      ]
     },
     "metadata": {
      "needs_background": "light"
     },
     "output_type": "display_data"
    }
   ],
   "source": [
    "plot_clusters(data, hdbscan.HDBSCAN, (), {'min_cluster_size':45})"
   ]
  },
  {
   "cell_type": "code",
   "execution_count": null,
   "id": "fa71c846",
   "metadata": {},
   "outputs": [],
   "source": []
  }
 ],
 "metadata": {
  "kernelspec": {
   "display_name": "Python 3 (ipykernel)",
   "language": "python",
   "name": "python3"
  },
  "language_info": {
   "codemirror_mode": {
    "name": "ipython",
    "version": 3
   },
   "file_extension": ".py",
   "mimetype": "text/x-python",
   "name": "python",
   "nbconvert_exporter": "python",
   "pygments_lexer": "ipython3",
   "version": "3.8.10"
  }
 },
 "nbformat": 4,
 "nbformat_minor": 5
}
